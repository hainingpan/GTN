{
 "cells": [
  {
   "cell_type": "code",
   "execution_count": null,
   "metadata": {},
   "outputs": [],
   "source": [
    "# This file is to study the fermoionic tensor network (FTN)"
   ]
  },
  {
   "cell_type": "markdown",
   "metadata": {},
   "source": [
    "# API"
   ]
  },
  {
   "cell_type": "code",
   "execution_count": 1,
   "metadata": {
    "metadata": {}
   },
   "outputs": [],
   "source": [
    "from sympy import *\n",
    "from sympy.physics.quantum import *"
   ]
  },
  {
   "cell_type": "code",
   "execution_count": 2,
   "metadata": {
    "metadata": {}
   },
   "outputs": [],
   "source": [
    "from tqdm import tqdm"
   ]
  },
  {
   "cell_type": "code",
   "execution_count": 3,
   "metadata": {
    "metadata": {}
   },
   "outputs": [],
   "source": [
    "import numpy as np"
   ]
  },
  {
   "cell_type": "markdown",
   "metadata": {},
   "source": [
    "## Recursive apply"
   ]
  },
  {
   "cell_type": "code",
   "execution_count": 4,
   "metadata": {
    "metadata": {}
   },
   "outputs": [],
   "source": [
    "def recursiveapply(expr,subs):\n",
    "    expr1=expr.subs(subs)\n",
    "    counter=0\n",
    "    while not expr1== expr:\n",
    "        expr=expr1\n",
    "        expr1=expr.subs(subs).expand()\n",
    "        counter+=1\n",
    "        # print(expr1)\n",
    "    return expr1"
   ]
  },
  {
   "cell_type": "markdown",
   "metadata": {},
   "source": [
    "## Variables"
   ]
  },
  {
   "cell_type": "code",
   "execution_count": 5,
   "metadata": {
    "metadata": {}
   },
   "outputs": [],
   "source": [
    "g={i:Operator('\\gamma_{}'.format(i)) for i in range(8)}\n",
    "eta={i:Operator('\\eta_{}'.format(i)) for i in range(8)}\n",
    "xi={i:Operator(r'\\xi_{}'.format(i)) for i in range(8)}"
   ]
  },
  {
   "cell_type": "code",
   "execution_count": 6,
   "metadata": {
    "metadata": {}
   },
   "outputs": [],
   "source": [
    "c={label:Operator(f'c_{label}') for label in ['xi','eta','g']+list(range(4))}"
   ]
  },
  {
   "cell_type": "code",
   "execution_count": null,
   "metadata": {},
   "outputs": [],
   "source": []
  },
  {
   "cell_type": "markdown",
   "metadata": {},
   "source": [
    "## Rules"
   ]
  },
  {
   "cell_type": "markdown",
   "metadata": {},
   "source": [
    "### Keeps only external leg"
   ]
  },
  {
   "cell_type": "code",
   "execution_count": 7,
   "metadata": {
    "metadata": {}
   },
   "outputs": [],
   "source": [
    "external_leg=[(x,0) for x in list(g.values())+list(eta.values())]"
   ]
  },
  {
   "cell_type": "markdown",
   "metadata": {},
   "source": [
    "## Keep only non variable, for trace"
   ]
  },
  {
   "cell_type": "code",
   "execution_count": 8,
   "metadata": {
    "metadata": {}
   },
   "outputs": [],
   "source": [
    "constant_only=[(x,0) for x in list(xi.values())+list(eta.values())]"
   ]
  },
  {
   "cell_type": "code",
   "execution_count": 9,
   "metadata": {
    "metadata": {}
   },
   "outputs": [],
   "source": [
    "constant_gamma_only=[(x,0) for x in g.values()]"
   ]
  },
  {
   "cell_type": "markdown",
   "metadata": {},
   "source": [
    "### normal order "
   ]
  },
  {
   "cell_type": "code",
   "execution_count": 10,
   "metadata": {
    "metadata": {}
   },
   "outputs": [],
   "source": [
    "selfadjoint=[(Dagger(gi),gi) for gi in list(g.values())+list(eta.values())+list(xi.values())]\n",
    "normalorder=[gi[i] for gi in [xi,eta,g] for i in range(len(g))]\n",
    "normalorder2=[(normalorder[j]*normalorder[i],-normalorder[i]*normalorder[j])  if j>i else (normalorder[j]*normalorder[i],1) for i in range(len(normalorder)) for j in range(i,len(normalorder))]"
   ]
  },
  {
   "cell_type": "code",
   "execution_count": 11,
   "metadata": {
    "metadata": {}
   },
   "outputs": [],
   "source": [
    "normalorder_C=[element for pair in zip([Dagger(c[i]) for i in range(4)], [c[i] for i in range(4)]) for element in pair]\n",
    "\n",
    "normalorder_C_dag=[Dagger(c[i]) for i in range(4)]\n",
    "normalorder_C=[(c[i]) for i in range(4)]"
   ]
  },
  {
   "cell_type": "code",
   "execution_count": 12,
   "metadata": {
    "metadata": {}
   },
   "outputs": [],
   "source": [
    "normalorder2_C=[(normalorder_C_dag[i]*normalorder_C_dag[j],-normalorder_C_dag[j]*normalorder_C_dag[i],) if j>i else (normalorder_C_dag[i]*normalorder_C_dag[j],0) for i in range(len(normalorder_C_dag)) for j in range(i,len(normalorder_C_dag))]+[(normalorder_C[i]*normalorder_C[j],-normalorder_C[j]*normalorder_C[i]) if j>i else (normalorder_C[i]*normalorder_C[j],0) for i in range(len(normalorder_C)) for j in range(i,len(normalorder_C))]+[(normalorder_C[i]*normalorder_C_dag[j],-normalorder_C_dag[j]*normalorder_C[i]) if j!=i else (normalorder_C[i]*normalorder_C_dag[j],1-normalorder_C_dag[j]*normalorder_C[i]) for i in range(len(normalorder_C)) for j in range(len(normalorder_C))]"
   ]
  },
  {
   "cell_type": "code",
   "execution_count": 13,
   "metadata": {
    "metadata": {}
   },
   "outputs": [],
   "source": [
    "c2g=[(c['xi'],(xi[0]-I*xi[1])/2),\n",
    "(c['eta'],(eta[0]-I*eta[1])/2),\n",
    "(c['g'],(g[0]-I*g[1])/2),\n",
    "(Dagger(c['xi']),(xi[0]+I*xi[1])/2),\n",
    "(Dagger(c['eta']),(eta[0]+I*eta[1])/2),\n",
    "(Dagger(c['g']),(g[0]+I*g[1])/2),\n",
    "(c[0],(g[0]-I*g[1])/2),\n",
    "(c[1],(g[2]-I*g[3])/2),\n",
    "(c[2],(g[4]-I*g[5])/2),\n",
    "(c[3],(g[6]-I*g[7])/2),\n",
    "]"
   ]
  },
  {
   "cell_type": "code",
   "execution_count": 14,
   "metadata": {
    "metadata": {}
   },
   "outputs": [],
   "source": [
    "# rho=(1+Dagger(c['xi'])*Dagger(c['eta']))*(c['xi']*Dagger(c['xi'])*c['eta']*Dagger(c['eta']))*(1+c['eta']*c['xi'])\n",
    "# rho=(Dagger(c['xi'])*Dagger(c['eta']))*(c['xi']*Dagger(c['xi'])*c['eta']*Dagger(c['eta']))*(c['eta']*c['xi'])\n",
    "rho=((c['xi']*Dagger(c['xi'])*Dagger(c['eta'])*(c['eta']))+\n",
    "Dagger(c['xi'])*(c['xi']))*(c['eta']*Dagger(c['eta'])\n",
    ")\n"
   ]
  },
  {
   "cell_type": "code",
   "execution_count": 15,
   "metadata": {
    "metadata": {}
   },
   "outputs": [],
   "source": [
    "rho_P0=c['xi']*Dagger(c['xi'])*Dagger(c['eta'])*c['eta']\n",
    "rho_P1=Dagger(c['xi'])*c['xi']*c['eta']*Dagger(c['eta'])\n",
    "\n",
    "\n",
    "rho=rho_P0+rho_P1+Dagger(c['eta'])*c['xi']+Dagger(c['xi'])*c['eta']\n",
    "\n",
    "rho_X=c['xi']*Dagger(c['xi']) * c['eta']*Dagger(c['eta']) + Dagger(c['xi'])*c['xi'] * Dagger(c['eta'])*c['eta'] + c['xi']*c['eta'] + Dagger(c['eta'])*Dagger(c['xi'])"
   ]
  },
  {
   "cell_type": "markdown",
   "metadata": {},
   "source": [
    "### Replace variables"
   ]
  },
  {
   "cell_type": "code",
   "execution_count": 16,
   "metadata": {
    "metadata": {}
   },
   "outputs": [],
   "source": [
    "gamma_xi=[(g[idx],xi[idx]) for idx in range(8)]"
   ]
  },
  {
   "cell_type": "markdown",
   "metadata": {},
   "source": [
    "# Density matrix"
   ]
  },
  {
   "cell_type": "code",
   "execution_count": 17,
   "metadata": {
    "metadata": {}
   },
   "outputs": [],
   "source": [
    "def state_to_dm(state,rule=normalorder2):\n",
    "    return recursiveapply((state*Dagger(state)).subs(selfadjoint).expand(),rule)"
   ]
  },
  {
   "cell_type": "markdown",
   "metadata": {},
   "source": [
    "# Apply to same hilbert space to recover"
   ]
  },
  {
   "cell_type": "code",
   "execution_count": 18,
   "metadata": {
    "metadata": {}
   },
   "outputs": [],
   "source": [
    "def apply_same(op,state,rule=normalorder2):\n",
    "    return recursiveapply((op*state).expand(),rule)"
   ]
  },
  {
   "cell_type": "markdown",
   "metadata": {},
   "source": [
    "# Apply to different Hilbert space to contract"
   ]
  },
  {
   "cell_type": "code",
   "execution_count": 19,
   "metadata": {
    "metadata": {}
   },
   "outputs": [],
   "source": [
    "p=(1+I*g[0]*eta[0])/2 * (1+I*g[1]*eta[1])/2"
   ]
  },
  {
   "cell_type": "code",
   "execution_count": 20,
   "metadata": {
    "metadata": {}
   },
   "outputs": [],
   "source": [
    "def apply_diff(op,state,p=p,rule=normalorder2,external=None):\n",
    "    '''apply M\\otimes I |EPR> to the state and contract.\n",
    "    the final results will be suppressed to show only external leg'''\n",
    "\n",
    "    rs= recursiveapply((p*op*state).expand(),rule)\n",
    "    if external is not None:\n",
    "        return rs.subs(external)\n",
    "    else:\n",
    "        return rs\n",
    "\n"
   ]
  },
  {
   "cell_type": "markdown",
   "metadata": {},
   "source": [
    "# Covariance matrix represent"
   ]
  },
  {
   "cell_type": "code",
   "execution_count": 21,
   "metadata": {
    "metadata": {}
   },
   "outputs": [],
   "source": [
    "def parity_basis(op,basis):\n",
    "    assert len(basis)==2, f'len {len(basis)} != 2'\n",
    "    assert basis[0]!=basis[1], 'two bases should be different'\n",
    "    return recursiveapply((I*basis[0]*basis[1]*state_to_dm(op)).expand(),normalorder2)\n",
    "    \n"
   ]
  },
  {
   "cell_type": "code",
   "execution_count": null,
   "metadata": {},
   "outputs": [],
   "source": [
    "op_p0.subs(gamma_xi)*epr"
   ]
  },
  {
   "cell_type": "code",
   "execution_count": 224,
   "metadata": {},
   "outputs": [
    {
     "data": {
      "text/latex": [
       "$\\displaystyle \\frac{1}{2} + \\frac{i \\gamma_{0} \\gamma_{1}}{2}$"
      ],
      "text/plain": [
       "1/2 + I*\\gamma_0*\\gamma_1/2"
      ]
     },
     "execution_count": 224,
     "metadata": {},
     "output_type": "execute_result"
    }
   ],
   "source": [
    "parity_basis(parity[0],[g[0],g[1]])"
   ]
  },
  {
   "cell_type": "code",
   "execution_count": null,
   "metadata": {},
   "outputs": [],
   "source": []
  },
  {
   "cell_type": "code",
   "execution_count": null,
   "metadata": {
    "metadata": {}
   },
   "outputs": [],
   "source": [
    "state_to_dm(EPR0(eta[0],xi[0]))"
   ]
  },
  {
   "cell_type": "code",
   "execution_count": null,
   "metadata": {},
   "outputs": [],
   "source": [
    "state_to_dm(EPR0(eta[1],xi[1]))"
   ]
  },
  {
   "cell_type": "code",
   "execution_count": null,
   "metadata": {},
   "outputs": [],
   "source": [
    "parity_basis(op_p0.subs(gamma_xi)*epr,[xi[0],xi[1]])"
   ]
  },
  {
   "cell_type": "code",
   "execution_count": null,
   "metadata": {},
   "outputs": [],
   "source": [
    "parity_basis(op_p0.subs(gamma_xi)*epr,[eta[0],eta[1]])"
   ]
  },
  {
   "cell_type": "code",
   "execution_count": null,
   "metadata": {},
   "outputs": [],
   "source": [
    "parity_basis(op_p0.subs(gamma_xi)*epr,[xi[0],eta[0]])"
   ]
  },
  {
   "cell_type": "code",
   "execution_count": null,
   "metadata": {},
   "outputs": [],
   "source": [
    "parity_basis(op_p0.subs(gamma_xi)*epr,[xi[0],eta[1]])"
   ]
  },
  {
   "cell_type": "code",
   "execution_count": null,
   "metadata": {},
   "outputs": [],
   "source": [
    "parity_basis(op_id*epr,[xi[0],xi[1]])"
   ]
  },
  {
   "cell_type": "code",
   "execution_count": null,
   "metadata": {},
   "outputs": [],
   "source": [
    "parity_basis(op_id*epr,[eta[0],eta[1]])"
   ]
  },
  {
   "cell_type": "code",
   "execution_count": null,
   "metadata": {},
   "outputs": [],
   "source": [
    "parity_basis(op_id*epr,[xi[0],eta[1]])"
   ]
  },
  {
   "cell_type": "code",
   "execution_count": null,
   "metadata": {},
   "outputs": [],
   "source": [
    "parity_basis(op_id*epr,[eta[0],xi[1]])"
   ]
  },
  {
   "cell_type": "code",
   "execution_count": null,
   "metadata": {},
   "outputs": [],
   "source": [
    "parity_basis(op_id*epr,[eta[0],xi[0]])"
   ]
  },
  {
   "cell_type": "code",
   "execution_count": null,
   "metadata": {},
   "outputs": [],
   "source": [
    "parity_basis(op_id*epr,[eta[1],xi[1]])"
   ]
  },
  {
   "cell_type": "code",
   "execution_count": null,
   "metadata": {},
   "outputs": [],
   "source": []
  },
  {
   "cell_type": "code",
   "execution_count": null,
   "metadata": {},
   "outputs": [],
   "source": [
    "parity_basis(op_z*epr,[eta[0],xi[0]])"
   ]
  },
  {
   "cell_type": "code",
   "execution_count": null,
   "metadata": {},
   "outputs": [],
   "source": [
    "parity_basis(op_z*epr,[eta[0],xi[1]])"
   ]
  },
  {
   "cell_type": "code",
   "execution_count": null,
   "metadata": {},
   "outputs": [],
   "source": [
    "state_to_dm(op_z*epr)"
   ]
  },
  {
   "cell_type": "code",
   "execution_count": null,
   "metadata": {},
   "outputs": [],
   "source": [
    "state_to_dm(op_id*epr)"
   ]
  },
  {
   "cell_type": "code",
   "execution_count": null,
   "metadata": {},
   "outputs": [],
   "source": [
    "(I*basis[0]*basis[1]*state_to_dm(op)).expand()"
   ]
  },
  {
   "cell_type": "code",
   "execution_count": null,
   "metadata": {},
   "outputs": [],
   "source": [
    "state_to_dm((cosh(a)-sinh(a)*I*xi[0]*xi[1])*epr)"
   ]
  },
  {
   "cell_type": "code",
   "execution_count": null,
   "metadata": {},
   "outputs": [],
   "source": [
    "(cosh(a)-sinh(a)*I*xi[0]*xi[1])*state_to_dm(epr)*(cosh(conjugate(a))-sinh(conjugate(a))*I*xi[0]*xi[1])"
   ]
  },
  {
   "cell_type": "code",
   "execution_count": null,
   "metadata": {},
   "outputs": [],
   "source": [
    "dm_K=recursiveapply(((cosh(a)-sinh(a)*I*xi[0]*xi[1])*state_to_dm(epr)*(cosh(conjugate(a))-sinh(conjugate(a))*I*xi[0]*xi[1])).expand(),normalorder2)"
   ]
  },
  {
   "cell_type": "code",
   "execution_count": null,
   "metadata": {},
   "outputs": [],
   "source": [
    "dm_K"
   ]
  },
  {
   "cell_type": "code",
   "execution_count": null,
   "metadata": {},
   "outputs": [],
   "source": [
    "recursiveapply((I*xi[0]*xi[1]*dm_K).expand(),normalorder2).subs(external_leg)"
   ]
  },
  {
   "cell_type": "code",
   "execution_count": null,
   "metadata": {},
   "outputs": [],
   "source": [
    "recursiveapply((I*xi[0]*eta[0]*dm_K).expand(),normalorder2).subs(external_leg)"
   ]
  },
  {
   "cell_type": "code",
   "execution_count": null,
   "metadata": {},
   "outputs": [],
   "source": [
    "recursiveapply((I*xi[0]*eta[1]*dm_K).expand(),normalorder2).subs(external_leg)"
   ]
  },
  {
   "cell_type": "code",
   "execution_count": null,
   "metadata": {},
   "outputs": [],
   "source": []
  },
  {
   "cell_type": "code",
   "execution_count": null,
   "metadata": {},
   "outputs": [],
   "source": [
    "parity_basis(dm_K,[xi[0],eta[1]])"
   ]
  },
  {
   "cell_type": "code",
   "execution_count": null,
   "metadata": {},
   "outputs": [],
   "source": [
    "parity[0]"
   ]
  },
  {
   "cell_type": "code",
   "execution_count": null,
   "metadata": {},
   "outputs": [],
   "source": [
    "dm_P0P1=recursiveapply(((1+I*xi[0]*xi[1])/2*state_to_dm(epr)*(1-I*xi[0]*xi[1])/2).expand(),normalorder2)"
   ]
  },
  {
   "cell_type": "code",
   "execution_count": null,
   "metadata": {},
   "outputs": [],
   "source": [
    "dm_P1P0=recursiveapply(((1-I*xi[0]*xi[1])/2*state_to_dm(epr)*(1+I*xi[0]*xi[1])/2).expand(),normalorder2)"
   ]
  },
  {
   "cell_type": "code",
   "execution_count": null,
   "metadata": {},
   "outputs": [],
   "source": [
    "dm_P0P1"
   ]
  },
  {
   "cell_type": "code",
   "execution_count": null,
   "metadata": {},
   "outputs": [],
   "source": [
    "recursiveapply((I*xi[0]*xi[1]*dm_P0P1).expand(),normalorder2).subs(external_leg)"
   ]
  },
  {
   "cell_type": "code",
   "execution_count": null,
   "metadata": {},
   "outputs": [],
   "source": [
    "recursiveapply((I*xi[0]*eta[0]*dm_P0P1).expand(),normalorder2).subs(external_leg)"
   ]
  },
  {
   "cell_type": "code",
   "execution_count": null,
   "metadata": {},
   "outputs": [],
   "source": [
    "recursiveapply((I*eta[0]*xi[0]*dm_P1P0).expand(),normalorder2).subs(external_leg)"
   ]
  },
  {
   "cell_type": "code",
   "execution_count": null,
   "metadata": {},
   "outputs": [],
   "source": [
    "recursiveapply((I*eta[1]*xi[1]*dm_P1P0).expand(),normalorder2).subs(external_leg)"
   ]
  },
  {
   "cell_type": "code",
   "execution_count": null,
   "metadata": {},
   "outputs": [],
   "source": [
    "recursiveapply((I*xi[0]*eta[1]*dm_P0P1).expand(),normalorder2).subs(external_leg)"
   ]
  },
  {
   "cell_type": "code",
   "execution_count": null,
   "metadata": {},
   "outputs": [],
   "source": [
    "recursiveapply((I*xi[0]*eta[1]*dm_P1P0).expand(),normalorder2).subs(external_leg)"
   ]
  },
  {
   "cell_type": "code",
   "execution_count": null,
   "metadata": {},
   "outputs": [],
   "source": [
    "recursiveapply((parity[1]*parity[0]).expand(),normalorder2)"
   ]
  },
  {
   "cell_type": "code",
   "execution_count": null,
   "metadata": {},
   "outputs": [],
   "source": [
    "EPR0(g[0],g[1])* EPR0(g[2],-g[3])"
   ]
  },
  {
   "cell_type": "code",
   "execution_count": null,
   "metadata": {},
   "outputs": [],
   "source": [
    "(EPR0(g[0],g[1])* EPR0(g[2],-g[3]) + EPR0(g[2],g[3])* EPR0(g[0],-g[1])).expand()"
   ]
  },
  {
   "cell_type": "code",
   "execution_count": null,
   "metadata": {},
   "outputs": [],
   "source": []
  },
  {
   "cell_type": "markdown",
   "metadata": {},
   "source": [
    "## Class A op"
   ]
  },
  {
   "cell_type": "code",
   "execution_count": null,
   "metadata": {},
   "outputs": [],
   "source": [
    "state_to_dm(epr)"
   ]
  },
  {
   "cell_type": "code",
   "execution_count": null,
   "metadata": {},
   "outputs": [],
   "source": [
    "(1+a* op_plus).subs(gamma_xi)"
   ]
  },
  {
   "cell_type": "code",
   "execution_count": null,
   "metadata": {},
   "outputs": [],
   "source": [
    "rs=I*eta[0]*eta[0]*((1+a* op_plus).subs(gamma_xi) * rho_epr4 * (1+a* op_plus).subs(gamma_xi))"
   ]
  },
  {
   "cell_type": "code",
   "execution_count": null,
   "metadata": {},
   "outputs": [],
   "source": [
    "rs2=recursiveapply(rs.expand(),normalorder2)"
   ]
  },
  {
   "cell_type": "code",
   "execution_count": null,
   "metadata": {},
   "outputs": [],
   "source": [
    "rs2.subs(constant_only)*16"
   ]
  },
  {
   "cell_type": "code",
   "execution_count": null,
   "metadata": {},
   "outputs": [],
   "source": [
    "op_K=(1+a* op_plus).subs(gamma_xi)\n",
    "op_dm=recursiveapply(( op_K* rho_epr4 * op_K).expand(),normalorder2)"
   ]
  },
  {
   "cell_type": "code",
   "execution_count": null,
   "metadata": {},
   "outputs": [],
   "source": [
    "op_dm"
   ]
  },
  {
   "cell_type": "code",
   "execution_count": null,
   "metadata": {},
   "outputs": [],
   "source": [
    "ij_list=[(i,j) for i in range(8) for j in range(i+1,8)]\n"
   ]
  },
  {
   "cell_type": "code",
   "execution_count": null,
   "metadata": {},
   "outputs": [],
   "source": [
    "Gamma = zeros(8, 8)\n",
    "order=[eta[i] for i in range(4)] + [xi[i] for i in range(4)]\n",
    "ij_list=[(i,j) for i in range(8) for j in range(i+1,8)]\n",
    "# op_K=(1+a* op_plus).subs(gamma_xi)\n",
    "\n",
    "op_K=op_u.subs(gamma_xi)\n",
    "op_dm=recursiveapply(( op_K* rho_epr4 * Dagger(op_K)).expand().subs(selfadjoint),normalorder2)\n",
    "for i,j in tqdm(ij_list):\n",
    "        rs=I*order[i]*order[j]*( op_dm)\n",
    "        matel=recursiveapply(rs.expand(),normalorder2).subs(constant_only)*16\n",
    "        matel=matel.simplify()\n",
    "        Gamma[i,j]=matel\n",
    "        Gamma[j,i]=-matel"
   ]
  },
  {
   "cell_type": "code",
   "execution_count": 336,
   "metadata": {},
   "outputs": [
    {
     "data": {
      "text/latex": [
       "$\\displaystyle \\cos{\\left(\\alpha \\right)}$"
      ],
      "text/plain": [
       "cos(\\alpha)"
      ]
     },
     "execution_count": 336,
     "metadata": {},
     "output_type": "execute_result"
    }
   ],
   "source": [
    "cosh(I*a).rewrite(cos)"
   ]
  },
  {
   "cell_type": "code",
   "execution_count": 337,
   "metadata": {},
   "outputs": [
    {
     "data": {
      "text/latex": [
       "$\\displaystyle i \\sin{\\left(\\alpha \\right)}$"
      ],
      "text/plain": [
       "I*sin(\\alpha)"
      ]
     },
     "execution_count": 337,
     "metadata": {},
     "output_type": "execute_result"
    }
   ],
   "source": [
    "sinh(I*a).rewrite(sin)"
   ]
  },
  {
   "cell_type": "code",
   "execution_count": null,
   "metadata": {},
   "outputs": [],
   "source": [
    "Gamma"
   ]
  },
  {
   "cell_type": "code",
   "execution_count": null,
   "metadata": {},
   "outputs": [],
   "source": [
    "simplify(Gamma@Gamma)"
   ]
  },
  {
   "cell_type": "code",
   "execution_count": null,
   "metadata": {},
   "outputs": [],
   "source": [
    "sqrt(1-(0.761594155955765)**2)"
   ]
  },
  {
   "cell_type": "code",
   "execution_count": null,
   "metadata": {},
   "outputs": [],
   "source": [
    "Gamma"
   ]
  },
  {
   "cell_type": "code",
   "execution_count": null,
   "metadata": {},
   "outputs": [],
   "source": [
    "inspect.getsource(lambdify(a,A,modules='numpy') )"
   ]
  },
  {
   "cell_type": "code",
   "execution_count": null,
   "metadata": {},
   "outputs": [],
   "source": [
    "inspect.getsource(lambdify(a,Gamma[1,6],modules='numpy') )"
   ]
  },
  {
   "cell_type": "code",
   "execution_count": null,
   "metadata": {},
   "outputs": [],
   "source": [
    "Gamma.subs({a:0})"
   ]
  },
  {
   "cell_type": "code",
   "execution_count": null,
   "metadata": {},
   "outputs": [],
   "source": [
    "Gamma.subs({a:1.})"
   ]
  },
  {
   "cell_type": "code",
   "execution_count": null,
   "metadata": {},
   "outputs": [],
   "source": [
    "Gamma2=Gamma@Gamma"
   ]
  },
  {
   "cell_type": "code",
   "execution_count": null,
   "metadata": {},
   "outputs": [],
   "source": [
    "Gamma2.simplify()"
   ]
  },
  {
   "cell_type": "code",
   "execution_count": null,
   "metadata": {},
   "outputs": [],
   "source": [
    "Gamma2"
   ]
  },
  {
   "cell_type": "code",
   "execution_count": null,
   "metadata": {},
   "outputs": [],
   "source": [
    "Gamma2.subs({a:1.})"
   ]
  },
  {
   "cell_type": "code",
   "execution_count": null,
   "metadata": {},
   "outputs": [],
   "source": [
    "A=-Gamma2[0,0].factor()"
   ]
  },
  {
   "cell_type": "code",
   "execution_count": null,
   "metadata": {},
   "outputs": [],
   "source": [
    "A"
   ]
  },
  {
   "cell_type": "code",
   "execution_count": null,
   "metadata": {},
   "outputs": [],
   "source": [
    "import inspect"
   ]
  },
  {
   "cell_type": "code",
   "execution_count": null,
   "metadata": {},
   "outputs": [],
   "source": [
    "inspect.getsource(lambdify(a,Gamma[0,1],modules='numpy') )"
   ]
  },
  {
   "cell_type": "code",
   "execution_count": null,
   "metadata": {},
   "outputs": [],
   "source": [
    "sqrt(A).subs({a:1.5})"
   ]
  },
  {
   "cell_type": "code",
   "execution_count": null,
   "metadata": {},
   "outputs": [],
   "source": [
    "Gamma_0=Gamma*1/sqrt(A)"
   ]
  },
  {
   "cell_type": "code",
   "execution_count": null,
   "metadata": {},
   "outputs": [],
   "source": [
    "Gamma_0_2=Gamma_0@Gamma_0"
   ]
  },
  {
   "cell_type": "code",
   "execution_count": null,
   "metadata": {},
   "outputs": [],
   "source": [
    "Gamma_0_2.simplify()"
   ]
  },
  {
   "cell_type": "code",
   "execution_count": null,
   "metadata": {},
   "outputs": [],
   "source": [
    "Gamma_0_2"
   ]
  },
  {
   "cell_type": "code",
   "execution_count": null,
   "metadata": {},
   "outputs": [],
   "source": [
    "Gamma_0.simplify()"
   ]
  },
  {
   "cell_type": "code",
   "execution_count": null,
   "metadata": {},
   "outputs": [],
   "source": [
    "Gamma_0"
   ]
  },
  {
   "cell_type": "code",
   "execution_count": null,
   "metadata": {},
   "outputs": [],
   "source": [
    "Gamma_0.subs({a:0})"
   ]
  },
  {
   "cell_type": "code",
   "execution_count": null,
   "metadata": {},
   "outputs": [],
   "source": [
    "Gamma_0.subs({a:-.1})"
   ]
  },
  {
   "cell_type": "code",
   "execution_count": null,
   "metadata": {},
   "outputs": [],
   "source": [
    "np.array(Gamma_0.subs({a:0.1})).astype(float)"
   ]
  },
  {
   "cell_type": "code",
   "execution_count": null,
   "metadata": {},
   "outputs": [],
   "source": []
  },
  {
   "cell_type": "code",
   "execution_count": null,
   "metadata": {},
   "outputs": [],
   "source": [
    "Gamma_0.subs({a:80.})"
   ]
  },
  {
   "cell_type": "code",
   "execution_count": null,
   "metadata": {},
   "outputs": [],
   "source": [
    "Gamma_0.subs({a:-80.})"
   ]
  },
  {
   "cell_type": "code",
   "execution_count": null,
   "metadata": {},
   "outputs": [],
   "source": []
  },
  {
   "cell_type": "code",
   "execution_count": null,
   "metadata": {},
   "outputs": [],
   "source": []
  },
  {
   "cell_type": "code",
   "execution_count": null,
   "metadata": {},
   "outputs": [],
   "source": [
    "Gamma_0[1,0].simplify().subs"
   ]
  },
  {
   "cell_type": "code",
   "execution_count": null,
   "metadata": {},
   "outputs": [],
   "source": [
    "rs2.subs(constant_only)"
   ]
  },
  {
   "cell_type": "code",
   "execution_count": null,
   "metadata": {},
   "outputs": [],
   "source": [
    "parity_basis((1+a* op_plus).subs(gamma_xi)*epr4,[eta[0],eta[1]])"
   ]
  },
  {
   "cell_type": "code",
   "execution_count": null,
   "metadata": {},
   "outputs": [],
   "source": [
    "parity_basis((1+a* op_plus).subs(gamma_xi)*epr4,[eta[0],eta[2]])"
   ]
  },
  {
   "cell_type": "code",
   "execution_count": null,
   "metadata": {},
   "outputs": [],
   "source": [
    "parity_basis((1+a* op_plus).subs(gamma_xi)*epr4,[eta[0],eta[3]])"
   ]
  },
  {
   "cell_type": "code",
   "execution_count": null,
   "metadata": {},
   "outputs": [],
   "source": [
    "parity_basis((1+a* op_plus).subs(gamma_xi)*epr4,[eta[0],eta[4]])"
   ]
  },
  {
   "cell_type": "markdown",
   "metadata": {},
   "source": [
    "# Initialize state"
   ]
  },
  {
   "cell_type": "markdown",
   "metadata": {},
   "source": [
    "### |0>, |1>, |+>= $\\frac{1}{2}$(|0>+|1>), |->= $\\frac{1}{2}$(|0>-|1>)"
   ]
  },
  {
   "cell_type": "code",
   "execution_count": 210,
   "metadata": {},
   "outputs": [],
   "source": [
    "EPR0=lambda s0,s1:(s0-I*s1)/2"
   ]
  },
  {
   "cell_type": "code",
   "execution_count": 19,
   "metadata": {},
   "outputs": [],
   "source": [
    "rho_EPR0=lambda s0,s1: (1+I*s0*s1)/2"
   ]
  },
  {
   "cell_type": "code",
   "execution_count": 212,
   "metadata": {},
   "outputs": [],
   "source": [
    "parity={0:EPR0(g[0],g[1]),1:EPR0(g[0],-g[1])}"
   ]
  },
  {
   "cell_type": "code",
   "execution_count": 213,
   "metadata": {},
   "outputs": [],
   "source": [
    "parity['+']=recursiveapply((1/sqrt(2)*(1+(g[0]+I*g[1])/2)*parity[0]).expand(),normalorder2)\n",
    "parity['-']=recursiveapply((1/sqrt(2)*(1-(g[0]+I*g[1])/2)*parity[0]).expand(),normalorder2)"
   ]
  },
  {
   "cell_type": "code",
   "execution_count": 214,
   "metadata": {},
   "outputs": [
    {
     "data": {
      "text/latex": [
       "$\\displaystyle \\frac{1}{2} + \\frac{i \\gamma_{0} \\gamma_{1}}{2}$"
      ],
      "text/plain": [
       "1/2 + I*\\gamma_0*\\gamma_1/2"
      ]
     },
     "execution_count": 214,
     "metadata": {},
     "output_type": "execute_result"
    }
   ],
   "source": [
    "state_to_dm(parity[0])"
   ]
  },
  {
   "cell_type": "code",
   "execution_count": 215,
   "metadata": {},
   "outputs": [
    {
     "data": {
      "text/latex": [
       "$\\displaystyle \\frac{1}{2} - \\frac{i \\gamma_{0} \\gamma_{1}}{2}$"
      ],
      "text/plain": [
       "1/2 - I*\\gamma_0*\\gamma_1/2"
      ]
     },
     "execution_count": 215,
     "metadata": {},
     "output_type": "execute_result"
    }
   ],
   "source": [
    "state_to_dm(parity[1])"
   ]
  },
  {
   "cell_type": "code",
   "execution_count": 216,
   "metadata": {},
   "outputs": [
    {
     "data": {
      "text/latex": [
       "$\\displaystyle \\frac{1}{2} + \\frac{\\gamma_{0}}{2}$"
      ],
      "text/plain": [
       "1/2 + \\gamma_0/2"
      ]
     },
     "execution_count": 216,
     "metadata": {},
     "output_type": "execute_result"
    }
   ],
   "source": [
    "state_to_dm(parity['+'])"
   ]
  },
  {
   "cell_type": "code",
   "execution_count": 217,
   "metadata": {},
   "outputs": [
    {
     "data": {
      "text/latex": [
       "$\\displaystyle \\frac{1}{2} - \\frac{\\gamma_{0}}{2}$"
      ],
      "text/plain": [
       "1/2 - \\gamma_0/2"
      ]
     },
     "execution_count": 217,
     "metadata": {},
     "output_type": "execute_result"
    }
   ],
   "source": [
    "state_to_dm(parity['-'])"
   ]
  },
  {
   "cell_type": "code",
   "execution_count": 218,
   "metadata": {},
   "outputs": [
    {
     "data": {
      "text/latex": [
       "$\\displaystyle \\frac{\\gamma_{0} - i \\gamma_{1}}{2}$"
      ],
      "text/plain": [
       "(\\gamma_0 - I*\\gamma_1)/2"
      ]
     },
     "execution_count": 218,
     "metadata": {},
     "output_type": "execute_result"
    }
   ],
   "source": [
    "parity[0]"
   ]
  },
  {
   "cell_type": "code",
   "execution_count": 219,
   "metadata": {},
   "outputs": [
    {
     "data": {
      "text/latex": [
       "$\\displaystyle \\frac{\\gamma_{0} + i \\gamma_{1}}{2}$"
      ],
      "text/plain": [
       "(\\gamma_0 + I*\\gamma_1)/2"
      ]
     },
     "execution_count": 219,
     "metadata": {},
     "output_type": "execute_result"
    }
   ],
   "source": [
    "parity[1]"
   ]
  },
  {
   "cell_type": "code",
   "execution_count": null,
   "metadata": {},
   "outputs": [],
   "source": [
    "parity['+']"
   ]
  },
  {
   "cell_type": "code",
   "execution_count": null,
   "metadata": {},
   "outputs": [],
   "source": [
    "parity['-']"
   ]
  },
  {
   "cell_type": "markdown",
   "metadata": {},
   "source": [
    "### EPR between $\\eta$ and $\\xi$"
   ]
  },
  {
   "cell_type": "code",
   "execution_count": null,
   "metadata": {},
   "outputs": [],
   "source": [
    "epr=  EPR0(eta[0],xi[0])*EPR0(eta[1],xi[1])"
   ]
  },
  {
   "cell_type": "code",
   "execution_count": 220,
   "metadata": {},
   "outputs": [],
   "source": [
    "epr4=  EPR0(eta[0],xi[0])*EPR0(eta[1],xi[1])*EPR0(eta[2],xi[2])*EPR0(eta[3],xi[3])"
   ]
  },
  {
   "cell_type": "code",
   "execution_count": 346,
   "metadata": {},
   "outputs": [],
   "source": [
    "# rho_epr4=EPR0(eta[0],xi[0])*EPR0(eta[0],-xi[0])*EPR0(eta[1],xi[1])*EPR0(eta[1],-xi[1])*EPR0(eta[2],xi[2])*EPR0(eta[2],-xi[2])*EPR0(eta[3],xi[3])*EPR0(eta[3],-xi[3])"
   ]
  },
  {
   "cell_type": "code",
   "execution_count": 358,
   "metadata": {},
   "outputs": [],
   "source": [
    "rho_epr2=rho_EPR0(eta[0],xi[0]) * rho_EPR0(eta[1],xi[1])"
   ]
  },
  {
   "cell_type": "code",
   "execution_count": 23,
   "metadata": {},
   "outputs": [],
   "source": [
    "rho_epr4=rho_EPR0(eta[0],xi[0]) * rho_EPR0(eta[1],xi[1]) * rho_EPR0(eta[2],xi[2]) * rho_EPR0(eta[3],xi[3])"
   ]
  },
  {
   "cell_type": "code",
   "execution_count": null,
   "metadata": {},
   "outputs": [],
   "source": [
    "recursiveapply((EPR0(eta[0],xi[0])*EPR0(eta[0],-xi[0])).expand(),normalorder2)"
   ]
  },
  {
   "cell_type": "code",
   "execution_count": null,
   "metadata": {},
   "outputs": [],
   "source": [
    "recursiveapply((EPR0(eta[0],eta[1])* EPR0(eta[0],-eta[1])).expand(),normalorder2)"
   ]
  },
  {
   "cell_type": "markdown",
   "metadata": {},
   "source": [
    "# Initialize op"
   ]
  },
  {
   "cell_type": "markdown",
   "metadata": {},
   "source": [
    "## For Identity"
   ]
  },
  {
   "cell_type": "code",
   "execution_count": null,
   "metadata": {},
   "outputs": [],
   "source": [
    "op_id=1"
   ]
  },
  {
   "cell_type": "code",
   "execution_count": null,
   "metadata": {},
   "outputs": [],
   "source": [
    "apply_same(op_id,parity[0])"
   ]
  },
  {
   "cell_type": "code",
   "execution_count": null,
   "metadata": {},
   "outputs": [],
   "source": [
    "apply_same(op_id,parity[1])"
   ]
  },
  {
   "cell_type": "code",
   "execution_count": null,
   "metadata": {},
   "outputs": [],
   "source": [
    "apply_same(op_id,parity['+'])"
   ]
  },
  {
   "cell_type": "code",
   "execution_count": null,
   "metadata": {},
   "outputs": [],
   "source": [
    "apply_same(op_id,parity['-'])"
   ]
  },
  {
   "cell_type": "code",
   "execution_count": null,
   "metadata": {},
   "outputs": [],
   "source": [
    "(apply_diff(op_id*epr,parity[0],external=external_leg)*(16*I)).expand()"
   ]
  },
  {
   "cell_type": "code",
   "execution_count": null,
   "metadata": {},
   "outputs": [],
   "source": [
    "(apply_diff(op_id*epr,parity[1],external=external_leg)*(-16*I)).expand()"
   ]
  },
  {
   "cell_type": "code",
   "execution_count": null,
   "metadata": {},
   "outputs": [],
   "source": [
    "(apply_diff(op_id*epr,parity['+'],external=external_leg)*(16*I)).expand()"
   ]
  },
  {
   "cell_type": "code",
   "execution_count": null,
   "metadata": {},
   "outputs": [],
   "source": [
    "(apply_diff(op_id*epr,parity['-'],external=external_leg)*(16*I)).expand()"
   ]
  },
  {
   "cell_type": "code",
   "execution_count": null,
   "metadata": {},
   "outputs": [],
   "source": []
  },
  {
   "cell_type": "code",
   "execution_count": null,
   "metadata": {},
   "outputs": [],
   "source": []
  },
  {
   "cell_type": "code",
   "execution_count": null,
   "metadata": {},
   "outputs": [],
   "source": [
    "# Gamma=proj*Dagger(proj).subs(selfadjoint)\n",
    "Gamma=epr*Dagger(epr).subs(selfadjoint)"
   ]
  },
  {
   "cell_type": "code",
   "execution_count": null,
   "metadata": {},
   "outputs": [],
   "source": [
    "Gamma"
   ]
  },
  {
   "cell_type": "code",
   "execution_count": null,
   "metadata": {},
   "outputs": [],
   "source": [
    "recursiveapply((Gamma).expand(),normalorder2)"
   ]
  },
  {
   "cell_type": "code",
   "execution_count": null,
   "metadata": {},
   "outputs": [],
   "source": [
    "recursiveapply((I*eta[0]*xi[0]*Gamma).expand(),normalorder2) "
   ]
  },
  {
   "cell_type": "markdown",
   "metadata": {},
   "source": [
    "## For Z, or parity"
   ]
  },
  {
   "cell_type": "markdown",
   "metadata": {},
   "source": [
    "$P=i \\gamma_0 \\gamma_1$\n",
    "\n",
    "$P|0\\rangle=|0\\rangle$\n",
    "\n",
    "$P|1\\rangle=|1\\rangle$\n",
    "\n",
    "$P |+\\rangle=P\\frac{1}{\\sqrt{2}}(|0\\rangle+|1\\rangle)=\\frac{1}{\\sqrt{2}}(|0\\rangle-|1\\rangle)=|-\\rangle$\n",
    "\n",
    "$P |-\\rangle=P\\frac{1}{\\sqrt{2}}(|0\\rangle-|1\\rangle)=\\frac{1}{\\sqrt{2}}(|0\\rangle+|1\\rangle)=|+\\rangle$\n"
   ]
  },
  {
   "cell_type": "code",
   "execution_count": null,
   "metadata": {},
   "outputs": [],
   "source": [
    "op_z=I*g[0]*g[1]"
   ]
  },
  {
   "cell_type": "code",
   "execution_count": null,
   "metadata": {},
   "outputs": [],
   "source": [
    "apply_same(op_z,parity[0])"
   ]
  },
  {
   "cell_type": "code",
   "execution_count": null,
   "metadata": {},
   "outputs": [],
   "source": [
    "apply_same(op_z,parity[1])"
   ]
  },
  {
   "cell_type": "code",
   "execution_count": null,
   "metadata": {},
   "outputs": [],
   "source": [
    "apply_same(op_z,parity['+'])"
   ]
  },
  {
   "cell_type": "code",
   "execution_count": null,
   "metadata": {},
   "outputs": [],
   "source": [
    "apply_same(op_z,parity['-'])"
   ]
  },
  {
   "cell_type": "code",
   "execution_count": null,
   "metadata": {},
   "outputs": [],
   "source": [
    "(apply_diff(op_z.subs(gamma_xi)*epr,parity[0],external=external_leg)*(16*I)).expand()"
   ]
  },
  {
   "cell_type": "code",
   "execution_count": null,
   "metadata": {},
   "outputs": [],
   "source": [
    "(apply_diff(op_z.subs(gamma_xi)*epr,parity[1],external=external_leg)*(16*I)).expand()"
   ]
  },
  {
   "cell_type": "code",
   "execution_count": null,
   "metadata": {},
   "outputs": [],
   "source": [
    "(apply_diff(op_z.subs(gamma_xi)*epr,parity['+'],external=external_leg)*(16*I)).expand()"
   ]
  },
  {
   "cell_type": "code",
   "execution_count": null,
   "metadata": {},
   "outputs": [],
   "source": [
    "(apply_diff(op_z.subs(gamma_xi)*epr,parity['-'],external=external_leg)*(16*I)).expand()"
   ]
  },
  {
   "cell_type": "code",
   "execution_count": null,
   "metadata": {},
   "outputs": [],
   "source": []
  },
  {
   "cell_type": "code",
   "execution_count": null,
   "metadata": {},
   "outputs": [],
   "source": [
    "Gamma=proj*Dagger(proj).subs(selfadjoint)"
   ]
  },
  {
   "cell_type": "code",
   "execution_count": null,
   "metadata": {},
   "outputs": [],
   "source": [
    "Gamma"
   ]
  },
  {
   "cell_type": "code",
   "execution_count": null,
   "metadata": {},
   "outputs": [],
   "source": [
    "recursiveapply((Gamma).expand(),normalorder2)"
   ]
  },
  {
   "cell_type": "markdown",
   "metadata": {},
   "source": [
    "## For $P^0=|0 \\rangle\\langle 0 |= \\frac{1+i \\gamma_1\\gamma_2}{2}$"
   ]
  },
  {
   "cell_type": "markdown",
   "metadata": {},
   "source": [
    "$P^0|0\\rangle=|0\\rangle$\n",
    "\n",
    "$P^0|1\\rangle= 0$\n",
    "\n",
    "$P^0 |+\\rangle=P^0\\frac{1}{\\sqrt{2}}(|0\\rangle+|1\\rangle)=\\frac{1}{\\sqrt{2}}|0\\rangle$\n",
    "\n",
    "$P^0 |-\\rangle=P^0\\frac{1}{\\sqrt{2}}(|0\\rangle-|1\\rangle)=\\frac{1}{\\sqrt{2}}|0\\rangle$\n"
   ]
  },
  {
   "cell_type": "code",
   "execution_count": null,
   "metadata": {},
   "outputs": [],
   "source": [
    "op_p0=(1+I*g[0]*g[1])/2"
   ]
  },
  {
   "cell_type": "code",
   "execution_count": null,
   "metadata": {},
   "outputs": [],
   "source": [
    "apply_same(op_p0,parity[0])"
   ]
  },
  {
   "cell_type": "code",
   "execution_count": null,
   "metadata": {},
   "outputs": [],
   "source": [
    "apply_same(op_p0,parity[1])"
   ]
  },
  {
   "cell_type": "code",
   "execution_count": null,
   "metadata": {},
   "outputs": [],
   "source": [
    "apply_same(op_p0,parity['+'])"
   ]
  },
  {
   "cell_type": "code",
   "execution_count": null,
   "metadata": {},
   "outputs": [],
   "source": [
    "apply_same(op_p0,parity['-'])"
   ]
  },
  {
   "cell_type": "code",
   "execution_count": null,
   "metadata": {},
   "outputs": [],
   "source": [
    "(apply_diff(op_p0.subs(gamma_xi)*epr,parity[0],external=external_leg)*(16*I)).expand()"
   ]
  },
  {
   "cell_type": "code",
   "execution_count": null,
   "metadata": {},
   "outputs": [],
   "source": [
    "(apply_diff(op_p0.subs(gamma_xi)*epr,parity[1],external=external_leg)*(16*I)).expand()"
   ]
  },
  {
   "cell_type": "code",
   "execution_count": null,
   "metadata": {},
   "outputs": [],
   "source": [
    "(apply_diff(op_p0.subs(gamma_xi)*epr,parity['+'],external=external_leg)*(16*I)).expand()"
   ]
  },
  {
   "cell_type": "code",
   "execution_count": null,
   "metadata": {},
   "outputs": [],
   "source": [
    "(apply_diff(op_p0.subs(gamma_xi)*epr,parity['-'],external=external_leg)*(16*I)).expand()"
   ]
  },
  {
   "cell_type": "code",
   "execution_count": null,
   "metadata": {},
   "outputs": [],
   "source": []
  },
  {
   "cell_type": "code",
   "execution_count": null,
   "metadata": {},
   "outputs": [],
   "source": [
    "Gamma=proj*Dagger(proj).subs(selfadjoint)"
   ]
  },
  {
   "cell_type": "code",
   "execution_count": null,
   "metadata": {},
   "outputs": [],
   "source": [
    "recursiveapply((Gamma).expand(),normalorder2)"
   ]
  },
  {
   "cell_type": "code",
   "execution_count": null,
   "metadata": {},
   "outputs": [],
   "source": [
    "recursiveapply((Gamma).expand(),normalorder2)"
   ]
  },
  {
   "cell_type": "markdown",
   "metadata": {},
   "source": [
    "## For $P^1=|1 \\rangle\\langle 1 |= \\frac{1-i \\gamma_1\\gamma_2}{2}$"
   ]
  },
  {
   "cell_type": "markdown",
   "metadata": {},
   "source": [
    "$P^1|0\\rangle= 0$\n",
    "\n",
    "$P^1|1\\rangle=|1\\rangle$\n",
    "\n",
    "\n",
    "$P^1 |+\\rangle=P^1\\frac{1}{\\sqrt{2}}(|0\\rangle+|1\\rangle)=\\frac{1}{\\sqrt{2}}|1\\rangle$\n",
    "\n",
    "$P^1 |-\\rangle=P^1\\frac{1}{\\sqrt{2}}(|0\\rangle-|1\\rangle)=-\\frac{1}{\\sqrt{2}}|1\\rangle$\n"
   ]
  },
  {
   "cell_type": "code",
   "execution_count": null,
   "metadata": {},
   "outputs": [],
   "source": [
    "op_p1=(1-I*g[0]*g[1])/2"
   ]
  },
  {
   "cell_type": "code",
   "execution_count": null,
   "metadata": {},
   "outputs": [],
   "source": [
    "apply_same(op_p1,parity[0])"
   ]
  },
  {
   "cell_type": "code",
   "execution_count": null,
   "metadata": {},
   "outputs": [],
   "source": [
    "state_to_dm(apply_same(op_p1,parity[1]))"
   ]
  },
  {
   "cell_type": "code",
   "execution_count": null,
   "metadata": {},
   "outputs": [],
   "source": [
    "state_to_dm(apply_same(op_p1,parity['+']))"
   ]
  },
  {
   "cell_type": "code",
   "execution_count": null,
   "metadata": {},
   "outputs": [],
   "source": [
    "state_to_dm(apply_same(op_p1,parity['-']))"
   ]
  },
  {
   "cell_type": "code",
   "execution_count": null,
   "metadata": {},
   "outputs": [],
   "source": [
    "(apply_diff(op_p1.subs(gamma_xi)*epr,parity[0],external=external_leg)*(16*I)).expand()"
   ]
  },
  {
   "cell_type": "code",
   "execution_count": null,
   "metadata": {},
   "outputs": [],
   "source": [
    "(apply_diff(op_p1.subs(gamma_xi)*epr,parity[1],external=external_leg)*(-16*I)).expand()"
   ]
  },
  {
   "cell_type": "code",
   "execution_count": null,
   "metadata": {},
   "outputs": [],
   "source": [
    "state_to_dm((apply_diff(op_p1.subs(gamma_xi)*epr,parity['+'],external=external_leg)*(16*I)).expand())"
   ]
  },
  {
   "cell_type": "code",
   "execution_count": null,
   "metadata": {},
   "outputs": [],
   "source": [
    "state_to_dm((apply_diff(op_p1.subs(gamma_xi)*epr,parity['-'],external=external_leg)*(16*I)).expand())"
   ]
  },
  {
   "cell_type": "code",
   "execution_count": null,
   "metadata": {},
   "outputs": [],
   "source": []
  },
  {
   "cell_type": "code",
   "execution_count": null,
   "metadata": {},
   "outputs": [],
   "source": []
  },
  {
   "cell_type": "markdown",
   "metadata": {},
   "source": [
    "## Test"
   ]
  },
  {
   "cell_type": "code",
   "execution_count": null,
   "metadata": {},
   "outputs": [],
   "source": [
    "recursiveapply((Gamma).expand(),normalorder2)"
   ]
  },
  {
   "cell_type": "code",
   "execution_count": null,
   "metadata": {},
   "outputs": [],
   "source": [
    "recursiveapply((I*eta[0]*eta[0]*Gamma).expand(),normalorder2)"
   ]
  },
  {
   "cell_type": "code",
   "execution_count": null,
   "metadata": {},
   "outputs": [],
   "source": [
    "recursiveapply((I*eta[0]*eta[1]*Gamma).expand(),normalorder2) "
   ]
  },
  {
   "cell_type": "code",
   "execution_count": null,
   "metadata": {},
   "outputs": [],
   "source": [
    "recursiveapply((I*eta[0]*xi[0]*Gamma).expand(),normalorder2) "
   ]
  },
  {
   "cell_type": "code",
   "execution_count": null,
   "metadata": {},
   "outputs": [],
   "source": [
    "recursiveapply((I*eta[0]*xi[1]*Gamma).expand(),normalorder2) "
   ]
  },
  {
   "cell_type": "code",
   "execution_count": null,
   "metadata": {},
   "outputs": [],
   "source": [
    "recursiveapply((I*eta[1]*xi[0]*Gamma).expand(),normalorder2) "
   ]
  },
  {
   "cell_type": "code",
   "execution_count": null,
   "metadata": {},
   "outputs": [],
   "source": [
    "recursiveapply((I*eta[1]*xi[1]*Gamma).expand(),normalorder2) "
   ]
  },
  {
   "cell_type": "code",
   "execution_count": null,
   "metadata": {},
   "outputs": [],
   "source": [
    "recursiveapply((I*xi[0]*xi[1]*Gamma).expand(),normalorder2) "
   ]
  },
  {
   "cell_type": "code",
   "execution_count": null,
   "metadata": {},
   "outputs": [],
   "source": []
  },
  {
   "cell_type": "markdown",
   "metadata": {},
   "source": [
    "# Project to EPR"
   ]
  },
  {
   "cell_type": "code",
   "execution_count": 5,
   "metadata": {},
   "outputs": [],
   "source": [
    "alpha=Symbol(r'\\alpha',real=True)\n"
   ]
  },
  {
   "cell_type": "code",
   "execution_count": 66,
   "metadata": {},
   "outputs": [],
   "source": [
    "n=Symbol('n',real=True)\n"
   ]
  },
  {
   "cell_type": "code",
   "execution_count": 76,
   "metadata": {},
   "outputs": [],
   "source": [
    "P={(i,j):Symbol(f'P_{{{i},{j}}}',real=True) for i in range(4) for j in range(i+1,4)}"
   ]
  },
  {
   "cell_type": "code",
   "execution_count": 39,
   "metadata": {},
   "outputs": [],
   "source": [
    "s1=Symbol('s1',real=True)\n",
    "s2=Symbol('s2',real=True)"
   ]
  },
  {
   "cell_type": "code",
   "execution_count": 20,
   "metadata": {},
   "outputs": [],
   "source": [
    "a=Symbol('a',real=False)\n",
    "b=Symbol('b',real=True)\n"
   ]
  },
  {
   "cell_type": "code",
   "execution_count": 6,
   "metadata": {},
   "outputs": [],
   "source": [
    "theta1=Symbol(r'\\theta_1',real=True)\n",
    "theta2=Symbol(r'\\theta_2',real=True)\n"
   ]
  },
  {
   "cell_type": "code",
   "execution_count": 178,
   "metadata": {},
   "outputs": [],
   "source": [
    "ai=Symbol('a_I',real=True)\n",
    "ar=Symbol('a_R',real=True)\n"
   ]
  },
  {
   "cell_type": "code",
   "execution_count": 179,
   "metadata": {},
   "outputs": [],
   "source": [
    "alpha=ar+I*ai"
   ]
  },
  {
   "cell_type": "code",
   "execution_count": null,
   "metadata": {},
   "outputs": [],
   "source": [
    "cosh(conjugate(alpha)).rewrite(exp).simplify()"
   ]
  },
  {
   "cell_type": "code",
   "execution_count": null,
   "metadata": {},
   "outputs": [],
   "source": [
    "cosh(conjugate(alpha)).rewrite(exp)"
   ]
  },
  {
   "cell_type": "code",
   "execution_count": null,
   "metadata": {},
   "outputs": [],
   "source": [
    "(cosh(ar+I*ai)).rewrite(exp)"
   ]
  },
  {
   "cell_type": "code",
   "execution_count": null,
   "metadata": {},
   "outputs": [],
   "source": [
    "(sinh(alpha)* cosh(conjugate(alpha)) + cosh(alpha)* sinh(conjugate(alpha))).rewrite(exp).expand()"
   ]
  },
  {
   "cell_type": "code",
   "execution_count": null,
   "metadata": {},
   "outputs": [],
   "source": [
    "(sinh(alpha)* sinh(conjugate(alpha)) - cosh(alpha)* cosh(conjugate(alpha))).rewrite(exp).expand()"
   ]
  },
  {
   "cell_type": "code",
   "execution_count": null,
   "metadata": {},
   "outputs": [],
   "source": [
    "(I*sinh(alpha)* cosh(conjugate(alpha)) - I*cosh(alpha)* sinh(conjugate(alpha))).rewrite(exp).expand()"
   ]
  },
  {
   "cell_type": "code",
   "execution_count": null,
   "metadata": {},
   "outputs": [],
   "source": []
  },
  {
   "cell_type": "code",
   "execution_count": null,
   "metadata": {},
   "outputs": [],
   "source": [
    "expand(cosh(a+I*b))"
   ]
  },
  {
   "cell_type": "code",
   "execution_count": null,
   "metadata": {},
   "outputs": [],
   "source": [
    "cosh(a+I*b).simplify()"
   ]
  },
  {
   "cell_type": "code",
   "execution_count": null,
   "metadata": {},
   "outputs": [],
   "source": [
    "ket0=lambda s: (s[0]-I*s[1])/2"
   ]
  },
  {
   "cell_type": "code",
   "execution_count": null,
   "metadata": {},
   "outputs": [],
   "source": [
    "ket0(eta)"
   ]
  },
  {
   "cell_type": "code",
   "execution_count": null,
   "metadata": {},
   "outputs": [],
   "source": [
    "EPR0=lambda s0,s1:(s0-I*s1)/2"
   ]
  },
  {
   "cell_type": "code",
   "execution_count": null,
   "metadata": {},
   "outputs": [],
   "source": [
    "EPR0(eta[0],-xi[0])"
   ]
  },
  {
   "cell_type": "code",
   "execution_count": null,
   "metadata": {},
   "outputs": [],
   "source": [
    "ket0=(g[0]-I*g[1])/2"
   ]
  },
  {
   "cell_type": "code",
   "execution_count": null,
   "metadata": {},
   "outputs": [],
   "source": []
  },
  {
   "cell_type": "markdown",
   "metadata": {},
   "source": [
    "## For identity"
   ]
  },
  {
   "cell_type": "code",
   "execution_count": null,
   "metadata": {},
   "outputs": [],
   "source": [
    "init=EPR0(g[0],-g[1])"
   ]
  },
  {
   "cell_type": "code",
   "execution_count": null,
   "metadata": {},
   "outputs": [],
   "source": [
    "init"
   ]
  },
  {
   "cell_type": "code",
   "execution_count": null,
   "metadata": {},
   "outputs": [],
   "source": [
    "(p*EPR0(eta[0],xi[0])*EPR0(eta[1],xi[1])*EPR0(g[0],g[1]))"
   ]
  },
  {
   "cell_type": "code",
   "execution_count": null,
   "metadata": {},
   "outputs": [],
   "source": [
    "recursiveapply((p*EPR0(eta[0],xi[0])*EPR0(eta[1],xi[1])*EPR0(g[0],-g[1])).expand(),normalorder2).subs(external)"
   ]
  },
  {
   "cell_type": "code",
   "execution_count": null,
   "metadata": {},
   "outputs": [],
   "source": [
    "recursiveapply((p*EPR0(eta[0],xi[0])*EPR0(eta[1],xi[1])*EPR0(g[0],g[1])).expand(),normalorder2).subs(external)"
   ]
  },
  {
   "cell_type": "code",
   "execution_count": null,
   "metadata": {},
   "outputs": [],
   "source": [
    "recursiveapply(\n",
    "    (p* proj *EPR0(g[0],g[1])).expand(),\n",
    "    normalorder2\n",
    ").subs(suppress_eta_g)"
   ]
  },
  {
   "cell_type": "code",
   "execution_count": null,
   "metadata": {},
   "outputs": [],
   "source": [
    "recursiveapply(\n",
    "    (p* proj *EPR0(g[0],a*g[1]) * Dagger(EPR0(g[0],a*g[1]))).expand(),\n",
    "    normalorder2\n",
    ").subs(suppress_eta_g)"
   ]
  },
  {
   "cell_type": "code",
   "execution_count": null,
   "metadata": {},
   "outputs": [],
   "source": [
    "recursiveapply(\n",
    "    (p* proj * (1-I*g[0]*g[1])/2 * Dagger(proj)* Dagger(p)).expand().subs(selfadjoint),\n",
    "    normalorder2\n",
    ").subs(suppress_eta_g)"
   ]
  },
  {
   "cell_type": "code",
   "execution_count": null,
   "metadata": {},
   "outputs": [],
   "source": [
    "recursiveapply(\n",
    "    (p* proj * (1+I*g[0]*g[1])/2 * Dagger(proj)* Dagger(p)).expand().subs(selfadjoint),\n",
    "    normalorder2\n",
    ").subs(suppress_eta_g)"
   ]
  },
  {
   "cell_type": "code",
   "execution_count": null,
   "metadata": {},
   "outputs": [],
   "source": [
    "recursiveapply(\n",
    "    (p* proj * (1+g[0]) * Dagger(proj)* Dagger(p)).expand().subs(selfadjoint),\n",
    "    normalorder2\n",
    ").subs(suppress_eta_g)"
   ]
  },
  {
   "cell_type": "code",
   "execution_count": null,
   "metadata": {},
   "outputs": [],
   "source": [
    "recursiveapply(\n",
    "    (p* proj * (1-g[0]) * Dagger(proj)* Dagger(p)).expand().subs(selfadjoint),\n",
    "    normalorder2\n",
    ").subs(suppress_eta_g)"
   ]
  },
  {
   "cell_type": "code",
   "execution_count": null,
   "metadata": {},
   "outputs": [],
   "source": [
    "(1+a**2 + (1-a**2) *I* g[0]*g[1] + 2*a*g[0])"
   ]
  },
  {
   "cell_type": "code",
   "execution_count": null,
   "metadata": {},
   "outputs": [],
   "source": [
    "recursiveapply(\n",
    "    (p* proj * ((1+a**2 + (1-a**2) *I* g[0]*g[1] + 2*a*g[0])) * Dagger(proj)* Dagger(p)).expand().subs(selfadjoint),\n",
    "    normalorder2\n",
    ").subs(suppress_eta_g)"
   ]
  },
  {
   "cell_type": "markdown",
   "metadata": {},
   "source": [
    "## For Z"
   ]
  },
  {
   "cell_type": "code",
   "execution_count": null,
   "metadata": {},
   "outputs": [],
   "source": [
    "recursiveapply(\n",
    "    (p* proj * (1-I*g[0]*g[1])/2 * Dagger(proj)* Dagger(p)).expand().subs(selfadjoint),\n",
    "    normalorder2\n",
    ").subs(suppress_eta_g)"
   ]
  },
  {
   "cell_type": "code",
   "execution_count": null,
   "metadata": {},
   "outputs": [],
   "source": [
    "recursiveapply(\n",
    "    (p* proj * (1+I*g[0]*g[1])/2 * Dagger(proj)* Dagger(p)).expand().subs(selfadjoint),\n",
    "    normalorder2\n",
    ").subs(suppress_eta_g)"
   ]
  },
  {
   "cell_type": "code",
   "execution_count": null,
   "metadata": {},
   "outputs": [],
   "source": [
    "recursiveapply(\n",
    "    (p* proj * (1+g[0]) * Dagger(proj)* Dagger(p)).expand().subs(selfadjoint),\n",
    "    normalorder2\n",
    ").subs(suppress_eta_g)"
   ]
  },
  {
   "cell_type": "code",
   "execution_count": null,
   "metadata": {},
   "outputs": [],
   "source": [
    "recursiveapply(\n",
    "    (p* proj * (1-g[0]) * Dagger(proj)* Dagger(p)).expand().subs(selfadjoint),\n",
    "    normalorder2\n",
    ").subs(suppress_eta_g)"
   ]
  },
  {
   "cell_type": "code",
   "execution_count": null,
   "metadata": {},
   "outputs": [],
   "source": [
    "(1+a**2 + (1-a**2) *I* g[0]*g[1] + 2*a*g[0])"
   ]
  },
  {
   "cell_type": "code",
   "execution_count": null,
   "metadata": {},
   "outputs": [],
   "source": [
    "recursiveapply(\n",
    "    (p* proj * ((1+a**2 + (1-a**2) *I* g[0]*g[1] + 2*a*g[0])) * Dagger(proj)* Dagger(p)).expand().subs(selfadjoint),\n",
    "    normalorder2\n",
    ").subs(suppress_eta_g)"
   ]
  },
  {
   "cell_type": "markdown",
   "metadata": {},
   "source": [
    "## For P0"
   ]
  },
  {
   "cell_type": "code",
   "execution_count": null,
   "metadata": {},
   "outputs": [],
   "source": [
    "(p*(1+I*eta[0]*eta[1])/2*EPR0(eta[0],xi[0])*EPR0(eta[1],xi[1])*EPR0(g[0],g[1]))"
   ]
  },
  {
   "cell_type": "code",
   "execution_count": null,
   "metadata": {},
   "outputs": [],
   "source": [
    "recursiveapply(\n",
    "    (p* proj * (1-I*g[0]*g[1])/2 * Dagger(proj)* Dagger(p)).expand().subs(selfadjoint),\n",
    "    normalorder2\n",
    ").subs(suppress_eta_g)"
   ]
  },
  {
   "cell_type": "code",
   "execution_count": null,
   "metadata": {},
   "outputs": [],
   "source": [
    "recursiveapply(\n",
    "    (p* proj * (1+I*g[0]*g[1])/2 * Dagger(proj)* Dagger(p)).expand().subs(selfadjoint),\n",
    "    normalorder2\n",
    ").subs(suppress_eta_g)"
   ]
  },
  {
   "cell_type": "code",
   "execution_count": null,
   "metadata": {},
   "outputs": [],
   "source": [
    "recursiveapply(\n",
    "    (p* proj * (1+g[0]) * Dagger(proj)* Dagger(p)).expand().subs(selfadjoint),\n",
    "    normalorder2\n",
    ").subs(suppress_eta_g)"
   ]
  },
  {
   "cell_type": "code",
   "execution_count": null,
   "metadata": {},
   "outputs": [],
   "source": [
    "recursiveapply(\n",
    "    (p* proj * (1-g[0]) * Dagger(proj)* Dagger(p)).expand().subs(selfadjoint),\n",
    "    normalorder2\n",
    ").subs(suppress_eta_g)"
   ]
  },
  {
   "cell_type": "code",
   "execution_count": null,
   "metadata": {},
   "outputs": [],
   "source": [
    "recursiveapply(\n",
    "    (p* proj * ((1+a**2 + (1-a**2) *I* g[0]*g[1] + 2*a*g[0])) * Dagger(proj)* Dagger(p)).expand().subs(selfadjoint),\n",
    "    normalorder2\n",
    ").subs(suppress_eta_g)"
   ]
  },
  {
   "cell_type": "code",
   "execution_count": null,
   "metadata": {},
   "outputs": [],
   "source": [
    "recursiveapply(\n",
    "    (p* proj *EPR0(g[0],g[1])).expand(),\n",
    "    normalorder2\n",
    ")"
   ]
  },
  {
   "cell_type": "code",
   "execution_count": null,
   "metadata": {},
   "outputs": [],
   "source": [
    "recursiveapply(\n",
    "    (p* proj *EPR0(g[0],-g[1])).expand(),\n",
    "    normalorder2\n",
    ")"
   ]
  },
  {
   "cell_type": "code",
   "execution_count": null,
   "metadata": {},
   "outputs": [],
   "source": [
    "recursiveapply(\n",
    "    (p* proj * g[0]).expand(),\n",
    "    normalorder2\n",
    ")"
   ]
  },
  {
   "cell_type": "code",
   "execution_count": null,
   "metadata": {},
   "outputs": [],
   "source": [
    "recursiveapply(\n",
    "    (p* proj * g[1]).expand(),\n",
    "    normalorder2\n",
    ")"
   ]
  },
  {
   "cell_type": "code",
   "execution_count": null,
   "metadata": {},
   "outputs": [],
   "source": [
    "EPR0(g[0],g[1])"
   ]
  },
  {
   "cell_type": "markdown",
   "metadata": {},
   "source": [
    "# projector for class A"
   ]
  },
  {
   "cell_type": "markdown",
   "metadata": {},
   "source": [
    "## sigma_x "
   ]
  },
  {
   "cell_type": "code",
   "execution_count": 155,
   "metadata": {
    "metadata": {}
   },
   "outputs": [],
   "source": [
    "c['+']=(c[0]+c[1])/sqrt(2)\n",
    "c['-']=(c[0]-c[1])/sqrt(2)"
   ]
  },
  {
   "cell_type": "code",
   "execution_count": 25,
   "metadata": {
    "metadata": {}
   },
   "outputs": [
    {
     "data": {
      "text/latex": [
       "$\\displaystyle - \\frac{i \\gamma_{0} \\gamma_{1}}{2} - \\frac{i \\gamma_{0} \\gamma_{3}}{2} + \\frac{i \\gamma_{1} \\gamma_{2}}{2} - \\frac{i \\gamma_{2} \\gamma_{3}}{2}$"
      ],
      "text/plain": [
       "-I*\\gamma_0*\\gamma_1/2 - I*\\gamma_0*\\gamma_3/2 + I*\\gamma_1*\\gamma_2/2 - I*\\gamma_2*\\gamma_3/2"
      ]
     },
     "execution_count": 25,
     "metadata": {},
     "output_type": "execute_result"
    }
   ],
   "source": [
    "recursiveapply((2*Dagger(c['+'])*(c['+'])-1).subs(c2g).expand().subs(selfadjoint),normalorder2)"
   ]
  },
  {
   "cell_type": "code",
   "execution_count": 62,
   "metadata": {
    "metadata": {}
   },
   "outputs": [
    {
     "data": {
      "text/latex": [
       "$\\displaystyle - c_{1}^{\\dagger} c_{0}^{\\dagger} c_{1} c_{0}$"
      ],
      "text/plain": [
       "-Dagger(c_1)*Dagger(c_0)*c_1*c_0"
      ]
     },
     "execution_count": 62,
     "metadata": {},
     "output_type": "execute_result"
    }
   ],
   "source": [
    "recursiveapply((Dagger(c['+'])*(c['+'])*Dagger(c['-'])*(c['-'])).expand(),normalorder2_C)"
   ]
  },
  {
   "cell_type": "code",
   "execution_count": 64,
   "metadata": {
    "metadata": {}
   },
   "outputs": [
    {
     "data": {
      "text/latex": [
       "$\\displaystyle \\frac{c_{0}^{\\dagger} c_{0}}{2} - \\frac{c_{0}^{\\dagger} c_{1}}{2} + c_{1}^{\\dagger} c_{0}^{\\dagger} c_{1} c_{0} - \\frac{c_{1}^{\\dagger} c_{0}}{2} + \\frac{c_{1}^{\\dagger} c_{1}}{2}$"
      ],
      "text/plain": [
       "Dagger(c_0)*c_0/2 - Dagger(c_0)*c_1/2 + Dagger(c_1)*Dagger(c_0)*c_1*c_0 - Dagger(c_1)*c_0/2 + Dagger(c_1)*c_1/2"
      ]
     },
     "execution_count": 64,
     "metadata": {},
     "output_type": "execute_result"
    }
   ],
   "source": [
    "recursiveapply(((c['+'])*Dagger(c['+'])*Dagger(c['-'])*(c['-'])).expand(),normalorder2_C)"
   ]
  },
  {
   "cell_type": "code",
   "execution_count": 27,
   "metadata": {
    "metadata": {}
   },
   "outputs": [
    {
     "data": {
      "text/latex": [
       "$\\displaystyle - i \\gamma_{0} \\gamma_{1}$"
      ],
      "text/plain": [
       "-I*\\gamma_0*\\gamma_1"
      ]
     },
     "execution_count": 27,
     "metadata": {},
     "output_type": "execute_result"
    }
   ],
   "source": [
    "recursiveapply((2*Dagger(c[0])*(c[0])-1).subs(c2g).expand().subs(selfadjoint),normalorder2)"
   ]
  },
  {
   "cell_type": "code",
   "execution_count": 28,
   "metadata": {
    "metadata": {}
   },
   "outputs": [
    {
     "data": {
      "text/latex": [
       "$\\displaystyle - i \\gamma_{2} \\gamma_{3}$"
      ],
      "text/plain": [
       "-I*\\gamma_2*\\gamma_3"
      ]
     },
     "execution_count": 28,
     "metadata": {},
     "output_type": "execute_result"
    }
   ],
   "source": [
    "recursiveapply((2*Dagger(c[1])*(c[1])-1).subs(c2g).expand().subs(selfadjoint),normalorder2)"
   ]
  },
  {
   "cell_type": "code",
   "execution_count": 29,
   "metadata": {
    "metadata": {}
   },
   "outputs": [
    {
     "data": {
      "text/latex": [
       "$\\displaystyle c_{1}^{\\dagger} c_{0}^{\\dagger}$"
      ],
      "text/plain": [
       "Dagger(c_1)*Dagger(c_0)"
      ]
     },
     "execution_count": 29,
     "metadata": {},
     "output_type": "execute_result"
    }
   ],
   "source": [
    "recursiveapply((Dagger(c['+'])*Dagger(c['-'])).expand(),normalorder2_C)"
   ]
  },
  {
   "cell_type": "code",
   "execution_count": 30,
   "metadata": {
    "metadata": {}
   },
   "outputs": [
    {
     "data": {
      "text/latex": [
       "$\\displaystyle 0$"
      ],
      "text/plain": [
       "0"
      ]
     },
     "execution_count": 30,
     "metadata": {},
     "output_type": "execute_result"
    }
   ],
   "source": [
    "recursiveapply(((c['+'])*Dagger(c['+'])*(c['-'])*Dagger(c['-'])*Dagger(c[0])*Dagger(c[1])).expand(),normalorder2_C)"
   ]
  },
  {
   "cell_type": "code",
   "execution_count": 31,
   "metadata": {
    "metadata": {}
   },
   "outputs": [
    {
     "data": {
      "text/latex": [
       "$\\displaystyle 0$"
      ],
      "text/plain": [
       "0"
      ]
     },
     "execution_count": 31,
     "metadata": {},
     "output_type": "execute_result"
    }
   ],
   "source": [
    "recursiveapply(((c['-'])*Dagger(c['-'])*Dagger(c['+'])*c['+']*Dagger(c[0])*Dagger(c[1])).expand(),normalorder2_C)"
   ]
  },
  {
   "cell_type": "code",
   "execution_count": 32,
   "metadata": {
    "metadata": {}
   },
   "outputs": [
    {
     "data": {
      "text/latex": [
       "$\\displaystyle \\frac{c_{0}^{\\dagger} c_{0}}{2} + \\frac{c_{0}^{\\dagger} c_{1}}{2} + \\frac{c_{1}^{\\dagger} c_{0}}{2} + \\frac{c_{1}^{\\dagger} c_{1}}{2}$"
      ],
      "text/plain": [
       "Dagger(c_0)*c_0/2 + Dagger(c_0)*c_1/2 + Dagger(c_1)*c_0/2 + Dagger(c_1)*c_1/2"
      ]
     },
     "execution_count": 32,
     "metadata": {},
     "output_type": "execute_result"
    }
   ],
   "source": [
    "recursiveapply((Dagger(c['+'])*c['+']).expand(),normalorder2_C)"
   ]
  },
  {
   "cell_type": "code",
   "execution_count": null,
   "metadata": {},
   "outputs": [],
   "source": [
    "(Dagger(c['-'])*c['-']*Dagger(c[0])*Dagger(c[1])).expand()"
   ]
  },
  {
   "cell_type": "code",
   "execution_count": null,
   "metadata": {},
   "outputs": [],
   "source": [
    "recursiveapply((Dagger(c['-'])*c['-']).expand(),normalorder2_C)"
   ]
  },
  {
   "cell_type": "code",
   "execution_count": null,
   "metadata": {},
   "outputs": [],
   "source": [
    "recursiveapply((Dagger(c['+'])*c[0]*Dagger(c[0])*c[1]*Dagger(c[1])*c['+']*Dagger(c['+'])).expand(),normalorder2_C)"
   ]
  },
  {
   "cell_type": "code",
   "execution_count": 45,
   "metadata": {
    "metadata": {}
   },
   "outputs": [
    {
     "data": {
      "text/latex": [
       "$\\displaystyle c_{0}^{\\dagger} c_{1} + c_{1}^{\\dagger} c_{0}$"
      ],
      "text/plain": [
       "Dagger(c_0)*c_1 + Dagger(c_1)*c_0"
      ]
     },
     "execution_count": 45,
     "metadata": {},
     "output_type": "execute_result"
    }
   ],
   "source": [
    "# recover\n",
    "recursiveapply((Dagger(c['+'])*c['+']-Dagger(c['-'])*c['-']).expand(),normalorder2_C)"
   ]
  },
  {
   "cell_type": "code",
   "execution_count": 46,
   "metadata": {
    "metadata": {}
   },
   "outputs": [
    {
     "data": {
      "text/latex": [
       "$\\displaystyle 0$"
      ],
      "text/plain": [
       "0"
      ]
     },
     "execution_count": 46,
     "metadata": {},
     "output_type": "execute_result"
    }
   ],
   "source": [
    "# commuting\n",
    "recursiveapply((((Dagger(c['+'])*c['+'])*(Dagger(c['-'])*c['-'])-(Dagger(c['-'])*c['-'])*(Dagger(c['+'])*c['+'])).expand()),normalorder2_C)"
   ]
  },
  {
   "cell_type": "code",
   "execution_count": 47,
   "metadata": {
    "metadata": {}
   },
   "outputs": [
    {
     "data": {
      "text/latex": [
       "$\\displaystyle 0$"
      ],
      "text/plain": [
       "0"
      ]
     },
     "execution_count": 47,
     "metadata": {},
     "output_type": "execute_result"
    }
   ],
   "source": [
    "# commuting\n",
    "recursiveapply((((Dagger(c['+'])*c['+']-1/2)*(Dagger(c['-'])*c['-']-1/2)-(Dagger(c['-'])*c['-']-1/2)*(Dagger(c['+'])*c['+']-1/2)).expand()),normalorder2_C)"
   ]
  },
  {
   "cell_type": "code",
   "execution_count": 48,
   "metadata": {
    "metadata": {}
   },
   "outputs": [
    {
     "data": {
      "text/latex": [
       "$\\displaystyle 1$"
      ],
      "text/plain": [
       "1"
      ]
     },
     "execution_count": 48,
     "metadata": {},
     "output_type": "execute_result"
    }
   ],
   "source": [
    "# power\n",
    "recursiveapply(((2*Dagger(c['+'])*c['+']-1)**2).expand(),normalorder2_C)"
   ]
  },
  {
   "cell_type": "code",
   "execution_count": 49,
   "metadata": {
    "metadata": {}
   },
   "outputs": [
    {
     "data": {
      "text/latex": [
       "$\\displaystyle \\frac{1}{2} - \\frac{i \\gamma_{0} \\gamma_{1}}{4} - \\frac{i \\gamma_{0} \\gamma_{3}}{4} + \\frac{i \\gamma_{1} \\gamma_{2}}{4} - \\frac{i \\gamma_{2} \\gamma_{3}}{4}$"
      ],
      "text/plain": [
       "1/2 - I*\\gamma_0*\\gamma_1/4 - I*\\gamma_0*\\gamma_3/4 + I*\\gamma_1*\\gamma_2/4 - I*\\gamma_2*\\gamma_3/4"
      ]
     },
     "execution_count": 49,
     "metadata": {},
     "output_type": "execute_result"
    }
   ],
   "source": [
    "# expand to gamma\n",
    "recursiveapply((Dagger(c['+'])*c['+']).subs(c2g).subs(selfadjoint).expand(),normalorder2)"
   ]
  },
  {
   "cell_type": "code",
   "execution_count": 50,
   "metadata": {
    "metadata": {}
   },
   "outputs": [
    {
     "data": {
      "text/latex": [
       "$\\displaystyle - \\frac{i \\gamma_{0} \\gamma_{1}}{2} + \\frac{i \\gamma_{0} \\gamma_{3}}{2} - \\frac{i \\gamma_{1} \\gamma_{2}}{2} - \\frac{i \\gamma_{2} \\gamma_{3}}{2}$"
      ],
      "text/plain": [
       "-I*\\gamma_0*\\gamma_1/2 + I*\\gamma_0*\\gamma_3/2 - I*\\gamma_1*\\gamma_2/2 - I*\\gamma_2*\\gamma_3/2"
      ]
     },
     "execution_count": 50,
     "metadata": {},
     "output_type": "execute_result"
    }
   ],
   "source": [
    "# expand to gamma\n",
    "recursiveapply((2*Dagger(c['-'])*c['-']-1).subs(c2g).subs(selfadjoint).expand(),normalorder2)"
   ]
  },
  {
   "cell_type": "code",
   "execution_count": 51,
   "metadata": {
    "metadata": {}
   },
   "outputs": [],
   "source": [
    "# op\n",
    "op_={(s1,s2):recursiveapply(\n",
    "    (cosh(a/2)/sqrt(2*cosh(a))+s1*(sinh(a/2)/sqrt(2*cosh(a))*(2*Dagger(c['+'])*c['+']-1)).subs(c2g).subs(selfadjoint).expand())*(cosh(a/2)/sqrt(2*cosh(a))+s2*(sinh(a/2)/sqrt(2*cosh(a))*(2*Dagger(c['-'])*c['-']-1)).subs(c2g).subs(selfadjoint).expand()),normalorder2) for s1 in [-1,1] for s2 in [-1,1]}"
   ]
  },
  {
   "cell_type": "code",
   "execution_count": 52,
   "metadata": {
    "metadata": {}
   },
   "outputs": [
    {
     "data": {
      "text/latex": [
       "$\\displaystyle - \\frac{\\sinh^{2}{\\left(\\frac{\\alpha}{2} \\right)} \\gamma_{0} \\gamma_{1} \\gamma_{2} \\gamma_{3}}{2 \\cosh{\\left(\\alpha \\right)}} - \\frac{i \\sinh{\\left(\\frac{\\alpha}{2} \\right)} \\cosh{\\left(\\frac{\\alpha}{2} \\right)} \\gamma_{0} \\gamma_{1}}{2 \\cosh{\\left(\\alpha \\right)}} - \\frac{i \\sinh{\\left(\\frac{\\alpha}{2} \\right)} \\cosh{\\left(\\frac{\\alpha}{2} \\right)} \\gamma_{2} \\gamma_{3}}{2 \\cosh{\\left(\\alpha \\right)}} + \\frac{\\cosh^{2}{\\left(\\frac{\\alpha}{2} \\right)}}{2 \\cosh{\\left(\\alpha \\right)}}$"
      ],
      "text/plain": [
       "-sinh(\\alpha/2)**2*\\gamma_0*\\gamma_1*\\gamma_2*\\gamma_3/(2*cosh(\\alpha)) - I*sinh(\\alpha/2)*cosh(\\alpha/2)*\\gamma_0*\\gamma_1/(2*cosh(\\alpha)) - I*sinh(\\alpha/2)*cosh(\\alpha/2)*\\gamma_2*\\gamma_3/(2*cosh(\\alpha)) + cosh(\\alpha/2)**2/(2*cosh(\\alpha))"
      ]
     },
     "execution_count": 52,
     "metadata": {},
     "output_type": "execute_result"
    }
   ],
   "source": [
    "op_[1,1]"
   ]
  },
  {
   "cell_type": "code",
   "execution_count": 53,
   "metadata": {
    "metadata": {}
   },
   "outputs": [],
   "source": [
    "prob=recursiveapply(((cosh(s1*a)+sinh(s1*a)*(2*Dagger(c['+'])*c['+']-1)) * (cosh(s2*a)+sinh(s2*a)*(2*Dagger(c['-'])*c['-']-1))).subs(c2g).subs(selfadjoint).expand(),normalorder2)"
   ]
  },
  {
   "cell_type": "code",
   "execution_count": 54,
   "metadata": {
    "metadata": {}
   },
   "outputs": [
    {
     "data": {
      "text/latex": [
       "$\\displaystyle - \\sinh{\\left(\\alpha s_{1} \\right)} \\sinh{\\left(\\alpha s_{2} \\right)} \\gamma_{0} \\gamma_{1} \\gamma_{2} \\gamma_{3} - \\frac{i \\sinh{\\left(\\alpha s_{1} \\right)} \\cosh{\\left(\\alpha s_{2} \\right)} \\gamma_{0} \\gamma_{1}}{2} - \\frac{i \\sinh{\\left(\\alpha s_{1} \\right)} \\cosh{\\left(\\alpha s_{2} \\right)} \\gamma_{0} \\gamma_{3}}{2} + \\frac{i \\sinh{\\left(\\alpha s_{1} \\right)} \\cosh{\\left(\\alpha s_{2} \\right)} \\gamma_{1} \\gamma_{2}}{2} - \\frac{i \\sinh{\\left(\\alpha s_{1} \\right)} \\cosh{\\left(\\alpha s_{2} \\right)} \\gamma_{2} \\gamma_{3}}{2} - \\frac{i \\sinh{\\left(\\alpha s_{2} \\right)} \\cosh{\\left(\\alpha s_{1} \\right)} \\gamma_{0} \\gamma_{1}}{2} + \\frac{i \\sinh{\\left(\\alpha s_{2} \\right)} \\cosh{\\left(\\alpha s_{1} \\right)} \\gamma_{0} \\gamma_{3}}{2} - \\frac{i \\sinh{\\left(\\alpha s_{2} \\right)} \\cosh{\\left(\\alpha s_{1} \\right)} \\gamma_{1} \\gamma_{2}}{2} - \\frac{i \\sinh{\\left(\\alpha s_{2} \\right)} \\cosh{\\left(\\alpha s_{1} \\right)} \\gamma_{2} \\gamma_{3}}{2} + \\cosh{\\left(\\alpha s_{1} \\right)} \\cosh{\\left(\\alpha s_{2} \\right)}$"
      ],
      "text/plain": [
       "-sinh(\\alpha*s_1)*sinh(\\alpha*s_2)*\\gamma_0*\\gamma_1*\\gamma_2*\\gamma_3 - I*sinh(\\alpha*s_1)*cosh(\\alpha*s_2)*\\gamma_0*\\gamma_1/2 - I*sinh(\\alpha*s_1)*cosh(\\alpha*s_2)*\\gamma_0*\\gamma_3/2 + I*sinh(\\alpha*s_1)*cosh(\\alpha*s_2)*\\gamma_1*\\gamma_2/2 - I*sinh(\\alpha*s_1)*cosh(\\alpha*s_2)*\\gamma_2*\\gamma_3/2 - I*sinh(\\alpha*s_2)*cosh(\\alpha*s_1)*\\gamma_0*\\gamma_1/2 + I*sinh(\\alpha*s_2)*cosh(\\alpha*s_1)*\\gamma_0*\\gamma_3/2 - I*sinh(\\alpha*s_2)*cosh(\\alpha*s_1)*\\gamma_1*\\gamma_2/2 - I*sinh(\\alpha*s_2)*cosh(\\alpha*s_1)*\\gamma_2*\\gamma_3/2 + cosh(\\alpha*s_1)*cosh(\\alpha*s_2)"
      ]
     },
     "execution_count": 54,
     "metadata": {},
     "output_type": "execute_result"
    }
   ],
   "source": [
    "prob"
   ]
  },
  {
   "cell_type": "code",
   "execution_count": 55,
   "metadata": {
    "metadata": {}
   },
   "outputs": [],
   "source": [
    "prob_nor=(prob*(1/(2*cosh(a))**2)).subs({cosh(s1*a):cosh(a), cosh(s2*a):cosh(a), sinh(s1*a):s1*sinh(a), sinh(s2*a):s2*sinh(a)}).expand().subs({sinh(a):cosh(a)*tanh(a)})"
   ]
  },
  {
   "cell_type": "code",
   "execution_count": 56,
   "metadata": {
    "metadata": {}
   },
   "outputs": [
    {
     "data": {
      "text/latex": [
       "$\\displaystyle - \\frac{s_{1} s_{2} \\tanh^{2}{\\left(\\alpha \\right)} \\gamma_{0} \\gamma_{1} \\gamma_{2} \\gamma_{3}}{4} - \\frac{i s_{1} \\tanh{\\left(\\alpha \\right)} \\gamma_{0} \\gamma_{1}}{8} - \\frac{i s_{1} \\tanh{\\left(\\alpha \\right)} \\gamma_{0} \\gamma_{3}}{8} + \\frac{i s_{1} \\tanh{\\left(\\alpha \\right)} \\gamma_{1} \\gamma_{2}}{8} - \\frac{i s_{1} \\tanh{\\left(\\alpha \\right)} \\gamma_{2} \\gamma_{3}}{8} - \\frac{i s_{2} \\tanh{\\left(\\alpha \\right)} \\gamma_{0} \\gamma_{1}}{8} + \\frac{i s_{2} \\tanh{\\left(\\alpha \\right)} \\gamma_{0} \\gamma_{3}}{8} - \\frac{i s_{2} \\tanh{\\left(\\alpha \\right)} \\gamma_{1} \\gamma_{2}}{8} - \\frac{i s_{2} \\tanh{\\left(\\alpha \\right)} \\gamma_{2} \\gamma_{3}}{8} + \\frac{1}{4}$"
      ],
      "text/plain": [
       "-s_1*s_2*tanh(\\alpha)**2*\\gamma_0*\\gamma_1*\\gamma_2*\\gamma_3/4 - I*s_1*tanh(\\alpha)*\\gamma_0*\\gamma_1/8 - I*s_1*tanh(\\alpha)*\\gamma_0*\\gamma_3/8 + I*s_1*tanh(\\alpha)*\\gamma_1*\\gamma_2/8 - I*s_1*tanh(\\alpha)*\\gamma_2*\\gamma_3/8 - I*s_2*tanh(\\alpha)*\\gamma_0*\\gamma_1/8 + I*s_2*tanh(\\alpha)*\\gamma_0*\\gamma_3/8 - I*s_2*tanh(\\alpha)*\\gamma_1*\\gamma_2/8 - I*s_2*tanh(\\alpha)*\\gamma_2*\\gamma_3/8 + 1/4"
      ]
     },
     "execution_count": 56,
     "metadata": {},
     "output_type": "execute_result"
    }
   ],
   "source": [
    "prob_nor"
   ]
  },
  {
   "cell_type": "code",
   "execution_count": 85,
   "metadata": {},
   "outputs": [],
   "source": [
    "g2P={I*g[i]*g[j]:P[i,j] for i in range(4) for j in range(i+1,4)}"
   ]
  },
  {
   "cell_type": "code",
   "execution_count": 90,
   "metadata": {},
   "outputs": [
    {
     "data": {
      "text/latex": [
       "$\\displaystyle P_{0,1} \\left(- \\frac{n s_{1}}{8} - \\frac{n s_{2}}{8}\\right) + P_{0,3} \\left(- \\frac{n s_{1}}{8} + \\frac{n s_{2}}{8}\\right) + P_{1,2} \\left(\\frac{n s_{1}}{8} - \\frac{n s_{2}}{8}\\right) + P_{2,3} \\left(- \\frac{n s_{1}}{8} - \\frac{n s_{2}}{8}\\right) - \\frac{n^{2} s_{1} s_{2} \\left(- P_{0,1} P_{2,3} + P_{0,2} P_{1,3} - P_{0,3} P_{1,2}\\right)}{4} + \\frac{1}{4}$"
      ],
      "text/plain": [
       "P_{0,1}*(-n*s1/8 - n*s2/8) + P_{0,3}*(-n*s1/8 + n*s2/8) + P_{1,2}*(n*s1/8 - n*s2/8) + P_{2,3}*(-n*s1/8 - n*s2/8) - n**2*s1*s2*(-P_{0,1}*P_{2,3} + P_{0,2}*P_{1,3} - P_{0,3}*P_{1,2})/4 + 1/4"
      ]
     },
     "execution_count": 90,
     "metadata": {},
     "output_type": "execute_result"
    }
   ],
   "source": [
    "collect(prob_nor.subs({tanh(a):n,-g[0]*g[1]*g[2]*g[3]:(P[0,1]*P[2,3]-P[0,2]*P[1,3]+P[0,3]*P[1,2]),**g2P}),list(P.values()))"
   ]
  },
  {
   "cell_type": "code",
   "execution_count": 93,
   "metadata": {},
   "outputs": [
    {
     "data": {
      "text/latex": [
       "$\\displaystyle - \\frac{P_{0,1} n}{4} - \\frac{P_{2,3} n}{4} - \\frac{n^{2} \\left(- P_{0,1} P_{2,3} + P_{0,2} P_{1,3} - P_{0,3} P_{1,2}\\right)}{4} + \\frac{1}{4}$"
      ],
      "text/plain": [
       "-P_{0,1}*n/4 - P_{2,3}*n/4 - n**2*(-P_{0,1}*P_{2,3} + P_{0,2}*P_{1,3} - P_{0,3}*P_{1,2})/4 + 1/4"
      ]
     },
     "execution_count": 93,
     "metadata": {},
     "output_type": "execute_result"
    }
   ],
   "source": [
    "collect(prob_nor.subs({tanh(a):n,-g[0]*g[1]*g[2]*g[3]:(P[0,1]*P[2,3]-P[0,2]*P[1,3]+P[0,3]*P[1,2]),**g2P}),list(P.values())).subs({s1:1,s2:1})"
   ]
  },
  {
   "cell_type": "code",
   "execution_count": 94,
   "metadata": {},
   "outputs": [
    {
     "data": {
      "text/latex": [
       "$\\displaystyle \\frac{P_{0,1} n}{4} + \\frac{P_{2,3} n}{4} - \\frac{n^{2} \\left(- P_{0,1} P_{2,3} + P_{0,2} P_{1,3} - P_{0,3} P_{1,2}\\right)}{4} + \\frac{1}{4}$"
      ],
      "text/plain": [
       "P_{0,1}*n/4 + P_{2,3}*n/4 - n**2*(-P_{0,1}*P_{2,3} + P_{0,2}*P_{1,3} - P_{0,3}*P_{1,2})/4 + 1/4"
      ]
     },
     "execution_count": 94,
     "metadata": {},
     "output_type": "execute_result"
    }
   ],
   "source": [
    "collect(prob_nor.subs({tanh(a):n,-g[0]*g[1]*g[2]*g[3]:(P[0,1]*P[2,3]-P[0,2]*P[1,3]+P[0,3]*P[1,2]),**g2P}),list(P.values())).subs({s1:-1,s2:-1})"
   ]
  },
  {
   "cell_type": "code",
   "execution_count": 96,
   "metadata": {},
   "outputs": [
    {
     "data": {
      "text/latex": [
       "$\\displaystyle \\frac{P_{0,3} n}{4} - \\frac{P_{1,2} n}{4} + \\frac{n^{2} \\left(- P_{0,1} P_{2,3} + P_{0,2} P_{1,3} - P_{0,3} P_{1,2}\\right)}{4} + \\frac{1}{4}$"
      ],
      "text/plain": [
       "P_{0,3}*n/4 - P_{1,2}*n/4 + n**2*(-P_{0,1}*P_{2,3} + P_{0,2}*P_{1,3} - P_{0,3}*P_{1,2})/4 + 1/4"
      ]
     },
     "execution_count": 96,
     "metadata": {},
     "output_type": "execute_result"
    }
   ],
   "source": [
    "collect(prob_nor.subs({tanh(a):n,-g[0]*g[1]*g[2]*g[3]:(P[0,1]*P[2,3]-P[0,2]*P[1,3]+P[0,3]*P[1,2]),**g2P}),list(P.values())).subs({s1:-1,s2:1})"
   ]
  },
  {
   "cell_type": "code",
   "execution_count": 95,
   "metadata": {},
   "outputs": [
    {
     "data": {
      "text/latex": [
       "$\\displaystyle - \\frac{P_{0,3} n}{4} + \\frac{P_{1,2} n}{4} + \\frac{n^{2} \\left(- P_{0,1} P_{2,3} + P_{0,2} P_{1,3} - P_{0,3} P_{1,2}\\right)}{4} + \\frac{1}{4}$"
      ],
      "text/plain": [
       "-P_{0,3}*n/4 + P_{1,2}*n/4 + n**2*(-P_{0,1}*P_{2,3} + P_{0,2}*P_{1,3} - P_{0,3}*P_{1,2})/4 + 1/4"
      ]
     },
     "execution_count": 95,
     "metadata": {},
     "output_type": "execute_result"
    }
   ],
   "source": [
    "collect(prob_nor.subs({tanh(a):n,-g[0]*g[1]*g[2]*g[3]:(P[0,1]*P[2,3]-P[0,2]*P[1,3]+P[0,3]*P[1,2]),**g2P}),list(P.values())).subs({s1:1,s2:-1})"
   ]
  },
  {
   "cell_type": "code",
   "execution_count": 71,
   "metadata": {},
   "outputs": [
    {
     "data": {
      "text/latex": [
       "$\\displaystyle \\frac{n^{2} \\gamma_{0} \\gamma_{1} \\gamma_{2} \\gamma_{3}}{4} - \\frac{i n \\gamma_{0} \\gamma_{3}}{4} + \\frac{i n \\gamma_{1} \\gamma_{2}}{4} + \\frac{1}{4}$"
      ],
      "text/plain": [
       "n**2*\\gamma_0*\\gamma_1*\\gamma_2*\\gamma_3/4 - I*n*\\gamma_0*\\gamma_3/4 + I*n*\\gamma_1*\\gamma_2/4 + 1/4"
      ]
     },
     "execution_count": 71,
     "metadata": {},
     "output_type": "execute_result"
    }
   ],
   "source": [
    "prob_nor.subs({tanh(a):n,s1:1,s2:-1})"
   ]
  },
  {
   "cell_type": "code",
   "execution_count": 64,
   "metadata": {},
   "outputs": [
    {
     "data": {
      "text/latex": [
       "$\\displaystyle 1$"
      ],
      "text/plain": [
       "1"
      ]
     },
     "execution_count": 64,
     "metadata": {},
     "output_type": "execute_result"
    }
   ],
   "source": [
    "sum([prob_nor.subs({s1:n1,s2:n2}) for n1 in [-1,1] for n2 in [-1,1]])"
   ]
  },
  {
   "cell_type": "code",
   "execution_count": 168,
   "metadata": {},
   "outputs": [],
   "source": [
    "# op\n",
    "op_={(s1,s2):recursiveapply(\n",
    "    (cosh(a/2)/sqrt(2*cosh(a))+s1*(sinh(a/2)/sqrt(2*cosh(a))*(2*Dagger(c['+'])*c['+']-1)).subs(c2g).subs(selfadjoint).expand())*(cosh(a/2)/sqrt(2*cosh(a))+s2*(sinh(a/2)/sqrt(2*cosh(a))*(2*Dagger(c['-'])*c['-']-1)).subs(c2g).subs(selfadjoint).expand()),normalorder2) for s1 in [-1,1] for s2 in [-1,1]}"
   ]
  },
  {
   "cell_type": "code",
   "execution_count": 169,
   "metadata": {},
   "outputs": [
    {
     "data": {
      "text/latex": [
       "$\\displaystyle \\frac{\\sinh^{2}{\\left(\\frac{\\alpha}{2} \\right)} \\gamma_{0} \\gamma_{1} \\gamma_{2} \\gamma_{3}}{2 \\cosh{\\left(\\alpha \\right)}} - \\frac{i \\sinh{\\left(\\frac{\\alpha}{2} \\right)} \\cosh{\\left(\\frac{\\alpha}{2} \\right)} \\gamma_{0} \\gamma_{3}}{2 \\cosh{\\left(\\alpha \\right)}} + \\frac{i \\sinh{\\left(\\frac{\\alpha}{2} \\right)} \\cosh{\\left(\\frac{\\alpha}{2} \\right)} \\gamma_{1} \\gamma_{2}}{2 \\cosh{\\left(\\alpha \\right)}} + \\frac{\\cosh^{2}{\\left(\\frac{\\alpha}{2} \\right)}}{2 \\cosh{\\left(\\alpha \\right)}}$"
      ],
      "text/plain": [
       "sinh(\\alpha/2)**2*\\gamma_0*\\gamma_1*\\gamma_2*\\gamma_3/(2*cosh(\\alpha)) - I*sinh(\\alpha/2)*cosh(\\alpha/2)*\\gamma_0*\\gamma_3/(2*cosh(\\alpha)) + I*sinh(\\alpha/2)*cosh(\\alpha/2)*\\gamma_1*\\gamma_2/(2*cosh(\\alpha)) + cosh(\\alpha/2)**2/(2*cosh(\\alpha))"
      ]
     },
     "execution_count": 169,
     "metadata": {},
     "output_type": "execute_result"
    }
   ],
   "source": [
    "op_[(1,-1)]"
   ]
  },
  {
   "cell_type": "code",
   "execution_count": 170,
   "metadata": {},
   "outputs": [
    {
     "data": {
      "text/latex": [
       "$\\displaystyle \\frac{\\sinh^{2}{\\left(\\frac{\\alpha}{2} \\right)} \\gamma_{0} \\gamma_{1} \\gamma_{2} \\gamma_{3}}{2 \\cosh{\\left(\\alpha \\right)}} + \\frac{i \\sinh{\\left(\\frac{\\alpha}{2} \\right)} \\cosh{\\left(\\frac{\\alpha}{2} \\right)} \\gamma_{0} \\gamma_{3}}{2 \\cosh{\\left(\\alpha \\right)}} - \\frac{i \\sinh{\\left(\\frac{\\alpha}{2} \\right)} \\cosh{\\left(\\frac{\\alpha}{2} \\right)} \\gamma_{1} \\gamma_{2}}{2 \\cosh{\\left(\\alpha \\right)}} + \\frac{\\cosh^{2}{\\left(\\frac{\\alpha}{2} \\right)}}{2 \\cosh{\\left(\\alpha \\right)}}$"
      ],
      "text/plain": [
       "sinh(\\alpha/2)**2*\\gamma_0*\\gamma_1*\\gamma_2*\\gamma_3/(2*cosh(\\alpha)) + I*sinh(\\alpha/2)*cosh(\\alpha/2)*\\gamma_0*\\gamma_3/(2*cosh(\\alpha)) - I*sinh(\\alpha/2)*cosh(\\alpha/2)*\\gamma_1*\\gamma_2/(2*cosh(\\alpha)) + cosh(\\alpha/2)**2/(2*cosh(\\alpha))"
      ]
     },
     "execution_count": 170,
     "metadata": {},
     "output_type": "execute_result"
    }
   ],
   "source": [
    "op_[(-1,1)]"
   ]
  },
  {
   "cell_type": "code",
   "execution_count": 171,
   "metadata": {},
   "outputs": [
    {
     "data": {
      "text/latex": [
       "$\\displaystyle - \\frac{\\sinh^{2}{\\left(\\frac{\\alpha}{2} \\right)} \\gamma_{0} \\gamma_{1} \\gamma_{2} \\gamma_{3}}{2 \\cosh{\\left(\\alpha \\right)}} - \\frac{i \\sinh{\\left(\\frac{\\alpha}{2} \\right)} \\cosh{\\left(\\frac{\\alpha}{2} \\right)} \\gamma_{0} \\gamma_{1}}{2 \\cosh{\\left(\\alpha \\right)}} - \\frac{i \\sinh{\\left(\\frac{\\alpha}{2} \\right)} \\cosh{\\left(\\frac{\\alpha}{2} \\right)} \\gamma_{2} \\gamma_{3}}{2 \\cosh{\\left(\\alpha \\right)}} + \\frac{\\cosh^{2}{\\left(\\frac{\\alpha}{2} \\right)}}{2 \\cosh{\\left(\\alpha \\right)}}$"
      ],
      "text/plain": [
       "-sinh(\\alpha/2)**2*\\gamma_0*\\gamma_1*\\gamma_2*\\gamma_3/(2*cosh(\\alpha)) - I*sinh(\\alpha/2)*cosh(\\alpha/2)*\\gamma_0*\\gamma_1/(2*cosh(\\alpha)) - I*sinh(\\alpha/2)*cosh(\\alpha/2)*\\gamma_2*\\gamma_3/(2*cosh(\\alpha)) + cosh(\\alpha/2)**2/(2*cosh(\\alpha))"
      ]
     },
     "execution_count": 171,
     "metadata": {},
     "output_type": "execute_result"
    }
   ],
   "source": [
    "op_[(1,1)]"
   ]
  },
  {
   "cell_type": "code",
   "execution_count": 172,
   "metadata": {},
   "outputs": [
    {
     "data": {
      "text/latex": [
       "$\\displaystyle - \\frac{\\sinh^{2}{\\left(\\frac{\\alpha}{2} \\right)} \\gamma_{0} \\gamma_{1} \\gamma_{2} \\gamma_{3}}{2 \\cosh{\\left(\\alpha \\right)}} + \\frac{i \\sinh{\\left(\\frac{\\alpha}{2} \\right)} \\cosh{\\left(\\frac{\\alpha}{2} \\right)} \\gamma_{0} \\gamma_{1}}{2 \\cosh{\\left(\\alpha \\right)}} + \\frac{i \\sinh{\\left(\\frac{\\alpha}{2} \\right)} \\cosh{\\left(\\frac{\\alpha}{2} \\right)} \\gamma_{2} \\gamma_{3}}{2 \\cosh{\\left(\\alpha \\right)}} + \\frac{\\cosh^{2}{\\left(\\frac{\\alpha}{2} \\right)}}{2 \\cosh{\\left(\\alpha \\right)}}$"
      ],
      "text/plain": [
       "-sinh(\\alpha/2)**2*\\gamma_0*\\gamma_1*\\gamma_2*\\gamma_3/(2*cosh(\\alpha)) + I*sinh(\\alpha/2)*cosh(\\alpha/2)*\\gamma_0*\\gamma_1/(2*cosh(\\alpha)) + I*sinh(\\alpha/2)*cosh(\\alpha/2)*\\gamma_2*\\gamma_3/(2*cosh(\\alpha)) + cosh(\\alpha/2)**2/(2*cosh(\\alpha))"
      ]
     },
     "execution_count": 172,
     "metadata": {},
     "output_type": "execute_result"
    }
   ],
   "source": [
    "op_[(-1,-1)]"
   ]
  },
  {
   "cell_type": "code",
   "execution_count": null,
   "metadata": {},
   "outputs": [],
   "source": [
    "recursiveapply((op_plus*op_minus).expand(),normalorder2)"
   ]
  },
  {
   "cell_type": "code",
   "execution_count": null,
   "metadata": {},
   "outputs": [],
   "source": [
    "# op\n",
    "op_minus=recursiveapply(cosh(-a/2)/sqrt(2*cosh(-a))+(sinh(-a/2)/sqrt(2*cosh(-a))*(2*Dagger(c['-'])*c['-']-1)).subs(c2g).subs(selfadjoint).expand(),normalorder2)"
   ]
  },
  {
   "cell_type": "code",
   "execution_count": null,
   "metadata": {},
   "outputs": [],
   "source": [
    "op_minus"
   ]
  },
  {
   "cell_type": "code",
   "execution_count": 165,
   "metadata": {},
   "outputs": [],
   "source": [
    "op_pm=(recursiveapply((op_plus*op_minus).expand(),normalorder2).simplify()).expand()"
   ]
  },
  {
   "cell_type": "code",
   "execution_count": null,
   "metadata": {},
   "outputs": [],
   "source": [
    "op_pp=(recursiveapply((op_plus*op_plus).expand(),normalorder2).simplify()).expand()"
   ]
  },
  {
   "cell_type": "code",
   "execution_count": null,
   "metadata": {},
   "outputs": [],
   "source": [
    "recursiveapply((op_minus*op_plus).expand(),normalorder2)"
   ]
  },
  {
   "cell_type": "code",
   "execution_count": null,
   "metadata": {},
   "outputs": [],
   "source": []
  },
  {
   "cell_type": "code",
   "execution_count": null,
   "metadata": {},
   "outputs": [],
   "source": [
    "recursiveapply(((2*Dagger(c['+'])*c['+']-1)**3).expand(),normalorder2_C)"
   ]
  },
  {
   "cell_type": "code",
   "execution_count": null,
   "metadata": {},
   "outputs": [],
   "source": [
    "# normalization\n",
    "recursiveapply((Dagger(c['+'])*c['+']+Dagger(c['-'])*c['-']).expand(),normalorder2_C)"
   ]
  },
  {
   "cell_type": "code",
   "execution_count": null,
   "metadata": {},
   "outputs": [],
   "source": [
    "# projector\n",
    "recursiveapply(((Dagger(c['+'])*c['+'])*(Dagger(c['+'])*c['+'])-(Dagger(c['+'])*c['+'])).expand(),normalorder2_C)"
   ]
  },
  {
   "cell_type": "code",
   "execution_count": 333,
   "metadata": {},
   "outputs": [],
   "source": [
    "# Majorana basis\n",
    "op_plus=recursiveapply(((Dagger(c['+'])*c['+']).subs(c2g)).expand().subs(selfadjoint),normalorder2)"
   ]
  },
  {
   "cell_type": "code",
   "execution_count": 334,
   "metadata": {},
   "outputs": [
    {
     "data": {
      "text/latex": [
       "$\\displaystyle \\frac{1}{2} - \\frac{i \\gamma_{0} \\gamma_{1}}{4} - \\frac{i \\gamma_{0} \\gamma_{3}}{4} + \\frac{i \\gamma_{1} \\gamma_{2}}{4} - \\frac{i \\gamma_{2} \\gamma_{3}}{4}$"
      ],
      "text/plain": [
       "1/2 - I*\\gamma_0*\\gamma_1/4 - I*\\gamma_0*\\gamma_3/4 + I*\\gamma_1*\\gamma_2/4 - I*\\gamma_2*\\gamma_3/4"
      ]
     },
     "execution_count": 334,
     "metadata": {},
     "output_type": "execute_result"
    }
   ],
   "source": [
    "op_plus"
   ]
  },
  {
   "cell_type": "code",
   "execution_count": 163,
   "metadata": {},
   "outputs": [],
   "source": [
    "# Majorana basis\n",
    "op_minus=recursiveapply(((Dagger(c['-'])*c['-']).subs(c2g)).expand().subs(selfadjoint),normalorder2)"
   ]
  },
  {
   "cell_type": "code",
   "execution_count": null,
   "metadata": {},
   "outputs": [],
   "source": [
    "recursiveapply((op_plus*op_minus-op_minus*op_plus).expand(),normalorder2)"
   ]
  },
  {
   "cell_type": "code",
   "execution_count": null,
   "metadata": {},
   "outputs": [],
   "source": [
    "((1+(exp(a)-1)*op_plus)*((1+(exp(-a)-1)*op_minus)))"
   ]
  },
  {
   "cell_type": "code",
   "execution_count": null,
   "metadata": {},
   "outputs": [],
   "source": [
    "op_x=recursiveapply(\n",
    "    ((1+(exp(a)-1)*op_plus)*((1+(exp(-a)-1)*op_minus))).expand(),\n",
    "    normalorder2).rewrite(sin).expand()"
   ]
  },
  {
   "cell_type": "code",
   "execution_count": null,
   "metadata": {},
   "outputs": [],
   "source": [
    "op_x"
   ]
  },
  {
   "cell_type": "code",
   "execution_count": null,
   "metadata": {},
   "outputs": [],
   "source": [
    "op_x1=-sinh(a)*2*I*g[0]*g[3]+sinh(a)*2*I*g[1]*g[2]-4*cosh(a)+6*(cosh(a)-1)*I*g[0]*g[1]+8*(cosh(a)-1)*g[0]*g[1]*g[2]*g[3]+6*(cosh(a)-1)*I*g[2]*g[3]+5"
   ]
  },
  {
   "cell_type": "code",
   "execution_count": null,
   "metadata": {},
   "outputs": [],
   "source": [
    "op_x1"
   ]
  },
  {
   "cell_type": "code",
   "execution_count": null,
   "metadata": {},
   "outputs": [],
   "source": [
    "(op_x1-op_x).expand()"
   ]
  },
  {
   "cell_type": "code",
   "execution_count": null,
   "metadata": {},
   "outputs": [],
   "source": [
    "(op_x.rewrite(sin)).expand()"
   ]
  },
  {
   "cell_type": "code",
   "execution_count": null,
   "metadata": {},
   "outputs": [],
   "source": [
    "exp(a).rewrite(sin)"
   ]
  },
  {
   "cell_type": "code",
   "execution_count": null,
   "metadata": {},
   "outputs": [],
   "source": [
    "op_x1.subs({a:0})"
   ]
  },
  {
   "cell_type": "code",
   "execution_count": null,
   "metadata": {},
   "outputs": [],
   "source": [
    "(op_x1/(A)**(1/4)).expand().subs({a:50.})"
   ]
  },
  {
   "cell_type": "code",
   "execution_count": null,
   "metadata": {},
   "outputs": [],
   "source": [
    "sqrt(10.)"
   ]
  },
  {
   "cell_type": "code",
   "execution_count": null,
   "metadata": {},
   "outputs": [],
   "source": [
    "0.316227766016838**2"
   ]
  },
  {
   "cell_type": "code",
   "execution_count": null,
   "metadata": {},
   "outputs": [],
   "source": [
    "0.474341649025257**2"
   ]
  },
  {
   "cell_type": "code",
   "execution_count": null,
   "metadata": {},
   "outputs": [],
   "source": [
    "0.632455532033676**2"
   ]
  },
  {
   "cell_type": "code",
   "execution_count": null,
   "metadata": {},
   "outputs": [],
   "source": [
    "0.158113883008419**2"
   ]
  },
  {
   "cell_type": "code",
   "execution_count": null,
   "metadata": {},
   "outputs": [],
   "source": [
    "recursiveapply((2*Dagger(c[0])*c[0]-1).subs(c2g).subs(selfadjoint).expand(),normalorder2)"
   ]
  },
  {
   "cell_type": "code",
   "execution_count": null,
   "metadata": {},
   "outputs": [],
   "source": [
    "op_u=recursiveapply((cos(a/2)+(I*sin(a/2)*(2*Dagger(c[0])*c[0]-1)).subs(c2g).subs(selfadjoint).expand())*(cos(b/2)+(I*sin(b/2)*(2*Dagger(c[1])*c[1]-1)).subs(c2g).subs(selfadjoint).expand())\n",
    ",normalorder2)"
   ]
  },
  {
   "cell_type": "code",
   "execution_count": null,
   "metadata": {},
   "outputs": [],
   "source": [
    "op_u"
   ]
  },
  {
   "cell_type": "markdown",
   "metadata": {},
   "source": [
    "## sigma_y"
   ]
  },
  {
   "cell_type": "code",
   "execution_count": null,
   "metadata": {},
   "outputs": [],
   "source": [
    "c['L']=(c[0]-I*c[1])/sqrt(2)\n",
    "c['R']=(c[0]+I*c[1])/sqrt(2)"
   ]
  },
  {
   "cell_type": "code",
   "execution_count": null,
   "metadata": {},
   "outputs": [],
   "source": [
    "recursiveapply((Dagger(c['R'])*c['R']).expand(),normalorder2_C)"
   ]
  },
  {
   "cell_type": "code",
   "execution_count": null,
   "metadata": {},
   "outputs": [],
   "source": [
    "recursiveapply((Dagger(c['R'])*c['R']*Dagger(c[1])).expand(),normalorder2_C)"
   ]
  },
  {
   "cell_type": "code",
   "execution_count": null,
   "metadata": {},
   "outputs": [],
   "source": [
    "recursiveapply((Dagger(c['R'])*c['R']*Dagger(c[0])*Dagger(c[1])).expand(),normalorder2_C)"
   ]
  },
  {
   "cell_type": "code",
   "execution_count": null,
   "metadata": {},
   "outputs": [],
   "source": [
    "# recover\n",
    "recursiveapply((Dagger(c['L'])*c['L']-Dagger(c['R'])*c['R']).expand(),normalorder2_C)"
   ]
  },
  {
   "cell_type": "code",
   "execution_count": null,
   "metadata": {},
   "outputs": [],
   "source": [
    "# commuting\n",
    "recursiveapply((((Dagger(c['L'])*c['L'])*(Dagger(c['R'])*c['R'])-(Dagger(c['R'])*c['R'])*(Dagger(c['L'])*c['L'])).expand()),normalorder2_C)"
   ]
  },
  {
   "cell_type": "code",
   "execution_count": null,
   "metadata": {},
   "outputs": [],
   "source": [
    "# commuting\n",
    "recursiveapply((((Dagger(c['L'])*c['L']-1/2)*(Dagger(c['R'])*c['R']-1/2)-(Dagger(c['R'])*c['R']-1/2)*(Dagger(c['L'])*c['L']-1/2)).expand()),normalorder2_C)"
   ]
  },
  {
   "cell_type": "code",
   "execution_count": null,
   "metadata": {},
   "outputs": [],
   "source": [
    "# power\n",
    "recursiveapply(((2*Dagger(c['L'])*c['L']-1)**2).expand(),normalorder2_C)"
   ]
  },
  {
   "cell_type": "code",
   "execution_count": null,
   "metadata": {},
   "outputs": [],
   "source": [
    "# power\n",
    "recursiveapply(((2*Dagger(c['R'])*c['R']-1)**2).expand(),normalorder2_C)"
   ]
  },
  {
   "cell_type": "code",
   "execution_count": null,
   "metadata": {},
   "outputs": [],
   "source": [
    "# expand to gamma\n",
    "recursiveapply((Dagger(c['L'])*c['L']).subs(c2g).subs(selfadjoint).expand(),normalorder2)"
   ]
  },
  {
   "cell_type": "code",
   "execution_count": null,
   "metadata": {},
   "outputs": [],
   "source": [
    "# expand to gamma\n",
    "recursiveapply((Dagger(c['R'])*c['R']).subs(c2g).subs(selfadjoint).expand(),normalorder2)"
   ]
  },
  {
   "cell_type": "code",
   "execution_count": null,
   "metadata": {},
   "outputs": [],
   "source": [
    "# op\n",
    "op_L=recursiveapply(cosh(a/2)/sqrt(2*cosh(a))+(sinh(a/2)/sqrt(2*cosh(a))*(2*Dagger(c['L'])*c['L']-1)).subs(c2g).subs(selfadjoint).expand(),normalorder2)"
   ]
  },
  {
   "cell_type": "code",
   "execution_count": null,
   "metadata": {},
   "outputs": [],
   "source": [
    "op_L"
   ]
  },
  {
   "cell_type": "code",
   "execution_count": null,
   "metadata": {},
   "outputs": [],
   "source": [
    "# op\n",
    "op_R=recursiveapply(cosh(-a/2)/sqrt(2*cosh(-a))+(sinh(-a/2)/sqrt(2*cosh(-a))*(2*Dagger(c['R'])*c['R']-1)).subs(c2g).subs(selfadjoint).expand(),normalorder2)"
   ]
  },
  {
   "cell_type": "code",
   "execution_count": null,
   "metadata": {},
   "outputs": [],
   "source": [
    "op_R"
   ]
  },
  {
   "cell_type": "code",
   "execution_count": null,
   "metadata": {},
   "outputs": [],
   "source": [
    "recursiveapply((Dagger(c['L'])*c['L']).expand(),normalorder2_C)"
   ]
  },
  {
   "cell_type": "code",
   "execution_count": null,
   "metadata": {},
   "outputs": [],
   "source": []
  },
  {
   "cell_type": "code",
   "execution_count": null,
   "metadata": {},
   "outputs": [],
   "source": [
    "# normalization\n",
    "recursiveapply((Dagger(c['L'])*c['L']+Dagger(c['R'])*c['R']).expand(),normalorder2_C)"
   ]
  },
  {
   "cell_type": "code",
   "execution_count": null,
   "metadata": {},
   "outputs": [],
   "source": [
    "# projector\n",
    "recursiveapply(((Dagger(c['L'])*c['L'])*(Dagger(c['L'])*c['L'])-(Dagger(c['L'])*c['L'])).expand(),normalorder2_C)"
   ]
  },
  {
   "cell_type": "code",
   "execution_count": null,
   "metadata": {},
   "outputs": [],
   "source": [
    "# Majorana basis\n",
    "op_L=recursiveapply(((Dagger(c['L'])*c['L']).subs(c2g)).expand().subs(selfadjoint),normalorder2)"
   ]
  },
  {
   "cell_type": "code",
   "execution_count": null,
   "metadata": {},
   "outputs": [],
   "source": [
    "op_R=recursiveapply(((Dagger(c['R'])*c['R']).subs(c2g)).expand().subs(selfadjoint),normalorder2)"
   ]
  },
  {
   "cell_type": "code",
   "execution_count": null,
   "metadata": {},
   "outputs": [],
   "source": [
    "recursiveapply((Dagger(c['L'])*c['L']-Dagger(c['R'])*c['R']).expand(),normalorder2_C)"
   ]
  },
  {
   "cell_type": "markdown",
   "metadata": {},
   "source": [
    "# projector for class A"
   ]
  },
  {
   "cell_type": "markdown",
   "metadata": {},
   "source": [
    "## Verify notes"
   ]
  },
  {
   "cell_type": "code",
   "execution_count": 7,
   "metadata": {
    "metadata": {}
   },
   "outputs": [],
   "source": [
    "a=Symbol(r'\\alpha',real=True)\n",
    "s1=Symbol(r's_1',real=True)\n",
    "s2=Symbol(r's_2',real=True)"
   ]
  },
  {
   "cell_type": "code",
   "execution_count": 157,
   "metadata": {
    "metadata": {}
   },
   "outputs": [],
   "source": [
    "K=exp(s1*a*(Dagger(c['+'])*c['+']-1/2))*exp(s2*(Dagger(c['-'])*c['-']-1/2))"
   ]
  },
  {
   "cell_type": "code",
   "execution_count": 158,
   "metadata": {
    "metadata": {}
   },
   "outputs": [
    {
     "data": {
      "text/latex": [
       "$\\displaystyle 0.367879441171442 e^{\\frac{\\left(c_{0}^{\\dagger} - c_{1}^{\\dagger}\\right) \\left(c_{0} - c_{1}\\right)}{2}} e^{- 2 \\alpha \\left(-0.5 + \\frac{\\left(c_{0}^{\\dagger} + c_{1}^{\\dagger}\\right) \\left(c_{0} + c_{1}\\right)}{2}\\right)} e^{\\frac{\\left(c_{0}^{\\dagger} - c_{1}^{\\dagger}\\right) \\left(c_{0} - c_{1}\\right)}{2}} + 0.367879441171442 e^{\\frac{\\left(c_{0}^{\\dagger} - c_{1}^{\\dagger}\\right) \\left(c_{0} - c_{1}\\right)}{2}} e^{2 \\alpha \\left(-0.5 + \\frac{\\left(c_{0}^{\\dagger} + c_{1}^{\\dagger}\\right) \\left(c_{0} + c_{1}\\right)}{2}\\right)} e^{\\frac{\\left(c_{0}^{\\dagger} - c_{1}^{\\dagger}\\right) \\left(c_{0} - c_{1}\\right)}{2}} + e^{- (-0.5 + \\frac{\\left(c_{0}^{\\dagger} - c_{1}^{\\dagger}\\right) \\left(c_{0} - c_{1}\\right)}{2})} e^{- 2 \\alpha \\left(-0.5 + \\frac{\\left(c_{0}^{\\dagger} + c_{1}^{\\dagger}\\right) \\left(c_{0} + c_{1}\\right)}{2}\\right)} e^{- (-0.5 + \\frac{\\left(c_{0}^{\\dagger} - c_{1}^{\\dagger}\\right) \\left(c_{0} - c_{1}\\right)}{2})} + e^{- (-0.5 + \\frac{\\left(c_{0}^{\\dagger} - c_{1}^{\\dagger}\\right) \\left(c_{0} - c_{1}\\right)}{2})} e^{2 \\alpha \\left(-0.5 + \\frac{\\left(c_{0}^{\\dagger} + c_{1}^{\\dagger}\\right) \\left(c_{0} + c_{1}\\right)}{2}\\right)} e^{- (-0.5 + \\frac{\\left(c_{0}^{\\dagger} - c_{1}^{\\dagger}\\right) \\left(c_{0} - c_{1}\\right)}{2})}$"
      ],
      "text/plain": [
       "0.367879441171442*exp((Dagger(c_0) - Dagger(c_1))*(c_0 - c_1)/2)*exp(-2*\\alpha*(-0.5 + (Dagger(c_0) + Dagger(c_1))*(c_0 + c_1)/2))*exp((Dagger(c_0) - Dagger(c_1))*(c_0 - c_1)/2) + 0.367879441171442*exp((Dagger(c_0) - Dagger(c_1))*(c_0 - c_1)/2)*exp(2*\\alpha*(-0.5 + (Dagger(c_0) + Dagger(c_1))*(c_0 + c_1)/2))*exp((Dagger(c_0) - Dagger(c_1))*(c_0 - c_1)/2) + exp(-(-0.5 + (Dagger(c_0) - Dagger(c_1))*(c_0 - c_1)/2))*exp(-2*\\alpha*(-0.5 + (Dagger(c_0) + Dagger(c_1))*(c_0 + c_1)/2))*exp(-(-0.5 + (Dagger(c_0) - Dagger(c_1))*(c_0 - c_1)/2)) + exp(-(-0.5 + (Dagger(c_0) - Dagger(c_1))*(c_0 - c_1)/2))*exp(2*\\alpha*(-0.5 + (Dagger(c_0) + Dagger(c_1))*(c_0 + c_1)/2))*exp(-(-0.5 + (Dagger(c_0) - Dagger(c_1))*(c_0 - c_1)/2))"
      ]
     },
     "execution_count": 158,
     "metadata": {},
     "output_type": "execute_result"
    }
   ],
   "source": [
    "sum([(Dagger(K)*K).subs({s1:s10,s2:s20}) for s10 in [-1,1] for s20 in [-1,1]])"
   ]
  },
  {
   "cell_type": "code",
   "execution_count": null,
   "metadata": {},
   "outputs": [],
   "source": []
  },
  {
   "cell_type": "markdown",
   "metadata": {},
   "source": [
    "# Final contraction"
   ]
  },
  {
   "cell_type": "code",
   "execution_count": 39,
   "metadata": {},
   "outputs": [],
   "source": [
    "Gamma_={}   "
   ]
  },
  {
   "cell_type": "code",
   "execution_count": null,
   "metadata": {},
   "outputs": [],
   "source": []
  },
  {
   "cell_type": "code",
   "execution_count": 40,
   "metadata": {},
   "outputs": [],
   "source": [
    "Gamma_[(1,1)]=zeros(8,8)\n",
    "Gamma_[(1,1)][0,1]=Gamma_[(1,1)][2,3]=tanh(alpha)\n",
    "Gamma_[(1,1)][4,5]=Gamma_[(1,1)][6,7]=-tanh(alpha)\n",
    "Gamma_[(1,1)][0,4]=Gamma_[(1,1)][1,5]=Gamma_[(1,1)][2,6]=Gamma_[(1,1)][3,7]=1/cosh(alpha)\n",
    "Gamma_[(1,1)]=(Gamma_[(1,1)]-Gamma_[(1,1)].T)"
   ]
  },
  {
   "cell_type": "code",
   "execution_count": 41,
   "metadata": {},
   "outputs": [],
   "source": [
    "Gamma_[(-1,-1)]=zeros(8,8)\n",
    "Gamma_[(-1,-1)][0,1]=Gamma_[(-1,-1)][2,3]=-tanh(alpha)\n",
    "Gamma_[(-1,-1)][4,5]=Gamma_[(-1,-1)][6,7]=tanh(alpha)\n",
    "Gamma_[(-1,-1)][0,4]=Gamma_[(-1,-1)][1,5]=Gamma_[(-1,-1)][2,6]=Gamma_[(-1,-1)][3,7]=1/cosh(alpha)\n",
    "Gamma_[(-1,-1)]=(Gamma_[(-1,-1)]-Gamma_[(-1,-1)].T)"
   ]
  },
  {
   "cell_type": "code",
   "execution_count": 42,
   "metadata": {},
   "outputs": [],
   "source": [
    "Gamma_[(-1,1)]=zeros(8,8)\n",
    "Gamma_[(-1,1)][0,3]=Gamma_[(-1,1)][5,6]=-tanh(alpha)\n",
    "Gamma_[(-1,1)][1,2]=Gamma_[(-1,1)][4,7]=tanh(alpha)\n",
    "Gamma_[(-1,1)][0,4]=Gamma_[(-1,1)][1,5]=Gamma_[(-1,1)][2,6]=Gamma_[(-1,1)][3,7]=1/cosh(alpha)\n",
    "Gamma_[(-1,1)]=(Gamma_[(-1,1)]-Gamma_[(-1,1)].T)"
   ]
  },
  {
   "cell_type": "code",
   "execution_count": 43,
   "metadata": {},
   "outputs": [],
   "source": [
    "Gamma_[(1,-1)]=zeros(8,8)\n",
    "Gamma_[(1,-1)][0,3]=Gamma_[(1,-1)][5,6]=tanh(alpha)\n",
    "Gamma_[(1,-1)][1,2]=Gamma_[(1,-1)][4,7]=-tanh(alpha)\n",
    "Gamma_[(1,-1)][0,4]=Gamma_[(1,-1)][1,5]=Gamma_[(1,-1)][2,6]=Gamma_[(1,-1)][3,7]=1/cosh(alpha)\n",
    "Gamma_[(1,-1)]=(Gamma_[(1,-1)]-Gamma_[(1,-1)].T)"
   ]
  },
  {
   "cell_type": "code",
   "execution_count": 44,
   "metadata": {},
   "outputs": [],
   "source": [
    "Upsilon_=zeros(8,8)\n",
    "Upsilon_[0,4]=Upsilon_[1,5]=cos(theta1)\n",
    "Upsilon_[1,4]=sin(theta1)\n",
    "Upsilon_[0,5]=-sin(theta1)\n",
    "Upsilon_[2,6]=Upsilon_[3,7]=cos(theta2)\n",
    "Upsilon_[3,6]=sin(theta2)\n",
    "Upsilon_[2,7]=-sin(theta2)\n",
    "Upsilon_=(Upsilon_-Upsilon_.T)"
   ]
  },
  {
   "cell_type": "code",
   "execution_count": 45,
   "metadata": {},
   "outputs": [
    {
     "data": {
      "text/latex": [
       "$\\displaystyle \\left[\\begin{matrix}0 & 0 & 0 & 0 & \\cos{\\left(\\theta_{1} \\right)} & - \\sin{\\left(\\theta_{1} \\right)} & 0 & 0\\\\0 & 0 & 0 & 0 & \\sin{\\left(\\theta_{1} \\right)} & \\cos{\\left(\\theta_{1} \\right)} & 0 & 0\\\\0 & 0 & 0 & 0 & 0 & 0 & \\cos{\\left(\\theta_{2} \\right)} & - \\sin{\\left(\\theta_{2} \\right)}\\\\0 & 0 & 0 & 0 & 0 & 0 & \\sin{\\left(\\theta_{2} \\right)} & \\cos{\\left(\\theta_{2} \\right)}\\\\- \\cos{\\left(\\theta_{1} \\right)} & - \\sin{\\left(\\theta_{1} \\right)} & 0 & 0 & 0 & 0 & 0 & 0\\\\\\sin{\\left(\\theta_{1} \\right)} & - \\cos{\\left(\\theta_{1} \\right)} & 0 & 0 & 0 & 0 & 0 & 0\\\\0 & 0 & - \\cos{\\left(\\theta_{2} \\right)} & - \\sin{\\left(\\theta_{2} \\right)} & 0 & 0 & 0 & 0\\\\0 & 0 & \\sin{\\left(\\theta_{2} \\right)} & - \\cos{\\left(\\theta_{2} \\right)} & 0 & 0 & 0 & 0\\end{matrix}\\right]$"
      ],
      "text/plain": [
       "Matrix([\n",
       "[             0,              0,              0,              0, cos(\\theta_1), -sin(\\theta_1),             0,              0],\n",
       "[             0,              0,              0,              0, sin(\\theta_1),  cos(\\theta_1),             0,              0],\n",
       "[             0,              0,              0,              0,             0,              0, cos(\\theta_2), -sin(\\theta_2)],\n",
       "[             0,              0,              0,              0,             0,              0, sin(\\theta_2),  cos(\\theta_2)],\n",
       "[-cos(\\theta_1), -sin(\\theta_1),              0,              0,             0,              0,             0,              0],\n",
       "[ sin(\\theta_1), -cos(\\theta_1),              0,              0,             0,              0,             0,              0],\n",
       "[             0,              0, -cos(\\theta_2), -sin(\\theta_2),             0,              0,             0,              0],\n",
       "[             0,              0,  sin(\\theta_2), -cos(\\theta_2),             0,              0,             0,              0]])"
      ]
     },
     "execution_count": 45,
     "metadata": {},
     "output_type": "execute_result"
    }
   ],
   "source": [
    "Upsilon_"
   ]
  },
  {
   "cell_type": "code",
   "execution_count": 75,
   "metadata": {},
   "outputs": [],
   "source": [
    "def contraction_(Gamma,Upsilon,i):\n",
    "    Gamma_LL=Gamma[:i,:i]\n",
    "    Gamma_LR=Gamma[:i,i:]\n",
    "    Gamma_RR=Gamma[i:,i:]\n",
    "    Upsilon_LL=Upsilon[:i,:i]\n",
    "    Upsilon_RR=Upsilon[i:,i:]\n",
    "    Upsilon_RL=Upsilon[i:,:i]\n",
    "    Mat1=Matrix([[Gamma_LL,0],[0,Gamma_RR]])\n",
    "    \n",
    "    pos_mat={}\n",
    "    for i in range(2):\n",
    "        for j in range(2):\n",
    "            mat_zero=zeros(2)\n",
    "            mat_zero[i,j]=1\n",
    "            pos_mat[(i,j)]=mat_zero\n",
    "    one=eye(Gamma_LL.cols)\n",
    "\n",
    "    mat1=KroneckerProduct(pos_mat[(0,0)],Gamma_LL)+KroneckerProduct(pos_mat[(1,1)],Upsilon_RR)\n",
    "\n",
    "    mat2=KroneckerProduct(pos_mat[(0,0)],Gamma_LR)+KroneckerProduct(pos_mat[(1,1)],Upsilon_RL)\n",
    "    mat3=KroneckerProduct(pos_mat[(0,0)],Gamma_RR)+KroneckerProduct(pos_mat[(1,1)],Upsilon_LL)+KroneckerProduct(pos_mat[(0,1)],one)+KroneckerProduct(pos_mat[(1,0)],-one)\n",
    "    # return mat1, mat2, mat3\n",
    "    return mat1 + mat2 @ (mat3).inv() @ mat2.T\n"
   ]
  },
  {
   "cell_type": "code",
   "execution_count": 188,
   "metadata": {},
   "outputs": [],
   "source": [
    "M=contraction_(Gamma_[(1,1)],Upsilon_,4).simplify()"
   ]
  },
  {
   "cell_type": "code",
   "execution_count": null,
   "metadata": {},
   "outputs": [],
   "source": [
    "M"
   ]
  },
  {
   "cell_type": "code",
   "execution_count": 47,
   "metadata": {},
   "outputs": [
    {
     "data": {
      "text/latex": [
       "$\\displaystyle \\left[\\begin{matrix}0 & \\tanh{\\left(\\alpha \\right)} & 0 & 0 & \\frac{\\cos{\\left(\\theta_{1} \\right)}}{\\cosh{\\left(\\alpha \\right)}} & - \\frac{\\sin{\\left(\\theta_{1} \\right)}}{\\cosh{\\left(\\alpha \\right)}} & 0 & 0\\\\- \\tanh{\\left(\\alpha \\right)} & 0 & 0 & 0 & \\frac{\\sin{\\left(\\theta_{1} \\right)}}{\\cosh{\\left(\\alpha \\right)}} & \\frac{\\cos{\\left(\\theta_{1} \\right)}}{\\cosh{\\left(\\alpha \\right)}} & 0 & 0\\\\0 & 0 & 0 & \\tanh{\\left(\\alpha \\right)} & 0 & 0 & \\frac{\\cos{\\left(\\theta_{2} \\right)}}{\\cosh{\\left(\\alpha \\right)}} & - \\frac{\\sin{\\left(\\theta_{2} \\right)}}{\\cosh{\\left(\\alpha \\right)}}\\\\0 & 0 & - \\tanh{\\left(\\alpha \\right)} & 0 & 0 & 0 & \\frac{\\sin{\\left(\\theta_{2} \\right)}}{\\cosh{\\left(\\alpha \\right)}} & \\frac{\\cos{\\left(\\theta_{2} \\right)}}{\\cosh{\\left(\\alpha \\right)}}\\\\- \\frac{\\cos{\\left(\\theta_{1} \\right)}}{\\cosh{\\left(\\alpha \\right)}} & - \\frac{\\sin{\\left(\\theta_{1} \\right)}}{\\cosh{\\left(\\alpha \\right)}} & 0 & 0 & 0 & - \\tanh{\\left(\\alpha \\right)} & 0 & 0\\\\\\frac{\\sin{\\left(\\theta_{1} \\right)}}{\\cosh{\\left(\\alpha \\right)}} & - \\frac{\\cos{\\left(\\theta_{1} \\right)}}{\\cosh{\\left(\\alpha \\right)}} & 0 & 0 & \\tanh{\\left(\\alpha \\right)} & 0 & 0 & 0\\\\0 & 0 & - \\frac{\\cos{\\left(\\theta_{2} \\right)}}{\\cosh{\\left(\\alpha \\right)}} & - \\frac{\\sin{\\left(\\theta_{2} \\right)}}{\\cosh{\\left(\\alpha \\right)}} & 0 & 0 & 0 & - \\tanh{\\left(\\alpha \\right)}\\\\0 & 0 & \\frac{\\sin{\\left(\\theta_{2} \\right)}}{\\cosh{\\left(\\alpha \\right)}} & - \\frac{\\cos{\\left(\\theta_{2} \\right)}}{\\cosh{\\left(\\alpha \\right)}} & 0 & 0 & \\tanh{\\left(\\alpha \\right)} & 0\\end{matrix}\\right]$"
      ],
      "text/plain": [
       "Matrix([\n",
       "[                          0,                tanh(\\alpha),                           0,                           0, cos(\\theta_1)/cosh(\\alpha), -sin(\\theta_1)/cosh(\\alpha),                          0,                           0],\n",
       "[              -tanh(\\alpha),                           0,                           0,                           0, sin(\\theta_1)/cosh(\\alpha),  cos(\\theta_1)/cosh(\\alpha),                          0,                           0],\n",
       "[                          0,                           0,                           0,                tanh(\\alpha),                          0,                           0, cos(\\theta_2)/cosh(\\alpha), -sin(\\theta_2)/cosh(\\alpha)],\n",
       "[                          0,                           0,               -tanh(\\alpha),                           0,                          0,                           0, sin(\\theta_2)/cosh(\\alpha),  cos(\\theta_2)/cosh(\\alpha)],\n",
       "[-cos(\\theta_1)/cosh(\\alpha), -sin(\\theta_1)/cosh(\\alpha),                           0,                           0,                          0,               -tanh(\\alpha),                          0,                           0],\n",
       "[ sin(\\theta_1)/cosh(\\alpha), -cos(\\theta_1)/cosh(\\alpha),                           0,                           0,               tanh(\\alpha),                           0,                          0,                           0],\n",
       "[                          0,                           0, -cos(\\theta_2)/cosh(\\alpha), -sin(\\theta_2)/cosh(\\alpha),                          0,                           0,                          0,               -tanh(\\alpha)],\n",
       "[                          0,                           0,  sin(\\theta_2)/cosh(\\alpha), -cos(\\theta_2)/cosh(\\alpha),                          0,                           0,               tanh(\\alpha),                           0]])"
      ]
     },
     "execution_count": 47,
     "metadata": {},
     "output_type": "execute_result"
    }
   ],
   "source": [
    "contraction_(Upsilon_,Gamma_[(1,1)],4).simplify()"
   ]
  },
  {
   "cell_type": "code",
   "execution_count": 48,
   "metadata": {},
   "outputs": [
    {
     "data": {
      "text/latex": [
       "$\\displaystyle \\left[\\begin{matrix}0 & \\tanh{\\left(\\alpha \\right)} & 0 & 0 & \\frac{\\cos{\\left(\\theta_{1} \\right)}}{\\cosh{\\left(\\alpha \\right)}} & - \\frac{\\sin{\\left(\\theta_{1} \\right)}}{\\cosh{\\left(\\alpha \\right)}} & 0 & 0\\\\- \\tanh{\\left(\\alpha \\right)} & 0 & 0 & 0 & \\frac{\\sin{\\left(\\theta_{1} \\right)}}{\\cosh{\\left(\\alpha \\right)}} & \\frac{\\cos{\\left(\\theta_{1} \\right)}}{\\cosh{\\left(\\alpha \\right)}} & 0 & 0\\\\0 & 0 & 0 & \\tanh{\\left(\\alpha \\right)} & 0 & 0 & \\frac{\\cos{\\left(\\theta_{2} \\right)}}{\\cosh{\\left(\\alpha \\right)}} & - \\frac{\\sin{\\left(\\theta_{2} \\right)}}{\\cosh{\\left(\\alpha \\right)}}\\\\0 & 0 & - \\tanh{\\left(\\alpha \\right)} & 0 & 0 & 0 & \\frac{\\sin{\\left(\\theta_{2} \\right)}}{\\cosh{\\left(\\alpha \\right)}} & \\frac{\\cos{\\left(\\theta_{2} \\right)}}{\\cosh{\\left(\\alpha \\right)}}\\\\- \\frac{\\cos{\\left(\\theta_{1} \\right)}}{\\cosh{\\left(\\alpha \\right)}} & - \\frac{\\sin{\\left(\\theta_{1} \\right)}}{\\cosh{\\left(\\alpha \\right)}} & 0 & 0 & 0 & - \\tanh{\\left(\\alpha \\right)} & 0 & 0\\\\\\frac{\\sin{\\left(\\theta_{1} \\right)}}{\\cosh{\\left(\\alpha \\right)}} & - \\frac{\\cos{\\left(\\theta_{1} \\right)}}{\\cosh{\\left(\\alpha \\right)}} & 0 & 0 & \\tanh{\\left(\\alpha \\right)} & 0 & 0 & 0\\\\0 & 0 & - \\frac{\\cos{\\left(\\theta_{2} \\right)}}{\\cosh{\\left(\\alpha \\right)}} & - \\frac{\\sin{\\left(\\theta_{2} \\right)}}{\\cosh{\\left(\\alpha \\right)}} & 0 & 0 & 0 & - \\tanh{\\left(\\alpha \\right)}\\\\0 & 0 & \\frac{\\sin{\\left(\\theta_{2} \\right)}}{\\cosh{\\left(\\alpha \\right)}} & - \\frac{\\cos{\\left(\\theta_{2} \\right)}}{\\cosh{\\left(\\alpha \\right)}} & 0 & 0 & \\tanh{\\left(\\alpha \\right)} & 0\\end{matrix}\\right]$"
      ],
      "text/plain": [
       "Matrix([\n",
       "[                          0,                tanh(\\alpha),                           0,                           0, cos(\\theta_1)/cosh(\\alpha), -sin(\\theta_1)/cosh(\\alpha),                          0,                           0],\n",
       "[              -tanh(\\alpha),                           0,                           0,                           0, sin(\\theta_1)/cosh(\\alpha),  cos(\\theta_1)/cosh(\\alpha),                          0,                           0],\n",
       "[                          0,                           0,                           0,                tanh(\\alpha),                          0,                           0, cos(\\theta_2)/cosh(\\alpha), -sin(\\theta_2)/cosh(\\alpha)],\n",
       "[                          0,                           0,               -tanh(\\alpha),                           0,                          0,                           0, sin(\\theta_2)/cosh(\\alpha),  cos(\\theta_2)/cosh(\\alpha)],\n",
       "[-cos(\\theta_1)/cosh(\\alpha), -sin(\\theta_1)/cosh(\\alpha),                           0,                           0,                          0,               -tanh(\\alpha),                          0,                           0],\n",
       "[ sin(\\theta_1)/cosh(\\alpha), -cos(\\theta_1)/cosh(\\alpha),                           0,                           0,               tanh(\\alpha),                           0,                          0,                           0],\n",
       "[                          0,                           0, -cos(\\theta_2)/cosh(\\alpha), -sin(\\theta_2)/cosh(\\alpha),                          0,                           0,                          0,               -tanh(\\alpha)],\n",
       "[                          0,                           0,  sin(\\theta_2)/cosh(\\alpha), -cos(\\theta_2)/cosh(\\alpha),                          0,                           0,               tanh(\\alpha),                           0]])"
      ]
     },
     "execution_count": 48,
     "metadata": {},
     "output_type": "execute_result"
    }
   ],
   "source": [
    "contraction_(Gamma_[(1,1)],Upsilon_,4).simplify()"
   ]
  },
  {
   "cell_type": "code",
   "execution_count": 49,
   "metadata": {},
   "outputs": [
    {
     "data": {
      "text/latex": [
       "$\\displaystyle \\left[\\begin{matrix}0 & 0 & - \\sin{\\left(\\theta_{1} - \\theta_{2} \\right)} \\tanh{\\left(\\alpha \\right)} & - \\cos{\\left(\\theta_{1} - \\theta_{2} \\right)} \\tanh{\\left(\\alpha \\right)} & \\frac{\\cos{\\left(\\theta_{1} \\right)}}{\\cosh{\\left(\\alpha \\right)}} & - \\frac{\\sin{\\left(\\theta_{1} \\right)}}{\\cosh{\\left(\\alpha \\right)}} & 0 & 0\\\\0 & 0 & \\cos{\\left(\\theta_{1} - \\theta_{2} \\right)} \\tanh{\\left(\\alpha \\right)} & - \\sin{\\left(\\theta_{1} - \\theta_{2} \\right)} \\tanh{\\left(\\alpha \\right)} & \\frac{\\sin{\\left(\\theta_{1} \\right)}}{\\cosh{\\left(\\alpha \\right)}} & \\frac{\\cos{\\left(\\theta_{1} \\right)}}{\\cosh{\\left(\\alpha \\right)}} & 0 & 0\\\\\\sin{\\left(\\theta_{1} - \\theta_{2} \\right)} \\tanh{\\left(\\alpha \\right)} & - \\cos{\\left(\\theta_{1} - \\theta_{2} \\right)} \\tanh{\\left(\\alpha \\right)} & 0 & 0 & 0 & 0 & \\frac{\\cos{\\left(\\theta_{2} \\right)}}{\\cosh{\\left(\\alpha \\right)}} & - \\frac{\\sin{\\left(\\theta_{2} \\right)}}{\\cosh{\\left(\\alpha \\right)}}\\\\\\cos{\\left(\\theta_{1} - \\theta_{2} \\right)} \\tanh{\\left(\\alpha \\right)} & \\sin{\\left(\\theta_{1} - \\theta_{2} \\right)} \\tanh{\\left(\\alpha \\right)} & 0 & 0 & 0 & 0 & \\frac{\\sin{\\left(\\theta_{2} \\right)}}{\\cosh{\\left(\\alpha \\right)}} & \\frac{\\cos{\\left(\\theta_{2} \\right)}}{\\cosh{\\left(\\alpha \\right)}}\\\\- \\frac{\\cos{\\left(\\theta_{1} \\right)}}{\\cosh{\\left(\\alpha \\right)}} & - \\frac{\\sin{\\left(\\theta_{1} \\right)}}{\\cosh{\\left(\\alpha \\right)}} & 0 & 0 & 0 & 0 & 0 & \\tanh{\\left(\\alpha \\right)}\\\\\\frac{\\sin{\\left(\\theta_{1} \\right)}}{\\cosh{\\left(\\alpha \\right)}} & - \\frac{\\cos{\\left(\\theta_{1} \\right)}}{\\cosh{\\left(\\alpha \\right)}} & 0 & 0 & 0 & 0 & - \\tanh{\\left(\\alpha \\right)} & 0\\\\0 & 0 & - \\frac{\\cos{\\left(\\theta_{2} \\right)}}{\\cosh{\\left(\\alpha \\right)}} & - \\frac{\\sin{\\left(\\theta_{2} \\right)}}{\\cosh{\\left(\\alpha \\right)}} & 0 & \\tanh{\\left(\\alpha \\right)} & 0 & 0\\\\0 & 0 & \\frac{\\sin{\\left(\\theta_{2} \\right)}}{\\cosh{\\left(\\alpha \\right)}} & - \\frac{\\cos{\\left(\\theta_{2} \\right)}}{\\cosh{\\left(\\alpha \\right)}} & - \\tanh{\\left(\\alpha \\right)} & 0 & 0 & 0\\end{matrix}\\right]$"
      ],
      "text/plain": [
       "Matrix([\n",
       "[                                    0,                                      0, -sin(\\theta_1 - \\theta_2)*tanh(\\alpha), -cos(\\theta_1 - \\theta_2)*tanh(\\alpha), cos(\\theta_1)/cosh(\\alpha), -sin(\\theta_1)/cosh(\\alpha),                          0,                           0],\n",
       "[                                    0,                                      0,  cos(\\theta_1 - \\theta_2)*tanh(\\alpha), -sin(\\theta_1 - \\theta_2)*tanh(\\alpha), sin(\\theta_1)/cosh(\\alpha),  cos(\\theta_1)/cosh(\\alpha),                          0,                           0],\n",
       "[sin(\\theta_1 - \\theta_2)*tanh(\\alpha), -cos(\\theta_1 - \\theta_2)*tanh(\\alpha),                                      0,                                      0,                          0,                           0, cos(\\theta_2)/cosh(\\alpha), -sin(\\theta_2)/cosh(\\alpha)],\n",
       "[cos(\\theta_1 - \\theta_2)*tanh(\\alpha),  sin(\\theta_1 - \\theta_2)*tanh(\\alpha),                                      0,                                      0,                          0,                           0, sin(\\theta_2)/cosh(\\alpha),  cos(\\theta_2)/cosh(\\alpha)],\n",
       "[          -cos(\\theta_1)/cosh(\\alpha),            -sin(\\theta_1)/cosh(\\alpha),                                      0,                                      0,                          0,                           0,                          0,                tanh(\\alpha)],\n",
       "[           sin(\\theta_1)/cosh(\\alpha),            -cos(\\theta_1)/cosh(\\alpha),                                      0,                                      0,                          0,                           0,              -tanh(\\alpha),                           0],\n",
       "[                                    0,                                      0,            -cos(\\theta_2)/cosh(\\alpha),            -sin(\\theta_2)/cosh(\\alpha),                          0,                tanh(\\alpha),                          0,                           0],\n",
       "[                                    0,                                      0,             sin(\\theta_2)/cosh(\\alpha),            -cos(\\theta_2)/cosh(\\alpha),              -tanh(\\alpha),                           0,                          0,                           0]])"
      ]
     },
     "execution_count": 49,
     "metadata": {},
     "output_type": "execute_result"
    }
   ],
   "source": [
    "contraction_(Upsilon_,Gamma_[(-1,1)],4).simplify()"
   ]
  },
  {
   "cell_type": "code",
   "execution_count": 50,
   "metadata": {},
   "outputs": [
    {
     "data": {
      "text/latex": [
       "$\\displaystyle \\left[\\begin{matrix}0 & 0 & 0 & - \\tanh{\\left(\\alpha \\right)} & \\frac{\\cos{\\left(\\theta_{1} \\right)}}{\\cosh{\\left(\\alpha \\right)}} & - \\frac{\\sin{\\left(\\theta_{1} \\right)}}{\\cosh{\\left(\\alpha \\right)}} & 0 & 0\\\\0 & 0 & \\tanh{\\left(\\alpha \\right)} & 0 & \\frac{\\sin{\\left(\\theta_{1} \\right)}}{\\cosh{\\left(\\alpha \\right)}} & \\frac{\\cos{\\left(\\theta_{1} \\right)}}{\\cosh{\\left(\\alpha \\right)}} & 0 & 0\\\\0 & - \\tanh{\\left(\\alpha \\right)} & 0 & 0 & 0 & 0 & \\frac{\\cos{\\left(\\theta_{2} \\right)}}{\\cosh{\\left(\\alpha \\right)}} & - \\frac{\\sin{\\left(\\theta_{2} \\right)}}{\\cosh{\\left(\\alpha \\right)}}\\\\\\tanh{\\left(\\alpha \\right)} & 0 & 0 & 0 & 0 & 0 & \\frac{\\sin{\\left(\\theta_{2} \\right)}}{\\cosh{\\left(\\alpha \\right)}} & \\frac{\\cos{\\left(\\theta_{2} \\right)}}{\\cosh{\\left(\\alpha \\right)}}\\\\- \\frac{\\cos{\\left(\\theta_{1} \\right)}}{\\cosh{\\left(\\alpha \\right)}} & - \\frac{\\sin{\\left(\\theta_{1} \\right)}}{\\cosh{\\left(\\alpha \\right)}} & 0 & 0 & 0 & 0 & - \\sin{\\left(\\theta_{1} - \\theta_{2} \\right)} \\tanh{\\left(\\alpha \\right)} & \\cos{\\left(\\theta_{1} - \\theta_{2} \\right)} \\tanh{\\left(\\alpha \\right)}\\\\\\frac{\\sin{\\left(\\theta_{1} \\right)}}{\\cosh{\\left(\\alpha \\right)}} & - \\frac{\\cos{\\left(\\theta_{1} \\right)}}{\\cosh{\\left(\\alpha \\right)}} & 0 & 0 & 0 & 0 & - \\cos{\\left(\\theta_{1} - \\theta_{2} \\right)} \\tanh{\\left(\\alpha \\right)} & - \\sin{\\left(\\theta_{1} - \\theta_{2} \\right)} \\tanh{\\left(\\alpha \\right)}\\\\0 & 0 & - \\frac{\\cos{\\left(\\theta_{2} \\right)}}{\\cosh{\\left(\\alpha \\right)}} & - \\frac{\\sin{\\left(\\theta_{2} \\right)}}{\\cosh{\\left(\\alpha \\right)}} & \\sin{\\left(\\theta_{1} - \\theta_{2} \\right)} \\tanh{\\left(\\alpha \\right)} & \\cos{\\left(\\theta_{1} - \\theta_{2} \\right)} \\tanh{\\left(\\alpha \\right)} & 0 & 0\\\\0 & 0 & \\frac{\\sin{\\left(\\theta_{2} \\right)}}{\\cosh{\\left(\\alpha \\right)}} & - \\frac{\\cos{\\left(\\theta_{2} \\right)}}{\\cosh{\\left(\\alpha \\right)}} & - \\cos{\\left(\\theta_{1} - \\theta_{2} \\right)} \\tanh{\\left(\\alpha \\right)} & \\sin{\\left(\\theta_{1} - \\theta_{2} \\right)} \\tanh{\\left(\\alpha \\right)} & 0 & 0\\end{matrix}\\right]$"
      ],
      "text/plain": [
       "Matrix([\n",
       "[                          0,                           0,                           0,               -tanh(\\alpha),             cos(\\theta_1)/cosh(\\alpha),           -sin(\\theta_1)/cosh(\\alpha),                                      0,                                      0],\n",
       "[                          0,                           0,                tanh(\\alpha),                           0,             sin(\\theta_1)/cosh(\\alpha),            cos(\\theta_1)/cosh(\\alpha),                                      0,                                      0],\n",
       "[                          0,               -tanh(\\alpha),                           0,                           0,                                      0,                                     0,             cos(\\theta_2)/cosh(\\alpha),            -sin(\\theta_2)/cosh(\\alpha)],\n",
       "[               tanh(\\alpha),                           0,                           0,                           0,                                      0,                                     0,             sin(\\theta_2)/cosh(\\alpha),             cos(\\theta_2)/cosh(\\alpha)],\n",
       "[-cos(\\theta_1)/cosh(\\alpha), -sin(\\theta_1)/cosh(\\alpha),                           0,                           0,                                      0,                                     0, -sin(\\theta_1 - \\theta_2)*tanh(\\alpha),  cos(\\theta_1 - \\theta_2)*tanh(\\alpha)],\n",
       "[ sin(\\theta_1)/cosh(\\alpha), -cos(\\theta_1)/cosh(\\alpha),                           0,                           0,                                      0,                                     0, -cos(\\theta_1 - \\theta_2)*tanh(\\alpha), -sin(\\theta_1 - \\theta_2)*tanh(\\alpha)],\n",
       "[                          0,                           0, -cos(\\theta_2)/cosh(\\alpha), -sin(\\theta_2)/cosh(\\alpha),  sin(\\theta_1 - \\theta_2)*tanh(\\alpha), cos(\\theta_1 - \\theta_2)*tanh(\\alpha),                                      0,                                      0],\n",
       "[                          0,                           0,  sin(\\theta_2)/cosh(\\alpha), -cos(\\theta_2)/cosh(\\alpha), -cos(\\theta_1 - \\theta_2)*tanh(\\alpha), sin(\\theta_1 - \\theta_2)*tanh(\\alpha),                                      0,                                      0]])"
      ]
     },
     "execution_count": 50,
     "metadata": {},
     "output_type": "execute_result"
    }
   ],
   "source": [
    "contraction_(Gamma_[(-1,1)],Upsilon_,4).simplify()"
   ]
  },
  {
   "cell_type": "code",
   "execution_count": 190,
   "metadata": {},
   "outputs": [],
   "source": [
    "M={}"
   ]
  },
  {
   "cell_type": "code",
   "execution_count": 191,
   "metadata": {},
   "outputs": [],
   "source": [
    "M[(1,1)]=contraction_(Upsilon_,Gamma_[(1,1)],4).simplify()"
   ]
  },
  {
   "cell_type": "code",
   "execution_count": 192,
   "metadata": {},
   "outputs": [],
   "source": [
    "M[(-1,-1)]=contraction_(Gamma_[(-1,-1)],Upsilon_,4).simplify()"
   ]
  },
  {
   "cell_type": "code",
   "execution_count": 193,
   "metadata": {},
   "outputs": [],
   "source": [
    "M[(-1,1)]=contraction_(Upsilon_,Gamma_[(-1,1)],4).simplify()"
   ]
  },
  {
   "cell_type": "code",
   "execution_count": 197,
   "metadata": {},
   "outputs": [
    {
     "data": {
      "text/latex": [
       "$\\displaystyle \\left[\\begin{matrix}0 & \\tanh{\\left(\\alpha \\right)} & 0 & 0 & \\frac{1}{\\cosh{\\left(\\alpha \\right)}} & 0 & 0 & 0\\\\- \\tanh{\\left(\\alpha \\right)} & 0 & 0 & 0 & 0 & \\frac{1}{\\cosh{\\left(\\alpha \\right)}} & 0 & 0\\\\0 & 0 & 0 & \\tanh{\\left(\\alpha \\right)} & 0 & 0 & \\frac{1}{\\cosh{\\left(\\alpha \\right)}} & 0\\\\0 & 0 & - \\tanh{\\left(\\alpha \\right)} & 0 & 0 & 0 & 0 & \\frac{1}{\\cosh{\\left(\\alpha \\right)}}\\\\- \\frac{1}{\\cosh{\\left(\\alpha \\right)}} & 0 & 0 & 0 & 0 & - \\tanh{\\left(\\alpha \\right)} & 0 & 0\\\\0 & - \\frac{1}{\\cosh{\\left(\\alpha \\right)}} & 0 & 0 & \\tanh{\\left(\\alpha \\right)} & 0 & 0 & 0\\\\0 & 0 & - \\frac{1}{\\cosh{\\left(\\alpha \\right)}} & 0 & 0 & 0 & 0 & - \\tanh{\\left(\\alpha \\right)}\\\\0 & 0 & 0 & - \\frac{1}{\\cosh{\\left(\\alpha \\right)}} & 0 & 0 & \\tanh{\\left(\\alpha \\right)} & 0\\end{matrix}\\right]$"
      ],
      "text/plain": [
       "Matrix([\n",
       "[              0,    tanh(\\alpha),               0,               0, 1/cosh(\\alpha),              0,              0,              0],\n",
       "[  -tanh(\\alpha),               0,               0,               0,              0, 1/cosh(\\alpha),              0,              0],\n",
       "[              0,               0,               0,    tanh(\\alpha),              0,              0, 1/cosh(\\alpha),              0],\n",
       "[              0,               0,   -tanh(\\alpha),               0,              0,              0,              0, 1/cosh(\\alpha)],\n",
       "[-1/cosh(\\alpha),               0,               0,               0,              0,  -tanh(\\alpha),              0,              0],\n",
       "[              0, -1/cosh(\\alpha),               0,               0,   tanh(\\alpha),              0,              0,              0],\n",
       "[              0,               0, -1/cosh(\\alpha),               0,              0,              0,              0,  -tanh(\\alpha)],\n",
       "[              0,               0,               0, -1/cosh(\\alpha),              0,              0,   tanh(\\alpha),              0]])"
      ]
     },
     "execution_count": 197,
     "metadata": {},
     "output_type": "execute_result"
    }
   ],
   "source": [
    "Gamma_[(1,1)]"
   ]
  },
  {
   "cell_type": "code",
   "execution_count": 196,
   "metadata": {},
   "outputs": [
    {
     "data": {
      "text/latex": [
       "$\\displaystyle \\left[\\begin{matrix}0 & 0 & 0 & - \\tanh{\\left(\\alpha \\right)} & \\frac{1}{\\cosh{\\left(\\alpha \\right)}} & 0 & 0 & 0\\\\0 & 0 & \\tanh{\\left(\\alpha \\right)} & 0 & 0 & \\frac{1}{\\cosh{\\left(\\alpha \\right)}} & 0 & 0\\\\0 & - \\tanh{\\left(\\alpha \\right)} & 0 & 0 & 0 & 0 & \\frac{1}{\\cosh{\\left(\\alpha \\right)}} & 0\\\\\\tanh{\\left(\\alpha \\right)} & 0 & 0 & 0 & 0 & 0 & 0 & \\frac{1}{\\cosh{\\left(\\alpha \\right)}}\\\\- \\frac{1}{\\cosh{\\left(\\alpha \\right)}} & 0 & 0 & 0 & 0 & 0 & 0 & \\tanh{\\left(\\alpha \\right)}\\\\0 & - \\frac{1}{\\cosh{\\left(\\alpha \\right)}} & 0 & 0 & 0 & 0 & - \\tanh{\\left(\\alpha \\right)} & 0\\\\0 & 0 & - \\frac{1}{\\cosh{\\left(\\alpha \\right)}} & 0 & 0 & \\tanh{\\left(\\alpha \\right)} & 0 & 0\\\\0 & 0 & 0 & - \\frac{1}{\\cosh{\\left(\\alpha \\right)}} & - \\tanh{\\left(\\alpha \\right)} & 0 & 0 & 0\\end{matrix}\\right]$"
      ],
      "text/plain": [
       "Matrix([\n",
       "[              0,               0,               0,   -tanh(\\alpha), 1/cosh(\\alpha),              0,              0,              0],\n",
       "[              0,               0,    tanh(\\alpha),               0,              0, 1/cosh(\\alpha),              0,              0],\n",
       "[              0,   -tanh(\\alpha),               0,               0,              0,              0, 1/cosh(\\alpha),              0],\n",
       "[   tanh(\\alpha),               0,               0,               0,              0,              0,              0, 1/cosh(\\alpha)],\n",
       "[-1/cosh(\\alpha),               0,               0,               0,              0,              0,              0,   tanh(\\alpha)],\n",
       "[              0, -1/cosh(\\alpha),               0,               0,              0,              0,  -tanh(\\alpha),              0],\n",
       "[              0,               0, -1/cosh(\\alpha),               0,              0,   tanh(\\alpha),              0,              0],\n",
       "[              0,               0,               0, -1/cosh(\\alpha),  -tanh(\\alpha),              0,              0,              0]])"
      ]
     },
     "execution_count": 196,
     "metadata": {},
     "output_type": "execute_result"
    }
   ],
   "source": [
    "Gamma_[(-1,1)]"
   ]
  },
  {
   "cell_type": "code",
   "execution_count": 195,
   "metadata": {},
   "outputs": [
    {
     "data": {
      "text/latex": [
       "$\\displaystyle \\left[\\begin{matrix}0 & 0 & 0 & 0 & \\cos{\\left(\\theta_{1} \\right)} & - \\sin{\\left(\\theta_{1} \\right)} & 0 & 0\\\\0 & 0 & 0 & 0 & \\sin{\\left(\\theta_{1} \\right)} & \\cos{\\left(\\theta_{1} \\right)} & 0 & 0\\\\0 & 0 & 0 & 0 & 0 & 0 & \\cos{\\left(\\theta_{2} \\right)} & - \\sin{\\left(\\theta_{2} \\right)}\\\\0 & 0 & 0 & 0 & 0 & 0 & \\sin{\\left(\\theta_{2} \\right)} & \\cos{\\left(\\theta_{2} \\right)}\\\\- \\cos{\\left(\\theta_{1} \\right)} & - \\sin{\\left(\\theta_{1} \\right)} & 0 & 0 & 0 & 0 & 0 & 0\\\\\\sin{\\left(\\theta_{1} \\right)} & - \\cos{\\left(\\theta_{1} \\right)} & 0 & 0 & 0 & 0 & 0 & 0\\\\0 & 0 & - \\cos{\\left(\\theta_{2} \\right)} & - \\sin{\\left(\\theta_{2} \\right)} & 0 & 0 & 0 & 0\\\\0 & 0 & \\sin{\\left(\\theta_{2} \\right)} & - \\cos{\\left(\\theta_{2} \\right)} & 0 & 0 & 0 & 0\\end{matrix}\\right]$"
      ],
      "text/plain": [
       "Matrix([\n",
       "[             0,              0,              0,              0, cos(\\theta_1), -sin(\\theta_1),             0,              0],\n",
       "[             0,              0,              0,              0, sin(\\theta_1),  cos(\\theta_1),             0,              0],\n",
       "[             0,              0,              0,              0,             0,              0, cos(\\theta_2), -sin(\\theta_2)],\n",
       "[             0,              0,              0,              0,             0,              0, sin(\\theta_2),  cos(\\theta_2)],\n",
       "[-cos(\\theta_1), -sin(\\theta_1),              0,              0,             0,              0,             0,              0],\n",
       "[ sin(\\theta_1), -cos(\\theta_1),              0,              0,             0,              0,             0,              0],\n",
       "[             0,              0, -cos(\\theta_2), -sin(\\theta_2),             0,              0,             0,              0],\n",
       "[             0,              0,  sin(\\theta_2), -cos(\\theta_2),             0,              0,             0,              0]])"
      ]
     },
     "execution_count": 195,
     "metadata": {},
     "output_type": "execute_result"
    }
   ],
   "source": [
    "Upsilon_"
   ]
  },
  {
   "cell_type": "code",
   "execution_count": 194,
   "metadata": {},
   "outputs": [
    {
     "data": {
      "text/latex": [
       "$\\displaystyle \\left[\\begin{matrix}0 & 0 & - \\sin{\\left(\\theta_{1} - \\theta_{2} \\right)} \\tanh{\\left(\\alpha \\right)} & - \\cos{\\left(\\theta_{1} - \\theta_{2} \\right)} \\tanh{\\left(\\alpha \\right)} & \\frac{\\cos{\\left(\\theta_{1} \\right)}}{\\cosh{\\left(\\alpha \\right)}} & - \\frac{\\sin{\\left(\\theta_{1} \\right)}}{\\cosh{\\left(\\alpha \\right)}} & 0 & 0\\\\0 & 0 & \\cos{\\left(\\theta_{1} - \\theta_{2} \\right)} \\tanh{\\left(\\alpha \\right)} & - \\sin{\\left(\\theta_{1} - \\theta_{2} \\right)} \\tanh{\\left(\\alpha \\right)} & \\frac{\\sin{\\left(\\theta_{1} \\right)}}{\\cosh{\\left(\\alpha \\right)}} & \\frac{\\cos{\\left(\\theta_{1} \\right)}}{\\cosh{\\left(\\alpha \\right)}} & 0 & 0\\\\\\sin{\\left(\\theta_{1} - \\theta_{2} \\right)} \\tanh{\\left(\\alpha \\right)} & - \\cos{\\left(\\theta_{1} - \\theta_{2} \\right)} \\tanh{\\left(\\alpha \\right)} & 0 & 0 & 0 & 0 & \\frac{\\cos{\\left(\\theta_{2} \\right)}}{\\cosh{\\left(\\alpha \\right)}} & - \\frac{\\sin{\\left(\\theta_{2} \\right)}}{\\cosh{\\left(\\alpha \\right)}}\\\\\\cos{\\left(\\theta_{1} - \\theta_{2} \\right)} \\tanh{\\left(\\alpha \\right)} & \\sin{\\left(\\theta_{1} - \\theta_{2} \\right)} \\tanh{\\left(\\alpha \\right)} & 0 & 0 & 0 & 0 & \\frac{\\sin{\\left(\\theta_{2} \\right)}}{\\cosh{\\left(\\alpha \\right)}} & \\frac{\\cos{\\left(\\theta_{2} \\right)}}{\\cosh{\\left(\\alpha \\right)}}\\\\- \\frac{\\cos{\\left(\\theta_{1} \\right)}}{\\cosh{\\left(\\alpha \\right)}} & - \\frac{\\sin{\\left(\\theta_{1} \\right)}}{\\cosh{\\left(\\alpha \\right)}} & 0 & 0 & 0 & 0 & 0 & \\tanh{\\left(\\alpha \\right)}\\\\\\frac{\\sin{\\left(\\theta_{1} \\right)}}{\\cosh{\\left(\\alpha \\right)}} & - \\frac{\\cos{\\left(\\theta_{1} \\right)}}{\\cosh{\\left(\\alpha \\right)}} & 0 & 0 & 0 & 0 & - \\tanh{\\left(\\alpha \\right)} & 0\\\\0 & 0 & - \\frac{\\cos{\\left(\\theta_{2} \\right)}}{\\cosh{\\left(\\alpha \\right)}} & - \\frac{\\sin{\\left(\\theta_{2} \\right)}}{\\cosh{\\left(\\alpha \\right)}} & 0 & \\tanh{\\left(\\alpha \\right)} & 0 & 0\\\\0 & 0 & \\frac{\\sin{\\left(\\theta_{2} \\right)}}{\\cosh{\\left(\\alpha \\right)}} & - \\frac{\\cos{\\left(\\theta_{2} \\right)}}{\\cosh{\\left(\\alpha \\right)}} & - \\tanh{\\left(\\alpha \\right)} & 0 & 0 & 0\\end{matrix}\\right]$"
      ],
      "text/plain": [
       "Matrix([\n",
       "[                                    0,                                      0, -sin(\\theta_1 - \\theta_2)*tanh(\\alpha), -cos(\\theta_1 - \\theta_2)*tanh(\\alpha), cos(\\theta_1)/cosh(\\alpha), -sin(\\theta_1)/cosh(\\alpha),                          0,                           0],\n",
       "[                                    0,                                      0,  cos(\\theta_1 - \\theta_2)*tanh(\\alpha), -sin(\\theta_1 - \\theta_2)*tanh(\\alpha), sin(\\theta_1)/cosh(\\alpha),  cos(\\theta_1)/cosh(\\alpha),                          0,                           0],\n",
       "[sin(\\theta_1 - \\theta_2)*tanh(\\alpha), -cos(\\theta_1 - \\theta_2)*tanh(\\alpha),                                      0,                                      0,                          0,                           0, cos(\\theta_2)/cosh(\\alpha), -sin(\\theta_2)/cosh(\\alpha)],\n",
       "[cos(\\theta_1 - \\theta_2)*tanh(\\alpha),  sin(\\theta_1 - \\theta_2)*tanh(\\alpha),                                      0,                                      0,                          0,                           0, sin(\\theta_2)/cosh(\\alpha),  cos(\\theta_2)/cosh(\\alpha)],\n",
       "[          -cos(\\theta_1)/cosh(\\alpha),            -sin(\\theta_1)/cosh(\\alpha),                                      0,                                      0,                          0,                           0,                          0,                tanh(\\alpha)],\n",
       "[           sin(\\theta_1)/cosh(\\alpha),            -cos(\\theta_1)/cosh(\\alpha),                                      0,                                      0,                          0,                           0,              -tanh(\\alpha),                           0],\n",
       "[                                    0,                                      0,            -cos(\\theta_2)/cosh(\\alpha),            -sin(\\theta_2)/cosh(\\alpha),                          0,                tanh(\\alpha),                          0,                           0],\n",
       "[                                    0,                                      0,             sin(\\theta_2)/cosh(\\alpha),            -cos(\\theta_2)/cosh(\\alpha),              -tanh(\\alpha),                           0,                          0,                           0]])"
      ]
     },
     "execution_count": 194,
     "metadata": {},
     "output_type": "execute_result"
    }
   ],
   "source": [
    "M[(-1,1)]"
   ]
  },
  {
   "cell_type": "code",
   "execution_count": null,
   "metadata": {},
   "outputs": [],
   "source": [
    "M[(1,-1)]=contraction_(Upsilon_,Gamma_[(1,-1)],4).simplify()"
   ]
  },
  {
   "cell_type": "code",
   "execution_count": null,
   "metadata": {},
   "outputs": [],
   "source": [
    "M[(1,-1)]"
   ]
  },
  {
   "cell_type": "code",
   "execution_count": null,
   "metadata": {},
   "outputs": [],
   "source": []
  },
  {
   "cell_type": "code",
   "execution_count": 39,
   "metadata": {},
   "outputs": [],
   "source": [
    "from importlib import reload\n",
    "\n",
    "import GTN\n",
    "reload(GTN)\n",
    "from GTN import *"
   ]
  },
  {
   "cell_type": "code",
   "execution_count": null,
   "metadata": {},
   "outputs": [],
   "source": [
    "gtn=GTN(L=4,seed=2,op=False,random_init=False)\n"
   ]
  },
  {
   "cell_type": "code",
   "execution_count": null,
   "metadata": {},
   "outputs": [],
   "source": [
    "np.array(M[(-1,1)].subs({alpha:atanh(0.5),theta1:0.,theta2:0.})).astype(float)"
   ]
  },
  {
   "cell_type": "code",
   "execution_count": null,
   "metadata": {},
   "outputs": [],
   "source": [
    "gtn.op_class_AIII(A=.5,theta1=0,theta2=0,kind=(-1,1))"
   ]
  },
  {
   "cell_type": "code",
   "execution_count": null,
   "metadata": {},
   "outputs": [],
   "source": [
    "gtn.op_class_AIII(A=.5,theta1=0,theta2=0,kind=(-1,1))-np.array(M[(-1,1)].subs({alpha:atanh(0.5),theta1:0.,theta2:0.})).astype(float)"
   ]
  },
  {
   "cell_type": "code",
   "execution_count": null,
   "metadata": {},
   "outputs": [],
   "source": [
    "def test_eq(A,t1,t2):\n",
    "    for kind in M.keys():\n",
    "        mat1=gtn.op_class_AIII(A=A,theta1=t1,theta2=t2,kind=kind)\n",
    "        mat2=np.array(M[kind].subs({alpha:atanh(A),theta1:t1,theta2:t2})).astype(float)\n",
    "        assert (np.abs(mat1-mat2).max())<1e-12, f'kind ({kind}) failed'\n",
    "    return True\n",
    "    "
   ]
  },
  {
   "cell_type": "code",
   "execution_count": null,
   "metadata": {},
   "outputs": [],
   "source": [
    "test_eq(A=1,t1=0,t2=0)\n",
    "test_eq(A=1,t1=0,t2=0.1)\n",
    "test_eq(A=1,t1=0.1,t2=0)\n",
    "test_eq(A=1,t1=0.1,t2=0.1)"
   ]
  },
  {
   "cell_type": "code",
   "execution_count": null,
   "metadata": {},
   "outputs": [],
   "source": [
    "test_eq(A=1,t1=-1,t2=1)\n",
    "# test_eq(A=1,t1=0,t2=0.1)\n",
    "# test_eq(A=1,t1=0.1,t2=0)\n",
    "# test_eq(A=1,t1=0.1,t2=0.1)"
   ]
  },
  {
   "cell_type": "code",
   "execution_count": null,
   "metadata": {},
   "outputs": [],
   "source": []
  },
  {
   "cell_type": "code",
   "execution_count": null,
   "metadata": {},
   "outputs": [],
   "source": []
  },
  {
   "cell_type": "code",
   "execution_count": null,
   "metadata": {},
   "outputs": [],
   "source": [
    "eye(Upsilon_.cols)"
   ]
  },
  {
   "cell_type": "code",
   "execution_count": null,
   "metadata": {},
   "outputs": [],
   "source": [
    "zeros(2)"
   ]
  },
  {
   "cell_type": "code",
   "execution_count": null,
   "metadata": {},
   "outputs": [],
   "source": [
    "Matrix([[Gamma,0],[0,Gamma]])"
   ]
  },
  {
   "cell_type": "code",
   "execution_count": null,
   "metadata": {},
   "outputs": [],
   "source": [
    "Gamma_[(1,1)][:2,:2]"
   ]
  },
  {
   "cell_type": "code",
   "execution_count": null,
   "metadata": {},
   "outputs": [],
   "source": []
  },
  {
   "cell_type": "markdown",
   "metadata": {},
   "source": [
    "## Check a more generalized case"
   ]
  },
  {
   "cell_type": "code",
   "execution_count": 304,
   "metadata": {},
   "outputs": [],
   "source": [
    "i,j=0,1"
   ]
  },
  {
   "cell_type": "code",
   "execution_count": 305,
   "metadata": {},
   "outputs": [
    {
     "data": {
      "text/latex": [
       "$\\displaystyle c_{0}^{\\dagger} c_{1} + c_{1}^{\\dagger} c_{0}$"
      ],
      "text/plain": [
       "Dagger(c_0)*c_1 + Dagger(c_1)*c_0"
      ]
     },
     "execution_count": 305,
     "metadata": {},
     "output_type": "execute_result"
    }
   ],
   "source": [
    "recursiveapply(Dagger(c[i])*c[j]-c[i]*Dagger(c[j]),normalorder2_C)"
   ]
  },
  {
   "cell_type": "code",
   "execution_count": 306,
   "metadata": {},
   "outputs": [
    {
     "data": {
      "text/latex": [
       "$\\displaystyle c_{0}^{\\dagger} c_{0} + 2 c_{1}^{\\dagger} c_{0}^{\\dagger} c_{1} c_{0} + c_{1}^{\\dagger} c_{1}$"
      ],
      "text/plain": [
       "Dagger(c_0)*c_0 + 2*Dagger(c_1)*Dagger(c_0)*c_1*c_0 + Dagger(c_1)*c_1"
      ]
     },
     "execution_count": 306,
     "metadata": {},
     "output_type": "execute_result"
    }
   ],
   "source": [
    "recursiveapply(((Dagger(c[i])*c[j]-c[i]*Dagger(c[j]))**2).expand(),normalorder2_C)"
   ]
  },
  {
   "cell_type": "code",
   "execution_count": 307,
   "metadata": {},
   "outputs": [
    {
     "data": {
      "text/latex": [
       "$\\displaystyle c_{0}^{\\dagger} c_{1} + c_{1}^{\\dagger} c_{0}$"
      ],
      "text/plain": [
       "Dagger(c_0)*c_1 + Dagger(c_1)*c_0"
      ]
     },
     "execution_count": 307,
     "metadata": {},
     "output_type": "execute_result"
    }
   ],
   "source": [
    "recursiveapply(((Dagger(c[i])*c[j]-c[i]*Dagger(c[j]))**3).expand(),normalorder2_C)"
   ]
  },
  {
   "cell_type": "code",
   "execution_count": 308,
   "metadata": {},
   "outputs": [
    {
     "data": {
      "text/latex": [
       "$\\displaystyle c_{0}^{\\dagger} c_{0} + 2 c_{1}^{\\dagger} c_{0}^{\\dagger} c_{1} c_{0} + c_{1}^{\\dagger} c_{1}$"
      ],
      "text/plain": [
       "Dagger(c_0)*c_0 + 2*Dagger(c_1)*Dagger(c_0)*c_1*c_0 + Dagger(c_1)*c_1"
      ]
     },
     "execution_count": 308,
     "metadata": {},
     "output_type": "execute_result"
    }
   ],
   "source": [
    "recursiveapply(((Dagger(c[i])*c[j]-c[i]*Dagger(c[j]))**4).expand(),normalorder2_C)"
   ]
  },
  {
   "cell_type": "code",
   "execution_count": 375,
   "metadata": {},
   "outputs": [],
   "source": [
    "i,j=0,1"
   ]
  },
  {
   "cell_type": "code",
   "execution_count": 385,
   "metadata": {},
   "outputs": [],
   "source": [
    "op_u= (cos(theta1/2)-1) *(Dagger(c[i])*c[j]-c[i]*Dagger(c[j]))**2 + I*sin(theta1/2) *(Dagger(c[i])*c[j]-c[i]*Dagger(c[j])) +1"
   ]
  },
  {
   "cell_type": "code",
   "execution_count": 310,
   "metadata": {},
   "outputs": [],
   "source": [
    "op_u = cos(theta1/2) + I * sin(theta1/2) *( Dagger(c[i])*c[j]-c[i]*Dagger(c[j]) )"
   ]
  },
  {
   "cell_type": "code",
   "execution_count": 386,
   "metadata": {},
   "outputs": [
    {
     "data": {
      "text/latex": [
       "$\\displaystyle i \\sin{\\left(\\frac{\\theta_{1}}{2} \\right)} c_{0}^{\\dagger} c_{1} + i \\sin{\\left(\\frac{\\theta_{1}}{2} \\right)} c_{1}^{\\dagger} c_{0} + \\cos{\\left(\\frac{\\theta_{1}}{2} \\right)} c_{0}^{\\dagger} c_{0} + 2 \\cos{\\left(\\frac{\\theta_{1}}{2} \\right)} c_{1}^{\\dagger} c_{0}^{\\dagger} c_{1} c_{0} + \\cos{\\left(\\frac{\\theta_{1}}{2} \\right)} c_{1}^{\\dagger} c_{1} + 1 - c_{0}^{\\dagger} c_{0} - 2 c_{1}^{\\dagger} c_{0}^{\\dagger} c_{1} c_{0} - c_{1}^{\\dagger} c_{1}$"
      ],
      "text/plain": [
       "I*sin(\\theta_1/2)*Dagger(c_0)*c_1 + I*sin(\\theta_1/2)*Dagger(c_1)*c_0 + cos(\\theta_1/2)*Dagger(c_0)*c_0 + 2*cos(\\theta_1/2)*Dagger(c_1)*Dagger(c_0)*c_1*c_0 + cos(\\theta_1/2)*Dagger(c_1)*c_1 + 1 - Dagger(c_0)*c_0 - 2*Dagger(c_1)*Dagger(c_0)*c_1*c_0 - Dagger(c_1)*c_1"
      ]
     },
     "execution_count": 386,
     "metadata": {},
     "output_type": "execute_result"
    }
   ],
   "source": [
    "recursiveapply(op_u.expand(),normalorder2_C)"
   ]
  },
  {
   "cell_type": "code",
   "execution_count": 387,
   "metadata": {},
   "outputs": [],
   "source": [
    "op_u_g=recursiveapply(op_u.subs(c2g).subs(selfadjoint).expand(),normalorder2)"
   ]
  },
  {
   "cell_type": "code",
   "execution_count": 388,
   "metadata": {},
   "outputs": [
    {
     "data": {
      "text/latex": [
       "$\\displaystyle \\frac{\\sin{\\left(\\frac{\\theta_{1}}{2} \\right)} \\gamma_{0} \\gamma_{3}}{2} - \\frac{\\sin{\\left(\\frac{\\theta_{1}}{2} \\right)} \\gamma_{1} \\gamma_{2}}{2} + \\frac{\\cos{\\left(\\frac{\\theta_{1}}{2} \\right)}}{2} + \\frac{\\cos{\\left(\\frac{\\theta_{1}}{2} \\right)} \\gamma_{0} \\gamma_{1} \\gamma_{2} \\gamma_{3}}{2} + \\frac{1}{2} - \\frac{\\gamma_{0} \\gamma_{1} \\gamma_{2} \\gamma_{3}}{2}$"
      ],
      "text/plain": [
       "sin(\\theta_1/2)*\\gamma_0*\\gamma_3/2 - sin(\\theta_1/2)*\\gamma_1*\\gamma_2/2 + cos(\\theta_1/2)/2 + cos(\\theta_1/2)*\\gamma_0*\\gamma_1*\\gamma_2*\\gamma_3/2 + 1/2 - \\gamma_0*\\gamma_1*\\gamma_2*\\gamma_3/2"
      ]
     },
     "execution_count": 388,
     "metadata": {},
     "output_type": "execute_result"
    }
   ],
   "source": [
    "op_u_g"
   ]
  },
  {
   "cell_type": "code",
   "execution_count": 390,
   "metadata": {},
   "outputs": [
    {
     "data": {
      "text/latex": [
       "$\\displaystyle \\cos^{2}{\\left(\\frac{\\theta_{1}}{2} \\right)} c_{0}^{\\dagger} c_{0} + 2 \\cos^{2}{\\left(\\frac{\\theta_{1}}{2} \\right)} c_{1}^{\\dagger} c_{0}^{\\dagger} c_{1} c_{0} + \\cos^{2}{\\left(\\frac{\\theta_{1}}{2} \\right)} c_{1}^{\\dagger} c_{1} + \\cos^{2}{\\left(\\frac{\\theta_{1}}{2} - \\frac{\\pi}{2} \\right)} c_{0}^{\\dagger} c_{0} + 2 \\cos^{2}{\\left(\\frac{\\theta_{1}}{2} - \\frac{\\pi}{2} \\right)} c_{1}^{\\dagger} c_{0}^{\\dagger} c_{1} c_{0} + \\cos^{2}{\\left(\\frac{\\theta_{1}}{2} - \\frac{\\pi}{2} \\right)} c_{1}^{\\dagger} c_{1} + 1 - c_{0}^{\\dagger} c_{0} - 2 c_{1}^{\\dagger} c_{0}^{\\dagger} c_{1} c_{0} - c_{1}^{\\dagger} c_{1}$"
      ],
      "text/plain": [
       "cos(\\theta_1/2)**2*Dagger(c_0)*c_0 + 2*cos(\\theta_1/2)**2*Dagger(c_1)*Dagger(c_0)*c_1*c_0 + cos(\\theta_1/2)**2*Dagger(c_1)*c_1 + cos(\\theta_1/2 - pi/2)**2*Dagger(c_0)*c_0 + 2*cos(\\theta_1/2 - pi/2)**2*Dagger(c_1)*Dagger(c_0)*c_1*c_0 + cos(\\theta_1/2 - pi/2)**2*Dagger(c_1)*c_1 + 1 - Dagger(c_0)*c_0 - 2*Dagger(c_1)*Dagger(c_0)*c_1*c_0 - Dagger(c_1)*c_1"
      ]
     },
     "execution_count": 390,
     "metadata": {},
     "output_type": "execute_result"
    }
   ],
   "source": [
    "recursiveapply((Dagger(op_u)*op_u).expand(),normalorder2_C).rewrite(sin,cos)"
   ]
  },
  {
   "cell_type": "code",
   "execution_count": 391,
   "metadata": {},
   "outputs": [
    {
     "data": {
      "text/latex": [
       "$\\displaystyle \\frac{\\sin^{2}{\\left(\\frac{\\theta_{1}}{2} \\right)}}{2} + \\frac{\\sin^{2}{\\left(\\frac{\\theta_{1}}{2} \\right)} \\gamma_{0} \\gamma_{1} \\gamma_{2} \\gamma_{3}}{2} + \\frac{\\cos^{2}{\\left(\\frac{\\theta_{1}}{2} \\right)}}{2} + \\frac{\\cos^{2}{\\left(\\frac{\\theta_{1}}{2} \\right)} \\gamma_{0} \\gamma_{1} \\gamma_{2} \\gamma_{3}}{2} + \\frac{1}{2} - \\frac{\\gamma_{0} \\gamma_{1} \\gamma_{2} \\gamma_{3}}{2}$"
      ],
      "text/plain": [
       "sin(\\theta_1/2)**2/2 + sin(\\theta_1/2)**2*\\gamma_0*\\gamma_1*\\gamma_2*\\gamma_3/2 + cos(\\theta_1/2)**2/2 + cos(\\theta_1/2)**2*\\gamma_0*\\gamma_1*\\gamma_2*\\gamma_3/2 + 1/2 - \\gamma_0*\\gamma_1*\\gamma_2*\\gamma_3/2"
      ]
     },
     "execution_count": 391,
     "metadata": {},
     "output_type": "execute_result"
    }
   ],
   "source": [
    "recursiveapply((Dagger(op_u_g)*op_u_g).subs(selfadjoint).expand(),normalorder2)"
   ]
  },
  {
   "cell_type": "code",
   "execution_count": null,
   "metadata": {},
   "outputs": [],
   "source": []
  },
  {
   "cell_type": "code",
   "execution_count": null,
   "metadata": {},
   "outputs": [],
   "source": [
    "parity_basis(op_u_g.subs(gamma_xi)*epr4,[xi[0],xi[1]])"
   ]
  },
  {
   "cell_type": "code",
   "execution_count": 322,
   "metadata": {},
   "outputs": [],
   "source": [
    "# op_K=op_u_g.subs(gamma_xi)\n",
    "# op_dm=recursiveapply(( op_K* rho_epr4 * op_K).expand(),normalorder2)"
   ]
  },
  {
   "cell_type": "code",
   "execution_count": 331,
   "metadata": {},
   "outputs": [
    {
     "data": {
      "text/latex": [
       "$\\displaystyle \\sin{\\left(\\frac{\\theta_{1}}{2} \\right)} \\gamma_{0} \\gamma_{1} + \\cos{\\left(\\frac{\\theta_{1}}{2} \\right)}$"
      ],
      "text/plain": [
       "sin(\\theta_1/2)*\\gamma_0*\\gamma_1 + cos(\\theta_1/2)"
      ]
     },
     "execution_count": 331,
     "metadata": {},
     "output_type": "execute_result"
    }
   ],
   "source": [
    "op_u_g"
   ]
  },
  {
   "cell_type": "code",
   "execution_count": 330,
   "metadata": {},
   "outputs": [
    {
     "data": {
      "text/latex": [
       "$\\displaystyle \\frac{\\left(1 + i \\eta_{0} \\xi_{0}\\right) \\left(1 + i \\eta_{1} \\xi_{1}\\right) \\left(1 + i \\eta_{2} \\xi_{2}\\right) \\left(1 + i \\eta_{3} \\xi_{3}\\right)}{16}$"
      ],
      "text/plain": [
       "(1 + I*\\eta_0*\\xi_0)*(1 + I*\\eta_1*\\xi_1)*(1 + I*\\eta_2*\\xi_2)*(1 + I*\\eta_3*\\xi_3)/16"
      ]
     },
     "execution_count": 330,
     "metadata": {},
     "output_type": "execute_result"
    }
   ],
   "source": [
    "rho_epr4"
   ]
  },
  {
   "cell_type": "code",
   "execution_count": 344,
   "metadata": {},
   "outputs": [],
   "source": [
    "op_dm=recursiveapply(( op_K* rho_epr4 * Dagger(op_K)).expand().subs(selfadjoint),normalorder2)"
   ]
  },
  {
   "cell_type": "code",
   "execution_count": 343,
   "metadata": {},
   "outputs": [
    {
     "data": {
      "text/latex": [
       "$\\displaystyle \\frac{i \\sin{\\left(\\frac{\\theta_{1}}{2} \\right)} \\cos{\\left(\\frac{\\theta_{1}}{2} \\right)}}{8}$"
      ],
      "text/plain": [
       "I*sin(\\theta_1/2)*cos(\\theta_1/2)/8"
      ]
     },
     "execution_count": 343,
     "metadata": {},
     "output_type": "execute_result"
    }
   ],
   "source": [
    "recursiveapply(rs.expand(),normalorder2).subs(constant_only)"
   ]
  },
  {
   "cell_type": "code",
   "execution_count": 359,
   "metadata": {},
   "outputs": [],
   "source": [
    "op_dm=recursiveapply(( op_K* rho_epr2 * Dagger(op_K)).expand().subs(selfadjoint),normalorder2)\n"
   ]
  },
  {
   "cell_type": "code",
   "execution_count": 361,
   "metadata": {},
   "outputs": [
    {
     "data": {
      "text/latex": [
       "$\\displaystyle \\frac{\\sin^{2}{\\left(\\frac{\\theta_{1}}{2} \\right)}}{4} + \\frac{i \\sin^{2}{\\left(\\frac{\\theta_{1}}{2} \\right)} \\xi_{0} \\eta_{0}}{4} + \\frac{\\sin^{2}{\\left(\\frac{\\theta_{1}}{2} \\right)} \\xi_{0} \\xi_{1} \\eta_{0} \\eta_{1}}{4} + \\frac{i \\sin^{2}{\\left(\\frac{\\theta_{1}}{2} \\right)} \\xi_{1} \\eta_{1}}{4} - \\frac{i \\sin{\\left(\\frac{\\theta_{1}}{2} \\right)} \\cos{\\left(\\frac{\\theta_{1}}{2} \\right)} \\xi_{0} \\eta_{1}}{2} + \\frac{i \\sin{\\left(\\frac{\\theta_{1}}{2} \\right)} \\cos{\\left(\\frac{\\theta_{1}}{2} \\right)} \\xi_{1} \\eta_{0}}{2} + \\frac{\\cos^{2}{\\left(\\frac{\\theta_{1}}{2} \\right)}}{4} - \\frac{i \\cos^{2}{\\left(\\frac{\\theta_{1}}{2} \\right)} \\xi_{0} \\eta_{0}}{4} + \\frac{\\cos^{2}{\\left(\\frac{\\theta_{1}}{2} \\right)} \\xi_{0} \\xi_{1} \\eta_{0} \\eta_{1}}{4} - \\frac{i \\cos^{2}{\\left(\\frac{\\theta_{1}}{2} \\right)} \\xi_{1} \\eta_{1}}{4}$"
      ],
      "text/plain": [
       "sin(\\theta_1/2)**2/4 + I*sin(\\theta_1/2)**2*\\xi_0*\\eta_0/4 + sin(\\theta_1/2)**2*\\xi_0*\\xi_1*\\eta_0*\\eta_1/4 + I*sin(\\theta_1/2)**2*\\xi_1*\\eta_1/4 - I*sin(\\theta_1/2)*cos(\\theta_1/2)*\\xi_0*\\eta_1/2 + I*sin(\\theta_1/2)*cos(\\theta_1/2)*\\xi_1*\\eta_0/2 + cos(\\theta_1/2)**2/4 - I*cos(\\theta_1/2)**2*\\xi_0*\\eta_0/4 + cos(\\theta_1/2)**2*\\xi_0*\\xi_1*\\eta_0*\\eta_1/4 - I*cos(\\theta_1/2)**2*\\xi_1*\\eta_1/4"
      ]
     },
     "execution_count": 361,
     "metadata": {},
     "output_type": "execute_result"
    }
   ],
   "source": [
    "op_dm"
   ]
  },
  {
   "cell_type": "code",
   "execution_count": 362,
   "metadata": {},
   "outputs": [
    {
     "name": "stderr",
     "output_type": "stream",
     "text": [
      "100%|██████████| 6/6 [00:10<00:00,  1.73s/it]\n"
     ]
    }
   ],
   "source": [
    "Gamma = zeros(4, 4)\n",
    "order=[eta[i] for i in range(2)] + [xi[i] for i in range(2)]\n",
    "ij_list=[(i,j) for i in range(4) for j in range(i+1,4)]\n",
    "\n",
    "op_K=op_u_g.subs(gamma_xi)\n",
    "op_dm=recursiveapply(( op_K* rho_epr2 * Dagger(op_K)).expand().subs(selfadjoint),normalorder2)\n",
    "for i,j in tqdm(ij_list):\n",
    "        rs=I*order[i]*order[j]*( op_dm)\n",
    "        matel=recursiveapply(rs.expand(),normalorder2).subs(constant_only)*4\n",
    "        matel=matel.simplify()\n",
    "        Gamma[i,j]=matel\n",
    "        Gamma[j,i]=-matel"
   ]
  },
  {
   "cell_type": "code",
   "execution_count": 363,
   "metadata": {},
   "outputs": [
    {
     "data": {
      "text/latex": [
       "$\\displaystyle \\left[\\begin{matrix}0 & 0 & \\cos{\\left(\\theta_{1} \\right)} & - \\sin{\\left(\\theta_{1} \\right)}\\\\0 & 0 & \\sin{\\left(\\theta_{1} \\right)} & \\cos{\\left(\\theta_{1} \\right)}\\\\- \\cos{\\left(\\theta_{1} \\right)} & - \\sin{\\left(\\theta_{1} \\right)} & 0 & 0\\\\\\sin{\\left(\\theta_{1} \\right)} & - \\cos{\\left(\\theta_{1} \\right)} & 0 & 0\\end{matrix}\\right]$"
      ],
      "text/plain": [
       "Matrix([\n",
       "[             0,              0, cos(\\theta_1), -sin(\\theta_1)],\n",
       "[             0,              0, sin(\\theta_1),  cos(\\theta_1)],\n",
       "[-cos(\\theta_1), -sin(\\theta_1),             0,              0],\n",
       "[ sin(\\theta_1), -cos(\\theta_1),             0,              0]])"
      ]
     },
     "execution_count": 363,
     "metadata": {},
     "output_type": "execute_result"
    }
   ],
   "source": [
    "Gamma"
   ]
  },
  {
   "cell_type": "code",
   "execution_count": null,
   "metadata": {},
   "outputs": [],
   "source": []
  },
  {
   "cell_type": "code",
   "execution_count": 392,
   "metadata": {},
   "outputs": [
    {
     "name": "stderr",
     "output_type": "stream",
     "text": [
      "100%|██████████| 28/28 [06:09<00:00, 13.20s/it]\n"
     ]
    }
   ],
   "source": [
    "Gamma = zeros(8, 8)\n",
    "order=[eta[i] for i in range(4)] + [xi[i] for i in range(4)]\n",
    "ij_list=[(i,j) for i in range(8) for j in range(i+1,8)]\n",
    "\n",
    "op_K=op_u_g.subs(gamma_xi)\n",
    "op_dm=recursiveapply(( op_K* rho_epr4 * Dagger(op_K)).expand().subs(selfadjoint),normalorder2)\n",
    "for i,j in tqdm(ij_list):\n",
    "        rs=I*order[i]*order[j]*( op_dm)\n",
    "        matel=recursiveapply(rs.expand(),normalorder2).subs(constant_only)*16\n",
    "        matel=matel.simplify()\n",
    "        Gamma[i,j]=matel\n",
    "        Gamma[j,i]=-matel"
   ]
  },
  {
   "cell_type": "code",
   "execution_count": 324,
   "metadata": {},
   "outputs": [
    {
     "data": {
      "text/plain": [
       "[\\eta_0, \\eta_1, \\eta_2, \\eta_3, \\xi_0, \\xi_1, \\xi_2, \\xi_3]"
      ]
     },
     "execution_count": 324,
     "metadata": {},
     "output_type": "execute_result"
    }
   ],
   "source": [
    "order"
   ]
  },
  {
   "cell_type": "code",
   "execution_count": 393,
   "metadata": {},
   "outputs": [
    {
     "data": {
      "text/latex": [
       "$\\displaystyle \\left[\\begin{matrix}0 & 0 & 0 & 0 & \\cos{\\left(\\frac{\\theta_{1}}{2} \\right)} & 0 & 0 & - \\sin{\\left(\\frac{\\theta_{1}}{2} \\right)}\\\\0 & 0 & 0 & 0 & 0 & \\cos{\\left(\\frac{\\theta_{1}}{2} \\right)} & \\sin{\\left(\\frac{\\theta_{1}}{2} \\right)} & 0\\\\0 & 0 & 0 & 0 & 0 & - \\sin{\\left(\\frac{\\theta_{1}}{2} \\right)} & \\cos{\\left(\\frac{\\theta_{1}}{2} \\right)} & 0\\\\0 & 0 & 0 & 0 & \\sin{\\left(\\frac{\\theta_{1}}{2} \\right)} & 0 & 0 & \\cos{\\left(\\frac{\\theta_{1}}{2} \\right)}\\\\- \\cos{\\left(\\frac{\\theta_{1}}{2} \\right)} & 0 & 0 & - \\sin{\\left(\\frac{\\theta_{1}}{2} \\right)} & 0 & 0 & 0 & 0\\\\0 & - \\cos{\\left(\\frac{\\theta_{1}}{2} \\right)} & \\sin{\\left(\\frac{\\theta_{1}}{2} \\right)} & 0 & 0 & 0 & 0 & 0\\\\0 & - \\sin{\\left(\\frac{\\theta_{1}}{2} \\right)} & - \\cos{\\left(\\frac{\\theta_{1}}{2} \\right)} & 0 & 0 & 0 & 0 & 0\\\\\\sin{\\left(\\frac{\\theta_{1}}{2} \\right)} & 0 & 0 & - \\cos{\\left(\\frac{\\theta_{1}}{2} \\right)} & 0 & 0 & 0 & 0\\end{matrix}\\right]$"
      ],
      "text/plain": [
       "Matrix([\n",
       "[               0,                0,                0,                0, cos(\\theta_1/2),                0,               0, -sin(\\theta_1/2)],\n",
       "[               0,                0,                0,                0,               0,  cos(\\theta_1/2), sin(\\theta_1/2),                0],\n",
       "[               0,                0,                0,                0,               0, -sin(\\theta_1/2), cos(\\theta_1/2),                0],\n",
       "[               0,                0,                0,                0, sin(\\theta_1/2),                0,               0,  cos(\\theta_1/2)],\n",
       "[-cos(\\theta_1/2),                0,                0, -sin(\\theta_1/2),               0,                0,               0,                0],\n",
       "[               0, -cos(\\theta_1/2),  sin(\\theta_1/2),                0,               0,                0,               0,                0],\n",
       "[               0, -sin(\\theta_1/2), -cos(\\theta_1/2),                0,               0,                0,               0,                0],\n",
       "[ sin(\\theta_1/2),                0,                0, -cos(\\theta_1/2),               0,                0,               0,                0]])"
      ]
     },
     "execution_count": 393,
     "metadata": {},
     "output_type": "execute_result"
    }
   ],
   "source": [
    "Gamma"
   ]
  },
  {
   "cell_type": "code",
   "execution_count": 394,
   "metadata": {},
   "outputs": [
    {
     "data": {
      "text/latex": [
       "$\\displaystyle \\left[\\begin{matrix}- \\sin^{2}{\\left(\\frac{\\theta_{1}}{2} \\right)} - \\cos^{2}{\\left(\\frac{\\theta_{1}}{2} \\right)} & 0 & 0 & 0 & 0 & 0 & 0 & 0\\\\0 & - \\sin^{2}{\\left(\\frac{\\theta_{1}}{2} \\right)} - \\cos^{2}{\\left(\\frac{\\theta_{1}}{2} \\right)} & 0 & 0 & 0 & 0 & 0 & 0\\\\0 & 0 & - \\sin^{2}{\\left(\\frac{\\theta_{1}}{2} \\right)} - \\cos^{2}{\\left(\\frac{\\theta_{1}}{2} \\right)} & 0 & 0 & 0 & 0 & 0\\\\0 & 0 & 0 & - \\sin^{2}{\\left(\\frac{\\theta_{1}}{2} \\right)} - \\cos^{2}{\\left(\\frac{\\theta_{1}}{2} \\right)} & 0 & 0 & 0 & 0\\\\0 & 0 & 0 & 0 & - \\sin^{2}{\\left(\\frac{\\theta_{1}}{2} \\right)} - \\cos^{2}{\\left(\\frac{\\theta_{1}}{2} \\right)} & 0 & 0 & 0\\\\0 & 0 & 0 & 0 & 0 & - \\sin^{2}{\\left(\\frac{\\theta_{1}}{2} \\right)} - \\cos^{2}{\\left(\\frac{\\theta_{1}}{2} \\right)} & 0 & 0\\\\0 & 0 & 0 & 0 & 0 & 0 & - \\sin^{2}{\\left(\\frac{\\theta_{1}}{2} \\right)} - \\cos^{2}{\\left(\\frac{\\theta_{1}}{2} \\right)} & 0\\\\0 & 0 & 0 & 0 & 0 & 0 & 0 & - \\sin^{2}{\\left(\\frac{\\theta_{1}}{2} \\right)} - \\cos^{2}{\\left(\\frac{\\theta_{1}}{2} \\right)}\\end{matrix}\\right]$"
      ],
      "text/plain": [
       "Matrix([\n",
       "[-sin(\\theta_1/2)**2 - cos(\\theta_1/2)**2,                                        0,                                        0,                                        0,                                        0,                                        0,                                        0,                                        0],\n",
       "[                                       0, -sin(\\theta_1/2)**2 - cos(\\theta_1/2)**2,                                        0,                                        0,                                        0,                                        0,                                        0,                                        0],\n",
       "[                                       0,                                        0, -sin(\\theta_1/2)**2 - cos(\\theta_1/2)**2,                                        0,                                        0,                                        0,                                        0,                                        0],\n",
       "[                                       0,                                        0,                                        0, -sin(\\theta_1/2)**2 - cos(\\theta_1/2)**2,                                        0,                                        0,                                        0,                                        0],\n",
       "[                                       0,                                        0,                                        0,                                        0, -sin(\\theta_1/2)**2 - cos(\\theta_1/2)**2,                                        0,                                        0,                                        0],\n",
       "[                                       0,                                        0,                                        0,                                        0,                                        0, -sin(\\theta_1/2)**2 - cos(\\theta_1/2)**2,                                        0,                                        0],\n",
       "[                                       0,                                        0,                                        0,                                        0,                                        0,                                        0, -sin(\\theta_1/2)**2 - cos(\\theta_1/2)**2,                                        0],\n",
       "[                                       0,                                        0,                                        0,                                        0,                                        0,                                        0,                                        0, -sin(\\theta_1/2)**2 - cos(\\theta_1/2)**2]])"
      ]
     },
     "execution_count": 394,
     "metadata": {},
     "output_type": "execute_result"
    }
   ],
   "source": [
    "Gamma@Gamma"
   ]
  },
  {
   "cell_type": "code",
   "execution_count": null,
   "metadata": {},
   "outputs": [],
   "source": []
  },
  {
   "cell_type": "markdown",
   "metadata": {},
   "source": [
    "Here the unitary part can be $\\exp(i\\theta/2(c_{i,A}^\\dag c_{j,A} - c_{i,A} c_{j,A}^\\dag))$ and \n",
    "$\\exp(i\\theta/2(c_{i,B}^\\dag c_{j,B} - c_{i,B} c_{j,B}^\\dag))$\n",
    "So there are more four complex fermion sites needed"
   ]
  },
  {
   "cell_type": "code",
   "execution_count": 8,
   "metadata": {},
   "outputs": [],
   "source": [
    "Gamma_={}   "
   ]
  },
  {
   "cell_type": "code",
   "execution_count": 9,
   "metadata": {},
   "outputs": [],
   "source": [
    "Gamma_[(1,1)]=zeros(16,16)\n",
    "Gamma_[(-1,-1)]=zeros(16,16)\n",
    "Gamma_[(-1,1)]=zeros(16,16)\n",
    "Gamma_[(1,-1)]=zeros(16,16)"
   ]
  },
  {
   "cell_type": "code",
   "execution_count": 10,
   "metadata": {},
   "outputs": [],
   "source": [
    "Gamma_[(1,1)][0,1]=Gamma_[(1,1)][6,7]=tanh(alpha)\n",
    "Gamma_[(1,1)][8,9]=Gamma_[(1,1)][14,15]=-tanh(alpha)\n",
    "Gamma_[(1,1)][0,8]=Gamma_[(1,1)][1,9]=Gamma_[(1,1)][6,14,]=Gamma_[(1,1)][7,15]=1/cosh(alpha)\n",
    "Gamma_[(1,1)]=(Gamma_[(1,1)]-Gamma_[(1,1)].T)\n",
    "\n",
    "Gamma_[(-1,-1)][0,1]=Gamma_[(-1,-1)][6,7]=-tanh(alpha)\n",
    "Gamma_[(-1,-1)][8,9]=Gamma_[(-1,-1)][14,15]=tanh(alpha)\n",
    "Gamma_[(-1,-1)][0,8]=Gamma_[(-1,-1)][1,9]=Gamma_[(-1,-1)][6,14]=Gamma_[(-1,-1)][7,15]=1/cosh(alpha)\n",
    "Gamma_[(-1,-1)]=(Gamma_[(-1,-1)]-Gamma_[(-1,-1)].T)\n",
    "\n",
    "Gamma_[(-1,1)][0,7]=Gamma_[(-1,1)][9,14]=-tanh(alpha)\n",
    "Gamma_[(-1,1)][1,6]=Gamma_[(-1,1)][8,15]=tanh(alpha)\n",
    "Gamma_[(-1,1)][0,8]=Gamma_[(-1,1)][1,9]=Gamma_[(-1,1)][6,14]=Gamma_[(-1,1)][7,15]=1/cosh(alpha)\n",
    "Gamma_[(-1,1)]=(Gamma_[(-1,1)]-Gamma_[(-1,1)].T)\n",
    "\n",
    "Gamma_[(1,-1)][0,7]=Gamma_[(1,-1)][9,14]=tanh(alpha)\n",
    "Gamma_[(1,-1)][1,6]=Gamma_[(1,-1)][8,15]=-tanh(alpha)\n",
    "Gamma_[(1,-1)][0,8]=Gamma_[(1,-1)][1,9]=Gamma_[(1,-1)][6,14]=Gamma_[(1,-1)][7,15]=1/cosh(alpha)\n",
    "\n",
    "Gamma_[(1,-1)]=(Gamma_[(1,-1)]-Gamma_[(1,-1)].T)\n",
    "\n",
    "for Gamma in Gamma_.values():\n",
    "    Gamma[2,10]=Gamma[3,11]=Gamma[4,12]=Gamma[5,13]=1\n",
    "    Gamma[10,2]=Gamma[11,3]=Gamma[12,4]=Gamma[13,5]=-1\n"
   ]
  },
  {
   "cell_type": "code",
   "execution_count": 11,
   "metadata": {},
   "outputs": [
    {
     "data": {
      "text/latex": [
       "$\\displaystyle \\left[\\begin{array}{cccccccccccccccc}0 & \\tanh{\\left(\\alpha \\right)} & 0 & 0 & 0 & 0 & 0 & 0 & \\frac{1}{\\cosh{\\left(\\alpha \\right)}} & 0 & 0 & 0 & 0 & 0 & 0 & 0\\\\- \\tanh{\\left(\\alpha \\right)} & 0 & 0 & 0 & 0 & 0 & 0 & 0 & 0 & \\frac{1}{\\cosh{\\left(\\alpha \\right)}} & 0 & 0 & 0 & 0 & 0 & 0\\\\0 & 0 & 0 & 0 & 0 & 0 & 0 & 0 & 0 & 0 & 1 & 0 & 0 & 0 & 0 & 0\\\\0 & 0 & 0 & 0 & 0 & 0 & 0 & 0 & 0 & 0 & 0 & 1 & 0 & 0 & 0 & 0\\\\0 & 0 & 0 & 0 & 0 & 0 & 0 & 0 & 0 & 0 & 0 & 0 & 1 & 0 & 0 & 0\\\\0 & 0 & 0 & 0 & 0 & 0 & 0 & 0 & 0 & 0 & 0 & 0 & 0 & 1 & 0 & 0\\\\0 & 0 & 0 & 0 & 0 & 0 & 0 & \\tanh{\\left(\\alpha \\right)} & 0 & 0 & 0 & 0 & 0 & 0 & \\frac{1}{\\cosh{\\left(\\alpha \\right)}} & 0\\\\0 & 0 & 0 & 0 & 0 & 0 & - \\tanh{\\left(\\alpha \\right)} & 0 & 0 & 0 & 0 & 0 & 0 & 0 & 0 & \\frac{1}{\\cosh{\\left(\\alpha \\right)}}\\\\- \\frac{1}{\\cosh{\\left(\\alpha \\right)}} & 0 & 0 & 0 & 0 & 0 & 0 & 0 & 0 & - \\tanh{\\left(\\alpha \\right)} & 0 & 0 & 0 & 0 & 0 & 0\\\\0 & - \\frac{1}{\\cosh{\\left(\\alpha \\right)}} & 0 & 0 & 0 & 0 & 0 & 0 & \\tanh{\\left(\\alpha \\right)} & 0 & 0 & 0 & 0 & 0 & 0 & 0\\\\0 & 0 & -1 & 0 & 0 & 0 & 0 & 0 & 0 & 0 & 0 & 0 & 0 & 0 & 0 & 0\\\\0 & 0 & 0 & -1 & 0 & 0 & 0 & 0 & 0 & 0 & 0 & 0 & 0 & 0 & 0 & 0\\\\0 & 0 & 0 & 0 & -1 & 0 & 0 & 0 & 0 & 0 & 0 & 0 & 0 & 0 & 0 & 0\\\\0 & 0 & 0 & 0 & 0 & -1 & 0 & 0 & 0 & 0 & 0 & 0 & 0 & 0 & 0 & 0\\\\0 & 0 & 0 & 0 & 0 & 0 & - \\frac{1}{\\cosh{\\left(\\alpha \\right)}} & 0 & 0 & 0 & 0 & 0 & 0 & 0 & 0 & - \\tanh{\\left(\\alpha \\right)}\\\\0 & 0 & 0 & 0 & 0 & 0 & 0 & - \\frac{1}{\\cosh{\\left(\\alpha \\right)}} & 0 & 0 & 0 & 0 & 0 & 0 & \\tanh{\\left(\\alpha \\right)} & 0\\end{array}\\right]$"
      ],
      "text/plain": [
       "Matrix([\n",
       "[              0,    tanh(\\alpha),  0,  0,  0,  0,               0,               0, 1/cosh(\\alpha),              0, 0, 0, 0, 0,              0,              0],\n",
       "[  -tanh(\\alpha),               0,  0,  0,  0,  0,               0,               0,              0, 1/cosh(\\alpha), 0, 0, 0, 0,              0,              0],\n",
       "[              0,               0,  0,  0,  0,  0,               0,               0,              0,              0, 1, 0, 0, 0,              0,              0],\n",
       "[              0,               0,  0,  0,  0,  0,               0,               0,              0,              0, 0, 1, 0, 0,              0,              0],\n",
       "[              0,               0,  0,  0,  0,  0,               0,               0,              0,              0, 0, 0, 1, 0,              0,              0],\n",
       "[              0,               0,  0,  0,  0,  0,               0,               0,              0,              0, 0, 0, 0, 1,              0,              0],\n",
       "[              0,               0,  0,  0,  0,  0,               0,    tanh(\\alpha),              0,              0, 0, 0, 0, 0, 1/cosh(\\alpha),              0],\n",
       "[              0,               0,  0,  0,  0,  0,   -tanh(\\alpha),               0,              0,              0, 0, 0, 0, 0,              0, 1/cosh(\\alpha)],\n",
       "[-1/cosh(\\alpha),               0,  0,  0,  0,  0,               0,               0,              0,  -tanh(\\alpha), 0, 0, 0, 0,              0,              0],\n",
       "[              0, -1/cosh(\\alpha),  0,  0,  0,  0,               0,               0,   tanh(\\alpha),              0, 0, 0, 0, 0,              0,              0],\n",
       "[              0,               0, -1,  0,  0,  0,               0,               0,              0,              0, 0, 0, 0, 0,              0,              0],\n",
       "[              0,               0,  0, -1,  0,  0,               0,               0,              0,              0, 0, 0, 0, 0,              0,              0],\n",
       "[              0,               0,  0,  0, -1,  0,               0,               0,              0,              0, 0, 0, 0, 0,              0,              0],\n",
       "[              0,               0,  0,  0,  0, -1,               0,               0,              0,              0, 0, 0, 0, 0,              0,              0],\n",
       "[              0,               0,  0,  0,  0,  0, -1/cosh(\\alpha),               0,              0,              0, 0, 0, 0, 0,              0,  -tanh(\\alpha)],\n",
       "[              0,               0,  0,  0,  0,  0,               0, -1/cosh(\\alpha),              0,              0, 0, 0, 0, 0,   tanh(\\alpha),              0]])"
      ]
     },
     "execution_count": 11,
     "metadata": {},
     "output_type": "execute_result"
    }
   ],
   "source": [
    "\n",
    "Gamma_[(1,1)]"
   ]
  },
  {
   "cell_type": "code",
   "execution_count": 12,
   "metadata": {},
   "outputs": [
    {
     "data": {
      "text/latex": [
       "$\\displaystyle \\left[\\begin{array}{cccccccccccccccc}- \\tanh^{2}{\\left(\\alpha \\right)} - \\frac{1}{\\cosh^{2}{\\left(\\alpha \\right)}} & 0 & 0 & 0 & 0 & 0 & 0 & 0 & 0 & 0 & 0 & 0 & 0 & 0 & 0 & 0\\\\0 & - \\tanh^{2}{\\left(\\alpha \\right)} - \\frac{1}{\\cosh^{2}{\\left(\\alpha \\right)}} & 0 & 0 & 0 & 0 & 0 & 0 & 0 & 0 & 0 & 0 & 0 & 0 & 0 & 0\\\\0 & 0 & -1 & 0 & 0 & 0 & 0 & 0 & 0 & 0 & 0 & 0 & 0 & 0 & 0 & 0\\\\0 & 0 & 0 & -1 & 0 & 0 & 0 & 0 & 0 & 0 & 0 & 0 & 0 & 0 & 0 & 0\\\\0 & 0 & 0 & 0 & -1 & 0 & 0 & 0 & 0 & 0 & 0 & 0 & 0 & 0 & 0 & 0\\\\0 & 0 & 0 & 0 & 0 & -1 & 0 & 0 & 0 & 0 & 0 & 0 & 0 & 0 & 0 & 0\\\\0 & 0 & 0 & 0 & 0 & 0 & - \\tanh^{2}{\\left(\\alpha \\right)} - \\frac{1}{\\cosh^{2}{\\left(\\alpha \\right)}} & 0 & 0 & 0 & 0 & 0 & 0 & 0 & 0 & 0\\\\0 & 0 & 0 & 0 & 0 & 0 & 0 & - \\tanh^{2}{\\left(\\alpha \\right)} - \\frac{1}{\\cosh^{2}{\\left(\\alpha \\right)}} & 0 & 0 & 0 & 0 & 0 & 0 & 0 & 0\\\\0 & 0 & 0 & 0 & 0 & 0 & 0 & 0 & - \\tanh^{2}{\\left(\\alpha \\right)} - \\frac{1}{\\cosh^{2}{\\left(\\alpha \\right)}} & 0 & 0 & 0 & 0 & 0 & 0 & 0\\\\0 & 0 & 0 & 0 & 0 & 0 & 0 & 0 & 0 & - \\tanh^{2}{\\left(\\alpha \\right)} - \\frac{1}{\\cosh^{2}{\\left(\\alpha \\right)}} & 0 & 0 & 0 & 0 & 0 & 0\\\\0 & 0 & 0 & 0 & 0 & 0 & 0 & 0 & 0 & 0 & -1 & 0 & 0 & 0 & 0 & 0\\\\0 & 0 & 0 & 0 & 0 & 0 & 0 & 0 & 0 & 0 & 0 & -1 & 0 & 0 & 0 & 0\\\\0 & 0 & 0 & 0 & 0 & 0 & 0 & 0 & 0 & 0 & 0 & 0 & -1 & 0 & 0 & 0\\\\0 & 0 & 0 & 0 & 0 & 0 & 0 & 0 & 0 & 0 & 0 & 0 & 0 & -1 & 0 & 0\\\\0 & 0 & 0 & 0 & 0 & 0 & 0 & 0 & 0 & 0 & 0 & 0 & 0 & 0 & - \\tanh^{2}{\\left(\\alpha \\right)} - \\frac{1}{\\cosh^{2}{\\left(\\alpha \\right)}} & 0\\\\0 & 0 & 0 & 0 & 0 & 0 & 0 & 0 & 0 & 0 & 0 & 0 & 0 & 0 & 0 & - \\tanh^{2}{\\left(\\alpha \\right)} - \\frac{1}{\\cosh^{2}{\\left(\\alpha \\right)}}\\end{array}\\right]$"
      ],
      "text/plain": [
       "Matrix([\n",
       "[-tanh(\\alpha)**2 - 1/cosh(\\alpha)**2,                                    0,  0,  0,  0,  0,                                    0,                                    0,                                    0,                                    0,  0,  0,  0,  0,                                    0,                                    0],\n",
       "[                                   0, -tanh(\\alpha)**2 - 1/cosh(\\alpha)**2,  0,  0,  0,  0,                                    0,                                    0,                                    0,                                    0,  0,  0,  0,  0,                                    0,                                    0],\n",
       "[                                   0,                                    0, -1,  0,  0,  0,                                    0,                                    0,                                    0,                                    0,  0,  0,  0,  0,                                    0,                                    0],\n",
       "[                                   0,                                    0,  0, -1,  0,  0,                                    0,                                    0,                                    0,                                    0,  0,  0,  0,  0,                                    0,                                    0],\n",
       "[                                   0,                                    0,  0,  0, -1,  0,                                    0,                                    0,                                    0,                                    0,  0,  0,  0,  0,                                    0,                                    0],\n",
       "[                                   0,                                    0,  0,  0,  0, -1,                                    0,                                    0,                                    0,                                    0,  0,  0,  0,  0,                                    0,                                    0],\n",
       "[                                   0,                                    0,  0,  0,  0,  0, -tanh(\\alpha)**2 - 1/cosh(\\alpha)**2,                                    0,                                    0,                                    0,  0,  0,  0,  0,                                    0,                                    0],\n",
       "[                                   0,                                    0,  0,  0,  0,  0,                                    0, -tanh(\\alpha)**2 - 1/cosh(\\alpha)**2,                                    0,                                    0,  0,  0,  0,  0,                                    0,                                    0],\n",
       "[                                   0,                                    0,  0,  0,  0,  0,                                    0,                                    0, -tanh(\\alpha)**2 - 1/cosh(\\alpha)**2,                                    0,  0,  0,  0,  0,                                    0,                                    0],\n",
       "[                                   0,                                    0,  0,  0,  0,  0,                                    0,                                    0,                                    0, -tanh(\\alpha)**2 - 1/cosh(\\alpha)**2,  0,  0,  0,  0,                                    0,                                    0],\n",
       "[                                   0,                                    0,  0,  0,  0,  0,                                    0,                                    0,                                    0,                                    0, -1,  0,  0,  0,                                    0,                                    0],\n",
       "[                                   0,                                    0,  0,  0,  0,  0,                                    0,                                    0,                                    0,                                    0,  0, -1,  0,  0,                                    0,                                    0],\n",
       "[                                   0,                                    0,  0,  0,  0,  0,                                    0,                                    0,                                    0,                                    0,  0,  0, -1,  0,                                    0,                                    0],\n",
       "[                                   0,                                    0,  0,  0,  0,  0,                                    0,                                    0,                                    0,                                    0,  0,  0,  0, -1,                                    0,                                    0],\n",
       "[                                   0,                                    0,  0,  0,  0,  0,                                    0,                                    0,                                    0,                                    0,  0,  0,  0,  0, -tanh(\\alpha)**2 - 1/cosh(\\alpha)**2,                                    0],\n",
       "[                                   0,                                    0,  0,  0,  0,  0,                                    0,                                    0,                                    0,                                    0,  0,  0,  0,  0,                                    0, -tanh(\\alpha)**2 - 1/cosh(\\alpha)**2]])"
      ]
     },
     "execution_count": 12,
     "metadata": {},
     "output_type": "execute_result"
    }
   ],
   "source": [
    "Gamma_[(1,1)]@Gamma_[(1,1)]"
   ]
  },
  {
   "cell_type": "code",
   "execution_count": 13,
   "metadata": {},
   "outputs": [
    {
     "data": {
      "text/latex": [
       "$\\displaystyle \\left[\\begin{array}{cccccccccccccccc}0 & 0 & 0 & 0 & 0 & 0 & 0 & 0 & 0 & 0 & 0 & 0 & 0 & 0 & 0 & 0\\\\0 & 0 & 0 & 0 & 0 & 0 & 0 & 0 & 0 & 0 & 0 & 0 & 0 & 0 & 0 & 0\\\\0 & 0 & 0 & 0 & 0 & 0 & 0 & 0 & 0 & 0 & 0 & 0 & 0 & 0 & 0 & 0\\\\0 & 0 & 0 & 0 & 0 & 0 & 0 & 0 & 0 & 0 & 0 & 0 & 0 & 0 & 0 & 0\\\\0 & 0 & 0 & 0 & 0 & 0 & 0 & 0 & 0 & 0 & 0 & 0 & 0 & 0 & 0 & 0\\\\0 & 0 & 0 & 0 & 0 & 0 & 0 & 0 & 0 & 0 & 0 & 0 & 0 & 0 & 0 & 0\\\\0 & 0 & 0 & 0 & 0 & 0 & 0 & 0 & 0 & 0 & 0 & 0 & 0 & 0 & 0 & 0\\\\0 & 0 & 0 & 0 & 0 & 0 & 0 & 0 & 0 & 0 & 0 & 0 & 0 & 0 & 0 & 0\\\\0 & 0 & 0 & 0 & 0 & 0 & 0 & 0 & 0 & 0 & 0 & 0 & 0 & 0 & 0 & 0\\\\0 & 0 & 0 & 0 & 0 & 0 & 0 & 0 & 0 & 0 & 0 & 0 & 0 & 0 & 0 & 0\\\\0 & 0 & 0 & 0 & 0 & 0 & 0 & 0 & 0 & 0 & 0 & 0 & 0 & 0 & 0 & 0\\\\0 & 0 & 0 & 0 & 0 & 0 & 0 & 0 & 0 & 0 & 0 & 0 & 0 & 0 & 0 & 0\\\\0 & 0 & 0 & 0 & 0 & 0 & 0 & 0 & 0 & 0 & 0 & 0 & 0 & 0 & 0 & 0\\\\0 & 0 & 0 & 0 & 0 & 0 & 0 & 0 & 0 & 0 & 0 & 0 & 0 & 0 & 0 & 0\\\\0 & 0 & 0 & 0 & 0 & 0 & 0 & 0 & 0 & 0 & 0 & 0 & 0 & 0 & 0 & 0\\\\0 & 0 & 0 & 0 & 0 & 0 & 0 & 0 & 0 & 0 & 0 & 0 & 0 & 0 & 0 & 0\\end{array}\\right]$"
      ],
      "text/plain": [
       "Matrix([\n",
       "[0, 0, 0, 0, 0, 0, 0, 0, 0, 0, 0, 0, 0, 0, 0, 0],\n",
       "[0, 0, 0, 0, 0, 0, 0, 0, 0, 0, 0, 0, 0, 0, 0, 0],\n",
       "[0, 0, 0, 0, 0, 0, 0, 0, 0, 0, 0, 0, 0, 0, 0, 0],\n",
       "[0, 0, 0, 0, 0, 0, 0, 0, 0, 0, 0, 0, 0, 0, 0, 0],\n",
       "[0, 0, 0, 0, 0, 0, 0, 0, 0, 0, 0, 0, 0, 0, 0, 0],\n",
       "[0, 0, 0, 0, 0, 0, 0, 0, 0, 0, 0, 0, 0, 0, 0, 0],\n",
       "[0, 0, 0, 0, 0, 0, 0, 0, 0, 0, 0, 0, 0, 0, 0, 0],\n",
       "[0, 0, 0, 0, 0, 0, 0, 0, 0, 0, 0, 0, 0, 0, 0, 0],\n",
       "[0, 0, 0, 0, 0, 0, 0, 0, 0, 0, 0, 0, 0, 0, 0, 0],\n",
       "[0, 0, 0, 0, 0, 0, 0, 0, 0, 0, 0, 0, 0, 0, 0, 0],\n",
       "[0, 0, 0, 0, 0, 0, 0, 0, 0, 0, 0, 0, 0, 0, 0, 0],\n",
       "[0, 0, 0, 0, 0, 0, 0, 0, 0, 0, 0, 0, 0, 0, 0, 0],\n",
       "[0, 0, 0, 0, 0, 0, 0, 0, 0, 0, 0, 0, 0, 0, 0, 0],\n",
       "[0, 0, 0, 0, 0, 0, 0, 0, 0, 0, 0, 0, 0, 0, 0, 0],\n",
       "[0, 0, 0, 0, 0, 0, 0, 0, 0, 0, 0, 0, 0, 0, 0, 0],\n",
       "[0, 0, 0, 0, 0, 0, 0, 0, 0, 0, 0, 0, 0, 0, 0, 0]])"
      ]
     },
     "execution_count": 13,
     "metadata": {},
     "output_type": "execute_result"
    }
   ],
   "source": [
    "Upsilon_"
   ]
  },
  {
   "cell_type": "code",
   "execution_count": 225,
   "metadata": {},
   "outputs": [],
   "source": [
    "def get_Upsilon(theta):\n",
    "    Upsilon_=zeros(8,8)\n",
    "    Upsilon_[0,4]=Upsilon_[1,5]=Upsilon_[2,6]=Upsilon_[3,7]=cos(theta/2)\n",
    "    Upsilon_[0,7]=Upsilon_[2,5]=-sin(theta/2)\n",
    "    Upsilon_[1,6]=Upsilon_[3,4]=sin(theta/2)\n",
    "    Upsilon_=(Upsilon_-Upsilon_.T)\n",
    "    return Upsilon_"
   ]
  },
  {
   "cell_type": "code",
   "execution_count": 226,
   "metadata": {},
   "outputs": [
    {
     "data": {
      "text/latex": [
       "$\\displaystyle \\left[\\begin{matrix}0 & 0 & 0 & 0 & \\cos{\\left(\\frac{\\theta_{1}}{2} \\right)} & 0 & 0 & - \\sin{\\left(\\frac{\\theta_{1}}{2} \\right)}\\\\0 & 0 & 0 & 0 & 0 & \\cos{\\left(\\frac{\\theta_{1}}{2} \\right)} & \\sin{\\left(\\frac{\\theta_{1}}{2} \\right)} & 0\\\\0 & 0 & 0 & 0 & 0 & - \\sin{\\left(\\frac{\\theta_{1}}{2} \\right)} & \\cos{\\left(\\frac{\\theta_{1}}{2} \\right)} & 0\\\\0 & 0 & 0 & 0 & \\sin{\\left(\\frac{\\theta_{1}}{2} \\right)} & 0 & 0 & \\cos{\\left(\\frac{\\theta_{1}}{2} \\right)}\\\\- \\cos{\\left(\\frac{\\theta_{1}}{2} \\right)} & 0 & 0 & - \\sin{\\left(\\frac{\\theta_{1}}{2} \\right)} & 0 & 0 & 0 & 0\\\\0 & - \\cos{\\left(\\frac{\\theta_{1}}{2} \\right)} & \\sin{\\left(\\frac{\\theta_{1}}{2} \\right)} & 0 & 0 & 0 & 0 & 0\\\\0 & - \\sin{\\left(\\frac{\\theta_{1}}{2} \\right)} & - \\cos{\\left(\\frac{\\theta_{1}}{2} \\right)} & 0 & 0 & 0 & 0 & 0\\\\\\sin{\\left(\\frac{\\theta_{1}}{2} \\right)} & 0 & 0 & - \\cos{\\left(\\frac{\\theta_{1}}{2} \\right)} & 0 & 0 & 0 & 0\\end{matrix}\\right]$"
      ],
      "text/plain": [
       "Matrix([\n",
       "[               0,                0,                0,                0, cos(\\theta_1/2),                0,               0, -sin(\\theta_1/2)],\n",
       "[               0,                0,                0,                0,               0,  cos(\\theta_1/2), sin(\\theta_1/2),                0],\n",
       "[               0,                0,                0,                0,               0, -sin(\\theta_1/2), cos(\\theta_1/2),                0],\n",
       "[               0,                0,                0,                0, sin(\\theta_1/2),                0,               0,  cos(\\theta_1/2)],\n",
       "[-cos(\\theta_1/2),                0,                0, -sin(\\theta_1/2),               0,                0,               0,                0],\n",
       "[               0, -cos(\\theta_1/2),  sin(\\theta_1/2),                0,               0,                0,               0,                0],\n",
       "[               0, -sin(\\theta_1/2), -cos(\\theta_1/2),                0,               0,                0,               0,                0],\n",
       "[ sin(\\theta_1/2),                0,                0, -cos(\\theta_1/2),               0,                0,               0,                0]])"
      ]
     },
     "execution_count": 226,
     "metadata": {},
     "output_type": "execute_result"
    }
   ],
   "source": [
    "get_Upsilon(theta1)"
   ]
  },
  {
   "cell_type": "code",
   "execution_count": 227,
   "metadata": {},
   "outputs": [],
   "source": [
    "Upsilon_=zeros(16,16)\n",
    "list1=[0,1,4,5,8,9,12,13]\n",
    "list2=[2,3,6,7,10,11,14,15]\n",
    "Upsilon_1=get_Upsilon(theta1)\n",
    "Upsilon_2=get_Upsilon(theta2)\n",
    "\n",
    "for i_idx,i in enumerate(list1):\n",
    "    for j_idx,j in enumerate(list1):\n",
    "        Upsilon_[i,j] = Upsilon_1[i_idx,j_idx]\n",
    "for i_idx,i in enumerate(list2):\n",
    "    for j_idx,j in enumerate(list2):\n",
    "        Upsilon_[i,j] = Upsilon_2[i_idx,j_idx]"
   ]
  },
  {
   "cell_type": "code",
   "execution_count": 17,
   "metadata": {},
   "outputs": [
    {
     "data": {
      "text/latex": [
       "$\\displaystyle \\left[\\begin{array}{cccccccccccccccc}0 & 0 & 0 & 0 & 0 & 0 & 0 & 0 & \\cos{\\left(\\frac{\\theta_{1}}{2} \\right)} & 0 & 0 & 0 & 0 & - \\sin{\\left(\\frac{\\theta_{1}}{2} \\right)} & 0 & 0\\\\0 & 0 & 0 & 0 & 0 & 0 & 0 & 0 & 0 & \\cos{\\left(\\frac{\\theta_{1}}{2} \\right)} & 0 & 0 & \\sin{\\left(\\frac{\\theta_{1}}{2} \\right)} & 0 & 0 & 0\\\\0 & 0 & 0 & 0 & 0 & 0 & 0 & 0 & 0 & 0 & \\cos{\\left(\\frac{\\theta_{2}}{2} \\right)} & 0 & 0 & 0 & 0 & - \\sin{\\left(\\frac{\\theta_{2}}{2} \\right)}\\\\0 & 0 & 0 & 0 & 0 & 0 & 0 & 0 & 0 & 0 & 0 & \\cos{\\left(\\frac{\\theta_{2}}{2} \\right)} & 0 & 0 & \\sin{\\left(\\frac{\\theta_{2}}{2} \\right)} & 0\\\\0 & 0 & 0 & 0 & 0 & 0 & 0 & 0 & 0 & - \\sin{\\left(\\frac{\\theta_{1}}{2} \\right)} & 0 & 0 & \\cos{\\left(\\frac{\\theta_{1}}{2} \\right)} & 0 & 0 & 0\\\\0 & 0 & 0 & 0 & 0 & 0 & 0 & 0 & \\sin{\\left(\\frac{\\theta_{1}}{2} \\right)} & 0 & 0 & 0 & 0 & \\cos{\\left(\\frac{\\theta_{1}}{2} \\right)} & 0 & 0\\\\0 & 0 & 0 & 0 & 0 & 0 & 0 & 0 & 0 & 0 & 0 & - \\sin{\\left(\\frac{\\theta_{2}}{2} \\right)} & 0 & 0 & \\cos{\\left(\\frac{\\theta_{2}}{2} \\right)} & 0\\\\0 & 0 & 0 & 0 & 0 & 0 & 0 & 0 & 0 & 0 & \\sin{\\left(\\frac{\\theta_{2}}{2} \\right)} & 0 & 0 & 0 & 0 & \\cos{\\left(\\frac{\\theta_{2}}{2} \\right)}\\\\- \\cos{\\left(\\frac{\\theta_{1}}{2} \\right)} & 0 & 0 & 0 & 0 & - \\sin{\\left(\\frac{\\theta_{1}}{2} \\right)} & 0 & 0 & 0 & 0 & 0 & 0 & 0 & 0 & 0 & 0\\\\0 & - \\cos{\\left(\\frac{\\theta_{1}}{2} \\right)} & 0 & 0 & \\sin{\\left(\\frac{\\theta_{1}}{2} \\right)} & 0 & 0 & 0 & 0 & 0 & 0 & 0 & 0 & 0 & 0 & 0\\\\0 & 0 & - \\cos{\\left(\\frac{\\theta_{2}}{2} \\right)} & 0 & 0 & 0 & 0 & - \\sin{\\left(\\frac{\\theta_{2}}{2} \\right)} & 0 & 0 & 0 & 0 & 0 & 0 & 0 & 0\\\\0 & 0 & 0 & - \\cos{\\left(\\frac{\\theta_{2}}{2} \\right)} & 0 & 0 & \\sin{\\left(\\frac{\\theta_{2}}{2} \\right)} & 0 & 0 & 0 & 0 & 0 & 0 & 0 & 0 & 0\\\\0 & - \\sin{\\left(\\frac{\\theta_{1}}{2} \\right)} & 0 & 0 & - \\cos{\\left(\\frac{\\theta_{1}}{2} \\right)} & 0 & 0 & 0 & 0 & 0 & 0 & 0 & 0 & 0 & 0 & 0\\\\\\sin{\\left(\\frac{\\theta_{1}}{2} \\right)} & 0 & 0 & 0 & 0 & - \\cos{\\left(\\frac{\\theta_{1}}{2} \\right)} & 0 & 0 & 0 & 0 & 0 & 0 & 0 & 0 & 0 & 0\\\\0 & 0 & 0 & - \\sin{\\left(\\frac{\\theta_{2}}{2} \\right)} & 0 & 0 & - \\cos{\\left(\\frac{\\theta_{2}}{2} \\right)} & 0 & 0 & 0 & 0 & 0 & 0 & 0 & 0 & 0\\\\0 & 0 & \\sin{\\left(\\frac{\\theta_{2}}{2} \\right)} & 0 & 0 & 0 & 0 & - \\cos{\\left(\\frac{\\theta_{2}}{2} \\right)} & 0 & 0 & 0 & 0 & 0 & 0 & 0 & 0\\end{array}\\right]$"
      ],
      "text/plain": [
       "Matrix([\n",
       "[               0,                0,                0,                0,                0,                0,                0,                0, cos(\\theta_1/2),                0,               0,                0,               0, -sin(\\theta_1/2),               0,                0],\n",
       "[               0,                0,                0,                0,                0,                0,                0,                0,               0,  cos(\\theta_1/2),               0,                0, sin(\\theta_1/2),                0,               0,                0],\n",
       "[               0,                0,                0,                0,                0,                0,                0,                0,               0,                0, cos(\\theta_2/2),                0,               0,                0,               0, -sin(\\theta_2/2)],\n",
       "[               0,                0,                0,                0,                0,                0,                0,                0,               0,                0,               0,  cos(\\theta_2/2),               0,                0, sin(\\theta_2/2),                0],\n",
       "[               0,                0,                0,                0,                0,                0,                0,                0,               0, -sin(\\theta_1/2),               0,                0, cos(\\theta_1/2),                0,               0,                0],\n",
       "[               0,                0,                0,                0,                0,                0,                0,                0, sin(\\theta_1/2),                0,               0,                0,               0,  cos(\\theta_1/2),               0,                0],\n",
       "[               0,                0,                0,                0,                0,                0,                0,                0,               0,                0,               0, -sin(\\theta_2/2),               0,                0, cos(\\theta_2/2),                0],\n",
       "[               0,                0,                0,                0,                0,                0,                0,                0,               0,                0, sin(\\theta_2/2),                0,               0,                0,               0,  cos(\\theta_2/2)],\n",
       "[-cos(\\theta_1/2),                0,                0,                0,                0, -sin(\\theta_1/2),                0,                0,               0,                0,               0,                0,               0,                0,               0,                0],\n",
       "[               0, -cos(\\theta_1/2),                0,                0,  sin(\\theta_1/2),                0,                0,                0,               0,                0,               0,                0,               0,                0,               0,                0],\n",
       "[               0,                0, -cos(\\theta_2/2),                0,                0,                0,                0, -sin(\\theta_2/2),               0,                0,               0,                0,               0,                0,               0,                0],\n",
       "[               0,                0,                0, -cos(\\theta_2/2),                0,                0,  sin(\\theta_2/2),                0,               0,                0,               0,                0,               0,                0,               0,                0],\n",
       "[               0, -sin(\\theta_1/2),                0,                0, -cos(\\theta_1/2),                0,                0,                0,               0,                0,               0,                0,               0,                0,               0,                0],\n",
       "[ sin(\\theta_1/2),                0,                0,                0,                0, -cos(\\theta_1/2),                0,                0,               0,                0,               0,                0,               0,                0,               0,                0],\n",
       "[               0,                0,                0, -sin(\\theta_2/2),                0,                0, -cos(\\theta_2/2),                0,               0,                0,               0,                0,               0,                0,               0,                0],\n",
       "[               0,                0,  sin(\\theta_2/2),                0,                0,                0,                0, -cos(\\theta_2/2),               0,                0,               0,                0,               0,                0,               0,                0]])"
      ]
     },
     "execution_count": 17,
     "metadata": {},
     "output_type": "execute_result"
    }
   ],
   "source": [
    " Upsilon_"
   ]
  },
  {
   "cell_type": "code",
   "execution_count": 27,
   "metadata": {},
   "outputs": [
    {
     "data": {
      "text/latex": [
       "$\\displaystyle \\left[\\begin{matrix}0 & 0 & 0 & 0 & \\cos{\\left(\\frac{\\theta_{1}}{2} \\right)} & 0 & 0 & - \\sin{\\left(\\frac{\\theta_{1}}{2} \\right)}\\\\0 & 0 & 0 & 0 & 0 & \\cos{\\left(\\frac{\\theta_{1}}{2} \\right)} & \\sin{\\left(\\frac{\\theta_{1}}{2} \\right)} & 0\\\\0 & 0 & 0 & 0 & 0 & - \\sin{\\left(\\frac{\\theta_{1}}{2} \\right)} & \\cos{\\left(\\frac{\\theta_{1}}{2} \\right)} & 0\\\\0 & 0 & 0 & 0 & \\sin{\\left(\\frac{\\theta_{1}}{2} \\right)} & 0 & 0 & \\cos{\\left(\\frac{\\theta_{1}}{2} \\right)}\\\\- \\cos{\\left(\\frac{\\theta_{1}}{2} \\right)} & 0 & 0 & - \\sin{\\left(\\frac{\\theta_{1}}{2} \\right)} & 0 & 0 & 0 & 0\\\\0 & - \\cos{\\left(\\frac{\\theta_{1}}{2} \\right)} & \\sin{\\left(\\frac{\\theta_{1}}{2} \\right)} & 0 & 0 & 0 & 0 & 0\\\\0 & - \\sin{\\left(\\frac{\\theta_{1}}{2} \\right)} & - \\cos{\\left(\\frac{\\theta_{1}}{2} \\right)} & 0 & 0 & 0 & 0 & 0\\\\\\sin{\\left(\\frac{\\theta_{1}}{2} \\right)} & 0 & 0 & - \\cos{\\left(\\frac{\\theta_{1}}{2} \\right)} & 0 & 0 & 0 & 0\\end{matrix}\\right]$"
      ],
      "text/plain": [
       "Matrix([\n",
       "[               0,                0,                0,                0, cos(\\theta_1/2),                0,               0, -sin(\\theta_1/2)],\n",
       "[               0,                0,                0,                0,               0,  cos(\\theta_1/2), sin(\\theta_1/2),                0],\n",
       "[               0,                0,                0,                0,               0, -sin(\\theta_1/2), cos(\\theta_1/2),                0],\n",
       "[               0,                0,                0,                0, sin(\\theta_1/2),                0,               0,  cos(\\theta_1/2)],\n",
       "[-cos(\\theta_1/2),                0,                0, -sin(\\theta_1/2),               0,                0,               0,                0],\n",
       "[               0, -cos(\\theta_1/2),  sin(\\theta_1/2),                0,               0,                0,               0,                0],\n",
       "[               0, -sin(\\theta_1/2), -cos(\\theta_1/2),                0,               0,                0,               0,                0],\n",
       "[ sin(\\theta_1/2),                0,                0, -cos(\\theta_1/2),               0,                0,               0,                0]])"
      ]
     },
     "execution_count": 27,
     "metadata": {},
     "output_type": "execute_result"
    }
   ],
   "source": []
  },
  {
   "cell_type": "code",
   "execution_count": 22,
   "metadata": {},
   "outputs": [
    {
     "data": {
      "text/latex": [
       "$\\displaystyle \\left[\\begin{matrix}0 & 0 & 0 & 0 & \\cos{\\left(\\frac{\\theta_{2}}{2} \\right)} & 0 & 0 & - \\sin{\\left(\\frac{\\theta_{2}}{2} \\right)}\\\\0 & 0 & 0 & 0 & 0 & \\cos{\\left(\\frac{\\theta_{2}}{2} \\right)} & \\sin{\\left(\\frac{\\theta_{2}}{2} \\right)} & 0\\\\0 & 0 & 0 & 0 & 0 & - \\sin{\\left(\\frac{\\theta_{2}}{2} \\right)} & \\cos{\\left(\\frac{\\theta_{2}}{2} \\right)} & 0\\\\0 & 0 & 0 & 0 & \\sin{\\left(\\frac{\\theta_{2}}{2} \\right)} & 0 & 0 & \\cos{\\left(\\frac{\\theta_{2}}{2} \\right)}\\\\- \\cos{\\left(\\frac{\\theta_{2}}{2} \\right)} & 0 & 0 & - \\sin{\\left(\\frac{\\theta_{2}}{2} \\right)} & 0 & 0 & 0 & 0\\\\0 & - \\cos{\\left(\\frac{\\theta_{2}}{2} \\right)} & \\sin{\\left(\\frac{\\theta_{2}}{2} \\right)} & 0 & 0 & 0 & 0 & 0\\\\0 & - \\sin{\\left(\\frac{\\theta_{2}}{2} \\right)} & - \\cos{\\left(\\frac{\\theta_{2}}{2} \\right)} & 0 & 0 & 0 & 0 & 0\\\\\\sin{\\left(\\frac{\\theta_{2}}{2} \\right)} & 0 & 0 & - \\cos{\\left(\\frac{\\theta_{2}}{2} \\right)} & 0 & 0 & 0 & 0\\end{matrix}\\right]$"
      ],
      "text/plain": [
       "Matrix([\n",
       "[               0,                0,                0,                0, cos(\\theta_2/2),                0,               0, -sin(\\theta_2/2)],\n",
       "[               0,                0,                0,                0,               0,  cos(\\theta_2/2), sin(\\theta_2/2),                0],\n",
       "[               0,                0,                0,                0,               0, -sin(\\theta_2/2), cos(\\theta_2/2),                0],\n",
       "[               0,                0,                0,                0, sin(\\theta_2/2),                0,               0,  cos(\\theta_2/2)],\n",
       "[-cos(\\theta_2/2),                0,                0, -sin(\\theta_2/2),               0,                0,               0,                0],\n",
       "[               0, -cos(\\theta_2/2),  sin(\\theta_2/2),                0,               0,                0,               0,                0],\n",
       "[               0, -sin(\\theta_2/2), -cos(\\theta_2/2),                0,               0,                0,               0,                0],\n",
       "[ sin(\\theta_2/2),                0,                0, -cos(\\theta_2/2),               0,                0,               0,                0]])"
      ]
     },
     "execution_count": 22,
     "metadata": {},
     "output_type": "execute_result"
    }
   ],
   "source": [
    "Upsilon_2"
   ]
  },
  {
   "cell_type": "code",
   "execution_count": 18,
   "metadata": {},
   "outputs": [],
   "source": [
    "M={}"
   ]
  },
  {
   "cell_type": "code",
   "execution_count": 19,
   "metadata": {},
   "outputs": [],
   "source": [
    "M[(1,-1)]=contraction_(Upsilon_,Gamma_[(1,-1)],8).simplify()"
   ]
  },
  {
   "cell_type": "code",
   "execution_count": 20,
   "metadata": {},
   "outputs": [
    {
     "data": {
      "text/latex": [
       "$\\displaystyle \\left[\\begin{array}{cccccccccccccccc}0 & 0 & - \\sin{\\left(\\frac{\\theta_{2}}{2} \\right)} \\cos{\\left(\\frac{\\theta_{1}}{2} \\right)} \\tanh{\\left(\\alpha \\right)} & 0 & 0 & 0 & 0 & \\cos{\\left(\\frac{\\theta_{1}}{2} \\right)} \\cos{\\left(\\frac{\\theta_{2}}{2} \\right)} \\tanh{\\left(\\alpha \\right)} & \\frac{\\cos{\\left(\\frac{\\theta_{1}}{2} \\right)}}{\\cosh{\\left(\\alpha \\right)}} & 0 & 0 & 0 & 0 & - \\sin{\\left(\\frac{\\theta_{1}}{2} \\right)} & 0 & 0\\\\0 & 0 & 0 & - \\sin{\\left(\\frac{\\theta_{2}}{2} \\right)} \\cos{\\left(\\frac{\\theta_{1}}{2} \\right)} \\tanh{\\left(\\alpha \\right)} & 0 & 0 & - \\cos{\\left(\\frac{\\theta_{1}}{2} \\right)} \\cos{\\left(\\frac{\\theta_{2}}{2} \\right)} \\tanh{\\left(\\alpha \\right)} & 0 & 0 & \\frac{\\cos{\\left(\\frac{\\theta_{1}}{2} \\right)}}{\\cosh{\\left(\\alpha \\right)}} & 0 & 0 & \\sin{\\left(\\frac{\\theta_{1}}{2} \\right)} & 0 & 0 & 0\\\\\\sin{\\left(\\frac{\\theta_{2}}{2} \\right)} \\cos{\\left(\\frac{\\theta_{1}}{2} \\right)} \\tanh{\\left(\\alpha \\right)} & 0 & 0 & 0 & 0 & \\sin{\\left(\\frac{\\theta_{1}}{2} \\right)} \\sin{\\left(\\frac{\\theta_{2}}{2} \\right)} \\tanh{\\left(\\alpha \\right)} & 0 & 0 & 0 & 0 & \\cos{\\left(\\frac{\\theta_{2}}{2} \\right)} & 0 & 0 & 0 & 0 & - \\frac{\\sin{\\left(\\frac{\\theta_{2}}{2} \\right)}}{\\cosh{\\left(\\alpha \\right)}}\\\\0 & \\sin{\\left(\\frac{\\theta_{2}}{2} \\right)} \\cos{\\left(\\frac{\\theta_{1}}{2} \\right)} \\tanh{\\left(\\alpha \\right)} & 0 & 0 & - \\sin{\\left(\\frac{\\theta_{1}}{2} \\right)} \\sin{\\left(\\frac{\\theta_{2}}{2} \\right)} \\tanh{\\left(\\alpha \\right)} & 0 & 0 & 0 & 0 & 0 & 0 & \\cos{\\left(\\frac{\\theta_{2}}{2} \\right)} & 0 & 0 & \\frac{\\sin{\\left(\\frac{\\theta_{2}}{2} \\right)}}{\\cosh{\\left(\\alpha \\right)}} & 0\\\\0 & 0 & 0 & \\sin{\\left(\\frac{\\theta_{1}}{2} \\right)} \\sin{\\left(\\frac{\\theta_{2}}{2} \\right)} \\tanh{\\left(\\alpha \\right)} & 0 & 0 & \\sin{\\left(\\frac{\\theta_{1}}{2} \\right)} \\cos{\\left(\\frac{\\theta_{2}}{2} \\right)} \\tanh{\\left(\\alpha \\right)} & 0 & 0 & - \\frac{\\sin{\\left(\\frac{\\theta_{1}}{2} \\right)}}{\\cosh{\\left(\\alpha \\right)}} & 0 & 0 & \\cos{\\left(\\frac{\\theta_{1}}{2} \\right)} & 0 & 0 & 0\\\\0 & 0 & - \\sin{\\left(\\frac{\\theta_{1}}{2} \\right)} \\sin{\\left(\\frac{\\theta_{2}}{2} \\right)} \\tanh{\\left(\\alpha \\right)} & 0 & 0 & 0 & 0 & \\sin{\\left(\\frac{\\theta_{1}}{2} \\right)} \\cos{\\left(\\frac{\\theta_{2}}{2} \\right)} \\tanh{\\left(\\alpha \\right)} & \\frac{\\sin{\\left(\\frac{\\theta_{1}}{2} \\right)}}{\\cosh{\\left(\\alpha \\right)}} & 0 & 0 & 0 & 0 & \\cos{\\left(\\frac{\\theta_{1}}{2} \\right)} & 0 & 0\\\\0 & \\cos{\\left(\\frac{\\theta_{1}}{2} \\right)} \\cos{\\left(\\frac{\\theta_{2}}{2} \\right)} \\tanh{\\left(\\alpha \\right)} & 0 & 0 & - \\sin{\\left(\\frac{\\theta_{1}}{2} \\right)} \\cos{\\left(\\frac{\\theta_{2}}{2} \\right)} \\tanh{\\left(\\alpha \\right)} & 0 & 0 & 0 & 0 & 0 & 0 & - \\sin{\\left(\\frac{\\theta_{2}}{2} \\right)} & 0 & 0 & \\frac{\\cos{\\left(\\frac{\\theta_{2}}{2} \\right)}}{\\cosh{\\left(\\alpha \\right)}} & 0\\\\- \\cos{\\left(\\frac{\\theta_{1}}{2} \\right)} \\cos{\\left(\\frac{\\theta_{2}}{2} \\right)} \\tanh{\\left(\\alpha \\right)} & 0 & 0 & 0 & 0 & - \\sin{\\left(\\frac{\\theta_{1}}{2} \\right)} \\cos{\\left(\\frac{\\theta_{2}}{2} \\right)} \\tanh{\\left(\\alpha \\right)} & 0 & 0 & 0 & 0 & \\sin{\\left(\\frac{\\theta_{2}}{2} \\right)} & 0 & 0 & 0 & 0 & \\frac{\\cos{\\left(\\frac{\\theta_{2}}{2} \\right)}}{\\cosh{\\left(\\alpha \\right)}}\\\\- \\frac{\\cos{\\left(\\frac{\\theta_{1}}{2} \\right)}}{\\cosh{\\left(\\alpha \\right)}} & 0 & 0 & 0 & 0 & - \\frac{\\sin{\\left(\\frac{\\theta_{1}}{2} \\right)}}{\\cosh{\\left(\\alpha \\right)}} & 0 & 0 & 0 & 0 & 0 & 0 & 0 & 0 & 0 & - \\tanh{\\left(\\alpha \\right)}\\\\0 & - \\frac{\\cos{\\left(\\frac{\\theta_{1}}{2} \\right)}}{\\cosh{\\left(\\alpha \\right)}} & 0 & 0 & \\frac{\\sin{\\left(\\frac{\\theta_{1}}{2} \\right)}}{\\cosh{\\left(\\alpha \\right)}} & 0 & 0 & 0 & 0 & 0 & 0 & 0 & 0 & 0 & \\tanh{\\left(\\alpha \\right)} & 0\\\\0 & 0 & - \\cos{\\left(\\frac{\\theta_{2}}{2} \\right)} & 0 & 0 & 0 & 0 & - \\sin{\\left(\\frac{\\theta_{2}}{2} \\right)} & 0 & 0 & 0 & 0 & 0 & 0 & 0 & 0\\\\0 & 0 & 0 & - \\cos{\\left(\\frac{\\theta_{2}}{2} \\right)} & 0 & 0 & \\sin{\\left(\\frac{\\theta_{2}}{2} \\right)} & 0 & 0 & 0 & 0 & 0 & 0 & 0 & 0 & 0\\\\0 & - \\sin{\\left(\\frac{\\theta_{1}}{2} \\right)} & 0 & 0 & - \\cos{\\left(\\frac{\\theta_{1}}{2} \\right)} & 0 & 0 & 0 & 0 & 0 & 0 & 0 & 0 & 0 & 0 & 0\\\\\\sin{\\left(\\frac{\\theta_{1}}{2} \\right)} & 0 & 0 & 0 & 0 & - \\cos{\\left(\\frac{\\theta_{1}}{2} \\right)} & 0 & 0 & 0 & 0 & 0 & 0 & 0 & 0 & 0 & 0\\\\0 & 0 & 0 & - \\frac{\\sin{\\left(\\frac{\\theta_{2}}{2} \\right)}}{\\cosh{\\left(\\alpha \\right)}} & 0 & 0 & - \\frac{\\cos{\\left(\\frac{\\theta_{2}}{2} \\right)}}{\\cosh{\\left(\\alpha \\right)}} & 0 & 0 & - \\tanh{\\left(\\alpha \\right)} & 0 & 0 & 0 & 0 & 0 & 0\\\\0 & 0 & \\frac{\\sin{\\left(\\frac{\\theta_{2}}{2} \\right)}}{\\cosh{\\left(\\alpha \\right)}} & 0 & 0 & 0 & 0 & - \\frac{\\cos{\\left(\\frac{\\theta_{2}}{2} \\right)}}{\\cosh{\\left(\\alpha \\right)}} & \\tanh{\\left(\\alpha \\right)} & 0 & 0 & 0 & 0 & 0 & 0 & 0\\end{array}\\right]$"
      ],
      "text/plain": [
       "Matrix([\n",
       "[                                            0,                                            0, -sin(\\theta_2/2)*cos(\\theta_1/2)*tanh(\\alpha),                                             0,                                             0,                                             0,                                             0, cos(\\theta_1/2)*cos(\\theta_2/2)*tanh(\\alpha), cos(\\theta_1/2)/cosh(\\alpha),                             0,               0,                0,               0, -sin(\\theta_1/2),                            0,                             0],\n",
       "[                                            0,                                            0,                                             0, -sin(\\theta_2/2)*cos(\\theta_1/2)*tanh(\\alpha),                                             0,                                             0, -cos(\\theta_1/2)*cos(\\theta_2/2)*tanh(\\alpha),                                            0,                            0,  cos(\\theta_1/2)/cosh(\\alpha),               0,                0, sin(\\theta_1/2),                0,                            0,                             0],\n",
       "[ sin(\\theta_2/2)*cos(\\theta_1/2)*tanh(\\alpha),                                            0,                                             0,                                             0,                                             0,  sin(\\theta_1/2)*sin(\\theta_2/2)*tanh(\\alpha),                                             0,                                            0,                            0,                             0, cos(\\theta_2/2),                0,               0,                0,                            0, -sin(\\theta_2/2)/cosh(\\alpha)],\n",
       "[                                            0, sin(\\theta_2/2)*cos(\\theta_1/2)*tanh(\\alpha),                                             0,                                             0, -sin(\\theta_1/2)*sin(\\theta_2/2)*tanh(\\alpha),                                             0,                                             0,                                            0,                            0,                             0,               0,  cos(\\theta_2/2),               0,                0, sin(\\theta_2/2)/cosh(\\alpha),                             0],\n",
       "[                                            0,                                            0,                                             0,  sin(\\theta_1/2)*sin(\\theta_2/2)*tanh(\\alpha),                                             0,                                             0,  sin(\\theta_1/2)*cos(\\theta_2/2)*tanh(\\alpha),                                            0,                            0, -sin(\\theta_1/2)/cosh(\\alpha),               0,                0, cos(\\theta_1/2),                0,                            0,                             0],\n",
       "[                                            0,                                            0, -sin(\\theta_1/2)*sin(\\theta_2/2)*tanh(\\alpha),                                             0,                                             0,                                             0,                                             0, sin(\\theta_1/2)*cos(\\theta_2/2)*tanh(\\alpha), sin(\\theta_1/2)/cosh(\\alpha),                             0,               0,                0,               0,  cos(\\theta_1/2),                            0,                             0],\n",
       "[                                            0, cos(\\theta_1/2)*cos(\\theta_2/2)*tanh(\\alpha),                                             0,                                             0, -sin(\\theta_1/2)*cos(\\theta_2/2)*tanh(\\alpha),                                             0,                                             0,                                            0,                            0,                             0,               0, -sin(\\theta_2/2),               0,                0, cos(\\theta_2/2)/cosh(\\alpha),                             0],\n",
       "[-cos(\\theta_1/2)*cos(\\theta_2/2)*tanh(\\alpha),                                            0,                                             0,                                             0,                                             0, -sin(\\theta_1/2)*cos(\\theta_2/2)*tanh(\\alpha),                                             0,                                            0,                            0,                             0, sin(\\theta_2/2),                0,               0,                0,                            0,  cos(\\theta_2/2)/cosh(\\alpha)],\n",
       "[                -cos(\\theta_1/2)/cosh(\\alpha),                                            0,                                             0,                                             0,                                             0,                 -sin(\\theta_1/2)/cosh(\\alpha),                                             0,                                            0,                            0,                             0,               0,                0,               0,                0,                            0,                 -tanh(\\alpha)],\n",
       "[                                            0,                -cos(\\theta_1/2)/cosh(\\alpha),                                             0,                                             0,                  sin(\\theta_1/2)/cosh(\\alpha),                                             0,                                             0,                                            0,                            0,                             0,               0,                0,               0,                0,                 tanh(\\alpha),                             0],\n",
       "[                                            0,                                            0,                              -cos(\\theta_2/2),                                             0,                                             0,                                             0,                                             0,                             -sin(\\theta_2/2),                            0,                             0,               0,                0,               0,                0,                            0,                             0],\n",
       "[                                            0,                                            0,                                             0,                              -cos(\\theta_2/2),                                             0,                                             0,                               sin(\\theta_2/2),                                            0,                            0,                             0,               0,                0,               0,                0,                            0,                             0],\n",
       "[                                            0,                             -sin(\\theta_1/2),                                             0,                                             0,                              -cos(\\theta_1/2),                                             0,                                             0,                                            0,                            0,                             0,               0,                0,               0,                0,                            0,                             0],\n",
       "[                              sin(\\theta_1/2),                                            0,                                             0,                                             0,                                             0,                              -cos(\\theta_1/2),                                             0,                                            0,                            0,                             0,               0,                0,               0,                0,                            0,                             0],\n",
       "[                                            0,                                            0,                                             0,                 -sin(\\theta_2/2)/cosh(\\alpha),                                             0,                                             0,                 -cos(\\theta_2/2)/cosh(\\alpha),                                            0,                            0,                 -tanh(\\alpha),               0,                0,               0,                0,                            0,                             0],\n",
       "[                                            0,                                            0,                  sin(\\theta_2/2)/cosh(\\alpha),                                             0,                                             0,                                             0,                                             0,                -cos(\\theta_2/2)/cosh(\\alpha),                 tanh(\\alpha),                             0,               0,                0,               0,                0,                            0,                             0]])"
      ]
     },
     "execution_count": 20,
     "metadata": {},
     "output_type": "execute_result"
    }
   ],
   "source": [
    "M[(1,-1)]"
   ]
  },
  {
   "cell_type": "code",
   "execution_count": 120,
   "metadata": {},
   "outputs": [
    {
     "data": {
      "text/latex": [
       "$\\displaystyle \\left[\\begin{matrix}0 & 0 & 0 & 0 & 0 & 0 & 0 & - \\tanh{\\left(\\alpha \\right)}\\\\0 & 0 & 0 & 0 & 0 & 0 & \\tanh{\\left(\\alpha \\right)} & 0\\\\0 & 0 & 0 & 0 & 0 & 0 & 0 & 0\\\\0 & 0 & 0 & 0 & 0 & 0 & 0 & 0\\\\0 & 0 & 0 & 0 & 0 & 0 & 0 & 0\\\\0 & 0 & 0 & 0 & 0 & 0 & 0 & 0\\\\0 & - \\tanh{\\left(\\alpha \\right)} & 0 & 0 & 0 & 0 & 0 & 0\\\\\\tanh{\\left(\\alpha \\right)} & 0 & 0 & 0 & 0 & 0 & 0 & 0\\end{matrix}\\right]$"
      ],
      "text/plain": [
       "Matrix([\n",
       "[           0,             0, 0, 0, 0, 0,            0, -tanh(\\alpha)],\n",
       "[           0,             0, 0, 0, 0, 0, tanh(\\alpha),             0],\n",
       "[           0,             0, 0, 0, 0, 0,            0,             0],\n",
       "[           0,             0, 0, 0, 0, 0,            0,             0],\n",
       "[           0,             0, 0, 0, 0, 0,            0,             0],\n",
       "[           0,             0, 0, 0, 0, 0,            0,             0],\n",
       "[           0, -tanh(\\alpha), 0, 0, 0, 0,            0,             0],\n",
       "[tanh(\\alpha),             0, 0, 0, 0, 0,            0,             0]])"
      ]
     },
     "execution_count": 120,
     "metadata": {},
     "output_type": "execute_result"
    }
   ],
   "source": [
    "M[(1,-1)][8:,8:]"
   ]
  },
  {
   "cell_type": "code",
   "execution_count": 22,
   "metadata": {},
   "outputs": [],
   "source": [
    "M[(-1,1)]=contraction_(Upsilon_,Gamma_[(-1,1)],8).simplify()"
   ]
  },
  {
   "cell_type": "code",
   "execution_count": 121,
   "metadata": {},
   "outputs": [
    {
     "data": {
      "text/latex": [
       "$\\displaystyle \\left[\\begin{array}{cccccccccccccccc}0 & 0 & 2 \\sin{\\left(\\frac{\\theta_{2}}{2} \\right)} \\cos{\\left(\\frac{\\theta_{1}}{2} \\right)} \\tanh{\\left(\\alpha \\right)} & 0 & 0 & 0 & 0 & - 2 \\cos{\\left(\\frac{\\theta_{1}}{2} \\right)} \\cos{\\left(\\frac{\\theta_{2}}{2} \\right)} \\tanh{\\left(\\alpha \\right)} & 0 & 0 & 0 & 0 & 0 & 0 & 0 & 0\\\\0 & 0 & 0 & 2 \\sin{\\left(\\frac{\\theta_{2}}{2} \\right)} \\cos{\\left(\\frac{\\theta_{1}}{2} \\right)} \\tanh{\\left(\\alpha \\right)} & 0 & 0 & 2 \\cos{\\left(\\frac{\\theta_{1}}{2} \\right)} \\cos{\\left(\\frac{\\theta_{2}}{2} \\right)} \\tanh{\\left(\\alpha \\right)} & 0 & 0 & 0 & 0 & 0 & 0 & 0 & 0 & 0\\\\- 2 \\sin{\\left(\\frac{\\theta_{2}}{2} \\right)} \\cos{\\left(\\frac{\\theta_{1}}{2} \\right)} \\tanh{\\left(\\alpha \\right)} & 0 & 0 & 0 & 0 & - 2 \\sin{\\left(\\frac{\\theta_{1}}{2} \\right)} \\sin{\\left(\\frac{\\theta_{2}}{2} \\right)} \\tanh{\\left(\\alpha \\right)} & 0 & 0 & 0 & 0 & 0 & 0 & 0 & 0 & 0 & 0\\\\0 & - 2 \\sin{\\left(\\frac{\\theta_{2}}{2} \\right)} \\cos{\\left(\\frac{\\theta_{1}}{2} \\right)} \\tanh{\\left(\\alpha \\right)} & 0 & 0 & 2 \\sin{\\left(\\frac{\\theta_{1}}{2} \\right)} \\sin{\\left(\\frac{\\theta_{2}}{2} \\right)} \\tanh{\\left(\\alpha \\right)} & 0 & 0 & 0 & 0 & 0 & 0 & 0 & 0 & 0 & 0 & 0\\\\0 & 0 & 0 & - 2 \\sin{\\left(\\frac{\\theta_{1}}{2} \\right)} \\sin{\\left(\\frac{\\theta_{2}}{2} \\right)} \\tanh{\\left(\\alpha \\right)} & 0 & 0 & - 2 \\sin{\\left(\\frac{\\theta_{1}}{2} \\right)} \\cos{\\left(\\frac{\\theta_{2}}{2} \\right)} \\tanh{\\left(\\alpha \\right)} & 0 & 0 & 0 & 0 & 0 & 0 & 0 & 0 & 0\\\\0 & 0 & 2 \\sin{\\left(\\frac{\\theta_{1}}{2} \\right)} \\sin{\\left(\\frac{\\theta_{2}}{2} \\right)} \\tanh{\\left(\\alpha \\right)} & 0 & 0 & 0 & 0 & - 2 \\sin{\\left(\\frac{\\theta_{1}}{2} \\right)} \\cos{\\left(\\frac{\\theta_{2}}{2} \\right)} \\tanh{\\left(\\alpha \\right)} & 0 & 0 & 0 & 0 & 0 & 0 & 0 & 0\\\\0 & - 2 \\cos{\\left(\\frac{\\theta_{1}}{2} \\right)} \\cos{\\left(\\frac{\\theta_{2}}{2} \\right)} \\tanh{\\left(\\alpha \\right)} & 0 & 0 & 2 \\sin{\\left(\\frac{\\theta_{1}}{2} \\right)} \\cos{\\left(\\frac{\\theta_{2}}{2} \\right)} \\tanh{\\left(\\alpha \\right)} & 0 & 0 & 0 & 0 & 0 & 0 & 0 & 0 & 0 & 0 & 0\\\\2 \\cos{\\left(\\frac{\\theta_{1}}{2} \\right)} \\cos{\\left(\\frac{\\theta_{2}}{2} \\right)} \\tanh{\\left(\\alpha \\right)} & 0 & 0 & 0 & 0 & 2 \\sin{\\left(\\frac{\\theta_{1}}{2} \\right)} \\cos{\\left(\\frac{\\theta_{2}}{2} \\right)} \\tanh{\\left(\\alpha \\right)} & 0 & 0 & 0 & 0 & 0 & 0 & 0 & 0 & 0 & 0\\\\0 & 0 & 0 & 0 & 0 & 0 & 0 & 0 & 0 & 0 & 0 & 0 & 0 & 0 & 0 & 2 \\tanh{\\left(\\alpha \\right)}\\\\0 & 0 & 0 & 0 & 0 & 0 & 0 & 0 & 0 & 0 & 0 & 0 & 0 & 0 & - 2 \\tanh{\\left(\\alpha \\right)} & 0\\\\0 & 0 & 0 & 0 & 0 & 0 & 0 & 0 & 0 & 0 & 0 & 0 & 0 & 0 & 0 & 0\\\\0 & 0 & 0 & 0 & 0 & 0 & 0 & 0 & 0 & 0 & 0 & 0 & 0 & 0 & 0 & 0\\\\0 & 0 & 0 & 0 & 0 & 0 & 0 & 0 & 0 & 0 & 0 & 0 & 0 & 0 & 0 & 0\\\\0 & 0 & 0 & 0 & 0 & 0 & 0 & 0 & 0 & 0 & 0 & 0 & 0 & 0 & 0 & 0\\\\0 & 0 & 0 & 0 & 0 & 0 & 0 & 0 & 0 & 2 \\tanh{\\left(\\alpha \\right)} & 0 & 0 & 0 & 0 & 0 & 0\\\\0 & 0 & 0 & 0 & 0 & 0 & 0 & 0 & - 2 \\tanh{\\left(\\alpha \\right)} & 0 & 0 & 0 & 0 & 0 & 0 & 0\\end{array}\\right]$"
      ],
      "text/plain": [
       "Matrix([\n",
       "[                                              0,                                               0, 2*sin(\\theta_2/2)*cos(\\theta_1/2)*tanh(\\alpha),                                               0,                                              0,                                               0,                                               0, -2*cos(\\theta_1/2)*cos(\\theta_2/2)*tanh(\\alpha),               0,              0, 0, 0, 0, 0,               0,              0],\n",
       "[                                              0,                                               0,                                              0,  2*sin(\\theta_2/2)*cos(\\theta_1/2)*tanh(\\alpha),                                              0,                                               0,  2*cos(\\theta_1/2)*cos(\\theta_2/2)*tanh(\\alpha),                                               0,               0,              0, 0, 0, 0, 0,               0,              0],\n",
       "[-2*sin(\\theta_2/2)*cos(\\theta_1/2)*tanh(\\alpha),                                               0,                                              0,                                               0,                                              0, -2*sin(\\theta_1/2)*sin(\\theta_2/2)*tanh(\\alpha),                                               0,                                               0,               0,              0, 0, 0, 0, 0,               0,              0],\n",
       "[                                              0, -2*sin(\\theta_2/2)*cos(\\theta_1/2)*tanh(\\alpha),                                              0,                                               0, 2*sin(\\theta_1/2)*sin(\\theta_2/2)*tanh(\\alpha),                                               0,                                               0,                                               0,               0,              0, 0, 0, 0, 0,               0,              0],\n",
       "[                                              0,                                               0,                                              0, -2*sin(\\theta_1/2)*sin(\\theta_2/2)*tanh(\\alpha),                                              0,                                               0, -2*sin(\\theta_1/2)*cos(\\theta_2/2)*tanh(\\alpha),                                               0,               0,              0, 0, 0, 0, 0,               0,              0],\n",
       "[                                              0,                                               0, 2*sin(\\theta_1/2)*sin(\\theta_2/2)*tanh(\\alpha),                                               0,                                              0,                                               0,                                               0, -2*sin(\\theta_1/2)*cos(\\theta_2/2)*tanh(\\alpha),               0,              0, 0, 0, 0, 0,               0,              0],\n",
       "[                                              0, -2*cos(\\theta_1/2)*cos(\\theta_2/2)*tanh(\\alpha),                                              0,                                               0, 2*sin(\\theta_1/2)*cos(\\theta_2/2)*tanh(\\alpha),                                               0,                                               0,                                               0,               0,              0, 0, 0, 0, 0,               0,              0],\n",
       "[ 2*cos(\\theta_1/2)*cos(\\theta_2/2)*tanh(\\alpha),                                               0,                                              0,                                               0,                                              0,  2*sin(\\theta_1/2)*cos(\\theta_2/2)*tanh(\\alpha),                                               0,                                               0,               0,              0, 0, 0, 0, 0,               0,              0],\n",
       "[                                              0,                                               0,                                              0,                                               0,                                              0,                                               0,                                               0,                                               0,               0,              0, 0, 0, 0, 0,               0, 2*tanh(\\alpha)],\n",
       "[                                              0,                                               0,                                              0,                                               0,                                              0,                                               0,                                               0,                                               0,               0,              0, 0, 0, 0, 0, -2*tanh(\\alpha),              0],\n",
       "[                                              0,                                               0,                                              0,                                               0,                                              0,                                               0,                                               0,                                               0,               0,              0, 0, 0, 0, 0,               0,              0],\n",
       "[                                              0,                                               0,                                              0,                                               0,                                              0,                                               0,                                               0,                                               0,               0,              0, 0, 0, 0, 0,               0,              0],\n",
       "[                                              0,                                               0,                                              0,                                               0,                                              0,                                               0,                                               0,                                               0,               0,              0, 0, 0, 0, 0,               0,              0],\n",
       "[                                              0,                                               0,                                              0,                                               0,                                              0,                                               0,                                               0,                                               0,               0,              0, 0, 0, 0, 0,               0,              0],\n",
       "[                                              0,                                               0,                                              0,                                               0,                                              0,                                               0,                                               0,                                               0,               0, 2*tanh(\\alpha), 0, 0, 0, 0,               0,              0],\n",
       "[                                              0,                                               0,                                              0,                                               0,                                              0,                                               0,                                               0,                                               0, -2*tanh(\\alpha),              0, 0, 0, 0, 0,               0,              0]])"
      ]
     },
     "execution_count": 121,
     "metadata": {},
     "output_type": "execute_result"
    }
   ],
   "source": [
    "M[(-1,1)]"
   ]
  },
  {
   "cell_type": "code",
   "execution_count": 118,
   "metadata": {},
   "outputs": [
    {
     "data": {
      "text/latex": [
       "$\\displaystyle \\left[\\begin{matrix}\\frac{\\cos{\\left(\\frac{\\theta_{1}}{2} \\right)}}{\\cosh{\\left(\\alpha \\right)}} & 0 & 0 & 0 & 0 & - \\sin{\\left(\\frac{\\theta_{1}}{2} \\right)} & 0 & 0\\\\0 & \\frac{\\cos{\\left(\\frac{\\theta_{1}}{2} \\right)}}{\\cosh{\\left(\\alpha \\right)}} & 0 & 0 & \\sin{\\left(\\frac{\\theta_{1}}{2} \\right)} & 0 & 0 & 0\\\\0 & 0 & \\cos{\\left(\\frac{\\theta_{2}}{2} \\right)} & 0 & 0 & 0 & 0 & - \\frac{\\sin{\\left(\\frac{\\theta_{2}}{2} \\right)}}{\\cosh{\\left(\\alpha \\right)}}\\\\0 & 0 & 0 & \\cos{\\left(\\frac{\\theta_{2}}{2} \\right)} & 0 & 0 & \\frac{\\sin{\\left(\\frac{\\theta_{2}}{2} \\right)}}{\\cosh{\\left(\\alpha \\right)}} & 0\\\\0 & - \\frac{\\sin{\\left(\\frac{\\theta_{1}}{2} \\right)}}{\\cosh{\\left(\\alpha \\right)}} & 0 & 0 & \\cos{\\left(\\frac{\\theta_{1}}{2} \\right)} & 0 & 0 & 0\\\\\\frac{\\sin{\\left(\\frac{\\theta_{1}}{2} \\right)}}{\\cosh{\\left(\\alpha \\right)}} & 0 & 0 & 0 & 0 & \\cos{\\left(\\frac{\\theta_{1}}{2} \\right)} & 0 & 0\\\\0 & 0 & 0 & - \\sin{\\left(\\frac{\\theta_{2}}{2} \\right)} & 0 & 0 & \\frac{\\cos{\\left(\\frac{\\theta_{2}}{2} \\right)}}{\\cosh{\\left(\\alpha \\right)}} & 0\\\\0 & 0 & \\sin{\\left(\\frac{\\theta_{2}}{2} \\right)} & 0 & 0 & 0 & 0 & \\frac{\\cos{\\left(\\frac{\\theta_{2}}{2} \\right)}}{\\cosh{\\left(\\alpha \\right)}}\\end{matrix}\\right]$"
      ],
      "text/plain": [
       "Matrix([\n",
       "[cos(\\theta_1/2)/cosh(\\alpha),                             0,               0,                0,               0, -sin(\\theta_1/2),                            0,                             0],\n",
       "[                           0,  cos(\\theta_1/2)/cosh(\\alpha),               0,                0, sin(\\theta_1/2),                0,                            0,                             0],\n",
       "[                           0,                             0, cos(\\theta_2/2),                0,               0,                0,                            0, -sin(\\theta_2/2)/cosh(\\alpha)],\n",
       "[                           0,                             0,               0,  cos(\\theta_2/2),               0,                0, sin(\\theta_2/2)/cosh(\\alpha),                             0],\n",
       "[                           0, -sin(\\theta_1/2)/cosh(\\alpha),               0,                0, cos(\\theta_1/2),                0,                            0,                             0],\n",
       "[sin(\\theta_1/2)/cosh(\\alpha),                             0,               0,                0,               0,  cos(\\theta_1/2),                            0,                             0],\n",
       "[                           0,                             0,               0, -sin(\\theta_2/2),               0,                0, cos(\\theta_2/2)/cosh(\\alpha),                             0],\n",
       "[                           0,                             0, sin(\\theta_2/2),                0,               0,                0,                            0,  cos(\\theta_2/2)/cosh(\\alpha)]])"
      ]
     },
     "execution_count": 118,
     "metadata": {},
     "output_type": "execute_result"
    }
   ],
   "source": [
    "M[(-1,1)][:8,8:]"
   ]
  },
  {
   "cell_type": "code",
   "execution_count": 25,
   "metadata": {},
   "outputs": [],
   "source": [
    "M[(1,1)]=contraction_(Upsilon_,Gamma_[(1,1)],8).simplify()"
   ]
  },
  {
   "cell_type": "code",
   "execution_count": 26,
   "metadata": {},
   "outputs": [
    {
     "data": {
      "text/latex": [
       "$\\displaystyle \\left[\\begin{array}{cccccccccccccccc}0 & \\cos^{2}{\\left(\\frac{\\theta_{1}}{2} \\right)} \\tanh{\\left(\\alpha \\right)} & 0 & 0 & - \\frac{\\sin{\\left(\\theta_{1} \\right)} \\tanh{\\left(\\alpha \\right)}}{2} & 0 & 0 & 0 & \\frac{\\cos{\\left(\\frac{\\theta_{1}}{2} \\right)}}{\\cosh{\\left(\\alpha \\right)}} & 0 & 0 & 0 & 0 & - \\sin{\\left(\\frac{\\theta_{1}}{2} \\right)} & 0 & 0\\\\- \\cos^{2}{\\left(\\frac{\\theta_{1}}{2} \\right)} \\tanh{\\left(\\alpha \\right)} & 0 & 0 & 0 & 0 & - \\frac{\\sin{\\left(\\theta_{1} \\right)} \\tanh{\\left(\\alpha \\right)}}{2} & 0 & 0 & 0 & \\frac{\\cos{\\left(\\frac{\\theta_{1}}{2} \\right)}}{\\cosh{\\left(\\alpha \\right)}} & 0 & 0 & \\sin{\\left(\\frac{\\theta_{1}}{2} \\right)} & 0 & 0 & 0\\\\0 & 0 & 0 & \\sin^{2}{\\left(\\frac{\\theta_{2}}{2} \\right)} \\tanh{\\left(\\alpha \\right)} & 0 & 0 & \\frac{\\sin{\\left(\\theta_{2} \\right)} \\tanh{\\left(\\alpha \\right)}}{2} & 0 & 0 & 0 & \\cos{\\left(\\frac{\\theta_{2}}{2} \\right)} & 0 & 0 & 0 & 0 & - \\frac{\\sin{\\left(\\frac{\\theta_{2}}{2} \\right)}}{\\cosh{\\left(\\alpha \\right)}}\\\\0 & 0 & - \\sin^{2}{\\left(\\frac{\\theta_{2}}{2} \\right)} \\tanh{\\left(\\alpha \\right)} & 0 & 0 & 0 & 0 & \\frac{\\sin{\\left(\\theta_{2} \\right)} \\tanh{\\left(\\alpha \\right)}}{2} & 0 & 0 & 0 & \\cos{\\left(\\frac{\\theta_{2}}{2} \\right)} & 0 & 0 & \\frac{\\sin{\\left(\\frac{\\theta_{2}}{2} \\right)}}{\\cosh{\\left(\\alpha \\right)}} & 0\\\\\\frac{\\sin{\\left(\\theta_{1} \\right)} \\tanh{\\left(\\alpha \\right)}}{2} & 0 & 0 & 0 & 0 & \\sin^{2}{\\left(\\frac{\\theta_{1}}{2} \\right)} \\tanh{\\left(\\alpha \\right)} & 0 & 0 & 0 & - \\frac{\\sin{\\left(\\frac{\\theta_{1}}{2} \\right)}}{\\cosh{\\left(\\alpha \\right)}} & 0 & 0 & \\cos{\\left(\\frac{\\theta_{1}}{2} \\right)} & 0 & 0 & 0\\\\0 & \\frac{\\sin{\\left(\\theta_{1} \\right)} \\tanh{\\left(\\alpha \\right)}}{2} & 0 & 0 & - \\sin^{2}{\\left(\\frac{\\theta_{1}}{2} \\right)} \\tanh{\\left(\\alpha \\right)} & 0 & 0 & 0 & \\frac{\\sin{\\left(\\frac{\\theta_{1}}{2} \\right)}}{\\cosh{\\left(\\alpha \\right)}} & 0 & 0 & 0 & 0 & \\cos{\\left(\\frac{\\theta_{1}}{2} \\right)} & 0 & 0\\\\0 & 0 & - \\frac{\\sin{\\left(\\theta_{2} \\right)} \\tanh{\\left(\\alpha \\right)}}{2} & 0 & 0 & 0 & 0 & \\cos^{2}{\\left(\\frac{\\theta_{2}}{2} \\right)} \\tanh{\\left(\\alpha \\right)} & 0 & 0 & 0 & - \\sin{\\left(\\frac{\\theta_{2}}{2} \\right)} & 0 & 0 & \\frac{\\cos{\\left(\\frac{\\theta_{2}}{2} \\right)}}{\\cosh{\\left(\\alpha \\right)}} & 0\\\\0 & 0 & 0 & - \\frac{\\sin{\\left(\\theta_{2} \\right)} \\tanh{\\left(\\alpha \\right)}}{2} & 0 & 0 & - \\cos^{2}{\\left(\\frac{\\theta_{2}}{2} \\right)} \\tanh{\\left(\\alpha \\right)} & 0 & 0 & 0 & \\sin{\\left(\\frac{\\theta_{2}}{2} \\right)} & 0 & 0 & 0 & 0 & \\frac{\\cos{\\left(\\frac{\\theta_{2}}{2} \\right)}}{\\cosh{\\left(\\alpha \\right)}}\\\\- \\frac{\\cos{\\left(\\frac{\\theta_{1}}{2} \\right)}}{\\cosh{\\left(\\alpha \\right)}} & 0 & 0 & 0 & 0 & - \\frac{\\sin{\\left(\\frac{\\theta_{1}}{2} \\right)}}{\\cosh{\\left(\\alpha \\right)}} & 0 & 0 & 0 & - \\tanh{\\left(\\alpha \\right)} & 0 & 0 & 0 & 0 & 0 & 0\\\\0 & - \\frac{\\cos{\\left(\\frac{\\theta_{1}}{2} \\right)}}{\\cosh{\\left(\\alpha \\right)}} & 0 & 0 & \\frac{\\sin{\\left(\\frac{\\theta_{1}}{2} \\right)}}{\\cosh{\\left(\\alpha \\right)}} & 0 & 0 & 0 & \\tanh{\\left(\\alpha \\right)} & 0 & 0 & 0 & 0 & 0 & 0 & 0\\\\0 & 0 & - \\cos{\\left(\\frac{\\theta_{2}}{2} \\right)} & 0 & 0 & 0 & 0 & - \\sin{\\left(\\frac{\\theta_{2}}{2} \\right)} & 0 & 0 & 0 & 0 & 0 & 0 & 0 & 0\\\\0 & 0 & 0 & - \\cos{\\left(\\frac{\\theta_{2}}{2} \\right)} & 0 & 0 & \\sin{\\left(\\frac{\\theta_{2}}{2} \\right)} & 0 & 0 & 0 & 0 & 0 & 0 & 0 & 0 & 0\\\\0 & - \\sin{\\left(\\frac{\\theta_{1}}{2} \\right)} & 0 & 0 & - \\cos{\\left(\\frac{\\theta_{1}}{2} \\right)} & 0 & 0 & 0 & 0 & 0 & 0 & 0 & 0 & 0 & 0 & 0\\\\\\sin{\\left(\\frac{\\theta_{1}}{2} \\right)} & 0 & 0 & 0 & 0 & - \\cos{\\left(\\frac{\\theta_{1}}{2} \\right)} & 0 & 0 & 0 & 0 & 0 & 0 & 0 & 0 & 0 & 0\\\\0 & 0 & 0 & - \\frac{\\sin{\\left(\\frac{\\theta_{2}}{2} \\right)}}{\\cosh{\\left(\\alpha \\right)}} & 0 & 0 & - \\frac{\\cos{\\left(\\frac{\\theta_{2}}{2} \\right)}}{\\cosh{\\left(\\alpha \\right)}} & 0 & 0 & 0 & 0 & 0 & 0 & 0 & 0 & - \\tanh{\\left(\\alpha \\right)}\\\\0 & 0 & \\frac{\\sin{\\left(\\frac{\\theta_{2}}{2} \\right)}}{\\cosh{\\left(\\alpha \\right)}} & 0 & 0 & 0 & 0 & - \\frac{\\cos{\\left(\\frac{\\theta_{2}}{2} \\right)}}{\\cosh{\\left(\\alpha \\right)}} & 0 & 0 & 0 & 0 & 0 & 0 & \\tanh{\\left(\\alpha \\right)} & 0\\end{array}\\right]$"
      ],
      "text/plain": [
       "Matrix([\n",
       "[                               0, cos(\\theta_1/2)**2*tanh(\\alpha),                                0,                               0,    -sin(\\theta_1)*tanh(\\alpha)/2,                               0,                                0,                               0, cos(\\theta_1/2)/cosh(\\alpha),                             0,               0,                0,               0, -sin(\\theta_1/2),                            0,                             0],\n",
       "[-cos(\\theta_1/2)**2*tanh(\\alpha),                               0,                                0,                               0,                                0,   -sin(\\theta_1)*tanh(\\alpha)/2,                                0,                               0,                            0,  cos(\\theta_1/2)/cosh(\\alpha),               0,                0, sin(\\theta_1/2),                0,                            0,                             0],\n",
       "[                               0,                               0,                                0, sin(\\theta_2/2)**2*tanh(\\alpha),                                0,                               0,     sin(\\theta_2)*tanh(\\alpha)/2,                               0,                            0,                             0, cos(\\theta_2/2),                0,               0,                0,                            0, -sin(\\theta_2/2)/cosh(\\alpha)],\n",
       "[                               0,                               0, -sin(\\theta_2/2)**2*tanh(\\alpha),                               0,                                0,                               0,                                0,    sin(\\theta_2)*tanh(\\alpha)/2,                            0,                             0,               0,  cos(\\theta_2/2),               0,                0, sin(\\theta_2/2)/cosh(\\alpha),                             0],\n",
       "[    sin(\\theta_1)*tanh(\\alpha)/2,                               0,                                0,                               0,                                0, sin(\\theta_1/2)**2*tanh(\\alpha),                                0,                               0,                            0, -sin(\\theta_1/2)/cosh(\\alpha),               0,                0, cos(\\theta_1/2),                0,                            0,                             0],\n",
       "[                               0,    sin(\\theta_1)*tanh(\\alpha)/2,                                0,                               0, -sin(\\theta_1/2)**2*tanh(\\alpha),                               0,                                0,                               0, sin(\\theta_1/2)/cosh(\\alpha),                             0,               0,                0,               0,  cos(\\theta_1/2),                            0,                             0],\n",
       "[                               0,                               0,    -sin(\\theta_2)*tanh(\\alpha)/2,                               0,                                0,                               0,                                0, cos(\\theta_2/2)**2*tanh(\\alpha),                            0,                             0,               0, -sin(\\theta_2/2),               0,                0, cos(\\theta_2/2)/cosh(\\alpha),                             0],\n",
       "[                               0,                               0,                                0,   -sin(\\theta_2)*tanh(\\alpha)/2,                                0,                               0, -cos(\\theta_2/2)**2*tanh(\\alpha),                               0,                            0,                             0, sin(\\theta_2/2),                0,               0,                0,                            0,  cos(\\theta_2/2)/cosh(\\alpha)],\n",
       "[   -cos(\\theta_1/2)/cosh(\\alpha),                               0,                                0,                               0,                                0,   -sin(\\theta_1/2)/cosh(\\alpha),                                0,                               0,                            0,                 -tanh(\\alpha),               0,                0,               0,                0,                            0,                             0],\n",
       "[                               0,   -cos(\\theta_1/2)/cosh(\\alpha),                                0,                               0,     sin(\\theta_1/2)/cosh(\\alpha),                               0,                                0,                               0,                 tanh(\\alpha),                             0,               0,                0,               0,                0,                            0,                             0],\n",
       "[                               0,                               0,                 -cos(\\theta_2/2),                               0,                                0,                               0,                                0,                -sin(\\theta_2/2),                            0,                             0,               0,                0,               0,                0,                            0,                             0],\n",
       "[                               0,                               0,                                0,                -cos(\\theta_2/2),                                0,                               0,                  sin(\\theta_2/2),                               0,                            0,                             0,               0,                0,               0,                0,                            0,                             0],\n",
       "[                               0,                -sin(\\theta_1/2),                                0,                               0,                 -cos(\\theta_1/2),                               0,                                0,                               0,                            0,                             0,               0,                0,               0,                0,                            0,                             0],\n",
       "[                 sin(\\theta_1/2),                               0,                                0,                               0,                                0,                -cos(\\theta_1/2),                                0,                               0,                            0,                             0,               0,                0,               0,                0,                            0,                             0],\n",
       "[                               0,                               0,                                0,   -sin(\\theta_2/2)/cosh(\\alpha),                                0,                               0,    -cos(\\theta_2/2)/cosh(\\alpha),                               0,                            0,                             0,               0,                0,               0,                0,                            0,                 -tanh(\\alpha)],\n",
       "[                               0,                               0,     sin(\\theta_2/2)/cosh(\\alpha),                               0,                                0,                               0,                                0,   -cos(\\theta_2/2)/cosh(\\alpha),                            0,                             0,               0,                0,               0,                0,                 tanh(\\alpha),                             0]])"
      ]
     },
     "execution_count": 26,
     "metadata": {},
     "output_type": "execute_result"
    }
   ],
   "source": [
    "M[(1,1)]"
   ]
  },
  {
   "cell_type": "code",
   "execution_count": 27,
   "metadata": {},
   "outputs": [
    {
     "data": {
      "text/latex": [
       "$\\displaystyle \\left[\\begin{matrix}0 & - \\tanh{\\left(\\alpha \\right)} & 0 & 0 & 0 & 0 & 0 & 0\\\\\\tanh{\\left(\\alpha \\right)} & 0 & 0 & 0 & 0 & 0 & 0 & 0\\\\0 & 0 & 0 & 0 & 0 & 0 & 0 & 0\\\\0 & 0 & 0 & 0 & 0 & 0 & 0 & 0\\\\0 & 0 & 0 & 0 & 0 & 0 & 0 & 0\\\\0 & 0 & 0 & 0 & 0 & 0 & 0 & 0\\\\0 & 0 & 0 & 0 & 0 & 0 & 0 & - \\tanh{\\left(\\alpha \\right)}\\\\0 & 0 & 0 & 0 & 0 & 0 & \\tanh{\\left(\\alpha \\right)} & 0\\end{matrix}\\right]$"
      ],
      "text/plain": [
       "Matrix([\n",
       "[           0, -tanh(\\alpha), 0, 0, 0, 0,            0,             0],\n",
       "[tanh(\\alpha),             0, 0, 0, 0, 0,            0,             0],\n",
       "[           0,             0, 0, 0, 0, 0,            0,             0],\n",
       "[           0,             0, 0, 0, 0, 0,            0,             0],\n",
       "[           0,             0, 0, 0, 0, 0,            0,             0],\n",
       "[           0,             0, 0, 0, 0, 0,            0,             0],\n",
       "[           0,             0, 0, 0, 0, 0,            0, -tanh(\\alpha)],\n",
       "[           0,             0, 0, 0, 0, 0, tanh(\\alpha),             0]])"
      ]
     },
     "execution_count": 27,
     "metadata": {},
     "output_type": "execute_result"
    }
   ],
   "source": [
    "M[(1,1)][8:,8:]"
   ]
  },
  {
   "cell_type": "code",
   "execution_count": 28,
   "metadata": {},
   "outputs": [],
   "source": [
    "M[(-1,-1)]=contraction_(Upsilon_,Gamma_[(-1,-1)],8).simplify()"
   ]
  },
  {
   "cell_type": "code",
   "execution_count": 29,
   "metadata": {},
   "outputs": [
    {
     "data": {
      "text/latex": [
       "$\\displaystyle \\left[\\begin{array}{cccccccccccccccc}0 & - \\cos^{2}{\\left(\\frac{\\theta_{1}}{2} \\right)} \\tanh{\\left(\\alpha \\right)} & 0 & 0 & \\frac{\\sin{\\left(\\theta_{1} \\right)} \\tanh{\\left(\\alpha \\right)}}{2} & 0 & 0 & 0 & \\frac{\\cos{\\left(\\frac{\\theta_{1}}{2} \\right)}}{\\cosh{\\left(\\alpha \\right)}} & 0 & 0 & 0 & 0 & - \\sin{\\left(\\frac{\\theta_{1}}{2} \\right)} & 0 & 0\\\\\\cos^{2}{\\left(\\frac{\\theta_{1}}{2} \\right)} \\tanh{\\left(\\alpha \\right)} & 0 & 0 & 0 & 0 & \\frac{\\sin{\\left(\\theta_{1} \\right)} \\tanh{\\left(\\alpha \\right)}}{2} & 0 & 0 & 0 & \\frac{\\cos{\\left(\\frac{\\theta_{1}}{2} \\right)}}{\\cosh{\\left(\\alpha \\right)}} & 0 & 0 & \\sin{\\left(\\frac{\\theta_{1}}{2} \\right)} & 0 & 0 & 0\\\\0 & 0 & 0 & - \\sin^{2}{\\left(\\frac{\\theta_{2}}{2} \\right)} \\tanh{\\left(\\alpha \\right)} & 0 & 0 & - \\frac{\\sin{\\left(\\theta_{2} \\right)} \\tanh{\\left(\\alpha \\right)}}{2} & 0 & 0 & 0 & \\cos{\\left(\\frac{\\theta_{2}}{2} \\right)} & 0 & 0 & 0 & 0 & - \\frac{\\sin{\\left(\\frac{\\theta_{2}}{2} \\right)}}{\\cosh{\\left(\\alpha \\right)}}\\\\0 & 0 & \\sin^{2}{\\left(\\frac{\\theta_{2}}{2} \\right)} \\tanh{\\left(\\alpha \\right)} & 0 & 0 & 0 & 0 & - \\frac{\\sin{\\left(\\theta_{2} \\right)} \\tanh{\\left(\\alpha \\right)}}{2} & 0 & 0 & 0 & \\cos{\\left(\\frac{\\theta_{2}}{2} \\right)} & 0 & 0 & \\frac{\\sin{\\left(\\frac{\\theta_{2}}{2} \\right)}}{\\cosh{\\left(\\alpha \\right)}} & 0\\\\- \\frac{\\sin{\\left(\\theta_{1} \\right)} \\tanh{\\left(\\alpha \\right)}}{2} & 0 & 0 & 0 & 0 & - \\sin^{2}{\\left(\\frac{\\theta_{1}}{2} \\right)} \\tanh{\\left(\\alpha \\right)} & 0 & 0 & 0 & - \\frac{\\sin{\\left(\\frac{\\theta_{1}}{2} \\right)}}{\\cosh{\\left(\\alpha \\right)}} & 0 & 0 & \\cos{\\left(\\frac{\\theta_{1}}{2} \\right)} & 0 & 0 & 0\\\\0 & - \\frac{\\sin{\\left(\\theta_{1} \\right)} \\tanh{\\left(\\alpha \\right)}}{2} & 0 & 0 & \\sin^{2}{\\left(\\frac{\\theta_{1}}{2} \\right)} \\tanh{\\left(\\alpha \\right)} & 0 & 0 & 0 & \\frac{\\sin{\\left(\\frac{\\theta_{1}}{2} \\right)}}{\\cosh{\\left(\\alpha \\right)}} & 0 & 0 & 0 & 0 & \\cos{\\left(\\frac{\\theta_{1}}{2} \\right)} & 0 & 0\\\\0 & 0 & \\frac{\\sin{\\left(\\theta_{2} \\right)} \\tanh{\\left(\\alpha \\right)}}{2} & 0 & 0 & 0 & 0 & - \\cos^{2}{\\left(\\frac{\\theta_{2}}{2} \\right)} \\tanh{\\left(\\alpha \\right)} & 0 & 0 & 0 & - \\sin{\\left(\\frac{\\theta_{2}}{2} \\right)} & 0 & 0 & \\frac{\\cos{\\left(\\frac{\\theta_{2}}{2} \\right)}}{\\cosh{\\left(\\alpha \\right)}} & 0\\\\0 & 0 & 0 & \\frac{\\sin{\\left(\\theta_{2} \\right)} \\tanh{\\left(\\alpha \\right)}}{2} & 0 & 0 & \\cos^{2}{\\left(\\frac{\\theta_{2}}{2} \\right)} \\tanh{\\left(\\alpha \\right)} & 0 & 0 & 0 & \\sin{\\left(\\frac{\\theta_{2}}{2} \\right)} & 0 & 0 & 0 & 0 & \\frac{\\cos{\\left(\\frac{\\theta_{2}}{2} \\right)}}{\\cosh{\\left(\\alpha \\right)}}\\\\- \\frac{\\cos{\\left(\\frac{\\theta_{1}}{2} \\right)}}{\\cosh{\\left(\\alpha \\right)}} & 0 & 0 & 0 & 0 & - \\frac{\\sin{\\left(\\frac{\\theta_{1}}{2} \\right)}}{\\cosh{\\left(\\alpha \\right)}} & 0 & 0 & 0 & \\tanh{\\left(\\alpha \\right)} & 0 & 0 & 0 & 0 & 0 & 0\\\\0 & - \\frac{\\cos{\\left(\\frac{\\theta_{1}}{2} \\right)}}{\\cosh{\\left(\\alpha \\right)}} & 0 & 0 & \\frac{\\sin{\\left(\\frac{\\theta_{1}}{2} \\right)}}{\\cosh{\\left(\\alpha \\right)}} & 0 & 0 & 0 & - \\tanh{\\left(\\alpha \\right)} & 0 & 0 & 0 & 0 & 0 & 0 & 0\\\\0 & 0 & - \\cos{\\left(\\frac{\\theta_{2}}{2} \\right)} & 0 & 0 & 0 & 0 & - \\sin{\\left(\\frac{\\theta_{2}}{2} \\right)} & 0 & 0 & 0 & 0 & 0 & 0 & 0 & 0\\\\0 & 0 & 0 & - \\cos{\\left(\\frac{\\theta_{2}}{2} \\right)} & 0 & 0 & \\sin{\\left(\\frac{\\theta_{2}}{2} \\right)} & 0 & 0 & 0 & 0 & 0 & 0 & 0 & 0 & 0\\\\0 & - \\sin{\\left(\\frac{\\theta_{1}}{2} \\right)} & 0 & 0 & - \\cos{\\left(\\frac{\\theta_{1}}{2} \\right)} & 0 & 0 & 0 & 0 & 0 & 0 & 0 & 0 & 0 & 0 & 0\\\\\\sin{\\left(\\frac{\\theta_{1}}{2} \\right)} & 0 & 0 & 0 & 0 & - \\cos{\\left(\\frac{\\theta_{1}}{2} \\right)} & 0 & 0 & 0 & 0 & 0 & 0 & 0 & 0 & 0 & 0\\\\0 & 0 & 0 & - \\frac{\\sin{\\left(\\frac{\\theta_{2}}{2} \\right)}}{\\cosh{\\left(\\alpha \\right)}} & 0 & 0 & - \\frac{\\cos{\\left(\\frac{\\theta_{2}}{2} \\right)}}{\\cosh{\\left(\\alpha \\right)}} & 0 & 0 & 0 & 0 & 0 & 0 & 0 & 0 & \\tanh{\\left(\\alpha \\right)}\\\\0 & 0 & \\frac{\\sin{\\left(\\frac{\\theta_{2}}{2} \\right)}}{\\cosh{\\left(\\alpha \\right)}} & 0 & 0 & 0 & 0 & - \\frac{\\cos{\\left(\\frac{\\theta_{2}}{2} \\right)}}{\\cosh{\\left(\\alpha \\right)}} & 0 & 0 & 0 & 0 & 0 & 0 & - \\tanh{\\left(\\alpha \\right)} & 0\\end{array}\\right]$"
      ],
      "text/plain": [
       "Matrix([\n",
       "[                              0, -cos(\\theta_1/2)**2*tanh(\\alpha),                               0,                                0,    sin(\\theta_1)*tanh(\\alpha)/2,                                0,                               0,                                0, cos(\\theta_1/2)/cosh(\\alpha),                             0,               0,                0,               0, -sin(\\theta_1/2),                            0,                             0],\n",
       "[cos(\\theta_1/2)**2*tanh(\\alpha),                                0,                               0,                                0,                               0,     sin(\\theta_1)*tanh(\\alpha)/2,                               0,                                0,                            0,  cos(\\theta_1/2)/cosh(\\alpha),               0,                0, sin(\\theta_1/2),                0,                            0,                             0],\n",
       "[                              0,                                0,                               0, -sin(\\theta_2/2)**2*tanh(\\alpha),                               0,                                0,   -sin(\\theta_2)*tanh(\\alpha)/2,                                0,                            0,                             0, cos(\\theta_2/2),                0,               0,                0,                            0, -sin(\\theta_2/2)/cosh(\\alpha)],\n",
       "[                              0,                                0, sin(\\theta_2/2)**2*tanh(\\alpha),                                0,                               0,                                0,                               0,    -sin(\\theta_2)*tanh(\\alpha)/2,                            0,                             0,               0,  cos(\\theta_2/2),               0,                0, sin(\\theta_2/2)/cosh(\\alpha),                             0],\n",
       "[  -sin(\\theta_1)*tanh(\\alpha)/2,                                0,                               0,                                0,                               0, -sin(\\theta_1/2)**2*tanh(\\alpha),                               0,                                0,                            0, -sin(\\theta_1/2)/cosh(\\alpha),               0,                0, cos(\\theta_1/2),                0,                            0,                             0],\n",
       "[                              0,    -sin(\\theta_1)*tanh(\\alpha)/2,                               0,                                0, sin(\\theta_1/2)**2*tanh(\\alpha),                                0,                               0,                                0, sin(\\theta_1/2)/cosh(\\alpha),                             0,               0,                0,               0,  cos(\\theta_1/2),                            0,                             0],\n",
       "[                              0,                                0,    sin(\\theta_2)*tanh(\\alpha)/2,                                0,                               0,                                0,                               0, -cos(\\theta_2/2)**2*tanh(\\alpha),                            0,                             0,               0, -sin(\\theta_2/2),               0,                0, cos(\\theta_2/2)/cosh(\\alpha),                             0],\n",
       "[                              0,                                0,                               0,     sin(\\theta_2)*tanh(\\alpha)/2,                               0,                                0, cos(\\theta_2/2)**2*tanh(\\alpha),                                0,                            0,                             0, sin(\\theta_2/2),                0,               0,                0,                            0,  cos(\\theta_2/2)/cosh(\\alpha)],\n",
       "[  -cos(\\theta_1/2)/cosh(\\alpha),                                0,                               0,                                0,                               0,    -sin(\\theta_1/2)/cosh(\\alpha),                               0,                                0,                            0,                  tanh(\\alpha),               0,                0,               0,                0,                            0,                             0],\n",
       "[                              0,    -cos(\\theta_1/2)/cosh(\\alpha),                               0,                                0,    sin(\\theta_1/2)/cosh(\\alpha),                                0,                               0,                                0,                -tanh(\\alpha),                             0,               0,                0,               0,                0,                            0,                             0],\n",
       "[                              0,                                0,                -cos(\\theta_2/2),                                0,                               0,                                0,                               0,                 -sin(\\theta_2/2),                            0,                             0,               0,                0,               0,                0,                            0,                             0],\n",
       "[                              0,                                0,                               0,                 -cos(\\theta_2/2),                               0,                                0,                 sin(\\theta_2/2),                                0,                            0,                             0,               0,                0,               0,                0,                            0,                             0],\n",
       "[                              0,                 -sin(\\theta_1/2),                               0,                                0,                -cos(\\theta_1/2),                                0,                               0,                                0,                            0,                             0,               0,                0,               0,                0,                            0,                             0],\n",
       "[                sin(\\theta_1/2),                                0,                               0,                                0,                               0,                 -cos(\\theta_1/2),                               0,                                0,                            0,                             0,               0,                0,               0,                0,                            0,                             0],\n",
       "[                              0,                                0,                               0,    -sin(\\theta_2/2)/cosh(\\alpha),                               0,                                0,   -cos(\\theta_2/2)/cosh(\\alpha),                                0,                            0,                             0,               0,                0,               0,                0,                            0,                  tanh(\\alpha)],\n",
       "[                              0,                                0,    sin(\\theta_2/2)/cosh(\\alpha),                                0,                               0,                                0,                               0,    -cos(\\theta_2/2)/cosh(\\alpha),                            0,                             0,               0,                0,               0,                0,                -tanh(\\alpha),                             0]])"
      ]
     },
     "execution_count": 29,
     "metadata": {},
     "output_type": "execute_result"
    }
   ],
   "source": [
    "M[(-1,-1)]"
   ]
  },
  {
   "cell_type": "code",
   "execution_count": 30,
   "metadata": {},
   "outputs": [
    {
     "data": {
      "text/latex": [
       "$\\displaystyle \\left[\\begin{matrix}0 & \\tanh{\\left(\\alpha \\right)} & 0 & 0 & 0 & 0 & 0 & 0\\\\- \\tanh{\\left(\\alpha \\right)} & 0 & 0 & 0 & 0 & 0 & 0 & 0\\\\0 & 0 & 0 & 0 & 0 & 0 & 0 & 0\\\\0 & 0 & 0 & 0 & 0 & 0 & 0 & 0\\\\0 & 0 & 0 & 0 & 0 & 0 & 0 & 0\\\\0 & 0 & 0 & 0 & 0 & 0 & 0 & 0\\\\0 & 0 & 0 & 0 & 0 & 0 & 0 & \\tanh{\\left(\\alpha \\right)}\\\\0 & 0 & 0 & 0 & 0 & 0 & - \\tanh{\\left(\\alpha \\right)} & 0\\end{matrix}\\right]$"
      ],
      "text/plain": [
       "Matrix([\n",
       "[            0, tanh(\\alpha), 0, 0, 0, 0,             0,            0],\n",
       "[-tanh(\\alpha),            0, 0, 0, 0, 0,             0,            0],\n",
       "[            0,            0, 0, 0, 0, 0,             0,            0],\n",
       "[            0,            0, 0, 0, 0, 0,             0,            0],\n",
       "[            0,            0, 0, 0, 0, 0,             0,            0],\n",
       "[            0,            0, 0, 0, 0, 0,             0,            0],\n",
       "[            0,            0, 0, 0, 0, 0,             0, tanh(\\alpha)],\n",
       "[            0,            0, 0, 0, 0, 0, -tanh(\\alpha),            0]])"
      ]
     },
     "execution_count": 30,
     "metadata": {},
     "output_type": "execute_result"
    }
   ],
   "source": [
    "M[(-1,-1)][8:,8:]"
   ]
  },
  {
   "cell_type": "code",
   "execution_count": 208,
   "metadata": {},
   "outputs": [],
   "source": [
    "from importlib import reload\n",
    "\n",
    "import GTN\n",
    "reload(GTN)\n",
    "from GTN import *"
   ]
  },
  {
   "cell_type": "code",
   "execution_count": 209,
   "metadata": {},
   "outputs": [],
   "source": [
    "gtn=GTN(L=8,seed=2,op=False,random_init=False)\n"
   ]
  },
  {
   "cell_type": "code",
   "execution_count": 217,
   "metadata": {},
   "outputs": [],
   "source": [
    "kind=(-1,-1)\n",
    "A_0=0.5\n",
    "theta1_0=1.\n",
    "theta2_0=0.5\n",
    "M_a=M[kind].subs({alpha:atanh(A_0),theta1:theta1_0,theta2:theta2_0})"
   ]
  },
  {
   "cell_type": "code",
   "execution_count": 218,
   "metadata": {},
   "outputs": [],
   "source": [
    "M_n=gtn.op_class_AIII_unitary(A=A_0,theta1=theta1_0,theta2=theta2_0,kind=kind)"
   ]
  },
  {
   "cell_type": "code",
   "execution_count": 219,
   "metadata": {},
   "outputs": [
    {
     "data": {
      "text/latex": [
       "$\\displaystyle \\left[\\begin{array}{cccccccccccccccc}0 & 0 & 0 & 0 & 0 & 0 & 0 & 0 & 0 & 0 & 0 & 0 & 0 & 0 & 0 & 0\\\\0 & 0 & 0 & 0 & 0 & 0 & 0 & 0 & 0 & 0 & 0 & 0 & 0 & 0 & 0 & 0\\\\0 & 0 & 0 & 0 & 0 & 0 & 0 & 0 & 0 & 0 & 0 & 0 & 0 & 0 & 0 & -2.77555756156289 \\cdot 10^{-17}\\\\0 & 0 & 0 & 0 & 0 & 0 & 0 & 0 & 0 & 0 & 0 & 0 & 0 & 0 & 2.77555756156289 \\cdot 10^{-17} & 0\\\\0 & 0 & 0 & 0 & 0 & 0 & 0 & 0 & 0 & -5.55111512312578 \\cdot 10^{-17} & 0 & 0 & 0 & 0 & 0 & 0\\\\0 & 0 & 0 & 0 & 0 & 0 & 0 & 0 & 5.55111512312578 \\cdot 10^{-17} & 0 & 0 & 0 & 0 & 0 & 0 & 0\\\\0 & 0 & 0 & 0 & 0 & 0 & 0 & 0 & 0 & 0 & 0 & 0 & 0 & 0 & 1.11022302462516 \\cdot 10^{-16} & 0\\\\0 & 0 & 0 & 0 & 0 & 0 & 0 & 0 & 0 & 0 & 0 & 0 & 0 & 0 & 0 & 1.11022302462516 \\cdot 10^{-16}\\\\0 & 0 & 0 & 0 & 0 & -5.55111512312578 \\cdot 10^{-17} & 0 & 0 & 0 & 0 & 0 & 0 & 0 & 0 & 0 & 0\\\\0 & 0 & 0 & 0 & 5.55111512312578 \\cdot 10^{-17} & 0 & 0 & 0 & 0 & 0 & 0 & 0 & 0 & 0 & 0 & 0\\\\0 & 0 & 0 & 0 & 0 & 0 & 0 & 0 & 0 & 0 & 0 & 0 & 0 & 0 & 0 & 0\\\\0 & 0 & 0 & 0 & 0 & 0 & 0 & 0 & 0 & 0 & 0 & 0 & 0 & 0 & 0 & 0\\\\0 & 0 & 0 & 0 & 0 & 0 & 0 & 0 & 0 & 0 & 0 & 0 & 0 & 0 & 0 & 0\\\\0 & 0 & 0 & 0 & 0 & 0 & 0 & 0 & 0 & 0 & 0 & 0 & 0 & 0 & 0 & 0\\\\0 & 0 & 0 & -2.77555756156289 \\cdot 10^{-17} & 0 & 0 & -1.11022302462516 \\cdot 10^{-16} & 0 & 0 & 0 & 0 & 0 & 0 & 0 & 0 & 0\\\\0 & 0 & 2.77555756156289 \\cdot 10^{-17} & 0 & 0 & 0 & 0 & -1.11022302462516 \\cdot 10^{-16} & 0 & 0 & 0 & 0 & 0 & 0 & 0 & 0\\end{array}\\right]$"
      ],
      "text/plain": [
       "Matrix([\n",
       "[0, 0,                    0,                     0,                    0,                     0,                     0,                     0,                    0,                     0, 0, 0, 0, 0,                    0,                     0],\n",
       "[0, 0,                    0,                     0,                    0,                     0,                     0,                     0,                    0,                     0, 0, 0, 0, 0,                    0,                     0],\n",
       "[0, 0,                    0,                     0,                    0,                     0,                     0,                     0,                    0,                     0, 0, 0, 0, 0,                    0, -2.77555756156289e-17],\n",
       "[0, 0,                    0,                     0,                    0,                     0,                     0,                     0,                    0,                     0, 0, 0, 0, 0, 2.77555756156289e-17,                     0],\n",
       "[0, 0,                    0,                     0,                    0,                     0,                     0,                     0,                    0, -5.55111512312578e-17, 0, 0, 0, 0,                    0,                     0],\n",
       "[0, 0,                    0,                     0,                    0,                     0,                     0,                     0, 5.55111512312578e-17,                     0, 0, 0, 0, 0,                    0,                     0],\n",
       "[0, 0,                    0,                     0,                    0,                     0,                     0,                     0,                    0,                     0, 0, 0, 0, 0, 1.11022302462516e-16,                     0],\n",
       "[0, 0,                    0,                     0,                    0,                     0,                     0,                     0,                    0,                     0, 0, 0, 0, 0,                    0,  1.11022302462516e-16],\n",
       "[0, 0,                    0,                     0,                    0, -5.55111512312578e-17,                     0,                     0,                    0,                     0, 0, 0, 0, 0,                    0,                     0],\n",
       "[0, 0,                    0,                     0, 5.55111512312578e-17,                     0,                     0,                     0,                    0,                     0, 0, 0, 0, 0,                    0,                     0],\n",
       "[0, 0,                    0,                     0,                    0,                     0,                     0,                     0,                    0,                     0, 0, 0, 0, 0,                    0,                     0],\n",
       "[0, 0,                    0,                     0,                    0,                     0,                     0,                     0,                    0,                     0, 0, 0, 0, 0,                    0,                     0],\n",
       "[0, 0,                    0,                     0,                    0,                     0,                     0,                     0,                    0,                     0, 0, 0, 0, 0,                    0,                     0],\n",
       "[0, 0,                    0,                     0,                    0,                     0,                     0,                     0,                    0,                     0, 0, 0, 0, 0,                    0,                     0],\n",
       "[0, 0,                    0, -2.77555756156289e-17,                    0,                     0, -1.11022302462516e-16,                     0,                    0,                     0, 0, 0, 0, 0,                    0,                     0],\n",
       "[0, 0, 2.77555756156289e-17,                     0,                    0,                     0,                     0, -1.11022302462516e-16,                    0,                     0, 0, 0, 0, 0,                    0,                     0]])"
      ]
     },
     "execution_count": 219,
     "metadata": {},
     "output_type": "execute_result"
    }
   ],
   "source": [
    "M_a-M_n"
   ]
  },
  {
   "cell_type": "code",
   "execution_count": 220,
   "metadata": {},
   "outputs": [
    {
     "data": {
      "text/latex": [
       "$\\displaystyle \\left[\\begin{matrix}0 & -0.385075576467035 & 0 & 0 & 0.210367746201974 & 0 & 0 & 0\\\\0.385075576467035 & 0 & 0 & 0 & 0 & 0.210367746201974 & 0 & 0\\\\0 & 0 & 0 & -0.0306043595274068 & 0 & 0 & -0.119856384651051 & 0\\\\0 & 0 & 0.0306043595274068 & 0 & 0 & 0 & 0 & -0.119856384651051\\\\-0.210367746201974 & 0 & 0 & 0 & 0 & -0.114924423532965 & 0 & 0\\\\0 & -0.210367746201974 & 0 & 0 & 0.114924423532965 & 0 & 0 & 0\\\\0 & 0 & 0.119856384651051 & 0 & 0 & 0 & 0 & -0.469395640472593\\\\0 & 0 & 0 & 0.119856384651051 & 0 & 0 & 0.469395640472593 & 0\\end{matrix}\\right]$"
      ],
      "text/plain": [
       "Matrix([\n",
       "[                 0, -0.385075576467035,                  0,                   0, 0.210367746201974,                  0,                  0,                  0],\n",
       "[ 0.385075576467035,                  0,                  0,                   0,                 0,  0.210367746201974,                  0,                  0],\n",
       "[                 0,                  0,                  0, -0.0306043595274068,                 0,                  0, -0.119856384651051,                  0],\n",
       "[                 0,                  0, 0.0306043595274068,                   0,                 0,                  0,                  0, -0.119856384651051],\n",
       "[-0.210367746201974,                  0,                  0,                   0,                 0, -0.114924423532965,                  0,                  0],\n",
       "[                 0, -0.210367746201974,                  0,                   0, 0.114924423532965,                  0,                  0,                  0],\n",
       "[                 0,                  0,  0.119856384651051,                   0,                 0,                  0,                  0, -0.469395640472593],\n",
       "[                 0,                  0,                  0,   0.119856384651051,                 0,                  0,  0.469395640472593,                  0]])"
      ]
     },
     "execution_count": 220,
     "metadata": {},
     "output_type": "execute_result"
    }
   ],
   "source": [
    "(M_a)[:8,:8]"
   ]
  },
  {
   "cell_type": "code",
   "execution_count": 221,
   "metadata": {},
   "outputs": [
    {
     "data": {
      "text/plain": [
       "array([[ 0.  , -0.39,  0.  ,  0.  ,  0.21,  0.  ,  0.  ,  0.  ],\n",
       "       [ 0.39,  0.  ,  0.  ,  0.  ,  0.  ,  0.21,  0.  ,  0.  ],\n",
       "       [ 0.  ,  0.  ,  0.  , -0.03,  0.  ,  0.  , -0.12,  0.  ],\n",
       "       [ 0.  ,  0.  ,  0.03,  0.  ,  0.  ,  0.  ,  0.  , -0.12],\n",
       "       [-0.21,  0.  ,  0.  ,  0.  ,  0.  , -0.11,  0.  ,  0.  ],\n",
       "       [ 0.  , -0.21,  0.  ,  0.  ,  0.11,  0.  ,  0.  ,  0.  ],\n",
       "       [ 0.  ,  0.  ,  0.12,  0.  ,  0.  ,  0.  ,  0.  , -0.47],\n",
       "       [ 0.  ,  0.  ,  0.  ,  0.12,  0.  ,  0.  ,  0.47,  0.  ]])"
      ]
     },
     "execution_count": 221,
     "metadata": {},
     "output_type": "execute_result"
    }
   ],
   "source": [
    "np.round(M_n[:8,:8],2)"
   ]
  },
  {
   "cell_type": "code",
   "execution_count": 222,
   "metadata": {},
   "outputs": [
    {
     "data": {
      "text/latex": [
       "$\\displaystyle \\left[\\begin{matrix}0 & 0 & 0 & 0 & 0 & 0 & 0 & 0\\\\0 & 0 & 0 & 0 & 0 & 0 & 0 & 0\\\\0 & 0 & 0 & 0 & 0 & 0 & 0 & 0\\\\0 & 0 & 0 & 0 & 0 & 0 & 0 & 0\\\\0 & 0 & 0 & 0 & 0 & 0 & 0 & 0\\\\0 & 0 & 0 & 0 & 0 & 0 & 0 & 0\\\\0 & 0 & 0 & 0 & 0 & 0 & 0 & 0\\\\0 & 0 & 0 & 0 & 0 & 0 & 0 & 0\\end{matrix}\\right]$"
      ],
      "text/plain": [
       "Matrix([\n",
       "[0, 0, 0, 0, 0, 0, 0, 0],\n",
       "[0, 0, 0, 0, 0, 0, 0, 0],\n",
       "[0, 0, 0, 0, 0, 0, 0, 0],\n",
       "[0, 0, 0, 0, 0, 0, 0, 0],\n",
       "[0, 0, 0, 0, 0, 0, 0, 0],\n",
       "[0, 0, 0, 0, 0, 0, 0, 0],\n",
       "[0, 0, 0, 0, 0, 0, 0, 0],\n",
       "[0, 0, 0, 0, 0, 0, 0, 0]])"
      ]
     },
     "execution_count": 222,
     "metadata": {},
     "output_type": "execute_result"
    }
   ],
   "source": [
    "(M_a-M_n)[:8,:8]"
   ]
  },
  {
   "cell_type": "code",
   "execution_count": 216,
   "metadata": {},
   "outputs": [
    {
     "name": "stdout",
     "output_type": "stream",
     "text": [
      "7.77156117237610e-16\n"
     ]
    }
   ],
   "source": [
    "print(np.abs(M_a-M_n).sum())"
   ]
  },
  {
   "cell_type": "code",
   "execution_count": 161,
   "metadata": {},
   "outputs": [],
   "source": [
    "def check_diff(kind=(1,-1),seed=1):\n",
    "    rng= np.random.default_rng(seed)\n",
    "    A_0=rng.uniform(0,1)\n",
    "    theta1_0=rng.uniform(0,1)*2*np.pi\n",
    "    theta2_0=rng.uniform(0,1)*2*np.pi\n",
    "    M_a=M[kind].subs({alpha:atanh(A_0),theta1:theta1_0,theta2:theta2_0})\n",
    "    M_n=gtn.op_class_AIII_unitary(A=A_0,theta1=theta1_0,theta2=theta2_0,kind=kind)\n",
    "    if np.abs(M_a-M_n).sum()>1e-10:\n",
    "        print(A_0,theta1_0,theta2_0)\n",
    "    else:\n",
    "        pass\n",
    "        # print('pass')\n"
   ]
  },
  {
   "cell_type": "code",
   "execution_count": 164,
   "metadata": {},
   "outputs": [],
   "source": [
    "for s in range(100):\n",
    "    check_diff(kind=(1,-1),seed=s)"
   ]
  },
  {
   "cell_type": "code",
   "execution_count": 165,
   "metadata": {},
   "outputs": [],
   "source": [
    "for s in range(100):\n",
    "    check_diff(kind=(-1,1),seed=s)"
   ]
  },
  {
   "cell_type": "code",
   "execution_count": 223,
   "metadata": {},
   "outputs": [],
   "source": [
    "for s in range(100):\n",
    "    check_diff(kind=(1,1),seed=s)"
   ]
  },
  {
   "cell_type": "code",
   "execution_count": 224,
   "metadata": {},
   "outputs": [],
   "source": [
    "for s in range(100):\n",
    "    check_diff(kind=(-1,-1),seed=s)"
   ]
  },
  {
   "cell_type": "markdown",
   "metadata": {},
   "source": [
    "# Wave function -> Covariance"
   ]
  },
  {
   "cell_type": "code",
   "execution_count": 16,
   "metadata": {},
   "outputs": [],
   "source": [
    "rho_EPR=lambda s0,s1,p: (1+I*s0*s1*p)/2"
   ]
  },
  {
   "cell_type": "code",
   "execution_count": null,
   "metadata": {},
   "outputs": [],
   "source": []
  },
  {
   "cell_type": "code",
   "execution_count": 17,
   "metadata": {},
   "outputs": [],
   "source": [
    "rho_epr=rho_EPR(g[0],g[2],1)*rho_EPR(g[1],g[3],1)"
   ]
  },
  {
   "cell_type": "code",
   "execution_count": 37,
   "metadata": {},
   "outputs": [
    {
     "data": {
      "text/latex": [
       "$\\displaystyle \\frac{e^{- a_{I} - i a_{R}}}{2} + \\frac{e^{a_{I} + i a_{R}}}{2}$"
      ],
      "text/plain": [
       "exp(-a_I - I*a_R)/2 + exp(a_I + I*a_R)/2"
      ]
     },
     "execution_count": 37,
     "metadata": {},
     "output_type": "execute_result"
    }
   ],
   "source": [
    "cosh(ai+I*ar).rewrite(exp)"
   ]
  },
  {
   "cell_type": "code",
   "execution_count": 29,
   "metadata": {},
   "outputs": [],
   "source": [
    "state=(cosh(ai+I*ar)+sinh(ai+I*ar)*I*g[0]*g[1]) * rho_epr*(cosh((ai-I*ar))+sinh((ai-I*ar))*I*g[0]*g[1])"
   ]
  },
  {
   "cell_type": "code",
   "execution_count": 38,
   "metadata": {},
   "outputs": [
    {
     "data": {
      "text/latex": [
       "$\\displaystyle \\frac{e^{2 a_{I}}}{8} + \\frac{i e^{2 a_{I}} \\gamma_{0} \\gamma_{1}}{8} + \\frac{e^{2 a_{I}} \\gamma_{0} \\gamma_{1} \\gamma_{2} \\gamma_{3}}{8} - \\frac{i e^{2 a_{I}} \\gamma_{2} \\gamma_{3}}{8} + \\frac{i e^{2 i a_{R}} \\gamma_{0} \\gamma_{2}}{8} - \\frac{e^{2 i a_{R}} \\gamma_{0} \\gamma_{3}}{8} + \\frac{e^{2 i a_{R}} \\gamma_{1} \\gamma_{2}}{8} + \\frac{i e^{2 i a_{R}} \\gamma_{1} \\gamma_{3}}{8} + \\frac{i e^{- 2 i a_{R}} \\gamma_{0} \\gamma_{2}}{8} + \\frac{e^{- 2 i a_{R}} \\gamma_{0} \\gamma_{3}}{8} - \\frac{e^{- 2 i a_{R}} \\gamma_{1} \\gamma_{2}}{8} + \\frac{i e^{- 2 i a_{R}} \\gamma_{1} \\gamma_{3}}{8} + \\frac{e^{- 2 a_{I}}}{8} - \\frac{i e^{- 2 a_{I}} \\gamma_{0} \\gamma_{1}}{8} + \\frac{e^{- 2 a_{I}} \\gamma_{0} \\gamma_{1} \\gamma_{2} \\gamma_{3}}{8} + \\frac{i e^{- 2 a_{I}} \\gamma_{2} \\gamma_{3}}{8}$"
      ],
      "text/plain": [
       "exp(2*a_I)/8 + I*exp(2*a_I)*\\gamma_0*\\gamma_1/8 + exp(2*a_I)*\\gamma_0*\\gamma_1*\\gamma_2*\\gamma_3/8 - I*exp(2*a_I)*\\gamma_2*\\gamma_3/8 + I*exp(2*I*a_R)*\\gamma_0*\\gamma_2/8 - exp(2*I*a_R)*\\gamma_0*\\gamma_3/8 + exp(2*I*a_R)*\\gamma_1*\\gamma_2/8 + I*exp(2*I*a_R)*\\gamma_1*\\gamma_3/8 + I*exp(-2*I*a_R)*\\gamma_0*\\gamma_2/8 + exp(-2*I*a_R)*\\gamma_0*\\gamma_3/8 - exp(-2*I*a_R)*\\gamma_1*\\gamma_2/8 + I*exp(-2*I*a_R)*\\gamma_1*\\gamma_3/8 + exp(-2*a_I)/8 - I*exp(-2*a_I)*\\gamma_0*\\gamma_1/8 + exp(-2*a_I)*\\gamma_0*\\gamma_1*\\gamma_2*\\gamma_3/8 + I*exp(-2*a_I)*\\gamma_2*\\gamma_3/8"
      ]
     },
     "execution_count": 38,
     "metadata": {},
     "output_type": "execute_result"
    }
   ],
   "source": [
    "recursiveapply((state.rewrite(exp).expand()),normalorder2)"
   ]
  },
  {
   "cell_type": "code",
   "execution_count": null,
   "metadata": {},
   "outputs": [],
   "source": []
  },
  {
   "cell_type": "code",
   "execution_count": 234,
   "metadata": {},
   "outputs": [],
   "source": [
    "c['0+']=(cos(theta1)+sin(theta1)*exp(-I*alpha)*c[0])/sqrt(2)\n",
    "# c['0-']=(1-I*Dagger(c[0]))/sqrt(2)"
   ]
  },
  {
   "cell_type": "code",
   "execution_count": 235,
   "metadata": {},
   "outputs": [
    {
     "data": {
      "text/latex": [
       "$\\displaystyle \\frac{1}{2} - \\frac{i \\gamma_{0} \\gamma_{1}}{2}$"
      ],
      "text/plain": [
       "1/2 - I*\\gamma_0*\\gamma_1/2"
      ]
     },
     "execution_count": 235,
     "metadata": {},
     "output_type": "execute_result"
    }
   ],
   "source": [
    "recursiveapply(((Dagger(c[0])*(c[0]))).subs(c2g).subs(selfadjoint).expand(),normalorder2)"
   ]
  },
  {
   "cell_type": "code",
   "execution_count": 236,
   "metadata": {},
   "outputs": [
    {
     "data": {
      "text/latex": [
       "$\\displaystyle \\frac{1}{2} + \\frac{i \\gamma_{0} \\gamma_{1}}{2}$"
      ],
      "text/plain": [
       "1/2 + I*\\gamma_0*\\gamma_1/2"
      ]
     },
     "execution_count": 236,
     "metadata": {},
     "output_type": "execute_result"
    }
   ],
   "source": [
    "recursiveapply((((c[0])*Dagger(c[0]))).subs(c2g).subs(selfadjoint).expand(),normalorder2)"
   ]
  },
  {
   "cell_type": "code",
   "execution_count": 237,
   "metadata": {},
   "outputs": [],
   "source": [
    "rho_0p=recursiveapply(((Dagger(c['0+'])*(c[0])*Dagger(c[0])*(c['0+']))).subs(c2g).subs(selfadjoint).expand(),normalorder2)"
   ]
  },
  {
   "cell_type": "code",
   "execution_count": 240,
   "metadata": {},
   "outputs": [
    {
     "data": {
      "text/latex": [
       "$\\displaystyle \\frac{e^{i \\alpha} \\sin{\\left(\\theta_{1} \\right)} \\cos{\\left(\\theta_{1} \\right)} \\gamma_{0}}{4} + \\frac{i e^{i \\alpha} \\sin{\\left(\\theta_{1} \\right)} \\cos{\\left(\\theta_{1} \\right)} \\gamma_{1}}{4} + \\frac{\\sin^{2}{\\left(\\theta_{1} \\right)}}{4} - \\frac{i \\sin^{2}{\\left(\\theta_{1} \\right)} \\gamma_{0} \\gamma_{1}}{4} + \\frac{\\cos^{2}{\\left(\\theta_{1} \\right)}}{4} + \\frac{i \\cos^{2}{\\left(\\theta_{1} \\right)} \\gamma_{0} \\gamma_{1}}{4} + \\frac{e^{- i \\alpha} \\sin{\\left(\\theta_{1} \\right)} \\cos{\\left(\\theta_{1} \\right)} \\gamma_{0}}{4} - \\frac{i e^{- i \\alpha} \\sin{\\left(\\theta_{1} \\right)} \\cos{\\left(\\theta_{1} \\right)} \\gamma_{1}}{4}$"
      ],
      "text/plain": [
       "exp(I*\\alpha)*sin(\\theta_1)*cos(\\theta_1)*\\gamma_0/4 + I*exp(I*\\alpha)*sin(\\theta_1)*cos(\\theta_1)*\\gamma_1/4 + sin(\\theta_1)**2/4 - I*sin(\\theta_1)**2*\\gamma_0*\\gamma_1/4 + cos(\\theta_1)**2/4 + I*cos(\\theta_1)**2*\\gamma_0*\\gamma_1/4 + exp(-I*\\alpha)*sin(\\theta_1)*cos(\\theta_1)*\\gamma_0/4 - I*exp(-I*\\alpha)*sin(\\theta_1)*cos(\\theta_1)*\\gamma_1/4"
      ]
     },
     "execution_count": 240,
     "metadata": {},
     "output_type": "execute_result"
    }
   ],
   "source": [
    "rho_0p"
   ]
  },
  {
   "cell_type": "code",
   "execution_count": 231,
   "metadata": {},
   "outputs": [
    {
     "data": {
      "text/latex": [
       "$\\displaystyle \\frac{1}{2} + \\frac{\\gamma_{1}}{2}$"
      ],
      "text/plain": [
       "1/2 + \\gamma_1/2"
      ]
     },
     "execution_count": 231,
     "metadata": {},
     "output_type": "execute_result"
    }
   ],
   "source": [
    "recursiveapply((((c['0-'])*(c[0])*Dagger(c[0])*Dagger(c['0-']))).subs(c2g).subs(selfadjoint).expand(),normalorder2)"
   ]
  },
  {
   "cell_type": "code",
   "execution_count": 232,
   "metadata": {},
   "outputs": [
    {
     "name": "stderr",
     "output_type": "stream",
     "text": [
      "100%|██████████| 1/1 [00:00<00:00,  9.53it/s]\n",
      "100%|██████████| 1/1 [00:00<00:00,  9.53it/s]\n"
     ]
    }
   ],
   "source": [
    "Gamma = zeros(2, 2)\n",
    "# order=[eta[i] for i in range(4)] + [xi[i] for i in range(4)]\n",
    "order=g\n",
    "ij_list=[(i,j) for i in range(2) for j in range(i+1,2)]\n",
    "# op_K=(1+a* op_plus).subs(gamma_xi)\n",
    "\n",
    "op_dm=recursiveapply(( rho_0p* rho_epr * Dagger(rho_0p)).expand().subs(selfadjoint),normalorder2)\n",
    "for i,j in tqdm(ij_list):\n",
    "        rs=I*order[i]*order[j]*( op_dm)\n",
    "        matel=recursiveapply(rs.expand(),normalorder2).subs(constant_gamma_only)*2\n",
    "        matel=matel.simplify()\n",
    "        Gamma[i,j]=matel\n",
    "        Gamma[j,i]=-matel"
   ]
  },
  {
   "cell_type": "code",
   "execution_count": 233,
   "metadata": {},
   "outputs": [
    {
     "data": {
      "text/latex": [
       "$\\displaystyle \\left[\\begin{matrix}0 & 0\\\\0 & 0\\end{matrix}\\right]$"
      ],
      "text/plain": [
       "Matrix([\n",
       "[0, 0],\n",
       "[0, 0]])"
      ]
     },
     "execution_count": 233,
     "metadata": {},
     "output_type": "execute_result"
    }
   ],
   "source": [
    "Gamma"
   ]
  },
  {
   "cell_type": "markdown",
   "metadata": {},
   "source": [
    "# Check initial state in fermionic basis"
   ]
  },
  {
   "cell_type": "code",
   "execution_count": 107,
   "metadata": {},
   "outputs": [],
   "source": [
    "c2g=[(c[0],(g[0]-I*g[1])/2),(c[1],(g[2]-I*g[3])/2)]"
   ]
  },
  {
   "cell_type": "code",
   "execution_count": 96,
   "metadata": {},
   "outputs": [],
   "source": [
    "# c2g=[(c[0],(g[0]-I*g[1])/2),(c[1],(g[3]-I*g[2])/2)]"
   ]
  },
  {
   "cell_type": "code",
   "execution_count": 90,
   "metadata": {},
   "outputs": [],
   "source": [
    "g2c=[(g[0],c[0]+Dagger(c[0])),(g[1],-I*(c[0]-Dagger(c[0]))),(g[2],c[1]+Dagger(c[1])),(g[3],-I*(c[1]-Dagger(c[1])))]"
   ]
  },
  {
   "cell_type": "code",
   "execution_count": 128,
   "metadata": {},
   "outputs": [],
   "source": [
    "# bell_0011=(((1+Dagger(c[0])*Dagger(c[1])) * (c[0]*Dagger(c[0])*c[1]*Dagger(c[1])) * (1+(c[1])*(c[0]))))/2\n",
    "# bell_0011=(((1+I*Dagger(c[0])*(c[1])) * (c[0]*Dagger(c[0])*Dagger(c[1])*(c[1])) * (1-I*Dagger(c[1])*(c[0]))))/2\n",
    "bell_0110=(((I*Dagger(c[0])+ Dagger(c[1])) * (c[0]*Dagger(c[0])*c[1]*Dagger(c[1])) * (-I*(c[0])+ (c[1]))))/2"
   ]
  },
  {
   "cell_type": "code",
   "execution_count": 114,
   "metadata": {},
   "outputs": [
    {
     "data": {
      "text/latex": [
       "$\\displaystyle \\frac{\\left(1 + i c_{0}^{\\dagger} c_{1}\\right) c_{0} c_{0}^{\\dagger} c_{1}^{\\dagger} c_{1} \\cdot \\left(1 - i c_{1}^{\\dagger} c_{0}\\right)}{2}$"
      ],
      "text/plain": [
       "(1 + I*Dagger(c_0)*c_1)*c_0*Dagger(c_0)*Dagger(c_1)*c_1*(1 - I*Dagger(c_1)*c_0)/2"
      ]
     },
     "execution_count": 114,
     "metadata": {},
     "output_type": "execute_result"
    }
   ],
   "source": [
    "bell_0011"
   ]
  },
  {
   "cell_type": "code",
   "execution_count": 129,
   "metadata": {},
   "outputs": [
    {
     "data": {
      "text/latex": [
       "$\\displaystyle \\frac{\\left(i c_{0}^{\\dagger} + c_{1}^{\\dagger}\\right) c_{0} c_{0}^{\\dagger} c_{1} c_{1}^{\\dagger} \\left(- i c_{0} + c_{1}\\right)}{2}$"
      ],
      "text/plain": [
       "(I*Dagger(c_0) + Dagger(c_1))*c_0*Dagger(c_0)*c_1*Dagger(c_1)*(-I*c_0 + c_1)/2"
      ]
     },
     "execution_count": 129,
     "metadata": {},
     "output_type": "execute_result"
    }
   ],
   "source": [
    "bell_0110"
   ]
  },
  {
   "cell_type": "code",
   "execution_count": 130,
   "metadata": {},
   "outputs": [],
   "source": [
    "# bell_0011_c=recursiveapply(bell_0011.expand(),normalorder2_C)\n",
    "bell_0110_c=recursiveapply(bell_0110.expand(),normalorder2_C)"
   ]
  },
  {
   "cell_type": "code",
   "execution_count": 121,
   "metadata": {},
   "outputs": [
    {
     "data": {
      "text/latex": [
       "$\\displaystyle \\frac{c_{0}^{\\dagger} c_{0}}{2} + \\frac{i c_{0}^{\\dagger} c_{1}}{2} + c_{1}^{\\dagger} c_{0}^{\\dagger} c_{1} c_{0} - \\frac{i c_{1}^{\\dagger} c_{0}}{2} + \\frac{c_{1}^{\\dagger} c_{1}}{2}$"
      ],
      "text/plain": [
       "Dagger(c_0)*c_0/2 + I*Dagger(c_0)*c_1/2 + Dagger(c_1)*Dagger(c_0)*c_1*c_0 - I*Dagger(c_1)*c_0/2 + Dagger(c_1)*c_1/2"
      ]
     },
     "execution_count": 121,
     "metadata": {},
     "output_type": "execute_result"
    }
   ],
   "source": [
    "# bell_0011_c"
   ]
  },
  {
   "cell_type": "code",
   "execution_count": 131,
   "metadata": {},
   "outputs": [
    {
     "data": {
      "text/latex": [
       "$\\displaystyle \\frac{c_{0}^{\\dagger} c_{0}}{2} + \\frac{i c_{0}^{\\dagger} c_{1}}{2} + c_{1}^{\\dagger} c_{0}^{\\dagger} c_{1} c_{0} - \\frac{i c_{1}^{\\dagger} c_{0}}{2} + \\frac{c_{1}^{\\dagger} c_{1}}{2}$"
      ],
      "text/plain": [
       "Dagger(c_0)*c_0/2 + I*Dagger(c_0)*c_1/2 + Dagger(c_1)*Dagger(c_0)*c_1*c_0 - I*Dagger(c_1)*c_0/2 + Dagger(c_1)*c_1/2"
      ]
     },
     "execution_count": 131,
     "metadata": {},
     "output_type": "execute_result"
    }
   ],
   "source": [
    "bell_0110_c"
   ]
  },
  {
   "cell_type": "code",
   "execution_count": 117,
   "metadata": {},
   "outputs": [
    {
     "data": {
      "text/latex": [
       "$\\displaystyle \\frac{1}{4} + \\frac{\\gamma_{0} \\gamma_{1} \\gamma_{2} \\gamma_{3}}{4} + \\frac{i \\gamma_{0} \\gamma_{2}}{4} + \\frac{i \\gamma_{1} \\gamma_{3}}{4}$"
      ],
      "text/plain": [
       "1/4 + \\gamma_0*\\gamma_1*\\gamma_2*\\gamma_3/4 + I*\\gamma_0*\\gamma_2/4 + I*\\gamma_1*\\gamma_3/4"
      ]
     },
     "execution_count": 117,
     "metadata": {},
     "output_type": "execute_result"
    }
   ],
   "source": [
    "recursiveapply((bell_0011_c.subs(c2g)).expand().subs(selfadjoint),normalorder2)\n"
   ]
  },
  {
   "cell_type": "code",
   "execution_count": 132,
   "metadata": {},
   "outputs": [
    {
     "data": {
      "text/latex": [
       "$\\displaystyle \\frac{1}{4} + \\frac{\\gamma_{0} \\gamma_{1} \\gamma_{2} \\gamma_{3}}{4} + \\frac{i \\gamma_{0} \\gamma_{2}}{4} + \\frac{i \\gamma_{1} \\gamma_{3}}{4}$"
      ],
      "text/plain": [
       "1/4 + \\gamma_0*\\gamma_1*\\gamma_2*\\gamma_3/4 + I*\\gamma_0*\\gamma_2/4 + I*\\gamma_1*\\gamma_3/4"
      ]
     },
     "execution_count": 132,
     "metadata": {},
     "output_type": "execute_result"
    }
   ],
   "source": [
    "recursiveapply((bell_0110_c.subs(c2g)).expand().subs(selfadjoint),normalorder2)"
   ]
  },
  {
   "cell_type": "code",
   "execution_count": 124,
   "metadata": {},
   "outputs": [
    {
     "data": {
      "text/latex": [
       "$\\displaystyle \\frac{1}{4} + \\frac{\\gamma_{0} \\gamma_{1} \\gamma_{2} \\gamma_{3}}{4} + \\frac{i \\gamma_{0} \\gamma_{2}}{4} + \\frac{i \\gamma_{1} \\gamma_{3}}{4}$"
      ],
      "text/plain": [
       "1/4 + \\gamma_0*\\gamma_1*\\gamma_2*\\gamma_3/4 + I*\\gamma_0*\\gamma_2/4 + I*\\gamma_1*\\gamma_3/4"
      ]
     },
     "execution_count": 124,
     "metadata": {},
     "output_type": "execute_result"
    }
   ],
   "source": [
    "recursiveapply((((1+I*g[0]*g[2])/2 * (1+I*g[1]*g[3])/2).expand()),normalorder2)"
   ]
  },
  {
   "cell_type": "code",
   "execution_count": 89,
   "metadata": {},
   "outputs": [
    {
     "data": {
      "text/latex": [
       "$\\displaystyle \\frac{1}{4} + \\frac{\\gamma_{0} \\gamma_{1} \\gamma_{2} \\gamma_{3}}{4} + \\frac{i \\gamma_{0} \\gamma_{2}}{4} + \\frac{i \\gamma_{1} \\gamma_{3}}{4}$"
      ],
      "text/plain": [
       "1/4 + \\gamma_0*\\gamma_1*\\gamma_2*\\gamma_3/4 + I*\\gamma_0*\\gamma_2/4 + I*\\gamma_1*\\gamma_3/4"
      ]
     },
     "execution_count": 89,
     "metadata": {},
     "output_type": "execute_result"
    }
   ],
   "source": [
    "recursiveapply(((1+I*g[1]*g[3])/2 * (1+I*g[0]*g[2])/2 ).expand(),normalorder2)"
   ]
  },
  {
   "cell_type": "code",
   "execution_count": 42,
   "metadata": {},
   "outputs": [
    {
     "data": {
      "text/latex": [
       "$\\displaystyle \\frac{1}{4} + \\frac{i \\gamma_{0} \\gamma_{1}}{4} - \\frac{\\gamma_{0} \\gamma_{1} \\gamma_{2} \\gamma_{3}}{4} + \\frac{i \\gamma_{2} \\gamma_{3}}{4}$"
      ],
      "text/plain": [
       "1/4 + I*\\gamma_0*\\gamma_1/4 - \\gamma_0*\\gamma_1*\\gamma_2*\\gamma_3/4 + I*\\gamma_2*\\gamma_3/4"
      ]
     },
     "execution_count": 42,
     "metadata": {},
     "output_type": "execute_result"
    }
   ],
   "source": [
    "((1+I*g[0]*g[1])/2 * (1+I*g[2]*g[3])/2).expand()"
   ]
  },
  {
   "cell_type": "code",
   "execution_count": 93,
   "metadata": {},
   "outputs": [
    {
     "data": {
      "text/latex": [
       "$\\displaystyle \\frac{c_{0}^{\\dagger} c_{0}}{2} + \\frac{i c_{0}^{\\dagger} c_{1}}{2} + c_{1}^{\\dagger} c_{0}^{\\dagger} c_{1} c_{0} - \\frac{i c_{1}^{\\dagger} c_{0}}{2} + \\frac{c_{1}^{\\dagger} c_{1}}{2}$"
      ],
      "text/plain": [
       "Dagger(c_0)*c_0/2 + I*Dagger(c_0)*c_1/2 + Dagger(c_1)*Dagger(c_0)*c_1*c_0 - I*Dagger(c_1)*c_0/2 + Dagger(c_1)*c_1/2"
      ]
     },
     "execution_count": 93,
     "metadata": {},
     "output_type": "execute_result"
    }
   ],
   "source": [
    "recursiveapply(recursiveapply((((1+I*g[0]*g[2])/2 * (1+I*g[1]*g[3])/2).expand()),normalorder2).subs(g2c).expand(),normalorder2_C)"
   ]
  },
  {
   "cell_type": "markdown",
   "metadata": {},
   "source": [
    "# 2+1D class DIII -> 2D class D"
   ]
  },
  {
   "cell_type": "code",
   "execution_count": 15,
   "metadata": {},
   "outputs": [
    {
     "data": {
      "text/latex": [
       "$\\displaystyle \\frac{i \\gamma_{2} \\gamma_{0}}{2} - \\frac{i \\gamma_{3} \\gamma_{1}}{2}$"
      ],
      "text/plain": [
       "I*\\gamma_2*\\gamma_0/2 - I*\\gamma_3*\\gamma_1/2"
      ]
     },
     "execution_count": 15,
     "metadata": {},
     "output_type": "execute_result"
    }
   ],
   "source": [
    "(I*Dagger(c[1])*Dagger(c[0]) +I * c[1]*c[0]).subs(c2g).subs(selfadjoint).expand()"
   ]
  },
  {
   "cell_type": "code",
   "execution_count": 16,
   "metadata": {},
   "outputs": [
    {
     "data": {
      "text/latex": [
       "$\\displaystyle \\frac{i \\gamma_{2} \\gamma_{1}}{2} + \\frac{i \\gamma_{3} \\gamma_{0}}{2}$"
      ],
      "text/plain": [
       "I*\\gamma_2*\\gamma_1/2 + I*\\gamma_3*\\gamma_0/2"
      ]
     },
     "execution_count": 16,
     "metadata": {},
     "output_type": "execute_result"
    }
   ],
   "source": [
    "(Dagger(c[1])*Dagger(c[0]) - c[1]*c[0]).subs(c2g).subs(selfadjoint).expand()"
   ]
  },
  {
   "cell_type": "code",
   "execution_count": 17,
   "metadata": {},
   "outputs": [
    {
     "data": {
      "text/latex": [
       "$\\displaystyle - \\frac{i \\gamma_{0} \\gamma_{3}}{2} + \\frac{i \\gamma_{1} \\gamma_{2}}{2}$"
      ],
      "text/plain": [
       "-I*\\gamma_0*\\gamma_3/2 + I*\\gamma_1*\\gamma_2/2"
      ]
     },
     "execution_count": 17,
     "metadata": {},
     "output_type": "execute_result"
    }
   ],
   "source": [
    "recursiveapply((Dagger(c[1])*c[0] + Dagger(c[0])*c[1]).subs(c2g).subs(selfadjoint).expand(),normalorder2)"
   ]
  },
  {
   "cell_type": "code",
   "execution_count": 18,
   "metadata": {},
   "outputs": [
    {
     "data": {
      "text/latex": [
       "$\\displaystyle - \\frac{i \\gamma_{0} \\gamma_{3}}{2} + \\frac{i \\gamma_{1} \\gamma_{2}}{2}$"
      ],
      "text/plain": [
       "-I*\\gamma_0*\\gamma_3/2 + I*\\gamma_1*\\gamma_2/2"
      ]
     },
     "execution_count": 18,
     "metadata": {},
     "output_type": "execute_result"
    }
   ],
   "source": [
    "recursiveapply((Dagger(c[1])*c[0] + Dagger(c[0])*c[1]).subs(c2g).subs(selfadjoint).expand(),normalorder2)"
   ]
  },
  {
   "cell_type": "code",
   "execution_count": 19,
   "metadata": {},
   "outputs": [
    {
     "data": {
      "text/latex": [
       "$\\displaystyle \\frac{1}{2} - \\frac{i \\gamma_{0} \\gamma_{1}}{2}$"
      ],
      "text/plain": [
       "1/2 - I*\\gamma_0*\\gamma_1/2"
      ]
     },
     "execution_count": 19,
     "metadata": {},
     "output_type": "execute_result"
    }
   ],
   "source": [
    "recursiveapply((Dagger(c[0])*c[0] ).subs(c2g).subs(selfadjoint).expand(),normalorder2)"
   ]
  },
  {
   "cell_type": "markdown",
   "metadata": {},
   "source": [
    "# 1D Kitaev chain"
   ]
  },
  {
   "cell_type": "code",
   "execution_count": 45,
   "metadata": {},
   "outputs": [],
   "source": [
    "P11=c[0]*Dagger(c[0])/2+(c[1]*Dagger(c[0])+c[0]*Dagger(c[1]))/4"
   ]
  },
  {
   "cell_type": "code",
   "execution_count": 46,
   "metadata": {},
   "outputs": [],
   "source": [
    "P22=Dagger(c[0])*(c[0])/2-(Dagger(c[1])*(c[0])+Dagger(c[0])*(c[1]))/4"
   ]
  },
  {
   "cell_type": "code",
   "execution_count": 47,
   "metadata": {},
   "outputs": [],
   "source": [
    "# -(c[0]*c[1]-c[1]*c[0])/4\n",
    "P12=- c[0] * c[1]/2"
   ]
  },
  {
   "cell_type": "code",
   "execution_count": 48,
   "metadata": {},
   "outputs": [],
   "source": [
    "P21=- Dagger(c[1]) * Dagger(c[0])/2"
   ]
  },
  {
   "cell_type": "code",
   "execution_count": 56,
   "metadata": {},
   "outputs": [],
   "source": [
    "Ptotal=recursiveapply(P11+P22+P12+P21,normalorder2_C)"
   ]
  },
  {
   "cell_type": "code",
   "execution_count": 58,
   "metadata": {},
   "outputs": [
    {
     "data": {
      "text/latex": [
       "$\\displaystyle \\frac{1}{2} - \\frac{c_{0}^{\\dagger} c_{1}}{2} - \\frac{c_{1}^{\\dagger} c_{0}^{\\dagger}}{2} - \\frac{c_{1}^{\\dagger} c_{0}}{2} + \\frac{c_{1} c_{0}}{2}$"
      ],
      "text/plain": [
       "1/2 - Dagger(c_0)*c_1/2 - Dagger(c_1)*Dagger(c_0)/2 - Dagger(c_1)*c_0/2 + c_1*c_0/2"
      ]
     },
     "execution_count": 58,
     "metadata": {},
     "output_type": "execute_result"
    }
   ],
   "source": [
    "Ptotal"
   ]
  },
  {
   "cell_type": "code",
   "execution_count": null,
   "metadata": {},
   "outputs": [],
   "source": [
    "-(Dagger(c[1])*Dagger(c[0])-Dagger(c[0])*Dagger(c[1]))"
   ]
  },
  {
   "cell_type": "code",
   "execution_count": 30,
   "metadata": {},
   "outputs": [
    {
     "data": {
      "text/latex": [
       "$\\displaystyle \\frac{1}{4} + \\frac{i \\gamma_{0} \\gamma_{1}}{4} + \\frac{i \\gamma_{0} \\gamma_{3}}{8} - \\frac{i \\gamma_{1} \\gamma_{2}}{8}$"
      ],
      "text/plain": [
       "1/4 + I*\\gamma_0*\\gamma_1/4 + I*\\gamma_0*\\gamma_3/8 - I*\\gamma_1*\\gamma_2/8"
      ]
     },
     "execution_count": 30,
     "metadata": {},
     "output_type": "execute_result"
    }
   ],
   "source": [
    "recursiveapply((c[0]*Dagger(c[0])/2+(c[1]*Dagger(c[0])+c[0]*Dagger(c[1]))/4).subs(c2g).subs(selfadjoint).expand(), normalorder2)"
   ]
  },
  {
   "cell_type": "code",
   "execution_count": 32,
   "metadata": {},
   "outputs": [
    {
     "data": {
      "text/latex": [
       "$\\displaystyle \\frac{1}{4} - \\frac{i \\gamma_{0} \\gamma_{1}}{4} + \\frac{i \\gamma_{0} \\gamma_{3}}{8} - \\frac{i \\gamma_{1} \\gamma_{2}}{8}$"
      ],
      "text/plain": [
       "1/4 - I*\\gamma_0*\\gamma_1/4 + I*\\gamma_0*\\gamma_3/8 - I*\\gamma_1*\\gamma_2/8"
      ]
     },
     "execution_count": 32,
     "metadata": {},
     "output_type": "execute_result"
    }
   ],
   "source": [
    "recursiveapply((\n",
    "    Dagger(c[0])*(c[0])/2-(Dagger(c[1])*(c[0])+Dagger(c[0])*(c[1]))/4\n",
    ").subs(c2g).subs(selfadjoint).expand(), normalorder2)"
   ]
  },
  {
   "cell_type": "code",
   "execution_count": 42,
   "metadata": {},
   "outputs": [
    {
     "data": {
      "text/latex": [
       "$\\displaystyle - \\frac{\\gamma_{0} \\gamma_{2}}{8} + \\frac{i \\gamma_{0} \\gamma_{3}}{8} + \\frac{i \\gamma_{1} \\gamma_{2}}{8} + \\frac{\\gamma_{1} \\gamma_{3}}{8}$"
      ],
      "text/plain": [
       "-\\gamma_0*\\gamma_2/8 + I*\\gamma_0*\\gamma_3/8 + I*\\gamma_1*\\gamma_2/8 + \\gamma_1*\\gamma_3/8"
      ]
     },
     "execution_count": 42,
     "metadata": {},
     "output_type": "execute_result"
    }
   ],
   "source": [
    "recursiveapply((\n",
    "    # -(c[0]*c[1]-c[1]*c[0])/4\n",
    "    - c[0] * c[1]/2\n",
    ").subs(c2g).subs(selfadjoint).expand(), normalorder2)"
   ]
  },
  {
   "cell_type": "code",
   "execution_count": 44,
   "metadata": {},
   "outputs": [
    {
     "data": {
      "text/latex": [
       "$\\displaystyle \\frac{\\gamma_{0} \\gamma_{2}}{8} + \\frac{i \\gamma_{0} \\gamma_{3}}{8} + \\frac{i \\gamma_{1} \\gamma_{2}}{8} - \\frac{\\gamma_{1} \\gamma_{3}}{8}$"
      ],
      "text/plain": [
       "\\gamma_0*\\gamma_2/8 + I*\\gamma_0*\\gamma_3/8 + I*\\gamma_1*\\gamma_2/8 - \\gamma_1*\\gamma_3/8"
      ]
     },
     "execution_count": 44,
     "metadata": {},
     "output_type": "execute_result"
    }
   ],
   "source": [
    "recursiveapply((\n",
    "    - Dagger(c[1]) * Dagger(c[0])/2\n",
    ").subs(c2g).subs(selfadjoint).expand(), normalorder2)"
   ]
  },
  {
   "cell_type": "code",
   "execution_count": 57,
   "metadata": {},
   "outputs": [
    {
     "data": {
      "text/latex": [
       "$\\displaystyle \\frac{1}{2} + \\frac{i \\gamma_{0} \\gamma_{3}}{2}$"
      ],
      "text/plain": [
       "1/2 + I*\\gamma_0*\\gamma_3/2"
      ]
     },
     "execution_count": 57,
     "metadata": {},
     "output_type": "execute_result"
    }
   ],
   "source": [
    "recursiveapply((\n",
    "    Ptotal\n",
    ").subs(c2g).subs(selfadjoint).expand(), normalorder2)"
   ]
  },
  {
   "cell_type": "code",
   "execution_count": null,
   "metadata": {},
   "outputs": [],
   "source": []
  },
  {
   "cell_type": "code",
   "execution_count": 23,
   "metadata": {},
   "outputs": [
    {
     "data": {
      "text/latex": [
       "$\\displaystyle \\frac{1}{2} + \\frac{i \\gamma_{0} \\gamma_{1}}{2}$"
      ],
      "text/plain": [
       "1/2 + I*\\gamma_0*\\gamma_1/2"
      ]
     },
     "execution_count": 23,
     "metadata": {},
     "output_type": "execute_result"
    }
   ],
   "source": [
    "recursiveapply((c[0]*Dagger(c[0])).subs(c2g).subs(selfadjoint).expand(),normalorder2)"
   ]
  },
  {
   "cell_type": "code",
   "execution_count": null,
   "metadata": {},
   "outputs": [
    {
     "data": {
      "text/latex": [
       "$\\displaystyle - \\frac{c_{0}^{\\dagger} c_{1} + c_{1}^{\\dagger} c_{0}}{4} + \\frac{c_{0}^{\\dagger} c_{0}}{2}$"
      ],
      "text/plain": [
       "-(Dagger(c_0)*c_1 + Dagger(c_1)*c_0)/4 + Dagger(c_0)*c_0/2"
      ]
     },
     "metadata": {},
     "output_type": "display_data"
    }
   ],
   "source": [
    "Dagger(c[0])*(c[0])/2-(Dagger(c[1])*(c[0])+Dagger(c[0])*(c[1]))/4"
   ]
  },
  {
   "cell_type": "code",
   "execution_count": null,
   "metadata": {},
   "outputs": [],
   "source": []
  },
  {
   "cell_type": "markdown",
   "metadata": {},
   "source": [
    "# 1D SSH"
   ]
  },
  {
   "cell_type": "code",
   "execution_count": 69,
   "metadata": {},
   "outputs": [
    {
     "data": {
      "text/latex": [
       "$\\displaystyle \\left(c_{0} - c_{1}\\right) \\left(c_{0}^{\\dagger} - c_{1}^{\\dagger}\\right)$"
      ],
      "text/plain": [
       "(c_0 - c_1)*(Dagger(c_0) - Dagger(c_1))"
      ]
     },
     "execution_count": 69,
     "metadata": {},
     "output_type": "execute_result"
    }
   ],
   "source": []
  },
  {
   "cell_type": "code",
   "execution_count": 72,
   "metadata": {},
   "outputs": [
    {
     "data": {
      "text/latex": [
       "$\\displaystyle c_{0}^{\\dagger} c_{0} - c_{0}^{\\dagger} c_{1} + 2 c_{1}^{\\dagger} c_{0}^{\\dagger} c_{1} c_{0} - c_{1}^{\\dagger} c_{0} + c_{1}^{\\dagger} c_{1}$"
      ],
      "text/plain": [
       "Dagger(c_0)*c_0 - Dagger(c_0)*c_1 + 2*Dagger(c_1)*Dagger(c_0)*c_1*c_0 - Dagger(c_1)*c_0 + Dagger(c_1)*c_1"
      ]
     },
     "execution_count": 72,
     "metadata": {},
     "output_type": "execute_result"
    }
   ],
   "source": [
    "recursiveapply(((Dagger(c[0])-Dagger(c[1]) ) * ((c[0])-(c[1]) )* Dagger(((c[0])-(c[1]) )) * ((c[0])+(c[1]) )* Dagger(((c[0])+(c[1]) )) * (c[0]-c[1])/4).expand(),normalorder2_C)"
   ]
  },
  {
   "cell_type": "code",
   "execution_count": 64,
   "metadata": {},
   "outputs": [
    {
     "data": {
      "text/latex": [
       "$\\displaystyle c_{0}^{\\dagger} c_{0} - c_{0}^{\\dagger} c_{1} + 2 c_{1}^{\\dagger} c_{0}^{\\dagger} c_{1} c_{0} - c_{1}^{\\dagger} c_{0} + c_{1}^{\\dagger} c_{1}$"
      ],
      "text/plain": [
       "Dagger(c_0)*c_0 - Dagger(c_0)*c_1 + 2*Dagger(c_1)*Dagger(c_0)*c_1*c_0 - Dagger(c_1)*c_0 + Dagger(c_1)*c_1"
      ]
     },
     "execution_count": 64,
     "metadata": {},
     "output_type": "execute_result"
    }
   ],
   "source": [
    "recursiveapply(((Dagger(c[0])-Dagger(c[1]) ) * c[0]*Dagger(c[0])*c[1]*Dagger(c[1]) * (c[0]-c[1])).expand(),normalorder2_C)"
   ]
  },
  {
   "cell_type": "code",
   "execution_count": 65,
   "metadata": {},
   "outputs": [
    {
     "data": {
      "text/latex": [
       "$\\displaystyle c_{0}^{\\dagger} c_{0} - c_{0}^{\\dagger} c_{1} + 2 c_{1}^{\\dagger} c_{0}^{\\dagger} c_{1} c_{0} - c_{1}^{\\dagger} c_{0} + c_{1}^{\\dagger} c_{1}$"
      ],
      "text/plain": [
       "Dagger(c_0)*c_0 - Dagger(c_0)*c_1 + 2*Dagger(c_1)*Dagger(c_0)*c_1*c_0 - Dagger(c_1)*c_0 + Dagger(c_1)*c_1"
      ]
     },
     "execution_count": 65,
     "metadata": {},
     "output_type": "execute_result"
    }
   ],
   "source": [
    "recursiveapply(((Dagger(c[0])-Dagger(c[1]) ) * c[0]*Dagger(c[0])*c[1]*Dagger(c[1]) * (c[0]-c[1])).subs({c[0]:Dagger(c[0]),c[1]:-Dagger(c[1])},simultaneous=True).expand(),normalorder2_C)"
   ]
  },
  {
   "cell_type": "code",
   "execution_count": null,
   "metadata": {},
   "outputs": [],
   "source": [
    "subs"
   ]
  },
  {
   "cell_type": "markdown",
   "metadata": {},
   "source": [
    "## Charge transfer"
   ]
  },
  {
   "cell_type": "code",
   "execution_count": 139,
   "metadata": {},
   "outputs": [
    {
     "data": {
      "text/plain": [
       "[(c_xi, (\\xi_0 - I*\\xi_1)/2),\n",
       " (c_eta, (\\eta_0 - I*\\eta_1)/2),\n",
       " (c_g, (\\gamma_0 - I*\\gamma_1)/2),\n",
       " (Dagger(c_xi), (\\xi_0 + I*\\xi_1)/2),\n",
       " (Dagger(c_eta), (\\eta_0 + I*\\eta_1)/2),\n",
       " (Dagger(c_g), (\\gamma_0 + I*\\gamma_1)/2),\n",
       " (c_0, (\\gamma_0 - I*\\gamma_1)/2),\n",
       " (c_1, (\\gamma_2 - I*\\gamma_3)/2)]"
      ]
     },
     "execution_count": 139,
     "metadata": {},
     "output_type": "execute_result"
    }
   ],
   "source": [
    "c2g"
   ]
  },
  {
   "cell_type": "code",
   "execution_count": 138,
   "metadata": {},
   "outputs": [
    {
     "data": {
      "text/plain": [
       "{'xi': c_xi,\n",
       " 'eta': c_eta,\n",
       " 'g': c_g,\n",
       " 0: c_0,\n",
       " 1: c_1,\n",
       " 2: c_2,\n",
       " 3: c_3,\n",
       " '+': sqrt(2)*(c_0 + c_1)/2,\n",
       " '-': sqrt(2)*(c_0 - c_1)/2}"
      ]
     },
     "execution_count": 138,
     "metadata": {},
     "output_type": "execute_result"
    }
   ],
   "source": [
    "c"
   ]
  },
  {
   "cell_type": "code",
   "execution_count": 108,
   "metadata": {},
   "outputs": [],
   "source": [
    "c['+t'] = (c[0]+c[1])/sqrt(2)\n",
    "c['-t'] = (c[0]-c[1])/sqrt(2)\n",
    "\n",
    "c['+b'] = (c[2]+c[3])/sqrt(2)\n",
    "c['-b'] = (c[2]-c[3])/sqrt(2)\n",
    "\n",
    "# c['bA']\n"
   ]
  },
  {
   "cell_type": "code",
   "execution_count": 109,
   "metadata": {},
   "outputs": [],
   "source": [
    "# op= Dagger(c[0])*c[1]\n",
    "# op= Dagger(c[1])*c[0]\n",
    "\n",
    "op = Dagger(c['-t']) * c['+t']* Dagger(c['+t'])\n",
    "# Dagger(c['-t']) \n",
    "# * (c[2])\n",
    "\n",
    "\n",
    "# op_m = Dagger(c['-t'])* c['-t'] *  c['+t'] * Dagger(c['+t'])\n",
    "\n",
    "# op_p = Dagger(c['+t'])* c['+t'] *  c['-t'] * Dagger(c['-t'])\n",
    "\n",
    "# * c['+t'] * Dagger(c['+t'])\n",
    "\n",
    "# op = Dagger(c['+t']) * c['+t'] * c['-t'] * Dagger(c['-t'])\n",
    "\n",
    "# op = Dagger(c['-t']) * c['+t']*Dagger(c['+t']) * c['+b']*Dagger(c['+b']) * (c['-b'])"
   ]
  },
  {
   "cell_type": "code",
   "execution_count": 128,
   "metadata": {},
   "outputs": [],
   "source": [
    "# op= Dagger(c[0]-c[1])*(c[0]-c[1])/2"
   ]
  },
  {
   "cell_type": "code",
   "execution_count": 110,
   "metadata": {},
   "outputs": [],
   "source": [
    "op_g = recursiveapply(op.subs(c2g).subs(selfadjoint).expand(),normalorder2)"
   ]
  },
  {
   "cell_type": "code",
   "execution_count": 111,
   "metadata": {},
   "outputs": [
    {
     "data": {
      "text/latex": [
       "$\\displaystyle \\frac{\\sqrt{2} \\gamma_{0}}{8} - \\frac{\\sqrt{2} i \\gamma_{0} \\gamma_{1} \\gamma_{2}}{8} + \\frac{\\sqrt{2} \\gamma_{0} \\gamma_{1} \\gamma_{3}}{8} + \\frac{\\sqrt{2} i \\gamma_{0} \\gamma_{2} \\gamma_{3}}{8} + \\frac{\\sqrt{2} i \\gamma_{1}}{8} - \\frac{\\sqrt{2} \\gamma_{1} \\gamma_{2} \\gamma_{3}}{8} - \\frac{\\sqrt{2} \\gamma_{2}}{8} - \\frac{\\sqrt{2} i \\gamma_{3}}{8}$"
      ],
      "text/plain": [
       "sqrt(2)*\\gamma_0/8 - sqrt(2)*I*\\gamma_0*\\gamma_1*\\gamma_2/8 + sqrt(2)*\\gamma_0*\\gamma_1*\\gamma_3/8 + sqrt(2)*I*\\gamma_0*\\gamma_2*\\gamma_3/8 + sqrt(2)*I*\\gamma_1/8 - sqrt(2)*\\gamma_1*\\gamma_2*\\gamma_3/8 - sqrt(2)*\\gamma_2/8 - sqrt(2)*I*\\gamma_3/8"
      ]
     },
     "execution_count": 111,
     "metadata": {},
     "output_type": "execute_result"
    }
   ],
   "source": [
    "op_g"
   ]
  },
  {
   "cell_type": "code",
   "execution_count": 112,
   "metadata": {},
   "outputs": [],
   "source": [
    "op_K=op_g.subs(gamma_xi)"
   ]
  },
  {
   "cell_type": "code",
   "execution_count": 113,
   "metadata": {},
   "outputs": [
    {
     "data": {
      "text/latex": [
       "$\\displaystyle \\frac{\\sqrt{2} \\xi_{0}}{8} - \\frac{\\sqrt{2} i \\xi_{0} \\xi_{1} \\xi_{2}}{8} + \\frac{\\sqrt{2} \\xi_{0} \\xi_{1} \\xi_{3}}{8} + \\frac{\\sqrt{2} i \\xi_{0} \\xi_{2} \\xi_{3}}{8} + \\frac{\\sqrt{2} i \\xi_{1}}{8} - \\frac{\\sqrt{2} \\xi_{1} \\xi_{2} \\xi_{3}}{8} - \\frac{\\sqrt{2} \\xi_{2}}{8} - \\frac{\\sqrt{2} i \\xi_{3}}{8}$"
      ],
      "text/plain": [
       "sqrt(2)*\\xi_0/8 - sqrt(2)*I*\\xi_0*\\xi_1*\\xi_2/8 + sqrt(2)*\\xi_0*\\xi_1*\\xi_3/8 + sqrt(2)*I*\\xi_0*\\xi_2*\\xi_3/8 + sqrt(2)*I*\\xi_1/8 - sqrt(2)*\\xi_1*\\xi_2*\\xi_3/8 - sqrt(2)*\\xi_2/8 - sqrt(2)*I*\\xi_3/8"
      ]
     },
     "execution_count": 113,
     "metadata": {},
     "output_type": "execute_result"
    }
   ],
   "source": [
    "op_K"
   ]
  },
  {
   "cell_type": "code",
   "execution_count": 44,
   "metadata": {},
   "outputs": [],
   "source": [
    "rho_epr2=rho_EPR0(eta[0],xi[0]) * rho_EPR0(eta[1],xi[1]) "
   ]
  },
  {
   "cell_type": "code",
   "execution_count": 114,
   "metadata": {},
   "outputs": [],
   "source": [
    "rho_epr4=rho_EPR0(eta[0],xi[0]) * rho_EPR0(eta[1],xi[1]) * rho_EPR0(eta[2],xi[2]) * rho_EPR0(eta[3],xi[3])"
   ]
  },
  {
   "cell_type": "code",
   "execution_count": 115,
   "metadata": {},
   "outputs": [],
   "source": [
    "rho_epr6=rho_EPR0(eta[0],xi[0]) * rho_EPR0(eta[1],xi[1]) * rho_EPR0(eta[2],xi[2]) * rho_EPR0(eta[3],xi[3]) * rho_EPR0(eta[4],xi[4]) * rho_EPR0(eta[5],xi[5]) "
   ]
  },
  {
   "cell_type": "code",
   "execution_count": 232,
   "metadata": {},
   "outputs": [],
   "source": [
    "rho_epr8=rho_EPR0(eta[0],xi[0]) * rho_EPR0(eta[1],xi[1]) * rho_EPR0(eta[2],xi[2]) * rho_EPR0(eta[3],xi[3]) * rho_EPR0(eta[4],xi[4]) * rho_EPR0(eta[5],xi[5]) * rho_EPR0(eta[6],xi[6]) * rho_EPR0(eta[7],xi[7])"
   ]
  },
  {
   "cell_type": "code",
   "execution_count": 61,
   "metadata": {},
   "outputs": [],
   "source": [
    "op_dm=recursiveapply(( op_K* rho_epr2 * Dagger(op_K)).expand().subs(selfadjoint),normalorder2)"
   ]
  },
  {
   "cell_type": "code",
   "execution_count": null,
   "metadata": {},
   "outputs": [],
   "source": [
    "op_dm=recursiveapply(( op_K* rho_epr4 * Dagger(op_K)).expand().subs(selfadjoint),normalorder2)"
   ]
  },
  {
   "cell_type": "code",
   "execution_count": null,
   "metadata": {},
   "outputs": [],
   "source": [
    "op_dm=recursiveapply(( op_K* rho_epr6 * Dagger(op_K)).expand().subs(selfadjoint),normalorder2)"
   ]
  },
  {
   "cell_type": "code",
   "execution_count": null,
   "metadata": {},
   "outputs": [
    {
     "data": {
      "text/latex": [
       "$\\displaystyle \\frac{1}{8} + \\frac{i \\eta_{0} \\eta_{1}}{8} + \\frac{i \\xi_{0} \\xi_{1}}{8} - \\frac{\\xi_{0} \\xi_{1} \\eta_{0} \\eta_{1}}{8}$"
      ],
      "text/plain": [
       "1/8 + I*\\eta_0*\\eta_1/8 + I*\\xi_0*\\xi_1/8 - \\xi_0*\\xi_1*\\eta_0*\\eta_1/8"
      ]
     },
     "execution_count": 62,
     "metadata": {},
     "output_type": "execute_result"
    }
   ],
   "source": [
    "op_dm"
   ]
  },
  {
   "cell_type": "code",
   "execution_count": 63,
   "metadata": {},
   "outputs": [],
   "source": [
    "def get_Gamma(op_dm,dim):\n",
    "    Gamma = zeros(2*dim, 2*dim)\n",
    "    order=[eta[i] for i in range(dim)] + [xi[i] for i in range(dim)]\n",
    "    ij_list=[(i,j) for i in range(2*dim) for j in range(i+1,2*dim)]\n",
    "\n",
    "    # op_K=op_u_g.subs(gamma_xi)\n",
    "    # op_dm=recursiveapply(( op_K* rho_epr4 * Dagger(op_K)).expand().subs(selfadjoint),normalorder2)\n",
    "    for i,j in tqdm(ij_list):\n",
    "            rs=I*order[i]*order[j]*( op_dm)\n",
    "            matel=recursiveapply(rs.expand(),normalorder2).subs(constant_only)*16\n",
    "            matel=matel.simplify()\n",
    "            Gamma[i,j]=matel\n",
    "            Gamma[j,i]=-matel\n",
    "    return Gamma"
   ]
  },
  {
   "cell_type": "code",
   "execution_count": null,
   "metadata": {},
   "outputs": [
    {
     "name": "stderr",
     "output_type": "stream",
     "text": [
      "100%|██████████| 6/6 [00:06<00:00,  1.01s/it]\n"
     ]
    }
   ],
   "source": [
    "Gamma=get_Gamma(op_dm,4)"
   ]
  },
  {
   "cell_type": "code",
   "execution_count": 68,
   "metadata": {},
   "outputs": [],
   "source": [
    "Gamma_dag=Gamma_dag/2"
   ]
  },
  {
   "cell_type": "code",
   "execution_count": 69,
   "metadata": {},
   "outputs": [
    {
     "data": {
      "text/latex": [
       "$\\displaystyle \\left[\\begin{matrix}-1 & 0 & 0 & 0\\\\0 & -1 & 0 & 0\\\\0 & 0 & -1 & 0\\\\0 & 0 & 0 & -1\\end{matrix}\\right]$"
      ],
      "text/plain": [
       "Matrix([\n",
       "[-1,  0,  0,  0],\n",
       "[ 0, -1,  0,  0],\n",
       "[ 0,  0, -1,  0],\n",
       "[ 0,  0,  0, -1]])"
      ]
     },
     "execution_count": 69,
     "metadata": {},
     "output_type": "execute_result"
    }
   ],
   "source": [
    "Gamma_dag@Gamma_dag"
   ]
  },
  {
   "cell_type": "code",
   "execution_count": 64,
   "metadata": {},
   "outputs": [
    {
     "name": "stderr",
     "output_type": "stream",
     "text": [
      "100%|██████████| 6/6 [00:06<00:00,  1.02s/it]\n"
     ]
    }
   ],
   "source": [
    "Gamma_=get_Gamma(op_dm,2)"
   ]
  },
  {
   "cell_type": "code",
   "execution_count": 70,
   "metadata": {},
   "outputs": [],
   "source": [
    "Gamma_/=2"
   ]
  },
  {
   "cell_type": "code",
   "execution_count": 71,
   "metadata": {},
   "outputs": [
    {
     "data": {
      "text/latex": [
       "$\\displaystyle \\left[\\begin{matrix}-1 & 0 & 0 & 0\\\\0 & -1 & 0 & 0\\\\0 & 0 & -1 & 0\\\\0 & 0 & 0 & -1\\end{matrix}\\right]$"
      ],
      "text/plain": [
       "Matrix([\n",
       "[-1,  0,  0,  0],\n",
       "[ 0, -1,  0,  0],\n",
       "[ 0,  0, -1,  0],\n",
       "[ 0,  0,  0, -1]])"
      ]
     },
     "execution_count": 71,
     "metadata": {},
     "output_type": "execute_result"
    }
   ],
   "source": [
    "Gamma_@Gamma_"
   ]
  },
  {
   "cell_type": "code",
   "execution_count": 80,
   "metadata": {},
   "outputs": [
    {
     "data": {
      "text/latex": [
       "$\\displaystyle \\left[\\begin{matrix}0 & -1 & 0 & 0\\\\1 & 0 & 0 & 0\\\\0 & 0 & 0 & -1\\\\0 & 0 & 1 & 0\\end{matrix}\\right]$"
      ],
      "text/plain": [
       "Matrix([\n",
       "[0, -1, 0,  0],\n",
       "[1,  0, 0,  0],\n",
       "[0,  0, 0, -1],\n",
       "[0,  0, 1,  0]])"
      ]
     },
     "execution_count": 80,
     "metadata": {},
     "output_type": "execute_result"
    }
   ],
   "source": [
    "Gamma_dag"
   ]
  },
  {
   "cell_type": "code",
   "execution_count": 81,
   "metadata": {},
   "outputs": [
    {
     "data": {
      "text/latex": [
       "$\\displaystyle \\left[\\begin{matrix}0 & 1 & 0 & 0\\\\-1 & 0 & 0 & 0\\\\0 & 0 & 0 & 1\\\\0 & 0 & -1 & 0\\end{matrix}\\right]$"
      ],
      "text/plain": [
       "Matrix([\n",
       "[ 0, 1,  0, 0],\n",
       "[-1, 0,  0, 0],\n",
       "[ 0, 0,  0, 1],\n",
       "[ 0, 0, -1, 0]])"
      ]
     },
     "execution_count": 81,
     "metadata": {},
     "output_type": "execute_result"
    }
   ],
   "source": [
    "Gamma_"
   ]
  },
  {
   "cell_type": "code",
   "execution_count": 86,
   "metadata": {},
   "outputs": [
    {
     "data": {
      "text/latex": [
       "$\\displaystyle \\left[\\begin{matrix}1 & 0 & 0\\\\0 & 1 & 0\\\\0 & 0 & 1\\end{matrix}\\right]$"
      ],
      "text/plain": [
       "Matrix([\n",
       "[1, 0, 0],\n",
       "[0, 1, 0],\n",
       "[0, 0, 1]])"
      ]
     },
     "execution_count": 86,
     "metadata": {},
     "output_type": "execute_result"
    }
   ],
   "source": [
    "eye(3)"
   ]
  },
  {
   "cell_type": "code",
   "execution_count": 87,
   "metadata": {},
   "outputs": [],
   "source": [
    "Gamma_ext=zeros(8,8)\n",
    "Gamma_ext[2:4,2:4]=Gamma_[:2,:2]\n",
    "Gamma_ext[6:8,6:8]=Gamma_[2:,2:]\n",
    "Gamma_ext[:2,4:6]=eye(2)\n",
    "Gamma_ext[4:6,:2]=-eye(2)"
   ]
  },
  {
   "cell_type": "code",
   "execution_count": 89,
   "metadata": {},
   "outputs": [],
   "source": [
    "Gamma_dag_ext=zeros(8,8)\n",
    "Gamma_dag_ext[:2,:2]=Gamma_dag[:2,:2]\n",
    "Gamma_dag_ext[4:6,4:6]=Gamma_dag[2:,2:]\n",
    "Gamma_dag_ext[2:4,6:8]=eye(2)\n",
    "Gamma_dag_ext[6:8,2:4]=-eye(2)"
   ]
  },
  {
   "cell_type": "code",
   "execution_count": 88,
   "metadata": {},
   "outputs": [
    {
     "data": {
      "text/latex": [
       "$\\displaystyle \\left[\\begin{matrix}0 & 0 & 0 & 0 & 1 & 0 & 0 & 0\\\\0 & 0 & 0 & 0 & 0 & 1 & 0 & 0\\\\0 & 0 & 0 & 1 & 0 & 0 & 0 & 0\\\\0 & 0 & -1 & 0 & 0 & 0 & 0 & 0\\\\-1 & 0 & 0 & 0 & 0 & 0 & 0 & 0\\\\0 & -1 & 0 & 0 & 0 & 0 & 0 & 0\\\\0 & 0 & 0 & 0 & 0 & 0 & 0 & 1\\\\0 & 0 & 0 & 0 & 0 & 0 & -1 & 0\\end{matrix}\\right]$"
      ],
      "text/plain": [
       "Matrix([\n",
       "[ 0,  0,  0, 0, 1, 0,  0, 0],\n",
       "[ 0,  0,  0, 0, 0, 1,  0, 0],\n",
       "[ 0,  0,  0, 1, 0, 0,  0, 0],\n",
       "[ 0,  0, -1, 0, 0, 0,  0, 0],\n",
       "[-1,  0,  0, 0, 0, 0,  0, 0],\n",
       "[ 0, -1,  0, 0, 0, 0,  0, 0],\n",
       "[ 0,  0,  0, 0, 0, 0,  0, 1],\n",
       "[ 0,  0,  0, 0, 0, 0, -1, 0]])"
      ]
     },
     "execution_count": 88,
     "metadata": {},
     "output_type": "execute_result"
    }
   ],
   "source": [
    "Gamma_ext"
   ]
  },
  {
   "cell_type": "code",
   "execution_count": 90,
   "metadata": {},
   "outputs": [
    {
     "data": {
      "text/latex": [
       "$\\displaystyle \\left[\\begin{matrix}0 & -1 & 0 & 0 & 0 & 0 & 0 & 0\\\\1 & 0 & 0 & 0 & 0 & 0 & 0 & 0\\\\0 & 0 & 0 & 0 & 0 & 0 & 1 & 0\\\\0 & 0 & 0 & 0 & 0 & 0 & 0 & 1\\\\0 & 0 & 0 & 0 & 0 & -1 & 0 & 0\\\\0 & 0 & 0 & 0 & 1 & 0 & 0 & 0\\\\0 & 0 & -1 & 0 & 0 & 0 & 0 & 0\\\\0 & 0 & 0 & -1 & 0 & 0 & 0 & 0\\end{matrix}\\right]$"
      ],
      "text/plain": [
       "Matrix([\n",
       "[0, -1,  0,  0, 0,  0, 0, 0],\n",
       "[1,  0,  0,  0, 0,  0, 0, 0],\n",
       "[0,  0,  0,  0, 0,  0, 1, 0],\n",
       "[0,  0,  0,  0, 0,  0, 0, 1],\n",
       "[0,  0,  0,  0, 0, -1, 0, 0],\n",
       "[0,  0,  0,  0, 1,  0, 0, 0],\n",
       "[0,  0, -1,  0, 0,  0, 0, 0],\n",
       "[0,  0,  0, -1, 0,  0, 0, 0]])"
      ]
     },
     "execution_count": 90,
     "metadata": {},
     "output_type": "execute_result"
    }
   ],
   "source": [
    "Gamma_dag_ext"
   ]
  },
  {
   "cell_type": "code",
   "execution_count": 92,
   "metadata": {},
   "outputs": [],
   "source": [
    "Gamma_dag_Gamma=zeros(8,8)\n",
    "Gamma_dag_Gamma[:2,:2]=Gamma_dag[:2,:2]\n",
    "Gamma_dag_Gamma[4:6,4:6]=Gamma_dag[2:,2:]\n",
    "Gamma_dag_Gamma[2:4,2:4]=Gamma_[:2,:2]\n",
    "Gamma_dag_Gamma[6:8,6:8]=Gamma_[2:,2:]"
   ]
  },
  {
   "cell_type": "code",
   "execution_count": 93,
   "metadata": {},
   "outputs": [
    {
     "data": {
      "text/latex": [
       "$\\displaystyle \\left[\\begin{matrix}0 & -1 & 0 & 0 & 0 & 0 & 0 & 0\\\\1 & 0 & 0 & 0 & 0 & 0 & 0 & 0\\\\0 & 0 & 0 & 1 & 0 & 0 & 0 & 0\\\\0 & 0 & -1 & 0 & 0 & 0 & 0 & 0\\\\0 & 0 & 0 & 0 & 0 & -1 & 0 & 0\\\\0 & 0 & 0 & 0 & 1 & 0 & 0 & 0\\\\0 & 0 & 0 & 0 & 0 & 0 & 0 & 1\\\\0 & 0 & 0 & 0 & 0 & 0 & -1 & 0\\end{matrix}\\right]$"
      ],
      "text/plain": [
       "Matrix([\n",
       "[0, -1,  0, 0, 0,  0,  0, 0],\n",
       "[1,  0,  0, 0, 0,  0,  0, 0],\n",
       "[0,  0,  0, 1, 0,  0,  0, 0],\n",
       "[0,  0, -1, 0, 0,  0,  0, 0],\n",
       "[0,  0,  0, 0, 0, -1,  0, 0],\n",
       "[0,  0,  0, 0, 1,  0,  0, 0],\n",
       "[0,  0,  0, 0, 0,  0,  0, 1],\n",
       "[0,  0,  0, 0, 0,  0, -1, 0]])"
      ]
     },
     "execution_count": 93,
     "metadata": {},
     "output_type": "execute_result"
    }
   ],
   "source": [
    "Gamma_dag_Gamma"
   ]
  },
  {
   "cell_type": "code",
   "execution_count": 36,
   "metadata": {},
   "outputs": [
    {
     "name": "stderr",
     "output_type": "stream",
     "text": [
      "100%|██████████| 28/28 [07:10<00:00, 15.36s/it]\n"
     ]
    }
   ],
   "source": [
    "Gamma = zeros(8, 8)\n",
    "order=[eta[i] for i in range(4)] + [xi[i] for i in range(4)]\n",
    "ij_list=[(i,j) for i in range(8) for j in range(i+1,8)]\n",
    "\n",
    "# op_K=op_u_g.subs(gamma_xi)\n",
    "# op_dm=recursiveapply(( op_K* rho_epr4 * Dagger(op_K)).expand().subs(selfadjoint),normalorder2)\n",
    "for i,j in tqdm(ij_list):\n",
    "        rs=I*order[i]*order[j]*( op_dm)\n",
    "        matel=recursiveapply(rs.expand(),normalorder2).subs(constant_only)*16\n",
    "        matel=matel.simplify()\n",
    "        Gamma[i,j]=matel\n",
    "        Gamma[j,i]=-matel"
   ]
  },
  {
   "cell_type": "code",
   "execution_count": 38,
   "metadata": {},
   "outputs": [
    {
     "data": {
      "text/latex": [
       "$\\displaystyle \\left[\\begin{matrix}0 & -1 & 0 & 1 & 1 & 0 & 1 & 0\\\\1 & 0 & -1 & 0 & 0 & 1 & 0 & 1\\\\0 & 1 & 0 & -1 & 1 & 0 & 1 & 0\\\\-1 & 0 & 1 & 0 & 0 & 1 & 0 & 1\\\\-1 & 0 & -1 & 0 & 0 & -1 & 0 & 1\\\\0 & -1 & 0 & -1 & 1 & 0 & -1 & 0\\\\-1 & 0 & -1 & 0 & 0 & 1 & 0 & -1\\\\0 & -1 & 0 & -1 & -1 & 0 & 1 & 0\\end{matrix}\\right]$"
      ],
      "text/plain": [
       "Matrix([\n",
       "[ 0, -1,  0,  1,  1,  0,  1,  0],\n",
       "[ 1,  0, -1,  0,  0,  1,  0,  1],\n",
       "[ 0,  1,  0, -1,  1,  0,  1,  0],\n",
       "[-1,  0,  1,  0,  0,  1,  0,  1],\n",
       "[-1,  0, -1,  0,  0, -1,  0,  1],\n",
       "[ 0, -1,  0, -1,  1,  0, -1,  0],\n",
       "[-1,  0, -1,  0,  0,  1,  0, -1],\n",
       "[ 0, -1,  0, -1, -1,  0,  1,  0]])"
      ]
     },
     "execution_count": 38,
     "metadata": {},
     "output_type": "execute_result"
    }
   ],
   "source": [
    "Gamma*4"
   ]
  },
  {
   "cell_type": "code",
   "execution_count": 205,
   "metadata": {},
   "outputs": [
    {
     "data": {
      "text/latex": [
       "$\\displaystyle \\left[\\begin{matrix}0 & -1 & 0 & -1 & 1 & 0 & -1 & 0\\\\1 & 0 & 1 & 0 & 0 & 1 & 0 & -1\\\\0 & -1 & 0 & -1 & -1 & 0 & 1 & 0\\\\1 & 0 & 1 & 0 & 0 & -1 & 0 & 1\\\\-1 & 0 & 1 & 0 & 0 & 1 & 0 & 1\\\\0 & -1 & 0 & 1 & -1 & 0 & -1 & 0\\\\1 & 0 & -1 & 0 & 0 & 1 & 0 & 1\\\\0 & 1 & 0 & -1 & -1 & 0 & -1 & 0\\end{matrix}\\right]$"
      ],
      "text/plain": [
       "Matrix([\n",
       "[ 0, -1,  0, -1,  1,  0, -1,  0],\n",
       "[ 1,  0,  1,  0,  0,  1,  0, -1],\n",
       "[ 0, -1,  0, -1, -1,  0,  1,  0],\n",
       "[ 1,  0,  1,  0,  0, -1,  0,  1],\n",
       "[-1,  0,  1,  0,  0,  1,  0,  1],\n",
       "[ 0, -1,  0,  1, -1,  0, -1,  0],\n",
       "[ 1,  0, -1,  0,  0,  1,  0,  1],\n",
       "[ 0,  1,  0, -1, -1,  0, -1,  0]])"
      ]
     },
     "execution_count": 205,
     "metadata": {},
     "output_type": "execute_result"
    }
   ],
   "source": [
    "Gamma*4"
   ]
  },
  {
   "cell_type": "code",
   "execution_count": null,
   "metadata": {},
   "outputs": [],
   "source": [
    "Gamma = zeros(16, 16)\n",
    "order=[eta[i] for i in range(8)] + [xi[i] for i in range(8)]\n",
    "ij_list=[(i,j) for i in range(16) for j in range(i+1,16)]\n",
    "\n",
    "# op_K=op_u_g.subs(gamma_xi)\n",
    "# op_dm=recursiveapply(( op_K* rho_epr4 * Dagger(op_K)).expand().subs(selfadjoint),normalorder2)\n",
    "for i,j in tqdm(ij_list):\n",
    "        rs=I*order[i]*order[j]*( op_dm)\n",
    "        matel=recursiveapply(rs.expand(),normalorder2).subs(constant_only)\n",
    "        matel=matel.simplify()\n",
    "        Gamma[i,j]=matel\n",
    "        Gamma[j,i]=-matel"
   ]
  },
  {
   "cell_type": "code",
   "execution_count": null,
   "metadata": {},
   "outputs": [],
   "source": [
    "Gamma"
   ]
  },
  {
   "cell_type": "code",
   "execution_count": null,
   "metadata": {},
   "outputs": [],
   "source": []
  },
  {
   "cell_type": "code",
   "execution_count": null,
   "metadata": {},
   "outputs": [],
   "source": [
    "op_dm=recursiveapply(( op_K* rho_epr2 * Dagger(op_K)).expand().subs(selfadjoint),normalorder2)\n"
   ]
  },
  {
   "cell_type": "markdown",
   "metadata": {},
   "source": [
    "## Contraction"
   ]
  },
  {
   "cell_type": "code",
   "execution_count": null,
   "metadata": {},
   "outputs": [],
   "source": []
  },
  {
   "cell_type": "code",
   "execution_count": 217,
   "metadata": {},
   "outputs": [],
   "source": [
    "def get_Gamma(p01,p03,p12,p23):\n",
    "    Gamma=zeros(8,8)\n",
    "    Gamma[0,1]=p01\n",
    "    Gamma[0,3]=-p03\n",
    "    Gamma[1,2]=-p12\n",
    "    Gamma[2,3]=p23\n",
    "\n",
    "    Gamma[4:,4:]=-Gamma[:4,:4]\n",
    "\n",
    "    Gamma[0,4]=Gamma[1,5]=Gamma[2,6]=Gamma[3,7]=1\n",
    "    Gamma[0,6]=Gamma[1,7]=Gamma[2,4]=Gamma[3,5]=p01\n",
    "\n",
    "    return Gamma-Gamma.T\n"
   ]
  },
  {
   "cell_type": "code",
   "execution_count": 221,
   "metadata": {},
   "outputs": [],
   "source": [
    "G=get_Gamma(1,1,-1,1)/2"
   ]
  },
  {
   "cell_type": "code",
   "execution_count": 223,
   "metadata": {},
   "outputs": [
    {
     "data": {
      "text/latex": [
       "$\\displaystyle \\left[\\begin{matrix}0 & \\frac{1}{2} & 0 & - \\frac{1}{2} & \\frac{1}{2} & 0 & \\frac{1}{2} & 0\\\\- \\frac{1}{2} & 0 & \\frac{1}{2} & 0 & 0 & \\frac{1}{2} & 0 & \\frac{1}{2}\\\\0 & - \\frac{1}{2} & 0 & \\frac{1}{2} & \\frac{1}{2} & 0 & \\frac{1}{2} & 0\\\\\\frac{1}{2} & 0 & - \\frac{1}{2} & 0 & 0 & \\frac{1}{2} & 0 & \\frac{1}{2}\\\\- \\frac{1}{2} & 0 & - \\frac{1}{2} & 0 & 0 & - \\frac{1}{2} & 0 & \\frac{1}{2}\\\\0 & - \\frac{1}{2} & 0 & - \\frac{1}{2} & \\frac{1}{2} & 0 & - \\frac{1}{2} & 0\\\\- \\frac{1}{2} & 0 & - \\frac{1}{2} & 0 & 0 & \\frac{1}{2} & 0 & - \\frac{1}{2}\\\\0 & - \\frac{1}{2} & 0 & - \\frac{1}{2} & - \\frac{1}{2} & 0 & \\frac{1}{2} & 0\\end{matrix}\\right]$"
      ],
      "text/plain": [
       "Matrix([\n",
       "[   0,  1/2,    0, -1/2,  1/2,    0,  1/2,    0],\n",
       "[-1/2,    0,  1/2,    0,    0,  1/2,    0,  1/2],\n",
       "[   0, -1/2,    0,  1/2,  1/2,    0,  1/2,    0],\n",
       "[ 1/2,    0, -1/2,    0,    0,  1/2,    0,  1/2],\n",
       "[-1/2,    0, -1/2,    0,    0, -1/2,    0,  1/2],\n",
       "[   0, -1/2,    0, -1/2,  1/2,    0, -1/2,    0],\n",
       "[-1/2,    0, -1/2,    0,    0,  1/2,    0, -1/2],\n",
       "[   0, -1/2,    0, -1/2, -1/2,    0,  1/2,    0]])"
      ]
     },
     "execution_count": 223,
     "metadata": {},
     "output_type": "execute_result"
    }
   ],
   "source": [
    "get_Gamma(1,1,-1,1)/2"
   ]
  },
  {
   "cell_type": "code",
   "execution_count": 224,
   "metadata": {},
   "outputs": [
    {
     "data": {
      "text/latex": [
       "$\\displaystyle \\left[\\begin{matrix}0 & - \\frac{1}{2} & 0 & - \\frac{1}{2} & \\frac{1}{2} & 0 & - \\frac{1}{2} & 0\\\\\\frac{1}{2} & 0 & \\frac{1}{2} & 0 & 0 & \\frac{1}{2} & 0 & - \\frac{1}{2}\\\\0 & - \\frac{1}{2} & 0 & - \\frac{1}{2} & - \\frac{1}{2} & 0 & \\frac{1}{2} & 0\\\\\\frac{1}{2} & 0 & \\frac{1}{2} & 0 & 0 & - \\frac{1}{2} & 0 & \\frac{1}{2}\\\\- \\frac{1}{2} & 0 & \\frac{1}{2} & 0 & 0 & \\frac{1}{2} & 0 & \\frac{1}{2}\\\\0 & - \\frac{1}{2} & 0 & \\frac{1}{2} & - \\frac{1}{2} & 0 & - \\frac{1}{2} & 0\\\\\\frac{1}{2} & 0 & - \\frac{1}{2} & 0 & 0 & \\frac{1}{2} & 0 & \\frac{1}{2}\\\\0 & \\frac{1}{2} & 0 & - \\frac{1}{2} & - \\frac{1}{2} & 0 & - \\frac{1}{2} & 0\\end{matrix}\\right]$"
      ],
      "text/plain": [
       "Matrix([\n",
       "[   0, -1/2,    0, -1/2,  1/2,    0, -1/2,    0],\n",
       "[ 1/2,    0,  1/2,    0,    0,  1/2,    0, -1/2],\n",
       "[   0, -1/2,    0, -1/2, -1/2,    0,  1/2,    0],\n",
       "[ 1/2,    0,  1/2,    0,    0, -1/2,    0,  1/2],\n",
       "[-1/2,    0,  1/2,    0,    0,  1/2,    0,  1/2],\n",
       "[   0, -1/2,    0,  1/2, -1/2,    0, -1/2,    0],\n",
       "[ 1/2,    0, -1/2,    0,    0,  1/2,    0,  1/2],\n",
       "[   0,  1/2,    0, -1/2, -1/2,    0, -1/2,    0]])"
      ]
     },
     "execution_count": 224,
     "metadata": {},
     "output_type": "execute_result"
    }
   ],
   "source": [
    "get_Gamma(-1,1,-1,-1)/2"
   ]
  },
  {
   "cell_type": "code",
   "execution_count": 225,
   "metadata": {},
   "outputs": [
    {
     "data": {
      "text/latex": [
       "$\\displaystyle \\left[\\begin{matrix}0 & 0 & 0 & -1 & 0 & 0 & 0 & 0\\\\0 & 0 & 1 & 0 & 0 & 0 & 0 & 0\\\\0 & -1 & 0 & 0 & 0 & 0 & 0 & 0\\\\1 & 0 & 0 & 0 & 0 & 0 & 0 & 0\\\\0 & 0 & 0 & 0 & 0 & 0 & 0 & 1\\\\0 & 0 & 0 & 0 & 0 & 0 & -1 & 0\\\\0 & 0 & 0 & 0 & 0 & 1 & 0 & 0\\\\0 & 0 & 0 & 0 & -1 & 0 & 0 & 0\\end{matrix}\\right]$"
      ],
      "text/plain": [
       "Matrix([\n",
       "[0,  0, 0, -1,  0, 0,  0, 0],\n",
       "[0,  0, 1,  0,  0, 0,  0, 0],\n",
       "[0, -1, 0,  0,  0, 0,  0, 0],\n",
       "[1,  0, 0,  0,  0, 0,  0, 0],\n",
       "[0,  0, 0,  0,  0, 0,  0, 1],\n",
       "[0,  0, 0,  0,  0, 0, -1, 0],\n",
       "[0,  0, 0,  0,  0, 1,  0, 0],\n",
       "[0,  0, 0,  0, -1, 0,  0, 0]])"
      ]
     },
     "execution_count": 225,
     "metadata": {},
     "output_type": "execute_result"
    }
   ],
   "source": [
    "contraction_(get_Gamma(1,1,-1,1)/2, get_Gamma(-1,1,-1,-1)/2,4)"
   ]
  },
  {
   "cell_type": "code",
   "execution_count": 78,
   "metadata": {},
   "outputs": [
    {
     "data": {
      "text/latex": [
       "$\\displaystyle \\left[\\begin{matrix}0 & -1 & 0 & 0\\\\1 & 0 & 0 & 0\\\\0 & 0 & 0 & 1\\\\0 & 0 & -1 & 0\\end{matrix}\\right]$"
      ],
      "text/plain": [
       "Matrix([\n",
       "[0, -1,  0, 0],\n",
       "[1,  0,  0, 0],\n",
       "[0,  0,  0, 1],\n",
       "[0,  0, -1, 0]])"
      ]
     },
     "execution_count": 78,
     "metadata": {},
     "output_type": "execute_result"
    }
   ],
   "source": [
    "contraction_(Gamma_dag, Gamma_,2)"
   ]
  },
  {
   "cell_type": "code",
   "execution_count": 79,
   "metadata": {},
   "outputs": [
    {
     "data": {
      "text/latex": [
       "$\\displaystyle \\left[\\begin{matrix}0 & 1 & 0 & 0\\\\-1 & 0 & 0 & 0\\\\0 & 0 & 0 & -1\\\\0 & 0 & 1 & 0\\end{matrix}\\right]$"
      ],
      "text/plain": [
       "Matrix([\n",
       "[ 0, 1, 0,  0],\n",
       "[-1, 0, 0,  0],\n",
       "[ 0, 0, 0, -1],\n",
       "[ 0, 0, 1,  0]])"
      ]
     },
     "execution_count": 79,
     "metadata": {},
     "output_type": "execute_result"
    }
   ],
   "source": [
    "contraction_(Gamma_,Gamma_dag,2)"
   ]
  },
  {
   "cell_type": "code",
   "execution_count": 91,
   "metadata": {},
   "outputs": [
    {
     "data": {
      "text/latex": [
       "$\\displaystyle \\left[\\begin{matrix}0 & -1 & 0 & 0 & 0 & 0 & 0 & 0\\\\1 & 0 & 0 & 0 & 0 & 0 & 0 & 0\\\\0 & 0 & 0 & 1 & 0 & 0 & 0 & 0\\\\0 & 0 & -1 & 0 & 0 & 0 & 0 & 0\\\\0 & 0 & 0 & 0 & 0 & -1 & 0 & 0\\\\0 & 0 & 0 & 0 & 1 & 0 & 0 & 0\\\\0 & 0 & 0 & 0 & 0 & 0 & 0 & 1\\\\0 & 0 & 0 & 0 & 0 & 0 & -1 & 0\\end{matrix}\\right]$"
      ],
      "text/plain": [
       "Matrix([\n",
       "[0, -1,  0, 0, 0,  0,  0, 0],\n",
       "[1,  0,  0, 0, 0,  0,  0, 0],\n",
       "[0,  0,  0, 1, 0,  0,  0, 0],\n",
       "[0,  0, -1, 0, 0,  0,  0, 0],\n",
       "[0,  0,  0, 0, 0, -1,  0, 0],\n",
       "[0,  0,  0, 0, 1,  0,  0, 0],\n",
       "[0,  0,  0, 0, 0,  0,  0, 1],\n",
       "[0,  0,  0, 0, 0,  0, -1, 0]])"
      ]
     },
     "execution_count": 91,
     "metadata": {},
     "output_type": "execute_result"
    }
   ],
   "source": [
    "contraction_(Gamma_dag_ext,Gamma_ext,4)"
   ]
  },
  {
   "cell_type": "code",
   "execution_count": null,
   "metadata": {},
   "outputs": [],
   "source": []
  },
  {
   "cell_type": "markdown",
   "metadata": {},
   "source": [
    "### Test whether the Gamma matrix for different subspace is just the direct sum"
   ]
  },
  {
   "cell_type": "markdown",
   "metadata": {},
   "source": [
    "**Yes, it is just the simple direct sum of two covariance matrix**"
   ]
  },
  {
   "cell_type": "code",
   "execution_count": null,
   "metadata": {},
   "outputs": [],
   "source": []
  },
  {
   "cell_type": "code",
   "execution_count": null,
   "metadata": {},
   "outputs": [],
   "source": [
    "theta1 = Symbol('theta_1',real=True)\n",
    "theta2 = Symbol('theta_2',real=True)\n"
   ]
  },
  {
   "cell_type": "code",
   "execution_count": null,
   "metadata": {},
   "outputs": [],
   "source": []
  },
  {
   "cell_type": "code",
   "execution_count": null,
   "metadata": {},
   "outputs": [],
   "source": [
    "Upsilon_=zeros(8,8)\n",
    "Upsilon_[0,4]=Upsilon_[1,5]=cos(theta1)\n",
    "Upsilon_[1,4]=sin(theta1)\n",
    "Upsilon_[0,5]=-sin(theta1)\n",
    "Upsilon_[2,6]=Upsilon_[3,7]=cos(theta2)\n",
    "Upsilon_[3,6]=sin(theta2)\n",
    "Upsilon_[2,7]=-sin(theta2)\n",
    "Upsilon_=(Upsilon_-Upsilon_.T)"
   ]
  },
  {
   "cell_type": "code",
   "execution_count": null,
   "metadata": {},
   "outputs": [
    {
     "data": {
      "text/latex": [
       "$\\displaystyle \\left[\\begin{matrix}0 & 0 & 0 & 0 & \\cos{\\left(\\theta_{1} \\right)} & - \\sin{\\left(\\theta_{1} \\right)} & 0 & 0\\\\0 & 0 & 0 & 0 & \\sin{\\left(\\theta_{1} \\right)} & \\cos{\\left(\\theta_{1} \\right)} & 0 & 0\\\\0 & 0 & 0 & 0 & 0 & 0 & \\cos{\\left(\\theta_{2} \\right)} & - \\sin{\\left(\\theta_{2} \\right)}\\\\0 & 0 & 0 & 0 & 0 & 0 & \\sin{\\left(\\theta_{2} \\right)} & \\cos{\\left(\\theta_{2} \\right)}\\\\- \\cos{\\left(\\theta_{1} \\right)} & - \\sin{\\left(\\theta_{1} \\right)} & 0 & 0 & 0 & 0 & 0 & 0\\\\\\sin{\\left(\\theta_{1} \\right)} & - \\cos{\\left(\\theta_{1} \\right)} & 0 & 0 & 0 & 0 & 0 & 0\\\\0 & 0 & - \\cos{\\left(\\theta_{2} \\right)} & - \\sin{\\left(\\theta_{2} \\right)} & 0 & 0 & 0 & 0\\\\0 & 0 & \\sin{\\left(\\theta_{2} \\right)} & - \\cos{\\left(\\theta_{2} \\right)} & 0 & 0 & 0 & 0\\end{matrix}\\right]$"
      ],
      "text/plain": [
       "Matrix([\n",
       "[            0,             0,             0,             0, cos(theta_1), -sin(theta_1),            0,             0],\n",
       "[            0,             0,             0,             0, sin(theta_1),  cos(theta_1),            0,             0],\n",
       "[            0,             0,             0,             0,            0,             0, cos(theta_2), -sin(theta_2)],\n",
       "[            0,             0,             0,             0,            0,             0, sin(theta_2),  cos(theta_2)],\n",
       "[-cos(theta_1), -sin(theta_1),             0,             0,            0,             0,            0,             0],\n",
       "[ sin(theta_1), -cos(theta_1),             0,             0,            0,             0,            0,             0],\n",
       "[            0,             0, -cos(theta_2), -sin(theta_2),            0,             0,            0,             0],\n",
       "[            0,             0,  sin(theta_2), -cos(theta_2),            0,             0,            0,             0]])"
      ]
     },
     "metadata": {},
     "output_type": "display_data"
    }
   ],
   "source": [
    "Upsilon_"
   ]
  },
  {
   "cell_type": "code",
   "execution_count": null,
   "metadata": {},
   "outputs": [],
   "source": [
    "Upsilon_1=zeros(8,8)\n",
    "Upsilon_1[0,4]=Upsilon_1[1,5]=cos(theta1)\n",
    "Upsilon_1[1,4]=sin(theta1)\n",
    "Upsilon_1[0,5]=-sin(theta1)\n",
    "Upsilon_1[2,6]=Upsilon_1[3,7]=1\n",
    "Upsilon_1=(Upsilon_1-Upsilon_1.T)"
   ]
  },
  {
   "cell_type": "code",
   "execution_count": 101,
   "metadata": {},
   "outputs": [
    {
     "data": {
      "text/latex": [
       "$\\displaystyle \\left[\\begin{matrix}0 & 0 & 0 & 0 & \\cos{\\left(\\theta_{1} \\right)} & - \\sin{\\left(\\theta_{1} \\right)} & 0 & 0\\\\0 & 0 & 0 & 0 & \\sin{\\left(\\theta_{1} \\right)} & \\cos{\\left(\\theta_{1} \\right)} & 0 & 0\\\\0 & 0 & 0 & 0 & 0 & 0 & 1 & 0\\\\0 & 0 & 0 & 0 & 0 & 0 & 0 & 1\\\\- \\cos{\\left(\\theta_{1} \\right)} & - \\sin{\\left(\\theta_{1} \\right)} & 0 & 0 & 0 & 0 & 0 & 0\\\\\\sin{\\left(\\theta_{1} \\right)} & - \\cos{\\left(\\theta_{1} \\right)} & 0 & 0 & 0 & 0 & 0 & 0\\\\0 & 0 & -1 & 0 & 0 & 0 & 0 & 0\\\\0 & 0 & 0 & -1 & 0 & 0 & 0 & 0\\end{matrix}\\right]$"
      ],
      "text/plain": [
       "Matrix([\n",
       "[            0,             0,  0,  0, cos(theta_1), -sin(theta_1), 0, 0],\n",
       "[            0,             0,  0,  0, sin(theta_1),  cos(theta_1), 0, 0],\n",
       "[            0,             0,  0,  0,            0,             0, 1, 0],\n",
       "[            0,             0,  0,  0,            0,             0, 0, 1],\n",
       "[-cos(theta_1), -sin(theta_1),  0,  0,            0,             0, 0, 0],\n",
       "[ sin(theta_1), -cos(theta_1),  0,  0,            0,             0, 0, 0],\n",
       "[            0,             0, -1,  0,            0,             0, 0, 0],\n",
       "[            0,             0,  0, -1,            0,             0, 0, 0]])"
      ]
     },
     "execution_count": 101,
     "metadata": {},
     "output_type": "execute_result"
    }
   ],
   "source": [
    "Upsilon_1"
   ]
  },
  {
   "cell_type": "code",
   "execution_count": 105,
   "metadata": {},
   "outputs": [],
   "source": [
    "Upsilon_2=zeros(8,8)\n",
    "Upsilon_2[2,6]=Upsilon_2[3,7]=cos(theta2)\n",
    "Upsilon_2[3,6]=sin(theta2)\n",
    "Upsilon_2[2,7]=-sin(theta2)\n",
    "Upsilon_2[0,4]=Upsilon_2[1,5]=1\n",
    "Upsilon_2=(Upsilon_2-Upsilon_2.T)"
   ]
  },
  {
   "cell_type": "code",
   "execution_count": 106,
   "metadata": {},
   "outputs": [
    {
     "data": {
      "text/latex": [
       "$\\displaystyle \\left[\\begin{matrix}0 & 0 & 0 & 0 & 1 & 0 & 0 & 0\\\\0 & 0 & 0 & 0 & 0 & 1 & 0 & 0\\\\0 & 0 & 0 & 0 & 0 & 0 & \\cos{\\left(\\theta_{2} \\right)} & - \\sin{\\left(\\theta_{2} \\right)}\\\\0 & 0 & 0 & 0 & 0 & 0 & \\sin{\\left(\\theta_{2} \\right)} & \\cos{\\left(\\theta_{2} \\right)}\\\\-1 & 0 & 0 & 0 & 0 & 0 & 0 & 0\\\\0 & -1 & 0 & 0 & 0 & 0 & 0 & 0\\\\0 & 0 & - \\cos{\\left(\\theta_{2} \\right)} & - \\sin{\\left(\\theta_{2} \\right)} & 0 & 0 & 0 & 0\\\\0 & 0 & \\sin{\\left(\\theta_{2} \\right)} & - \\cos{\\left(\\theta_{2} \\right)} & 0 & 0 & 0 & 0\\end{matrix}\\right]$"
      ],
      "text/plain": [
       "Matrix([\n",
       "[ 0,  0,             0,             0, 1, 0,            0,             0],\n",
       "[ 0,  0,             0,             0, 0, 1,            0,             0],\n",
       "[ 0,  0,             0,             0, 0, 0, cos(theta_2), -sin(theta_2)],\n",
       "[ 0,  0,             0,             0, 0, 0, sin(theta_2),  cos(theta_2)],\n",
       "[-1,  0,             0,             0, 0, 0,            0,             0],\n",
       "[ 0, -1,             0,             0, 0, 0,            0,             0],\n",
       "[ 0,  0, -cos(theta_2), -sin(theta_2), 0, 0,            0,             0],\n",
       "[ 0,  0,  sin(theta_2), -cos(theta_2), 0, 0,            0,             0]])"
      ]
     },
     "execution_count": 106,
     "metadata": {},
     "output_type": "execute_result"
    }
   ],
   "source": [
    "Upsilon_2"
   ]
  },
  {
   "cell_type": "code",
   "execution_count": 107,
   "metadata": {},
   "outputs": [
    {
     "data": {
      "text/latex": [
       "$\\displaystyle \\left[\\begin{matrix}0 & 0 & 0 & 0 & 0 & 0 & 0 & 0\\\\0 & 0 & 0 & 0 & 0 & 0 & 0 & 0\\\\0 & 0 & 0 & 0 & 0 & 0 & 0 & 0\\\\0 & 0 & 0 & 0 & 0 & 0 & 0 & 0\\\\0 & 0 & 0 & 0 & 0 & 0 & 0 & 0\\\\0 & 0 & 0 & 0 & 0 & 0 & 0 & 0\\\\0 & 0 & 0 & 0 & 0 & 0 & 0 & 0\\\\0 & 0 & 0 & 0 & 0 & 0 & 0 & 0\\end{matrix}\\right]$"
      ],
      "text/plain": [
       "Matrix([\n",
       "[0, 0, 0, 0, 0, 0, 0, 0],\n",
       "[0, 0, 0, 0, 0, 0, 0, 0],\n",
       "[0, 0, 0, 0, 0, 0, 0, 0],\n",
       "[0, 0, 0, 0, 0, 0, 0, 0],\n",
       "[0, 0, 0, 0, 0, 0, 0, 0],\n",
       "[0, 0, 0, 0, 0, 0, 0, 0],\n",
       "[0, 0, 0, 0, 0, 0, 0, 0],\n",
       "[0, 0, 0, 0, 0, 0, 0, 0]])"
      ]
     },
     "execution_count": 107,
     "metadata": {},
     "output_type": "execute_result"
    }
   ],
   "source": [
    "contraction_(Upsilon_1,Upsilon_2,4) - Upsilon_"
   ]
  },
  {
   "cell_type": "code",
   "execution_count": null,
   "metadata": {},
   "outputs": [],
   "source": []
  },
  {
   "cell_type": "markdown",
   "metadata": {},
   "source": [
    "# correlated measurement"
   ]
  },
  {
   "cell_type": "code",
   "execution_count": null,
   "metadata": {},
   "outputs": [
    {
     "ename": "",
     "evalue": "",
     "output_type": "error",
     "traceback": [
      "\u001b[1;31mFailed to start the Kernel. \n",
      "\u001b[1;31mUnable to start Kernel 'base (Python 3.11.4)' due to a connection timeout. \n",
      "\u001b[1;31mView Jupyter <a href='command:jupyter.viewOutput'>log</a> for further details."
     ]
    }
   ],
   "source": [
    "a = Symbol('a',real=True)\n",
    "b = Symbol('b',real=True)"
   ]
  },
  {
   "cell_type": "code",
   "execution_count": 21,
   "metadata": {},
   "outputs": [
    {
     "data": {
      "text/latex": [
       "$\\displaystyle a^{4} + 2 i a^{3} b \\gamma_{0} \\gamma_{1} - 2 i a^{3} b \\gamma_{1} \\gamma_{2} + 2 a^{2} b^{2} + 2 i a b^{3} \\gamma_{0} \\gamma_{1} + 2 i a b^{3} \\gamma_{1} \\gamma_{2} + b^{4}$"
      ],
      "text/plain": [
       "a**4 + 2*I*a**3*b*\\gamma_0*\\gamma_1 - 2*I*a**3*b*\\gamma_1*\\gamma_2 + 2*a**2*b**2 + 2*I*a*b**3*\\gamma_0*\\gamma_1 + 2*I*a*b**3*\\gamma_1*\\gamma_2 + b**4"
      ]
     },
     "execution_count": 21,
     "metadata": {},
     "output_type": "execute_result"
    }
   ],
   "source": [
    "recursiveapply(((a + b * I*g[0]*g[1]) * (a- b* I*g[1]*g[2]) * (a- b* I*g[1]*g[2]) * (a + b * I*g[0]*g[1]) ).expand(),normalorder2)"
   ]
  },
  {
   "cell_type": "code",
   "execution_count": null,
   "metadata": {},
   "outputs": [
    {
     "ename": "",
     "evalue": "",
     "output_type": "error",
     "traceback": [
      "\u001b[1;31mFailed to start the Kernel. \n",
      "\u001b[1;31mUnable to start Kernel 'base (Python 3.11.4)' due to a connection timeout. \n",
      "\u001b[1;31mView Jupyter <a href='command:jupyter.viewOutput'>log</a> for further details."
     ]
    }
   ],
   "source": [
    "recursiveapply(((a + b * I*g[0]*g[1]) * (a+ b* I*g[1]*g[2]) * (a+ b* I*g[1]*g[2]) * (a + b * I*g[0]*g[1]) ).expand(),normalorder2)"
   ]
  },
  {
   "cell_type": "code",
   "execution_count": 19,
   "metadata": {},
   "outputs": [
    {
     "data": {
      "text/latex": [
       "$\\displaystyle a^{4} - 2 i a^{3} b \\gamma_{0} \\gamma_{1} - 2 i a^{3} b \\gamma_{1} \\gamma_{2} + 2 a^{2} b^{2} - 2 i a b^{3} \\gamma_{0} \\gamma_{1} + 2 i a b^{3} \\gamma_{1} \\gamma_{2} + b^{4}$"
      ],
      "text/plain": [
       "a**4 - 2*I*a**3*b*\\gamma_0*\\gamma_1 - 2*I*a**3*b*\\gamma_1*\\gamma_2 + 2*a**2*b**2 - 2*I*a*b**3*\\gamma_0*\\gamma_1 + 2*I*a*b**3*\\gamma_1*\\gamma_2 + b**4"
      ]
     },
     "execution_count": 19,
     "metadata": {},
     "output_type": "execute_result"
    }
   ],
   "source": [
    "recursiveapply(((a + -b * I*g[0]*g[1]) * (a+ -b* I*g[1]*g[2]) * (a+ -b* I*g[1]*g[2]) * (a + -b * I*g[0]*g[1]) ).expand(),normalorder2)"
   ]
  },
  {
   "cell_type": "code",
   "execution_count": 20,
   "metadata": {},
   "outputs": [
    {
     "data": {
      "text/latex": [
       "$\\displaystyle 2 a^{4} + 4 a^{2} b^{2} + 2 b^{4}$"
      ],
      "text/plain": [
       "2*a**4 + 4*a**2*b**2 + 2*b**4"
      ]
     },
     "execution_count": 20,
     "metadata": {},
     "output_type": "execute_result"
    }
   ],
   "source": [
    "recursiveapply(((a + b * I*g[0]*g[1]) * (a+ b* I*g[1]*g[2]) * (a+ b* I*g[1]*g[2]) * (a + b * I*g[0]*g[1]) ).expand(),normalorder2) + recursiveapply(((a + -b * I*g[0]*g[1]) * (a+ -b* I*g[1]*g[2]) * (a+ -b* I*g[1]*g[2]) * (a + -b * I*g[0]*g[1]) ).expand(),normalorder2)"
   ]
  },
  {
   "cell_type": "markdown",
   "metadata": {},
   "source": [
    "# Obs-del"
   ]
  },
  {
   "cell_type": "code",
   "execution_count": 164,
   "metadata": {},
   "outputs": [
    {
     "data": {
      "text/latex": [
       "$\\displaystyle \\frac{1}{2} - \\frac{i \\gamma_{0} \\gamma_{1}}{4} - \\frac{i \\gamma_{0} \\gamma_{3}}{4} + \\frac{i \\gamma_{1} \\gamma_{2}}{4} - \\frac{i \\gamma_{2} \\gamma_{3}}{4}$"
      ],
      "text/plain": [
       "1/2 - I*\\gamma_0*\\gamma_1/4 - I*\\gamma_0*\\gamma_3/4 + I*\\gamma_1*\\gamma_2/4 - I*\\gamma_2*\\gamma_3/4"
      ]
     },
     "execution_count": 164,
     "metadata": {},
     "output_type": "execute_result"
    }
   ],
   "source": [
    "op_plus"
   ]
  },
  {
   "cell_type": "code",
   "execution_count": 167,
   "metadata": {},
   "outputs": [
    {
     "data": {
      "text/latex": [
       "$\\displaystyle \\frac{1}{4} - \\frac{i \\gamma_{0} \\gamma_{1}}{4} - \\frac{\\gamma_{0} \\gamma_{1} \\gamma_{2} \\gamma_{3}}{4} - \\frac{i \\gamma_{2} \\gamma_{3}}{4}$"
      ],
      "text/plain": [
       "1/4 - I*\\gamma_0*\\gamma_1/4 - \\gamma_0*\\gamma_1*\\gamma_2*\\gamma_3/4 - I*\\gamma_2*\\gamma_3/4"
      ]
     },
     "execution_count": 167,
     "metadata": {},
     "output_type": "execute_result"
    }
   ],
   "source": [
    "op_pm"
   ]
  },
  {
   "cell_type": "code",
   "execution_count": null,
   "metadata": {},
   "outputs": [],
   "source": []
  }
 ],
 "metadata": {
  "kernelspec": {
   "display_name": "base",
   "language": "python",
   "name": "python3"
  },
  "language_info": {
   "codemirror_mode": {
    "name": "ipython",
    "version": 3
   },
   "file_extension": ".py",
   "mimetype": "text/x-python",
   "name": "python",
   "nbconvert_exporter": "python",
   "pygments_lexer": "ipython3",
   "version": "3.11.4"
  }
 },
 "nbformat": 4,
 "nbformat_minor": 2
}
