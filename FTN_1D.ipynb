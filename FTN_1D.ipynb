{
 "cells": [
  {
   "cell_type": "code",
   "execution_count": 2,
   "metadata": {},
   "outputs": [],
   "source": [
    "from sympy import *\n",
    "from sympy.physics.quantum import *"
   ]
  },
  {
   "cell_type": "code",
   "execution_count": 24,
   "metadata": {},
   "outputs": [],
   "source": [
    "from tqdm import tqdm"
   ]
  },
  {
   "cell_type": "code",
   "execution_count": 25,
   "metadata": {},
   "outputs": [],
   "source": [
    "from importlib import reload\n",
    "\n",
    "import FTN\n",
    "reload(FTN)\n",
    "from FTN import *"
   ]
  },
  {
   "cell_type": "markdown",
   "metadata": {},
   "source": [
    "# Charge transfer in 1D"
   ]
  },
  {
   "cell_type": "code",
   "execution_count": 28,
   "metadata": {},
   "outputs": [],
   "source": [
    "c['+t'] = (c[0]+c[1])/sqrt(2)\n",
    "c['-t'] = (c[0]-c[1])/sqrt(2)\n",
    "\n",
    "c['+b'] = (c[2]+c[3])/sqrt(2)\n",
    "c['-b'] = (c[2]-c[3])/sqrt(2)"
   ]
  },
  {
   "cell_type": "code",
   "execution_count": 30,
   "metadata": {},
   "outputs": [
    {
     "data": {
      "text/plain": [
       "{'xi': c_xi,\n",
       " 'eta': c_eta,\n",
       " 'g': c_g,\n",
       " 0: c_0,\n",
       " 1: c_1,\n",
       " 2: c_2,\n",
       " 3: c_3,\n",
       " '+t': sqrt(2)*(c_0 + c_1)/2,\n",
       " '-t': sqrt(2)*(c_0 - c_1)/2,\n",
       " '+b': sqrt(2)*(c_2 + c_3)/2,\n",
       " '-b': sqrt(2)*(c_2 - c_3)/2}"
      ]
     },
     "execution_count": 30,
     "metadata": {},
     "output_type": "execute_result"
    }
   ],
   "source": [
    "c"
   ]
  },
  {
   "cell_type": "markdown",
   "metadata": {},
   "source": [
    "## Single complex fermion operator"
   ]
  },
  {
   "cell_type": "code",
   "execution_count": 31,
   "metadata": {},
   "outputs": [],
   "source": [
    "op = Dagger(c['-t'])\n",
    "op_g = recursiveapply(op.subs(c2g).subs(selfadjoint).expand(),normalorder2)\n",
    "op_K=op_g.subs(gamma_xi)\n",
    "op_dm=recursiveapply(( op_K* rho_epr4 * Dagger(op_K)).expand().subs(selfadjoint),normalorder2)"
   ]
  },
  {
   "cell_type": "code",
   "execution_count": 32,
   "metadata": {},
   "outputs": [
    {
     "data": {
      "text/latex": [
       "$\\displaystyle \\frac{1}{32} - \\frac{i \\eta_{0} \\eta_{1}}{64} + \\frac{i \\eta_{0} \\eta_{3}}{64} - \\frac{i \\eta_{1} \\eta_{2}}{64} - \\frac{i \\eta_{2} \\eta_{3}}{64} - \\frac{i \\xi_{0} \\eta_{0}}{64} - \\frac{\\xi_{0} \\eta_{0} \\eta_{1} \\eta_{2}}{64} - \\frac{\\xi_{0} \\eta_{0} \\eta_{2} \\eta_{3}}{64} - \\frac{i \\xi_{0} \\eta_{2}}{64} - \\frac{i \\xi_{0} \\xi_{1}}{64} - \\frac{i \\xi_{0} \\xi_{1} \\eta_{0} \\eta_{1} \\eta_{2} \\eta_{3}}{64} + \\frac{\\xi_{0} \\xi_{1} \\eta_{0} \\eta_{3}}{64} - \\frac{\\xi_{0} \\xi_{1} \\eta_{1} \\eta_{2}}{64} - \\frac{\\xi_{0} \\xi_{1} \\xi_{2} \\eta_{0}}{64} + \\frac{i \\xi_{0} \\xi_{1} \\xi_{2} \\eta_{0} \\eta_{1} \\eta_{2}}{64} + \\frac{i \\xi_{0} \\xi_{1} \\xi_{2} \\eta_{0} \\eta_{2} \\eta_{3}}{64} - \\frac{\\xi_{0} \\xi_{1} \\xi_{2} \\eta_{2}}{64} - \\frac{i \\xi_{0} \\xi_{1} \\xi_{2} \\xi_{3} \\eta_{0} \\eta_{1}}{64} - \\frac{\\xi_{0} \\xi_{1} \\xi_{2} \\xi_{3} \\eta_{0} \\eta_{1} \\eta_{2} \\eta_{3}}{32} - \\frac{i \\xi_{0} \\xi_{1} \\xi_{2} \\xi_{3} \\eta_{0} \\eta_{3}}{64} + \\frac{i \\xi_{0} \\xi_{1} \\xi_{2} \\xi_{3} \\eta_{1} \\eta_{2}}{64} - \\frac{i \\xi_{0} \\xi_{1} \\xi_{2} \\xi_{3} \\eta_{2} \\eta_{3}}{64} + \\frac{i \\xi_{0} \\xi_{1} \\xi_{3} \\eta_{0} \\eta_{1} \\eta_{3}}{64} - \\frac{\\xi_{0} \\xi_{1} \\xi_{3} \\eta_{1}}{64} + \\frac{i \\xi_{0} \\xi_{1} \\xi_{3} \\eta_{1} \\eta_{2} \\eta_{3}}{64} - \\frac{\\xi_{0} \\xi_{1} \\xi_{3} \\eta_{3}}{64} - \\frac{\\xi_{0} \\xi_{2} \\xi_{3} \\eta_{0}}{64} + \\frac{i \\xi_{0} \\xi_{2} \\xi_{3} \\eta_{0} \\eta_{1} \\eta_{2}}{64} + \\frac{i \\xi_{0} \\xi_{2} \\xi_{3} \\eta_{0} \\eta_{2} \\eta_{3}}{64} - \\frac{\\xi_{0} \\xi_{2} \\xi_{3} \\eta_{2}}{64} + \\frac{i \\xi_{0} \\xi_{3}}{64} + \\frac{\\xi_{0} \\xi_{3} \\eta_{0} \\eta_{1}}{64} - \\frac{i \\xi_{0} \\xi_{3} \\eta_{0} \\eta_{1} \\eta_{2} \\eta_{3}}{64} + \\frac{\\xi_{0} \\xi_{3} \\eta_{2} \\eta_{3}}{64} - \\frac{\\xi_{1} \\eta_{0} \\eta_{1} \\eta_{3}}{64} - \\frac{i \\xi_{1} \\eta_{1}}{64} - \\frac{\\xi_{1} \\eta_{1} \\eta_{2} \\eta_{3}}{64} - \\frac{i \\xi_{1} \\eta_{3}}{64} - \\frac{i \\xi_{1} \\xi_{2}}{64} - \\frac{\\xi_{1} \\xi_{2} \\eta_{0} \\eta_{1}}{64} + \\frac{i \\xi_{1} \\xi_{2} \\eta_{0} \\eta_{1} \\eta_{2} \\eta_{3}}{64} - \\frac{\\xi_{1} \\xi_{2} \\eta_{2} \\eta_{3}}{64} + \\frac{i \\xi_{1} \\xi_{2} \\xi_{3} \\eta_{0} \\eta_{1} \\eta_{3}}{64} - \\frac{\\xi_{1} \\xi_{2} \\xi_{3} \\eta_{1}}{64} + \\frac{i \\xi_{1} \\xi_{2} \\xi_{3} \\eta_{1} \\eta_{2} \\eta_{3}}{64} - \\frac{\\xi_{1} \\xi_{2} \\xi_{3} \\eta_{3}}{64} - \\frac{i \\xi_{2} \\eta_{0}}{64} - \\frac{\\xi_{2} \\eta_{0} \\eta_{1} \\eta_{2}}{64} - \\frac{\\xi_{2} \\eta_{0} \\eta_{2} \\eta_{3}}{64} - \\frac{i \\xi_{2} \\eta_{2}}{64} - \\frac{i \\xi_{2} \\xi_{3}}{64} - \\frac{i \\xi_{2} \\xi_{3} \\eta_{0} \\eta_{1} \\eta_{2} \\eta_{3}}{64} + \\frac{\\xi_{2} \\xi_{3} \\eta_{0} \\eta_{3}}{64} - \\frac{\\xi_{2} \\xi_{3} \\eta_{1} \\eta_{2}}{64} - \\frac{\\xi_{3} \\eta_{0} \\eta_{1} \\eta_{3}}{64} - \\frac{i \\xi_{3} \\eta_{1}}{64} - \\frac{\\xi_{3} \\eta_{1} \\eta_{2} \\eta_{3}}{64} - \\frac{i \\xi_{3} \\eta_{3}}{64}$"
      ],
      "text/plain": [
       "1/32 - I*\\eta_0*\\eta_1/64 + I*\\eta_0*\\eta_3/64 - I*\\eta_1*\\eta_2/64 - I*\\eta_2*\\eta_3/64 - I*\\xi_0*\\eta_0/64 - \\xi_0*\\eta_0*\\eta_1*\\eta_2/64 - \\xi_0*\\eta_0*\\eta_2*\\eta_3/64 - I*\\xi_0*\\eta_2/64 - I*\\xi_0*\\xi_1/64 - I*\\xi_0*\\xi_1*\\eta_0*\\eta_1*\\eta_2*\\eta_3/64 + \\xi_0*\\xi_1*\\eta_0*\\eta_3/64 - \\xi_0*\\xi_1*\\eta_1*\\eta_2/64 - \\xi_0*\\xi_1*\\xi_2*\\eta_0/64 + I*\\xi_0*\\xi_1*\\xi_2*\\eta_0*\\eta_1*\\eta_2/64 + I*\\xi_0*\\xi_1*\\xi_2*\\eta_0*\\eta_2*\\eta_3/64 - \\xi_0*\\xi_1*\\xi_2*\\eta_2/64 - I*\\xi_0*\\xi_1*\\xi_2*\\xi_3*\\eta_0*\\eta_1/64 - \\xi_0*\\xi_1*\\xi_2*\\xi_3*\\eta_0*\\eta_1*\\eta_2*\\eta_3/32 - I*\\xi_0*\\xi_1*\\xi_2*\\xi_3*\\eta_0*\\eta_3/64 + I*\\xi_0*\\xi_1*\\xi_2*\\xi_3*\\eta_1*\\eta_2/64 - I*\\xi_0*\\xi_1*\\xi_2*\\xi_3*\\eta_2*\\eta_3/64 + I*\\xi_0*\\xi_1*\\xi_3*\\eta_0*\\eta_1*\\eta_3/64 - \\xi_0*\\xi_1*\\xi_3*\\eta_1/64 + I*\\xi_0*\\xi_1*\\xi_3*\\eta_1*\\eta_2*\\eta_3/64 - \\xi_0*\\xi_1*\\xi_3*\\eta_3/64 - \\xi_0*\\xi_2*\\xi_3*\\eta_0/64 + I*\\xi_0*\\xi_2*\\xi_3*\\eta_0*\\eta_1*\\eta_2/64 + I*\\xi_0*\\xi_2*\\xi_3*\\eta_0*\\eta_2*\\eta_3/64 - \\xi_0*\\xi_2*\\xi_3*\\eta_2/64 + I*\\xi_0*\\xi_3/64 + \\xi_0*\\xi_3*\\eta_0*\\eta_1/64 - I*\\xi_0*\\xi_3*\\eta_0*\\eta_1*\\eta_2*\\eta_3/64 + \\xi_0*\\xi_3*\\eta_2*\\eta_3/64 - \\xi_1*\\eta_0*\\eta_1*\\eta_3/64 - I*\\xi_1*\\eta_1/64 - \\xi_1*\\eta_1*\\eta_2*\\eta_3/64 - I*\\xi_1*\\eta_3/64 - I*\\xi_1*\\xi_2/64 - \\xi_1*\\xi_2*\\eta_0*\\eta_1/64 + I*\\xi_1*\\xi_2*\\eta_0*\\eta_1*\\eta_2*\\eta_3/64 - \\xi_1*\\xi_2*\\eta_2*\\eta_3/64 + I*\\xi_1*\\xi_2*\\xi_3*\\eta_0*\\eta_1*\\eta_3/64 - \\xi_1*\\xi_2*\\xi_3*\\eta_1/64 + I*\\xi_1*\\xi_2*\\xi_3*\\eta_1*\\eta_2*\\eta_3/64 - \\xi_1*\\xi_2*\\xi_3*\\eta_3/64 - I*\\xi_2*\\eta_0/64 - \\xi_2*\\eta_0*\\eta_1*\\eta_2/64 - \\xi_2*\\eta_0*\\eta_2*\\eta_3/64 - I*\\xi_2*\\eta_2/64 - I*\\xi_2*\\xi_3/64 - I*\\xi_2*\\xi_3*\\eta_0*\\eta_1*\\eta_2*\\eta_3/64 + \\xi_2*\\xi_3*\\eta_0*\\eta_3/64 - \\xi_2*\\xi_3*\\eta_1*\\eta_2/64 - \\xi_3*\\eta_0*\\eta_1*\\eta_3/64 - I*\\xi_3*\\eta_1/64 - \\xi_3*\\eta_1*\\eta_2*\\eta_3/64 - I*\\xi_3*\\eta_3/64"
      ]
     },
     "execution_count": 32,
     "metadata": {},
     "output_type": "execute_result"
    }
   ],
   "source": [
    "op_dm"
   ]
  },
  {
   "cell_type": "code",
   "execution_count": 33,
   "metadata": {},
   "outputs": [],
   "source": [
    "Gamma_={}"
   ]
  },
  {
   "cell_type": "code",
   "execution_count": 34,
   "metadata": {},
   "outputs": [
    {
     "name": "stderr",
     "output_type": "stream",
     "text": [
      "  0%|          | 0/28 [00:00<?, ?it/s]"
     ]
    },
    {
     "name": "stderr",
     "output_type": "stream",
     "text": [
      "100%|██████████| 28/28 [08:48<00:00, 18.86s/it]\n"
     ]
    }
   ],
   "source": [
    "Gamma_['-t^dag']=get_Gamma(op_dm,4)"
   ]
  },
  {
   "cell_type": "code",
   "execution_count": 43,
   "metadata": {},
   "outputs": [
    {
     "data": {
      "text/latex": [
       "$\\displaystyle \\left[\\begin{matrix}0 & - \\frac{1}{4} & 0 & \\frac{1}{4} & \\frac{1}{4} & 0 & \\frac{1}{4} & 0\\\\\\frac{1}{4} & 0 & - \\frac{1}{4} & 0 & 0 & \\frac{1}{4} & 0 & \\frac{1}{4}\\\\0 & \\frac{1}{4} & 0 & - \\frac{1}{4} & \\frac{1}{4} & 0 & \\frac{1}{4} & 0\\\\- \\frac{1}{4} & 0 & \\frac{1}{4} & 0 & 0 & \\frac{1}{4} & 0 & \\frac{1}{4}\\\\- \\frac{1}{4} & 0 & - \\frac{1}{4} & 0 & 0 & - \\frac{1}{4} & 0 & \\frac{1}{4}\\\\0 & - \\frac{1}{4} & 0 & - \\frac{1}{4} & \\frac{1}{4} & 0 & - \\frac{1}{4} & 0\\\\- \\frac{1}{4} & 0 & - \\frac{1}{4} & 0 & 0 & \\frac{1}{4} & 0 & - \\frac{1}{4}\\\\0 & - \\frac{1}{4} & 0 & - \\frac{1}{4} & - \\frac{1}{4} & 0 & \\frac{1}{4} & 0\\end{matrix}\\right]$"
      ],
      "text/plain": [
       "Matrix([\n",
       "[   0, -1/4,    0,  1/4,  1/4,    0,  1/4,    0],\n",
       "[ 1/4,    0, -1/4,    0,    0,  1/4,    0,  1/4],\n",
       "[   0,  1/4,    0, -1/4,  1/4,    0,  1/4,    0],\n",
       "[-1/4,    0,  1/4,    0,    0,  1/4,    0,  1/4],\n",
       "[-1/4,    0, -1/4,    0,    0, -1/4,    0,  1/4],\n",
       "[   0, -1/4,    0, -1/4,  1/4,    0, -1/4,    0],\n",
       "[-1/4,    0, -1/4,    0,    0,  1/4,    0, -1/4],\n",
       "[   0, -1/4,    0, -1/4, -1/4,    0,  1/4,    0]])"
      ]
     },
     "execution_count": 43,
     "metadata": {},
     "output_type": "execute_result"
    }
   ],
   "source": [
    "Gamma_['-t^dag']"
   ]
  },
  {
   "cell_type": "code",
   "execution_count": 39,
   "metadata": {},
   "outputs": [
    {
     "data": {
      "text/latex": [
       "$\\displaystyle \\frac{1}{4}$"
      ],
      "text/plain": [
       "1/4"
      ]
     },
     "execution_count": 39,
     "metadata": {},
     "output_type": "execute_result"
    }
   ],
   "source": [
    "-(Gamma_['-t^dag']@Gamma_['-t^dag'])[0,0]"
   ]
  },
  {
   "cell_type": "code",
   "execution_count": 35,
   "metadata": {},
   "outputs": [
    {
     "ename": "KeyboardInterrupt",
     "evalue": "",
     "output_type": "error",
     "traceback": [
      "\u001b[0;31m---------------------------------------------------------------------------\u001b[0m",
      "\u001b[0;31mKeyboardInterrupt\u001b[0m                         Traceback (most recent call last)",
      "Cell \u001b[0;32mIn[35], line 4\u001b[0m\n\u001b[1;32m      2\u001b[0m op_g \u001b[38;5;241m=\u001b[39m recursiveapply(op\u001b[38;5;241m.\u001b[39msubs(c2g)\u001b[38;5;241m.\u001b[39msubs(selfadjoint)\u001b[38;5;241m.\u001b[39mexpand(),normalorder2)\n\u001b[1;32m      3\u001b[0m op_K\u001b[38;5;241m=\u001b[39mop_g\u001b[38;5;241m.\u001b[39msubs(gamma_xi)\n\u001b[0;32m----> 4\u001b[0m op_dm\u001b[38;5;241m=\u001b[39mrecursiveapply(( op_K\u001b[38;5;241m*\u001b[39m rho_epr4 \u001b[38;5;241m*\u001b[39m Dagger(op_K))\u001b[38;5;241m.\u001b[39mexpand()\u001b[38;5;241m.\u001b[39msubs(selfadjoint),normalorder2)\n",
      "File \u001b[0;32m/mnt/d/Cornell/GTN/FTN.py:7\u001b[0m, in \u001b[0;36mrecursiveapply\u001b[0;34m(expr, subs)\u001b[0m\n\u001b[1;32m      6\u001b[0m \u001b[38;5;28;01mdef\u001b[39;00m \u001b[38;5;21mrecursiveapply\u001b[39m(expr,subs):\n\u001b[0;32m----> 7\u001b[0m     expr1\u001b[38;5;241m=\u001b[39mexpr\u001b[38;5;241m.\u001b[39msubs(subs)\n\u001b[1;32m      8\u001b[0m     counter\u001b[38;5;241m=\u001b[39m\u001b[38;5;241m0\u001b[39m\n\u001b[1;32m      9\u001b[0m     \u001b[38;5;28;01mwhile\u001b[39;00m \u001b[38;5;129;01mnot\u001b[39;00m expr1\u001b[38;5;241m==\u001b[39m expr:\n",
      "File \u001b[0;32m~/.pyenv/versions/anaconda3-2023.07-2/lib/python3.11/site-packages/sympy/core/basic.py:997\u001b[0m, in \u001b[0;36mBasic.subs\u001b[0;34m(self, *args, **kwargs)\u001b[0m\n\u001b[1;32m    995\u001b[0m rv \u001b[38;5;241m=\u001b[39m \u001b[38;5;28mself\u001b[39m\n\u001b[1;32m    996\u001b[0m \u001b[38;5;28;01mfor\u001b[39;00m old, new \u001b[38;5;129;01min\u001b[39;00m sequence:\n\u001b[0;32m--> 997\u001b[0m     rv \u001b[38;5;241m=\u001b[39m rv\u001b[38;5;241m.\u001b[39m_subs(old, new, \u001b[38;5;241m*\u001b[39m\u001b[38;5;241m*\u001b[39mkwargs)\n\u001b[1;32m    998\u001b[0m     \u001b[38;5;28;01mif\u001b[39;00m \u001b[38;5;129;01mnot\u001b[39;00m \u001b[38;5;28misinstance\u001b[39m(rv, Basic):\n\u001b[1;32m    999\u001b[0m         \u001b[38;5;28;01mbreak\u001b[39;00m\n",
      "File \u001b[0;32m~/.pyenv/versions/anaconda3-2023.07-2/lib/python3.11/site-packages/sympy/core/cache.py:70\u001b[0m, in \u001b[0;36m__cacheit.<locals>.func_wrapper.<locals>.wrapper\u001b[0;34m(*args, **kwargs)\u001b[0m\n\u001b[1;32m     67\u001b[0m \u001b[38;5;129m@wraps\u001b[39m(func)\n\u001b[1;32m     68\u001b[0m \u001b[38;5;28;01mdef\u001b[39;00m \u001b[38;5;21mwrapper\u001b[39m(\u001b[38;5;241m*\u001b[39margs, \u001b[38;5;241m*\u001b[39m\u001b[38;5;241m*\u001b[39mkwargs):\n\u001b[1;32m     69\u001b[0m     \u001b[38;5;28;01mtry\u001b[39;00m:\n\u001b[0;32m---> 70\u001b[0m         retval \u001b[38;5;241m=\u001b[39m cfunc(\u001b[38;5;241m*\u001b[39margs, \u001b[38;5;241m*\u001b[39m\u001b[38;5;241m*\u001b[39mkwargs)\n\u001b[1;32m     71\u001b[0m     \u001b[38;5;28;01mexcept\u001b[39;00m \u001b[38;5;167;01mTypeError\u001b[39;00m \u001b[38;5;28;01mas\u001b[39;00m e:\n\u001b[1;32m     72\u001b[0m         \u001b[38;5;28;01mif\u001b[39;00m \u001b[38;5;129;01mnot\u001b[39;00m e\u001b[38;5;241m.\u001b[39margs \u001b[38;5;129;01mor\u001b[39;00m \u001b[38;5;129;01mnot\u001b[39;00m e\u001b[38;5;241m.\u001b[39margs[\u001b[38;5;241m0\u001b[39m]\u001b[38;5;241m.\u001b[39mstartswith(\u001b[38;5;124m'\u001b[39m\u001b[38;5;124munhashable type:\u001b[39m\u001b[38;5;124m'\u001b[39m):\n",
      "File \u001b[0;32m~/.pyenv/versions/anaconda3-2023.07-2/lib/python3.11/site-packages/sympy/core/basic.py:1111\u001b[0m, in \u001b[0;36mBasic._subs\u001b[0;34m(self, old, new, **hints)\u001b[0m\n\u001b[1;32m   1109\u001b[0m rv \u001b[38;5;241m=\u001b[39m \u001b[38;5;28mself\u001b[39m\u001b[38;5;241m.\u001b[39m_eval_subs(old, new)\n\u001b[1;32m   1110\u001b[0m \u001b[38;5;28;01mif\u001b[39;00m rv \u001b[38;5;129;01mis\u001b[39;00m \u001b[38;5;28;01mNone\u001b[39;00m:\n\u001b[0;32m-> 1111\u001b[0m     rv \u001b[38;5;241m=\u001b[39m fallback(\u001b[38;5;28mself\u001b[39m, old, new)\n\u001b[1;32m   1112\u001b[0m \u001b[38;5;28;01mreturn\u001b[39;00m rv\n",
      "File \u001b[0;32m~/.pyenv/versions/anaconda3-2023.07-2/lib/python3.11/site-packages/sympy/core/basic.py:1083\u001b[0m, in \u001b[0;36mBasic._subs.<locals>.fallback\u001b[0;34m(self, old, new)\u001b[0m\n\u001b[1;32m   1081\u001b[0m \u001b[38;5;28;01mif\u001b[39;00m \u001b[38;5;129;01mnot\u001b[39;00m \u001b[38;5;28mhasattr\u001b[39m(arg, \u001b[38;5;124m'\u001b[39m\u001b[38;5;124m_eval_subs\u001b[39m\u001b[38;5;124m'\u001b[39m):\n\u001b[1;32m   1082\u001b[0m     \u001b[38;5;28;01mcontinue\u001b[39;00m\n\u001b[0;32m-> 1083\u001b[0m arg \u001b[38;5;241m=\u001b[39m arg\u001b[38;5;241m.\u001b[39m_subs(old, new, \u001b[38;5;241m*\u001b[39m\u001b[38;5;241m*\u001b[39mhints)\n\u001b[1;32m   1084\u001b[0m \u001b[38;5;28;01mif\u001b[39;00m \u001b[38;5;129;01mnot\u001b[39;00m _aresame(arg, args[i]):\n\u001b[1;32m   1085\u001b[0m     hit \u001b[38;5;241m=\u001b[39m \u001b[38;5;28;01mTrue\u001b[39;00m\n",
      "File \u001b[0;32m~/.pyenv/versions/anaconda3-2023.07-2/lib/python3.11/site-packages/sympy/core/cache.py:70\u001b[0m, in \u001b[0;36m__cacheit.<locals>.func_wrapper.<locals>.wrapper\u001b[0;34m(*args, **kwargs)\u001b[0m\n\u001b[1;32m     67\u001b[0m \u001b[38;5;129m@wraps\u001b[39m(func)\n\u001b[1;32m     68\u001b[0m \u001b[38;5;28;01mdef\u001b[39;00m \u001b[38;5;21mwrapper\u001b[39m(\u001b[38;5;241m*\u001b[39margs, \u001b[38;5;241m*\u001b[39m\u001b[38;5;241m*\u001b[39mkwargs):\n\u001b[1;32m     69\u001b[0m     \u001b[38;5;28;01mtry\u001b[39;00m:\n\u001b[0;32m---> 70\u001b[0m         retval \u001b[38;5;241m=\u001b[39m cfunc(\u001b[38;5;241m*\u001b[39margs, \u001b[38;5;241m*\u001b[39m\u001b[38;5;241m*\u001b[39mkwargs)\n\u001b[1;32m     71\u001b[0m     \u001b[38;5;28;01mexcept\u001b[39;00m \u001b[38;5;167;01mTypeError\u001b[39;00m \u001b[38;5;28;01mas\u001b[39;00m e:\n\u001b[1;32m     72\u001b[0m         \u001b[38;5;28;01mif\u001b[39;00m \u001b[38;5;129;01mnot\u001b[39;00m e\u001b[38;5;241m.\u001b[39margs \u001b[38;5;129;01mor\u001b[39;00m \u001b[38;5;129;01mnot\u001b[39;00m e\u001b[38;5;241m.\u001b[39margs[\u001b[38;5;241m0\u001b[39m]\u001b[38;5;241m.\u001b[39mstartswith(\u001b[38;5;124m'\u001b[39m\u001b[38;5;124munhashable type:\u001b[39m\u001b[38;5;124m'\u001b[39m):\n",
      "File \u001b[0;32m~/.pyenv/versions/anaconda3-2023.07-2/lib/python3.11/site-packages/sympy/core/basic.py:1109\u001b[0m, in \u001b[0;36mBasic._subs\u001b[0;34m(self, old, new, **hints)\u001b[0m\n\u001b[1;32m   1106\u001b[0m \u001b[38;5;28;01mif\u001b[39;00m _aresame(\u001b[38;5;28mself\u001b[39m, old):\n\u001b[1;32m   1107\u001b[0m     \u001b[38;5;28;01mreturn\u001b[39;00m new\n\u001b[0;32m-> 1109\u001b[0m rv \u001b[38;5;241m=\u001b[39m \u001b[38;5;28mself\u001b[39m\u001b[38;5;241m.\u001b[39m_eval_subs(old, new)\n\u001b[1;32m   1110\u001b[0m \u001b[38;5;28;01mif\u001b[39;00m rv \u001b[38;5;129;01mis\u001b[39;00m \u001b[38;5;28;01mNone\u001b[39;00m:\n\u001b[1;32m   1111\u001b[0m     rv \u001b[38;5;241m=\u001b[39m fallback(\u001b[38;5;28mself\u001b[39m, old, new)\n",
      "File \u001b[0;32m~/.pyenv/versions/anaconda3-2023.07-2/lib/python3.11/site-packages/sympy/core/mul.py:1691\u001b[0m, in \u001b[0;36mMul._eval_subs\u001b[0;34m(self, old, new)\u001b[0m\n\u001b[1;32m   1689\u001b[0m self2 \u001b[38;5;241m=\u001b[39m \u001b[38;5;28mself\u001b[39m\n\u001b[1;32m   1690\u001b[0m \u001b[38;5;28;01mif\u001b[39;00m d \u001b[38;5;129;01mis\u001b[39;00m \u001b[38;5;129;01mnot\u001b[39;00m S\u001b[38;5;241m.\u001b[39mOne:\n\u001b[0;32m-> 1691\u001b[0m     self2 \u001b[38;5;241m=\u001b[39m n\u001b[38;5;241m.\u001b[39m_subs(old, new)\u001b[38;5;241m/\u001b[39md\u001b[38;5;241m.\u001b[39m_subs(old, new)\n\u001b[1;32m   1692\u001b[0m     \u001b[38;5;28;01mif\u001b[39;00m \u001b[38;5;129;01mnot\u001b[39;00m self2\u001b[38;5;241m.\u001b[39mis_Mul:\n\u001b[1;32m   1693\u001b[0m         \u001b[38;5;28;01mreturn\u001b[39;00m self2\u001b[38;5;241m.\u001b[39m_subs(old, new)\n",
      "File \u001b[0;32m~/.pyenv/versions/anaconda3-2023.07-2/lib/python3.11/site-packages/sympy/core/cache.py:70\u001b[0m, in \u001b[0;36m__cacheit.<locals>.func_wrapper.<locals>.wrapper\u001b[0;34m(*args, **kwargs)\u001b[0m\n\u001b[1;32m     67\u001b[0m \u001b[38;5;129m@wraps\u001b[39m(func)\n\u001b[1;32m     68\u001b[0m \u001b[38;5;28;01mdef\u001b[39;00m \u001b[38;5;21mwrapper\u001b[39m(\u001b[38;5;241m*\u001b[39margs, \u001b[38;5;241m*\u001b[39m\u001b[38;5;241m*\u001b[39mkwargs):\n\u001b[1;32m     69\u001b[0m     \u001b[38;5;28;01mtry\u001b[39;00m:\n\u001b[0;32m---> 70\u001b[0m         retval \u001b[38;5;241m=\u001b[39m cfunc(\u001b[38;5;241m*\u001b[39margs, \u001b[38;5;241m*\u001b[39m\u001b[38;5;241m*\u001b[39mkwargs)\n\u001b[1;32m     71\u001b[0m     \u001b[38;5;28;01mexcept\u001b[39;00m \u001b[38;5;167;01mTypeError\u001b[39;00m \u001b[38;5;28;01mas\u001b[39;00m e:\n\u001b[1;32m     72\u001b[0m         \u001b[38;5;28;01mif\u001b[39;00m \u001b[38;5;129;01mnot\u001b[39;00m e\u001b[38;5;241m.\u001b[39margs \u001b[38;5;129;01mor\u001b[39;00m \u001b[38;5;129;01mnot\u001b[39;00m e\u001b[38;5;241m.\u001b[39margs[\u001b[38;5;241m0\u001b[39m]\u001b[38;5;241m.\u001b[39mstartswith(\u001b[38;5;124m'\u001b[39m\u001b[38;5;124munhashable type:\u001b[39m\u001b[38;5;124m'\u001b[39m):\n",
      "File \u001b[0;32m~/.pyenv/versions/anaconda3-2023.07-2/lib/python3.11/site-packages/sympy/core/basic.py:1111\u001b[0m, in \u001b[0;36mBasic._subs\u001b[0;34m(self, old, new, **hints)\u001b[0m\n\u001b[1;32m   1109\u001b[0m rv \u001b[38;5;241m=\u001b[39m \u001b[38;5;28mself\u001b[39m\u001b[38;5;241m.\u001b[39m_eval_subs(old, new)\n\u001b[1;32m   1110\u001b[0m \u001b[38;5;28;01mif\u001b[39;00m rv \u001b[38;5;129;01mis\u001b[39;00m \u001b[38;5;28;01mNone\u001b[39;00m:\n\u001b[0;32m-> 1111\u001b[0m     rv \u001b[38;5;241m=\u001b[39m fallback(\u001b[38;5;28mself\u001b[39m, old, new)\n\u001b[1;32m   1112\u001b[0m \u001b[38;5;28;01mreturn\u001b[39;00m rv\n",
      "File \u001b[0;32m~/.pyenv/versions/anaconda3-2023.07-2/lib/python3.11/site-packages/sympy/core/basic.py:1084\u001b[0m, in \u001b[0;36mBasic._subs.<locals>.fallback\u001b[0;34m(self, old, new)\u001b[0m\n\u001b[1;32m   1082\u001b[0m     \u001b[38;5;28;01mcontinue\u001b[39;00m\n\u001b[1;32m   1083\u001b[0m arg \u001b[38;5;241m=\u001b[39m arg\u001b[38;5;241m.\u001b[39m_subs(old, new, \u001b[38;5;241m*\u001b[39m\u001b[38;5;241m*\u001b[39mhints)\n\u001b[0;32m-> 1084\u001b[0m \u001b[38;5;28;01mif\u001b[39;00m \u001b[38;5;129;01mnot\u001b[39;00m _aresame(arg, args[i]):\n\u001b[1;32m   1085\u001b[0m     hit \u001b[38;5;241m=\u001b[39m \u001b[38;5;28;01mTrue\u001b[39;00m\n\u001b[1;32m   1086\u001b[0m     args[i] \u001b[38;5;241m=\u001b[39m arg\n",
      "File \u001b[0;32m~/.pyenv/versions/anaconda3-2023.07-2/lib/python3.11/site-packages/sympy/core/basic.py:2044\u001b[0m, in \u001b[0;36m_aresame\u001b[0;34m(a, b)\u001b[0m\n\u001b[1;32m   2042\u001b[0m \u001b[38;5;28;01mif\u001b[39;00m \u001b[38;5;28misinstance\u001b[39m(a, Number) \u001b[38;5;129;01mand\u001b[39;00m \u001b[38;5;28misinstance\u001b[39m(b, Number):\n\u001b[1;32m   2043\u001b[0m     \u001b[38;5;28;01mreturn\u001b[39;00m a \u001b[38;5;241m==\u001b[39m b \u001b[38;5;129;01mand\u001b[39;00m a\u001b[38;5;241m.\u001b[39m\u001b[38;5;18m__class__\u001b[39m \u001b[38;5;241m==\u001b[39m b\u001b[38;5;241m.\u001b[39m\u001b[38;5;18m__class__\u001b[39m\n\u001b[0;32m-> 2044\u001b[0m \u001b[38;5;28;01mfor\u001b[39;00m i, j \u001b[38;5;129;01min\u001b[39;00m zip_longest(_preorder_traversal(a), _preorder_traversal(b)):\n\u001b[1;32m   2045\u001b[0m     \u001b[38;5;28;01mif\u001b[39;00m i \u001b[38;5;241m!=\u001b[39m j \u001b[38;5;129;01mor\u001b[39;00m \u001b[38;5;28mtype\u001b[39m(i) \u001b[38;5;241m!=\u001b[39m \u001b[38;5;28mtype\u001b[39m(j):\n\u001b[1;32m   2046\u001b[0m         \u001b[38;5;28;01mif\u001b[39;00m ((\u001b[38;5;28misinstance\u001b[39m(i, UndefFunc) \u001b[38;5;129;01mand\u001b[39;00m \u001b[38;5;28misinstance\u001b[39m(j, UndefFunc)) \u001b[38;5;129;01mor\u001b[39;00m\n\u001b[1;32m   2047\u001b[0m             (\u001b[38;5;28misinstance\u001b[39m(i, AppliedUndef) \u001b[38;5;129;01mand\u001b[39;00m \u001b[38;5;28misinstance\u001b[39m(j, AppliedUndef))):\n",
      "File \u001b[0;32m~/.pyenv/versions/anaconda3-2023.07-2/lib/python3.11/site-packages/sympy/core/traversal.py:164\u001b[0m, in \u001b[0;36mpreorder_traversal.__next__\u001b[0;34m(self)\u001b[0m\n\u001b[1;32m    163\u001b[0m \u001b[38;5;28;01mdef\u001b[39;00m \u001b[38;5;21m__next__\u001b[39m(\u001b[38;5;28mself\u001b[39m):\n\u001b[0;32m--> 164\u001b[0m     \u001b[38;5;28;01mreturn\u001b[39;00m \u001b[38;5;28mnext\u001b[39m(\u001b[38;5;28mself\u001b[39m\u001b[38;5;241m.\u001b[39m_pt)\n",
      "File \u001b[0;32m~/.pyenv/versions/anaconda3-2023.07-2/lib/python3.11/site-packages/sympy/core/traversal.py:138\u001b[0m, in \u001b[0;36mpreorder_traversal._preorder_traversal\u001b[0;34m(self, node, keys)\u001b[0m\n\u001b[1;32m    136\u001b[0m             args \u001b[38;5;241m=\u001b[39m ordered(args)\n\u001b[1;32m    137\u001b[0m     \u001b[38;5;28;01mfor\u001b[39;00m arg \u001b[38;5;129;01min\u001b[39;00m args:\n\u001b[0;32m--> 138\u001b[0m         \u001b[38;5;28;01myield from\u001b[39;00m \u001b[38;5;28mself\u001b[39m\u001b[38;5;241m.\u001b[39m_preorder_traversal(arg, keys)\n\u001b[1;32m    139\u001b[0m \u001b[38;5;28;01melif\u001b[39;00m iterable(node):\n\u001b[1;32m    140\u001b[0m     \u001b[38;5;28;01mfor\u001b[39;00m item \u001b[38;5;129;01min\u001b[39;00m node:\n",
      "File \u001b[0;32m~/.pyenv/versions/anaconda3-2023.07-2/lib/python3.11/site-packages/sympy/core/traversal.py:120\u001b[0m, in \u001b[0;36mpreorder_traversal._preorder_traversal\u001b[0;34m(self, node, keys)\u001b[0m\n\u001b[1;32m    117\u001b[0m     \u001b[38;5;28mself\u001b[39m\u001b[38;5;241m.\u001b[39m_skip_flag \u001b[38;5;241m=\u001b[39m \u001b[38;5;28;01mFalse\u001b[39;00m\n\u001b[1;32m    118\u001b[0m     \u001b[38;5;28mself\u001b[39m\u001b[38;5;241m.\u001b[39m_pt \u001b[38;5;241m=\u001b[39m \u001b[38;5;28mself\u001b[39m\u001b[38;5;241m.\u001b[39m_preorder_traversal(node, keys)\n\u001b[0;32m--> 120\u001b[0m \u001b[38;5;28;01mdef\u001b[39;00m \u001b[38;5;21m_preorder_traversal\u001b[39m(\u001b[38;5;28mself\u001b[39m, node, keys):\n\u001b[1;32m    121\u001b[0m     \u001b[38;5;28;01myield\u001b[39;00m node\n\u001b[1;32m    122\u001b[0m     \u001b[38;5;28;01mif\u001b[39;00m \u001b[38;5;28mself\u001b[39m\u001b[38;5;241m.\u001b[39m_skip_flag:\n",
      "\u001b[0;31mKeyboardInterrupt\u001b[0m: "
     ]
    }
   ],
   "source": [
    "op = Dagger(c['+t'])\n",
    "op_g = recursiveapply(op.subs(c2g).subs(selfadjoint).expand(),normalorder2)\n",
    "op_K=op_g.subs(gamma_xi)\n",
    "op_dm=recursiveapply(( op_K* rho_epr4 * Dagger(op_K)).expand().subs(selfadjoint),normalorder2)"
   ]
  },
  {
   "cell_type": "code",
   "execution_count": null,
   "metadata": {},
   "outputs": [],
   "source": [
    "op_dm"
   ]
  },
  {
   "cell_type": "code",
   "execution_count": null,
   "metadata": {},
   "outputs": [],
   "source": [
    "Gamma_['+t^dag']=get_Gamma(op_dm,4)"
   ]
  },
  {
   "cell_type": "code",
   "execution_count": null,
   "metadata": {},
   "outputs": [],
   "source": [
    "op = (c['-t'])\n",
    "op_g = recursiveapply(op.subs(c2g).subs(selfadjoint).expand(),normalorder2)\n",
    "op_K=op_g.subs(gamma_xi)\n",
    "op_dm=recursiveapply(( op_K* rho_epr4 * Dagger(op_K)).expand().subs(selfadjoint),normalorder2)"
   ]
  },
  {
   "cell_type": "code",
   "execution_count": null,
   "metadata": {},
   "outputs": [],
   "source": [
    "op_dm"
   ]
  },
  {
   "cell_type": "code",
   "execution_count": null,
   "metadata": {},
   "outputs": [],
   "source": [
    "Gamma_['-t']=get_Gamma(op_dm,4)"
   ]
  },
  {
   "cell_type": "code",
   "execution_count": null,
   "metadata": {},
   "outputs": [
    {
     "ename": "KeyboardInterrupt",
     "evalue": "",
     "output_type": "error",
     "traceback": [
      "\u001b[0;31m---------------------------------------------------------------------------\u001b[0m",
      "\u001b[0;31mKeyboardInterrupt\u001b[0m                         Traceback (most recent call last)",
      "Cell \u001b[0;32mIn[23], line 4\u001b[0m\n\u001b[1;32m      2\u001b[0m op_g \u001b[38;5;241m=\u001b[39m recursiveapply(op\u001b[38;5;241m.\u001b[39msubs(c2g)\u001b[38;5;241m.\u001b[39msubs(selfadjoint)\u001b[38;5;241m.\u001b[39mexpand(),normalorder2)\n\u001b[1;32m      3\u001b[0m op_K\u001b[38;5;241m=\u001b[39mop_g\u001b[38;5;241m.\u001b[39msubs(gamma_xi)\n\u001b[0;32m----> 4\u001b[0m op_dm\u001b[38;5;241m=\u001b[39mrecursiveapply(( op_K\u001b[38;5;241m*\u001b[39m rho_epr4 \u001b[38;5;241m*\u001b[39m Dagger(op_K))\u001b[38;5;241m.\u001b[39mexpand()\u001b[38;5;241m.\u001b[39msubs(selfadjoint),normalorder2)\n",
      "File \u001b[0;32m/mnt/d/Cornell/GTN/FTN.py:5\u001b[0m, in \u001b[0;36mrecursiveapply\u001b[0;34m(expr, subs)\u001b[0m\n\u001b[1;32m      4\u001b[0m \u001b[38;5;28;01mdef\u001b[39;00m \u001b[38;5;21mrecursiveapply\u001b[39m(expr,subs):\n\u001b[0;32m----> 5\u001b[0m     expr1\u001b[38;5;241m=\u001b[39mexpr\u001b[38;5;241m.\u001b[39msubs(subs)\n\u001b[1;32m      6\u001b[0m     counter\u001b[38;5;241m=\u001b[39m\u001b[38;5;241m0\u001b[39m\n\u001b[1;32m      7\u001b[0m     \u001b[38;5;28;01mwhile\u001b[39;00m \u001b[38;5;129;01mnot\u001b[39;00m expr1\u001b[38;5;241m==\u001b[39m expr:\n",
      "File \u001b[0;32m~/.pyenv/versions/anaconda3-2023.07-2/lib/python3.11/site-packages/sympy/core/basic.py:997\u001b[0m, in \u001b[0;36mBasic.subs\u001b[0;34m(self, *args, **kwargs)\u001b[0m\n\u001b[1;32m    995\u001b[0m rv \u001b[38;5;241m=\u001b[39m \u001b[38;5;28mself\u001b[39m\n\u001b[1;32m    996\u001b[0m \u001b[38;5;28;01mfor\u001b[39;00m old, new \u001b[38;5;129;01min\u001b[39;00m sequence:\n\u001b[0;32m--> 997\u001b[0m     rv \u001b[38;5;241m=\u001b[39m rv\u001b[38;5;241m.\u001b[39m_subs(old, new, \u001b[38;5;241m*\u001b[39m\u001b[38;5;241m*\u001b[39mkwargs)\n\u001b[1;32m    998\u001b[0m     \u001b[38;5;28;01mif\u001b[39;00m \u001b[38;5;129;01mnot\u001b[39;00m \u001b[38;5;28misinstance\u001b[39m(rv, Basic):\n\u001b[1;32m    999\u001b[0m         \u001b[38;5;28;01mbreak\u001b[39;00m\n",
      "File \u001b[0;32m~/.pyenv/versions/anaconda3-2023.07-2/lib/python3.11/site-packages/sympy/core/cache.py:70\u001b[0m, in \u001b[0;36m__cacheit.<locals>.func_wrapper.<locals>.wrapper\u001b[0;34m(*args, **kwargs)\u001b[0m\n\u001b[1;32m     67\u001b[0m \u001b[38;5;129m@wraps\u001b[39m(func)\n\u001b[1;32m     68\u001b[0m \u001b[38;5;28;01mdef\u001b[39;00m \u001b[38;5;21mwrapper\u001b[39m(\u001b[38;5;241m*\u001b[39margs, \u001b[38;5;241m*\u001b[39m\u001b[38;5;241m*\u001b[39mkwargs):\n\u001b[1;32m     69\u001b[0m     \u001b[38;5;28;01mtry\u001b[39;00m:\n\u001b[0;32m---> 70\u001b[0m         retval \u001b[38;5;241m=\u001b[39m cfunc(\u001b[38;5;241m*\u001b[39margs, \u001b[38;5;241m*\u001b[39m\u001b[38;5;241m*\u001b[39mkwargs)\n\u001b[1;32m     71\u001b[0m     \u001b[38;5;28;01mexcept\u001b[39;00m \u001b[38;5;167;01mTypeError\u001b[39;00m \u001b[38;5;28;01mas\u001b[39;00m e:\n\u001b[1;32m     72\u001b[0m         \u001b[38;5;28;01mif\u001b[39;00m \u001b[38;5;129;01mnot\u001b[39;00m e\u001b[38;5;241m.\u001b[39margs \u001b[38;5;129;01mor\u001b[39;00m \u001b[38;5;129;01mnot\u001b[39;00m e\u001b[38;5;241m.\u001b[39margs[\u001b[38;5;241m0\u001b[39m]\u001b[38;5;241m.\u001b[39mstartswith(\u001b[38;5;124m'\u001b[39m\u001b[38;5;124munhashable type:\u001b[39m\u001b[38;5;124m'\u001b[39m):\n",
      "File \u001b[0;32m~/.pyenv/versions/anaconda3-2023.07-2/lib/python3.11/site-packages/sympy/core/basic.py:1111\u001b[0m, in \u001b[0;36mBasic._subs\u001b[0;34m(self, old, new, **hints)\u001b[0m\n\u001b[1;32m   1109\u001b[0m rv \u001b[38;5;241m=\u001b[39m \u001b[38;5;28mself\u001b[39m\u001b[38;5;241m.\u001b[39m_eval_subs(old, new)\n\u001b[1;32m   1110\u001b[0m \u001b[38;5;28;01mif\u001b[39;00m rv \u001b[38;5;129;01mis\u001b[39;00m \u001b[38;5;28;01mNone\u001b[39;00m:\n\u001b[0;32m-> 1111\u001b[0m     rv \u001b[38;5;241m=\u001b[39m fallback(\u001b[38;5;28mself\u001b[39m, old, new)\n\u001b[1;32m   1112\u001b[0m \u001b[38;5;28;01mreturn\u001b[39;00m rv\n",
      "File \u001b[0;32m~/.pyenv/versions/anaconda3-2023.07-2/lib/python3.11/site-packages/sympy/core/basic.py:1083\u001b[0m, in \u001b[0;36mBasic._subs.<locals>.fallback\u001b[0;34m(self, old, new)\u001b[0m\n\u001b[1;32m   1081\u001b[0m \u001b[38;5;28;01mif\u001b[39;00m \u001b[38;5;129;01mnot\u001b[39;00m \u001b[38;5;28mhasattr\u001b[39m(arg, \u001b[38;5;124m'\u001b[39m\u001b[38;5;124m_eval_subs\u001b[39m\u001b[38;5;124m'\u001b[39m):\n\u001b[1;32m   1082\u001b[0m     \u001b[38;5;28;01mcontinue\u001b[39;00m\n\u001b[0;32m-> 1083\u001b[0m arg \u001b[38;5;241m=\u001b[39m arg\u001b[38;5;241m.\u001b[39m_subs(old, new, \u001b[38;5;241m*\u001b[39m\u001b[38;5;241m*\u001b[39mhints)\n\u001b[1;32m   1084\u001b[0m \u001b[38;5;28;01mif\u001b[39;00m \u001b[38;5;129;01mnot\u001b[39;00m _aresame(arg, args[i]):\n\u001b[1;32m   1085\u001b[0m     hit \u001b[38;5;241m=\u001b[39m \u001b[38;5;28;01mTrue\u001b[39;00m\n",
      "File \u001b[0;32m~/.pyenv/versions/anaconda3-2023.07-2/lib/python3.11/site-packages/sympy/core/cache.py:70\u001b[0m, in \u001b[0;36m__cacheit.<locals>.func_wrapper.<locals>.wrapper\u001b[0;34m(*args, **kwargs)\u001b[0m\n\u001b[1;32m     67\u001b[0m \u001b[38;5;129m@wraps\u001b[39m(func)\n\u001b[1;32m     68\u001b[0m \u001b[38;5;28;01mdef\u001b[39;00m \u001b[38;5;21mwrapper\u001b[39m(\u001b[38;5;241m*\u001b[39margs, \u001b[38;5;241m*\u001b[39m\u001b[38;5;241m*\u001b[39mkwargs):\n\u001b[1;32m     69\u001b[0m     \u001b[38;5;28;01mtry\u001b[39;00m:\n\u001b[0;32m---> 70\u001b[0m         retval \u001b[38;5;241m=\u001b[39m cfunc(\u001b[38;5;241m*\u001b[39margs, \u001b[38;5;241m*\u001b[39m\u001b[38;5;241m*\u001b[39mkwargs)\n\u001b[1;32m     71\u001b[0m     \u001b[38;5;28;01mexcept\u001b[39;00m \u001b[38;5;167;01mTypeError\u001b[39;00m \u001b[38;5;28;01mas\u001b[39;00m e:\n\u001b[1;32m     72\u001b[0m         \u001b[38;5;28;01mif\u001b[39;00m \u001b[38;5;129;01mnot\u001b[39;00m e\u001b[38;5;241m.\u001b[39margs \u001b[38;5;129;01mor\u001b[39;00m \u001b[38;5;129;01mnot\u001b[39;00m e\u001b[38;5;241m.\u001b[39margs[\u001b[38;5;241m0\u001b[39m]\u001b[38;5;241m.\u001b[39mstartswith(\u001b[38;5;124m'\u001b[39m\u001b[38;5;124munhashable type:\u001b[39m\u001b[38;5;124m'\u001b[39m):\n",
      "File \u001b[0;32m~/.pyenv/versions/anaconda3-2023.07-2/lib/python3.11/site-packages/sympy/core/basic.py:1109\u001b[0m, in \u001b[0;36mBasic._subs\u001b[0;34m(self, old, new, **hints)\u001b[0m\n\u001b[1;32m   1106\u001b[0m \u001b[38;5;28;01mif\u001b[39;00m _aresame(\u001b[38;5;28mself\u001b[39m, old):\n\u001b[1;32m   1107\u001b[0m     \u001b[38;5;28;01mreturn\u001b[39;00m new\n\u001b[0;32m-> 1109\u001b[0m rv \u001b[38;5;241m=\u001b[39m \u001b[38;5;28mself\u001b[39m\u001b[38;5;241m.\u001b[39m_eval_subs(old, new)\n\u001b[1;32m   1110\u001b[0m \u001b[38;5;28;01mif\u001b[39;00m rv \u001b[38;5;129;01mis\u001b[39;00m \u001b[38;5;28;01mNone\u001b[39;00m:\n\u001b[1;32m   1111\u001b[0m     rv \u001b[38;5;241m=\u001b[39m fallback(\u001b[38;5;28mself\u001b[39m, old, new)\n",
      "File \u001b[0;32m~/.pyenv/versions/anaconda3-2023.07-2/lib/python3.11/site-packages/sympy/core/mul.py:1691\u001b[0m, in \u001b[0;36mMul._eval_subs\u001b[0;34m(self, old, new)\u001b[0m\n\u001b[1;32m   1689\u001b[0m self2 \u001b[38;5;241m=\u001b[39m \u001b[38;5;28mself\u001b[39m\n\u001b[1;32m   1690\u001b[0m \u001b[38;5;28;01mif\u001b[39;00m d \u001b[38;5;129;01mis\u001b[39;00m \u001b[38;5;129;01mnot\u001b[39;00m S\u001b[38;5;241m.\u001b[39mOne:\n\u001b[0;32m-> 1691\u001b[0m     self2 \u001b[38;5;241m=\u001b[39m n\u001b[38;5;241m.\u001b[39m_subs(old, new)\u001b[38;5;241m/\u001b[39md\u001b[38;5;241m.\u001b[39m_subs(old, new)\n\u001b[1;32m   1692\u001b[0m     \u001b[38;5;28;01mif\u001b[39;00m \u001b[38;5;129;01mnot\u001b[39;00m self2\u001b[38;5;241m.\u001b[39mis_Mul:\n\u001b[1;32m   1693\u001b[0m         \u001b[38;5;28;01mreturn\u001b[39;00m self2\u001b[38;5;241m.\u001b[39m_subs(old, new)\n",
      "File \u001b[0;32m~/.pyenv/versions/anaconda3-2023.07-2/lib/python3.11/site-packages/sympy/core/cache.py:70\u001b[0m, in \u001b[0;36m__cacheit.<locals>.func_wrapper.<locals>.wrapper\u001b[0;34m(*args, **kwargs)\u001b[0m\n\u001b[1;32m     67\u001b[0m \u001b[38;5;129m@wraps\u001b[39m(func)\n\u001b[1;32m     68\u001b[0m \u001b[38;5;28;01mdef\u001b[39;00m \u001b[38;5;21mwrapper\u001b[39m(\u001b[38;5;241m*\u001b[39margs, \u001b[38;5;241m*\u001b[39m\u001b[38;5;241m*\u001b[39mkwargs):\n\u001b[1;32m     69\u001b[0m     \u001b[38;5;28;01mtry\u001b[39;00m:\n\u001b[0;32m---> 70\u001b[0m         retval \u001b[38;5;241m=\u001b[39m cfunc(\u001b[38;5;241m*\u001b[39margs, \u001b[38;5;241m*\u001b[39m\u001b[38;5;241m*\u001b[39mkwargs)\n\u001b[1;32m     71\u001b[0m     \u001b[38;5;28;01mexcept\u001b[39;00m \u001b[38;5;167;01mTypeError\u001b[39;00m \u001b[38;5;28;01mas\u001b[39;00m e:\n\u001b[1;32m     72\u001b[0m         \u001b[38;5;28;01mif\u001b[39;00m \u001b[38;5;129;01mnot\u001b[39;00m e\u001b[38;5;241m.\u001b[39margs \u001b[38;5;129;01mor\u001b[39;00m \u001b[38;5;129;01mnot\u001b[39;00m e\u001b[38;5;241m.\u001b[39margs[\u001b[38;5;241m0\u001b[39m]\u001b[38;5;241m.\u001b[39mstartswith(\u001b[38;5;124m'\u001b[39m\u001b[38;5;124munhashable type:\u001b[39m\u001b[38;5;124m'\u001b[39m):\n",
      "File \u001b[0;32m~/.pyenv/versions/anaconda3-2023.07-2/lib/python3.11/site-packages/sympy/core/basic.py:1111\u001b[0m, in \u001b[0;36mBasic._subs\u001b[0;34m(self, old, new, **hints)\u001b[0m\n\u001b[1;32m   1109\u001b[0m rv \u001b[38;5;241m=\u001b[39m \u001b[38;5;28mself\u001b[39m\u001b[38;5;241m.\u001b[39m_eval_subs(old, new)\n\u001b[1;32m   1110\u001b[0m \u001b[38;5;28;01mif\u001b[39;00m rv \u001b[38;5;129;01mis\u001b[39;00m \u001b[38;5;28;01mNone\u001b[39;00m:\n\u001b[0;32m-> 1111\u001b[0m     rv \u001b[38;5;241m=\u001b[39m fallback(\u001b[38;5;28mself\u001b[39m, old, new)\n\u001b[1;32m   1112\u001b[0m \u001b[38;5;28;01mreturn\u001b[39;00m rv\n",
      "File \u001b[0;32m~/.pyenv/versions/anaconda3-2023.07-2/lib/python3.11/site-packages/sympy/core/basic.py:1084\u001b[0m, in \u001b[0;36mBasic._subs.<locals>.fallback\u001b[0;34m(self, old, new)\u001b[0m\n\u001b[1;32m   1082\u001b[0m     \u001b[38;5;28;01mcontinue\u001b[39;00m\n\u001b[1;32m   1083\u001b[0m arg \u001b[38;5;241m=\u001b[39m arg\u001b[38;5;241m.\u001b[39m_subs(old, new, \u001b[38;5;241m*\u001b[39m\u001b[38;5;241m*\u001b[39mhints)\n\u001b[0;32m-> 1084\u001b[0m \u001b[38;5;28;01mif\u001b[39;00m \u001b[38;5;129;01mnot\u001b[39;00m _aresame(arg, args[i]):\n\u001b[1;32m   1085\u001b[0m     hit \u001b[38;5;241m=\u001b[39m \u001b[38;5;28;01mTrue\u001b[39;00m\n\u001b[1;32m   1086\u001b[0m     args[i] \u001b[38;5;241m=\u001b[39m arg\n",
      "File \u001b[0;32m~/.pyenv/versions/anaconda3-2023.07-2/lib/python3.11/site-packages/sympy/core/basic.py:2045\u001b[0m, in \u001b[0;36m_aresame\u001b[0;34m(a, b)\u001b[0m\n\u001b[1;32m   2043\u001b[0m     \u001b[38;5;28;01mreturn\u001b[39;00m a \u001b[38;5;241m==\u001b[39m b \u001b[38;5;129;01mand\u001b[39;00m a\u001b[38;5;241m.\u001b[39m\u001b[38;5;18m__class__\u001b[39m \u001b[38;5;241m==\u001b[39m b\u001b[38;5;241m.\u001b[39m\u001b[38;5;18m__class__\u001b[39m\n\u001b[1;32m   2044\u001b[0m \u001b[38;5;28;01mfor\u001b[39;00m i, j \u001b[38;5;129;01min\u001b[39;00m zip_longest(_preorder_traversal(a), _preorder_traversal(b)):\n\u001b[0;32m-> 2045\u001b[0m     \u001b[38;5;28;01mif\u001b[39;00m i \u001b[38;5;241m!=\u001b[39m j \u001b[38;5;129;01mor\u001b[39;00m \u001b[38;5;28mtype\u001b[39m(i) \u001b[38;5;241m!=\u001b[39m \u001b[38;5;28mtype\u001b[39m(j):\n\u001b[1;32m   2046\u001b[0m         \u001b[38;5;28;01mif\u001b[39;00m ((\u001b[38;5;28misinstance\u001b[39m(i, UndefFunc) \u001b[38;5;129;01mand\u001b[39;00m \u001b[38;5;28misinstance\u001b[39m(j, UndefFunc)) \u001b[38;5;129;01mor\u001b[39;00m\n\u001b[1;32m   2047\u001b[0m             (\u001b[38;5;28misinstance\u001b[39m(i, AppliedUndef) \u001b[38;5;129;01mand\u001b[39;00m \u001b[38;5;28misinstance\u001b[39m(j, AppliedUndef))):\n\u001b[1;32m   2048\u001b[0m             \u001b[38;5;28;01mif\u001b[39;00m i\u001b[38;5;241m.\u001b[39mclass_key() \u001b[38;5;241m!=\u001b[39m j\u001b[38;5;241m.\u001b[39mclass_key():\n",
      "File \u001b[0;32m~/.pyenv/versions/anaconda3-2023.07-2/lib/python3.11/site-packages/sympy/core/basic.py:392\u001b[0m, in \u001b[0;36mBasic.__ne__\u001b[0;34m(self, other)\u001b[0m\n\u001b[1;32m    389\u001b[0m             \u001b[38;5;28;01mreturn\u001b[39;00m \u001b[38;5;28;01mFalse\u001b[39;00m\n\u001b[1;32m    390\u001b[0m     \u001b[38;5;28;01mreturn\u001b[39;00m \u001b[38;5;28;01mTrue\u001b[39;00m\n\u001b[0;32m--> 392\u001b[0m \u001b[38;5;28;01mdef\u001b[39;00m \u001b[38;5;21m__ne__\u001b[39m(\u001b[38;5;28mself\u001b[39m, other):\n\u001b[1;32m    393\u001b[0m \u001b[38;5;250m    \u001b[39m\u001b[38;5;124;03m\"\"\"``a != b``  -> Compare two symbolic trees and see whether they are different\u001b[39;00m\n\u001b[1;32m    394\u001b[0m \n\u001b[1;32m    395\u001b[0m \u001b[38;5;124;03m    this is the same as:\u001b[39;00m\n\u001b[0;32m   (...)\u001b[0m\n\u001b[1;32m    399\u001b[0m \u001b[38;5;124;03m    but faster\u001b[39;00m\n\u001b[1;32m    400\u001b[0m \u001b[38;5;124;03m    \"\"\"\u001b[39;00m\n\u001b[1;32m    401\u001b[0m     \u001b[38;5;28;01mreturn\u001b[39;00m \u001b[38;5;129;01mnot\u001b[39;00m \u001b[38;5;28mself\u001b[39m \u001b[38;5;241m==\u001b[39m other\n",
      "\u001b[0;31mKeyboardInterrupt\u001b[0m: "
     ]
    }
   ],
   "source": [
    "op = (c['+t'])\n",
    "op_g = recursiveapply(op.subs(c2g).subs(selfadjoint).expand(),normalorder2)\n",
    "op_K=op_g.subs(gamma_xi)\n",
    "op_dm=recursiveapply(( op_K* rho_epr4 * Dagger(op_K)).expand().subs(selfadjoint),normalorder2)"
   ]
  },
  {
   "cell_type": "code",
   "execution_count": null,
   "metadata": {},
   "outputs": [],
   "source": [
    "op_dm"
   ]
  },
  {
   "cell_type": "code",
   "execution_count": null,
   "metadata": {},
   "outputs": [],
   "source": [
    "Gamma_['+t']=get_Gamma(op_dm,4)"
   ]
  },
  {
   "cell_type": "code",
   "execution_count": null,
   "metadata": {},
   "outputs": [],
   "source": []
  },
  {
   "cell_type": "code",
   "execution_count": null,
   "metadata": {},
   "outputs": [],
   "source": [
    "op = (c[0])\n",
    "op_g = recursiveapply(op.subs(c2g).subs(selfadjoint).expand(),normalorder2)\n",
    "op_K=op_g.subs(gamma_xi)\n",
    "op_dm=recursiveapply(( op_K* rho_epr2 * Dagger(op_K)).expand().subs(selfadjoint),normalorder2)"
   ]
  },
  {
   "cell_type": "code",
   "execution_count": null,
   "metadata": {},
   "outputs": [],
   "source": [
    "Gamma_['0']=get_Gamma(op_dm,2)"
   ]
  },
  {
   "cell_type": "code",
   "execution_count": null,
   "metadata": {},
   "outputs": [],
   "source": [
    "op = Dagger(c[0])\n",
    "op_g = recursiveapply(op.subs(c2g).subs(selfadjoint).expand(),normalorder2)\n",
    "op_K=op_g.subs(gamma_xi)\n",
    "op_dm=recursiveapply(( op_K* rho_epr2 * Dagger(op_K)).expand().subs(selfadjoint),normalorder2)"
   ]
  },
  {
   "cell_type": "code",
   "execution_count": null,
   "metadata": {},
   "outputs": [],
   "source": [
    "Gamma_['0^dag']=get_Gamma(op_dm,2)"
   ]
  },
  {
   "cell_type": "code",
   "execution_count": null,
   "metadata": {},
   "outputs": [],
   "source": []
  },
  {
   "cell_type": "code",
   "execution_count": null,
   "metadata": {},
   "outputs": [],
   "source": []
  },
  {
   "cell_type": "markdown",
   "metadata": {},
   "source": [
    "## Contraction"
   ]
  },
  {
   "cell_type": "code",
   "execution_count": null,
   "metadata": {},
   "outputs": [],
   "source": [
    "contraction_(Gamma_['+t'], Gamma_['+t^dagger'],2)"
   ]
  },
  {
   "cell_type": "code",
   "execution_count": null,
   "metadata": {},
   "outputs": [],
   "source": [
    "contraction(\n",
    "    Gamma_['-t^dag'],\n",
    "    contraction_(Gamma_['+t'], Gamma_['+t^dag'],2)\n",
    "    ,2)"
   ]
  },
  {
   "cell_type": "code",
   "execution_count": null,
   "metadata": {},
   "outputs": [],
   "source": [
    "def extend_tensor(dim, ix, op):\n",
    "    Gamma=zeros(2*dim,2*dim)\n",
    "    for d in range(dim):\n",
    "        Gamma[d,dim+d]=1\n",
    "        Gamma[dim+d,d]=-1\n",
    "    ix_ = ix + [d+dim for d in ix]\n",
    "    Gamma[np.ix_(ix_,ix_)]=op\n",
    "    return Gamma"
   ]
  },
  {
   "cell_type": "code",
   "execution_count": null,
   "metadata": {},
   "outputs": [],
   "source": [
    "extend_tensor(3,[2],Gamma_['0'])"
   ]
  },
  {
   "cell_type": "code",
   "execution_count": null,
   "metadata": {},
   "outputs": [],
   "source": []
  }
 ],
 "metadata": {
  "kernelspec": {
   "display_name": "base",
   "language": "python",
   "name": "python3"
  },
  "language_info": {
   "codemirror_mode": {
    "name": "ipython",
    "version": 3
   },
   "file_extension": ".py",
   "mimetype": "text/x-python",
   "name": "python",
   "nbconvert_exporter": "python",
   "pygments_lexer": "ipython3",
   "version": "3.11.4"
  }
 },
 "nbformat": 4,
 "nbformat_minor": 2
}
