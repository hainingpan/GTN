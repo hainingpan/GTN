{
 "cells": [
  {
   "cell_type": "code",
   "execution_count": 2,
   "metadata": {},
   "outputs": [],
   "source": [
    "from sympy import *\n",
    "from sympy.physics.quantum import *"
   ]
  },
  {
   "cell_type": "code",
   "execution_count": 3,
   "metadata": {},
   "outputs": [],
   "source": [
    "from tqdm import tqdm"
   ]
  },
  {
   "cell_type": "code",
   "execution_count": 4,
   "metadata": {},
   "outputs": [],
   "source": [
    "from importlib import reload\n",
    "\n",
    "import FTN\n",
    "reload(FTN)\n",
    "from FTN import *"
   ]
  },
  {
   "cell_type": "markdown",
   "metadata": {},
   "source": [
    "# Charge transfer in 1D"
   ]
  },
  {
   "cell_type": "code",
   "execution_count": 4,
   "metadata": {},
   "outputs": [],
   "source": [
    "c['+t'] = (c[0]+c[1])/sqrt(2)\n",
    "c['-t'] = (c[0]-c[1])/sqrt(2)\n",
    "\n",
    "c['+b'] = (c[2]+c[3])/sqrt(2)\n",
    "c['-b'] = (c[2]-c[3])/sqrt(2)"
   ]
  },
  {
   "cell_type": "code",
   "execution_count": 5,
   "metadata": {},
   "outputs": [
    {
     "data": {
      "text/plain": [
       "{'xi': c_xi,\n",
       " 'eta': c_eta,\n",
       " 'g': c_g,\n",
       " 0: c_0,\n",
       " 1: c_1,\n",
       " 2: c_2,\n",
       " 3: c_3,\n",
       " '+t': sqrt(2)*(c_0 + c_1)/2,\n",
       " '-t': sqrt(2)*(c_0 - c_1)/2,\n",
       " '+b': sqrt(2)*(c_2 + c_3)/2,\n",
       " '-b': sqrt(2)*(c_2 - c_3)/2}"
      ]
     },
     "execution_count": 5,
     "metadata": {},
     "output_type": "execute_result"
    }
   ],
   "source": [
    "c"
   ]
  },
  {
   "cell_type": "markdown",
   "metadata": {},
   "source": [
    "## Single complex fermion operator"
   ]
  },
  {
   "cell_type": "code",
   "execution_count": 6,
   "metadata": {},
   "outputs": [],
   "source": [
    "op = Dagger(c['-t'])\n",
    "op_g = recursiveapply(op.subs(c2g).subs(selfadjoint).expand(),normalorder2)\n",
    "op_K=op_g.subs(gamma_xi)\n",
    "op_dm=recursiveapply(( op_K* rho_epr4 * Dagger(op_K)).expand().subs(selfadjoint),normalorder2)"
   ]
  },
  {
   "cell_type": "code",
   "execution_count": 7,
   "metadata": {},
   "outputs": [
    {
     "data": {
      "text/latex": [
       "$\\displaystyle \\frac{1}{32} - \\frac{i \\eta_{0} \\eta_{1}}{64} + \\frac{i \\eta_{0} \\eta_{3}}{64} - \\frac{i \\eta_{1} \\eta_{2}}{64} - \\frac{i \\eta_{2} \\eta_{3}}{64} - \\frac{i \\xi_{0} \\eta_{0}}{64} - \\frac{\\xi_{0} \\eta_{0} \\eta_{1} \\eta_{2}}{64} - \\frac{\\xi_{0} \\eta_{0} \\eta_{2} \\eta_{3}}{64} - \\frac{i \\xi_{0} \\eta_{2}}{64} - \\frac{i \\xi_{0} \\xi_{1}}{64} - \\frac{i \\xi_{0} \\xi_{1} \\eta_{0} \\eta_{1} \\eta_{2} \\eta_{3}}{64} + \\frac{\\xi_{0} \\xi_{1} \\eta_{0} \\eta_{3}}{64} - \\frac{\\xi_{0} \\xi_{1} \\eta_{1} \\eta_{2}}{64} - \\frac{\\xi_{0} \\xi_{1} \\xi_{2} \\eta_{0}}{64} + \\frac{i \\xi_{0} \\xi_{1} \\xi_{2} \\eta_{0} \\eta_{1} \\eta_{2}}{64} + \\frac{i \\xi_{0} \\xi_{1} \\xi_{2} \\eta_{0} \\eta_{2} \\eta_{3}}{64} - \\frac{\\xi_{0} \\xi_{1} \\xi_{2} \\eta_{2}}{64} - \\frac{i \\xi_{0} \\xi_{1} \\xi_{2} \\xi_{3} \\eta_{0} \\eta_{1}}{64} - \\frac{\\xi_{0} \\xi_{1} \\xi_{2} \\xi_{3} \\eta_{0} \\eta_{1} \\eta_{2} \\eta_{3}}{32} - \\frac{i \\xi_{0} \\xi_{1} \\xi_{2} \\xi_{3} \\eta_{0} \\eta_{3}}{64} + \\frac{i \\xi_{0} \\xi_{1} \\xi_{2} \\xi_{3} \\eta_{1} \\eta_{2}}{64} - \\frac{i \\xi_{0} \\xi_{1} \\xi_{2} \\xi_{3} \\eta_{2} \\eta_{3}}{64} + \\frac{i \\xi_{0} \\xi_{1} \\xi_{3} \\eta_{0} \\eta_{1} \\eta_{3}}{64} - \\frac{\\xi_{0} \\xi_{1} \\xi_{3} \\eta_{1}}{64} + \\frac{i \\xi_{0} \\xi_{1} \\xi_{3} \\eta_{1} \\eta_{2} \\eta_{3}}{64} - \\frac{\\xi_{0} \\xi_{1} \\xi_{3} \\eta_{3}}{64} - \\frac{\\xi_{0} \\xi_{2} \\xi_{3} \\eta_{0}}{64} + \\frac{i \\xi_{0} \\xi_{2} \\xi_{3} \\eta_{0} \\eta_{1} \\eta_{2}}{64} + \\frac{i \\xi_{0} \\xi_{2} \\xi_{3} \\eta_{0} \\eta_{2} \\eta_{3}}{64} - \\frac{\\xi_{0} \\xi_{2} \\xi_{3} \\eta_{2}}{64} + \\frac{i \\xi_{0} \\xi_{3}}{64} + \\frac{\\xi_{0} \\xi_{3} \\eta_{0} \\eta_{1}}{64} - \\frac{i \\xi_{0} \\xi_{3} \\eta_{0} \\eta_{1} \\eta_{2} \\eta_{3}}{64} + \\frac{\\xi_{0} \\xi_{3} \\eta_{2} \\eta_{3}}{64} - \\frac{\\xi_{1} \\eta_{0} \\eta_{1} \\eta_{3}}{64} - \\frac{i \\xi_{1} \\eta_{1}}{64} - \\frac{\\xi_{1} \\eta_{1} \\eta_{2} \\eta_{3}}{64} - \\frac{i \\xi_{1} \\eta_{3}}{64} - \\frac{i \\xi_{1} \\xi_{2}}{64} - \\frac{\\xi_{1} \\xi_{2} \\eta_{0} \\eta_{1}}{64} + \\frac{i \\xi_{1} \\xi_{2} \\eta_{0} \\eta_{1} \\eta_{2} \\eta_{3}}{64} - \\frac{\\xi_{1} \\xi_{2} \\eta_{2} \\eta_{3}}{64} + \\frac{i \\xi_{1} \\xi_{2} \\xi_{3} \\eta_{0} \\eta_{1} \\eta_{3}}{64} - \\frac{\\xi_{1} \\xi_{2} \\xi_{3} \\eta_{1}}{64} + \\frac{i \\xi_{1} \\xi_{2} \\xi_{3} \\eta_{1} \\eta_{2} \\eta_{3}}{64} - \\frac{\\xi_{1} \\xi_{2} \\xi_{3} \\eta_{3}}{64} - \\frac{i \\xi_{2} \\eta_{0}}{64} - \\frac{\\xi_{2} \\eta_{0} \\eta_{1} \\eta_{2}}{64} - \\frac{\\xi_{2} \\eta_{0} \\eta_{2} \\eta_{3}}{64} - \\frac{i \\xi_{2} \\eta_{2}}{64} - \\frac{i \\xi_{2} \\xi_{3}}{64} - \\frac{i \\xi_{2} \\xi_{3} \\eta_{0} \\eta_{1} \\eta_{2} \\eta_{3}}{64} + \\frac{\\xi_{2} \\xi_{3} \\eta_{0} \\eta_{3}}{64} - \\frac{\\xi_{2} \\xi_{3} \\eta_{1} \\eta_{2}}{64} - \\frac{\\xi_{3} \\eta_{0} \\eta_{1} \\eta_{3}}{64} - \\frac{i \\xi_{3} \\eta_{1}}{64} - \\frac{\\xi_{3} \\eta_{1} \\eta_{2} \\eta_{3}}{64} - \\frac{i \\xi_{3} \\eta_{3}}{64}$"
      ],
      "text/plain": [
       "1/32 - I*\\eta_0*\\eta_1/64 + I*\\eta_0*\\eta_3/64 - I*\\eta_1*\\eta_2/64 - I*\\eta_2*\\eta_3/64 - I*\\xi_0*\\eta_0/64 - \\xi_0*\\eta_0*\\eta_1*\\eta_2/64 - \\xi_0*\\eta_0*\\eta_2*\\eta_3/64 - I*\\xi_0*\\eta_2/64 - I*\\xi_0*\\xi_1/64 - I*\\xi_0*\\xi_1*\\eta_0*\\eta_1*\\eta_2*\\eta_3/64 + \\xi_0*\\xi_1*\\eta_0*\\eta_3/64 - \\xi_0*\\xi_1*\\eta_1*\\eta_2/64 - \\xi_0*\\xi_1*\\xi_2*\\eta_0/64 + I*\\xi_0*\\xi_1*\\xi_2*\\eta_0*\\eta_1*\\eta_2/64 + I*\\xi_0*\\xi_1*\\xi_2*\\eta_0*\\eta_2*\\eta_3/64 - \\xi_0*\\xi_1*\\xi_2*\\eta_2/64 - I*\\xi_0*\\xi_1*\\xi_2*\\xi_3*\\eta_0*\\eta_1/64 - \\xi_0*\\xi_1*\\xi_2*\\xi_3*\\eta_0*\\eta_1*\\eta_2*\\eta_3/32 - I*\\xi_0*\\xi_1*\\xi_2*\\xi_3*\\eta_0*\\eta_3/64 + I*\\xi_0*\\xi_1*\\xi_2*\\xi_3*\\eta_1*\\eta_2/64 - I*\\xi_0*\\xi_1*\\xi_2*\\xi_3*\\eta_2*\\eta_3/64 + I*\\xi_0*\\xi_1*\\xi_3*\\eta_0*\\eta_1*\\eta_3/64 - \\xi_0*\\xi_1*\\xi_3*\\eta_1/64 + I*\\xi_0*\\xi_1*\\xi_3*\\eta_1*\\eta_2*\\eta_3/64 - \\xi_0*\\xi_1*\\xi_3*\\eta_3/64 - \\xi_0*\\xi_2*\\xi_3*\\eta_0/64 + I*\\xi_0*\\xi_2*\\xi_3*\\eta_0*\\eta_1*\\eta_2/64 + I*\\xi_0*\\xi_2*\\xi_3*\\eta_0*\\eta_2*\\eta_3/64 - \\xi_0*\\xi_2*\\xi_3*\\eta_2/64 + I*\\xi_0*\\xi_3/64 + \\xi_0*\\xi_3*\\eta_0*\\eta_1/64 - I*\\xi_0*\\xi_3*\\eta_0*\\eta_1*\\eta_2*\\eta_3/64 + \\xi_0*\\xi_3*\\eta_2*\\eta_3/64 - \\xi_1*\\eta_0*\\eta_1*\\eta_3/64 - I*\\xi_1*\\eta_1/64 - \\xi_1*\\eta_1*\\eta_2*\\eta_3/64 - I*\\xi_1*\\eta_3/64 - I*\\xi_1*\\xi_2/64 - \\xi_1*\\xi_2*\\eta_0*\\eta_1/64 + I*\\xi_1*\\xi_2*\\eta_0*\\eta_1*\\eta_2*\\eta_3/64 - \\xi_1*\\xi_2*\\eta_2*\\eta_3/64 + I*\\xi_1*\\xi_2*\\xi_3*\\eta_0*\\eta_1*\\eta_3/64 - \\xi_1*\\xi_2*\\xi_3*\\eta_1/64 + I*\\xi_1*\\xi_2*\\xi_3*\\eta_1*\\eta_2*\\eta_3/64 - \\xi_1*\\xi_2*\\xi_3*\\eta_3/64 - I*\\xi_2*\\eta_0/64 - \\xi_2*\\eta_0*\\eta_1*\\eta_2/64 - \\xi_2*\\eta_0*\\eta_2*\\eta_3/64 - I*\\xi_2*\\eta_2/64 - I*\\xi_2*\\xi_3/64 - I*\\xi_2*\\xi_3*\\eta_0*\\eta_1*\\eta_2*\\eta_3/64 + \\xi_2*\\xi_3*\\eta_0*\\eta_3/64 - \\xi_2*\\xi_3*\\eta_1*\\eta_2/64 - \\xi_3*\\eta_0*\\eta_1*\\eta_3/64 - I*\\xi_3*\\eta_1/64 - \\xi_3*\\eta_1*\\eta_2*\\eta_3/64 - I*\\xi_3*\\eta_3/64"
      ]
     },
     "execution_count": 7,
     "metadata": {},
     "output_type": "execute_result"
    }
   ],
   "source": [
    "op_dm"
   ]
  },
  {
   "cell_type": "code",
   "execution_count": 8,
   "metadata": {},
   "outputs": [],
   "source": [
    "Gamma_={}"
   ]
  },
  {
   "cell_type": "code",
   "execution_count": 11,
   "metadata": {},
   "outputs": [
    {
     "name": "stderr",
     "output_type": "stream",
     "text": [
      "100%|██████████| 28/28 [04:06<00:00,  8.82s/it]\n"
     ]
    }
   ],
   "source": [
    "Gamma_['-t^dag']=get_Gamma(op_dm,4)"
   ]
  },
  {
   "cell_type": "code",
   "execution_count": 12,
   "metadata": {},
   "outputs": [
    {
     "data": {
      "text/latex": [
       "$\\displaystyle \\left[\\begin{matrix}0 & - \\frac{1}{2} & 0 & \\frac{1}{2} & \\frac{1}{2} & 0 & \\frac{1}{2} & 0\\\\\\frac{1}{2} & 0 & - \\frac{1}{2} & 0 & 0 & \\frac{1}{2} & 0 & \\frac{1}{2}\\\\0 & \\frac{1}{2} & 0 & - \\frac{1}{2} & \\frac{1}{2} & 0 & \\frac{1}{2} & 0\\\\- \\frac{1}{2} & 0 & \\frac{1}{2} & 0 & 0 & \\frac{1}{2} & 0 & \\frac{1}{2}\\\\- \\frac{1}{2} & 0 & - \\frac{1}{2} & 0 & 0 & - \\frac{1}{2} & 0 & \\frac{1}{2}\\\\0 & - \\frac{1}{2} & 0 & - \\frac{1}{2} & \\frac{1}{2} & 0 & - \\frac{1}{2} & 0\\\\- \\frac{1}{2} & 0 & - \\frac{1}{2} & 0 & 0 & \\frac{1}{2} & 0 & - \\frac{1}{2}\\\\0 & - \\frac{1}{2} & 0 & - \\frac{1}{2} & - \\frac{1}{2} & 0 & \\frac{1}{2} & 0\\end{matrix}\\right]$"
      ],
      "text/plain": [
       "Matrix([\n",
       "[   0, -1/2,    0,  1/2,  1/2,    0,  1/2,    0],\n",
       "[ 1/2,    0, -1/2,    0,    0,  1/2,    0,  1/2],\n",
       "[   0,  1/2,    0, -1/2,  1/2,    0,  1/2,    0],\n",
       "[-1/2,    0,  1/2,    0,    0,  1/2,    0,  1/2],\n",
       "[-1/2,    0, -1/2,    0,    0, -1/2,    0,  1/2],\n",
       "[   0, -1/2,    0, -1/2,  1/2,    0, -1/2,    0],\n",
       "[-1/2,    0, -1/2,    0,    0,  1/2,    0, -1/2],\n",
       "[   0, -1/2,    0, -1/2, -1/2,    0,  1/2,    0]])"
      ]
     },
     "execution_count": 12,
     "metadata": {},
     "output_type": "execute_result"
    }
   ],
   "source": [
    "Gamma_['-t^dag']"
   ]
  },
  {
   "cell_type": "code",
   "execution_count": 13,
   "metadata": {},
   "outputs": [
    {
     "data": {
      "text/latex": [
       "$\\displaystyle 1$"
      ],
      "text/plain": [
       "1"
      ]
     },
     "execution_count": 13,
     "metadata": {},
     "output_type": "execute_result"
    }
   ],
   "source": [
    "-(Gamma_['-t^dag']@Gamma_['-t^dag'])[0,0]"
   ]
  },
  {
   "cell_type": "code",
   "execution_count": 18,
   "metadata": {},
   "outputs": [],
   "source": [
    "op = Dagger(c['+t'])\n",
    "op_g = recursiveapply(op.subs(c2g).subs(selfadjoint).expand(),normalorder2)\n",
    "op_K=op_g.subs(gamma_xi)\n",
    "op_dm=recursiveapply(( op_K* rho_epr4 * Dagger(op_K)).expand().subs(selfadjoint),normalorder2)"
   ]
  },
  {
   "cell_type": "code",
   "execution_count": 19,
   "metadata": {},
   "outputs": [
    {
     "data": {
      "text/latex": [
       "$\\displaystyle \\frac{1}{32} - \\frac{i \\eta_{0} \\eta_{1}}{64} - \\frac{i \\eta_{0} \\eta_{3}}{64} + \\frac{i \\eta_{1} \\eta_{2}}{64} - \\frac{i \\eta_{2} \\eta_{3}}{64} - \\frac{i \\xi_{0} \\eta_{0}}{64} + \\frac{\\xi_{0} \\eta_{0} \\eta_{1} \\eta_{2}}{64} - \\frac{\\xi_{0} \\eta_{0} \\eta_{2} \\eta_{3}}{64} + \\frac{i \\xi_{0} \\eta_{2}}{64} - \\frac{i \\xi_{0} \\xi_{1}}{64} - \\frac{i \\xi_{0} \\xi_{1} \\eta_{0} \\eta_{1} \\eta_{2} \\eta_{3}}{64} - \\frac{\\xi_{0} \\xi_{1} \\eta_{0} \\eta_{3}}{64} + \\frac{\\xi_{0} \\xi_{1} \\eta_{1} \\eta_{2}}{64} + \\frac{\\xi_{0} \\xi_{1} \\xi_{2} \\eta_{0}}{64} + \\frac{i \\xi_{0} \\xi_{1} \\xi_{2} \\eta_{0} \\eta_{1} \\eta_{2}}{64} - \\frac{i \\xi_{0} \\xi_{1} \\xi_{2} \\eta_{0} \\eta_{2} \\eta_{3}}{64} - \\frac{\\xi_{0} \\xi_{1} \\xi_{2} \\eta_{2}}{64} - \\frac{i \\xi_{0} \\xi_{1} \\xi_{2} \\xi_{3} \\eta_{0} \\eta_{1}}{64} - \\frac{\\xi_{0} \\xi_{1} \\xi_{2} \\xi_{3} \\eta_{0} \\eta_{1} \\eta_{2} \\eta_{3}}{32} + \\frac{i \\xi_{0} \\xi_{1} \\xi_{2} \\xi_{3} \\eta_{0} \\eta_{3}}{64} - \\frac{i \\xi_{0} \\xi_{1} \\xi_{2} \\xi_{3} \\eta_{1} \\eta_{2}}{64} - \\frac{i \\xi_{0} \\xi_{1} \\xi_{2} \\xi_{3} \\eta_{2} \\eta_{3}}{64} + \\frac{i \\xi_{0} \\xi_{1} \\xi_{3} \\eta_{0} \\eta_{1} \\eta_{3}}{64} + \\frac{\\xi_{0} \\xi_{1} \\xi_{3} \\eta_{1}}{64} - \\frac{i \\xi_{0} \\xi_{1} \\xi_{3} \\eta_{1} \\eta_{2} \\eta_{3}}{64} - \\frac{\\xi_{0} \\xi_{1} \\xi_{3} \\eta_{3}}{64} - \\frac{\\xi_{0} \\xi_{2} \\xi_{3} \\eta_{0}}{64} - \\frac{i \\xi_{0} \\xi_{2} \\xi_{3} \\eta_{0} \\eta_{1} \\eta_{2}}{64} + \\frac{i \\xi_{0} \\xi_{2} \\xi_{3} \\eta_{0} \\eta_{2} \\eta_{3}}{64} + \\frac{\\xi_{0} \\xi_{2} \\xi_{3} \\eta_{2}}{64} - \\frac{i \\xi_{0} \\xi_{3}}{64} - \\frac{\\xi_{0} \\xi_{3} \\eta_{0} \\eta_{1}}{64} + \\frac{i \\xi_{0} \\xi_{3} \\eta_{0} \\eta_{1} \\eta_{2} \\eta_{3}}{64} - \\frac{\\xi_{0} \\xi_{3} \\eta_{2} \\eta_{3}}{64} + \\frac{\\xi_{1} \\eta_{0} \\eta_{1} \\eta_{3}}{64} - \\frac{i \\xi_{1} \\eta_{1}}{64} - \\frac{\\xi_{1} \\eta_{1} \\eta_{2} \\eta_{3}}{64} + \\frac{i \\xi_{1} \\eta_{3}}{64} + \\frac{i \\xi_{1} \\xi_{2}}{64} + \\frac{\\xi_{1} \\xi_{2} \\eta_{0} \\eta_{1}}{64} - \\frac{i \\xi_{1} \\xi_{2} \\eta_{0} \\eta_{1} \\eta_{2} \\eta_{3}}{64} + \\frac{\\xi_{1} \\xi_{2} \\eta_{2} \\eta_{3}}{64} - \\frac{i \\xi_{1} \\xi_{2} \\xi_{3} \\eta_{0} \\eta_{1} \\eta_{3}}{64} - \\frac{\\xi_{1} \\xi_{2} \\xi_{3} \\eta_{1}}{64} + \\frac{i \\xi_{1} \\xi_{2} \\xi_{3} \\eta_{1} \\eta_{2} \\eta_{3}}{64} + \\frac{\\xi_{1} \\xi_{2} \\xi_{3} \\eta_{3}}{64} + \\frac{i \\xi_{2} \\eta_{0}}{64} - \\frac{\\xi_{2} \\eta_{0} \\eta_{1} \\eta_{2}}{64} + \\frac{\\xi_{2} \\eta_{0} \\eta_{2} \\eta_{3}}{64} - \\frac{i \\xi_{2} \\eta_{2}}{64} - \\frac{i \\xi_{2} \\xi_{3}}{64} - \\frac{i \\xi_{2} \\xi_{3} \\eta_{0} \\eta_{1} \\eta_{2} \\eta_{3}}{64} - \\frac{\\xi_{2} \\xi_{3} \\eta_{0} \\eta_{3}}{64} + \\frac{\\xi_{2} \\xi_{3} \\eta_{1} \\eta_{2}}{64} - \\frac{\\xi_{3} \\eta_{0} \\eta_{1} \\eta_{3}}{64} + \\frac{i \\xi_{3} \\eta_{1}}{64} + \\frac{\\xi_{3} \\eta_{1} \\eta_{2} \\eta_{3}}{64} - \\frac{i \\xi_{3} \\eta_{3}}{64}$"
      ],
      "text/plain": [
       "1/32 - I*\\eta_0*\\eta_1/64 - I*\\eta_0*\\eta_3/64 + I*\\eta_1*\\eta_2/64 - I*\\eta_2*\\eta_3/64 - I*\\xi_0*\\eta_0/64 + \\xi_0*\\eta_0*\\eta_1*\\eta_2/64 - \\xi_0*\\eta_0*\\eta_2*\\eta_3/64 + I*\\xi_0*\\eta_2/64 - I*\\xi_0*\\xi_1/64 - I*\\xi_0*\\xi_1*\\eta_0*\\eta_1*\\eta_2*\\eta_3/64 - \\xi_0*\\xi_1*\\eta_0*\\eta_3/64 + \\xi_0*\\xi_1*\\eta_1*\\eta_2/64 + \\xi_0*\\xi_1*\\xi_2*\\eta_0/64 + I*\\xi_0*\\xi_1*\\xi_2*\\eta_0*\\eta_1*\\eta_2/64 - I*\\xi_0*\\xi_1*\\xi_2*\\eta_0*\\eta_2*\\eta_3/64 - \\xi_0*\\xi_1*\\xi_2*\\eta_2/64 - I*\\xi_0*\\xi_1*\\xi_2*\\xi_3*\\eta_0*\\eta_1/64 - \\xi_0*\\xi_1*\\xi_2*\\xi_3*\\eta_0*\\eta_1*\\eta_2*\\eta_3/32 + I*\\xi_0*\\xi_1*\\xi_2*\\xi_3*\\eta_0*\\eta_3/64 - I*\\xi_0*\\xi_1*\\xi_2*\\xi_3*\\eta_1*\\eta_2/64 - I*\\xi_0*\\xi_1*\\xi_2*\\xi_3*\\eta_2*\\eta_3/64 + I*\\xi_0*\\xi_1*\\xi_3*\\eta_0*\\eta_1*\\eta_3/64 + \\xi_0*\\xi_1*\\xi_3*\\eta_1/64 - I*\\xi_0*\\xi_1*\\xi_3*\\eta_1*\\eta_2*\\eta_3/64 - \\xi_0*\\xi_1*\\xi_3*\\eta_3/64 - \\xi_0*\\xi_2*\\xi_3*\\eta_0/64 - I*\\xi_0*\\xi_2*\\xi_3*\\eta_0*\\eta_1*\\eta_2/64 + I*\\xi_0*\\xi_2*\\xi_3*\\eta_0*\\eta_2*\\eta_3/64 + \\xi_0*\\xi_2*\\xi_3*\\eta_2/64 - I*\\xi_0*\\xi_3/64 - \\xi_0*\\xi_3*\\eta_0*\\eta_1/64 + I*\\xi_0*\\xi_3*\\eta_0*\\eta_1*\\eta_2*\\eta_3/64 - \\xi_0*\\xi_3*\\eta_2*\\eta_3/64 + \\xi_1*\\eta_0*\\eta_1*\\eta_3/64 - I*\\xi_1*\\eta_1/64 - \\xi_1*\\eta_1*\\eta_2*\\eta_3/64 + I*\\xi_1*\\eta_3/64 + I*\\xi_1*\\xi_2/64 + \\xi_1*\\xi_2*\\eta_0*\\eta_1/64 - I*\\xi_1*\\xi_2*\\eta_0*\\eta_1*\\eta_2*\\eta_3/64 + \\xi_1*\\xi_2*\\eta_2*\\eta_3/64 - I*\\xi_1*\\xi_2*\\xi_3*\\eta_0*\\eta_1*\\eta_3/64 - \\xi_1*\\xi_2*\\xi_3*\\eta_1/64 + I*\\xi_1*\\xi_2*\\xi_3*\\eta_1*\\eta_2*\\eta_3/64 + \\xi_1*\\xi_2*\\xi_3*\\eta_3/64 + I*\\xi_2*\\eta_0/64 - \\xi_2*\\eta_0*\\eta_1*\\eta_2/64 + \\xi_2*\\eta_0*\\eta_2*\\eta_3/64 - I*\\xi_2*\\eta_2/64 - I*\\xi_2*\\xi_3/64 - I*\\xi_2*\\xi_3*\\eta_0*\\eta_1*\\eta_2*\\eta_3/64 - \\xi_2*\\xi_3*\\eta_0*\\eta_3/64 + \\xi_2*\\xi_3*\\eta_1*\\eta_2/64 - \\xi_3*\\eta_0*\\eta_1*\\eta_3/64 + I*\\xi_3*\\eta_1/64 + \\xi_3*\\eta_1*\\eta_2*\\eta_3/64 - I*\\xi_3*\\eta_3/64"
      ]
     },
     "execution_count": 19,
     "metadata": {},
     "output_type": "execute_result"
    }
   ],
   "source": [
    "op_dm"
   ]
  },
  {
   "cell_type": "code",
   "execution_count": 20,
   "metadata": {},
   "outputs": [
    {
     "name": "stderr",
     "output_type": "stream",
     "text": [
      "100%|██████████| 28/28 [04:06<00:00,  8.80s/it]\n"
     ]
    }
   ],
   "source": [
    "Gamma_['+t^dag']=get_Gamma(op_dm,4)"
   ]
  },
  {
   "cell_type": "code",
   "execution_count": 21,
   "metadata": {},
   "outputs": [
    {
     "data": {
      "text/latex": [
       "$\\displaystyle \\left[\\begin{matrix}0 & - \\frac{1}{2} & 0 & - \\frac{1}{2} & \\frac{1}{2} & 0 & - \\frac{1}{2} & 0\\\\\\frac{1}{2} & 0 & \\frac{1}{2} & 0 & 0 & \\frac{1}{2} & 0 & - \\frac{1}{2}\\\\0 & - \\frac{1}{2} & 0 & - \\frac{1}{2} & - \\frac{1}{2} & 0 & \\frac{1}{2} & 0\\\\\\frac{1}{2} & 0 & \\frac{1}{2} & 0 & 0 & - \\frac{1}{2} & 0 & \\frac{1}{2}\\\\- \\frac{1}{2} & 0 & \\frac{1}{2} & 0 & 0 & - \\frac{1}{2} & 0 & - \\frac{1}{2}\\\\0 & - \\frac{1}{2} & 0 & \\frac{1}{2} & \\frac{1}{2} & 0 & \\frac{1}{2} & 0\\\\\\frac{1}{2} & 0 & - \\frac{1}{2} & 0 & 0 & - \\frac{1}{2} & 0 & - \\frac{1}{2}\\\\0 & \\frac{1}{2} & 0 & - \\frac{1}{2} & \\frac{1}{2} & 0 & \\frac{1}{2} & 0\\end{matrix}\\right]$"
      ],
      "text/plain": [
       "Matrix([\n",
       "[   0, -1/2,    0, -1/2,  1/2,    0, -1/2,    0],\n",
       "[ 1/2,    0,  1/2,    0,    0,  1/2,    0, -1/2],\n",
       "[   0, -1/2,    0, -1/2, -1/2,    0,  1/2,    0],\n",
       "[ 1/2,    0,  1/2,    0,    0, -1/2,    0,  1/2],\n",
       "[-1/2,    0,  1/2,    0,    0, -1/2,    0, -1/2],\n",
       "[   0, -1/2,    0,  1/2,  1/2,    0,  1/2,    0],\n",
       "[ 1/2,    0, -1/2,    0,    0, -1/2,    0, -1/2],\n",
       "[   0,  1/2,    0, -1/2,  1/2,    0,  1/2,    0]])"
      ]
     },
     "execution_count": 21,
     "metadata": {},
     "output_type": "execute_result"
    }
   ],
   "source": [
    "Gamma_['+t^dag']"
   ]
  },
  {
   "cell_type": "code",
   "execution_count": 22,
   "metadata": {},
   "outputs": [],
   "source": [
    "op = (c['-t'])\n",
    "op_g = recursiveapply(op.subs(c2g).subs(selfadjoint).expand(),normalorder2)\n",
    "op_K=op_g.subs(gamma_xi)\n",
    "op_dm=recursiveapply(( op_K* rho_epr4 * Dagger(op_K)).expand().subs(selfadjoint),normalorder2)"
   ]
  },
  {
   "cell_type": "code",
   "execution_count": 23,
   "metadata": {},
   "outputs": [
    {
     "data": {
      "text/latex": [
       "$\\displaystyle \\frac{1}{32} + \\frac{i \\eta_{0} \\eta_{1}}{64} - \\frac{i \\eta_{0} \\eta_{3}}{64} + \\frac{i \\eta_{1} \\eta_{2}}{64} + \\frac{i \\eta_{2} \\eta_{3}}{64} - \\frac{i \\xi_{0} \\eta_{0}}{64} + \\frac{\\xi_{0} \\eta_{0} \\eta_{1} \\eta_{2}}{64} + \\frac{\\xi_{0} \\eta_{0} \\eta_{2} \\eta_{3}}{64} - \\frac{i \\xi_{0} \\eta_{2}}{64} + \\frac{i \\xi_{0} \\xi_{1}}{64} + \\frac{i \\xi_{0} \\xi_{1} \\eta_{0} \\eta_{1} \\eta_{2} \\eta_{3}}{64} + \\frac{\\xi_{0} \\xi_{1} \\eta_{0} \\eta_{3}}{64} - \\frac{\\xi_{0} \\xi_{1} \\eta_{1} \\eta_{2}}{64} + \\frac{\\xi_{0} \\xi_{1} \\xi_{2} \\eta_{0}}{64} + \\frac{i \\xi_{0} \\xi_{1} \\xi_{2} \\eta_{0} \\eta_{1} \\eta_{2}}{64} + \\frac{i \\xi_{0} \\xi_{1} \\xi_{2} \\eta_{0} \\eta_{2} \\eta_{3}}{64} + \\frac{\\xi_{0} \\xi_{1} \\xi_{2} \\eta_{2}}{64} + \\frac{i \\xi_{0} \\xi_{1} \\xi_{2} \\xi_{3} \\eta_{0} \\eta_{1}}{64} - \\frac{\\xi_{0} \\xi_{1} \\xi_{2} \\xi_{3} \\eta_{0} \\eta_{1} \\eta_{2} \\eta_{3}}{32} + \\frac{i \\xi_{0} \\xi_{1} \\xi_{2} \\xi_{3} \\eta_{0} \\eta_{3}}{64} - \\frac{i \\xi_{0} \\xi_{1} \\xi_{2} \\xi_{3} \\eta_{1} \\eta_{2}}{64} + \\frac{i \\xi_{0} \\xi_{1} \\xi_{2} \\xi_{3} \\eta_{2} \\eta_{3}}{64} + \\frac{i \\xi_{0} \\xi_{1} \\xi_{3} \\eta_{0} \\eta_{1} \\eta_{3}}{64} + \\frac{\\xi_{0} \\xi_{1} \\xi_{3} \\eta_{1}}{64} + \\frac{i \\xi_{0} \\xi_{1} \\xi_{3} \\eta_{1} \\eta_{2} \\eta_{3}}{64} + \\frac{\\xi_{0} \\xi_{1} \\xi_{3} \\eta_{3}}{64} + \\frac{\\xi_{0} \\xi_{2} \\xi_{3} \\eta_{0}}{64} + \\frac{i \\xi_{0} \\xi_{2} \\xi_{3} \\eta_{0} \\eta_{1} \\eta_{2}}{64} + \\frac{i \\xi_{0} \\xi_{2} \\xi_{3} \\eta_{0} \\eta_{2} \\eta_{3}}{64} + \\frac{\\xi_{0} \\xi_{2} \\xi_{3} \\eta_{2}}{64} - \\frac{i \\xi_{0} \\xi_{3}}{64} + \\frac{\\xi_{0} \\xi_{3} \\eta_{0} \\eta_{1}}{64} + \\frac{i \\xi_{0} \\xi_{3} \\eta_{0} \\eta_{1} \\eta_{2} \\eta_{3}}{64} + \\frac{\\xi_{0} \\xi_{3} \\eta_{2} \\eta_{3}}{64} + \\frac{\\xi_{1} \\eta_{0} \\eta_{1} \\eta_{3}}{64} - \\frac{i \\xi_{1} \\eta_{1}}{64} + \\frac{\\xi_{1} \\eta_{1} \\eta_{2} \\eta_{3}}{64} - \\frac{i \\xi_{1} \\eta_{3}}{64} + \\frac{i \\xi_{1} \\xi_{2}}{64} - \\frac{\\xi_{1} \\xi_{2} \\eta_{0} \\eta_{1}}{64} - \\frac{i \\xi_{1} \\xi_{2} \\eta_{0} \\eta_{1} \\eta_{2} \\eta_{3}}{64} - \\frac{\\xi_{1} \\xi_{2} \\eta_{2} \\eta_{3}}{64} + \\frac{i \\xi_{1} \\xi_{2} \\xi_{3} \\eta_{0} \\eta_{1} \\eta_{3}}{64} + \\frac{\\xi_{1} \\xi_{2} \\xi_{3} \\eta_{1}}{64} + \\frac{i \\xi_{1} \\xi_{2} \\xi_{3} \\eta_{1} \\eta_{2} \\eta_{3}}{64} + \\frac{\\xi_{1} \\xi_{2} \\xi_{3} \\eta_{3}}{64} - \\frac{i \\xi_{2} \\eta_{0}}{64} + \\frac{\\xi_{2} \\eta_{0} \\eta_{1} \\eta_{2}}{64} + \\frac{\\xi_{2} \\eta_{0} \\eta_{2} \\eta_{3}}{64} - \\frac{i \\xi_{2} \\eta_{2}}{64} + \\frac{i \\xi_{2} \\xi_{3}}{64} + \\frac{i \\xi_{2} \\xi_{3} \\eta_{0} \\eta_{1} \\eta_{2} \\eta_{3}}{64} + \\frac{\\xi_{2} \\xi_{3} \\eta_{0} \\eta_{3}}{64} - \\frac{\\xi_{2} \\xi_{3} \\eta_{1} \\eta_{2}}{64} + \\frac{\\xi_{3} \\eta_{0} \\eta_{1} \\eta_{3}}{64} - \\frac{i \\xi_{3} \\eta_{1}}{64} + \\frac{\\xi_{3} \\eta_{1} \\eta_{2} \\eta_{3}}{64} - \\frac{i \\xi_{3} \\eta_{3}}{64}$"
      ],
      "text/plain": [
       "1/32 + I*\\eta_0*\\eta_1/64 - I*\\eta_0*\\eta_3/64 + I*\\eta_1*\\eta_2/64 + I*\\eta_2*\\eta_3/64 - I*\\xi_0*\\eta_0/64 + \\xi_0*\\eta_0*\\eta_1*\\eta_2/64 + \\xi_0*\\eta_0*\\eta_2*\\eta_3/64 - I*\\xi_0*\\eta_2/64 + I*\\xi_0*\\xi_1/64 + I*\\xi_0*\\xi_1*\\eta_0*\\eta_1*\\eta_2*\\eta_3/64 + \\xi_0*\\xi_1*\\eta_0*\\eta_3/64 - \\xi_0*\\xi_1*\\eta_1*\\eta_2/64 + \\xi_0*\\xi_1*\\xi_2*\\eta_0/64 + I*\\xi_0*\\xi_1*\\xi_2*\\eta_0*\\eta_1*\\eta_2/64 + I*\\xi_0*\\xi_1*\\xi_2*\\eta_0*\\eta_2*\\eta_3/64 + \\xi_0*\\xi_1*\\xi_2*\\eta_2/64 + I*\\xi_0*\\xi_1*\\xi_2*\\xi_3*\\eta_0*\\eta_1/64 - \\xi_0*\\xi_1*\\xi_2*\\xi_3*\\eta_0*\\eta_1*\\eta_2*\\eta_3/32 + I*\\xi_0*\\xi_1*\\xi_2*\\xi_3*\\eta_0*\\eta_3/64 - I*\\xi_0*\\xi_1*\\xi_2*\\xi_3*\\eta_1*\\eta_2/64 + I*\\xi_0*\\xi_1*\\xi_2*\\xi_3*\\eta_2*\\eta_3/64 + I*\\xi_0*\\xi_1*\\xi_3*\\eta_0*\\eta_1*\\eta_3/64 + \\xi_0*\\xi_1*\\xi_3*\\eta_1/64 + I*\\xi_0*\\xi_1*\\xi_3*\\eta_1*\\eta_2*\\eta_3/64 + \\xi_0*\\xi_1*\\xi_3*\\eta_3/64 + \\xi_0*\\xi_2*\\xi_3*\\eta_0/64 + I*\\xi_0*\\xi_2*\\xi_3*\\eta_0*\\eta_1*\\eta_2/64 + I*\\xi_0*\\xi_2*\\xi_3*\\eta_0*\\eta_2*\\eta_3/64 + \\xi_0*\\xi_2*\\xi_3*\\eta_2/64 - I*\\xi_0*\\xi_3/64 + \\xi_0*\\xi_3*\\eta_0*\\eta_1/64 + I*\\xi_0*\\xi_3*\\eta_0*\\eta_1*\\eta_2*\\eta_3/64 + \\xi_0*\\xi_3*\\eta_2*\\eta_3/64 + \\xi_1*\\eta_0*\\eta_1*\\eta_3/64 - I*\\xi_1*\\eta_1/64 + \\xi_1*\\eta_1*\\eta_2*\\eta_3/64 - I*\\xi_1*\\eta_3/64 + I*\\xi_1*\\xi_2/64 - \\xi_1*\\xi_2*\\eta_0*\\eta_1/64 - I*\\xi_1*\\xi_2*\\eta_0*\\eta_1*\\eta_2*\\eta_3/64 - \\xi_1*\\xi_2*\\eta_2*\\eta_3/64 + I*\\xi_1*\\xi_2*\\xi_3*\\eta_0*\\eta_1*\\eta_3/64 + \\xi_1*\\xi_2*\\xi_3*\\eta_1/64 + I*\\xi_1*\\xi_2*\\xi_3*\\eta_1*\\eta_2*\\eta_3/64 + \\xi_1*\\xi_2*\\xi_3*\\eta_3/64 - I*\\xi_2*\\eta_0/64 + \\xi_2*\\eta_0*\\eta_1*\\eta_2/64 + \\xi_2*\\eta_0*\\eta_2*\\eta_3/64 - I*\\xi_2*\\eta_2/64 + I*\\xi_2*\\xi_3/64 + I*\\xi_2*\\xi_3*\\eta_0*\\eta_1*\\eta_2*\\eta_3/64 + \\xi_2*\\xi_3*\\eta_0*\\eta_3/64 - \\xi_2*\\xi_3*\\eta_1*\\eta_2/64 + \\xi_3*\\eta_0*\\eta_1*\\eta_3/64 - I*\\xi_3*\\eta_1/64 + \\xi_3*\\eta_1*\\eta_2*\\eta_3/64 - I*\\xi_3*\\eta_3/64"
      ]
     },
     "execution_count": 23,
     "metadata": {},
     "output_type": "execute_result"
    }
   ],
   "source": [
    "op_dm"
   ]
  },
  {
   "cell_type": "code",
   "execution_count": 24,
   "metadata": {},
   "outputs": [
    {
     "name": "stderr",
     "output_type": "stream",
     "text": [
      "100%|██████████| 28/28 [04:05<00:00,  8.78s/it]\n"
     ]
    }
   ],
   "source": [
    "Gamma_['-t']=get_Gamma(op_dm,4)"
   ]
  },
  {
   "cell_type": "code",
   "execution_count": 25,
   "metadata": {},
   "outputs": [
    {
     "data": {
      "text/latex": [
       "$\\displaystyle \\left[\\begin{matrix}0 & \\frac{1}{2} & 0 & - \\frac{1}{2} & \\frac{1}{2} & 0 & \\frac{1}{2} & 0\\\\- \\frac{1}{2} & 0 & \\frac{1}{2} & 0 & 0 & \\frac{1}{2} & 0 & \\frac{1}{2}\\\\0 & - \\frac{1}{2} & 0 & \\frac{1}{2} & \\frac{1}{2} & 0 & \\frac{1}{2} & 0\\\\\\frac{1}{2} & 0 & - \\frac{1}{2} & 0 & 0 & \\frac{1}{2} & 0 & \\frac{1}{2}\\\\- \\frac{1}{2} & 0 & - \\frac{1}{2} & 0 & 0 & \\frac{1}{2} & 0 & - \\frac{1}{2}\\\\0 & - \\frac{1}{2} & 0 & - \\frac{1}{2} & - \\frac{1}{2} & 0 & \\frac{1}{2} & 0\\\\- \\frac{1}{2} & 0 & - \\frac{1}{2} & 0 & 0 & - \\frac{1}{2} & 0 & \\frac{1}{2}\\\\0 & - \\frac{1}{2} & 0 & - \\frac{1}{2} & \\frac{1}{2} & 0 & - \\frac{1}{2} & 0\\end{matrix}\\right]$"
      ],
      "text/plain": [
       "Matrix([\n",
       "[   0,  1/2,    0, -1/2,  1/2,    0,  1/2,    0],\n",
       "[-1/2,    0,  1/2,    0,    0,  1/2,    0,  1/2],\n",
       "[   0, -1/2,    0,  1/2,  1/2,    0,  1/2,    0],\n",
       "[ 1/2,    0, -1/2,    0,    0,  1/2,    0,  1/2],\n",
       "[-1/2,    0, -1/2,    0,    0,  1/2,    0, -1/2],\n",
       "[   0, -1/2,    0, -1/2, -1/2,    0,  1/2,    0],\n",
       "[-1/2,    0, -1/2,    0,    0, -1/2,    0,  1/2],\n",
       "[   0, -1/2,    0, -1/2,  1/2,    0, -1/2,    0]])"
      ]
     },
     "execution_count": 25,
     "metadata": {},
     "output_type": "execute_result"
    }
   ],
   "source": [
    "Gamma_['-t']"
   ]
  },
  {
   "cell_type": "code",
   "execution_count": 26,
   "metadata": {},
   "outputs": [],
   "source": [
    "op = (c['+t'])\n",
    "op_g = recursiveapply(op.subs(c2g).subs(selfadjoint).expand(),normalorder2)\n",
    "op_K=op_g.subs(gamma_xi)\n",
    "op_dm=recursiveapply(( op_K* rho_epr4 * Dagger(op_K)).expand().subs(selfadjoint),normalorder2)"
   ]
  },
  {
   "cell_type": "code",
   "execution_count": 27,
   "metadata": {},
   "outputs": [
    {
     "data": {
      "text/latex": [
       "$\\displaystyle \\frac{1}{32} + \\frac{i \\eta_{0} \\eta_{1}}{64} + \\frac{i \\eta_{0} \\eta_{3}}{64} - \\frac{i \\eta_{1} \\eta_{2}}{64} + \\frac{i \\eta_{2} \\eta_{3}}{64} - \\frac{i \\xi_{0} \\eta_{0}}{64} - \\frac{\\xi_{0} \\eta_{0} \\eta_{1} \\eta_{2}}{64} + \\frac{\\xi_{0} \\eta_{0} \\eta_{2} \\eta_{3}}{64} + \\frac{i \\xi_{0} \\eta_{2}}{64} + \\frac{i \\xi_{0} \\xi_{1}}{64} + \\frac{i \\xi_{0} \\xi_{1} \\eta_{0} \\eta_{1} \\eta_{2} \\eta_{3}}{64} - \\frac{\\xi_{0} \\xi_{1} \\eta_{0} \\eta_{3}}{64} + \\frac{\\xi_{0} \\xi_{1} \\eta_{1} \\eta_{2}}{64} - \\frac{\\xi_{0} \\xi_{1} \\xi_{2} \\eta_{0}}{64} + \\frac{i \\xi_{0} \\xi_{1} \\xi_{2} \\eta_{0} \\eta_{1} \\eta_{2}}{64} - \\frac{i \\xi_{0} \\xi_{1} \\xi_{2} \\eta_{0} \\eta_{2} \\eta_{3}}{64} + \\frac{\\xi_{0} \\xi_{1} \\xi_{2} \\eta_{2}}{64} + \\frac{i \\xi_{0} \\xi_{1} \\xi_{2} \\xi_{3} \\eta_{0} \\eta_{1}}{64} - \\frac{\\xi_{0} \\xi_{1} \\xi_{2} \\xi_{3} \\eta_{0} \\eta_{1} \\eta_{2} \\eta_{3}}{32} - \\frac{i \\xi_{0} \\xi_{1} \\xi_{2} \\xi_{3} \\eta_{0} \\eta_{3}}{64} + \\frac{i \\xi_{0} \\xi_{1} \\xi_{2} \\xi_{3} \\eta_{1} \\eta_{2}}{64} + \\frac{i \\xi_{0} \\xi_{1} \\xi_{2} \\xi_{3} \\eta_{2} \\eta_{3}}{64} + \\frac{i \\xi_{0} \\xi_{1} \\xi_{3} \\eta_{0} \\eta_{1} \\eta_{3}}{64} - \\frac{\\xi_{0} \\xi_{1} \\xi_{3} \\eta_{1}}{64} - \\frac{i \\xi_{0} \\xi_{1} \\xi_{3} \\eta_{1} \\eta_{2} \\eta_{3}}{64} + \\frac{\\xi_{0} \\xi_{1} \\xi_{3} \\eta_{3}}{64} + \\frac{\\xi_{0} \\xi_{2} \\xi_{3} \\eta_{0}}{64} - \\frac{i \\xi_{0} \\xi_{2} \\xi_{3} \\eta_{0} \\eta_{1} \\eta_{2}}{64} + \\frac{i \\xi_{0} \\xi_{2} \\xi_{3} \\eta_{0} \\eta_{2} \\eta_{3}}{64} - \\frac{\\xi_{0} \\xi_{2} \\xi_{3} \\eta_{2}}{64} + \\frac{i \\xi_{0} \\xi_{3}}{64} - \\frac{\\xi_{0} \\xi_{3} \\eta_{0} \\eta_{1}}{64} - \\frac{i \\xi_{0} \\xi_{3} \\eta_{0} \\eta_{1} \\eta_{2} \\eta_{3}}{64} - \\frac{\\xi_{0} \\xi_{3} \\eta_{2} \\eta_{3}}{64} - \\frac{\\xi_{1} \\eta_{0} \\eta_{1} \\eta_{3}}{64} - \\frac{i \\xi_{1} \\eta_{1}}{64} + \\frac{\\xi_{1} \\eta_{1} \\eta_{2} \\eta_{3}}{64} + \\frac{i \\xi_{1} \\eta_{3}}{64} - \\frac{i \\xi_{1} \\xi_{2}}{64} + \\frac{\\xi_{1} \\xi_{2} \\eta_{0} \\eta_{1}}{64} + \\frac{i \\xi_{1} \\xi_{2} \\eta_{0} \\eta_{1} \\eta_{2} \\eta_{3}}{64} + \\frac{\\xi_{1} \\xi_{2} \\eta_{2} \\eta_{3}}{64} - \\frac{i \\xi_{1} \\xi_{2} \\xi_{3} \\eta_{0} \\eta_{1} \\eta_{3}}{64} + \\frac{\\xi_{1} \\xi_{2} \\xi_{3} \\eta_{1}}{64} + \\frac{i \\xi_{1} \\xi_{2} \\xi_{3} \\eta_{1} \\eta_{2} \\eta_{3}}{64} - \\frac{\\xi_{1} \\xi_{2} \\xi_{3} \\eta_{3}}{64} + \\frac{i \\xi_{2} \\eta_{0}}{64} + \\frac{\\xi_{2} \\eta_{0} \\eta_{1} \\eta_{2}}{64} - \\frac{\\xi_{2} \\eta_{0} \\eta_{2} \\eta_{3}}{64} - \\frac{i \\xi_{2} \\eta_{2}}{64} + \\frac{i \\xi_{2} \\xi_{3}}{64} + \\frac{i \\xi_{2} \\xi_{3} \\eta_{0} \\eta_{1} \\eta_{2} \\eta_{3}}{64} - \\frac{\\xi_{2} \\xi_{3} \\eta_{0} \\eta_{3}}{64} + \\frac{\\xi_{2} \\xi_{3} \\eta_{1} \\eta_{2}}{64} + \\frac{\\xi_{3} \\eta_{0} \\eta_{1} \\eta_{3}}{64} + \\frac{i \\xi_{3} \\eta_{1}}{64} - \\frac{\\xi_{3} \\eta_{1} \\eta_{2} \\eta_{3}}{64} - \\frac{i \\xi_{3} \\eta_{3}}{64}$"
      ],
      "text/plain": [
       "1/32 + I*\\eta_0*\\eta_1/64 + I*\\eta_0*\\eta_3/64 - I*\\eta_1*\\eta_2/64 + I*\\eta_2*\\eta_3/64 - I*\\xi_0*\\eta_0/64 - \\xi_0*\\eta_0*\\eta_1*\\eta_2/64 + \\xi_0*\\eta_0*\\eta_2*\\eta_3/64 + I*\\xi_0*\\eta_2/64 + I*\\xi_0*\\xi_1/64 + I*\\xi_0*\\xi_1*\\eta_0*\\eta_1*\\eta_2*\\eta_3/64 - \\xi_0*\\xi_1*\\eta_0*\\eta_3/64 + \\xi_0*\\xi_1*\\eta_1*\\eta_2/64 - \\xi_0*\\xi_1*\\xi_2*\\eta_0/64 + I*\\xi_0*\\xi_1*\\xi_2*\\eta_0*\\eta_1*\\eta_2/64 - I*\\xi_0*\\xi_1*\\xi_2*\\eta_0*\\eta_2*\\eta_3/64 + \\xi_0*\\xi_1*\\xi_2*\\eta_2/64 + I*\\xi_0*\\xi_1*\\xi_2*\\xi_3*\\eta_0*\\eta_1/64 - \\xi_0*\\xi_1*\\xi_2*\\xi_3*\\eta_0*\\eta_1*\\eta_2*\\eta_3/32 - I*\\xi_0*\\xi_1*\\xi_2*\\xi_3*\\eta_0*\\eta_3/64 + I*\\xi_0*\\xi_1*\\xi_2*\\xi_3*\\eta_1*\\eta_2/64 + I*\\xi_0*\\xi_1*\\xi_2*\\xi_3*\\eta_2*\\eta_3/64 + I*\\xi_0*\\xi_1*\\xi_3*\\eta_0*\\eta_1*\\eta_3/64 - \\xi_0*\\xi_1*\\xi_3*\\eta_1/64 - I*\\xi_0*\\xi_1*\\xi_3*\\eta_1*\\eta_2*\\eta_3/64 + \\xi_0*\\xi_1*\\xi_3*\\eta_3/64 + \\xi_0*\\xi_2*\\xi_3*\\eta_0/64 - I*\\xi_0*\\xi_2*\\xi_3*\\eta_0*\\eta_1*\\eta_2/64 + I*\\xi_0*\\xi_2*\\xi_3*\\eta_0*\\eta_2*\\eta_3/64 - \\xi_0*\\xi_2*\\xi_3*\\eta_2/64 + I*\\xi_0*\\xi_3/64 - \\xi_0*\\xi_3*\\eta_0*\\eta_1/64 - I*\\xi_0*\\xi_3*\\eta_0*\\eta_1*\\eta_2*\\eta_3/64 - \\xi_0*\\xi_3*\\eta_2*\\eta_3/64 - \\xi_1*\\eta_0*\\eta_1*\\eta_3/64 - I*\\xi_1*\\eta_1/64 + \\xi_1*\\eta_1*\\eta_2*\\eta_3/64 + I*\\xi_1*\\eta_3/64 - I*\\xi_1*\\xi_2/64 + \\xi_1*\\xi_2*\\eta_0*\\eta_1/64 + I*\\xi_1*\\xi_2*\\eta_0*\\eta_1*\\eta_2*\\eta_3/64 + \\xi_1*\\xi_2*\\eta_2*\\eta_3/64 - I*\\xi_1*\\xi_2*\\xi_3*\\eta_0*\\eta_1*\\eta_3/64 + \\xi_1*\\xi_2*\\xi_3*\\eta_1/64 + I*\\xi_1*\\xi_2*\\xi_3*\\eta_1*\\eta_2*\\eta_3/64 - \\xi_1*\\xi_2*\\xi_3*\\eta_3/64 + I*\\xi_2*\\eta_0/64 + \\xi_2*\\eta_0*\\eta_1*\\eta_2/64 - \\xi_2*\\eta_0*\\eta_2*\\eta_3/64 - I*\\xi_2*\\eta_2/64 + I*\\xi_2*\\xi_3/64 + I*\\xi_2*\\xi_3*\\eta_0*\\eta_1*\\eta_2*\\eta_3/64 - \\xi_2*\\xi_3*\\eta_0*\\eta_3/64 + \\xi_2*\\xi_3*\\eta_1*\\eta_2/64 + \\xi_3*\\eta_0*\\eta_1*\\eta_3/64 + I*\\xi_3*\\eta_1/64 - \\xi_3*\\eta_1*\\eta_2*\\eta_3/64 - I*\\xi_3*\\eta_3/64"
      ]
     },
     "execution_count": 27,
     "metadata": {},
     "output_type": "execute_result"
    }
   ],
   "source": [
    "op_dm"
   ]
  },
  {
   "cell_type": "code",
   "execution_count": 28,
   "metadata": {},
   "outputs": [
    {
     "name": "stderr",
     "output_type": "stream",
     "text": [
      "100%|██████████| 28/28 [04:06<00:00,  8.79s/it]\n"
     ]
    }
   ],
   "source": [
    "Gamma_['+t']=get_Gamma(op_dm,4)"
   ]
  },
  {
   "cell_type": "code",
   "execution_count": 29,
   "metadata": {},
   "outputs": [
    {
     "data": {
      "text/latex": [
       "$\\displaystyle \\left[\\begin{matrix}0 & \\frac{1}{2} & 0 & \\frac{1}{2} & \\frac{1}{2} & 0 & - \\frac{1}{2} & 0\\\\- \\frac{1}{2} & 0 & - \\frac{1}{2} & 0 & 0 & \\frac{1}{2} & 0 & - \\frac{1}{2}\\\\0 & \\frac{1}{2} & 0 & \\frac{1}{2} & - \\frac{1}{2} & 0 & \\frac{1}{2} & 0\\\\- \\frac{1}{2} & 0 & - \\frac{1}{2} & 0 & 0 & - \\frac{1}{2} & 0 & \\frac{1}{2}\\\\- \\frac{1}{2} & 0 & \\frac{1}{2} & 0 & 0 & \\frac{1}{2} & 0 & \\frac{1}{2}\\\\0 & - \\frac{1}{2} & 0 & \\frac{1}{2} & - \\frac{1}{2} & 0 & - \\frac{1}{2} & 0\\\\\\frac{1}{2} & 0 & - \\frac{1}{2} & 0 & 0 & \\frac{1}{2} & 0 & \\frac{1}{2}\\\\0 & \\frac{1}{2} & 0 & - \\frac{1}{2} & - \\frac{1}{2} & 0 & - \\frac{1}{2} & 0\\end{matrix}\\right]$"
      ],
      "text/plain": [
       "Matrix([\n",
       "[   0,  1/2,    0,  1/2,  1/2,    0, -1/2,    0],\n",
       "[-1/2,    0, -1/2,    0,    0,  1/2,    0, -1/2],\n",
       "[   0,  1/2,    0,  1/2, -1/2,    0,  1/2,    0],\n",
       "[-1/2,    0, -1/2,    0,    0, -1/2,    0,  1/2],\n",
       "[-1/2,    0,  1/2,    0,    0,  1/2,    0,  1/2],\n",
       "[   0, -1/2,    0,  1/2, -1/2,    0, -1/2,    0],\n",
       "[ 1/2,    0, -1/2,    0,    0,  1/2,    0,  1/2],\n",
       "[   0,  1/2,    0, -1/2, -1/2,    0, -1/2,    0]])"
      ]
     },
     "execution_count": 29,
     "metadata": {},
     "output_type": "execute_result"
    }
   ],
   "source": [
    "Gamma_['+t']"
   ]
  },
  {
   "cell_type": "code",
   "execution_count": null,
   "metadata": {},
   "outputs": [],
   "source": []
  },
  {
   "cell_type": "code",
   "execution_count": 30,
   "metadata": {},
   "outputs": [],
   "source": [
    "op = (c[0])\n",
    "op_g = recursiveapply(op.subs(c2g).subs(selfadjoint).expand(),normalorder2)\n",
    "op_K=op_g.subs(gamma_xi)\n",
    "op_dm=recursiveapply(( op_K* rho_epr2 * Dagger(op_K)).expand().subs(selfadjoint),normalorder2)"
   ]
  },
  {
   "cell_type": "code",
   "execution_count": 31,
   "metadata": {},
   "outputs": [
    {
     "name": "stderr",
     "output_type": "stream",
     "text": [
      "100%|██████████| 6/6 [00:02<00:00,  2.01it/s]\n"
     ]
    }
   ],
   "source": [
    "Gamma_['0']=get_Gamma(op_dm,2)"
   ]
  },
  {
   "cell_type": "code",
   "execution_count": 35,
   "metadata": {},
   "outputs": [
    {
     "data": {
      "text/latex": [
       "$\\displaystyle \\left[\\begin{matrix}0 & -1 & 0 & 0\\\\1 & 0 & 0 & 0\\\\0 & 0 & 0 & -1\\\\0 & 0 & 1 & 0\\end{matrix}\\right]$"
      ],
      "text/plain": [
       "Matrix([\n",
       "[0, -1, 0,  0],\n",
       "[1,  0, 0,  0],\n",
       "[0,  0, 0, -1],\n",
       "[0,  0, 1,  0]])"
      ]
     },
     "execution_count": 35,
     "metadata": {},
     "output_type": "execute_result"
    }
   ],
   "source": [
    "Gamma_['0^dag']"
   ]
  },
  {
   "cell_type": "code",
   "execution_count": 32,
   "metadata": {},
   "outputs": [],
   "source": [
    "op = Dagger(c[0])\n",
    "op_g = recursiveapply(op.subs(c2g).subs(selfadjoint).expand(),normalorder2)\n",
    "op_K=op_g.subs(gamma_xi)\n",
    "op_dm=recursiveapply(( op_K* rho_epr2 * Dagger(op_K)).expand().subs(selfadjoint),normalorder2)"
   ]
  },
  {
   "cell_type": "code",
   "execution_count": 33,
   "metadata": {},
   "outputs": [
    {
     "name": "stderr",
     "output_type": "stream",
     "text": [
      "100%|██████████| 6/6 [00:03<00:00,  1.95it/s]\n"
     ]
    }
   ],
   "source": [
    "Gamma_['0^dag']=get_Gamma(op_dm,2)"
   ]
  },
  {
   "cell_type": "code",
   "execution_count": 34,
   "metadata": {},
   "outputs": [
    {
     "data": {
      "text/latex": [
       "$\\displaystyle \\left[\\begin{matrix}0 & -1 & 0 & 0\\\\1 & 0 & 0 & 0\\\\0 & 0 & 0 & -1\\\\0 & 0 & 1 & 0\\end{matrix}\\right]$"
      ],
      "text/plain": [
       "Matrix([\n",
       "[0, -1, 0,  0],\n",
       "[1,  0, 0,  0],\n",
       "[0,  0, 0, -1],\n",
       "[0,  0, 1,  0]])"
      ]
     },
     "execution_count": 34,
     "metadata": {},
     "output_type": "execute_result"
    }
   ],
   "source": [
    "Gamma_['0^dag']"
   ]
  },
  {
   "cell_type": "code",
   "execution_count": null,
   "metadata": {},
   "outputs": [],
   "source": []
  },
  {
   "cell_type": "markdown",
   "metadata": {},
   "source": [
    "## Contraction"
   ]
  },
  {
   "cell_type": "code",
   "execution_count": 70,
   "metadata": {},
   "outputs": [],
   "source": [
    "def extend_tensor(dim, ix, op):\n",
    "    Gamma=zeros(2*dim,2*dim)\n",
    "    l=len(ix)\n",
    "    for d in range(dim):\n",
    "        Gamma[d,dim+d]=1\n",
    "        Gamma[dim+d,d]=-1\n",
    "\n",
    "    for idx,i in enumerate(ix):\n",
    "        for jdx,j in enumerate(ix):\n",
    "            Gamma[i,j] = op[idx,jdx]\n",
    "            Gamma[i,j+dim] = op[idx,jdx+l]\n",
    "            Gamma[i+dim,j] = op[idx+l,jdx]\n",
    "            Gamma[i+dim,j+dim] = op[idx+l,jdx+l]\n",
    "\n",
    "    return Gamma"
   ]
  },
  {
   "cell_type": "code",
   "execution_count": 118,
   "metadata": {},
   "outputs": [],
   "source": [
    "def direct_sum_tensor(op1,op2):\n",
    "    l1,l2=shape(op1)[0]//2,shape(op2)[0]//2\n",
    "    l=(l1+l2)\n",
    "    Gamma=zeros(2*l,2*l)\n",
    "    ix1=range(l1)\n",
    "    ix2=range(l1,l2+l1)\n",
    "\n",
    "    for idx,i in enumerate(ix1):\n",
    "        for jdx,j in enumerate(ix1):\n",
    "            Gamma[i,j] = op1[idx,jdx]\n",
    "            Gamma[i,j+l] = op1[idx,jdx+l1]\n",
    "            Gamma[i+l,j] = op1[idx+l1,jdx]\n",
    "            Gamma[i+l,j+l] = op1[idx+l1,jdx+l1]\n",
    "    for idx,i in enumerate(ix2):\n",
    "        for jdx,j in enumerate(ix2):\n",
    "            Gamma[i,j] = op2[idx,jdx]\n",
    "            Gamma[i,j+l] = op2[idx,jdx+l2]\n",
    "            Gamma[i+l,j] = op2[idx+l2,jdx]\n",
    "            Gamma[i+l,j+l] = op2[idx+l2,jdx+l2]\n",
    "\n",
    "    return Gamma"
   ]
  },
  {
   "cell_type": "code",
   "execution_count": 38,
   "metadata": {},
   "outputs": [
    {
     "data": {
      "text/latex": [
       "$\\displaystyle \\left[\\begin{matrix}0 & \\frac{1}{2} & 0 & \\frac{1}{2} & \\frac{1}{2} & 0 & - \\frac{1}{2} & 0\\\\- \\frac{1}{2} & 0 & - \\frac{1}{2} & 0 & 0 & \\frac{1}{2} & 0 & - \\frac{1}{2}\\\\0 & \\frac{1}{2} & 0 & \\frac{1}{2} & - \\frac{1}{2} & 0 & \\frac{1}{2} & 0\\\\- \\frac{1}{2} & 0 & - \\frac{1}{2} & 0 & 0 & - \\frac{1}{2} & 0 & \\frac{1}{2}\\\\- \\frac{1}{2} & 0 & \\frac{1}{2} & 0 & 0 & - \\frac{1}{2} & 0 & - \\frac{1}{2}\\\\0 & - \\frac{1}{2} & 0 & \\frac{1}{2} & \\frac{1}{2} & 0 & \\frac{1}{2} & 0\\\\\\frac{1}{2} & 0 & - \\frac{1}{2} & 0 & 0 & - \\frac{1}{2} & 0 & - \\frac{1}{2}\\\\0 & \\frac{1}{2} & 0 & - \\frac{1}{2} & \\frac{1}{2} & 0 & \\frac{1}{2} & 0\\end{matrix}\\right]$"
      ],
      "text/plain": [
       "Matrix([\n",
       "[   0,  1/2,    0,  1/2,  1/2,    0, -1/2,    0],\n",
       "[-1/2,    0, -1/2,    0,    0,  1/2,    0, -1/2],\n",
       "[   0,  1/2,    0,  1/2, -1/2,    0,  1/2,    0],\n",
       "[-1/2,    0, -1/2,    0,    0, -1/2,    0,  1/2],\n",
       "[-1/2,    0,  1/2,    0,    0, -1/2,    0, -1/2],\n",
       "[   0, -1/2,    0,  1/2,  1/2,    0,  1/2,    0],\n",
       "[ 1/2,    0, -1/2,    0,    0, -1/2,    0, -1/2],\n",
       "[   0,  1/2,    0, -1/2,  1/2,    0,  1/2,    0]])"
      ]
     },
     "execution_count": 38,
     "metadata": {},
     "output_type": "execute_result"
    }
   ],
   "source": [
    "contraction_(Gamma_['+t'], Gamma_['+t^dag'],4)"
   ]
  },
  {
   "cell_type": "code",
   "execution_count": 135,
   "metadata": {},
   "outputs": [],
   "source": [
    "Gamma_['-t^dag +t +t^dag'] = contraction_(\n",
    "    contraction_(Gamma_['+t^dag'], Gamma_['+t'],4),\n",
    "    Gamma_['-t^dag'],\n",
    "    4)"
   ]
  },
  {
   "cell_type": "code",
   "execution_count": 136,
   "metadata": {},
   "outputs": [
    {
     "data": {
      "text/latex": [
       "$\\displaystyle \\left[\\begin{matrix}0 & -1 & 0 & 0 & 0 & 0 & 0 & 0\\\\1 & 0 & 0 & 0 & 0 & 0 & 0 & 0\\\\0 & 0 & 0 & -1 & 0 & 0 & 0 & 0\\\\0 & 0 & 1 & 0 & 0 & 0 & 0 & 0\\\\0 & 0 & 0 & 0 & 0 & 0 & 0 & 1\\\\0 & 0 & 0 & 0 & 0 & 0 & -1 & 0\\\\0 & 0 & 0 & 0 & 0 & 1 & 0 & 0\\\\0 & 0 & 0 & 0 & -1 & 0 & 0 & 0\\end{matrix}\\right]$"
      ],
      "text/plain": [
       "Matrix([\n",
       "[0, -1, 0,  0,  0, 0,  0, 0],\n",
       "[1,  0, 0,  0,  0, 0,  0, 0],\n",
       "[0,  0, 0, -1,  0, 0,  0, 0],\n",
       "[0,  0, 1,  0,  0, 0,  0, 0],\n",
       "[0,  0, 0,  0,  0, 0,  0, 1],\n",
       "[0,  0, 0,  0,  0, 0, -1, 0],\n",
       "[0,  0, 0,  0,  0, 1,  0, 0],\n",
       "[0,  0, 0,  0, -1, 0,  0, 0]])"
      ]
     },
     "execution_count": 136,
     "metadata": {},
     "output_type": "execute_result"
    }
   ],
   "source": [
    "Gamma_['-t^dag +t +t^dag']"
   ]
  },
  {
   "cell_type": "code",
   "execution_count": 139,
   "metadata": {},
   "outputs": [
    {
     "data": {
      "text/latex": [
       "$\\displaystyle \\left[\\begin{matrix}0 & 1 & 0 & 0\\\\-1 & 0 & 0 & 0\\\\0 & 0 & 0 & 1\\\\0 & 0 & -1 & 0\\end{matrix}\\right]$"
      ],
      "text/plain": [
       "Matrix([\n",
       "[ 0, 1,  0, 0],\n",
       "[-1, 0,  0, 0],\n",
       "[ 0, 0,  0, 1],\n",
       "[ 0, 0, -1, 0]])"
      ]
     },
     "execution_count": 139,
     "metadata": {},
     "output_type": "execute_result"
    }
   ],
   "source": [
    "Gamma_['0']"
   ]
  },
  {
   "cell_type": "code",
   "execution_count": 137,
   "metadata": {},
   "outputs": [
    {
     "data": {
      "text/latex": [
       "$\\displaystyle \\left[\\begin{array}{cccccccccccc}0 & -1 & 0 & 0 & 0 & 0 & 0 & 0 & 0 & 0 & 0 & 0\\\\1 & 0 & 0 & 0 & 0 & 0 & 0 & 0 & 0 & 0 & 0 & 0\\\\0 & 0 & 0 & -1 & 0 & 0 & 0 & 0 & 0 & 0 & 0 & 0\\\\0 & 0 & 1 & 0 & 0 & 0 & 0 & 0 & 0 & 0 & 0 & 0\\\\0 & 0 & 0 & 0 & 0 & 1 & 0 & 0 & 0 & 0 & 0 & 0\\\\0 & 0 & 0 & 0 & -1 & 0 & 0 & 0 & 0 & 0 & 0 & 0\\\\0 & 0 & 0 & 0 & 0 & 0 & 0 & 0 & 0 & 1 & 0 & 0\\\\0 & 0 & 0 & 0 & 0 & 0 & 0 & 0 & -1 & 0 & 0 & 0\\\\0 & 0 & 0 & 0 & 0 & 0 & 0 & 1 & 0 & 0 & 0 & 0\\\\0 & 0 & 0 & 0 & 0 & 0 & -1 & 0 & 0 & 0 & 0 & 0\\\\0 & 0 & 0 & 0 & 0 & 0 & 0 & 0 & 0 & 0 & 0 & 1\\\\0 & 0 & 0 & 0 & 0 & 0 & 0 & 0 & 0 & 0 & -1 & 0\\end{array}\\right]$"
      ],
      "text/plain": [
       "Matrix([\n",
       "[0, -1, 0,  0,  0, 0,  0, 0,  0, 0,  0, 0],\n",
       "[1,  0, 0,  0,  0, 0,  0, 0,  0, 0,  0, 0],\n",
       "[0,  0, 0, -1,  0, 0,  0, 0,  0, 0,  0, 0],\n",
       "[0,  0, 1,  0,  0, 0,  0, 0,  0, 0,  0, 0],\n",
       "[0,  0, 0,  0,  0, 1,  0, 0,  0, 0,  0, 0],\n",
       "[0,  0, 0,  0, -1, 0,  0, 0,  0, 0,  0, 0],\n",
       "[0,  0, 0,  0,  0, 0,  0, 0,  0, 1,  0, 0],\n",
       "[0,  0, 0,  0,  0, 0,  0, 0, -1, 0,  0, 0],\n",
       "[0,  0, 0,  0,  0, 0,  0, 1,  0, 0,  0, 0],\n",
       "[0,  0, 0,  0,  0, 0, -1, 0,  0, 0,  0, 0],\n",
       "[0,  0, 0,  0,  0, 0,  0, 0,  0, 0,  0, 1],\n",
       "[0,  0, 0,  0,  0, 0,  0, 0,  0, 0, -1, 0]])"
      ]
     },
     "execution_count": 137,
     "metadata": {},
     "output_type": "execute_result"
    }
   ],
   "source": [
    "direct_sum_tensor(\n",
    "    Gamma_['-t^dag +t +t^dag'],\n",
    "    Gamma_['0']\n",
    ")"
   ]
  },
  {
   "cell_type": "code",
   "execution_count": 127,
   "metadata": {},
   "outputs": [],
   "source": [
    "Gamma_['-t -t^dag +t'] = contraction_(\n",
    "    contraction_(Gamma_['+t'], Gamma_['-t^dag'],4),\n",
    "    Gamma_['-t'],\n",
    "    4)"
   ]
  },
  {
   "cell_type": "code",
   "execution_count": 128,
   "metadata": {},
   "outputs": [
    {
     "data": {
      "text/latex": [
       "$\\displaystyle \\left[\\begin{matrix}0 & 0 & 0 & 1 & 0 & 0 & 0 & 0\\\\0 & 0 & -1 & 0 & 0 & 0 & 0 & 0\\\\0 & 1 & 0 & 0 & 0 & 0 & 0 & 0\\\\-1 & 0 & 0 & 0 & 0 & 0 & 0 & 0\\\\0 & 0 & 0 & 0 & 0 & 1 & 0 & 0\\\\0 & 0 & 0 & 0 & -1 & 0 & 0 & 0\\\\0 & 0 & 0 & 0 & 0 & 0 & 0 & 1\\\\0 & 0 & 0 & 0 & 0 & 0 & -1 & 0\\end{matrix}\\right]$"
      ],
      "text/plain": [
       "Matrix([\n",
       "[ 0, 0,  0, 1,  0, 0,  0, 0],\n",
       "[ 0, 0, -1, 0,  0, 0,  0, 0],\n",
       "[ 0, 1,  0, 0,  0, 0,  0, 0],\n",
       "[-1, 0,  0, 0,  0, 0,  0, 0],\n",
       "[ 0, 0,  0, 0,  0, 1,  0, 0],\n",
       "[ 0, 0,  0, 0, -1, 0,  0, 0],\n",
       "[ 0, 0,  0, 0,  0, 0,  0, 1],\n",
       "[ 0, 0,  0, 0,  0, 0, -1, 0]])"
      ]
     },
     "execution_count": 128,
     "metadata": {},
     "output_type": "execute_result"
    }
   ],
   "source": [
    "Gamma_['-t -t^dag +t'] "
   ]
  },
  {
   "cell_type": "code",
   "execution_count": 129,
   "metadata": {},
   "outputs": [
    {
     "data": {
      "text/latex": [
       "$\\displaystyle \\left[\\begin{matrix}0 & -1 & 0 & 0\\\\1 & 0 & 0 & 0\\\\0 & 0 & 0 & -1\\\\0 & 0 & 1 & 0\\end{matrix}\\right]$"
      ],
      "text/plain": [
       "Matrix([\n",
       "[0, -1, 0,  0],\n",
       "[1,  0, 0,  0],\n",
       "[0,  0, 0, -1],\n",
       "[0,  0, 1,  0]])"
      ]
     },
     "execution_count": 129,
     "metadata": {},
     "output_type": "execute_result"
    }
   ],
   "source": [
    "Gamma_['0^dag']"
   ]
  },
  {
   "cell_type": "code",
   "execution_count": 130,
   "metadata": {},
   "outputs": [
    {
     "data": {
      "text/latex": [
       "$\\displaystyle \\left[\\begin{array}{cccccccccccc}0 & 0 & 0 & 1 & 0 & 0 & 0 & 0 & 0 & 0 & 0 & 0\\\\0 & 0 & -1 & 0 & 0 & 0 & 0 & 0 & 0 & 0 & 0 & 0\\\\0 & 1 & 0 & 0 & 0 & 0 & 0 & 0 & 0 & 0 & 0 & 0\\\\-1 & 0 & 0 & 0 & 0 & 0 & 0 & 0 & 0 & 0 & 0 & 0\\\\0 & 0 & 0 & 0 & 0 & -1 & 0 & 0 & 0 & 0 & 0 & 0\\\\0 & 0 & 0 & 0 & 1 & 0 & 0 & 0 & 0 & 0 & 0 & 0\\\\0 & 0 & 0 & 0 & 0 & 0 & 0 & 1 & 0 & 0 & 0 & 0\\\\0 & 0 & 0 & 0 & 0 & 0 & -1 & 0 & 0 & 0 & 0 & 0\\\\0 & 0 & 0 & 0 & 0 & 0 & 0 & 0 & 0 & 1 & 0 & 0\\\\0 & 0 & 0 & 0 & 0 & 0 & 0 & 0 & -1 & 0 & 0 & 0\\\\0 & 0 & 0 & 0 & 0 & 0 & 0 & 0 & 0 & 0 & 0 & -1\\\\0 & 0 & 0 & 0 & 0 & 0 & 0 & 0 & 0 & 0 & 1 & 0\\end{array}\\right]$"
      ],
      "text/plain": [
       "Matrix([\n",
       "[ 0, 0,  0, 1, 0,  0,  0, 0,  0, 0, 0,  0],\n",
       "[ 0, 0, -1, 0, 0,  0,  0, 0,  0, 0, 0,  0],\n",
       "[ 0, 1,  0, 0, 0,  0,  0, 0,  0, 0, 0,  0],\n",
       "[-1, 0,  0, 0, 0,  0,  0, 0,  0, 0, 0,  0],\n",
       "[ 0, 0,  0, 0, 0, -1,  0, 0,  0, 0, 0,  0],\n",
       "[ 0, 0,  0, 0, 1,  0,  0, 0,  0, 0, 0,  0],\n",
       "[ 0, 0,  0, 0, 0,  0,  0, 1,  0, 0, 0,  0],\n",
       "[ 0, 0,  0, 0, 0,  0, -1, 0,  0, 0, 0,  0],\n",
       "[ 0, 0,  0, 0, 0,  0,  0, 0,  0, 1, 0,  0],\n",
       "[ 0, 0,  0, 0, 0,  0,  0, 0, -1, 0, 0,  0],\n",
       "[ 0, 0,  0, 0, 0,  0,  0, 0,  0, 0, 0, -1],\n",
       "[ 0, 0,  0, 0, 0,  0,  0, 0,  0, 0, 1,  0]])"
      ]
     },
     "execution_count": 130,
     "metadata": {},
     "output_type": "execute_result"
    }
   ],
   "source": [
    "direct_sum_tensor(\n",
    "    Gamma_['-t -t^dag +t'],\n",
    "    Gamma_['0^dag']\n",
    ")"
   ]
  },
  {
   "cell_type": "code",
   "execution_count": null,
   "metadata": {},
   "outputs": [],
   "source": []
  },
  {
   "cell_type": "code",
   "execution_count": 140,
   "metadata": {},
   "outputs": [
    {
     "data": {
      "text/latex": [
       "$\\displaystyle \\left[\\begin{matrix}0 & 0 & 0 & 1 & 0 & 0 & 0 & 0\\\\0 & 0 & -1 & 0 & 0 & 0 & 0 & 0\\\\0 & 1 & 0 & 0 & 0 & 0 & 0 & 0\\\\-1 & 0 & 0 & 0 & 0 & 0 & 0 & 0\\\\0 & 0 & 0 & 0 & 0 & 0 & 0 & 1\\\\0 & 0 & 0 & 0 & 0 & 0 & -1 & 0\\\\0 & 0 & 0 & 0 & 0 & 1 & 0 & 0\\\\0 & 0 & 0 & 0 & -1 & 0 & 0 & 0\\end{matrix}\\right]$"
      ],
      "text/plain": [
       "Matrix([\n",
       "[ 0, 0,  0, 1,  0, 0,  0, 0],\n",
       "[ 0, 0, -1, 0,  0, 0,  0, 0],\n",
       "[ 0, 1,  0, 0,  0, 0,  0, 0],\n",
       "[-1, 0,  0, 0,  0, 0,  0, 0],\n",
       "[ 0, 0,  0, 0,  0, 0,  0, 1],\n",
       "[ 0, 0,  0, 0,  0, 0, -1, 0],\n",
       "[ 0, 0,  0, 0,  0, 1,  0, 0],\n",
       "[ 0, 0,  0, 0, -1, 0,  0, 0]])"
      ]
     },
     "execution_count": 140,
     "metadata": {},
     "output_type": "execute_result"
    }
   ],
   "source": [
    "contraction_(Gamma_['-t^dag'], Gamma_['+t'],4)"
   ]
  },
  {
   "cell_type": "code",
   "execution_count": null,
   "metadata": {},
   "outputs": [],
   "source": [
    "Gamma_['-t^dag']"
   ]
  },
  {
   "cell_type": "code",
   "execution_count": 148,
   "metadata": {},
   "outputs": [
    {
     "data": {
      "text/latex": [
       "$\\displaystyle \\left[\\begin{array}{cccccccccccc}0 & - \\frac{1}{2} & 0 & \\frac{1}{2} & 0 & 0 & \\frac{1}{2} & 0 & \\frac{1}{2} & 0 & 0 & 0\\\\\\frac{1}{2} & 0 & - \\frac{1}{2} & 0 & 0 & 0 & 0 & \\frac{1}{2} & 0 & \\frac{1}{2} & 0 & 0\\\\0 & \\frac{1}{2} & 0 & - \\frac{1}{2} & 0 & 0 & \\frac{1}{2} & 0 & \\frac{1}{2} & 0 & 0 & 0\\\\- \\frac{1}{2} & 0 & \\frac{1}{2} & 0 & 0 & 0 & 0 & \\frac{1}{2} & 0 & \\frac{1}{2} & 0 & 0\\\\0 & 0 & 0 & 0 & 0 & 1 & 0 & 0 & 0 & 0 & 0 & 0\\\\0 & 0 & 0 & 0 & -1 & 0 & 0 & 0 & 0 & 0 & 0 & 0\\\\- \\frac{1}{2} & 0 & - \\frac{1}{2} & 0 & 0 & 0 & 0 & - \\frac{1}{2} & 0 & \\frac{1}{2} & 0 & 0\\\\0 & - \\frac{1}{2} & 0 & - \\frac{1}{2} & 0 & 0 & \\frac{1}{2} & 0 & - \\frac{1}{2} & 0 & 0 & 0\\\\- \\frac{1}{2} & 0 & - \\frac{1}{2} & 0 & 0 & 0 & 0 & \\frac{1}{2} & 0 & - \\frac{1}{2} & 0 & 0\\\\0 & - \\frac{1}{2} & 0 & - \\frac{1}{2} & 0 & 0 & - \\frac{1}{2} & 0 & \\frac{1}{2} & 0 & 0 & 0\\\\0 & 0 & 0 & 0 & 0 & 0 & 0 & 0 & 0 & 0 & 0 & 1\\\\0 & 0 & 0 & 0 & 0 & 0 & 0 & 0 & 0 & 0 & -1 & 0\\end{array}\\right]$"
      ],
      "text/plain": [
       "Matrix([\n",
       "[   0, -1/2,    0,  1/2,  0, 0,  1/2,    0,  1/2,    0,  0, 0],\n",
       "[ 1/2,    0, -1/2,    0,  0, 0,    0,  1/2,    0,  1/2,  0, 0],\n",
       "[   0,  1/2,    0, -1/2,  0, 0,  1/2,    0,  1/2,    0,  0, 0],\n",
       "[-1/2,    0,  1/2,    0,  0, 0,    0,  1/2,    0,  1/2,  0, 0],\n",
       "[   0,    0,    0,    0,  0, 1,    0,    0,    0,    0,  0, 0],\n",
       "[   0,    0,    0,    0, -1, 0,    0,    0,    0,    0,  0, 0],\n",
       "[-1/2,    0, -1/2,    0,  0, 0,    0, -1/2,    0,  1/2,  0, 0],\n",
       "[   0, -1/2,    0, -1/2,  0, 0,  1/2,    0, -1/2,    0,  0, 0],\n",
       "[-1/2,    0, -1/2,    0,  0, 0,    0,  1/2,    0, -1/2,  0, 0],\n",
       "[   0, -1/2,    0, -1/2,  0, 0, -1/2,    0,  1/2,    0,  0, 0],\n",
       "[   0,    0,    0,    0,  0, 0,    0,    0,    0,    0,  0, 1],\n",
       "[   0,    0,    0,    0,  0, 0,    0,    0,    0,    0, -1, 0]])"
      ]
     },
     "execution_count": 148,
     "metadata": {},
     "output_type": "execute_result"
    }
   ],
   "source": [
    "direct_sum_tensor(\n",
    "    Gamma_['-t^dag'],\n",
    "    Gamma_['0']\n",
    ")"
   ]
  },
  {
   "cell_type": "code",
   "execution_count": 149,
   "metadata": {},
   "outputs": [
    {
     "data": {
      "text/latex": [
       "$\\displaystyle \\left[\\begin{array}{cccccccccccc}0 & \\frac{1}{2} & 0 & \\frac{1}{2} & 0 & 0 & \\frac{1}{2} & 0 & - \\frac{1}{2} & 0 & 0 & 0\\\\- \\frac{1}{2} & 0 & - \\frac{1}{2} & 0 & 0 & 0 & 0 & \\frac{1}{2} & 0 & - \\frac{1}{2} & 0 & 0\\\\0 & \\frac{1}{2} & 0 & \\frac{1}{2} & 0 & 0 & - \\frac{1}{2} & 0 & \\frac{1}{2} & 0 & 0 & 0\\\\- \\frac{1}{2} & 0 & - \\frac{1}{2} & 0 & 0 & 0 & 0 & - \\frac{1}{2} & 0 & \\frac{1}{2} & 0 & 0\\\\0 & 0 & 0 & 0 & 0 & -1 & 0 & 0 & 0 & 0 & 0 & 0\\\\0 & 0 & 0 & 0 & 1 & 0 & 0 & 0 & 0 & 0 & 0 & 0\\\\- \\frac{1}{2} & 0 & \\frac{1}{2} & 0 & 0 & 0 & 0 & \\frac{1}{2} & 0 & \\frac{1}{2} & 0 & 0\\\\0 & - \\frac{1}{2} & 0 & \\frac{1}{2} & 0 & 0 & - \\frac{1}{2} & 0 & - \\frac{1}{2} & 0 & 0 & 0\\\\\\frac{1}{2} & 0 & - \\frac{1}{2} & 0 & 0 & 0 & 0 & \\frac{1}{2} & 0 & \\frac{1}{2} & 0 & 0\\\\0 & \\frac{1}{2} & 0 & - \\frac{1}{2} & 0 & 0 & - \\frac{1}{2} & 0 & - \\frac{1}{2} & 0 & 0 & 0\\\\0 & 0 & 0 & 0 & 0 & 0 & 0 & 0 & 0 & 0 & 0 & -1\\\\0 & 0 & 0 & 0 & 0 & 0 & 0 & 0 & 0 & 0 & 1 & 0\\end{array}\\right]$"
      ],
      "text/plain": [
       "Matrix([\n",
       "[   0,  1/2,    0,  1/2, 0,  0,  1/2,    0, -1/2,    0, 0,  0],\n",
       "[-1/2,    0, -1/2,    0, 0,  0,    0,  1/2,    0, -1/2, 0,  0],\n",
       "[   0,  1/2,    0,  1/2, 0,  0, -1/2,    0,  1/2,    0, 0,  0],\n",
       "[-1/2,    0, -1/2,    0, 0,  0,    0, -1/2,    0,  1/2, 0,  0],\n",
       "[   0,    0,    0,    0, 0, -1,    0,    0,    0,    0, 0,  0],\n",
       "[   0,    0,    0,    0, 1,  0,    0,    0,    0,    0, 0,  0],\n",
       "[-1/2,    0,  1/2,    0, 0,  0,    0,  1/2,    0,  1/2, 0,  0],\n",
       "[   0, -1/2,    0,  1/2, 0,  0, -1/2,    0, -1/2,    0, 0,  0],\n",
       "[ 1/2,    0, -1/2,    0, 0,  0,    0,  1/2,    0,  1/2, 0,  0],\n",
       "[   0,  1/2,    0, -1/2, 0,  0, -1/2,    0, -1/2,    0, 0,  0],\n",
       "[   0,    0,    0,    0, 0,  0,    0,    0,    0,    0, 0, -1],\n",
       "[   0,    0,    0,    0, 0,  0,    0,    0,    0,    0, 1,  0]])"
      ]
     },
     "execution_count": 149,
     "metadata": {},
     "output_type": "execute_result"
    }
   ],
   "source": [
    "direct_sum_tensor(\n",
    "    Gamma_['+t'],\n",
    "    Gamma_['0^dag']\n",
    ")"
   ]
  },
  {
   "cell_type": "code",
   "execution_count": null,
   "metadata": {},
   "outputs": [],
   "source": [
    "gg"
   ]
  },
  {
   "cell_type": "code",
   "execution_count": 146,
   "metadata": {},
   "outputs": [
    {
     "data": {
      "text/latex": [
       "$\\displaystyle \\left[\\begin{array}{cccccccccccc}-1 & 0 & 0 & 0 & 0 & 0 & 0 & 0 & 0 & 0 & 0 & 0\\\\0 & -1 & 0 & 0 & 0 & 0 & 0 & 0 & 0 & 0 & 0 & 0\\\\0 & 0 & -1 & 0 & 0 & 0 & 0 & 0 & 0 & 0 & 0 & 0\\\\0 & 0 & 0 & -1 & 0 & 0 & 0 & 0 & 0 & 0 & 0 & 0\\\\0 & 0 & 0 & 0 & -1 & 0 & 0 & 0 & 0 & 0 & 0 & 0\\\\0 & 0 & 0 & 0 & 0 & -1 & 0 & 0 & 0 & 0 & 0 & 0\\\\0 & 0 & 0 & 0 & 0 & 0 & -1 & 0 & 0 & 0 & 0 & 0\\\\0 & 0 & 0 & 0 & 0 & 0 & 0 & -1 & 0 & 0 & 0 & 0\\\\0 & 0 & 0 & 0 & 0 & 0 & 0 & 0 & -1 & 0 & 0 & 0\\\\0 & 0 & 0 & 0 & 0 & 0 & 0 & 0 & 0 & -1 & 0 & 0\\\\0 & 0 & 0 & 0 & 0 & 0 & 0 & 0 & 0 & 0 & -1 & 0\\\\0 & 0 & 0 & 0 & 0 & 0 & 0 & 0 & 0 & 0 & 0 & -1\\end{array}\\right]$"
      ],
      "text/plain": [
       "Matrix([\n",
       "[-1,  0,  0,  0,  0,  0,  0,  0,  0,  0,  0,  0],\n",
       "[ 0, -1,  0,  0,  0,  0,  0,  0,  0,  0,  0,  0],\n",
       "[ 0,  0, -1,  0,  0,  0,  0,  0,  0,  0,  0,  0],\n",
       "[ 0,  0,  0, -1,  0,  0,  0,  0,  0,  0,  0,  0],\n",
       "[ 0,  0,  0,  0, -1,  0,  0,  0,  0,  0,  0,  0],\n",
       "[ 0,  0,  0,  0,  0, -1,  0,  0,  0,  0,  0,  0],\n",
       "[ 0,  0,  0,  0,  0,  0, -1,  0,  0,  0,  0,  0],\n",
       "[ 0,  0,  0,  0,  0,  0,  0, -1,  0,  0,  0,  0],\n",
       "[ 0,  0,  0,  0,  0,  0,  0,  0, -1,  0,  0,  0],\n",
       "[ 0,  0,  0,  0,  0,  0,  0,  0,  0, -1,  0,  0],\n",
       "[ 0,  0,  0,  0,  0,  0,  0,  0,  0,  0, -1,  0],\n",
       "[ 0,  0,  0,  0,  0,  0,  0,  0,  0,  0,  0, -1]])"
      ]
     },
     "execution_count": 146,
     "metadata": {},
     "output_type": "execute_result"
    }
   ],
   "source": [
    "\n",
    "gg@gg"
   ]
  },
  {
   "cell_type": "code",
   "execution_count": null,
   "metadata": {},
   "outputs": [],
   "source": []
  },
  {
   "cell_type": "code",
   "execution_count": 5,
   "metadata": {},
   "outputs": [
    {
     "data": {
      "text/plain": [
       "{'xi': c_xi,\n",
       " 'eta': c_eta,\n",
       " 'g': c_g,\n",
       " 0: c_0,\n",
       " 1: c_1,\n",
       " 2: c_2,\n",
       " 3: c_3,\n",
       " '+t': sqrt(2)*(c_0 + c_1)/2,\n",
       " '-t': sqrt(2)*(c_0 - c_1)/2,\n",
       " '+b': sqrt(2)*(c_2 + c_3)/2,\n",
       " '-b': sqrt(2)*(c_2 - c_3)/2}"
      ]
     },
     "execution_count": 5,
     "metadata": {},
     "output_type": "execute_result"
    }
   ],
   "source": [
    "c"
   ]
  },
  {
   "cell_type": "code",
   "execution_count": 13,
   "metadata": {},
   "outputs": [
    {
     "data": {
      "text/latex": [
       "$\\displaystyle - \\frac{i \\gamma_{0} \\gamma_{3}}{2} + \\frac{i \\gamma_{1} \\gamma_{2}}{2}$"
      ],
      "text/plain": [
       "-I*\\gamma_0*\\gamma_3/2 + I*\\gamma_1*\\gamma_2/2"
      ]
     },
     "execution_count": 13,
     "metadata": {},
     "output_type": "execute_result"
    }
   ],
   "source": [
    "recursiveapply((Dagger(c[0])*c[1]+Dagger(c[1])*c[0]).subs(c2g).subs(selfadjoint).expand(),normalorder2)"
   ]
  },
  {
   "cell_type": "code",
   "execution_count": null,
   "metadata": {},
   "outputs": [],
   "source": []
  },
  {
   "cell_type": "code",
   "execution_count": 8,
   "metadata": {},
   "outputs": [
    {
     "data": {
      "text/plain": [
       "[(c_xi, (\\xi_0 - I*\\xi_1)/2),\n",
       " (c_eta, (\\eta_0 - I*\\eta_1)/2),\n",
       " (c_g, (\\gamma_0 - I*\\gamma_1)/2),\n",
       " (Dagger(c_xi), (\\xi_0 + I*\\xi_1)/2),\n",
       " (Dagger(c_eta), (\\eta_0 + I*\\eta_1)/2),\n",
       " (Dagger(c_g), (\\gamma_0 + I*\\gamma_1)/2),\n",
       " (c_0, (\\gamma_0 - I*\\gamma_1)/2),\n",
       " (c_1, (\\gamma_2 - I*\\gamma_3)/2),\n",
       " (c_2, (\\gamma_4 - I*\\gamma_5)/2),\n",
       " (c_3, (\\gamma_6 - I*\\gamma_7)/2)]"
      ]
     },
     "execution_count": 8,
     "metadata": {},
     "output_type": "execute_result"
    }
   ],
   "source": [
    "c2g"
   ]
  },
  {
   "cell_type": "code",
   "execution_count": 21,
   "metadata": {},
   "outputs": [],
   "source": [
    "e= Symbol('e', positive=True)"
   ]
  },
  {
   "cell_type": "code",
   "execution_count": 42,
   "metadata": {},
   "outputs": [],
   "source": [
    "beta = Symbol('beta', positive=True)"
   ]
  },
  {
   "cell_type": "code",
   "execution_count": 12,
   "metadata": {},
   "outputs": [],
   "source": [
    "a, b = symbols('a b', positive=True)"
   ]
  },
  {
   "cell_type": "code",
   "execution_count": 39,
   "metadata": {},
   "outputs": [],
   "source": [
    "c['->'] = (c[0]-I*c[1])/sqrt(2)\n",
    "c['<-'] = (c[0]+I*c[1])/sqrt(2)"
   ]
  },
  {
   "cell_type": "code",
   "execution_count": 14,
   "metadata": {},
   "outputs": [],
   "source": [
    "# op =  c[0]*Dagger(c[0])*c[1]*Dagger(c[1]) + Dagger(c[0])*c[0]*Dagger(c[1])*c[1] + Dagger(c[0])*c[1] + Dagger(c[1])*c[0]\n",
    "# op =  (1+(exp(beta)-1)*Dagger(c['->'])*c['->']) * (1+(exp(-beta)-1)*Dagger(c['<-'])*c['<-']) \n",
    "# op =  (1+(exp(beta)-1)*Dagger(c['+t'])*c['+t']) * (1+(exp(-beta)-1)*Dagger(c['-t'])*c['-t'] )\n",
    "# op =  Dagger(c[0]+c[1]+c[2])*(c[0]+c[1]+c[2]) * (c[0]-c[1])*Dagger(c[0]-c[1])/2 * (c[0]+c[1]-2*c[2]) * Dagger(c[0]+c[1]-2*c[2])\n",
    "op =  Dagger(c[0]+c[1])*(c[0]+c[1])\n",
    "# op =   (1+(exp(beta)-1)*Dagger(c[0])*c[0])\n",
    "op_g = recursiveapply(op.subs(c2g).subs(selfadjoint).expand(),normalorder2)\n",
    "op_K=op_g.subs(gamma_xi)\n",
    "op_dm=recursiveapply(( op_K* rho_epr4 * Dagger(op_K)).expand().subs(selfadjoint),normalorder2)"
   ]
  },
  {
   "cell_type": "code",
   "execution_count": 15,
   "metadata": {},
   "outputs": [
    {
     "data": {
      "text/latex": [
       "$\\displaystyle \\frac{1}{8} + \\frac{i \\eta_{0} \\eta_{1}}{16} + \\frac{i \\eta_{0} \\eta_{3}}{16} - \\frac{i \\eta_{1} \\eta_{2}}{16} + \\frac{i \\eta_{2} \\eta_{3}}{16} - \\frac{i \\xi_{0} \\eta_{0}}{16} - \\frac{\\xi_{0} \\eta_{0} \\eta_{1} \\eta_{2}}{16} + \\frac{\\xi_{0} \\eta_{0} \\eta_{2} \\eta_{3}}{16} + \\frac{i \\xi_{0} \\eta_{2}}{16} - \\frac{i \\xi_{0} \\xi_{1}}{16} + \\frac{\\xi_{0} \\xi_{1} \\eta_{0} \\eta_{1}}{16} + \\frac{i \\xi_{0} \\xi_{1} \\eta_{0} \\eta_{1} \\eta_{2} \\eta_{3}}{16} + \\frac{\\xi_{0} \\xi_{1} \\eta_{2} \\eta_{3}}{16} + \\frac{\\xi_{0} \\xi_{1} \\xi_{2} \\eta_{0}}{16} - \\frac{i \\xi_{0} \\xi_{1} \\xi_{2} \\eta_{0} \\eta_{1} \\eta_{2}}{16} + \\frac{i \\xi_{0} \\xi_{1} \\xi_{2} \\eta_{0} \\eta_{2} \\eta_{3}}{16} - \\frac{\\xi_{0} \\xi_{1} \\xi_{2} \\eta_{2}}{16} - \\frac{i \\xi_{0} \\xi_{1} \\xi_{2} \\xi_{3} \\eta_{0} \\eta_{1}}{16} + \\frac{\\xi_{0} \\xi_{1} \\xi_{2} \\xi_{3} \\eta_{0} \\eta_{1} \\eta_{2} \\eta_{3}}{8} + \\frac{i \\xi_{0} \\xi_{1} \\xi_{2} \\xi_{3} \\eta_{0} \\eta_{3}}{16} - \\frac{i \\xi_{0} \\xi_{1} \\xi_{2} \\xi_{3} \\eta_{1} \\eta_{2}}{16} - \\frac{i \\xi_{0} \\xi_{1} \\xi_{2} \\xi_{3} \\eta_{2} \\eta_{3}}{16} - \\frac{i \\xi_{0} \\xi_{1} \\xi_{3} \\eta_{0} \\eta_{1} \\eta_{3}}{16} + \\frac{\\xi_{0} \\xi_{1} \\xi_{3} \\eta_{1}}{16} + \\frac{i \\xi_{0} \\xi_{1} \\xi_{3} \\eta_{1} \\eta_{2} \\eta_{3}}{16} - \\frac{\\xi_{0} \\xi_{1} \\xi_{3} \\eta_{3}}{16} - \\frac{\\xi_{0} \\xi_{2} \\xi_{3} \\eta_{0}}{16} + \\frac{i \\xi_{0} \\xi_{2} \\xi_{3} \\eta_{0} \\eta_{1} \\eta_{2}}{16} - \\frac{i \\xi_{0} \\xi_{2} \\xi_{3} \\eta_{0} \\eta_{2} \\eta_{3}}{16} + \\frac{\\xi_{0} \\xi_{2} \\xi_{3} \\eta_{2}}{16} - \\frac{i \\xi_{0} \\xi_{3}}{16} - \\frac{i \\xi_{0} \\xi_{3} \\eta_{0} \\eta_{1} \\eta_{2} \\eta_{3}}{16} + \\frac{\\xi_{0} \\xi_{3} \\eta_{0} \\eta_{3}}{16} - \\frac{\\xi_{0} \\xi_{3} \\eta_{1} \\eta_{2}}{16} - \\frac{\\xi_{1} \\eta_{0} \\eta_{1} \\eta_{3}}{16} - \\frac{i \\xi_{1} \\eta_{1}}{16} + \\frac{\\xi_{1} \\eta_{1} \\eta_{2} \\eta_{3}}{16} + \\frac{i \\xi_{1} \\eta_{3}}{16} + \\frac{i \\xi_{1} \\xi_{2}}{16} + \\frac{i \\xi_{1} \\xi_{2} \\eta_{0} \\eta_{1} \\eta_{2} \\eta_{3}}{16} - \\frac{\\xi_{1} \\xi_{2} \\eta_{0} \\eta_{3}}{16} + \\frac{\\xi_{1} \\xi_{2} \\eta_{1} \\eta_{2}}{16} + \\frac{i \\xi_{1} \\xi_{2} \\xi_{3} \\eta_{0} \\eta_{1} \\eta_{3}}{16} - \\frac{\\xi_{1} \\xi_{2} \\xi_{3} \\eta_{1}}{16} - \\frac{i \\xi_{1} \\xi_{2} \\xi_{3} \\eta_{1} \\eta_{2} \\eta_{3}}{16} + \\frac{\\xi_{1} \\xi_{2} \\xi_{3} \\eta_{3}}{16} + \\frac{i \\xi_{2} \\eta_{0}}{16} + \\frac{\\xi_{2} \\eta_{0} \\eta_{1} \\eta_{2}}{16} - \\frac{\\xi_{2} \\eta_{0} \\eta_{2} \\eta_{3}}{16} - \\frac{i \\xi_{2} \\eta_{2}}{16} - \\frac{i \\xi_{2} \\xi_{3}}{16} + \\frac{\\xi_{2} \\xi_{3} \\eta_{0} \\eta_{1}}{16} + \\frac{i \\xi_{2} \\xi_{3} \\eta_{0} \\eta_{1} \\eta_{2} \\eta_{3}}{16} + \\frac{\\xi_{2} \\xi_{3} \\eta_{2} \\eta_{3}}{16} + \\frac{\\xi_{3} \\eta_{0} \\eta_{1} \\eta_{3}}{16} + \\frac{i \\xi_{3} \\eta_{1}}{16} - \\frac{\\xi_{3} \\eta_{1} \\eta_{2} \\eta_{3}}{16} - \\frac{i \\xi_{3} \\eta_{3}}{16}$"
      ],
      "text/plain": [
       "1/8 + I*\\eta_0*\\eta_1/16 + I*\\eta_0*\\eta_3/16 - I*\\eta_1*\\eta_2/16 + I*\\eta_2*\\eta_3/16 - I*\\xi_0*\\eta_0/16 - \\xi_0*\\eta_0*\\eta_1*\\eta_2/16 + \\xi_0*\\eta_0*\\eta_2*\\eta_3/16 + I*\\xi_0*\\eta_2/16 - I*\\xi_0*\\xi_1/16 + \\xi_0*\\xi_1*\\eta_0*\\eta_1/16 + I*\\xi_0*\\xi_1*\\eta_0*\\eta_1*\\eta_2*\\eta_3/16 + \\xi_0*\\xi_1*\\eta_2*\\eta_3/16 + \\xi_0*\\xi_1*\\xi_2*\\eta_0/16 - I*\\xi_0*\\xi_1*\\xi_2*\\eta_0*\\eta_1*\\eta_2/16 + I*\\xi_0*\\xi_1*\\xi_2*\\eta_0*\\eta_2*\\eta_3/16 - \\xi_0*\\xi_1*\\xi_2*\\eta_2/16 - I*\\xi_0*\\xi_1*\\xi_2*\\xi_3*\\eta_0*\\eta_1/16 + \\xi_0*\\xi_1*\\xi_2*\\xi_3*\\eta_0*\\eta_1*\\eta_2*\\eta_3/8 + I*\\xi_0*\\xi_1*\\xi_2*\\xi_3*\\eta_0*\\eta_3/16 - I*\\xi_0*\\xi_1*\\xi_2*\\xi_3*\\eta_1*\\eta_2/16 - I*\\xi_0*\\xi_1*\\xi_2*\\xi_3*\\eta_2*\\eta_3/16 - I*\\xi_0*\\xi_1*\\xi_3*\\eta_0*\\eta_1*\\eta_3/16 + \\xi_0*\\xi_1*\\xi_3*\\eta_1/16 + I*\\xi_0*\\xi_1*\\xi_3*\\eta_1*\\eta_2*\\eta_3/16 - \\xi_0*\\xi_1*\\xi_3*\\eta_3/16 - \\xi_0*\\xi_2*\\xi_3*\\eta_0/16 + I*\\xi_0*\\xi_2*\\xi_3*\\eta_0*\\eta_1*\\eta_2/16 - I*\\xi_0*\\xi_2*\\xi_3*\\eta_0*\\eta_2*\\eta_3/16 + \\xi_0*\\xi_2*\\xi_3*\\eta_2/16 - I*\\xi_0*\\xi_3/16 - I*\\xi_0*\\xi_3*\\eta_0*\\eta_1*\\eta_2*\\eta_3/16 + \\xi_0*\\xi_3*\\eta_0*\\eta_3/16 - \\xi_0*\\xi_3*\\eta_1*\\eta_2/16 - \\xi_1*\\eta_0*\\eta_1*\\eta_3/16 - I*\\xi_1*\\eta_1/16 + \\xi_1*\\eta_1*\\eta_2*\\eta_3/16 + I*\\xi_1*\\eta_3/16 + I*\\xi_1*\\xi_2/16 + I*\\xi_1*\\xi_2*\\eta_0*\\eta_1*\\eta_2*\\eta_3/16 - \\xi_1*\\xi_2*\\eta_0*\\eta_3/16 + \\xi_1*\\xi_2*\\eta_1*\\eta_2/16 + I*\\xi_1*\\xi_2*\\xi_3*\\eta_0*\\eta_1*\\eta_3/16 - \\xi_1*\\xi_2*\\xi_3*\\eta_1/16 - I*\\xi_1*\\xi_2*\\xi_3*\\eta_1*\\eta_2*\\eta_3/16 + \\xi_1*\\xi_2*\\xi_3*\\eta_3/16 + I*\\xi_2*\\eta_0/16 + \\xi_2*\\eta_0*\\eta_1*\\eta_2/16 - \\xi_2*\\eta_0*\\eta_2*\\eta_3/16 - I*\\xi_2*\\eta_2/16 - I*\\xi_2*\\xi_3/16 + \\xi_2*\\xi_3*\\eta_0*\\eta_1/16 + I*\\xi_2*\\xi_3*\\eta_0*\\eta_1*\\eta_2*\\eta_3/16 + \\xi_2*\\xi_3*\\eta_2*\\eta_3/16 + \\xi_3*\\eta_0*\\eta_1*\\eta_3/16 + I*\\xi_3*\\eta_1/16 - \\xi_3*\\eta_1*\\eta_2*\\eta_3/16 - I*\\xi_3*\\eta_3/16"
      ]
     },
     "execution_count": 15,
     "metadata": {},
     "output_type": "execute_result"
    }
   ],
   "source": [
    "op_dm"
   ]
  },
  {
   "cell_type": "code",
   "execution_count": 16,
   "metadata": {},
   "outputs": [
    {
     "name": "stderr",
     "output_type": "stream",
     "text": [
      "100%|██████████| 28/28 [14:21<00:00, 30.76s/it]\n"
     ]
    }
   ],
   "source": [
    "Gamma = get_Gamma(op_dm,4)"
   ]
  },
  {
   "cell_type": "code",
   "execution_count": 17,
   "metadata": {},
   "outputs": [
    {
     "data": {
      "text/latex": [
       "$\\displaystyle \\left[\\begin{matrix}0 & \\frac{1}{2} & 0 & \\frac{1}{2} & \\frac{1}{2} & 0 & - \\frac{1}{2} & 0\\\\- \\frac{1}{2} & 0 & - \\frac{1}{2} & 0 & 0 & \\frac{1}{2} & 0 & - \\frac{1}{2}\\\\0 & \\frac{1}{2} & 0 & \\frac{1}{2} & - \\frac{1}{2} & 0 & \\frac{1}{2} & 0\\\\- \\frac{1}{2} & 0 & - \\frac{1}{2} & 0 & 0 & - \\frac{1}{2} & 0 & \\frac{1}{2}\\\\- \\frac{1}{2} & 0 & \\frac{1}{2} & 0 & 0 & - \\frac{1}{2} & 0 & - \\frac{1}{2}\\\\0 & - \\frac{1}{2} & 0 & \\frac{1}{2} & \\frac{1}{2} & 0 & \\frac{1}{2} & 0\\\\\\frac{1}{2} & 0 & - \\frac{1}{2} & 0 & 0 & - \\frac{1}{2} & 0 & - \\frac{1}{2}\\\\0 & \\frac{1}{2} & 0 & - \\frac{1}{2} & \\frac{1}{2} & 0 & \\frac{1}{2} & 0\\end{matrix}\\right]$"
      ],
      "text/plain": [
       "Matrix([\n",
       "[   0,  1/2,    0,  1/2,  1/2,    0, -1/2,    0],\n",
       "[-1/2,    0, -1/2,    0,    0,  1/2,    0, -1/2],\n",
       "[   0,  1/2,    0,  1/2, -1/2,    0,  1/2,    0],\n",
       "[-1/2,    0, -1/2,    0,    0, -1/2,    0,  1/2],\n",
       "[-1/2,    0,  1/2,    0,    0, -1/2,    0, -1/2],\n",
       "[   0, -1/2,    0,  1/2,  1/2,    0,  1/2,    0],\n",
       "[ 1/2,    0, -1/2,    0,    0, -1/2,    0, -1/2],\n",
       "[   0,  1/2,    0, -1/2,  1/2,    0,  1/2,    0]])"
      ]
     },
     "execution_count": 17,
     "metadata": {},
     "output_type": "execute_result"
    }
   ],
   "source": [
    "Gamma"
   ]
  },
  {
   "cell_type": "code",
   "execution_count": 17,
   "metadata": {},
   "outputs": [
    {
     "data": {
      "text/latex": [
       "$\\displaystyle \\left[\\begin{matrix}0 & \\frac{- \\frac{a^{4}}{4} + a^{2} b^{2} + \\frac{b^{4}}{4}}{\\sqrt{a^{6} b^{2} + a^{4} b^{4} + \\frac{a^{2} b^{2} \\left(a^{2} + b^{2}\\right)^{2}}{4} - \\left(- \\frac{a^{4}}{4} + a^{2} b^{2} + \\frac{b^{4}}{4}\\right) \\left(\\frac{a^{4}}{4} - a^{2} b^{2} - \\frac{b^{4}}{4}\\right)}} & 0 & \\frac{a b \\left(a^{2} + b^{2}\\right)}{2 \\sqrt{a^{6} b^{2} + a^{4} b^{4} + \\frac{a^{2} b^{2} \\left(a^{2} + b^{2}\\right)^{2}}{4} - \\left(- \\frac{a^{4}}{4} + a^{2} b^{2} + \\frac{b^{4}}{4}\\right) \\left(\\frac{a^{4}}{4} - a^{2} b^{2} - \\frac{b^{4}}{4}\\right)}} & \\frac{a^{2} b^{2}}{\\sqrt{a^{6} b^{2} + a^{4} b^{4} + \\frac{a^{2} b^{2} \\left(a^{2} + b^{2}\\right)^{2}}{4} - \\left(- \\frac{a^{4}}{4} + a^{2} b^{2} + \\frac{b^{4}}{4}\\right) \\left(\\frac{a^{4}}{4} - a^{2} b^{2} - \\frac{b^{4}}{4}\\right)}} & 0 & - \\frac{a^{3} b}{\\sqrt{a^{6} b^{2} + a^{4} b^{4} + \\frac{a^{2} b^{2} \\left(a^{2} + b^{2}\\right)^{2}}{4} - \\left(- \\frac{a^{4}}{4} + a^{2} b^{2} + \\frac{b^{4}}{4}\\right) \\left(\\frac{a^{4}}{4} - a^{2} b^{2} - \\frac{b^{4}}{4}\\right)}} & 0\\\\\\frac{\\frac{a^{4}}{4} - a^{2} b^{2} - \\frac{b^{4}}{4}}{\\sqrt{a^{6} b^{2} + a^{4} b^{4} + \\frac{a^{2} b^{2} \\left(a^{2} + b^{2}\\right)^{2}}{4} - \\left(- \\frac{a^{4}}{4} + a^{2} b^{2} + \\frac{b^{4}}{4}\\right) \\left(\\frac{a^{4}}{4} - a^{2} b^{2} - \\frac{b^{4}}{4}\\right)}} & 0 & \\frac{a b \\left(- a^{2} - b^{2}\\right)}{2 \\sqrt{a^{6} b^{2} + a^{4} b^{4} + \\frac{a^{2} b^{2} \\left(a^{2} + b^{2}\\right)^{2}}{4} - \\left(- \\frac{a^{4}}{4} + a^{2} b^{2} + \\frac{b^{4}}{4}\\right) \\left(\\frac{a^{4}}{4} - a^{2} b^{2} - \\frac{b^{4}}{4}\\right)}} & 0 & 0 & \\frac{a^{2} b^{2}}{\\sqrt{a^{6} b^{2} + a^{4} b^{4} + \\frac{a^{2} b^{2} \\left(a^{2} + b^{2}\\right)^{2}}{4} - \\left(- \\frac{a^{4}}{4} + a^{2} b^{2} + \\frac{b^{4}}{4}\\right) \\left(\\frac{a^{4}}{4} - a^{2} b^{2} - \\frac{b^{4}}{4}\\right)}} & 0 & - \\frac{a^{3} b}{\\sqrt{a^{6} b^{2} + a^{4} b^{4} + \\frac{a^{2} b^{2} \\left(a^{2} + b^{2}\\right)^{2}}{4} - \\left(- \\frac{a^{4}}{4} + a^{2} b^{2} + \\frac{b^{4}}{4}\\right) \\left(\\frac{a^{4}}{4} - a^{2} b^{2} - \\frac{b^{4}}{4}\\right)}}\\\\0 & - \\frac{a b \\left(- a^{2} - b^{2}\\right)}{2 \\sqrt{a^{6} b^{2} + a^{4} b^{4} + \\frac{a^{2} b^{2} \\left(a^{2} + b^{2}\\right)^{2}}{4} - \\left(- \\frac{a^{4}}{4} + a^{2} b^{2} + \\frac{b^{4}}{4}\\right) \\left(\\frac{a^{4}}{4} - a^{2} b^{2} - \\frac{b^{4}}{4}\\right)}} & 0 & \\frac{\\frac{a^{4}}{4} + a^{2} b^{2} - \\frac{b^{4}}{4}}{\\sqrt{a^{6} b^{2} + a^{4} b^{4} + \\frac{a^{2} b^{2} \\left(a^{2} + b^{2}\\right)^{2}}{4} - \\left(- \\frac{a^{4}}{4} + a^{2} b^{2} + \\frac{b^{4}}{4}\\right) \\left(\\frac{a^{4}}{4} - a^{2} b^{2} - \\frac{b^{4}}{4}\\right)}} & - \\frac{a b^{3}}{\\sqrt{a^{6} b^{2} + a^{4} b^{4} + \\frac{a^{2} b^{2} \\left(a^{2} + b^{2}\\right)^{2}}{4} - \\left(- \\frac{a^{4}}{4} + a^{2} b^{2} + \\frac{b^{4}}{4}\\right) \\left(\\frac{a^{4}}{4} - a^{2} b^{2} - \\frac{b^{4}}{4}\\right)}} & 0 & \\frac{a^{2} b^{2}}{\\sqrt{a^{6} b^{2} + a^{4} b^{4} + \\frac{a^{2} b^{2} \\left(a^{2} + b^{2}\\right)^{2}}{4} - \\left(- \\frac{a^{4}}{4} + a^{2} b^{2} + \\frac{b^{4}}{4}\\right) \\left(\\frac{a^{4}}{4} - a^{2} b^{2} - \\frac{b^{4}}{4}\\right)}} & 0\\\\- \\frac{a b \\left(a^{2} + b^{2}\\right)}{2 \\sqrt{a^{6} b^{2} + a^{4} b^{4} + \\frac{a^{2} b^{2} \\left(a^{2} + b^{2}\\right)^{2}}{4} - \\left(- \\frac{a^{4}}{4} + a^{2} b^{2} + \\frac{b^{4}}{4}\\right) \\left(\\frac{a^{4}}{4} - a^{2} b^{2} - \\frac{b^{4}}{4}\\right)}} & 0 & \\frac{- \\frac{a^{4}}{4} - a^{2} b^{2} + \\frac{b^{4}}{4}}{\\sqrt{a^{6} b^{2} + a^{4} b^{4} + \\frac{a^{2} b^{2} \\left(a^{2} + b^{2}\\right)^{2}}{4} - \\left(- \\frac{a^{4}}{4} + a^{2} b^{2} + \\frac{b^{4}}{4}\\right) \\left(\\frac{a^{4}}{4} - a^{2} b^{2} - \\frac{b^{4}}{4}\\right)}} & 0 & 0 & - \\frac{a b^{3}}{\\sqrt{a^{6} b^{2} + a^{4} b^{4} + \\frac{a^{2} b^{2} \\left(a^{2} + b^{2}\\right)^{2}}{4} - \\left(- \\frac{a^{4}}{4} + a^{2} b^{2} + \\frac{b^{4}}{4}\\right) \\left(\\frac{a^{4}}{4} - a^{2} b^{2} - \\frac{b^{4}}{4}\\right)}} & 0 & \\frac{a^{2} b^{2}}{\\sqrt{a^{6} b^{2} + a^{4} b^{4} + \\frac{a^{2} b^{2} \\left(a^{2} + b^{2}\\right)^{2}}{4} - \\left(- \\frac{a^{4}}{4} + a^{2} b^{2} + \\frac{b^{4}}{4}\\right) \\left(\\frac{a^{4}}{4} - a^{2} b^{2} - \\frac{b^{4}}{4}\\right)}}\\\\- \\frac{a^{2} b^{2}}{\\sqrt{a^{6} b^{2} + a^{4} b^{4} + \\frac{a^{2} b^{2} \\left(a^{2} + b^{2}\\right)^{2}}{4} - \\left(- \\frac{a^{4}}{4} + a^{2} b^{2} + \\frac{b^{4}}{4}\\right) \\left(\\frac{a^{4}}{4} - a^{2} b^{2} - \\frac{b^{4}}{4}\\right)}} & 0 & \\frac{a b^{3}}{\\sqrt{a^{6} b^{2} + a^{4} b^{4} + \\frac{a^{2} b^{2} \\left(a^{2} + b^{2}\\right)^{2}}{4} - \\left(- \\frac{a^{4}}{4} + a^{2} b^{2} + \\frac{b^{4}}{4}\\right) \\left(\\frac{a^{4}}{4} - a^{2} b^{2} - \\frac{b^{4}}{4}\\right)}} & 0 & 0 & \\frac{- \\frac{a^{4}}{4} - a^{2} b^{2} + \\frac{b^{4}}{4}}{\\sqrt{a^{6} b^{2} + a^{4} b^{4} + \\frac{a^{2} b^{2} \\left(a^{2} + b^{2}\\right)^{2}}{4} - \\left(- \\frac{a^{4}}{4} + a^{2} b^{2} + \\frac{b^{4}}{4}\\right) \\left(\\frac{a^{4}}{4} - a^{2} b^{2} - \\frac{b^{4}}{4}\\right)}} & 0 & \\frac{a b \\left(- a^{2} - b^{2}\\right)}{2 \\sqrt{a^{6} b^{2} + a^{4} b^{4} + \\frac{a^{2} b^{2} \\left(a^{2} + b^{2}\\right)^{2}}{4} - \\left(- \\frac{a^{4}}{4} + a^{2} b^{2} + \\frac{b^{4}}{4}\\right) \\left(\\frac{a^{4}}{4} - a^{2} b^{2} - \\frac{b^{4}}{4}\\right)}}\\\\0 & - \\frac{a^{2} b^{2}}{\\sqrt{a^{6} b^{2} + a^{4} b^{4} + \\frac{a^{2} b^{2} \\left(a^{2} + b^{2}\\right)^{2}}{4} - \\left(- \\frac{a^{4}}{4} + a^{2} b^{2} + \\frac{b^{4}}{4}\\right) \\left(\\frac{a^{4}}{4} - a^{2} b^{2} - \\frac{b^{4}}{4}\\right)}} & 0 & \\frac{a b^{3}}{\\sqrt{a^{6} b^{2} + a^{4} b^{4} + \\frac{a^{2} b^{2} \\left(a^{2} + b^{2}\\right)^{2}}{4} - \\left(- \\frac{a^{4}}{4} + a^{2} b^{2} + \\frac{b^{4}}{4}\\right) \\left(\\frac{a^{4}}{4} - a^{2} b^{2} - \\frac{b^{4}}{4}\\right)}} & \\frac{\\frac{a^{4}}{4} + a^{2} b^{2} - \\frac{b^{4}}{4}}{\\sqrt{a^{6} b^{2} + a^{4} b^{4} + \\frac{a^{2} b^{2} \\left(a^{2} + b^{2}\\right)^{2}}{4} - \\left(- \\frac{a^{4}}{4} + a^{2} b^{2} + \\frac{b^{4}}{4}\\right) \\left(\\frac{a^{4}}{4} - a^{2} b^{2} - \\frac{b^{4}}{4}\\right)}} & 0 & \\frac{a b \\left(a^{2} + b^{2}\\right)}{2 \\sqrt{a^{6} b^{2} + a^{4} b^{4} + \\frac{a^{2} b^{2} \\left(a^{2} + b^{2}\\right)^{2}}{4} - \\left(- \\frac{a^{4}}{4} + a^{2} b^{2} + \\frac{b^{4}}{4}\\right) \\left(\\frac{a^{4}}{4} - a^{2} b^{2} - \\frac{b^{4}}{4}\\right)}} & 0\\\\\\frac{a^{3} b}{\\sqrt{a^{6} b^{2} + a^{4} b^{4} + \\frac{a^{2} b^{2} \\left(a^{2} + b^{2}\\right)^{2}}{4} - \\left(- \\frac{a^{4}}{4} + a^{2} b^{2} + \\frac{b^{4}}{4}\\right) \\left(\\frac{a^{4}}{4} - a^{2} b^{2} - \\frac{b^{4}}{4}\\right)}} & 0 & - \\frac{a^{2} b^{2}}{\\sqrt{a^{6} b^{2} + a^{4} b^{4} + \\frac{a^{2} b^{2} \\left(a^{2} + b^{2}\\right)^{2}}{4} - \\left(- \\frac{a^{4}}{4} + a^{2} b^{2} + \\frac{b^{4}}{4}\\right) \\left(\\frac{a^{4}}{4} - a^{2} b^{2} - \\frac{b^{4}}{4}\\right)}} & 0 & 0 & - \\frac{a b \\left(a^{2} + b^{2}\\right)}{2 \\sqrt{a^{6} b^{2} + a^{4} b^{4} + \\frac{a^{2} b^{2} \\left(a^{2} + b^{2}\\right)^{2}}{4} - \\left(- \\frac{a^{4}}{4} + a^{2} b^{2} + \\frac{b^{4}}{4}\\right) \\left(\\frac{a^{4}}{4} - a^{2} b^{2} - \\frac{b^{4}}{4}\\right)}} & 0 & \\frac{\\frac{a^{4}}{4} - a^{2} b^{2} - \\frac{b^{4}}{4}}{\\sqrt{a^{6} b^{2} + a^{4} b^{4} + \\frac{a^{2} b^{2} \\left(a^{2} + b^{2}\\right)^{2}}{4} - \\left(- \\frac{a^{4}}{4} + a^{2} b^{2} + \\frac{b^{4}}{4}\\right) \\left(\\frac{a^{4}}{4} - a^{2} b^{2} - \\frac{b^{4}}{4}\\right)}}\\\\0 & \\frac{a^{3} b}{\\sqrt{a^{6} b^{2} + a^{4} b^{4} + \\frac{a^{2} b^{2} \\left(a^{2} + b^{2}\\right)^{2}}{4} - \\left(- \\frac{a^{4}}{4} + a^{2} b^{2} + \\frac{b^{4}}{4}\\right) \\left(\\frac{a^{4}}{4} - a^{2} b^{2} - \\frac{b^{4}}{4}\\right)}} & 0 & - \\frac{a^{2} b^{2}}{\\sqrt{a^{6} b^{2} + a^{4} b^{4} + \\frac{a^{2} b^{2} \\left(a^{2} + b^{2}\\right)^{2}}{4} - \\left(- \\frac{a^{4}}{4} + a^{2} b^{2} + \\frac{b^{4}}{4}\\right) \\left(\\frac{a^{4}}{4} - a^{2} b^{2} - \\frac{b^{4}}{4}\\right)}} & - \\frac{a b \\left(- a^{2} - b^{2}\\right)}{2 \\sqrt{a^{6} b^{2} + a^{4} b^{4} + \\frac{a^{2} b^{2} \\left(a^{2} + b^{2}\\right)^{2}}{4} - \\left(- \\frac{a^{4}}{4} + a^{2} b^{2} + \\frac{b^{4}}{4}\\right) \\left(\\frac{a^{4}}{4} - a^{2} b^{2} - \\frac{b^{4}}{4}\\right)}} & 0 & \\frac{- \\frac{a^{4}}{4} + a^{2} b^{2} + \\frac{b^{4}}{4}}{\\sqrt{a^{6} b^{2} + a^{4} b^{4} + \\frac{a^{2} b^{2} \\left(a^{2} + b^{2}\\right)^{2}}{4} - \\left(- \\frac{a^{4}}{4} + a^{2} b^{2} + \\frac{b^{4}}{4}\\right) \\left(\\frac{a^{4}}{4} - a^{2} b^{2} - \\frac{b^{4}}{4}\\right)}} & 0\\end{matrix}\\right]$"
      ],
      "text/plain": [
       "Matrix([\n",
       "[                                                                                                                                                      0, (-a**4/4 + a**2*b**2 + b**4/4)/sqrt(a**6*b**2 + a**4*b**4 + a**2*b**2*(a**2 + b**2)**2/4 - (-a**4/4 + a**2*b**2 + b**4/4)*(a**4/4 - a**2*b**2 - b**4/4)),                                                                                                                                                        0,         a*b*(a**2 + b**2)/(2*sqrt(a**6*b**2 + a**4*b**4 + a**2*b**2*(a**2 + b**2)**2/4 - (-a**4/4 + a**2*b**2 + b**4/4)*(a**4/4 - a**2*b**2 - b**4/4))),                     a**2*b**2/sqrt(a**6*b**2 + a**4*b**4 + a**2*b**2*(a**2 + b**2)**2/4 - (-a**4/4 + a**2*b**2 + b**4/4)*(a**4/4 - a**2*b**2 - b**4/4)),                                                                                                                                                        0,                        -a**3*b/sqrt(a**6*b**2 + a**4*b**4 + a**2*b**2*(a**2 + b**2)**2/4 - (-a**4/4 + a**2*b**2 + b**4/4)*(a**4/4 - a**2*b**2 - b**4/4)),                                                                                                                                                       0],\n",
       "[(a**4/4 - a**2*b**2 - b**4/4)/sqrt(a**6*b**2 + a**4*b**4 + a**2*b**2*(a**2 + b**2)**2/4 - (-a**4/4 + a**2*b**2 + b**4/4)*(a**4/4 - a**2*b**2 - b**4/4)),                                                                                                                                                        0,         a*b*(-a**2 - b**2)/(2*sqrt(a**6*b**2 + a**4*b**4 + a**2*b**2*(a**2 + b**2)**2/4 - (-a**4/4 + a**2*b**2 + b**4/4)*(a**4/4 - a**2*b**2 - b**4/4))),                                                                                                                                                       0,                                                                                                                                                       0,                      a**2*b**2/sqrt(a**6*b**2 + a**4*b**4 + a**2*b**2*(a**2 + b**2)**2/4 - (-a**4/4 + a**2*b**2 + b**4/4)*(a**4/4 - a**2*b**2 - b**4/4)),                                                                                                                                                        0,                       -a**3*b/sqrt(a**6*b**2 + a**4*b**4 + a**2*b**2*(a**2 + b**2)**2/4 - (-a**4/4 + a**2*b**2 + b**4/4)*(a**4/4 - a**2*b**2 - b**4/4))],\n",
       "[                                                                                                                                                      0,        -a*b*(-a**2 - b**2)/(2*sqrt(a**6*b**2 + a**4*b**4 + a**2*b**2*(a**2 + b**2)**2/4 - (-a**4/4 + a**2*b**2 + b**4/4)*(a**4/4 - a**2*b**2 - b**4/4))),                                                                                                                                                        0, (a**4/4 + a**2*b**2 - b**4/4)/sqrt(a**6*b**2 + a**4*b**4 + a**2*b**2*(a**2 + b**2)**2/4 - (-a**4/4 + a**2*b**2 + b**4/4)*(a**4/4 - a**2*b**2 - b**4/4)),                       -a*b**3/sqrt(a**6*b**2 + a**4*b**4 + a**2*b**2*(a**2 + b**2)**2/4 - (-a**4/4 + a**2*b**2 + b**4/4)*(a**4/4 - a**2*b**2 - b**4/4)),                                                                                                                                                        0,                      a**2*b**2/sqrt(a**6*b**2 + a**4*b**4 + a**2*b**2*(a**2 + b**2)**2/4 - (-a**4/4 + a**2*b**2 + b**4/4)*(a**4/4 - a**2*b**2 - b**4/4)),                                                                                                                                                       0],\n",
       "[       -a*b*(a**2 + b**2)/(2*sqrt(a**6*b**2 + a**4*b**4 + a**2*b**2*(a**2 + b**2)**2/4 - (-a**4/4 + a**2*b**2 + b**4/4)*(a**4/4 - a**2*b**2 - b**4/4))),                                                                                                                                                        0, (-a**4/4 - a**2*b**2 + b**4/4)/sqrt(a**6*b**2 + a**4*b**4 + a**2*b**2*(a**2 + b**2)**2/4 - (-a**4/4 + a**2*b**2 + b**4/4)*(a**4/4 - a**2*b**2 - b**4/4)),                                                                                                                                                       0,                                                                                                                                                       0,                        -a*b**3/sqrt(a**6*b**2 + a**4*b**4 + a**2*b**2*(a**2 + b**2)**2/4 - (-a**4/4 + a**2*b**2 + b**4/4)*(a**4/4 - a**2*b**2 - b**4/4)),                                                                                                                                                        0,                     a**2*b**2/sqrt(a**6*b**2 + a**4*b**4 + a**2*b**2*(a**2 + b**2)**2/4 - (-a**4/4 + a**2*b**2 + b**4/4)*(a**4/4 - a**2*b**2 - b**4/4))],\n",
       "[                   -a**2*b**2/sqrt(a**6*b**2 + a**4*b**4 + a**2*b**2*(a**2 + b**2)**2/4 - (-a**4/4 + a**2*b**2 + b**4/4)*(a**4/4 - a**2*b**2 - b**4/4)),                                                                                                                                                        0,                         a*b**3/sqrt(a**6*b**2 + a**4*b**4 + a**2*b**2*(a**2 + b**2)**2/4 - (-a**4/4 + a**2*b**2 + b**4/4)*(a**4/4 - a**2*b**2 - b**4/4)),                                                                                                                                                       0,                                                                                                                                                       0, (-a**4/4 - a**2*b**2 + b**4/4)/sqrt(a**6*b**2 + a**4*b**4 + a**2*b**2*(a**2 + b**2)**2/4 - (-a**4/4 + a**2*b**2 + b**4/4)*(a**4/4 - a**2*b**2 - b**4/4)),                                                                                                                                                        0,        a*b*(-a**2 - b**2)/(2*sqrt(a**6*b**2 + a**4*b**4 + a**2*b**2*(a**2 + b**2)**2/4 - (-a**4/4 + a**2*b**2 + b**4/4)*(a**4/4 - a**2*b**2 - b**4/4)))],\n",
       "[                                                                                                                                                      0,                     -a**2*b**2/sqrt(a**6*b**2 + a**4*b**4 + a**2*b**2*(a**2 + b**2)**2/4 - (-a**4/4 + a**2*b**2 + b**4/4)*(a**4/4 - a**2*b**2 - b**4/4)),                                                                                                                                                        0,                        a*b**3/sqrt(a**6*b**2 + a**4*b**4 + a**2*b**2*(a**2 + b**2)**2/4 - (-a**4/4 + a**2*b**2 + b**4/4)*(a**4/4 - a**2*b**2 - b**4/4)), (a**4/4 + a**2*b**2 - b**4/4)/sqrt(a**6*b**2 + a**4*b**4 + a**2*b**2*(a**2 + b**2)**2/4 - (-a**4/4 + a**2*b**2 + b**4/4)*(a**4/4 - a**2*b**2 - b**4/4)),                                                                                                                                                        0,          a*b*(a**2 + b**2)/(2*sqrt(a**6*b**2 + a**4*b**4 + a**2*b**2*(a**2 + b**2)**2/4 - (-a**4/4 + a**2*b**2 + b**4/4)*(a**4/4 - a**2*b**2 - b**4/4))),                                                                                                                                                       0],\n",
       "[                       a**3*b/sqrt(a**6*b**2 + a**4*b**4 + a**2*b**2*(a**2 + b**2)**2/4 - (-a**4/4 + a**2*b**2 + b**4/4)*(a**4/4 - a**2*b**2 - b**4/4)),                                                                                                                                                        0,                     -a**2*b**2/sqrt(a**6*b**2 + a**4*b**4 + a**2*b**2*(a**2 + b**2)**2/4 - (-a**4/4 + a**2*b**2 + b**4/4)*(a**4/4 - a**2*b**2 - b**4/4)),                                                                                                                                                       0,                                                                                                                                                       0,         -a*b*(a**2 + b**2)/(2*sqrt(a**6*b**2 + a**4*b**4 + a**2*b**2*(a**2 + b**2)**2/4 - (-a**4/4 + a**2*b**2 + b**4/4)*(a**4/4 - a**2*b**2 - b**4/4))),                                                                                                                                                        0, (a**4/4 - a**2*b**2 - b**4/4)/sqrt(a**6*b**2 + a**4*b**4 + a**2*b**2*(a**2 + b**2)**2/4 - (-a**4/4 + a**2*b**2 + b**4/4)*(a**4/4 - a**2*b**2 - b**4/4))],\n",
       "[                                                                                                                                                      0,                         a**3*b/sqrt(a**6*b**2 + a**4*b**4 + a**2*b**2*(a**2 + b**2)**2/4 - (-a**4/4 + a**2*b**2 + b**4/4)*(a**4/4 - a**2*b**2 - b**4/4)),                                                                                                                                                        0,                    -a**2*b**2/sqrt(a**6*b**2 + a**4*b**4 + a**2*b**2*(a**2 + b**2)**2/4 - (-a**4/4 + a**2*b**2 + b**4/4)*(a**4/4 - a**2*b**2 - b**4/4)),       -a*b*(-a**2 - b**2)/(2*sqrt(a**6*b**2 + a**4*b**4 + a**2*b**2*(a**2 + b**2)**2/4 - (-a**4/4 + a**2*b**2 + b**4/4)*(a**4/4 - a**2*b**2 - b**4/4))),                                                                                                                                                        0, (-a**4/4 + a**2*b**2 + b**4/4)/sqrt(a**6*b**2 + a**4*b**4 + a**2*b**2*(a**2 + b**2)**2/4 - (-a**4/4 + a**2*b**2 + b**4/4)*(a**4/4 - a**2*b**2 - b**4/4)),                                                                                                                                                       0]])"
      ]
     },
     "execution_count": 17,
     "metadata": {},
     "output_type": "execute_result"
    }
   ],
   "source": [
    "trigsimp(Gamma)"
   ]
  },
  {
   "cell_type": "code",
   "execution_count": 115,
   "metadata": {},
   "outputs": [],
   "source": [
    "Gamma.simplify()"
   ]
  },
  {
   "cell_type": "code",
   "execution_count": 107,
   "metadata": {},
   "outputs": [
    {
     "data": {
      "text/latex": [
       "$\\displaystyle \\tanh{\\left(\\beta \\right)}$"
      ],
      "text/plain": [
       "tanh(beta)"
      ]
     },
     "execution_count": 107,
     "metadata": {},
     "output_type": "execute_result"
    }
   ],
   "source": [
    "Gamma[0,2].trigsimp()"
   ]
  },
  {
   "cell_type": "code",
   "execution_count": null,
   "metadata": {},
   "outputs": [
    {
     "name": "stderr",
     "output_type": "stream",
     "text": [
      "  0%|          | 0/28 [00:00<?, ?it/s]"
     ]
    },
    {
     "name": "stderr",
     "output_type": "stream",
     "text": [
      "100%|██████████| 28/28 [03:11<00:00,  6.83s/it]\n"
     ]
    },
    {
     "data": {
      "text/latex": [
       "$\\displaystyle \\left[\\begin{matrix}0 & 1 & 0 & 0 & 0 & 0 & 0 & 0\\\\-1 & 0 & 0 & 0 & 0 & 0 & 0 & 0\\\\0 & 0 & 0 & 1 & 0 & 0 & 0 & 0\\\\0 & 0 & -1 & 0 & 0 & 0 & 0 & 0\\\\0 & 0 & 0 & 0 & 0 & -1 & 0 & 0\\\\0 & 0 & 0 & 0 & 1 & 0 & 0 & 0\\\\0 & 0 & 0 & 0 & 0 & 0 & 0 & -1\\\\0 & 0 & 0 & 0 & 0 & 0 & 1 & 0\\end{matrix}\\right]$"
      ],
      "text/plain": [
       "Matrix([\n",
       "[ 0, 1,  0, 0, 0,  0, 0,  0],\n",
       "[-1, 0,  0, 0, 0,  0, 0,  0],\n",
       "[ 0, 0,  0, 1, 0,  0, 0,  0],\n",
       "[ 0, 0, -1, 0, 0,  0, 0,  0],\n",
       "[ 0, 0,  0, 0, 0, -1, 0,  0],\n",
       "[ 0, 0,  0, 0, 1,  0, 0,  0],\n",
       "[ 0, 0,  0, 0, 0,  0, 0, -1],\n",
       "[ 0, 0,  0, 0, 0,  0, 1,  0]])"
      ]
     },
     "metadata": {},
     "output_type": "display_data"
    }
   ],
   "source": [
    "get_Gamma(op_dm,4)"
   ]
  },
  {
   "cell_type": "code",
   "execution_count": 37,
   "metadata": {},
   "outputs": [
    {
     "name": "stderr",
     "output_type": "stream",
     "text": [
      "  0%|          | 0/28 [00:00<?, ?it/s]"
     ]
    },
    {
     "name": "stderr",
     "output_type": "stream",
     "text": [
      "100%|██████████| 28/28 [03:06<00:00,  6.66s/it]\n"
     ]
    },
    {
     "data": {
      "text/latex": [
       "$\\displaystyle \\left[\\begin{matrix}0 & 0 & 0 & 0 & 0 & 0 & 0 & 0\\\\0 & 0 & 0 & 0 & 0 & 0 & 0 & 0\\\\0 & 0 & 0 & 0 & 0 & 0 & 0 & 0\\\\0 & 0 & 0 & 0 & 0 & 0 & 0 & 0\\\\0 & 0 & 0 & 0 & 0 & 0 & 0 & 0\\\\0 & 0 & 0 & 0 & 0 & 0 & 0 & 0\\\\0 & 0 & 0 & 0 & 0 & 0 & 0 & 0\\\\0 & 0 & 0 & 0 & 0 & 0 & 0 & 0\\end{matrix}\\right]$"
      ],
      "text/plain": [
       "Matrix([\n",
       "[0, 0, 0, 0, 0, 0, 0, 0],\n",
       "[0, 0, 0, 0, 0, 0, 0, 0],\n",
       "[0, 0, 0, 0, 0, 0, 0, 0],\n",
       "[0, 0, 0, 0, 0, 0, 0, 0],\n",
       "[0, 0, 0, 0, 0, 0, 0, 0],\n",
       "[0, 0, 0, 0, 0, 0, 0, 0],\n",
       "[0, 0, 0, 0, 0, 0, 0, 0],\n",
       "[0, 0, 0, 0, 0, 0, 0, 0]])"
      ]
     },
     "execution_count": 37,
     "metadata": {},
     "output_type": "execute_result"
    }
   ],
   "source": [
    "get_Gamma(op_dm,4)"
   ]
  },
  {
   "cell_type": "code",
   "execution_count": null,
   "metadata": {},
   "outputs": [],
   "source": []
  }
 ],
 "metadata": {
  "kernelspec": {
   "display_name": "base",
   "language": "python",
   "name": "python3"
  },
  "language_info": {
   "codemirror_mode": {
    "name": "ipython",
    "version": 3
   },
   "file_extension": ".py",
   "mimetype": "text/x-python",
   "name": "python",
   "nbconvert_exporter": "python",
   "pygments_lexer": "ipython3",
   "version": "3.11.4"
  }
 },
 "nbformat": 4,
 "nbformat_minor": 2
}
