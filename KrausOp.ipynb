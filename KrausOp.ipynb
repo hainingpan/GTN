{
 "cells": [
  {
   "cell_type": "markdown",
   "metadata": {},
   "source": [
    "# API"
   ]
  },
  {
   "cell_type": "code",
   "execution_count": 2,
   "metadata": {},
   "outputs": [],
   "source": [
    "from sympy import *\n",
    "from sympy.physics.quantum import *"
   ]
  },
  {
   "cell_type": "code",
   "execution_count": 2,
   "metadata": {},
   "outputs": [],
   "source": [
    "n1,n2,n3=symbols('n_1,n_2,n_3')"
   ]
  },
  {
   "cell_type": "code",
   "execution_count": 3,
   "metadata": {},
   "outputs": [],
   "source": [
    "g={i:Operator('\\gamma_{}'.format(i)) for i in range(1,5)}"
   ]
  },
  {
   "cell_type": "code",
   "execution_count": 4,
   "metadata": {},
   "outputs": [],
   "source": [
    "gb={i:Operator(r'\\bar{{\\gamma}}_{}'.format(i)) for i in range(1,5)}"
   ]
  },
  {
   "cell_type": "code",
   "execution_count": 5,
   "metadata": {},
   "outputs": [],
   "source": [
    "c={i:Operator(r'c_{}'.format(i)) for i in range(1,5)}"
   ]
  },
  {
   "cell_type": "code",
   "execution_count": 6,
   "metadata": {},
   "outputs": [],
   "source": [
    "cd={i:Dagger(Operator(r'c_{}'.format(i))) for i in range(1,5)}"
   ]
  },
  {
   "cell_type": "code",
   "execution_count": 7,
   "metadata": {},
   "outputs": [],
   "source": [
    "def ea(n1,n2,n3):\n",
    "    return ((1+n1)/(1-n1))**(1/4)* ((n2-I*n3)/sqrt(n2**2+n3**2))**(1/2)\n",
    "    "
   ]
  },
  {
   "cell_type": "code",
   "execution_count": 8,
   "metadata": {},
   "outputs": [],
   "source": [
    "def K(n1,n2,n3,op1,op2):\n",
    "    expa=N(ea(n1,n2,n3))\n",
    "    expma=1/expa\n",
    "    return (1-n1**2)**(1/4)*( (expa+ expma)/2)- ((1-n1**2)**(1/4)*(expa-expma)/2  *I* op1 * op2 )"
   ]
  },
  {
   "cell_type": "code",
   "execution_count": 9,
   "metadata": {},
   "outputs": [],
   "source": [
    "selfjoint=[(Dagger(gi),gi) for gi in g.values()]+[(Dagger(gi),gi) for gi in gb.values()]"
   ]
  },
  {
   "cell_type": "code",
   "execution_count": 10,
   "metadata": {},
   "outputs": [],
   "source": [
    "squareone=[(gi**2,1) for gi in g.values()]+[(gi**2,1) for gi in gb.values()]"
   ]
  },
  {
   "cell_type": "code",
   "execution_count": 11,
   "metadata": {},
   "outputs": [],
   "source": [
    "normalorder=[gi[i] for i in range(1,len(g)+1) for gi in [g, gb]]"
   ]
  },
  {
   "cell_type": "code",
   "execution_count": 12,
   "metadata": {},
   "outputs": [],
   "source": [
    "normalorder2=[(normalorder[j]*normalorder[i],-normalorder[i]*normalorder[j]) for i in range(len(normalorder)) for j in range(i+1,len(normalorder))]"
   ]
  },
  {
   "cell_type": "code",
   "execution_count": 13,
   "metadata": {},
   "outputs": [],
   "source": [
    "g2c=[(g[i],(c[i]+Dagger(c[i]))) for i in range(1,len(g)+1)]+[(gb[i],(Dagger(c[i])-c[i])/(I)) for i in range(1,len(gb)+1)]"
   ]
  },
  {
   "cell_type": "code",
   "execution_count": 14,
   "metadata": {},
   "outputs": [],
   "source": [
    "squarezero=[(ci**2,0) for ci in c.values()] +[(Dagger(ci)**2,0) for ci in c.values()]"
   ]
  },
  {
   "cell_type": "code",
   "execution_count": 15,
   "metadata": {},
   "outputs": [],
   "source": [
    "normalorder_C=[Dagger(ci) for ci in c.values()]+[ci for ci in c.values()]"
   ]
  },
  {
   "cell_type": "code",
   "execution_count": 16,
   "metadata": {},
   "outputs": [],
   "source": [
    "def delta(i,j):\n",
    "    return 1 if i%(len(normalorder_C)//2)==j%(len(normalorder_C)//2) else 0"
   ]
  },
  {
   "cell_type": "code",
   "execution_count": 17,
   "metadata": {},
   "outputs": [],
   "source": [
    "normalorder2_C=[(normalorder_C[j]*normalorder_C[i],0 if i==j else delta(i,j)-normalorder_C[i]*normalorder_C[j]) for i in range(len(normalorder_C)) for j in range(i,len(normalorder_C))]"
   ]
  },
  {
   "cell_type": "code",
   "execution_count": 18,
   "metadata": {},
   "outputs": [],
   "source": [
    "def recursiveapply(expr,subs):\n",
    "    expr1=expr.subs(subs)\n",
    "    while not expr1== expr:\n",
    "        expr=expr1\n",
    "        expr1=expr.subs(subs).expand()\n",
    "    return expr1"
   ]
  },
  {
   "attachments": {},
   "cell_type": "markdown",
   "metadata": {},
   "source": [
    "# Op"
   ]
  },
  {
   "cell_type": "code",
   "execution_count": 24,
   "metadata": {},
   "outputs": [],
   "source": [
    "Kn=(K(0,0,1,g[1],gb[1]))\n",
    "# Kn=(K(0,1/sqrt(2),1/sqrt(2),gb[1],g[2]))\n",
    "# Kn=K(0,.1,sqrt(1-0.1**2),gb[1],g[2])\n",
    "# Kn=K(.9,0,sqrt(1-0.9**2),gb[1],g[2])"
   ]
  },
  {
   "cell_type": "code",
   "execution_count": 25,
   "metadata": {},
   "outputs": [
    {
     "data": {
      "text/latex": [
       "$\\displaystyle 0.707106781186547 - 5.55111512312578 \\cdot 10^{-17} i - i \\left(5.55111512312578 \\cdot 10^{-17} - 0.707106781186547 i\\right) \\gamma_{1} \\bar{\\gamma}_1$"
      ],
      "text/plain": [
       "0.707106781186547 - 5.55111512312578e-17*I - I*(5.55111512312578e-17 - 0.707106781186547*I)*\\gamma_1*\\bar{\\gamma}_1"
      ]
     },
     "execution_count": 25,
     "metadata": {},
     "output_type": "execute_result"
    }
   ],
   "source": [
    "Kn"
   ]
  },
  {
   "cell_type": "code",
   "execution_count": 26,
   "metadata": {},
   "outputs": [],
   "source": [
    "expval=[(Dagger(ci)*ci,1) for ci in c.values()]"
   ]
  },
  {
   "cell_type": "code",
   "execution_count": 27,
   "metadata": {},
   "outputs": [
    {
     "data": {
      "text/latex": [
       "$\\displaystyle 1.0 - 1.57009245868377 \\cdot 10^{-16} i \\gamma_{1} \\bar{\\gamma}_1$"
      ],
      "text/plain": [
       "1.0 - 1.57009245868377e-16*I*\\gamma_1*\\bar{\\gamma}_1"
      ]
     },
     "execution_count": 27,
     "metadata": {},
     "output_type": "execute_result"
    }
   ],
   "source": [
    "(Dagger(Kn)*Kn).expand().subs(selfjoint).subs(squareone).subs(normalorder2)"
   ]
  },
  {
   "cell_type": "code",
   "execution_count": 28,
   "metadata": {},
   "outputs": [
    {
     "data": {
      "text/latex": [
       "$\\displaystyle 0.707106781186547 - 5.55111512312578 \\cdot 10^{-17} i - 0.707106781186547 \\gamma_{1} \\bar{\\gamma}_1 - 5.55111512312578 \\cdot 10^{-17} i \\gamma_{1} \\bar{\\gamma}_1$"
      ],
      "text/plain": [
       "0.707106781186547 - 5.55111512312578e-17*I - 0.707106781186547*\\gamma_1*\\bar{\\gamma}_1 - 5.55111512312578e-17*I*\\gamma_1*\\bar{\\gamma}_1"
      ]
     },
     "execution_count": 28,
     "metadata": {},
     "output_type": "execute_result"
    }
   ],
   "source": [
    "(Kn).expand()"
   ]
  },
  {
   "cell_type": "code",
   "execution_count": 29,
   "metadata": {},
   "outputs": [
    {
     "data": {
      "text/latex": [
       "$\\displaystyle - i c_{1}^{\\dagger} + i c_{1}$"
      ],
      "text/plain": [
       "-I*Dagger(c_1) + I*c_1"
      ]
     },
     "execution_count": 29,
     "metadata": {},
     "output_type": "execute_result"
    }
   ],
   "source": [
    "(gb[1]).subs(g2c).expand().subs(normalorder2_C).expand()"
   ]
  },
  {
   "cell_type": "code",
   "execution_count": 30,
   "metadata": {},
   "outputs": [
    {
     "data": {
      "text/latex": [
       "$\\displaystyle 1 - 2 c_{1}^{\\dagger} c_{1}$"
      ],
      "text/plain": [
       "1 - 2*Dagger(c_1)*c_1"
      ]
     },
     "execution_count": 30,
     "metadata": {},
     "output_type": "execute_result"
    }
   ],
   "source": [
    "(I* g[1]* gb[1]).subs(g2c).expand().subs(normalorder2_C).expand()"
   ]
  },
  {
   "cell_type": "code",
   "execution_count": 231,
   "metadata": {},
   "outputs": [
    {
     "data": {
      "text/latex": [
       "$\\displaystyle 0.923879532511287 - 0.38268343236509 i + 0.76536686473018 i c_{1}^{\\dagger} c_{1}$"
      ],
      "text/plain": [
       "0.923879532511287 - 0.38268343236509*I + 0.76536686473018*I*Dagger(c_1)*c_1"
      ]
     },
     "execution_count": 231,
     "metadata": {},
     "output_type": "execute_result"
    }
   ],
   "source": [
    "(Kn).expand().subs(g2c).expand().subs(normalorder2_C).expand()"
   ]
  },
  {
   "cell_type": "markdown",
   "metadata": {},
   "source": [
    "## Op"
   ]
  },
  {
   "cell_type": "code",
   "execution_count": 31,
   "metadata": {},
   "outputs": [],
   "source": [
    "# Kn=(K(0.9,sqrt(1-0.9**2),0,gb[1],g[2])) *(K(0.9,sqrt(1-0.9**2),0,gb[2],g[3]))\n",
    "# Kn=(K(0,1/sqrt(2),1/sqrt(2),gb[1],g[2]))\n",
    "Kn=(K(0.1,sqrt(1-0.1**2)*sin(pi/4),sqrt(1-0.1**2)*cos(pi/4),gb[1],g[2]))\n"
   ]
  },
  {
   "cell_type": "code",
   "execution_count": 32,
   "metadata": {},
   "outputs": [
    {
     "data": {
      "text/latex": [
       "$\\displaystyle 0.922721055122658 - 0.0191581945936129 i - i \\left(0.0462519732184832 - 0.382203575319017 i\\right) \\bar{\\gamma}_1 \\gamma_{2}$"
      ],
      "text/plain": [
       "0.922721055122658 - 0.0191581945936129*I - I*(0.0462519732184832 - 0.382203575319017*I)*\\bar{\\gamma}_1*\\gamma_2"
      ]
     },
     "execution_count": 32,
     "metadata": {},
     "output_type": "execute_result"
    }
   ],
   "source": [
    "Kn"
   ]
  },
  {
   "cell_type": "code",
   "execution_count": 52,
   "metadata": {},
   "outputs": [
    {
     "data": {
      "text/latex": [
       "$\\displaystyle 1.0 - 0.1 c_{1}^{\\dagger} c_{2}^{\\dagger} - 0.1 c_{1}^{\\dagger} c_{2} - 0.1 c_{2}^{\\dagger} c_{1} + 0.1 c_{1} c_{2}$"
      ],
      "text/plain": [
       "1.0 - 0.1*Dagger(c_1)*Dagger(c_2) - 0.1*Dagger(c_1)*c_2 - 0.1*Dagger(c_2)*c_1 + 0.1*c_1*c_2"
      ]
     },
     "execution_count": 52,
     "metadata": {},
     "output_type": "execute_result"
    }
   ],
   "source": [
    "recursiveapply((Dagger(Kn)*Kn).subs(g2c).expand(),normalorder2_C)"
   ]
  },
  {
   "cell_type": "code",
   "execution_count": 53,
   "metadata": {},
   "outputs": [
    {
     "data": {
      "text/latex": [
       "$\\displaystyle 0.703562363973514 - 0.703562363973515 i c_{1}^{\\dagger} c_{2}^{\\dagger} - 1.40712472794703 c_{1}^{\\dagger} c_{1} - 0.703562363973515 i c_{1}^{\\dagger} c_{2} + 0.703562363973515 i c_{2}^{\\dagger} c_{1} - 0.703562363973515 i c_{1} c_{2}$"
      ],
      "text/plain": [
       "0.703562363973514 - 0.703562363973515*I*Dagger(c_1)*Dagger(c_2) - 1.40712472794703*Dagger(c_1)*c_1 - 0.703562363973515*I*Dagger(c_1)*c_2 + 0.703562363973515*I*Dagger(c_2)*c_1 - 0.703562363973515*I*c_1*c_2"
      ]
     },
     "execution_count": 53,
     "metadata": {},
     "output_type": "execute_result"
    }
   ],
   "source": [
    "recursiveapply((Dagger(Kn)*(I*g[1]*gb[1])*Kn).expand().subs(g2c).expand(),normalorder2_C)"
   ]
  },
  {
   "cell_type": "code",
   "execution_count": 54,
   "metadata": {},
   "outputs": [
    {
     "data": {
      "text/latex": [
       "$\\displaystyle 0.703562363973515 + 0.703562363973514 i c_{1}^{\\dagger} c_{2}^{\\dagger} - 1.40712472794703 c_{1}^{\\dagger} c_{1} + 0.703562363973514 i c_{1}^{\\dagger} c_{2} - 0.703562363973514 i c_{2}^{\\dagger} c_{1} + 0.703562363973514 i c_{1} c_{2}$"
      ],
      "text/plain": [
       "0.703562363973515 + 0.703562363973514*I*Dagger(c_1)*Dagger(c_2) - 1.40712472794703*Dagger(c_1)*c_1 + 0.703562363973514*I*Dagger(c_1)*c_2 - 0.703562363973514*I*Dagger(c_2)*c_1 + 0.703562363973514*I*c_1*c_2"
      ]
     },
     "execution_count": 54,
     "metadata": {},
     "output_type": "execute_result"
    }
   ],
   "source": [
    "recursiveapply((Dagger(Kn)*(I*g[1]*g[2])*Kn).expand().subs(g2c).expand(),normalorder2_C)"
   ]
  },
  {
   "cell_type": "code",
   "execution_count": 55,
   "metadata": {},
   "outputs": [
    {
     "data": {
      "text/latex": [
       "$\\displaystyle -0.1 + 1.0 c_{1}^{\\dagger} c_{2}^{\\dagger} + 0.400000000000001 c_{1}^{\\dagger} c_{2}^{\\dagger} c_{1} c_{2} + 0.2 c_{1}^{\\dagger} c_{1} - 1.0 c_{1}^{\\dagger} c_{2} - 1.0 c_{2}^{\\dagger} c_{1} + 0.2 c_{2}^{\\dagger} c_{2} - 1.0 c_{1} c_{2}$"
      ],
      "text/plain": [
       "-0.1 + 1.0*Dagger(c_1)*Dagger(c_2) + 0.400000000000001*Dagger(c_1)*Dagger(c_2)*c_1*c_2 + 0.2*Dagger(c_1)*c_1 - 1.0*Dagger(c_1)*c_2 - 1.0*Dagger(c_2)*c_1 + 0.2*Dagger(c_2)*c_2 - 1.0*c_1*c_2"
      ]
     },
     "execution_count": 55,
     "metadata": {},
     "output_type": "execute_result"
    }
   ],
   "source": [
    "recursiveapply((Dagger(Kn)*(I*g[1]*gb[2])*Kn).expand().subs(g2c).expand(),normalorder2_C)"
   ]
  },
  {
   "cell_type": "code",
   "execution_count": 56,
   "metadata": {},
   "outputs": [
    {
     "data": {
      "text/latex": [
       "$\\displaystyle -0.1 + 1.0 c_{1}^{\\dagger} c_{2}^{\\dagger} + 1.0 c_{1}^{\\dagger} c_{2} + 1.0 c_{2}^{\\dagger} c_{1} - 1.0 c_{1} c_{2}$"
      ],
      "text/plain": [
       "-0.1 + 1.0*Dagger(c_1)*Dagger(c_2) + 1.0*Dagger(c_1)*c_2 + 1.0*Dagger(c_2)*c_1 - 1.0*c_1*c_2"
      ]
     },
     "execution_count": 56,
     "metadata": {},
     "output_type": "execute_result"
    }
   ],
   "source": [
    "recursiveapply((Dagger(Kn)*(I*gb[1]*g[2])*Kn).expand().subs(g2c).expand(),normalorder2_C)"
   ]
  },
  {
   "cell_type": "code",
   "execution_count": 57,
   "metadata": {},
   "outputs": [
    {
     "data": {
      "text/latex": [
       "$\\displaystyle -0.703562363973515 - 0.703562363973514 i c_{1}^{\\dagger} c_{2}^{\\dagger} + 0.703562363973515 i c_{1}^{\\dagger} c_{2} - 0.703562363973514 i c_{2}^{\\dagger} c_{1} + 1.40712472794703 c_{2}^{\\dagger} c_{2} - 0.703562363973514 i c_{1} c_{2}$"
      ],
      "text/plain": [
       "-0.703562363973515 - 0.703562363973514*I*Dagger(c_1)*Dagger(c_2) + 0.703562363973515*I*Dagger(c_1)*c_2 - 0.703562363973514*I*Dagger(c_2)*c_1 + 1.40712472794703*Dagger(c_2)*c_2 - 0.703562363973514*I*c_1*c_2"
      ]
     },
     "execution_count": 57,
     "metadata": {},
     "output_type": "execute_result"
    }
   ],
   "source": [
    "recursiveapply((Dagger(Kn)*(I*gb[1]*gb[2])*Kn).expand().subs(g2c).expand(),normalorder2_C)"
   ]
  },
  {
   "cell_type": "code",
   "execution_count": 58,
   "metadata": {},
   "outputs": [
    {
     "data": {
      "text/latex": [
       "$\\displaystyle 0.703562363973514 - 0.703562363973515 i c_{1}^{\\dagger} c_{2}^{\\dagger} + 0.703562363973515 i c_{1}^{\\dagger} c_{2} - 0.703562363973515 i c_{2}^{\\dagger} c_{1} - 1.40712472794703 c_{2}^{\\dagger} c_{2} - 0.703562363973515 i c_{1} c_{2}$"
      ],
      "text/plain": [
       "0.703562363973514 - 0.703562363973515*I*Dagger(c_1)*Dagger(c_2) + 0.703562363973515*I*Dagger(c_1)*c_2 - 0.703562363973515*I*Dagger(c_2)*c_1 - 1.40712472794703*Dagger(c_2)*c_2 - 0.703562363973515*I*c_1*c_2"
      ]
     },
     "execution_count": 58,
     "metadata": {},
     "output_type": "execute_result"
    }
   ],
   "source": [
    "recursiveapply((Dagger(Kn)*(I*g[2]*gb[2])*Kn).expand().subs(g2c).expand(),normalorder2_C)"
   ]
  },
  {
   "cell_type": "code",
   "execution_count": 308,
   "metadata": {},
   "outputs": [
    {
     "data": {
      "text/latex": [
       "$\\displaystyle - 0.784601809837321 i c_{1}^{\\dagger} c_{2}^{\\dagger} c_{3}^{\\dagger} c_{1} - 1.11022302462516 \\cdot 10^{-16} i c_{1}^{\\dagger} c_{2}^{\\dagger} c_{3}^{\\dagger} c_{1} c_{2} c_{3} + 5.55111512312578 \\cdot 10^{-17} i c_{1}^{\\dagger} c_{2}^{\\dagger} c_{3}^{\\dagger} c_{2} + 5.55111512312578 \\cdot 10^{-17} i c_{1}^{\\dagger} c_{2}^{\\dagger} c_{3}^{\\dagger} c_{3} + 0.784601809837321 i c_{1}^{\\dagger} c_{2}^{\\dagger} c_{1} c_{3} + 2.77555756156289 \\cdot 10^{-17} i c_{1}^{\\dagger} c_{2}^{\\dagger} c_{2} c_{3} + 0.435889894354067 i c_{1}^{\\dagger} c_{3}^{\\dagger} - 0.784601809837321 i c_{1}^{\\dagger} c_{3}^{\\dagger} c_{1} c_{2} - 0.784601809837321 i c_{1}^{\\dagger} c_{1} c_{2} c_{3} + 0.435889894354067 i c_{1}^{\\dagger} c_{3} + 0.392300904918661 i c_{2}^{\\dagger} c_{3}^{\\dagger} + 2.77555756156289 \\cdot 10^{-17} i c_{2}^{\\dagger} c_{3}^{\\dagger} c_{1} c_{2} + 5.55111512312578 \\cdot 10^{-17} i c_{2}^{\\dagger} c_{3}^{\\dagger} c_{1} c_{3} + 5.55111512312578 \\cdot 10^{-17} i c_{2}^{\\dagger} c_{3}^{\\dagger} c_{2} c_{3} + 5.55111512312578 \\cdot 10^{-17} i c_{2}^{\\dagger} c_{1} - 2.77555756156289 \\cdot 10^{-17} i c_{2}^{\\dagger} c_{1} c_{2} c_{3} + 5.55111512312578 \\cdot 10^{-17} i c_{2}^{\\dagger} c_{2} + 0.392300904918661 i c_{2}^{\\dagger} c_{3} - 0.435889894354067 i c_{3}^{\\dagger} c_{1} - 5.55111512312578 \\cdot 10^{-17} i c_{3}^{\\dagger} c_{1} c_{2} c_{3} - 0.392300904918661 i c_{3}^{\\dagger} c_{2} + 0.435889894354067 i c_{1} c_{3} + 0.392300904918661 i c_{2} c_{3}$"
      ],
      "text/plain": [
       "-0.784601809837321*I*Dagger(c_1)*Dagger(c_2)*Dagger(c_3)*c_1 - 1.11022302462516e-16*I*Dagger(c_1)*Dagger(c_2)*Dagger(c_3)*c_1*c_2*c_3 + 5.55111512312578e-17*I*Dagger(c_1)*Dagger(c_2)*Dagger(c_3)*c_2 + 5.55111512312578e-17*I*Dagger(c_1)*Dagger(c_2)*Dagger(c_3)*c_3 + 0.784601809837321*I*Dagger(c_1)*Dagger(c_2)*c_1*c_3 + 2.77555756156289e-17*I*Dagger(c_1)*Dagger(c_2)*c_2*c_3 + 0.435889894354067*I*Dagger(c_1)*Dagger(c_3) - 0.784601809837321*I*Dagger(c_1)*Dagger(c_3)*c_1*c_2 - 0.784601809837321*I*Dagger(c_1)*c_1*c_2*c_3 + 0.435889894354067*I*Dagger(c_1)*c_3 + 0.392300904918661*I*Dagger(c_2)*Dagger(c_3) + 2.77555756156289e-17*I*Dagger(c_2)*Dagger(c_3)*c_1*c_2 + 5.55111512312578e-17*I*Dagger(c_2)*Dagger(c_3)*c_1*c_3 + 5.55111512312578e-17*I*Dagger(c_2)*Dagger(c_3)*c_2*c_3 + 5.55111512312578e-17*I*Dagger(c_2)*c_1 - 2.77555756156289e-17*I*Dagger(c_2)*c_1*c_2*c_3 + 5.55111512312578e-17*I*Dagger(c_2)*c_2 + 0.392300904918661*I*Dagger(c_2)*c_3 - 0.435889894354067*I*Dagger(c_3)*c_1 - 5.55111512312578e-17*I*Dagger(c_3)*c_1*c_2*c_3 - 0.392300904918661*I*Dagger(c_3)*c_2 + 0.435889894354067*I*c_1*c_3 + 0.392300904918661*I*c_2*c_3"
      ]
     },
     "execution_count": 308,
     "metadata": {},
     "output_type": "execute_result"
    }
   ],
   "source": [
    "recursiveapply((Dagger(Kn)*(I*g[1]*g[3])*Kn).expand().subs(g2c).expand(),normalorder2_C)"
   ]
  },
  {
   "cell_type": "code",
   "execution_count": 309,
   "metadata": {},
   "outputs": [
    {
     "data": {
      "text/latex": [
       "$\\displaystyle 0.81 + 0.9 c_{1}^{\\dagger} c_{2}^{\\dagger} - 1.8 c_{1}^{\\dagger} c_{2}^{\\dagger} c_{3}^{\\dagger} c_{1} + 6.48 c_{1}^{\\dagger} c_{2}^{\\dagger} c_{3}^{\\dagger} c_{1} c_{2} c_{3} - 1.8 c_{1}^{\\dagger} c_{2}^{\\dagger} c_{3}^{\\dagger} c_{3} - 3.24 c_{1}^{\\dagger} c_{2}^{\\dagger} c_{1} c_{2} - 1.8 c_{1}^{\\dagger} c_{2}^{\\dagger} c_{1} c_{3} + 1.0 c_{1}^{\\dagger} c_{3}^{\\dagger} - 1.8 c_{1}^{\\dagger} c_{3}^{\\dagger} c_{1} c_{2} - 3.24 c_{1}^{\\dagger} c_{3}^{\\dagger} c_{1} c_{3} - 1.8 c_{1}^{\\dagger} c_{3}^{\\dagger} c_{2} c_{3} - 1.62 c_{1}^{\\dagger} c_{1} + 1.8 c_{1}^{\\dagger} c_{1} c_{2} c_{3} - 0.9 c_{1}^{\\dagger} c_{2} - 1.0 c_{1}^{\\dagger} c_{3} + 0.9 c_{2}^{\\dagger} c_{3}^{\\dagger} + 2.77555756156289 \\cdot 10^{-17} c_{2}^{\\dagger} c_{3}^{\\dagger} c_{1} c_{2} - 1.8 c_{2}^{\\dagger} c_{3}^{\\dagger} c_{1} c_{3} - 3.24 c_{2}^{\\dagger} c_{3}^{\\dagger} c_{2} c_{3} - 0.9 c_{2}^{\\dagger} c_{1} + 2.77555756156289 \\cdot 10^{-17} c_{2}^{\\dagger} c_{1} c_{2} c_{3} - 1.62 c_{2}^{\\dagger} c_{2} - 0.9 c_{2}^{\\dagger} c_{3} - 1.0 c_{3}^{\\dagger} c_{1} + 1.8 c_{3}^{\\dagger} c_{1} c_{2} c_{3} - 0.9 c_{3}^{\\dagger} c_{2} - 1.62 c_{3}^{\\dagger} c_{3} - 0.9 c_{1} c_{2} - 1.0 c_{1} c_{3} - 0.9 c_{2} c_{3}$"
      ],
      "text/plain": [
       "0.81 + 0.9*Dagger(c_1)*Dagger(c_2) - 1.8*Dagger(c_1)*Dagger(c_2)*Dagger(c_3)*c_1 + 6.48*Dagger(c_1)*Dagger(c_2)*Dagger(c_3)*c_1*c_2*c_3 - 1.8*Dagger(c_1)*Dagger(c_2)*Dagger(c_3)*c_3 - 3.24*Dagger(c_1)*Dagger(c_2)*c_1*c_2 - 1.8*Dagger(c_1)*Dagger(c_2)*c_1*c_3 + 1.0*Dagger(c_1)*Dagger(c_3) - 1.8*Dagger(c_1)*Dagger(c_3)*c_1*c_2 - 3.24*Dagger(c_1)*Dagger(c_3)*c_1*c_3 - 1.8*Dagger(c_1)*Dagger(c_3)*c_2*c_3 - 1.62*Dagger(c_1)*c_1 + 1.8*Dagger(c_1)*c_1*c_2*c_3 - 0.9*Dagger(c_1)*c_2 - 1.0*Dagger(c_1)*c_3 + 0.9*Dagger(c_2)*Dagger(c_3) + 2.77555756156289e-17*Dagger(c_2)*Dagger(c_3)*c_1*c_2 - 1.8*Dagger(c_2)*Dagger(c_3)*c_1*c_3 - 3.24*Dagger(c_2)*Dagger(c_3)*c_2*c_3 - 0.9*Dagger(c_2)*c_1 + 2.77555756156289e-17*Dagger(c_2)*c_1*c_2*c_3 - 1.62*Dagger(c_2)*c_2 - 0.9*Dagger(c_2)*c_3 - 1.0*Dagger(c_3)*c_1 + 1.8*Dagger(c_3)*c_1*c_2*c_3 - 0.9*Dagger(c_3)*c_2 - 1.62*Dagger(c_3)*c_3 - 0.9*c_1*c_2 - 1.0*c_1*c_3 - 0.9*c_2*c_3"
      ]
     },
     "execution_count": 309,
     "metadata": {},
     "output_type": "execute_result"
    }
   ],
   "source": [
    "recursiveapply((Dagger(Kn)*(I*g[1]*gb[3])*Kn).expand().subs(g2c).expand(),normalorder2_C)"
   ]
  },
  {
   "cell_type": "code",
   "execution_count": 310,
   "metadata": {},
   "outputs": [
    {
     "data": {
      "text/latex": [
       "$\\displaystyle 0.392300904918661 + 1.38777878078145 \\cdot 10^{-17} c_{1}^{\\dagger} c_{2}^{\\dagger} c_{3}^{\\dagger} c_{1} + 2.22044604925031 \\cdot 10^{-16} c_{1}^{\\dagger} c_{2}^{\\dagger} c_{3}^{\\dagger} c_{1} c_{2} c_{3} - 2.77555756156289 \\cdot 10^{-17} c_{1}^{\\dagger} c_{2}^{\\dagger} c_{3}^{\\dagger} c_{2} - 1.11022302462516 \\cdot 10^{-16} c_{1}^{\\dagger} c_{2}^{\\dagger} c_{3}^{\\dagger} c_{3} - 5.55111512312578 \\cdot 10^{-17} c_{1}^{\\dagger} c_{2}^{\\dagger} c_{1} c_{2} - 2.77555756156289 \\cdot 10^{-17} c_{1}^{\\dagger} c_{1} c_{2} c_{3} + 0.435889894354067 c_{2}^{\\dagger} c_{3}^{\\dagger} + 5.55111512312578 \\cdot 10^{-17} c_{2}^{\\dagger} c_{3}^{\\dagger} c_{1} c_{2} - 5.55111512312578 \\cdot 10^{-17} c_{2}^{\\dagger} c_{3}^{\\dagger} c_{1} c_{3} - 1.56920361967464 c_{2}^{\\dagger} c_{3}^{\\dagger} c_{2} c_{3} + 2.77555756156289 \\cdot 10^{-17} c_{2}^{\\dagger} c_{1} c_{2} c_{3} - 0.784601809837321 c_{2}^{\\dagger} c_{2} - 0.435889894354067 c_{2}^{\\dagger} c_{3} + 5.55111512312578 \\cdot 10^{-17} c_{3}^{\\dagger} c_{1} - 0.435889894354067 c_{3}^{\\dagger} c_{2} - 0.784601809837321 c_{3}^{\\dagger} c_{3} + 5.55111512312578 \\cdot 10^{-17} c_{1} c_{3} - 0.435889894354067 c_{2} c_{3}$"
      ],
      "text/plain": [
       "0.392300904918661 + 1.38777878078145e-17*Dagger(c_1)*Dagger(c_2)*Dagger(c_3)*c_1 + 2.22044604925031e-16*Dagger(c_1)*Dagger(c_2)*Dagger(c_3)*c_1*c_2*c_3 - 2.77555756156289e-17*Dagger(c_1)*Dagger(c_2)*Dagger(c_3)*c_2 - 1.11022302462516e-16*Dagger(c_1)*Dagger(c_2)*Dagger(c_3)*c_3 - 5.55111512312578e-17*Dagger(c_1)*Dagger(c_2)*c_1*c_2 - 2.77555756156289e-17*Dagger(c_1)*c_1*c_2*c_3 + 0.435889894354067*Dagger(c_2)*Dagger(c_3) + 5.55111512312578e-17*Dagger(c_2)*Dagger(c_3)*c_1*c_2 - 5.55111512312578e-17*Dagger(c_2)*Dagger(c_3)*c_1*c_3 - 1.56920361967464*Dagger(c_2)*Dagger(c_3)*c_2*c_3 + 2.77555756156289e-17*Dagger(c_2)*c_1*c_2*c_3 - 0.784601809837321*Dagger(c_2)*c_2 - 0.435889894354067*Dagger(c_2)*c_3 + 5.55111512312578e-17*Dagger(c_3)*c_1 - 0.435889894354067*Dagger(c_3)*c_2 - 0.784601809837321*Dagger(c_3)*c_3 + 5.55111512312578e-17*c_1*c_3 - 0.435889894354067*c_2*c_3"
      ]
     },
     "execution_count": 310,
     "metadata": {},
     "output_type": "execute_result"
    }
   ],
   "source": [
    "recursiveapply((Dagger(Kn)*(I*g[2]*gb[3])*Kn).expand().subs(g2c).expand(),normalorder2_C)"
   ]
  },
  {
   "cell_type": "code",
   "execution_count": 313,
   "metadata": {},
   "outputs": [
    {
     "data": {
      "text/latex": [
       "$\\displaystyle 0.9 + 0.81 c_{1}^{\\dagger} c_{2}^{\\dagger} + 2.77555756156289 \\cdot 10^{-17} c_{1}^{\\dagger} c_{2}^{\\dagger} c_{3}^{\\dagger} c_{1} + 1.8 c_{1}^{\\dagger} c_{2}^{\\dagger} c_{3}^{\\dagger} c_{2} - 2.77555756156289 \\cdot 10^{-17} c_{1}^{\\dagger} c_{2}^{\\dagger} c_{1} c_{3} - 1.8 c_{1}^{\\dagger} c_{2}^{\\dagger} c_{2} c_{3} + 0.9 c_{1}^{\\dagger} c_{3}^{\\dagger} - 1.38777878078145 \\cdot 10^{-17} c_{1}^{\\dagger} c_{3}^{\\dagger} c_{1} c_{2} + 0.81 c_{1}^{\\dagger} c_{2} + 0.9 c_{1}^{\\dagger} c_{3} + 1.0 c_{2}^{\\dagger} c_{3}^{\\dagger} - 1.8 c_{2}^{\\dagger} c_{3}^{\\dagger} c_{1} c_{2} - 5.55111512312578 \\cdot 10^{-17} c_{2}^{\\dagger} c_{3}^{\\dagger} c_{1} c_{3} - 1.66533453693773 \\cdot 10^{-16} c_{2}^{\\dagger} c_{3}^{\\dagger} c_{2} c_{3} + 0.81 c_{2}^{\\dagger} c_{1} - 1.8 c_{2}^{\\dagger} c_{1} c_{2} c_{3} + 1.0 c_{2}^{\\dagger} c_{3} + 0.9 c_{3}^{\\dagger} c_{1} - 5.55111512312578 \\cdot 10^{-17} c_{3}^{\\dagger} c_{1} c_{2} c_{3} + 1.0 c_{3}^{\\dagger} c_{2} + 2.77555756156289 \\cdot 10^{-17} c_{3}^{\\dagger} c_{3} - 0.81 c_{1} c_{2} - 0.9 c_{1} c_{3} - 1.0 c_{2} c_{3}$"
      ],
      "text/plain": [
       "0.9 + 0.81*Dagger(c_1)*Dagger(c_2) + 2.77555756156289e-17*Dagger(c_1)*Dagger(c_2)*Dagger(c_3)*c_1 + 1.8*Dagger(c_1)*Dagger(c_2)*Dagger(c_3)*c_2 - 2.77555756156289e-17*Dagger(c_1)*Dagger(c_2)*c_1*c_3 - 1.8*Dagger(c_1)*Dagger(c_2)*c_2*c_3 + 0.9*Dagger(c_1)*Dagger(c_3) - 1.38777878078145e-17*Dagger(c_1)*Dagger(c_3)*c_1*c_2 + 0.81*Dagger(c_1)*c_2 + 0.9*Dagger(c_1)*c_3 + 1.0*Dagger(c_2)*Dagger(c_3) - 1.8*Dagger(c_2)*Dagger(c_3)*c_1*c_2 - 5.55111512312578e-17*Dagger(c_2)*Dagger(c_3)*c_1*c_3 - 1.66533453693773e-16*Dagger(c_2)*Dagger(c_3)*c_2*c_3 + 0.81*Dagger(c_2)*c_1 - 1.8*Dagger(c_2)*c_1*c_2*c_3 + 1.0*Dagger(c_2)*c_3 + 0.9*Dagger(c_3)*c_1 - 5.55111512312578e-17*Dagger(c_3)*c_1*c_2*c_3 + 1.0*Dagger(c_3)*c_2 + 2.77555756156289e-17*Dagger(c_3)*c_3 - 0.81*c_1*c_2 - 0.9*c_1*c_3 - 1.0*c_2*c_3"
      ]
     },
     "execution_count": 313,
     "metadata": {},
     "output_type": "execute_result"
    }
   ],
   "source": [
    "recursiveapply((Dagger(Kn)*(I*gb[2]*g[3])*Kn).expand().subs(g2c).expand(),normalorder2_C)"
   ]
  },
  {
   "cell_type": "code",
   "execution_count": 312,
   "metadata": {},
   "outputs": [
    {
     "data": {
      "text/latex": [
       "$\\displaystyle 0.435889894354067 + 0.392300904918661 c_{1}^{\\dagger} c_{2}^{\\dagger} + 5.55111512312578 \\cdot 10^{-17} c_{1}^{\\dagger} c_{2}^{\\dagger} c_{3}^{\\dagger} c_{1} + 2.77555756156289 \\cdot 10^{-17} c_{1}^{\\dagger} c_{2}^{\\dagger} c_{3}^{\\dagger} c_{1} c_{2} c_{3} + 1.11022302462516 \\cdot 10^{-16} c_{1}^{\\dagger} c_{2}^{\\dagger} c_{3}^{\\dagger} c_{2} - 0.784601809837321 c_{1}^{\\dagger} c_{2}^{\\dagger} c_{3}^{\\dagger} c_{3} + 2.77555756156289 \\cdot 10^{-17} c_{1}^{\\dagger} c_{2}^{\\dagger} c_{1} c_{2} + 5.55111512312578 \\cdot 10^{-17} c_{1}^{\\dagger} c_{3}^{\\dagger} c_{1} c_{2} + 1.38777878078145 \\cdot 10^{-17} c_{1}^{\\dagger} c_{3}^{\\dagger} c_{1} c_{3} + 0.784601809837321 c_{1}^{\\dagger} c_{3}^{\\dagger} c_{2} c_{3} - 2.77555756156289 \\cdot 10^{-17} c_{1}^{\\dagger} c_{1} c_{2} c_{3} + 0.392300904918661 c_{1}^{\\dagger} c_{2} + 2.77555756156289 \\cdot 10^{-17} c_{2}^{\\dagger} c_{3}^{\\dagger} + 0.784601809837321 c_{2}^{\\dagger} c_{3}^{\\dagger} c_{1} c_{3} + 5.55111512312578 \\cdot 10^{-17} c_{2}^{\\dagger} c_{3}^{\\dagger} c_{2} c_{3} + 0.392300904918661 c_{2}^{\\dagger} c_{1} + 5.55111512312578 \\cdot 10^{-17} c_{2}^{\\dagger} c_{3} + 0.784601809837321 c_{3}^{\\dagger} c_{1} c_{2} c_{3} + 5.55111512312578 \\cdot 10^{-17} c_{3}^{\\dagger} c_{2} - 0.871779788708135 c_{3}^{\\dagger} c_{3} - 0.392300904918661 c_{1} c_{2}$"
      ],
      "text/plain": [
       "0.435889894354067 + 0.392300904918661*Dagger(c_1)*Dagger(c_2) + 5.55111512312578e-17*Dagger(c_1)*Dagger(c_2)*Dagger(c_3)*c_1 + 2.77555756156289e-17*Dagger(c_1)*Dagger(c_2)*Dagger(c_3)*c_1*c_2*c_3 + 1.11022302462516e-16*Dagger(c_1)*Dagger(c_2)*Dagger(c_3)*c_2 - 0.784601809837321*Dagger(c_1)*Dagger(c_2)*Dagger(c_3)*c_3 + 2.77555756156289e-17*Dagger(c_1)*Dagger(c_2)*c_1*c_2 + 5.55111512312578e-17*Dagger(c_1)*Dagger(c_3)*c_1*c_2 + 1.38777878078145e-17*Dagger(c_1)*Dagger(c_3)*c_1*c_3 + 0.784601809837321*Dagger(c_1)*Dagger(c_3)*c_2*c_3 - 2.77555756156289e-17*Dagger(c_1)*c_1*c_2*c_3 + 0.392300904918661*Dagger(c_1)*c_2 + 2.77555756156289e-17*Dagger(c_2)*Dagger(c_3) + 0.784601809837321*Dagger(c_2)*Dagger(c_3)*c_1*c_3 + 5.55111512312578e-17*Dagger(c_2)*Dagger(c_3)*c_2*c_3 + 0.392300904918661*Dagger(c_2)*c_1 + 5.55111512312578e-17*Dagger(c_2)*c_3 + 0.784601809837321*Dagger(c_3)*c_1*c_2*c_3 + 5.55111512312578e-17*Dagger(c_3)*c_2 - 0.871779788708135*Dagger(c_3)*c_3 - 0.392300904918661*c_1*c_2"
      ]
     },
     "execution_count": 312,
     "metadata": {},
     "output_type": "execute_result"
    }
   ],
   "source": [
    "recursiveapply((Dagger(Kn)*(I*g[3]*gb[3])*Kn).expand().subs(g2c).expand(),normalorder2_C)"
   ]
  },
  {
   "cell_type": "code",
   "execution_count": 106,
   "metadata": {},
   "outputs": [
    {
     "data": {
      "text/latex": [
       "$\\displaystyle 0.923879532511287 + 0.191341716182545 c_{1} c_{1}^{\\dagger}$"
      ],
      "text/plain": [
       "0.923879532511287 + 0.191341716182545*c_1*Dagger(c_1)"
      ]
     },
     "execution_count": 106,
     "metadata": {},
     "output_type": "execute_result"
    }
   ],
   "source": [
    "Kn.subs(g2c).expand().subs(squarezero).subs(normalorder2_C)"
   ]
  },
  {
   "cell_type": "code",
   "execution_count": 126,
   "metadata": {},
   "outputs": [
    {
     "data": {
      "text/latex": [
       "$\\displaystyle 0.426776695296637 i c_{1} c_{1}^{\\dagger}$"
      ],
      "text/plain": [
       "0.426776695296637*I*c_1*Dagger(c_1)"
      ]
     },
     "execution_count": 126,
     "metadata": {},
     "output_type": "execute_result"
    }
   ],
   "source": [
    "(Dagger(Kn)*(I*g[1]*gb[1])*Kn).expand().subs(g2c).expand().subs(normalorder2_C).subs(normalorder2_C)"
   ]
  },
  {
   "cell_type": "code",
   "execution_count": 118,
   "metadata": {},
   "outputs": [
    {
     "data": {
      "text/latex": [
       "$\\displaystyle 0.213388347648318 i c_{1}^{\\dagger} c_{2}^{\\dagger} + 0.213388347648318 i c_{1} c_{2}^{\\dagger} + 0.213388347648318 i c_{1} c_{2} - 0.213388347648318 i c_{2} c_{1}^{\\dagger}$"
      ],
      "text/plain": [
       "0.213388347648318*I*Dagger(c_1)*Dagger(c_2) + 0.213388347648318*I*c_1*Dagger(c_2) + 0.213388347648318*I*c_1*c_2 - 0.213388347648318*I*c_2*Dagger(c_1)"
      ]
     },
     "execution_count": 118,
     "metadata": {},
     "output_type": "execute_result"
    }
   ],
   "source": [
    "(Dagger(Kn)*(I*g[1]*g[2])*Kn).expand().subs(g2c).expand().subs(normalorder2_C).subs(normalorder2_C).subs(normalorder2_C)"
   ]
  },
  {
   "cell_type": "code",
   "execution_count": 119,
   "metadata": {},
   "outputs": [
    {
     "data": {
      "text/latex": [
       "$\\displaystyle 0.213388347648318 i c_{1}^{\\dagger} c_{2}^{\\dagger} + 0.213388347648318 i c_{1} c_{2}^{\\dagger} - 0.213388347648318 i c_{1} c_{2} + 0.0220970869120796 i c_{1}^{2} c_{2} c_{1}^{\\dagger} + 0.213388347648318 i c_{2} c_{1}^{\\dagger}$"
      ],
      "text/plain": [
       "0.213388347648318*I*Dagger(c_1)*Dagger(c_2) + 0.213388347648318*I*c_1*Dagger(c_2) - 0.213388347648318*I*c_1*c_2 + 0.0220970869120796*I*c_1**2*c_2*Dagger(c_1) + 0.213388347648318*I*c_2*Dagger(c_1)"
      ]
     },
     "execution_count": 119,
     "metadata": {},
     "output_type": "execute_result"
    }
   ],
   "source": [
    "(Dagger(Kn)*(I*g[1]*gb[2])*Kn).expand().subs(g2c).expand().subs(normalorder2_C).subs(normalorder2_C)"
   ]
  },
  {
   "cell_type": "code",
   "execution_count": 44,
   "metadata": {},
   "outputs": [
    {
     "data": {
      "text/latex": [
       "$\\displaystyle 1.09868411346781 + 0.455089860562227 i$"
      ],
      "text/plain": [
       "1.09868411346781 + 0.455089860562227*I"
      ]
     },
     "execution_count": 44,
     "metadata": {},
     "output_type": "execute_result"
    }
   ],
   "source": [
    "N((1+I)**(0.5))"
   ]
  },
  {
   "cell_type": "code",
   "execution_count": 24,
   "metadata": {},
   "outputs": [
    {
     "data": {
      "text/latex": [
       "$\\displaystyle 0.923879532511287 - 0.38268343236509 i$"
      ],
      "text/plain": [
       "0.923879532511287 - 0.38268343236509*I"
      ]
     },
     "execution_count": 24,
     "metadata": {},
     "output_type": "execute_result"
    }
   ],
   "source": [
    "N(ea(0,1/sqrt(2),1/sqrt(2)))"
   ]
  },
  {
   "cell_type": "code",
   "execution_count": 17,
   "metadata": {},
   "outputs": [
    {
     "data": {
      "text/latex": [
       "$\\displaystyle 0.923879532511287 + 0.38268343236509 i$"
      ],
      "text/plain": [
       "0.923879532511287 + 0.38268343236509*I"
      ]
     },
     "execution_count": 17,
     "metadata": {},
     "output_type": "execute_result"
    }
   ],
   "source": [
    "N(exp(I*pi/8))"
   ]
  },
  {
   "attachments": {},
   "cell_type": "markdown",
   "metadata": {},
   "source": [
    "# Initial"
   ]
  },
  {
   "cell_type": "code",
   "execution_count": 73,
   "metadata": {},
   "outputs": [],
   "source": [
    "# s=Dagger(c[1]-c[2])/sqrt(2)\n",
    "s=(1-Dagger(c[1])*Dagger(c[2]))/sqrt(2)"
   ]
  },
  {
   "cell_type": "code",
   "execution_count": 74,
   "metadata": {},
   "outputs": [
    {
     "data": {
      "text/latex": [
       "$\\displaystyle 1 - \\frac{c_{1}^{\\dagger} c_{2}^{\\dagger}}{2} - \\frac{c_{1}^{\\dagger} c_{2}^{\\dagger} c_{1} c_{2}}{2} - \\frac{c_{1}^{\\dagger} c_{1}}{2} - \\frac{c_{2}^{\\dagger} c_{2}}{2} + \\frac{c_{1} c_{2}}{2}$"
      ],
      "text/plain": [
       "1 - Dagger(c_1)*Dagger(c_2)/2 - Dagger(c_1)*Dagger(c_2)*c_1*c_2/2 - Dagger(c_1)*c_1/2 - Dagger(c_2)*c_2/2 + c_1*c_2/2"
      ]
     },
     "execution_count": 74,
     "metadata": {},
     "output_type": "execute_result"
    }
   ],
   "source": [
    "recursiveapply((Dagger(s)*s).expand().subs(g2c).expand(),normalorder2_C)"
   ]
  },
  {
   "cell_type": "code",
   "execution_count": 75,
   "metadata": {},
   "outputs": [
    {
     "data": {
      "text/latex": [
       "$\\displaystyle \\frac{c_{1}^{\\dagger} c_{2}^{\\dagger}}{2} + \\frac{c_{1}^{\\dagger} c_{2}^{\\dagger} c_{1} c_{2}}{2} - \\frac{c_{1}^{\\dagger} c_{1}}{2} + \\frac{c_{2}^{\\dagger} c_{2}}{2} - \\frac{c_{1} c_{2}}{2}$"
      ],
      "text/plain": [
       "Dagger(c_1)*Dagger(c_2)/2 + Dagger(c_1)*Dagger(c_2)*c_1*c_2/2 - Dagger(c_1)*c_1/2 + Dagger(c_2)*c_2/2 - c_1*c_2/2"
      ]
     },
     "execution_count": 75,
     "metadata": {},
     "output_type": "execute_result"
    }
   ],
   "source": [
    "recursiveapply((Dagger(s)*I*g[1]*gb[1]*s).expand().subs(g2c).expand(),normalorder2_C)"
   ]
  },
  {
   "cell_type": "code",
   "execution_count": 76,
   "metadata": {},
   "outputs": [
    {
     "data": {
      "text/latex": [
       "$\\displaystyle \\frac{i c_{1}^{\\dagger} c_{2}^{\\dagger}}{2} + \\frac{i c_{1}^{\\dagger} c_{2}}{2} - \\frac{i c_{2}^{\\dagger} c_{1}}{2} + \\frac{i c_{1} c_{2}}{2}$"
      ],
      "text/plain": [
       "I*Dagger(c_1)*Dagger(c_2)/2 + I*Dagger(c_1)*c_2/2 - I*Dagger(c_2)*c_1/2 + I*c_1*c_2/2"
      ]
     },
     "execution_count": 76,
     "metadata": {},
     "output_type": "execute_result"
    }
   ],
   "source": [
    "recursiveapply((Dagger(s)*I*g[1]*g[2]*s).expand().subs(g2c).expand(),normalorder2_C)"
   ]
  },
  {
   "cell_type": "code",
   "execution_count": 77,
   "metadata": {},
   "outputs": [
    {
     "data": {
      "text/latex": [
       "$\\displaystyle -1 + \\frac{c_{1}^{\\dagger} c_{2}^{\\dagger}}{2} + c_{1}^{\\dagger} c_{2}^{\\dagger} c_{1} c_{2} + c_{1}^{\\dagger} c_{1} - \\frac{c_{1}^{\\dagger} c_{2}}{2} - \\frac{c_{2}^{\\dagger} c_{1}}{2} + c_{2}^{\\dagger} c_{2} - \\frac{c_{1} c_{2}}{2}$"
      ],
      "text/plain": [
       "-1 + Dagger(c_1)*Dagger(c_2)/2 + Dagger(c_1)*Dagger(c_2)*c_1*c_2 + Dagger(c_1)*c_1 - Dagger(c_1)*c_2/2 - Dagger(c_2)*c_1/2 + Dagger(c_2)*c_2 - c_1*c_2/2"
      ]
     },
     "execution_count": 77,
     "metadata": {},
     "output_type": "execute_result"
    }
   ],
   "source": [
    "recursiveapply((Dagger(s)*I*g[1]*gb[2]*s).expand().subs(g2c).expand(),normalorder2_C)"
   ]
  },
  {
   "cell_type": "code",
   "execution_count": 78,
   "metadata": {},
   "outputs": [
    {
     "data": {
      "text/latex": [
       "$\\displaystyle -1 + \\frac{c_{1}^{\\dagger} c_{2}^{\\dagger}}{2} + c_{1}^{\\dagger} c_{2}^{\\dagger} c_{1} c_{2} + c_{1}^{\\dagger} c_{1} + \\frac{c_{1}^{\\dagger} c_{2}}{2} + \\frac{c_{2}^{\\dagger} c_{1}}{2} + c_{2}^{\\dagger} c_{2} - \\frac{c_{1} c_{2}}{2}$"
      ],
      "text/plain": [
       "-1 + Dagger(c_1)*Dagger(c_2)/2 + Dagger(c_1)*Dagger(c_2)*c_1*c_2 + Dagger(c_1)*c_1 + Dagger(c_1)*c_2/2 + Dagger(c_2)*c_1/2 + Dagger(c_2)*c_2 - c_1*c_2/2"
      ]
     },
     "execution_count": 78,
     "metadata": {},
     "output_type": "execute_result"
    }
   ],
   "source": [
    "recursiveapply((Dagger(s)*I*gb[1]*g[2]*s).expand().subs(g2c).expand(),normalorder2_C)"
   ]
  },
  {
   "cell_type": "code",
   "execution_count": 79,
   "metadata": {},
   "outputs": [
    {
     "data": {
      "text/latex": [
       "$\\displaystyle - \\frac{i c_{1}^{\\dagger} c_{2}^{\\dagger}}{2} + \\frac{i c_{1}^{\\dagger} c_{2}}{2} - \\frac{i c_{2}^{\\dagger} c_{1}}{2} - \\frac{i c_{1} c_{2}}{2}$"
      ],
      "text/plain": [
       "-I*Dagger(c_1)*Dagger(c_2)/2 + I*Dagger(c_1)*c_2/2 - I*Dagger(c_2)*c_1/2 - I*c_1*c_2/2"
      ]
     },
     "execution_count": 79,
     "metadata": {},
     "output_type": "execute_result"
    }
   ],
   "source": [
    "recursiveapply((Dagger(s)*I*gb[1]*gb[2]*s).expand().subs(g2c).expand(),normalorder2_C)"
   ]
  },
  {
   "cell_type": "code",
   "execution_count": 80,
   "metadata": {},
   "outputs": [
    {
     "data": {
      "text/latex": [
       "$\\displaystyle \\frac{c_{1}^{\\dagger} c_{2}^{\\dagger}}{2} + \\frac{c_{1}^{\\dagger} c_{2}^{\\dagger} c_{1} c_{2}}{2} + \\frac{c_{1}^{\\dagger} c_{1}}{2} - \\frac{c_{2}^{\\dagger} c_{2}}{2} - \\frac{c_{1} c_{2}}{2}$"
      ],
      "text/plain": [
       "Dagger(c_1)*Dagger(c_2)/2 + Dagger(c_1)*Dagger(c_2)*c_1*c_2/2 + Dagger(c_1)*c_1/2 - Dagger(c_2)*c_2/2 - c_1*c_2/2"
      ]
     },
     "execution_count": 80,
     "metadata": {},
     "output_type": "execute_result"
    }
   ],
   "source": [
    "recursiveapply((Dagger(s)*I*g[2]*gb[2]*s).expand().subs(g2c).expand(),normalorder2_C)"
   ]
  },
  {
   "cell_type": "code",
   "execution_count": 56,
   "metadata": {},
   "outputs": [],
   "source": [
    "s0=Dagger(c[1]-c[2])/sqrt(2)"
   ]
  },
  {
   "cell_type": "code",
   "execution_count": 57,
   "metadata": {},
   "outputs": [
    {
     "data": {
      "text/latex": [
       "$\\displaystyle 1 - \\frac{c_{1}^{\\dagger} c_{1}}{2} + \\frac{c_{1}^{\\dagger} c_{2}}{2} + \\frac{c_{2}^{\\dagger} c_{1}}{2} - \\frac{c_{2}^{\\dagger} c_{2}}{2}$"
      ],
      "text/plain": [
       "1 - Dagger(c_1)*c_1/2 + Dagger(c_1)*c_2/2 + Dagger(c_2)*c_1/2 - Dagger(c_2)*c_2/2"
      ]
     },
     "execution_count": 57,
     "metadata": {},
     "output_type": "execute_result"
    }
   ],
   "source": [
    "recursiveapply((Dagger(s0)*s0).expand().subs(g2c).expand(),normalorder2_C)"
   ]
  },
  {
   "cell_type": "code",
   "execution_count": 58,
   "metadata": {},
   "outputs": [
    {
     "data": {
      "text/latex": [
       "$\\displaystyle - c_{1}^{\\dagger} c_{2}^{\\dagger} c_{1} c_{2} - \\frac{c_{1}^{\\dagger} c_{1}}{2} - \\frac{c_{1}^{\\dagger} c_{2}}{2} - \\frac{c_{2}^{\\dagger} c_{1}}{2} - \\frac{c_{2}^{\\dagger} c_{2}}{2}$"
      ],
      "text/plain": [
       "-Dagger(c_1)*Dagger(c_2)*c_1*c_2 - Dagger(c_1)*c_1/2 - Dagger(c_1)*c_2/2 - Dagger(c_2)*c_1/2 - Dagger(c_2)*c_2/2"
      ]
     },
     "execution_count": 58,
     "metadata": {},
     "output_type": "execute_result"
    }
   ],
   "source": [
    "recursiveapply((Dagger(s0)*I*g[1]*gb[1]*s0).expand().subs(g2c).expand(),normalorder2_C)"
   ]
  },
  {
   "cell_type": "code",
   "execution_count": null,
   "metadata": {},
   "outputs": [
    {
     "data": {
      "text/latex": [
       "$\\displaystyle 0$"
      ],
      "text/plain": [
       "0"
      ]
     },
     "metadata": {},
     "output_type": "display_data"
    }
   ],
   "source": [
    "recursiveapply((Dagger(s0)*I*g[1]*g[2]*s0).expand().subs(g2c).expand(),normalorder2_C)"
   ]
  },
  {
   "cell_type": "code",
   "execution_count": 56,
   "metadata": {},
   "outputs": [
    {
     "data": {
      "text/latex": [
       "$\\displaystyle 1 - c_{1}^{\\dagger} c_{2}^{\\dagger} c_{1} c_{2} - c_{1}^{\\dagger} c_{1} - c_{2}^{\\dagger} c_{2}$"
      ],
      "text/plain": [
       "1 - Dagger(c_1)*Dagger(c_2)*c_1*c_2 - Dagger(c_1)*c_1 - Dagger(c_2)*c_2"
      ]
     },
     "execution_count": 56,
     "metadata": {},
     "output_type": "execute_result"
    }
   ],
   "source": [
    "recursiveapply((Dagger(s0)*I*g[1]*gb[2]*s0).expand().subs(g2c).expand(),normalorder2_C)"
   ]
  },
  {
   "cell_type": "code",
   "execution_count": 86,
   "metadata": {},
   "outputs": [
    {
     "data": {
      "text/latex": [
       "$\\displaystyle -1 + 4 c_{1}^{\\dagger} c_{2}^{\\dagger} c_{1} c_{2} + 2 c_{1}^{\\dagger} c_{1} + 2 c_{2}^{\\dagger} c_{2}$"
      ],
      "text/plain": [
       "-1 + 4*Dagger(c_1)*Dagger(c_2)*c_1*c_2 + 2*Dagger(c_1)*c_1 + 2*Dagger(c_2)*c_2"
      ]
     },
     "execution_count": 86,
     "metadata": {},
     "output_type": "execute_result"
    }
   ],
   "source": [
    "recursiveapply((g[1]*g[2]*(I*gb[1]*I*gb[2])).expand().subs(g2c).expand(),normalorder2_C)"
   ]
  },
  {
   "cell_type": "markdown",
   "metadata": {},
   "source": [
    "# Class A"
   ]
  },
  {
   "cell_type": "code",
   "execution_count": 3,
   "metadata": {},
   "outputs": [],
   "source": [
    "f={i:Operator(r'f_{}'.format(i)) for i in range(1,5)}\n",
    "fd={i:Dagger(Operator(r'f_{}'.format(i))) for i in range(1,5)}\n",
    "g={i:Operator(r'g_{}'.format(i)) for i in range(1,5)}\n",
    "gd={i:Dagger(Operator(r'g_{}'.format(i))) for i in range(1,5)}"
   ]
  },
  {
   "cell_type": "code",
   "execution_count": 11,
   "metadata": {},
   "outputs": [],
   "source": [
    "normalorder_f=[list(op.values()) for op in [fd,gd,f,g]]"
   ]
  },
  {
   "cell_type": "code",
   "execution_count": 12,
   "metadata": {},
   "outputs": [],
   "source": [
    "normalorder_f_linear=[normalorder_f[i][j] for i in range(len(normalorder_f)) for j in range(len(normalorder_f[0]))]"
   ]
  },
  {
   "cell_type": "code",
   "execution_count": 13,
   "metadata": {},
   "outputs": [],
   "source": [
    "def delta(i,j):\n",
    "    return 1 if (i%(len(normalorder_f_linear)//2))==(j%(len(normalorder_f_linear)//2)) else 0"
   ]
  },
  {
   "cell_type": "code",
   "execution_count": 14,
   "metadata": {},
   "outputs": [],
   "source": [
    "normalorder2_f=[(normalorder_f_linear[j]*normalorder_f_linear[i],0 if i==j else delta(i,j)-normalorder_f_linear[i]*normalorder_f_linear[j]) for i in range(len(normalorder_f_linear)) for j in range(i,len(normalorder_f_linear))]"
   ]
  },
  {
   "cell_type": "code",
   "execution_count": 8,
   "metadata": {},
   "outputs": [],
   "source": [
    "def recursiveapply(expr,subs):\n",
    "    expr1=expr.subs(subs)\n",
    "    while not expr1== expr:\n",
    "        expr=expr1\n",
    "        expr1=expr.subs(subs).expand()\n",
    "    return expr1"
   ]
  },
  {
   "cell_type": "code",
   "execution_count": 10,
   "metadata": {},
   "outputs": [],
   "source": [
    "def commutator(op1,op2,):\n",
    "    return op1*op2-op2*op1"
   ]
  },
  {
   "cell_type": "code",
   "execution_count": 24,
   "metadata": {},
   "outputs": [
    {
     "data": {
      "text/latex": [
       "$\\displaystyle 0$"
      ],
      "text/plain": [
       "0"
      ]
     },
     "execution_count": 24,
     "metadata": {},
     "output_type": "execute_result"
    }
   ],
   "source": [
    "recursiveapply(commutator(fd[1]*f[2]+fd[2]*f[1],fd[1]*f[1]+fd[2]*f[2]).expand().subs(normalorder2_f),normalorder2_f)"
   ]
  },
  {
   "cell_type": "code",
   "execution_count": 25,
   "metadata": {},
   "outputs": [
    {
     "data": {
      "text/latex": [
       "$\\displaystyle 0$"
      ],
      "text/plain": [
       "0"
      ]
     },
     "execution_count": 25,
     "metadata": {},
     "output_type": "execute_result"
    }
   ],
   "source": [
    "recursiveapply(commutator(I*fd[1]*f[2]-I*fd[2]*f[1],fd[1]*f[1]+fd[2]*f[2]).expand().subs(normalorder2_f),normalorder2_f)"
   ]
  },
  {
   "cell_type": "code",
   "execution_count": 26,
   "metadata": {},
   "outputs": [
    {
     "data": {
      "text/latex": [
       "$\\displaystyle 0$"
      ],
      "text/plain": [
       "0"
      ]
     },
     "execution_count": 26,
     "metadata": {},
     "output_type": "execute_result"
    }
   ],
   "source": [
    "recursiveapply(commutator(fd[1]*f[1]-fd[2]*f[2],fd[1]*f[1]+fd[2]*f[2]).expand().subs(normalorder2_f),normalorder2_f)"
   ]
  },
  {
   "cell_type": "code",
   "execution_count": 32,
   "metadata": {},
   "outputs": [],
   "source": [
    "alpha,beta,gamma=symbols('\\\\alpha,\\\\beta,\\\\gamma',real=True)"
   ]
  },
  {
   "cell_type": "code",
   "execution_count": 50,
   "metadata": {},
   "outputs": [
    {
     "data": {
      "text/latex": [
       "$\\displaystyle \\alpha$"
      ],
      "text/plain": [
       "\\alpha"
      ]
     },
     "execution_count": 50,
     "metadata": {},
     "output_type": "execute_result"
    }
   ],
   "source": [
    "Dagger(alpha)"
   ]
  },
  {
   "cell_type": "code",
   "execution_count": 33,
   "metadata": {},
   "outputs": [],
   "source": [
    "x=alpha*(fd[1]*f[2]+fd[2]*f[1])\n",
    "# x=(fd[1]*f[2]+fd[2]*f[1])"
   ]
  },
  {
   "cell_type": "code",
   "execution_count": 36,
   "metadata": {},
   "outputs": [],
   "source": [
    "y=beta*(-I*fd[1]*f[2]+I*fd[2]*f[1])\n",
    "# y=(-I*fd[1]*f[2]+I*fd[2]*f[1])"
   ]
  },
  {
   "cell_type": "code",
   "execution_count": 35,
   "metadata": {},
   "outputs": [],
   "source": [
    "z=I*gamma*(fd[1]*f[1]-fd[2]*f[2])\n",
    "# z=(fd[1]*f[1]-fd[2]*f[2])"
   ]
  },
  {
   "cell_type": "code",
   "execution_count": 41,
   "metadata": {},
   "outputs": [],
   "source": [
    "xyz=(alpha-I*beta)*fd[1]*f[2]+(alpha+I*beta)*fd[2]*f[1]+I*gamma*(fd[1]*f[1]-fd[2]*f[2])"
   ]
  },
  {
   "cell_type": "code",
   "execution_count": 46,
   "metadata": {},
   "outputs": [
    {
     "data": {
      "text/latex": [
       "$\\displaystyle \\alpha f_{1}^{\\dagger} f_{2} + \\alpha f_{2}^{\\dagger} f_{1} - i \\beta f_{1}^{\\dagger} f_{2} + i \\beta f_{2}^{\\dagger} f_{1} + i \\gamma f_{1}^{\\dagger} f_{1} - i \\gamma f_{2}^{\\dagger} f_{2}$"
      ],
      "text/plain": [
       "\\alpha*Dagger(f_1)*f_2 + \\alpha*Dagger(f_2)*f_1 - I*\\beta*Dagger(f_1)*f_2 + I*\\beta*Dagger(f_2)*f_1 + I*\\gamma*Dagger(f_1)*f_1 - I*\\gamma*Dagger(f_2)*f_2"
      ]
     },
     "execution_count": 46,
     "metadata": {},
     "output_type": "execute_result"
    }
   ],
   "source": [
    "recursiveapply((xyz**1).expand(),normalorder2_f)"
   ]
  },
  {
   "cell_type": "code",
   "execution_count": 45,
   "metadata": {},
   "outputs": [
    {
     "data": {
      "text/latex": [
       "$\\displaystyle 2 \\alpha^{2} f_{1}^{\\dagger} f_{2}^{\\dagger} f_{1} f_{2} + \\alpha^{2} f_{1}^{\\dagger} f_{1} + \\alpha^{2} f_{2}^{\\dagger} f_{2} + 2 \\beta^{2} f_{1}^{\\dagger} f_{2}^{\\dagger} f_{1} f_{2} + \\beta^{2} f_{1}^{\\dagger} f_{1} + \\beta^{2} f_{2}^{\\dagger} f_{2} - 2 \\gamma^{2} f_{1}^{\\dagger} f_{2}^{\\dagger} f_{1} f_{2} - \\gamma^{2} f_{1}^{\\dagger} f_{1} - \\gamma^{2} f_{2}^{\\dagger} f_{2}$"
      ],
      "text/plain": [
       "2*\\alpha**2*Dagger(f_1)*Dagger(f_2)*f_1*f_2 + \\alpha**2*Dagger(f_1)*f_1 + \\alpha**2*Dagger(f_2)*f_2 + 2*\\beta**2*Dagger(f_1)*Dagger(f_2)*f_1*f_2 + \\beta**2*Dagger(f_1)*f_1 + \\beta**2*Dagger(f_2)*f_2 - 2*\\gamma**2*Dagger(f_1)*Dagger(f_2)*f_1*f_2 - \\gamma**2*Dagger(f_1)*f_1 - \\gamma**2*Dagger(f_2)*f_2"
      ]
     },
     "execution_count": 45,
     "metadata": {},
     "output_type": "execute_result"
    }
   ],
   "source": [
    "recursiveapply((xyz**2).expand(),normalorder2_f)"
   ]
  },
  {
   "cell_type": "code",
   "execution_count": 47,
   "metadata": {},
   "outputs": [
    {
     "data": {
      "text/latex": [
       "$\\displaystyle \\alpha^{3} f_{1}^{\\dagger} f_{2} + \\alpha^{3} f_{2}^{\\dagger} f_{1} - i \\alpha^{2} \\beta f_{1}^{\\dagger} f_{2} + i \\alpha^{2} \\beta f_{2}^{\\dagger} f_{1} + i \\alpha^{2} \\gamma f_{1}^{\\dagger} f_{1} - i \\alpha^{2} \\gamma f_{2}^{\\dagger} f_{2} + \\alpha \\beta^{2} f_{1}^{\\dagger} f_{2} + \\alpha \\beta^{2} f_{2}^{\\dagger} f_{1} - \\alpha \\gamma^{2} f_{1}^{\\dagger} f_{2} - \\alpha \\gamma^{2} f_{2}^{\\dagger} f_{1} - i \\beta^{3} f_{1}^{\\dagger} f_{2} + i \\beta^{3} f_{2}^{\\dagger} f_{1} + i \\beta^{2} \\gamma f_{1}^{\\dagger} f_{1} - i \\beta^{2} \\gamma f_{2}^{\\dagger} f_{2} + i \\beta \\gamma^{2} f_{1}^{\\dagger} f_{2} - i \\beta \\gamma^{2} f_{2}^{\\dagger} f_{1} - i \\gamma^{3} f_{1}^{\\dagger} f_{1} + i \\gamma^{3} f_{2}^{\\dagger} f_{2}$"
      ],
      "text/plain": [
       "\\alpha**3*Dagger(f_1)*f_2 + \\alpha**3*Dagger(f_2)*f_1 - I*\\alpha**2*\\beta*Dagger(f_1)*f_2 + I*\\alpha**2*\\beta*Dagger(f_2)*f_1 + I*\\alpha**2*\\gamma*Dagger(f_1)*f_1 - I*\\alpha**2*\\gamma*Dagger(f_2)*f_2 + \\alpha*\\beta**2*Dagger(f_1)*f_2 + \\alpha*\\beta**2*Dagger(f_2)*f_1 - \\alpha*\\gamma**2*Dagger(f_1)*f_2 - \\alpha*\\gamma**2*Dagger(f_2)*f_1 - I*\\beta**3*Dagger(f_1)*f_2 + I*\\beta**3*Dagger(f_2)*f_1 + I*\\beta**2*\\gamma*Dagger(f_1)*f_1 - I*\\beta**2*\\gamma*Dagger(f_2)*f_2 + I*\\beta*\\gamma**2*Dagger(f_1)*f_2 - I*\\beta*\\gamma**2*Dagger(f_2)*f_1 - I*\\gamma**3*Dagger(f_1)*f_1 + I*\\gamma**3*Dagger(f_2)*f_2"
      ]
     },
     "execution_count": 47,
     "metadata": {},
     "output_type": "execute_result"
    }
   ],
   "source": [
    "recursiveapply((xyz**3).expand(),normalorder2_f)"
   ]
  },
  {
   "cell_type": "code",
   "execution_count": 58,
   "metadata": {},
   "outputs": [
    {
     "data": {
      "text/latex": [
       "$\\displaystyle \\alpha^{3} - 3 i \\alpha^{2} \\beta - 3 \\alpha \\beta^{2} + i \\beta^{3}$"
      ],
      "text/plain": [
       "\\alpha**3 - 3*I*\\alpha**2*\\beta - 3*\\alpha*\\beta**2 + I*\\beta**3"
      ]
     },
     "execution_count": 58,
     "metadata": {},
     "output_type": "execute_result"
    }
   ],
   "source": [
    "((alpha-I*beta)**3).expand()"
   ]
  },
  {
   "cell_type": "code",
   "execution_count": 62,
   "metadata": {},
   "outputs": [
    {
     "data": {
      "text/latex": [
       "$\\displaystyle \\alpha^{3} - 1$"
      ],
      "text/plain": [
       "\\alpha**3 - 1"
      ]
     },
     "execution_count": 62,
     "metadata": {},
     "output_type": "execute_result"
    }
   ],
   "source": [
    "((alpha-1)*(alpha**2+alpha+1)).expand()"
   ]
  },
  {
   "cell_type": "code",
   "execution_count": 69,
   "metadata": {},
   "outputs": [],
   "source": [
    "a11,a22,a12,a21,b=symbols('a_11,a_22,a_12,a_21,b',real=True)\n",
    "A11,A22,A12,A21,B=symbols('A_11,A_22,A_12,A_21,B',real=True)"
   ]
  },
  {
   "cell_type": "code",
   "execution_count": 89,
   "metadata": {},
   "outputs": [],
   "source": [
    "rc=recursiveapply(((a11*fd[1]*f[1]+a22*fd[2]*f[2]+a12*fd[1]*f[2]+a21*fd[2]*f[1]+b*(fd[1]*fd[2]*f[1]*f[2]))*(A11*fd[1]*f[1]+A22*fd[2]*f[2]+A12*fd[1]*f[2]+A21*fd[2]*f[1])).expand(),normalorder2_f)"
   ]
  },
  {
   "cell_type": "code",
   "execution_count": 90,
   "metadata": {},
   "outputs": [
    {
     "data": {
      "text/latex": [
       "$\\displaystyle A_{11} a_{11} f_{1}^{\\dagger} f_{1} + A_{11} a_{21} f_{2}^{\\dagger} f_{1} - A_{11} a_{22} f_{1}^{\\dagger} f_{2}^{\\dagger} f_{1} f_{2} + A_{11} b f_{1}^{\\dagger} f_{2}^{\\dagger} f_{1} f_{2} + A_{12} a_{11} f_{1}^{\\dagger} f_{2} + A_{12} a_{21} f_{1}^{\\dagger} f_{2}^{\\dagger} f_{1} f_{2} + A_{12} a_{21} f_{2}^{\\dagger} f_{2} + A_{21} a_{12} f_{1}^{\\dagger} f_{2}^{\\dagger} f_{1} f_{2} + A_{21} a_{12} f_{1}^{\\dagger} f_{1} + A_{21} a_{22} f_{2}^{\\dagger} f_{1} - A_{22} a_{11} f_{1}^{\\dagger} f_{2}^{\\dagger} f_{1} f_{2} + A_{22} a_{12} f_{1}^{\\dagger} f_{2} + A_{22} a_{22} f_{2}^{\\dagger} f_{2} + A_{22} b f_{1}^{\\dagger} f_{2}^{\\dagger} f_{1} f_{2}$"
      ],
      "text/plain": [
       "A_11*a_11*Dagger(f_1)*f_1 + A_11*a_21*Dagger(f_2)*f_1 - A_11*a_22*Dagger(f_1)*Dagger(f_2)*f_1*f_2 + A_11*b*Dagger(f_1)*Dagger(f_2)*f_1*f_2 + A_12*a_11*Dagger(f_1)*f_2 + A_12*a_21*Dagger(f_1)*Dagger(f_2)*f_1*f_2 + A_12*a_21*Dagger(f_2)*f_2 + A_21*a_12*Dagger(f_1)*Dagger(f_2)*f_1*f_2 + A_21*a_12*Dagger(f_1)*f_1 + A_21*a_22*Dagger(f_2)*f_1 - A_22*a_11*Dagger(f_1)*Dagger(f_2)*f_1*f_2 + A_22*a_12*Dagger(f_1)*f_2 + A_22*a_22*Dagger(f_2)*f_2 + A_22*b*Dagger(f_1)*Dagger(f_2)*f_1*f_2"
      ]
     },
     "execution_count": 90,
     "metadata": {},
     "output_type": "execute_result"
    }
   ],
   "source": [
    "rc"
   ]
  },
  {
   "cell_type": "code",
   "execution_count": 55,
   "metadata": {},
   "outputs": [
    {
     "data": {
      "text/latex": [
       "$\\displaystyle 2 \\alpha^{4} f_{1}^{\\dagger} f_{2}^{\\dagger} f_{1} f_{2} + \\alpha^{4} f_{1}^{\\dagger} f_{1} + \\alpha^{4} f_{2}^{\\dagger} f_{2} + 4 \\alpha^{2} \\beta^{2} f_{1}^{\\dagger} f_{2}^{\\dagger} f_{1} f_{2} + 2 \\alpha^{2} \\beta^{2} f_{1}^{\\dagger} f_{1} + 2 \\alpha^{2} \\beta^{2} f_{2}^{\\dagger} f_{2} - 4 \\alpha^{2} \\gamma^{2} f_{1}^{\\dagger} f_{2}^{\\dagger} f_{1} f_{2} - 2 \\alpha^{2} \\gamma^{2} f_{1}^{\\dagger} f_{1} - 2 \\alpha^{2} \\gamma^{2} f_{2}^{\\dagger} f_{2} + 2 \\beta^{4} f_{1}^{\\dagger} f_{2}^{\\dagger} f_{1} f_{2} + \\beta^{4} f_{1}^{\\dagger} f_{1} + \\beta^{4} f_{2}^{\\dagger} f_{2} - 4 \\beta^{2} \\gamma^{2} f_{1}^{\\dagger} f_{2}^{\\dagger} f_{1} f_{2} - 2 \\beta^{2} \\gamma^{2} f_{1}^{\\dagger} f_{1} - 2 \\beta^{2} \\gamma^{2} f_{2}^{\\dagger} f_{2} + 2 \\gamma^{4} f_{1}^{\\dagger} f_{2}^{\\dagger} f_{1} f_{2} + \\gamma^{4} f_{1}^{\\dagger} f_{1} + \\gamma^{4} f_{2}^{\\dagger} f_{2}$"
      ],
      "text/plain": [
       "2*\\alpha**4*Dagger(f_1)*Dagger(f_2)*f_1*f_2 + \\alpha**4*Dagger(f_1)*f_1 + \\alpha**4*Dagger(f_2)*f_2 + 4*\\alpha**2*\\beta**2*Dagger(f_1)*Dagger(f_2)*f_1*f_2 + 2*\\alpha**2*\\beta**2*Dagger(f_1)*f_1 + 2*\\alpha**2*\\beta**2*Dagger(f_2)*f_2 - 4*\\alpha**2*\\gamma**2*Dagger(f_1)*Dagger(f_2)*f_1*f_2 - 2*\\alpha**2*\\gamma**2*Dagger(f_1)*f_1 - 2*\\alpha**2*\\gamma**2*Dagger(f_2)*f_2 + 2*\\beta**4*Dagger(f_1)*Dagger(f_2)*f_1*f_2 + \\beta**4*Dagger(f_1)*f_1 + \\beta**4*Dagger(f_2)*f_2 - 4*\\beta**2*\\gamma**2*Dagger(f_1)*Dagger(f_2)*f_1*f_2 - 2*\\beta**2*\\gamma**2*Dagger(f_1)*f_1 - 2*\\beta**2*\\gamma**2*Dagger(f_2)*f_2 + 2*\\gamma**4*Dagger(f_1)*Dagger(f_2)*f_1*f_2 + \\gamma**4*Dagger(f_1)*f_1 + \\gamma**4*Dagger(f_2)*f_2"
      ]
     },
     "execution_count": 55,
     "metadata": {},
     "output_type": "execute_result"
    }
   ],
   "source": [
    "recursiveapply((xyz**4).expand(),normalorder2_f)"
   ]
  },
  {
   "cell_type": "code",
   "execution_count": 75,
   "metadata": {},
   "outputs": [],
   "source": [
    "tm=Matrix([[A11,A21,0,0,0],[A12,A22,0,0,0],[0,0,A11,A21,0],[0,0,A12,A22,0],[-A22,A21,A12,-A11,A11+A22]])"
   ]
  },
  {
   "cell_type": "code",
   "execution_count": 76,
   "metadata": {},
   "outputs": [],
   "source": [
    "init=Matrix([[a11,a12,a21,a22,b]]).T"
   ]
  },
  {
   "cell_type": "code",
   "execution_count": 92,
   "metadata": {},
   "outputs": [
    {
     "data": {
      "text/latex": [
       "$\\displaystyle 0$"
      ],
      "text/plain": [
       "0"
      ]
     },
     "execution_count": 92,
     "metadata": {},
     "output_type": "execute_result"
    }
   ],
   "source": [
    "((tm@init).dot(basis)-rc).expand()"
   ]
  },
  {
   "cell_type": "code",
   "execution_count": 119,
   "metadata": {},
   "outputs": [],
   "source": [
    "rho,phi=symbols('\\\\rho,\\\\phi',real=True)"
   ]
  },
  {
   "cell_type": "code",
   "execution_count": 120,
   "metadata": {},
   "outputs": [],
   "source": [
    "woU_init=[(a11,0),(a22,0),(a12,rho*exp(-I*phi)),(a21,rho*exp(I*phi)),(b,0)]\n",
    "woU_M=[(A11,0),(A22,0),(A12,rho*exp(-I*phi)),(A21,rho*exp(I*phi))]\n",
    "wU_init=[(a11,I*gamma),(a22,-I*gamma),(a12,rho*exp(-I*phi)),(a21,rho*exp(I*phi)),(b,0)]\n",
    "wU_M=[(A11,I*gamma),(A22,-I*gamma),(A12,rho*exp(-I*phi)),(A21,rho*exp(I*phi))]"
   ]
  },
  {
   "cell_type": "code",
   "execution_count": 124,
   "metadata": {},
   "outputs": [
    {
     "data": {
      "text/latex": [
       "$\\displaystyle \\left[\\begin{matrix}0\\\\\\rho e^{- i \\phi}\\\\\\rho e^{i \\phi}\\\\0\\\\0\\end{matrix}\\right]$"
      ],
      "text/plain": [
       "Matrix([\n",
       "[                0],\n",
       "[\\rho*exp(-I*\\phi)],\n",
       "[ \\rho*exp(I*\\phi)],\n",
       "[                0],\n",
       "[                0]])"
      ]
     },
     "execution_count": 124,
     "metadata": {},
     "output_type": "execute_result"
    }
   ],
   "source": [
    "(init).subs(woU_init+woU_M)"
   ]
  },
  {
   "cell_type": "code",
   "execution_count": 121,
   "metadata": {},
   "outputs": [
    {
     "data": {
      "text/latex": [
       "$\\displaystyle \\left[\\begin{matrix}\\rho^{2}\\\\0\\\\0\\\\\\rho^{2}\\\\2 \\rho^{2}\\end{matrix}\\right]$"
      ],
      "text/plain": [
       "Matrix([\n",
       "[  \\rho**2],\n",
       "[        0],\n",
       "[        0],\n",
       "[  \\rho**2],\n",
       "[2*\\rho**2]])"
      ]
     },
     "execution_count": 121,
     "metadata": {},
     "output_type": "execute_result"
    }
   ],
   "source": [
    "(tm@init).subs(woU_init+woU_M)"
   ]
  },
  {
   "cell_type": "code",
   "execution_count": 122,
   "metadata": {},
   "outputs": [
    {
     "data": {
      "text/latex": [
       "$\\displaystyle \\left[\\begin{matrix}0\\\\\\rho^{3} e^{- i \\phi}\\\\\\rho^{3} e^{i \\phi}\\\\0\\\\0\\end{matrix}\\right]$"
      ],
      "text/plain": [
       "Matrix([\n",
       "[                   0],\n",
       "[\\rho**3*exp(-I*\\phi)],\n",
       "[ \\rho**3*exp(I*\\phi)],\n",
       "[                   0],\n",
       "[                   0]])"
      ]
     },
     "execution_count": 122,
     "metadata": {},
     "output_type": "execute_result"
    }
   ],
   "source": [
    "(tm@tm@init).subs(woU_init+woU_M)"
   ]
  },
  {
   "cell_type": "code",
   "execution_count": 123,
   "metadata": {},
   "outputs": [
    {
     "data": {
      "text/latex": [
       "$\\displaystyle \\left[\\begin{matrix}\\rho^{4}\\\\0\\\\0\\\\\\rho^{4}\\\\2 \\rho^{4}\\end{matrix}\\right]$"
      ],
      "text/plain": [
       "Matrix([\n",
       "[  \\rho**4],\n",
       "[        0],\n",
       "[        0],\n",
       "[  \\rho**4],\n",
       "[2*\\rho**4]])"
      ]
     },
     "execution_count": 123,
     "metadata": {},
     "output_type": "execute_result"
    }
   ],
   "source": [
    "(tm**3@init).subs(woU_init+woU_M)"
   ]
  },
  {
   "cell_type": "code",
   "execution_count": 101,
   "metadata": {},
   "outputs": [
    {
     "data": {
      "text/latex": [
       "$\\displaystyle \\left[\\begin{matrix}0\\\\\\left(\\alpha - i \\beta\\right)^{3} \\left(\\alpha + i \\beta\\right)^{2}\\\\\\left(\\alpha - i \\beta\\right)^{2} \\left(\\alpha + i \\beta\\right)^{3}\\\\0\\\\0\\end{matrix}\\right]$"
      ],
      "text/plain": [
       "Matrix([\n",
       "[                                          0],\n",
       "[(\\alpha - I*\\beta)**3*(\\alpha + I*\\beta)**2],\n",
       "[(\\alpha - I*\\beta)**2*(\\alpha + I*\\beta)**3],\n",
       "[                                          0],\n",
       "[                                          0]])"
      ]
     },
     "execution_count": 101,
     "metadata": {},
     "output_type": "execute_result"
    }
   ],
   "source": [
    "(tm**4@init).subs(woU_init+woU_M)"
   ]
  },
  {
   "cell_type": "code",
   "execution_count": 131,
   "metadata": {},
   "outputs": [],
   "source": [
    "s1=init.subs(wU_init+wU_M)"
   ]
  },
  {
   "cell_type": "code",
   "execution_count": 132,
   "metadata": {},
   "outputs": [
    {
     "data": {
      "text/latex": [
       "$\\displaystyle \\left[\\begin{matrix}i \\gamma\\\\\\rho e^{- i \\phi}\\\\\\rho e^{i \\phi}\\\\- i \\gamma\\\\0\\end{matrix}\\right]$"
      ],
      "text/plain": [
       "Matrix([\n",
       "[         I*\\gamma],\n",
       "[\\rho*exp(-I*\\phi)],\n",
       "[ \\rho*exp(I*\\phi)],\n",
       "[        -I*\\gamma],\n",
       "[                0]])"
      ]
     },
     "execution_count": 132,
     "metadata": {},
     "output_type": "execute_result"
    }
   ],
   "source": [
    "s1"
   ]
  },
  {
   "cell_type": "code",
   "execution_count": 133,
   "metadata": {},
   "outputs": [],
   "source": [
    "s2=(tm@s1).subs(wU_init+wU_M)"
   ]
  },
  {
   "cell_type": "code",
   "execution_count": 134,
   "metadata": {},
   "outputs": [
    {
     "data": {
      "text/latex": [
       "$\\displaystyle \\left[\\begin{matrix}- \\gamma^{2} + \\rho^{2}\\\\0\\\\0\\\\- \\gamma^{2} + \\rho^{2}\\\\- 2 \\gamma^{2} + 2 \\rho^{2}\\end{matrix}\\right]$"
      ],
      "text/plain": [
       "Matrix([\n",
       "[    -\\gamma**2 + \\rho**2],\n",
       "[                       0],\n",
       "[                       0],\n",
       "[    -\\gamma**2 + \\rho**2],\n",
       "[-2*\\gamma**2 + 2*\\rho**2]])"
      ]
     },
     "execution_count": 134,
     "metadata": {},
     "output_type": "execute_result"
    }
   ],
   "source": [
    "s2"
   ]
  },
  {
   "cell_type": "code",
   "execution_count": 136,
   "metadata": {},
   "outputs": [],
   "source": [
    "s3=(tm@s2).subs(wU_init+wU_M)"
   ]
  },
  {
   "cell_type": "code",
   "execution_count": 137,
   "metadata": {},
   "outputs": [
    {
     "data": {
      "text/latex": [
       "$\\displaystyle \\left[\\begin{matrix}i \\gamma \\left(- \\gamma^{2} + \\rho^{2}\\right)\\\\\\rho \\left(- \\gamma^{2} + \\rho^{2}\\right) e^{- i \\phi}\\\\\\rho \\left(- \\gamma^{2} + \\rho^{2}\\right) e^{i \\phi}\\\\- i \\gamma \\left(- \\gamma^{2} + \\rho^{2}\\right)\\\\0\\end{matrix}\\right]$"
      ],
      "text/plain": [
       "Matrix([\n",
       "[         I*\\gamma*(-\\gamma**2 + \\rho**2)],\n",
       "[\\rho*(-\\gamma**2 + \\rho**2)*exp(-I*\\phi)],\n",
       "[ \\rho*(-\\gamma**2 + \\rho**2)*exp(I*\\phi)],\n",
       "[        -I*\\gamma*(-\\gamma**2 + \\rho**2)],\n",
       "[                                       0]])"
      ]
     },
     "execution_count": 137,
     "metadata": {},
     "output_type": "execute_result"
    }
   ],
   "source": [
    "s3"
   ]
  },
  {
   "cell_type": "code",
   "execution_count": 138,
   "metadata": {},
   "outputs": [],
   "source": [
    "s4=((tm@s3).subs(wU_init+wU_M))"
   ]
  },
  {
   "cell_type": "code",
   "execution_count": 142,
   "metadata": {},
   "outputs": [
    {
     "data": {
      "text/latex": [
       "$\\displaystyle \\left[\\begin{matrix}- \\gamma^{2} \\left(- \\gamma^{2} + \\rho^{2}\\right) + \\rho^{2} \\left(- \\gamma^{2} + \\rho^{2}\\right)\\\\0\\\\0\\\\- \\gamma^{2} \\left(- \\gamma^{2} + \\rho^{2}\\right) + \\rho^{2} \\left(- \\gamma^{2} + \\rho^{2}\\right)\\\\- 2 \\gamma^{2} \\left(- \\gamma^{2} + \\rho^{2}\\right) + 2 \\rho^{2} \\left(- \\gamma^{2} + \\rho^{2}\\right)\\end{matrix}\\right]$"
      ],
      "text/plain": [
       "Matrix([\n",
       "[    -\\gamma**2*(-\\gamma**2 + \\rho**2) + \\rho**2*(-\\gamma**2 + \\rho**2)],\n",
       "[                                                                     0],\n",
       "[                                                                     0],\n",
       "[    -\\gamma**2*(-\\gamma**2 + \\rho**2) + \\rho**2*(-\\gamma**2 + \\rho**2)],\n",
       "[-2*\\gamma**2*(-\\gamma**2 + \\rho**2) + 2*\\rho**2*(-\\gamma**2 + \\rho**2)]])"
      ]
     },
     "execution_count": 142,
     "metadata": {},
     "output_type": "execute_result"
    }
   ],
   "source": [
    "factor(s4)"
   ]
  },
  {
   "cell_type": "code",
   "execution_count": 140,
   "metadata": {},
   "outputs": [],
   "source": [
    "s5=((tm@s4).subs(wU_init+wU_M))"
   ]
  },
  {
   "cell_type": "code",
   "execution_count": 141,
   "metadata": {},
   "outputs": [
    {
     "data": {
      "text/latex": [
       "$\\displaystyle \\left[\\begin{matrix}i \\gamma \\left(- \\gamma^{2} \\left(- \\gamma^{2} + \\rho^{2}\\right) + \\rho^{2} \\left(- \\gamma^{2} + \\rho^{2}\\right)\\right)\\\\\\rho \\left(- \\gamma^{2} \\left(- \\gamma^{2} + \\rho^{2}\\right) + \\rho^{2} \\left(- \\gamma^{2} + \\rho^{2}\\right)\\right) e^{- i \\phi}\\\\\\rho \\left(- \\gamma^{2} \\left(- \\gamma^{2} + \\rho^{2}\\right) + \\rho^{2} \\left(- \\gamma^{2} + \\rho^{2}\\right)\\right) e^{i \\phi}\\\\- i \\gamma \\left(- \\gamma^{2} \\left(- \\gamma^{2} + \\rho^{2}\\right) + \\rho^{2} \\left(- \\gamma^{2} + \\rho^{2}\\right)\\right)\\\\0\\end{matrix}\\right]$"
      ],
      "text/plain": [
       "Matrix([\n",
       "[         I*\\gamma*(-\\gamma**2*(-\\gamma**2 + \\rho**2) + \\rho**2*(-\\gamma**2 + \\rho**2))],\n",
       "[\\rho*(-\\gamma**2*(-\\gamma**2 + \\rho**2) + \\rho**2*(-\\gamma**2 + \\rho**2))*exp(-I*\\phi)],\n",
       "[ \\rho*(-\\gamma**2*(-\\gamma**2 + \\rho**2) + \\rho**2*(-\\gamma**2 + \\rho**2))*exp(I*\\phi)],\n",
       "[        -I*\\gamma*(-\\gamma**2*(-\\gamma**2 + \\rho**2) + \\rho**2*(-\\gamma**2 + \\rho**2))],\n",
       "[                                                                                     0]])"
      ]
     },
     "execution_count": 141,
     "metadata": {},
     "output_type": "execute_result"
    }
   ],
   "source": [
    "s5"
   ]
  },
  {
   "cell_type": "code",
   "execution_count": 149,
   "metadata": {},
   "outputs": [
    {
     "data": {
      "text/latex": [
       "$\\displaystyle \\sqrt{2}$"
      ],
      "text/plain": [
       "sqrt(2)"
      ]
     },
     "execution_count": 149,
     "metadata": {},
     "output_type": "execute_result"
    }
   ],
   "source": [
    "abs(1+I)"
   ]
  },
  {
   "cell_type": "code",
   "execution_count": 173,
   "metadata": {},
   "outputs": [],
   "source": [
    "Ap=sqrt(gamma**2+2*gamma*im(sqrt(rho**2-gamma**2))+abs(rho**2-gamma**2)+rho**2)\n",
    "Am=sqrt(gamma**2-2*gamma*im(sqrt(rho**2-gamma**2))+abs(rho**2-gamma**2)+rho**2)"
   ]
  },
  {
   "cell_type": "code",
   "execution_count": 174,
   "metadata": {},
   "outputs": [
    {
     "data": {
      "text/latex": [
       "$\\displaystyle \\sqrt{\\gamma^{2} + 2 \\gamma \\sin{\\left(\\frac{\\operatorname{atan}_{2}{\\left(0,- \\gamma^{2} + \\rho^{2} \\right)}}{2} \\right)} \\sqrt{\\left|{\\gamma^{2} - \\rho^{2}}\\right|} + \\rho^{2} + \\left|{\\gamma^{2} - \\rho^{2}}\\right|}$"
      ],
      "text/plain": [
       "sqrt(\\gamma**2 + 2*\\gamma*sin(atan2(0, -\\gamma**2 + \\rho**2)/2)*sqrt(Abs(\\gamma**2 - \\rho**2)) + \\rho**2 + Abs(\\gamma**2 - \\rho**2))"
      ]
     },
     "execution_count": 174,
     "metadata": {},
     "output_type": "execute_result"
    }
   ],
   "source": [
    "Ap"
   ]
  },
  {
   "cell_type": "code",
   "execution_count": 175,
   "metadata": {},
   "outputs": [
    {
     "data": {
      "text/latex": [
       "$\\displaystyle \\sqrt{\\gamma^{2} - 2 \\gamma \\sin{\\left(\\frac{\\operatorname{atan}_{2}{\\left(0,- \\gamma^{2} + \\rho^{2} \\right)}}{2} \\right)} \\sqrt{\\left|{\\gamma^{2} - \\rho^{2}}\\right|} + \\rho^{2} + \\left|{\\gamma^{2} - \\rho^{2}}\\right|}$"
      ],
      "text/plain": [
       "sqrt(\\gamma**2 - 2*\\gamma*sin(atan2(0, -\\gamma**2 + \\rho**2)/2)*sqrt(Abs(\\gamma**2 - \\rho**2)) + \\rho**2 + Abs(\\gamma**2 - \\rho**2))"
      ]
     },
     "execution_count": 175,
     "metadata": {},
     "output_type": "execute_result"
    }
   ],
   "source": [
    "Am"
   ]
  },
  {
   "cell_type": "code",
   "execution_count": 198,
   "metadata": {},
   "outputs": [],
   "source": [
    "theta=symbols('\\\\theta',real=True)"
   ]
  },
  {
   "cell_type": "code",
   "execution_count": 205,
   "metadata": {},
   "outputs": [],
   "source": [
    "cp=1/sqrt(2)*(exp(-I*phi)*(sech(theta)+I*tanh(theta))*f[1]+f[2])\n",
    "cp_d=1/sqrt(2)*(exp(I*phi)*(sech(theta)-I*tanh(theta))*fd[1]+fd[2])\n",
    "cm=1/sqrt(2)*(exp(-I*phi)*(sech(theta)-I*tanh(theta))*f[1]+f[2])\n",
    "cm_d=1/sqrt(2)*(exp(I*phi)*(sech(theta)+I*tanh(theta))*fd[1]+fd[2])"
   ]
  },
  {
   "cell_type": "code",
   "execution_count": 207,
   "metadata": {},
   "outputs": [
    {
     "data": {
      "text/latex": [
       "$\\displaystyle - i e^{i \\phi} \\tanh{\\left(\\theta \\right)} f_{1}^{\\dagger} f_{2} + i e^{- i \\phi} \\tanh{\\left(\\theta \\right)} f_{2}^{\\dagger} f_{1}$"
      ],
      "text/plain": [
       "-I*exp(I*\\phi)*tanh(\\theta)*Dagger(f_1)*f_2 + I*exp(-I*\\phi)*tanh(\\theta)*Dagger(f_2)*f_1"
      ]
     },
     "execution_count": 207,
     "metadata": {},
     "output_type": "execute_result"
    }
   ],
   "source": [
    "recursiveapply((cp_d*cp-cm_d*cm).expand(),normalorder2_f)"
   ]
  },
  {
   "cell_type": "code",
   "execution_count": 206,
   "metadata": {},
   "outputs": [
    {
     "data": {
      "text/latex": [
       "$\\displaystyle - i e^{i \\phi} \\tanh{\\left(\\theta \\right)} f_{1}^{\\dagger} f_{2} + i e^{- i \\phi} \\tanh{\\left(\\theta \\right)} f_{2}^{\\dagger} f_{1}$"
      ],
      "text/plain": [
       "-I*exp(I*\\phi)*tanh(\\theta)*Dagger(f_1)*f_2 + I*exp(-I*\\phi)*tanh(\\theta)*Dagger(f_2)*f_1"
      ]
     },
     "execution_count": 206,
     "metadata": {},
     "output_type": "execute_result"
    }
   ],
   "source": [
    "(cp_d*cp-cm_d*cm).expand()"
   ]
  },
  {
   "cell_type": "code",
   "execution_count": null,
   "metadata": {},
   "outputs": [],
   "source": [
    "recursiveapply((cp_d*cp-cm_d*cm).expand(),normalorder2_f)"
   ]
  },
  {
   "cell_type": "code",
   "execution_count": 211,
   "metadata": {},
   "outputs": [
    {
     "data": {
      "text/latex": [
       "$\\displaystyle \\left[\\begin{matrix}1 & 0\\\\0 & 1\\end{matrix}\\right]$"
      ],
      "text/plain": [
       "Matrix([\n",
       "[1, 0],\n",
       "[0, 1]])"
      ]
     },
     "execution_count": 211,
     "metadata": {},
     "output_type": "execute_result"
    }
   ],
   "source": [
    "eye(2)"
   ]
  },
  {
   "cell_type": "code",
   "execution_count": 212,
   "metadata": {},
   "outputs": [],
   "source": [
    "pm={0:eye(2),1:Matrix([[0,1],[1,0]]),2:Matrix([[0,-I],[I,0]]),3:Matrix([[1,0],[0,-1]])}"
   ]
  },
  {
   "cell_type": "code",
   "execution_count": 216,
   "metadata": {},
   "outputs": [
    {
     "data": {
      "text/latex": [
       "$\\displaystyle \\left[\\begin{matrix}0 & 0 & 0 & 1\\\\0 & 0 & 1 & 0\\\\0 & 1 & 0 & 0\\\\1 & 0 & 0 & 0\\end{matrix}\\right]$"
      ],
      "text/plain": [
       "Matrix([\n",
       "[0, 0, 0, 1],\n",
       "[0, 0, 1, 0],\n",
       "[0, 1, 0, 0],\n",
       "[1, 0, 0, 0]])"
      ]
     },
     "execution_count": 216,
     "metadata": {},
     "output_type": "execute_result"
    }
   ],
   "source": [
    "TensorProduct(pm[1],pm[1])"
   ]
  },
  {
   "cell_type": "code",
   "execution_count": 218,
   "metadata": {},
   "outputs": [
    {
     "data": {
      "text/latex": [
       "$\\displaystyle \\left[\\begin{matrix}f_{1}^{\\dagger} g_{1} + f_{2}^{\\dagger} g_{2} + g_{1}^{\\dagger} f_{1} + g_{2}^{\\dagger} f_{2}\\end{matrix}\\right]$"
      ],
      "text/plain": [
       "Matrix([[Dagger(f_1)*g_1 + Dagger(f_2)*g_2 + Dagger(g_1)*f_1 + Dagger(g_2)*f_2]])"
      ]
     },
     "execution_count": 218,
     "metadata": {},
     "output_type": "execute_result"
    }
   ],
   "source": [
    "Matrix([fd[1],fd[2],gd[1],gd[2]]).T@TensorProduct(pm[1],pm[0])@Matrix([f[1],f[2],g[1],g[2]])"
   ]
  },
  {
   "cell_type": "code",
   "execution_count": 220,
   "metadata": {},
   "outputs": [
    {
     "data": {
      "text/latex": [
       "$\\displaystyle \\left[\\begin{matrix}f_{1}^{\\dagger} f_{1} + f_{2}^{\\dagger} f_{2} - g_{1}^{\\dagger} g_{1} - g_{2}^{\\dagger} g_{2}\\end{matrix}\\right]$"
      ],
      "text/plain": [
       "Matrix([[Dagger(f_1)*f_1 + Dagger(f_2)*f_2 - Dagger(g_1)*g_1 - Dagger(g_2)*g_2]])"
      ]
     },
     "execution_count": 220,
     "metadata": {},
     "output_type": "execute_result"
    }
   ],
   "source": [
    "Matrix([fd[1],fd[2],gd[1],gd[2]]).T@TensorProduct(pm[3],pm[0])@Matrix([f[1],f[2],g[1],g[2]])"
   ]
  },
  {
   "cell_type": "code",
   "execution_count": 234,
   "metadata": {},
   "outputs": [],
   "source": [
    "a = {(i, j): symbols(f'a_{{{i}{j}}}',real=True) for i in range(4) for j in range(4)}\n"
   ]
  },
  {
   "cell_type": "code",
   "execution_count": 233,
   "metadata": {},
   "outputs": [
    {
     "data": {
      "text/latex": [
       "$\\displaystyle a_{03}$"
      ],
      "text/plain": [
       "a_{03}"
      ]
     },
     "execution_count": 233,
     "metadata": {},
     "output_type": "execute_result"
    }
   ],
   "source": [
    "a[0,3]"
   ]
  },
  {
   "cell_type": "code",
   "execution_count": 253,
   "metadata": {},
   "outputs": [],
   "source": [
    "coef={(i,j):a[i,j] if j in [1,2] else I*a[i,j] for i in range(4) for j in range(4)}"
   ]
  },
  {
   "cell_type": "code",
   "execution_count": 254,
   "metadata": {},
   "outputs": [
    {
     "data": {
      "text/plain": [
       "{(0, 0): I*a_{00},\n",
       " (0, 1): a_{01},\n",
       " (0, 2): a_{02},\n",
       " (0, 3): I*a_{03},\n",
       " (1, 0): I*a_{10},\n",
       " (1, 1): a_{11},\n",
       " (1, 2): a_{12},\n",
       " (1, 3): I*a_{13},\n",
       " (2, 0): I*a_{20},\n",
       " (2, 1): a_{21},\n",
       " (2, 2): a_{22},\n",
       " (2, 3): I*a_{23},\n",
       " (3, 0): I*a_{30},\n",
       " (3, 1): a_{31},\n",
       " (3, 2): a_{32},\n",
       " (3, 3): I*a_{33}}"
      ]
     },
     "execution_count": 254,
     "metadata": {},
     "output_type": "execute_result"
    }
   ],
   "source": [
    "coef"
   ]
  },
  {
   "cell_type": "code",
   "execution_count": 255,
   "metadata": {},
   "outputs": [],
   "source": [
    "exp_herm=[coef[i,j]*(Matrix([fd[1],fd[2],gd[1],gd[2]]).T@TensorProduct(pm[i],pm[j])@Matrix([f[1],f[2],g[1],g[2]]))[0,0] for i in range(4) for j in range(4)]"
   ]
  },
  {
   "cell_type": "code",
   "execution_count": 267,
   "metadata": {},
   "outputs": [],
   "source": [
    "exp_herm_simp=simplify(sum(exp_herm).expand())"
   ]
  },
  {
   "cell_type": "code",
   "execution_count": 268,
   "metadata": {},
   "outputs": [
    {
     "data": {
      "text/plain": [
       "{a_{00},\n",
       " a_{01},\n",
       " a_{02},\n",
       " a_{03},\n",
       " a_{10},\n",
       " a_{11},\n",
       " a_{12},\n",
       " a_{13},\n",
       " a_{20},\n",
       " a_{21},\n",
       " a_{22},\n",
       " a_{23},\n",
       " a_{30},\n",
       " a_{31},\n",
       " a_{32},\n",
       " a_{33},\n",
       " f_1,\n",
       " f_2,\n",
       " g_1,\n",
       " g_2}"
      ]
     },
     "execution_count": 268,
     "metadata": {},
     "output_type": "execute_result"
    }
   ],
   "source": [
    "exp_herm_simp.free_symbols"
   ]
  },
  {
   "cell_type": "code",
   "execution_count": null,
   "metadata": {},
   "outputs": [],
   "source": []
  },
  {
   "cell_type": "code",
   "execution_count": null,
   "metadata": {},
   "outputs": [],
   "source": []
  },
  {
   "cell_type": "code",
   "execution_count": 263,
   "metadata": {},
   "outputs": [
    {
     "data": {
      "text/latex": [
       "$\\displaystyle i a_{13} \\left(f_{1}^{\\dagger} g_{1} - f_{2}^{\\dagger} g_{2} + g_{1}^{\\dagger} f_{1} - g_{2}^{\\dagger} f_{2}\\right)$"
      ],
      "text/plain": [
       "I*a_{13}*(Dagger(f_1)*g_1 - Dagger(f_2)*g_2 + Dagger(g_1)*f_1 - Dagger(g_2)*f_2)"
      ]
     },
     "execution_count": 263,
     "metadata": {},
     "output_type": "execute_result"
    }
   ],
   "source": [
    "exp_herm[7]"
   ]
  },
  {
   "cell_type": "code",
   "execution_count": 186,
   "metadata": {},
   "outputs": [],
   "source": [
    "cp=(exp(-I*phi)*(I*gamma+sqrt(rho**2-gamma**2))*f[1]+rho*f[2])\n",
    "cp_d=(exp(I*phi)*(-I*gamma+conjugate(sqrt(rho**2-gamma**2)))*fd[1]+rho*fd[2])\n",
    "cm=(exp(-I*phi)*(I*gamma-sqrt(rho**2-gamma**2))*f[1]+rho*f[2])\n",
    "cm_d=(exp(I*phi)*(-I*gamma-conjugate(sqrt(rho**2-gamma**2)))*fd[1]+rho*fd[2])"
   ]
  },
  {
   "cell_type": "code",
   "execution_count": 176,
   "metadata": {},
   "outputs": [],
   "source": [
    "cp=1/Ap*(exp(-I*phi)*(I*gamma+sqrt(rho**2-gamma**2))*f[1]+rho*f[2])\n",
    "cp_d=1/Ap*(exp(I*phi)*(-I*gamma+conjugate(sqrt(rho**2-gamma**2)))*fd[1]+rho*fd[2])\n",
    "cm=1/Am*(exp(-I*phi)*(I*gamma-sqrt(rho**2-gamma**2))*f[1]+rho*f[2])\n",
    "cm_d=1/Am*(exp(I*phi)*(-I*gamma-conjugate(sqrt(rho**2-gamma**2)))*fd[1]+rho*fd[2])"
   ]
  },
  {
   "cell_type": "code",
   "execution_count": 187,
   "metadata": {},
   "outputs": [
    {
     "data": {
      "text/latex": [
       "$\\displaystyle \\rho f_{2} + \\left(i \\gamma + \\sqrt{- \\gamma^{2} + \\rho^{2}}\\right) e^{- i \\phi} f_{1}$"
      ],
      "text/plain": [
       "\\rho*f_2 + (I*\\gamma + sqrt(-\\gamma**2 + \\rho**2))*exp(-I*\\phi)*f_1"
      ]
     },
     "execution_count": 187,
     "metadata": {},
     "output_type": "execute_result"
    }
   ],
   "source": [
    "cp"
   ]
  },
  {
   "cell_type": "code",
   "execution_count": 188,
   "metadata": {},
   "outputs": [
    {
     "data": {
      "text/latex": [
       "$\\displaystyle \\rho f_{2}^{\\dagger} + \\left(- i \\gamma + \\overline{\\sqrt{- \\gamma^{2} + \\rho^{2}}}\\right) e^{i \\phi} f_{1}^{\\dagger}$"
      ],
      "text/plain": [
       "\\rho*Dagger(f_2) + (-I*\\gamma + conjugate(sqrt(-\\gamma**2 + \\rho**2)))*exp(I*\\phi)*Dagger(f_1)"
      ]
     },
     "execution_count": 188,
     "metadata": {},
     "output_type": "execute_result"
    }
   ],
   "source": [
    "cp_d"
   ]
  },
  {
   "cell_type": "code",
   "execution_count": 189,
   "metadata": {},
   "outputs": [
    {
     "data": {
      "text/latex": [
       "$\\displaystyle \\rho f_{2} + \\left(i \\gamma - \\sqrt{- \\gamma^{2} + \\rho^{2}}\\right) e^{- i \\phi} f_{1}$"
      ],
      "text/plain": [
       "\\rho*f_2 + (I*\\gamma - sqrt(-\\gamma**2 + \\rho**2))*exp(-I*\\phi)*f_1"
      ]
     },
     "execution_count": 189,
     "metadata": {},
     "output_type": "execute_result"
    }
   ],
   "source": [
    "cm"
   ]
  },
  {
   "cell_type": "code",
   "execution_count": 190,
   "metadata": {},
   "outputs": [
    {
     "data": {
      "text/latex": [
       "$\\displaystyle \\rho f_{2}^{\\dagger} + \\left(- i \\gamma - \\overline{\\sqrt{- \\gamma^{2} + \\rho^{2}}}\\right) e^{i \\phi} f_{1}^{\\dagger}$"
      ],
      "text/plain": [
       "\\rho*Dagger(f_2) + (-I*\\gamma - conjugate(sqrt(-\\gamma**2 + \\rho**2)))*exp(I*\\phi)*Dagger(f_1)"
      ]
     },
     "execution_count": 190,
     "metadata": {},
     "output_type": "execute_result"
    }
   ],
   "source": [
    "cm_d"
   ]
  },
  {
   "cell_type": "code",
   "execution_count": 191,
   "metadata": {},
   "outputs": [],
   "source": [
    "lp=sqrt(rho**2-gamma**2)\n",
    "lm=-sqrt(rho**2-gamma**2)"
   ]
  },
  {
   "cell_type": "code",
   "execution_count": 194,
   "metadata": {},
   "outputs": [
    {
     "data": {
      "text/latex": [
       "$\\displaystyle \\gamma^{2} f_{1}^{\\dagger} f_{1} - i \\gamma \\rho e^{i \\phi} f_{1}^{\\dagger} f_{2} + i \\gamma \\rho e^{- i \\phi} f_{2}^{\\dagger} f_{1} - i \\gamma \\sqrt{- \\gamma^{2} + \\rho^{2}} f_{1}^{\\dagger} f_{1} + i \\gamma \\overline{\\sqrt{- \\gamma^{2} + \\rho^{2}}} f_{1}^{\\dagger} f_{1} + \\rho^{2} f_{2}^{\\dagger} f_{2} + \\rho \\sqrt{- \\gamma^{2} + \\rho^{2}} e^{- i \\phi} f_{2}^{\\dagger} f_{1} + \\rho e^{i \\phi} \\overline{\\sqrt{- \\gamma^{2} + \\rho^{2}}} f_{1}^{\\dagger} f_{2} + \\sqrt{- \\gamma^{2} + \\rho^{2}} \\overline{\\sqrt{- \\gamma^{2} + \\rho^{2}}} f_{1}^{\\dagger} f_{1}$"
      ],
      "text/plain": [
       "\\gamma**2*Dagger(f_1)*f_1 - I*\\gamma*\\rho*exp(I*\\phi)*Dagger(f_1)*f_2 + I*\\gamma*\\rho*exp(-I*\\phi)*Dagger(f_2)*f_1 - I*\\gamma*sqrt(-\\gamma**2 + \\rho**2)*Dagger(f_1)*f_1 + I*\\gamma*conjugate(sqrt(-\\gamma**2 + \\rho**2))*Dagger(f_1)*f_1 + \\rho**2*Dagger(f_2)*f_2 + \\rho*sqrt(-\\gamma**2 + \\rho**2)*exp(-I*\\phi)*Dagger(f_2)*f_1 + \\rho*exp(I*\\phi)*conjugate(sqrt(-\\gamma**2 + \\rho**2))*Dagger(f_1)*f_2 + sqrt(-\\gamma**2 + \\rho**2)*conjugate(sqrt(-\\gamma**2 + \\rho**2))*Dagger(f_1)*f_1"
      ]
     },
     "execution_count": 194,
     "metadata": {},
     "output_type": "execute_result"
    }
   ],
   "source": [
    "recursiveapply((cp_d*cp).expand(),normalorder2_f)"
   ]
  },
  {
   "cell_type": "code",
   "execution_count": 195,
   "metadata": {},
   "outputs": [
    {
     "data": {
      "text/latex": [
       "$\\displaystyle - 2 \\gamma^{2} \\rho \\sqrt{- \\gamma^{2} + \\rho^{2}} e^{i \\phi} f_{1}^{\\dagger} f_{2} + 2 i \\gamma \\rho^{2} \\sqrt{- \\gamma^{2} + \\rho^{2}} f_{1}^{\\dagger} f_{1} - 2 i \\gamma \\rho^{2} \\sqrt{- \\gamma^{2} + \\rho^{2}} f_{2}^{\\dagger} f_{2} + 2 i \\gamma \\rho^{2} \\overline{\\sqrt{- \\gamma^{2} + \\rho^{2}}} f_{1}^{\\dagger} f_{1} - 2 i \\gamma \\rho^{2} \\overline{\\sqrt{- \\gamma^{2} + \\rho^{2}}} f_{2}^{\\dagger} f_{2} - 2 \\rho^{3} \\sqrt{- \\gamma^{2} + \\rho^{2}} e^{- i \\phi} f_{2}^{\\dagger} f_{1} + 2 \\rho^{3} e^{i \\phi} \\overline{\\sqrt{- \\gamma^{2} + \\rho^{2}}} f_{1}^{\\dagger} f_{2} + 2 \\rho^{3} e^{- i \\phi} \\overline{\\sqrt{- \\gamma^{2} + \\rho^{2}}} f_{2}^{\\dagger} f_{1} - 2 \\rho \\sqrt{- \\gamma^{2} + \\rho^{2}} e^{i \\phi} \\overline{\\sqrt{- \\gamma^{2} + \\rho^{2}}}^{2} f_{1}^{\\dagger} f_{2}$"
      ],
      "text/plain": [
       "-2*\\gamma**2*\\rho*sqrt(-\\gamma**2 + \\rho**2)*exp(I*\\phi)*Dagger(f_1)*f_2 + 2*I*\\gamma*\\rho**2*sqrt(-\\gamma**2 + \\rho**2)*Dagger(f_1)*f_1 - 2*I*\\gamma*\\rho**2*sqrt(-\\gamma**2 + \\rho**2)*Dagger(f_2)*f_2 + 2*I*\\gamma*\\rho**2*conjugate(sqrt(-\\gamma**2 + \\rho**2))*Dagger(f_1)*f_1 - 2*I*\\gamma*\\rho**2*conjugate(sqrt(-\\gamma**2 + \\rho**2))*Dagger(f_2)*f_2 - 2*\\rho**3*sqrt(-\\gamma**2 + \\rho**2)*exp(-I*\\phi)*Dagger(f_2)*f_1 + 2*\\rho**3*exp(I*\\phi)*conjugate(sqrt(-\\gamma**2 + \\rho**2))*Dagger(f_1)*f_2 + 2*\\rho**3*exp(-I*\\phi)*conjugate(sqrt(-\\gamma**2 + \\rho**2))*Dagger(f_2)*f_1 - 2*\\rho*sqrt(-\\gamma**2 + \\rho**2)*exp(I*\\phi)*conjugate(sqrt(-\\gamma**2 + \\rho**2))**2*Dagger(f_1)*f_2"
      ]
     },
     "execution_count": 195,
     "metadata": {},
     "output_type": "execute_result"
    }
   ],
   "source": [
    "recursiveapply(commutator(cp_d*cp,cm_d*cm).expand(),normalorder2_f)"
   ]
  },
  {
   "cell_type": "code",
   "execution_count": 182,
   "metadata": {},
   "outputs": [
    {
     "data": {
      "text/latex": [
       "$\\displaystyle - \\frac{\\sqrt{- \\gamma^{2} + \\rho^{2}} \\left(\\rho f_{2}^{\\dagger} + \\left(- i \\gamma - \\overline{\\sqrt{- \\gamma^{2} + \\rho^{2}}}\\right) e^{i \\phi} f_{1}^{\\dagger}\\right) \\left(\\rho f_{2} + \\left(i \\gamma - \\sqrt{- \\gamma^{2} + \\rho^{2}}\\right) e^{- i \\phi} f_{1}\\right)}{\\gamma^{2} + 2 \\gamma \\sin{\\left(\\frac{\\operatorname{atan}_{2}{\\left(0,- \\gamma^{2} + \\rho^{2} \\right)}}{2} \\right)} \\sqrt{\\left|{\\gamma^{2} - \\rho^{2}}\\right|} + \\rho^{2} + \\left|{\\gamma^{2} - \\rho^{2}}\\right|} + \\frac{\\sqrt{- \\gamma^{2} + \\rho^{2}} \\left(\\rho f_{2}^{\\dagger} + \\left(- i \\gamma + \\overline{\\sqrt{- \\gamma^{2} + \\rho^{2}}}\\right) e^{i \\phi} f_{1}^{\\dagger}\\right) \\left(\\rho f_{2} + \\left(i \\gamma + \\sqrt{- \\gamma^{2} + \\rho^{2}}\\right) e^{- i \\phi} f_{1}\\right)}{\\gamma^{2} + 2 \\gamma \\sin{\\left(\\frac{\\operatorname{atan}_{2}{\\left(0,- \\gamma^{2} + \\rho^{2} \\right)}}{2} \\right)} \\sqrt{\\left|{\\gamma^{2} - \\rho^{2}}\\right|} + \\rho^{2} + \\left|{\\gamma^{2} - \\rho^{2}}\\right|}$"
      ],
      "text/plain": [
       "-sqrt(-\\gamma**2 + \\rho**2)*(\\rho*Dagger(f_2) + (-I*\\gamma - conjugate(sqrt(-\\gamma**2 + \\rho**2)))*exp(I*\\phi)*Dagger(f_1))*(\\rho*f_2 + (I*\\gamma - sqrt(-\\gamma**2 + \\rho**2))*exp(-I*\\phi)*f_1)/(\\gamma**2 + 2*\\gamma*sin(atan2(0, -\\gamma**2 + \\rho**2)/2)*sqrt(Abs(\\gamma**2 - \\rho**2)) + \\rho**2 + Abs(\\gamma**2 - \\rho**2)) + sqrt(-\\gamma**2 + \\rho**2)*(\\rho*Dagger(f_2) + (-I*\\gamma + conjugate(sqrt(-\\gamma**2 + \\rho**2)))*exp(I*\\phi)*Dagger(f_1))*(\\rho*f_2 + (I*\\gamma + sqrt(-\\gamma**2 + \\rho**2))*exp(-I*\\phi)*f_1)/(\\gamma**2 + 2*\\gamma*sin(atan2(0, -\\gamma**2 + \\rho**2)/2)*sqrt(Abs(\\gamma**2 - \\rho**2)) + \\rho**2 + Abs(\\gamma**2 - \\rho**2))"
      ]
     },
     "execution_count": 182,
     "metadata": {},
     "output_type": "execute_result"
    }
   ],
   "source": [
    "lp*cp_d*cp+lm*cm_d*cm"
   ]
  },
  {
   "cell_type": "code",
   "execution_count": 183,
   "metadata": {},
   "outputs": [
    {
     "data": {
      "text/latex": [
       "$\\displaystyle \\frac{2 i \\gamma^{3} f_{1}^{\\dagger} f_{1}}{\\gamma^{2} + 2 \\gamma \\sin{\\left(\\frac{\\operatorname{atan}_{2}{\\left(0,- \\gamma^{2} + \\rho^{2} \\right)}}{2} \\right)} \\sqrt{\\left|{\\gamma^{2} - \\rho^{2}}\\right|} + \\rho^{2} + \\left|{\\gamma^{2} - \\rho^{2}}\\right|} - \\frac{2 \\gamma^{2} \\rho f_{2}^{\\dagger} f_{1}}{\\gamma^{2} e^{i \\phi} + 2 \\gamma e^{i \\phi} \\sin{\\left(\\frac{\\operatorname{atan}_{2}{\\left(0,- \\gamma^{2} + \\rho^{2} \\right)}}{2} \\right)} \\sqrt{\\left|{\\gamma^{2} - \\rho^{2}}\\right|} + \\rho^{2} e^{i \\phi} + e^{i \\phi} \\left|{\\gamma^{2} - \\rho^{2}}\\right|} - \\frac{2 i \\gamma \\rho^{2} f_{1}^{\\dagger} f_{1}}{\\gamma^{2} + 2 \\gamma \\sin{\\left(\\frac{\\operatorname{atan}_{2}{\\left(0,- \\gamma^{2} + \\rho^{2} \\right)}}{2} \\right)} \\sqrt{\\left|{\\gamma^{2} - \\rho^{2}}\\right|} + \\rho^{2} + \\left|{\\gamma^{2} - \\rho^{2}}\\right|} + \\frac{2 i \\gamma \\sqrt{- \\gamma^{2} + \\rho^{2}} \\overline{\\sqrt{- \\gamma^{2} + \\rho^{2}}} f_{1}^{\\dagger} f_{1}}{\\gamma^{2} + 2 \\gamma \\sin{\\left(\\frac{\\operatorname{atan}_{2}{\\left(0,- \\gamma^{2} + \\rho^{2} \\right)}}{2} \\right)} \\sqrt{\\left|{\\gamma^{2} - \\rho^{2}}\\right|} + \\rho^{2} + \\left|{\\gamma^{2} - \\rho^{2}}\\right|} + \\frac{2 \\rho^{3} f_{2}^{\\dagger} f_{1}}{\\gamma^{2} e^{i \\phi} + 2 \\gamma e^{i \\phi} \\sin{\\left(\\frac{\\operatorname{atan}_{2}{\\left(0,- \\gamma^{2} + \\rho^{2} \\right)}}{2} \\right)} \\sqrt{\\left|{\\gamma^{2} - \\rho^{2}}\\right|} + \\rho^{2} e^{i \\phi} + e^{i \\phi} \\left|{\\gamma^{2} - \\rho^{2}}\\right|} + \\frac{2 \\rho \\sqrt{- \\gamma^{2} + \\rho^{2}} e^{i \\phi} \\overline{\\sqrt{- \\gamma^{2} + \\rho^{2}}} f_{1}^{\\dagger} f_{2}}{\\gamma^{2} + 2 \\gamma \\sin{\\left(\\frac{\\operatorname{atan}_{2}{\\left(0,- \\gamma^{2} + \\rho^{2} \\right)}}{2} \\right)} \\sqrt{\\left|{\\gamma^{2} - \\rho^{2}}\\right|} + \\rho^{2} + \\left|{\\gamma^{2} - \\rho^{2}}\\right|}$"
      ],
      "text/plain": [
       "2*I*\\gamma**3*Dagger(f_1)*f_1/(\\gamma**2 + 2*\\gamma*sin(atan2(0, -\\gamma**2 + \\rho**2)/2)*sqrt(Abs(\\gamma**2 - \\rho**2)) + \\rho**2 + Abs(\\gamma**2 - \\rho**2)) - 2*\\gamma**2*\\rho*Dagger(f_2)*f_1/(\\gamma**2*exp(I*\\phi) + 2*\\gamma*exp(I*\\phi)*sin(atan2(0, -\\gamma**2 + \\rho**2)/2)*sqrt(Abs(\\gamma**2 - \\rho**2)) + \\rho**2*exp(I*\\phi) + exp(I*\\phi)*Abs(\\gamma**2 - \\rho**2)) - 2*I*\\gamma*\\rho**2*Dagger(f_1)*f_1/(\\gamma**2 + 2*\\gamma*sin(atan2(0, -\\gamma**2 + \\rho**2)/2)*sqrt(Abs(\\gamma**2 - \\rho**2)) + \\rho**2 + Abs(\\gamma**2 - \\rho**2)) + 2*I*\\gamma*sqrt(-\\gamma**2 + \\rho**2)*conjugate(sqrt(-\\gamma**2 + \\rho**2))*Dagger(f_1)*f_1/(\\gamma**2 + 2*\\gamma*sin(atan2(0, -\\gamma**2 + \\rho**2)/2)*sqrt(Abs(\\gamma**2 - \\rho**2)) + \\rho**2 + Abs(\\gamma**2 - \\rho**2)) + 2*\\rho**3*Dagger(f_2)*f_1/(\\gamma**2*exp(I*\\phi) + 2*\\gamma*exp(I*\\phi)*sin(atan2(0, -\\gamma**2 + \\rho**2)/2)*sqrt(Abs(\\gamma**2 - \\rho**2)) + \\rho**2*exp(I*\\phi) + exp(I*\\phi)*Abs(\\gamma**2 - \\rho**2)) + 2*\\rho*sqrt(-\\gamma**2 + \\rho**2)*exp(I*\\phi)*conjugate(sqrt(-\\gamma**2 + \\rho**2))*Dagger(f_1)*f_2/(\\gamma**2 + 2*\\gamma*sin(atan2(0, -\\gamma**2 + \\rho**2)/2)*sqrt(Abs(\\gamma**2 - \\rho**2)) + \\rho**2 + Abs(\\gamma**2 - \\rho**2))"
      ]
     },
     "execution_count": 183,
     "metadata": {},
     "output_type": "execute_result"
    }
   ],
   "source": [
    "recursiveapply((lp*cp_d*cp+lm*cm_d*cm).expand(),normalorder2_f)"
   ]
  },
  {
   "cell_type": "code",
   "execution_count": 84,
   "metadata": {},
   "outputs": [],
   "source": [
    "basis=Matrix([(fd[1]*f[1]),(fd[1]*f[2]),(fd[2]*f[1]),(fd[2]*f[2]),(fd[1]*fd[2]*f[1]*f[2])])"
   ]
  },
  {
   "cell_type": "code",
   "execution_count": 85,
   "metadata": {},
   "outputs": [
    {
     "data": {
      "text/latex": [
       "$\\displaystyle \\left[\\begin{matrix}f_{1}^{\\dagger} f_{1}\\\\f_{1}^{\\dagger} f_{2}\\\\f_{2}^{\\dagger} f_{1}\\\\f_{2}^{\\dagger} f_{2}\\\\f_{1}^{\\dagger} f_{2}^{\\dagger} f_{1} f_{2}\\end{matrix}\\right]$"
      ],
      "text/plain": [
       "Matrix([\n",
       "[                Dagger(f_1)*f_1],\n",
       "[                Dagger(f_1)*f_2],\n",
       "[                Dagger(f_2)*f_1],\n",
       "[                Dagger(f_2)*f_2],\n",
       "[Dagger(f_1)*Dagger(f_2)*f_1*f_2]])"
      ]
     },
     "execution_count": 85,
     "metadata": {},
     "output_type": "execute_result"
    }
   ],
   "source": [
    "basis"
   ]
  },
  {
   "cell_type": "code",
   "execution_count": 106,
   "metadata": {},
   "outputs": [],
   "source": [
    "phi=Symbol(r'\\phi',real=True)"
   ]
  },
  {
   "cell_type": "code",
   "execution_count": 110,
   "metadata": {},
   "outputs": [],
   "source": [
    "fp_d=1/sqrt(2)*(fd[1]+exp(-I*phi)*fd[2])\n",
    "fp=1/sqrt(2)*(f[1]+exp(I*phi)*f[2])\n",
    "fm_d=1/sqrt(2)*(fd[1]-exp(-I*phi)*fd[2])\n",
    "fm=1/sqrt(2)*(f[1]-exp(I*phi)*f[2])"
   ]
  },
  {
   "cell_type": "code",
   "execution_count": 118,
   "metadata": {},
   "outputs": [
    {
     "data": {
      "text/latex": [
       "$\\displaystyle f_{1}^{\\dagger} f_{1} + f_{2}^{\\dagger} f_{2}$"
      ],
      "text/plain": [
       "Dagger(f_1)*f_1 + Dagger(f_2)*f_2"
      ]
     },
     "execution_count": 118,
     "metadata": {},
     "output_type": "execute_result"
    }
   ],
   "source": [
    "(fp_d*fp+fm_d*fm).expand()"
   ]
  },
  {
   "cell_type": "code",
   "execution_count": 114,
   "metadata": {},
   "outputs": [
    {
     "data": {
      "text/latex": [
       "$\\displaystyle 0$"
      ],
      "text/plain": [
       "0"
      ]
     },
     "execution_count": 114,
     "metadata": {},
     "output_type": "execute_result"
    }
   ],
   "source": [
    "recursiveapply(commutator(fp_d*fp,fm_d*fm).expand(),normalorder2_f)"
   ]
  },
  {
   "cell_type": "code",
   "execution_count": 117,
   "metadata": {},
   "outputs": [
    {
     "data": {
      "text/latex": [
       "$\\displaystyle 0$"
      ],
      "text/plain": [
       "0"
      ]
     },
     "execution_count": 117,
     "metadata": {},
     "output_type": "execute_result"
    }
   ],
   "source": [
    "recursiveapply(((fp_d*fp)**2-(fp_d*fp)).expand(),normalorder2_f)"
   ]
  },
  {
   "cell_type": "code",
   "execution_count": null,
   "metadata": {},
   "outputs": [],
   "source": []
  },
  {
   "cell_type": "code",
   "execution_count": 48,
   "metadata": {},
   "outputs": [],
   "source": [
    "def group_noncommutative(expr, op):\n",
    "    # Ensure the expression is expanded so we can iterate through terms\n",
    "    expr = expr.expand()\n",
    "    \n",
    "    # Separate the terms involving the operator `op`\n",
    "    op_terms = [term for term in expr.args if op in term.free_symbols]\n",
    "    \n",
    "    # Separate the terms not involving the operator `op`\n",
    "    other_terms = [term for term in expr.args if op not in term.free_symbols]\n",
    "    \n",
    "    # Sum the coefficients of the terms involving `op`\n",
    "    op_coeff = sum(term.coeff(op) for term in op_terms)\n",
    "    \n",
    "    # Reconstruct the grouped expression\n",
    "    grouped_expr = op_coeff*op + Add(*other_terms)\n",
    "    \n",
    "    return grouped_expr"
   ]
  },
  {
   "cell_type": "code",
   "execution_count": 54,
   "metadata": {},
   "outputs": [
    {
     "data": {
      "text/latex": [
       "$\\displaystyle \\left(\\alpha + \\beta\\right) f_{1}$"
      ],
      "text/plain": [
       "(\\alpha + \\beta)*f_1"
      ]
     },
     "execution_count": 54,
     "metadata": {},
     "output_type": "execute_result"
    }
   ],
   "source": [
    "group_noncommutative(alpha*f[1]+beta*f[1]+ gamma*Dagger(f[1]), f[1])"
   ]
  },
  {
   "cell_type": "code",
   "execution_count": 24,
   "metadata": {},
   "outputs": [
    {
     "data": {
      "text/latex": [
       "$\\displaystyle 0$"
      ],
      "text/plain": [
       "0"
      ]
     },
     "execution_count": 24,
     "metadata": {},
     "output_type": "execute_result"
    }
   ],
   "source": [
    "recursiveapply(commutator(x,y).expand()-2*I*z,normalorder2_f)"
   ]
  },
  {
   "cell_type": "code",
   "execution_count": 25,
   "metadata": {},
   "outputs": [
    {
     "data": {
      "text/latex": [
       "$\\displaystyle 0$"
      ],
      "text/plain": [
       "0"
      ]
     },
     "execution_count": 25,
     "metadata": {},
     "output_type": "execute_result"
    }
   ],
   "source": [
    "recursiveapply(commutator(y,z).expand()-2*I*x,normalorder2_f)"
   ]
  },
  {
   "cell_type": "code",
   "execution_count": 27,
   "metadata": {},
   "outputs": [
    {
     "data": {
      "text/latex": [
       "$\\displaystyle 0$"
      ],
      "text/plain": [
       "0"
      ]
     },
     "execution_count": 27,
     "metadata": {},
     "output_type": "execute_result"
    }
   ],
   "source": [
    "recursiveapply(commutator(z,x).expand()-2*I*y,normalorder2_f)"
   ]
  },
  {
   "cell_type": "code",
   "execution_count": 22,
   "metadata": {},
   "outputs": [
    {
     "data": {
      "text/latex": [
       "$\\displaystyle f_{1}^{\\dagger} f_{1} - f_{2}^{\\dagger} f_{2}$"
      ],
      "text/plain": [
       "Dagger(f_1)*f_1 - Dagger(f_2)*f_2"
      ]
     },
     "execution_count": 22,
     "metadata": {},
     "output_type": "execute_result"
    }
   ],
   "source": [
    "z"
   ]
  },
  {
   "cell_type": "code",
   "execution_count": 75,
   "metadata": {},
   "outputs": [],
   "source": [
    "xy=recursiveapply(commutator(x+y+z,x+y-z).expand(),normalorder2_f)"
   ]
  },
  {
   "cell_type": "code",
   "execution_count": 77,
   "metadata": {},
   "outputs": [
    {
     "data": {
      "text/latex": [
       "$\\displaystyle 4 i \\alpha \\gamma f_{1}^{\\dagger} f_{2} - 4 i \\alpha \\gamma f_{2}^{\\dagger} f_{1} - 4 \\beta \\gamma f_{1}^{\\dagger} f_{2} - 4 \\beta \\gamma f_{2}^{\\dagger} f_{1}$"
      ],
      "text/plain": [
       "4*I*\\alpha*\\gamma*Dagger(f_1)*f_2 - 4*I*\\alpha*\\gamma*Dagger(f_2)*f_1 - 4*\\beta*\\gamma*Dagger(f_1)*f_2 - 4*\\beta*\\gamma*Dagger(f_2)*f_1"
      ]
     },
     "execution_count": 77,
     "metadata": {},
     "output_type": "execute_result"
    }
   ],
   "source": [
    "xy"
   ]
  },
  {
   "cell_type": "code",
   "execution_count": 79,
   "metadata": {},
   "outputs": [
    {
     "data": {
      "text/latex": [
       "$\\displaystyle \\alpha \\left(f_{1}^{\\dagger} f_{2} + f_{2}^{\\dagger} f_{1}\\right) + \\beta \\left(i f_{1}^{\\dagger} f_{2} - i f_{2}^{\\dagger} f_{1}\\right) + 2 \\gamma \\left(i \\alpha f_{1}^{\\dagger} f_{2} - i \\alpha f_{2}^{\\dagger} f_{1} - \\beta f_{1}^{\\dagger} f_{2} - \\beta f_{2}^{\\dagger} f_{1}\\right)$"
      ],
      "text/plain": [
       "\\alpha*(Dagger(f_1)*f_2 + Dagger(f_2)*f_1) + \\beta*(I*Dagger(f_1)*f_2 - I*Dagger(f_2)*f_1) + 2*\\gamma*(I*\\alpha*Dagger(f_1)*f_2 - I*\\alpha*Dagger(f_2)*f_1 - \\beta*Dagger(f_1)*f_2 - \\beta*Dagger(f_2)*f_1)"
      ]
     },
     "execution_count": 79,
     "metadata": {},
     "output_type": "execute_result"
    }
   ],
   "source": [
    "(x+y + (xy/2).simplify())"
   ]
  },
  {
   "cell_type": "code",
   "execution_count": 80,
   "metadata": {},
   "outputs": [],
   "source": [
    "xy3=recursiveapply(commutator(x-y,xy).expand(),normalorder2_f)"
   ]
  },
  {
   "cell_type": "code",
   "execution_count": 81,
   "metadata": {},
   "outputs": [
    {
     "data": {
      "text/latex": [
       "$\\displaystyle - 8 i \\alpha^{2} \\gamma f_{1}^{\\dagger} f_{1} + 8 i \\alpha^{2} \\gamma f_{2}^{\\dagger} f_{2} + 8 i \\beta^{2} \\gamma f_{1}^{\\dagger} f_{1} - 8 i \\beta^{2} \\gamma f_{2}^{\\dagger} f_{2}$"
      ],
      "text/plain": [
       "-8*I*\\alpha**2*\\gamma*Dagger(f_1)*f_1 + 8*I*\\alpha**2*\\gamma*Dagger(f_2)*f_2 + 8*I*\\beta**2*\\gamma*Dagger(f_1)*f_1 - 8*I*\\beta**2*\\gamma*Dagger(f_2)*f_2"
      ]
     },
     "execution_count": 81,
     "metadata": {},
     "output_type": "execute_result"
    }
   ],
   "source": [
    "xy3"
   ]
  },
  {
   "cell_type": "code",
   "execution_count": 62,
   "metadata": {},
   "outputs": [
    {
     "data": {
      "text/latex": [
       "$\\displaystyle \\alpha \\left(f_{1}^{\\dagger} f_{2} + f_{2}^{\\dagger} f_{1}\\right) + \\beta \\left(i f_{1}^{\\dagger} f_{2} - i f_{2}^{\\dagger} f_{1}\\right)$"
      ],
      "text/plain": [
       "\\alpha*(Dagger(f_1)*f_2 + Dagger(f_2)*f_1) + \\beta*(I*Dagger(f_1)*f_2 - I*Dagger(f_2)*f_1)"
      ]
     },
     "execution_count": 62,
     "metadata": {},
     "output_type": "execute_result"
    }
   ],
   "source": [
    "x+y"
   ]
  },
  {
   "cell_type": "code",
   "execution_count": 63,
   "metadata": {},
   "outputs": [
    {
     "data": {
      "text/latex": [
       "$\\displaystyle 4 \\alpha \\gamma f_{1}^{\\dagger} f_{2} - 4 \\alpha \\gamma f_{2}^{\\dagger} f_{1} + 4 i \\beta \\gamma f_{1}^{\\dagger} f_{2} + 4 i \\beta \\gamma f_{2}^{\\dagger} f_{1}$"
      ],
      "text/plain": [
       "4*\\alpha*\\gamma*Dagger(f_1)*f_2 - 4*\\alpha*\\gamma*Dagger(f_2)*f_1 + 4*I*\\beta*\\gamma*Dagger(f_1)*f_2 + 4*I*\\beta*\\gamma*Dagger(f_2)*f_1"
      ]
     },
     "execution_count": 63,
     "metadata": {},
     "output_type": "execute_result"
    }
   ],
   "source": [
    "xy"
   ]
  },
  {
   "cell_type": "code",
   "execution_count": null,
   "metadata": {},
   "outputs": [],
   "source": [
    "x.subs()"
   ]
  },
  {
   "cell_type": "code",
   "execution_count": 71,
   "metadata": {},
   "outputs": [
    {
     "data": {
      "text/latex": [
       "$\\displaystyle - 2 i \\alpha \\beta f_{1}^{\\dagger} f_{1} + 2 i \\alpha \\beta f_{2}^{\\dagger} f_{2}$"
      ],
      "text/plain": [
       "-2*I*\\alpha*\\beta*Dagger(f_1)*f_1 + 2*I*\\alpha*\\beta*Dagger(f_2)*f_2"
      ]
     },
     "execution_count": 71,
     "metadata": {},
     "output_type": "execute_result"
    }
   ],
   "source": [
    "recursiveapply(commutator(x,y).expand(),normalorder2_f)"
   ]
  },
  {
   "cell_type": "code",
   "execution_count": 73,
   "metadata": {},
   "outputs": [
    {
     "data": {
      "text/latex": [
       "$\\displaystyle \\gamma \\left(f_{1}^{\\dagger} f_{1} - f_{2}^{\\dagger} f_{2}\\right)$"
      ],
      "text/plain": [
       "\\gamma*(Dagger(f_1)*f_1 - Dagger(f_2)*f_2)"
      ]
     },
     "execution_count": 73,
     "metadata": {},
     "output_type": "execute_result"
    }
   ],
   "source": [
    "z"
   ]
  },
  {
   "cell_type": "code",
   "execution_count": null,
   "metadata": {},
   "outputs": [],
   "source": [
    "recursiveapply(commutator(fd[1]*f[1]-fd[2]*f[2],fd[1]*f[1]+fd[2]*f[2]).expand().subs(normalorder2_f),normalorder2_f)"
   ]
  },
  {
   "cell_type": "code",
   "execution_count": 10,
   "metadata": {},
   "outputs": [
    {
     "data": {
      "text/latex": [
       "$\\displaystyle 2 f_{1}^{\\dagger} g_{1}^{\\dagger} f_{1} g_{1} + f_{1}^{\\dagger} f_{1} + f_{1}^{\\dagger} g_{1} + g_{1}^{\\dagger} f_{1} + g_{1}^{\\dagger} g_{1}$"
      ],
      "text/plain": [
       "2*Dagger(f_1)*Dagger(g_1)*f_1*g_1 + Dagger(f_1)*f_1 + Dagger(f_1)*g_1 + Dagger(g_1)*f_1 + Dagger(g_1)*g_1"
      ]
     },
     "execution_count": 10,
     "metadata": {},
     "output_type": "execute_result"
    }
   ],
   "source": [
    "recursiveapply(((fd[1]+gd[1])*f[1]*fd[1]*g[1]*gd[1]*(f[1]+g[1])).expand(),normalorder2_f)"
   ]
  },
  {
   "cell_type": "code",
   "execution_count": 11,
   "metadata": {},
   "outputs": [
    {
     "data": {
      "text/latex": [
       "$\\displaystyle 2 f_{1}^{\\dagger} g_{1}^{\\dagger} f_{1} g_{1} + f_{1}^{\\dagger} f_{1} - f_{1}^{\\dagger} g_{1} - g_{1}^{\\dagger} f_{1} + g_{1}^{\\dagger} g_{1}$"
      ],
      "text/plain": [
       "2*Dagger(f_1)*Dagger(g_1)*f_1*g_1 + Dagger(f_1)*f_1 - Dagger(f_1)*g_1 - Dagger(g_1)*f_1 + Dagger(g_1)*g_1"
      ]
     },
     "execution_count": 11,
     "metadata": {},
     "output_type": "execute_result"
    }
   ],
   "source": [
    "recursiveapply(((fd[1]-gd[1])*f[1]*fd[1]*g[1]*gd[1]*(f[1]-g[1])).expand(),normalorder2_f)"
   ]
  },
  {
   "cell_type": "code",
   "execution_count": 56,
   "metadata": {},
   "outputs": [
    {
     "data": {
      "text/latex": [
       "$\\displaystyle 1 + f_{1}^{\\dagger} g_{1}^{\\dagger} - 2 f_{1}^{\\dagger} g_{1}^{\\dagger} f_{1} g_{1} - f_{1}^{\\dagger} f_{1} - g_{1}^{\\dagger} g_{1} - f_{1} g_{1}$"
      ],
      "text/plain": [
       "1 + Dagger(f_1)*Dagger(g_1) - 2*Dagger(f_1)*Dagger(g_1)*f_1*g_1 - Dagger(f_1)*f_1 - Dagger(g_1)*g_1 - f_1*g_1"
      ]
     },
     "execution_count": 56,
     "metadata": {},
     "output_type": "execute_result"
    }
   ],
   "source": [
    "recursiveapply(((1+fd[1]*gd[1])*f[1]*fd[1]*g[1]*gd[1]*(1+g[1]*f[1])).expand(),normalorder2_f)"
   ]
  },
  {
   "cell_type": "code",
   "execution_count": 90,
   "metadata": {},
   "outputs": [
    {
     "data": {
      "text/latex": [
       "$\\displaystyle 1 - f_{1}^{\\dagger} g_{1}^{\\dagger} - 2 f_{1}^{\\dagger} g_{1}^{\\dagger} f_{1} g_{1} - f_{1}^{\\dagger} f_{1} - g_{1}^{\\dagger} g_{1} + f_{1} g_{1}$"
      ],
      "text/plain": [
       "1 - Dagger(f_1)*Dagger(g_1) - 2*Dagger(f_1)*Dagger(g_1)*f_1*g_1 - Dagger(f_1)*f_1 - Dagger(g_1)*g_1 + f_1*g_1"
      ]
     },
     "execution_count": 90,
     "metadata": {},
     "output_type": "execute_result"
    }
   ],
   "source": [
    "recursiveapply(((1-fd[1]*gd[1])*f[1]*fd[1]*g[1]*gd[1]*(1-g[1]*f[1])).expand(),normalorder2_f)"
   ]
  },
  {
   "cell_type": "code",
   "execution_count": 58,
   "metadata": {},
   "outputs": [
    {
     "data": {
      "text/latex": [
       "$\\displaystyle f_{1}^{\\dagger} g_{1} + g_{1}^{\\dagger} f_{1}$"
      ],
      "text/plain": [
       "Dagger(f_1)*g_1 + Dagger(g_1)*f_1"
      ]
     },
     "execution_count": 58,
     "metadata": {},
     "output_type": "execute_result"
    }
   ],
   "source": [
    "recursiveapply((gd[1]*f[1]+fd[1]*g[1]).expand(),normalorder2_f)"
   ]
  },
  {
   "cell_type": "code",
   "execution_count": 61,
   "metadata": {},
   "outputs": [
    {
     "data": {
      "text/latex": [
       "$\\displaystyle 2 f_{1}^{\\dagger} g_{1}^{\\dagger} f_{1} g_{1} + f_{1}^{\\dagger} f_{1} + g_{1}^{\\dagger} g_{1}$"
      ],
      "text/plain": [
       "2*Dagger(f_1)*Dagger(g_1)*f_1*g_1 + Dagger(f_1)*f_1 + Dagger(g_1)*g_1"
      ]
     },
     "execution_count": 61,
     "metadata": {},
     "output_type": "execute_result"
    }
   ],
   "source": [
    "recursiveapply(((gd[1]*f[1]+fd[1]*g[1])**2).expand(),normalorder2_f)"
   ]
  },
  {
   "cell_type": "code",
   "execution_count": 62,
   "metadata": {},
   "outputs": [
    {
     "data": {
      "text/latex": [
       "$\\displaystyle f_{1}^{\\dagger} g_{1} + g_{1}^{\\dagger} f_{1}$"
      ],
      "text/plain": [
       "Dagger(f_1)*g_1 + Dagger(g_1)*f_1"
      ]
     },
     "execution_count": 62,
     "metadata": {},
     "output_type": "execute_result"
    }
   ],
   "source": [
    "recursiveapply(((gd[1]*f[1]+fd[1]*g[1])**3).expand(),normalorder2_f)"
   ]
  },
  {
   "cell_type": "code",
   "execution_count": 63,
   "metadata": {},
   "outputs": [
    {
     "data": {
      "text/latex": [
       "$\\displaystyle 2 f_{1}^{\\dagger} g_{1}^{\\dagger} f_{1} g_{1} + f_{1}^{\\dagger} f_{1} + g_{1}^{\\dagger} g_{1}$"
      ],
      "text/plain": [
       "2*Dagger(f_1)*Dagger(g_1)*f_1*g_1 + Dagger(f_1)*f_1 + Dagger(g_1)*g_1"
      ]
     },
     "execution_count": 63,
     "metadata": {},
     "output_type": "execute_result"
    }
   ],
   "source": [
    "recursiveapply(((gd[1]*f[1]+fd[1]*g[1])**4).expand(),normalorder2_f)"
   ]
  },
  {
   "cell_type": "code",
   "execution_count": 59,
   "metadata": {},
   "outputs": [
    {
     "data": {
      "text/latex": [
       "$\\displaystyle f_{1}^{\\dagger} g_{1} f_{1}^{\\dagger} g_{1} + f_{1}^{\\dagger} g_{1} g_{1}^{\\dagger} f_{1} + g_{1}^{\\dagger} f_{1} f_{1}^{\\dagger} g_{1} + g_{1}^{\\dagger} f_{1} g_{1}^{\\dagger} f_{1}$"
      ],
      "text/plain": [
       "Dagger(f_1)*g_1*Dagger(f_1)*g_1 + Dagger(f_1)*g_1*Dagger(g_1)*f_1 + Dagger(g_1)*f_1*Dagger(f_1)*g_1 + Dagger(g_1)*f_1*Dagger(g_1)*f_1"
      ]
     },
     "execution_count": 59,
     "metadata": {},
     "output_type": "execute_result"
    }
   ],
   "source": [
    "((gd[1]*f[1]+fd[1]*g[1])**2).expand()"
   ]
  },
  {
   "cell_type": "code",
   "execution_count": 60,
   "metadata": {},
   "outputs": [
    {
     "data": {
      "text/latex": [
       "$\\displaystyle f_{1}^{\\dagger} g_{1} f_{1}^{\\dagger} g_{1} f_{1}^{\\dagger} g_{1} + f_{1}^{\\dagger} g_{1} f_{1}^{\\dagger} g_{1} g_{1}^{\\dagger} f_{1} + f_{1}^{\\dagger} g_{1} g_{1}^{\\dagger} f_{1} f_{1}^{\\dagger} g_{1} + f_{1}^{\\dagger} g_{1} g_{1}^{\\dagger} f_{1} g_{1}^{\\dagger} f_{1} + g_{1}^{\\dagger} f_{1} f_{1}^{\\dagger} g_{1} f_{1}^{\\dagger} g_{1} + g_{1}^{\\dagger} f_{1} f_{1}^{\\dagger} g_{1} g_{1}^{\\dagger} f_{1} + g_{1}^{\\dagger} f_{1} g_{1}^{\\dagger} f_{1} f_{1}^{\\dagger} g_{1} + g_{1}^{\\dagger} f_{1} g_{1}^{\\dagger} f_{1} g_{1}^{\\dagger} f_{1}$"
      ],
      "text/plain": [
       "Dagger(f_1)*g_1*Dagger(f_1)*g_1*Dagger(f_1)*g_1 + Dagger(f_1)*g_1*Dagger(f_1)*g_1*Dagger(g_1)*f_1 + Dagger(f_1)*g_1*Dagger(g_1)*f_1*Dagger(f_1)*g_1 + Dagger(f_1)*g_1*Dagger(g_1)*f_1*Dagger(g_1)*f_1 + Dagger(g_1)*f_1*Dagger(f_1)*g_1*Dagger(f_1)*g_1 + Dagger(g_1)*f_1*Dagger(f_1)*g_1*Dagger(g_1)*f_1 + Dagger(g_1)*f_1*Dagger(g_1)*f_1*Dagger(f_1)*g_1 + Dagger(g_1)*f_1*Dagger(g_1)*f_1*Dagger(g_1)*f_1"
      ]
     },
     "execution_count": 60,
     "metadata": {},
     "output_type": "execute_result"
    }
   ],
   "source": [
    "((gd[1]*f[1]+fd[1]*g[1])**3).expand()"
   ]
  },
  {
   "cell_type": "code",
   "execution_count": 65,
   "metadata": {},
   "outputs": [
    {
     "data": {
      "text/latex": [
       "$\\displaystyle 2 i f_{1}^{\\dagger} f_{1} - 2 i g_{1}^{\\dagger} g_{1}$"
      ],
      "text/plain": [
       "2*I*Dagger(f_1)*f_1 - 2*I*Dagger(g_1)*g_1"
      ]
     },
     "execution_count": 65,
     "metadata": {},
     "output_type": "execute_result"
    }
   ],
   "source": [
    "recursiveapply(((-I*gd[1]*f[1]+I*fd[1]*g[1])*(gd[1]*f[1]+fd[1]*g[1])- (gd[1]*f[1]+fd[1]*g[1])*(-I*gd[1]*f[1]+I*fd[1]*g[1])).expand(),normalorder2_f)"
   ]
  },
  {
   "cell_type": "code",
   "execution_count": 66,
   "metadata": {},
   "outputs": [
    {
     "data": {
      "text/latex": [
       "$\\displaystyle i f_{1}^{\\dagger} g_{1} - i g_{1}^{\\dagger} f_{1}$"
      ],
      "text/plain": [
       "I*Dagger(f_1)*g_1 - I*Dagger(g_1)*f_1"
      ]
     },
     "execution_count": 66,
     "metadata": {},
     "output_type": "execute_result"
    }
   ],
   "source": [
    "recursiveapply((-I*gd[1]*f[1]+I*fd[1]*g[1]).expand(),normalorder2_f)"
   ]
  },
  {
   "cell_type": "code",
   "execution_count": 67,
   "metadata": {},
   "outputs": [
    {
     "data": {
      "text/latex": [
       "$\\displaystyle 2 f_{1}^{\\dagger} g_{1}^{\\dagger} f_{1} g_{1} + f_{1}^{\\dagger} f_{1} + g_{1}^{\\dagger} g_{1}$"
      ],
      "text/plain": [
       "2*Dagger(f_1)*Dagger(g_1)*f_1*g_1 + Dagger(f_1)*f_1 + Dagger(g_1)*g_1"
      ]
     },
     "execution_count": 67,
     "metadata": {},
     "output_type": "execute_result"
    }
   ],
   "source": [
    "recursiveapply(((-I*gd[1]*f[1]+I*fd[1]*g[1])**2).expand(),normalorder2_f)"
   ]
  },
  {
   "cell_type": "code",
   "execution_count": 68,
   "metadata": {},
   "outputs": [
    {
     "data": {
      "text/latex": [
       "$\\displaystyle i f_{1}^{\\dagger} g_{1} - i g_{1}^{\\dagger} f_{1}$"
      ],
      "text/plain": [
       "I*Dagger(f_1)*g_1 - I*Dagger(g_1)*f_1"
      ]
     },
     "execution_count": 68,
     "metadata": {},
     "output_type": "execute_result"
    }
   ],
   "source": [
    "recursiveapply(((-I*gd[1]*f[1]+I*fd[1]*g[1])**3).expand(),normalorder2_f)"
   ]
  },
  {
   "cell_type": "code",
   "execution_count": 69,
   "metadata": {},
   "outputs": [
    {
     "data": {
      "text/latex": [
       "$\\displaystyle 2 f_{1}^{\\dagger} g_{1}^{\\dagger} f_{1} g_{1} + f_{1}^{\\dagger} f_{1} + g_{1}^{\\dagger} g_{1}$"
      ],
      "text/plain": [
       "2*Dagger(f_1)*Dagger(g_1)*f_1*g_1 + Dagger(f_1)*f_1 + Dagger(g_1)*g_1"
      ]
     },
     "execution_count": 69,
     "metadata": {},
     "output_type": "execute_result"
    }
   ],
   "source": [
    "recursiveapply(((-I*gd[1]*f[1]+I*fd[1]*g[1])**4).expand(),normalorder2_f)"
   ]
  },
  {
   "cell_type": "code",
   "execution_count": 73,
   "metadata": {},
   "outputs": [],
   "source": [
    "alpha,beta,=symbols(r'\\alpha,\\beta')"
   ]
  },
  {
   "cell_type": "code",
   "execution_count": 74,
   "metadata": {},
   "outputs": [
    {
     "data": {
      "text/latex": [
       "$\\displaystyle \\alpha$"
      ],
      "text/plain": [
       "\\alpha"
      ]
     },
     "execution_count": 74,
     "metadata": {},
     "output_type": "execute_result"
    }
   ],
   "source": [
    "alpha"
   ]
  },
  {
   "cell_type": "code",
   "execution_count": 81,
   "metadata": {},
   "outputs": [],
   "source": [
    "exp1=(1+(cosh(alpha)-1)*(2*fd[1]*gd[1]*f[1]*g[1]+fd[1]*f[1]+gd[1]*g[1])+sinh(alpha)*(fd[1]*g[1]+gd[1]*f[1]))"
   ]
  },
  {
   "cell_type": "code",
   "execution_count": 82,
   "metadata": {},
   "outputs": [],
   "source": [
    "exp2=(1+(cosh(beta)-1)*(2*fd[1]*gd[1]*f[1]*g[1]+fd[1]*f[1]+gd[1]*g[1])+sinh(beta)*(I*fd[1]*g[1]-I*gd[1]*f[1]))"
   ]
  },
  {
   "cell_type": "code",
   "execution_count": 87,
   "metadata": {},
   "outputs": [
    {
     "data": {
      "text/latex": [
       "$\\displaystyle - i \\sinh{\\left(\\alpha \\right)} \\sinh{\\left(\\beta \\right)} f_{1}^{\\dagger} f_{1} + i \\sinh{\\left(\\alpha \\right)} \\sinh{\\left(\\beta \\right)} g_{1}^{\\dagger} g_{1} + \\sinh{\\left(\\alpha \\right)} \\cosh{\\left(\\beta \\right)} f_{1}^{\\dagger} g_{1} + \\sinh{\\left(\\alpha \\right)} \\cosh{\\left(\\beta \\right)} g_{1}^{\\dagger} f_{1} + i \\sinh{\\left(\\beta \\right)} \\cosh{\\left(\\alpha \\right)} f_{1}^{\\dagger} g_{1} - i \\sinh{\\left(\\beta \\right)} \\cosh{\\left(\\alpha \\right)} g_{1}^{\\dagger} f_{1} + 2 \\cosh{\\left(\\alpha \\right)} \\cosh{\\left(\\beta \\right)} f_{1}^{\\dagger} g_{1}^{\\dagger} f_{1} g_{1} + \\cosh{\\left(\\alpha \\right)} \\cosh{\\left(\\beta \\right)} f_{1}^{\\dagger} f_{1} + \\cosh{\\left(\\alpha \\right)} \\cosh{\\left(\\beta \\right)} g_{1}^{\\dagger} g_{1} + 1 - 2 f_{1}^{\\dagger} g_{1}^{\\dagger} f_{1} g_{1} - f_{1}^{\\dagger} f_{1} - g_{1}^{\\dagger} g_{1}$"
      ],
      "text/plain": [
       "-I*sinh(\\alpha)*sinh(\\beta)*Dagger(f_1)*f_1 + I*sinh(\\alpha)*sinh(\\beta)*Dagger(g_1)*g_1 + sinh(\\alpha)*cosh(\\beta)*Dagger(f_1)*g_1 + sinh(\\alpha)*cosh(\\beta)*Dagger(g_1)*f_1 + I*sinh(\\beta)*cosh(\\alpha)*Dagger(f_1)*g_1 - I*sinh(\\beta)*cosh(\\alpha)*Dagger(g_1)*f_1 + 2*cosh(\\alpha)*cosh(\\beta)*Dagger(f_1)*Dagger(g_1)*f_1*g_1 + cosh(\\alpha)*cosh(\\beta)*Dagger(f_1)*f_1 + cosh(\\alpha)*cosh(\\beta)*Dagger(g_1)*g_1 + 1 - 2*Dagger(f_1)*Dagger(g_1)*f_1*g_1 - Dagger(f_1)*f_1 - Dagger(g_1)*g_1"
      ]
     },
     "execution_count": 87,
     "metadata": {},
     "output_type": "execute_result"
    }
   ],
   "source": [
    "recursiveapply((exp1*exp2).expand(),normalorder2_f)"
   ]
  },
  {
   "cell_type": "code",
   "execution_count": 88,
   "metadata": {},
   "outputs": [
    {
     "data": {
      "text/latex": [
       "$\\displaystyle \\sinh{\\left(\\alpha \\right)} \\cosh{\\left(\\beta \\right)} f_{1}^{\\dagger} g_{1} + \\sinh{\\left(\\alpha \\right)} \\cosh{\\left(\\beta \\right)} g_{1}^{\\dagger} f_{1} - i \\sinh{\\left(\\beta \\right)} \\left(\\sinh{\\left(\\alpha \\right)} f_{1}^{\\dagger} f_{1} - \\sinh{\\left(\\alpha \\right)} g_{1}^{\\dagger} g_{1} - \\cosh{\\left(\\alpha \\right)} f_{1}^{\\dagger} g_{1} + \\cosh{\\left(\\alpha \\right)} g_{1}^{\\dagger} f_{1}\\right) + 2 \\cosh{\\left(\\alpha \\right)} \\cosh{\\left(\\beta \\right)} f_{1}^{\\dagger} g_{1}^{\\dagger} f_{1} g_{1} + \\cosh{\\left(\\alpha \\right)} \\cosh{\\left(\\beta \\right)} f_{1}^{\\dagger} f_{1} + \\cosh{\\left(\\alpha \\right)} \\cosh{\\left(\\beta \\right)} g_{1}^{\\dagger} g_{1} + 1 - 2 f_{1}^{\\dagger} g_{1}^{\\dagger} f_{1} g_{1} - f_{1}^{\\dagger} f_{1} - g_{1}^{\\dagger} g_{1}$"
      ],
      "text/plain": [
       "sinh(\\alpha)*cosh(\\beta)*Dagger(f_1)*g_1 + sinh(\\alpha)*cosh(\\beta)*Dagger(g_1)*f_1 - I*sinh(\\beta)*(sinh(\\alpha)*Dagger(f_1)*f_1 - sinh(\\alpha)*Dagger(g_1)*g_1 - cosh(\\alpha)*Dagger(f_1)*g_1 + cosh(\\alpha)*Dagger(g_1)*f_1) + 2*cosh(\\alpha)*cosh(\\beta)*Dagger(f_1)*Dagger(g_1)*f_1*g_1 + cosh(\\alpha)*cosh(\\beta)*Dagger(f_1)*f_1 + cosh(\\alpha)*cosh(\\beta)*Dagger(g_1)*g_1 + 1 - 2*Dagger(f_1)*Dagger(g_1)*f_1*g_1 - Dagger(f_1)*f_1 - Dagger(g_1)*g_1"
      ]
     },
     "execution_count": 88,
     "metadata": {},
     "output_type": "execute_result"
    }
   ],
   "source": [
    "recursiveapply((exp1*exp2).expand(),normalorder2_f).simplify()"
   ]
  },
  {
   "cell_type": "code",
   "execution_count": null,
   "metadata": {},
   "outputs": [],
   "source": []
  }
 ],
 "metadata": {
  "kernelspec": {
   "display_name": "base",
   "language": "python",
   "name": "python3"
  },
  "language_info": {
   "codemirror_mode": {
    "name": "ipython",
    "version": 3
   },
   "file_extension": ".py",
   "mimetype": "text/x-python",
   "name": "python",
   "nbconvert_exporter": "python",
   "pygments_lexer": "ipython3",
   "version": "3.8.11"
  },
  "orig_nbformat": 4,
  "vscode": {
   "interpreter": {
    "hash": "8763e5ea16b716ad1eeffeab5f34109bd722594d0305e114e3d37565ed57b2a4"
   }
  }
 },
 "nbformat": 4,
 "nbformat_minor": 2
}
