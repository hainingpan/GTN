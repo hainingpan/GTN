{
 "cells": [
  {
   "cell_type": "markdown",
   "metadata": {},
   "source": [
    "# API"
   ]
  },
  {
   "cell_type": "code",
   "execution_count": 22,
   "metadata": {},
   "outputs": [],
   "source": [
    "from sympy import *\n",
    "from sympy.physics.quantum import *"
   ]
  },
  {
   "cell_type": "code",
   "execution_count": 23,
   "metadata": {},
   "outputs": [],
   "source": [
    "n1,n2,n3=symbols('n_1,n_2,n_3')"
   ]
  },
  {
   "cell_type": "code",
   "execution_count": 24,
   "metadata": {},
   "outputs": [],
   "source": [
    "g={i:Operator('\\gamma_{}'.format(i)) for i in range(1,5)}"
   ]
  },
  {
   "cell_type": "code",
   "execution_count": 25,
   "metadata": {},
   "outputs": [],
   "source": [
    "gb={i:Operator(r'\\bar{{\\gamma}}_{}'.format(i)) for i in range(1,5)}"
   ]
  },
  {
   "cell_type": "code",
   "execution_count": 26,
   "metadata": {},
   "outputs": [],
   "source": [
    "c={i:Operator(r'c_{}'.format(i)) for i in range(1,5)}"
   ]
  },
  {
   "cell_type": "code",
   "execution_count": 27,
   "metadata": {},
   "outputs": [],
   "source": [
    "cd={i:Dagger(Operator(r'c_{}'.format(i))) for i in range(1,5)}"
   ]
  },
  {
   "cell_type": "code",
   "execution_count": 28,
   "metadata": {},
   "outputs": [],
   "source": [
    "def ea(n1,n2,n3):\n",
    "    return ((1+n1)/(1-n1))**(1/4)* ((n2-I*n3)/sqrt(n2**2+n3**2))**(1/2)\n",
    "    "
   ]
  },
  {
   "cell_type": "code",
   "execution_count": 29,
   "metadata": {},
   "outputs": [],
   "source": [
    "def K(n1,n2,n3,op1,op2):\n",
    "    expa=N(ea(n1,n2,n3))\n",
    "    expma=1/expa\n",
    "    return (1-n1**2)**(1/4)*( (expa+ expma)/2)- ((1-n1**2)**(1/4)*(expa-expma)/2  *I* op1 * op2 )"
   ]
  },
  {
   "cell_type": "code",
   "execution_count": 30,
   "metadata": {},
   "outputs": [],
   "source": [
    "selfjoint=[(Dagger(gi),gi) for gi in g.values()]+[(Dagger(gi),gi) for gi in gb.values()]"
   ]
  },
  {
   "cell_type": "code",
   "execution_count": 31,
   "metadata": {},
   "outputs": [],
   "source": [
    "squareone=[(gi**2,1) for gi in g.values()]+[(gi**2,1) for gi in gb.values()]"
   ]
  },
  {
   "cell_type": "code",
   "execution_count": 32,
   "metadata": {},
   "outputs": [],
   "source": [
    "normalorder=[gi[i] for i in range(1,len(g)+1) for gi in [g, gb]]"
   ]
  },
  {
   "cell_type": "code",
   "execution_count": 33,
   "metadata": {},
   "outputs": [],
   "source": [
    "normalorder2=[(normalorder[j]*normalorder[i],-normalorder[i]*normalorder[j]) for i in range(len(normalorder)) for j in range(i+1,len(normalorder))]"
   ]
  },
  {
   "cell_type": "code",
   "execution_count": 34,
   "metadata": {},
   "outputs": [],
   "source": [
    "g2c=[(g[i],(c[i]+Dagger(c[i]))) for i in range(1,len(g)+1)]+[(gb[i],(Dagger(c[i])-c[i])/(I)) for i in range(1,len(gb)+1)]"
   ]
  },
  {
   "cell_type": "code",
   "execution_count": 35,
   "metadata": {},
   "outputs": [],
   "source": [
    "squarezero=[(ci**2,0) for ci in c.values()] +[(Dagger(ci)**2,0) for ci in c.values()]"
   ]
  },
  {
   "cell_type": "code",
   "execution_count": 36,
   "metadata": {},
   "outputs": [],
   "source": [
    "normalorder_C=[Dagger(ci) for ci in c.values()]+[ci for ci in c.values()]"
   ]
  },
  {
   "cell_type": "code",
   "execution_count": 37,
   "metadata": {},
   "outputs": [],
   "source": [
    "def delta(i,j):\n",
    "    return 1 if i%(len(normalorder_C)//2)==j%(len(normalorder_C)//2) else 0"
   ]
  },
  {
   "cell_type": "code",
   "execution_count": 38,
   "metadata": {},
   "outputs": [],
   "source": [
    "normalorder2_C=[(normalorder_C[j]*normalorder_C[i],0 if i==j else delta(i,j)-normalorder_C[i]*normalorder_C[j]) for i in range(len(normalorder_C)) for j in range(i,len(normalorder_C))]"
   ]
  },
  {
   "cell_type": "code",
   "execution_count": 39,
   "metadata": {},
   "outputs": [],
   "source": [
    "def recursiveapply(expr,subs):\n",
    "    expr1=expr.subs(subs)\n",
    "    while not expr1== expr:\n",
    "        expr=expr1\n",
    "        expr1=expr.subs(subs).expand()\n",
    "    return expr1"
   ]
  },
  {
   "attachments": {},
   "cell_type": "markdown",
   "metadata": {},
   "source": [
    "# Op"
   ]
  },
  {
   "cell_type": "code",
   "execution_count": 24,
   "metadata": {},
   "outputs": [],
   "source": [
    "# Kn=(K(0,1/sqrt(2),1/sqrt(2),g[1],gb[1]))\n",
    "Kn=(K(0,1/sqrt(2),1/sqrt(2),gb[1],g[2]))\n",
    "# Kn=K(0,.1,sqrt(1-0.1**2),gb[1],g[2])\n",
    "# Kn=K(.9,0,sqrt(1-0.9**2),gb[1],g[2])"
   ]
  },
  {
   "cell_type": "code",
   "execution_count": 35,
   "metadata": {},
   "outputs": [],
   "source": [
    "expval=[(Dagger(ci)*ci,1) for ci in c.values()]"
   ]
  },
  {
   "cell_type": "code",
   "execution_count": 36,
   "metadata": {},
   "outputs": [
    {
     "data": {
      "text/latex": [
       "$\\displaystyle 0.853553390593274 + 0.146446609406726 \\gamma_{2}^{2}$"
      ],
      "text/plain": [
       "0.853553390593274 + 0.146446609406726*\\gamma_2**2"
      ]
     },
     "execution_count": 36,
     "metadata": {},
     "output_type": "execute_result"
    }
   ],
   "source": [
    "(Dagger(Kn)*Kn).expand().subs(selfjoint).subs(squareone).subs(normalorder2)"
   ]
  },
  {
   "cell_type": "code",
   "execution_count": 37,
   "metadata": {},
   "outputs": [
    {
     "data": {
      "text/latex": [
       "$\\displaystyle 0.923879532511287 + 0.38268343236509 \\bar{\\gamma}_1 \\gamma_{2}$"
      ],
      "text/plain": [
       "0.923879532511287 + 0.38268343236509*\\bar{\\gamma}_1*\\gamma_2"
      ]
     },
     "execution_count": 37,
     "metadata": {},
     "output_type": "execute_result"
    }
   ],
   "source": [
    "(Kn).expand()"
   ]
  },
  {
   "cell_type": "code",
   "execution_count": 218,
   "metadata": {},
   "outputs": [
    {
     "data": {
      "text/latex": [
       "$\\displaystyle - i c_{1}^{\\dagger} + i c_{1}$"
      ],
      "text/plain": [
       "-I*Dagger(c_1) + I*c_1"
      ]
     },
     "execution_count": 218,
     "metadata": {},
     "output_type": "execute_result"
    }
   ],
   "source": [
    "(gb[1]).subs(g2c).expand().subs(normalorder2_C).expand()"
   ]
  },
  {
   "cell_type": "code",
   "execution_count": 230,
   "metadata": {},
   "outputs": [
    {
     "data": {
      "text/latex": [
       "$\\displaystyle 1 - 2 c_{1}^{\\dagger} c_{1}$"
      ],
      "text/plain": [
       "1 - 2*Dagger(c_1)*c_1"
      ]
     },
     "execution_count": 230,
     "metadata": {},
     "output_type": "execute_result"
    }
   ],
   "source": [
    "(I* g[1]* gb[1]).subs(g2c).expand().subs(normalorder2_C).expand()"
   ]
  },
  {
   "cell_type": "code",
   "execution_count": 231,
   "metadata": {},
   "outputs": [
    {
     "data": {
      "text/latex": [
       "$\\displaystyle 0.923879532511287 - 0.38268343236509 i + 0.76536686473018 i c_{1}^{\\dagger} c_{1}$"
      ],
      "text/plain": [
       "0.923879532511287 - 0.38268343236509*I + 0.76536686473018*I*Dagger(c_1)*c_1"
      ]
     },
     "execution_count": 231,
     "metadata": {},
     "output_type": "execute_result"
    }
   ],
   "source": [
    "(Kn).expand().subs(g2c).expand().subs(normalorder2_C).expand()"
   ]
  },
  {
   "cell_type": "markdown",
   "metadata": {},
   "source": [
    "## Op"
   ]
  },
  {
   "cell_type": "code",
   "execution_count": 50,
   "metadata": {},
   "outputs": [],
   "source": [
    "# Kn=(K(0.9,sqrt(1-0.9**2),0,gb[1],g[2])) *(K(0.9,sqrt(1-0.9**2),0,gb[2],g[3]))\n",
    "# Kn=(K(0,1/sqrt(2),1/sqrt(2),gb[1],g[2]))\n",
    "Kn=(K(0.1,sqrt(1-0.1**2)*sin(pi/4),sqrt(1-0.1**2)*cos(pi/4),gb[1],g[2]))\n"
   ]
  },
  {
   "cell_type": "code",
   "execution_count": 51,
   "metadata": {},
   "outputs": [
    {
     "data": {
      "text/latex": [
       "$\\displaystyle 0.922721055122658 - 0.0191581945936129 i - i \\left(0.0462519732184832 - 0.382203575319017 i\\right) \\bar{\\gamma}_1 \\gamma_{2}$"
      ],
      "text/plain": [
       "0.922721055122658 - 0.0191581945936129*I - I*(0.0462519732184832 - 0.382203575319017*I)*\\bar{\\gamma}_1*\\gamma_2"
      ]
     },
     "execution_count": 51,
     "metadata": {},
     "output_type": "execute_result"
    }
   ],
   "source": [
    "Kn"
   ]
  },
  {
   "cell_type": "code",
   "execution_count": 52,
   "metadata": {},
   "outputs": [
    {
     "data": {
      "text/latex": [
       "$\\displaystyle 1.0 - 0.1 c_{1}^{\\dagger} c_{2}^{\\dagger} - 0.1 c_{1}^{\\dagger} c_{2} - 0.1 c_{2}^{\\dagger} c_{1} + 0.1 c_{1} c_{2}$"
      ],
      "text/plain": [
       "1.0 - 0.1*Dagger(c_1)*Dagger(c_2) - 0.1*Dagger(c_1)*c_2 - 0.1*Dagger(c_2)*c_1 + 0.1*c_1*c_2"
      ]
     },
     "execution_count": 52,
     "metadata": {},
     "output_type": "execute_result"
    }
   ],
   "source": [
    "recursiveapply((Dagger(Kn)*Kn).subs(g2c).expand(),normalorder2_C)"
   ]
  },
  {
   "cell_type": "code",
   "execution_count": 53,
   "metadata": {},
   "outputs": [
    {
     "data": {
      "text/latex": [
       "$\\displaystyle 0.703562363973514 - 0.703562363973515 i c_{1}^{\\dagger} c_{2}^{\\dagger} - 1.40712472794703 c_{1}^{\\dagger} c_{1} - 0.703562363973515 i c_{1}^{\\dagger} c_{2} + 0.703562363973515 i c_{2}^{\\dagger} c_{1} - 0.703562363973515 i c_{1} c_{2}$"
      ],
      "text/plain": [
       "0.703562363973514 - 0.703562363973515*I*Dagger(c_1)*Dagger(c_2) - 1.40712472794703*Dagger(c_1)*c_1 - 0.703562363973515*I*Dagger(c_1)*c_2 + 0.703562363973515*I*Dagger(c_2)*c_1 - 0.703562363973515*I*c_1*c_2"
      ]
     },
     "execution_count": 53,
     "metadata": {},
     "output_type": "execute_result"
    }
   ],
   "source": [
    "recursiveapply((Dagger(Kn)*(I*g[1]*gb[1])*Kn).expand().subs(g2c).expand(),normalorder2_C)"
   ]
  },
  {
   "cell_type": "code",
   "execution_count": 54,
   "metadata": {},
   "outputs": [
    {
     "data": {
      "text/latex": [
       "$\\displaystyle 0.703562363973515 + 0.703562363973514 i c_{1}^{\\dagger} c_{2}^{\\dagger} - 1.40712472794703 c_{1}^{\\dagger} c_{1} + 0.703562363973514 i c_{1}^{\\dagger} c_{2} - 0.703562363973514 i c_{2}^{\\dagger} c_{1} + 0.703562363973514 i c_{1} c_{2}$"
      ],
      "text/plain": [
       "0.703562363973515 + 0.703562363973514*I*Dagger(c_1)*Dagger(c_2) - 1.40712472794703*Dagger(c_1)*c_1 + 0.703562363973514*I*Dagger(c_1)*c_2 - 0.703562363973514*I*Dagger(c_2)*c_1 + 0.703562363973514*I*c_1*c_2"
      ]
     },
     "execution_count": 54,
     "metadata": {},
     "output_type": "execute_result"
    }
   ],
   "source": [
    "recursiveapply((Dagger(Kn)*(I*g[1]*g[2])*Kn).expand().subs(g2c).expand(),normalorder2_C)"
   ]
  },
  {
   "cell_type": "code",
   "execution_count": 55,
   "metadata": {},
   "outputs": [
    {
     "data": {
      "text/latex": [
       "$\\displaystyle -0.1 + 1.0 c_{1}^{\\dagger} c_{2}^{\\dagger} + 0.400000000000001 c_{1}^{\\dagger} c_{2}^{\\dagger} c_{1} c_{2} + 0.2 c_{1}^{\\dagger} c_{1} - 1.0 c_{1}^{\\dagger} c_{2} - 1.0 c_{2}^{\\dagger} c_{1} + 0.2 c_{2}^{\\dagger} c_{2} - 1.0 c_{1} c_{2}$"
      ],
      "text/plain": [
       "-0.1 + 1.0*Dagger(c_1)*Dagger(c_2) + 0.400000000000001*Dagger(c_1)*Dagger(c_2)*c_1*c_2 + 0.2*Dagger(c_1)*c_1 - 1.0*Dagger(c_1)*c_2 - 1.0*Dagger(c_2)*c_1 + 0.2*Dagger(c_2)*c_2 - 1.0*c_1*c_2"
      ]
     },
     "execution_count": 55,
     "metadata": {},
     "output_type": "execute_result"
    }
   ],
   "source": [
    "recursiveapply((Dagger(Kn)*(I*g[1]*gb[2])*Kn).expand().subs(g2c).expand(),normalorder2_C)"
   ]
  },
  {
   "cell_type": "code",
   "execution_count": 56,
   "metadata": {},
   "outputs": [
    {
     "data": {
      "text/latex": [
       "$\\displaystyle -0.1 + 1.0 c_{1}^{\\dagger} c_{2}^{\\dagger} + 1.0 c_{1}^{\\dagger} c_{2} + 1.0 c_{2}^{\\dagger} c_{1} - 1.0 c_{1} c_{2}$"
      ],
      "text/plain": [
       "-0.1 + 1.0*Dagger(c_1)*Dagger(c_2) + 1.0*Dagger(c_1)*c_2 + 1.0*Dagger(c_2)*c_1 - 1.0*c_1*c_2"
      ]
     },
     "execution_count": 56,
     "metadata": {},
     "output_type": "execute_result"
    }
   ],
   "source": [
    "recursiveapply((Dagger(Kn)*(I*gb[1]*g[2])*Kn).expand().subs(g2c).expand(),normalorder2_C)"
   ]
  },
  {
   "cell_type": "code",
   "execution_count": 57,
   "metadata": {},
   "outputs": [
    {
     "data": {
      "text/latex": [
       "$\\displaystyle -0.703562363973515 - 0.703562363973514 i c_{1}^{\\dagger} c_{2}^{\\dagger} + 0.703562363973515 i c_{1}^{\\dagger} c_{2} - 0.703562363973514 i c_{2}^{\\dagger} c_{1} + 1.40712472794703 c_{2}^{\\dagger} c_{2} - 0.703562363973514 i c_{1} c_{2}$"
      ],
      "text/plain": [
       "-0.703562363973515 - 0.703562363973514*I*Dagger(c_1)*Dagger(c_2) + 0.703562363973515*I*Dagger(c_1)*c_2 - 0.703562363973514*I*Dagger(c_2)*c_1 + 1.40712472794703*Dagger(c_2)*c_2 - 0.703562363973514*I*c_1*c_2"
      ]
     },
     "execution_count": 57,
     "metadata": {},
     "output_type": "execute_result"
    }
   ],
   "source": [
    "recursiveapply((Dagger(Kn)*(I*gb[1]*gb[2])*Kn).expand().subs(g2c).expand(),normalorder2_C)"
   ]
  },
  {
   "cell_type": "code",
   "execution_count": 58,
   "metadata": {},
   "outputs": [
    {
     "data": {
      "text/latex": [
       "$\\displaystyle 0.703562363973514 - 0.703562363973515 i c_{1}^{\\dagger} c_{2}^{\\dagger} + 0.703562363973515 i c_{1}^{\\dagger} c_{2} - 0.703562363973515 i c_{2}^{\\dagger} c_{1} - 1.40712472794703 c_{2}^{\\dagger} c_{2} - 0.703562363973515 i c_{1} c_{2}$"
      ],
      "text/plain": [
       "0.703562363973514 - 0.703562363973515*I*Dagger(c_1)*Dagger(c_2) + 0.703562363973515*I*Dagger(c_1)*c_2 - 0.703562363973515*I*Dagger(c_2)*c_1 - 1.40712472794703*Dagger(c_2)*c_2 - 0.703562363973515*I*c_1*c_2"
      ]
     },
     "execution_count": 58,
     "metadata": {},
     "output_type": "execute_result"
    }
   ],
   "source": [
    "recursiveapply((Dagger(Kn)*(I*g[2]*gb[2])*Kn).expand().subs(g2c).expand(),normalorder2_C)"
   ]
  },
  {
   "cell_type": "code",
   "execution_count": 308,
   "metadata": {},
   "outputs": [
    {
     "data": {
      "text/latex": [
       "$\\displaystyle - 0.784601809837321 i c_{1}^{\\dagger} c_{2}^{\\dagger} c_{3}^{\\dagger} c_{1} - 1.11022302462516 \\cdot 10^{-16} i c_{1}^{\\dagger} c_{2}^{\\dagger} c_{3}^{\\dagger} c_{1} c_{2} c_{3} + 5.55111512312578 \\cdot 10^{-17} i c_{1}^{\\dagger} c_{2}^{\\dagger} c_{3}^{\\dagger} c_{2} + 5.55111512312578 \\cdot 10^{-17} i c_{1}^{\\dagger} c_{2}^{\\dagger} c_{3}^{\\dagger} c_{3} + 0.784601809837321 i c_{1}^{\\dagger} c_{2}^{\\dagger} c_{1} c_{3} + 2.77555756156289 \\cdot 10^{-17} i c_{1}^{\\dagger} c_{2}^{\\dagger} c_{2} c_{3} + 0.435889894354067 i c_{1}^{\\dagger} c_{3}^{\\dagger} - 0.784601809837321 i c_{1}^{\\dagger} c_{3}^{\\dagger} c_{1} c_{2} - 0.784601809837321 i c_{1}^{\\dagger} c_{1} c_{2} c_{3} + 0.435889894354067 i c_{1}^{\\dagger} c_{3} + 0.392300904918661 i c_{2}^{\\dagger} c_{3}^{\\dagger} + 2.77555756156289 \\cdot 10^{-17} i c_{2}^{\\dagger} c_{3}^{\\dagger} c_{1} c_{2} + 5.55111512312578 \\cdot 10^{-17} i c_{2}^{\\dagger} c_{3}^{\\dagger} c_{1} c_{3} + 5.55111512312578 \\cdot 10^{-17} i c_{2}^{\\dagger} c_{3}^{\\dagger} c_{2} c_{3} + 5.55111512312578 \\cdot 10^{-17} i c_{2}^{\\dagger} c_{1} - 2.77555756156289 \\cdot 10^{-17} i c_{2}^{\\dagger} c_{1} c_{2} c_{3} + 5.55111512312578 \\cdot 10^{-17} i c_{2}^{\\dagger} c_{2} + 0.392300904918661 i c_{2}^{\\dagger} c_{3} - 0.435889894354067 i c_{3}^{\\dagger} c_{1} - 5.55111512312578 \\cdot 10^{-17} i c_{3}^{\\dagger} c_{1} c_{2} c_{3} - 0.392300904918661 i c_{3}^{\\dagger} c_{2} + 0.435889894354067 i c_{1} c_{3} + 0.392300904918661 i c_{2} c_{3}$"
      ],
      "text/plain": [
       "-0.784601809837321*I*Dagger(c_1)*Dagger(c_2)*Dagger(c_3)*c_1 - 1.11022302462516e-16*I*Dagger(c_1)*Dagger(c_2)*Dagger(c_3)*c_1*c_2*c_3 + 5.55111512312578e-17*I*Dagger(c_1)*Dagger(c_2)*Dagger(c_3)*c_2 + 5.55111512312578e-17*I*Dagger(c_1)*Dagger(c_2)*Dagger(c_3)*c_3 + 0.784601809837321*I*Dagger(c_1)*Dagger(c_2)*c_1*c_3 + 2.77555756156289e-17*I*Dagger(c_1)*Dagger(c_2)*c_2*c_3 + 0.435889894354067*I*Dagger(c_1)*Dagger(c_3) - 0.784601809837321*I*Dagger(c_1)*Dagger(c_3)*c_1*c_2 - 0.784601809837321*I*Dagger(c_1)*c_1*c_2*c_3 + 0.435889894354067*I*Dagger(c_1)*c_3 + 0.392300904918661*I*Dagger(c_2)*Dagger(c_3) + 2.77555756156289e-17*I*Dagger(c_2)*Dagger(c_3)*c_1*c_2 + 5.55111512312578e-17*I*Dagger(c_2)*Dagger(c_3)*c_1*c_3 + 5.55111512312578e-17*I*Dagger(c_2)*Dagger(c_3)*c_2*c_3 + 5.55111512312578e-17*I*Dagger(c_2)*c_1 - 2.77555756156289e-17*I*Dagger(c_2)*c_1*c_2*c_3 + 5.55111512312578e-17*I*Dagger(c_2)*c_2 + 0.392300904918661*I*Dagger(c_2)*c_3 - 0.435889894354067*I*Dagger(c_3)*c_1 - 5.55111512312578e-17*I*Dagger(c_3)*c_1*c_2*c_3 - 0.392300904918661*I*Dagger(c_3)*c_2 + 0.435889894354067*I*c_1*c_3 + 0.392300904918661*I*c_2*c_3"
      ]
     },
     "execution_count": 308,
     "metadata": {},
     "output_type": "execute_result"
    }
   ],
   "source": [
    "recursiveapply((Dagger(Kn)*(I*g[1]*g[3])*Kn).expand().subs(g2c).expand(),normalorder2_C)"
   ]
  },
  {
   "cell_type": "code",
   "execution_count": 309,
   "metadata": {},
   "outputs": [
    {
     "data": {
      "text/latex": [
       "$\\displaystyle 0.81 + 0.9 c_{1}^{\\dagger} c_{2}^{\\dagger} - 1.8 c_{1}^{\\dagger} c_{2}^{\\dagger} c_{3}^{\\dagger} c_{1} + 6.48 c_{1}^{\\dagger} c_{2}^{\\dagger} c_{3}^{\\dagger} c_{1} c_{2} c_{3} - 1.8 c_{1}^{\\dagger} c_{2}^{\\dagger} c_{3}^{\\dagger} c_{3} - 3.24 c_{1}^{\\dagger} c_{2}^{\\dagger} c_{1} c_{2} - 1.8 c_{1}^{\\dagger} c_{2}^{\\dagger} c_{1} c_{3} + 1.0 c_{1}^{\\dagger} c_{3}^{\\dagger} - 1.8 c_{1}^{\\dagger} c_{3}^{\\dagger} c_{1} c_{2} - 3.24 c_{1}^{\\dagger} c_{3}^{\\dagger} c_{1} c_{3} - 1.8 c_{1}^{\\dagger} c_{3}^{\\dagger} c_{2} c_{3} - 1.62 c_{1}^{\\dagger} c_{1} + 1.8 c_{1}^{\\dagger} c_{1} c_{2} c_{3} - 0.9 c_{1}^{\\dagger} c_{2} - 1.0 c_{1}^{\\dagger} c_{3} + 0.9 c_{2}^{\\dagger} c_{3}^{\\dagger} + 2.77555756156289 \\cdot 10^{-17} c_{2}^{\\dagger} c_{3}^{\\dagger} c_{1} c_{2} - 1.8 c_{2}^{\\dagger} c_{3}^{\\dagger} c_{1} c_{3} - 3.24 c_{2}^{\\dagger} c_{3}^{\\dagger} c_{2} c_{3} - 0.9 c_{2}^{\\dagger} c_{1} + 2.77555756156289 \\cdot 10^{-17} c_{2}^{\\dagger} c_{1} c_{2} c_{3} - 1.62 c_{2}^{\\dagger} c_{2} - 0.9 c_{2}^{\\dagger} c_{3} - 1.0 c_{3}^{\\dagger} c_{1} + 1.8 c_{3}^{\\dagger} c_{1} c_{2} c_{3} - 0.9 c_{3}^{\\dagger} c_{2} - 1.62 c_{3}^{\\dagger} c_{3} - 0.9 c_{1} c_{2} - 1.0 c_{1} c_{3} - 0.9 c_{2} c_{3}$"
      ],
      "text/plain": [
       "0.81 + 0.9*Dagger(c_1)*Dagger(c_2) - 1.8*Dagger(c_1)*Dagger(c_2)*Dagger(c_3)*c_1 + 6.48*Dagger(c_1)*Dagger(c_2)*Dagger(c_3)*c_1*c_2*c_3 - 1.8*Dagger(c_1)*Dagger(c_2)*Dagger(c_3)*c_3 - 3.24*Dagger(c_1)*Dagger(c_2)*c_1*c_2 - 1.8*Dagger(c_1)*Dagger(c_2)*c_1*c_3 + 1.0*Dagger(c_1)*Dagger(c_3) - 1.8*Dagger(c_1)*Dagger(c_3)*c_1*c_2 - 3.24*Dagger(c_1)*Dagger(c_3)*c_1*c_3 - 1.8*Dagger(c_1)*Dagger(c_3)*c_2*c_3 - 1.62*Dagger(c_1)*c_1 + 1.8*Dagger(c_1)*c_1*c_2*c_3 - 0.9*Dagger(c_1)*c_2 - 1.0*Dagger(c_1)*c_3 + 0.9*Dagger(c_2)*Dagger(c_3) + 2.77555756156289e-17*Dagger(c_2)*Dagger(c_3)*c_1*c_2 - 1.8*Dagger(c_2)*Dagger(c_3)*c_1*c_3 - 3.24*Dagger(c_2)*Dagger(c_3)*c_2*c_3 - 0.9*Dagger(c_2)*c_1 + 2.77555756156289e-17*Dagger(c_2)*c_1*c_2*c_3 - 1.62*Dagger(c_2)*c_2 - 0.9*Dagger(c_2)*c_3 - 1.0*Dagger(c_3)*c_1 + 1.8*Dagger(c_3)*c_1*c_2*c_3 - 0.9*Dagger(c_3)*c_2 - 1.62*Dagger(c_3)*c_3 - 0.9*c_1*c_2 - 1.0*c_1*c_3 - 0.9*c_2*c_3"
      ]
     },
     "execution_count": 309,
     "metadata": {},
     "output_type": "execute_result"
    }
   ],
   "source": [
    "recursiveapply((Dagger(Kn)*(I*g[1]*gb[3])*Kn).expand().subs(g2c).expand(),normalorder2_C)"
   ]
  },
  {
   "cell_type": "code",
   "execution_count": 310,
   "metadata": {},
   "outputs": [
    {
     "data": {
      "text/latex": [
       "$\\displaystyle 0.392300904918661 + 1.38777878078145 \\cdot 10^{-17} c_{1}^{\\dagger} c_{2}^{\\dagger} c_{3}^{\\dagger} c_{1} + 2.22044604925031 \\cdot 10^{-16} c_{1}^{\\dagger} c_{2}^{\\dagger} c_{3}^{\\dagger} c_{1} c_{2} c_{3} - 2.77555756156289 \\cdot 10^{-17} c_{1}^{\\dagger} c_{2}^{\\dagger} c_{3}^{\\dagger} c_{2} - 1.11022302462516 \\cdot 10^{-16} c_{1}^{\\dagger} c_{2}^{\\dagger} c_{3}^{\\dagger} c_{3} - 5.55111512312578 \\cdot 10^{-17} c_{1}^{\\dagger} c_{2}^{\\dagger} c_{1} c_{2} - 2.77555756156289 \\cdot 10^{-17} c_{1}^{\\dagger} c_{1} c_{2} c_{3} + 0.435889894354067 c_{2}^{\\dagger} c_{3}^{\\dagger} + 5.55111512312578 \\cdot 10^{-17} c_{2}^{\\dagger} c_{3}^{\\dagger} c_{1} c_{2} - 5.55111512312578 \\cdot 10^{-17} c_{2}^{\\dagger} c_{3}^{\\dagger} c_{1} c_{3} - 1.56920361967464 c_{2}^{\\dagger} c_{3}^{\\dagger} c_{2} c_{3} + 2.77555756156289 \\cdot 10^{-17} c_{2}^{\\dagger} c_{1} c_{2} c_{3} - 0.784601809837321 c_{2}^{\\dagger} c_{2} - 0.435889894354067 c_{2}^{\\dagger} c_{3} + 5.55111512312578 \\cdot 10^{-17} c_{3}^{\\dagger} c_{1} - 0.435889894354067 c_{3}^{\\dagger} c_{2} - 0.784601809837321 c_{3}^{\\dagger} c_{3} + 5.55111512312578 \\cdot 10^{-17} c_{1} c_{3} - 0.435889894354067 c_{2} c_{3}$"
      ],
      "text/plain": [
       "0.392300904918661 + 1.38777878078145e-17*Dagger(c_1)*Dagger(c_2)*Dagger(c_3)*c_1 + 2.22044604925031e-16*Dagger(c_1)*Dagger(c_2)*Dagger(c_3)*c_1*c_2*c_3 - 2.77555756156289e-17*Dagger(c_1)*Dagger(c_2)*Dagger(c_3)*c_2 - 1.11022302462516e-16*Dagger(c_1)*Dagger(c_2)*Dagger(c_3)*c_3 - 5.55111512312578e-17*Dagger(c_1)*Dagger(c_2)*c_1*c_2 - 2.77555756156289e-17*Dagger(c_1)*c_1*c_2*c_3 + 0.435889894354067*Dagger(c_2)*Dagger(c_3) + 5.55111512312578e-17*Dagger(c_2)*Dagger(c_3)*c_1*c_2 - 5.55111512312578e-17*Dagger(c_2)*Dagger(c_3)*c_1*c_3 - 1.56920361967464*Dagger(c_2)*Dagger(c_3)*c_2*c_3 + 2.77555756156289e-17*Dagger(c_2)*c_1*c_2*c_3 - 0.784601809837321*Dagger(c_2)*c_2 - 0.435889894354067*Dagger(c_2)*c_3 + 5.55111512312578e-17*Dagger(c_3)*c_1 - 0.435889894354067*Dagger(c_3)*c_2 - 0.784601809837321*Dagger(c_3)*c_3 + 5.55111512312578e-17*c_1*c_3 - 0.435889894354067*c_2*c_3"
      ]
     },
     "execution_count": 310,
     "metadata": {},
     "output_type": "execute_result"
    }
   ],
   "source": [
    "recursiveapply((Dagger(Kn)*(I*g[2]*gb[3])*Kn).expand().subs(g2c).expand(),normalorder2_C)"
   ]
  },
  {
   "cell_type": "code",
   "execution_count": 313,
   "metadata": {},
   "outputs": [
    {
     "data": {
      "text/latex": [
       "$\\displaystyle 0.9 + 0.81 c_{1}^{\\dagger} c_{2}^{\\dagger} + 2.77555756156289 \\cdot 10^{-17} c_{1}^{\\dagger} c_{2}^{\\dagger} c_{3}^{\\dagger} c_{1} + 1.8 c_{1}^{\\dagger} c_{2}^{\\dagger} c_{3}^{\\dagger} c_{2} - 2.77555756156289 \\cdot 10^{-17} c_{1}^{\\dagger} c_{2}^{\\dagger} c_{1} c_{3} - 1.8 c_{1}^{\\dagger} c_{2}^{\\dagger} c_{2} c_{3} + 0.9 c_{1}^{\\dagger} c_{3}^{\\dagger} - 1.38777878078145 \\cdot 10^{-17} c_{1}^{\\dagger} c_{3}^{\\dagger} c_{1} c_{2} + 0.81 c_{1}^{\\dagger} c_{2} + 0.9 c_{1}^{\\dagger} c_{3} + 1.0 c_{2}^{\\dagger} c_{3}^{\\dagger} - 1.8 c_{2}^{\\dagger} c_{3}^{\\dagger} c_{1} c_{2} - 5.55111512312578 \\cdot 10^{-17} c_{2}^{\\dagger} c_{3}^{\\dagger} c_{1} c_{3} - 1.66533453693773 \\cdot 10^{-16} c_{2}^{\\dagger} c_{3}^{\\dagger} c_{2} c_{3} + 0.81 c_{2}^{\\dagger} c_{1} - 1.8 c_{2}^{\\dagger} c_{1} c_{2} c_{3} + 1.0 c_{2}^{\\dagger} c_{3} + 0.9 c_{3}^{\\dagger} c_{1} - 5.55111512312578 \\cdot 10^{-17} c_{3}^{\\dagger} c_{1} c_{2} c_{3} + 1.0 c_{3}^{\\dagger} c_{2} + 2.77555756156289 \\cdot 10^{-17} c_{3}^{\\dagger} c_{3} - 0.81 c_{1} c_{2} - 0.9 c_{1} c_{3} - 1.0 c_{2} c_{3}$"
      ],
      "text/plain": [
       "0.9 + 0.81*Dagger(c_1)*Dagger(c_2) + 2.77555756156289e-17*Dagger(c_1)*Dagger(c_2)*Dagger(c_3)*c_1 + 1.8*Dagger(c_1)*Dagger(c_2)*Dagger(c_3)*c_2 - 2.77555756156289e-17*Dagger(c_1)*Dagger(c_2)*c_1*c_3 - 1.8*Dagger(c_1)*Dagger(c_2)*c_2*c_3 + 0.9*Dagger(c_1)*Dagger(c_3) - 1.38777878078145e-17*Dagger(c_1)*Dagger(c_3)*c_1*c_2 + 0.81*Dagger(c_1)*c_2 + 0.9*Dagger(c_1)*c_3 + 1.0*Dagger(c_2)*Dagger(c_3) - 1.8*Dagger(c_2)*Dagger(c_3)*c_1*c_2 - 5.55111512312578e-17*Dagger(c_2)*Dagger(c_3)*c_1*c_3 - 1.66533453693773e-16*Dagger(c_2)*Dagger(c_3)*c_2*c_3 + 0.81*Dagger(c_2)*c_1 - 1.8*Dagger(c_2)*c_1*c_2*c_3 + 1.0*Dagger(c_2)*c_3 + 0.9*Dagger(c_3)*c_1 - 5.55111512312578e-17*Dagger(c_3)*c_1*c_2*c_3 + 1.0*Dagger(c_3)*c_2 + 2.77555756156289e-17*Dagger(c_3)*c_3 - 0.81*c_1*c_2 - 0.9*c_1*c_3 - 1.0*c_2*c_3"
      ]
     },
     "execution_count": 313,
     "metadata": {},
     "output_type": "execute_result"
    }
   ],
   "source": [
    "recursiveapply((Dagger(Kn)*(I*gb[2]*g[3])*Kn).expand().subs(g2c).expand(),normalorder2_C)"
   ]
  },
  {
   "cell_type": "code",
   "execution_count": 312,
   "metadata": {},
   "outputs": [
    {
     "data": {
      "text/latex": [
       "$\\displaystyle 0.435889894354067 + 0.392300904918661 c_{1}^{\\dagger} c_{2}^{\\dagger} + 5.55111512312578 \\cdot 10^{-17} c_{1}^{\\dagger} c_{2}^{\\dagger} c_{3}^{\\dagger} c_{1} + 2.77555756156289 \\cdot 10^{-17} c_{1}^{\\dagger} c_{2}^{\\dagger} c_{3}^{\\dagger} c_{1} c_{2} c_{3} + 1.11022302462516 \\cdot 10^{-16} c_{1}^{\\dagger} c_{2}^{\\dagger} c_{3}^{\\dagger} c_{2} - 0.784601809837321 c_{1}^{\\dagger} c_{2}^{\\dagger} c_{3}^{\\dagger} c_{3} + 2.77555756156289 \\cdot 10^{-17} c_{1}^{\\dagger} c_{2}^{\\dagger} c_{1} c_{2} + 5.55111512312578 \\cdot 10^{-17} c_{1}^{\\dagger} c_{3}^{\\dagger} c_{1} c_{2} + 1.38777878078145 \\cdot 10^{-17} c_{1}^{\\dagger} c_{3}^{\\dagger} c_{1} c_{3} + 0.784601809837321 c_{1}^{\\dagger} c_{3}^{\\dagger} c_{2} c_{3} - 2.77555756156289 \\cdot 10^{-17} c_{1}^{\\dagger} c_{1} c_{2} c_{3} + 0.392300904918661 c_{1}^{\\dagger} c_{2} + 2.77555756156289 \\cdot 10^{-17} c_{2}^{\\dagger} c_{3}^{\\dagger} + 0.784601809837321 c_{2}^{\\dagger} c_{3}^{\\dagger} c_{1} c_{3} + 5.55111512312578 \\cdot 10^{-17} c_{2}^{\\dagger} c_{3}^{\\dagger} c_{2} c_{3} + 0.392300904918661 c_{2}^{\\dagger} c_{1} + 5.55111512312578 \\cdot 10^{-17} c_{2}^{\\dagger} c_{3} + 0.784601809837321 c_{3}^{\\dagger} c_{1} c_{2} c_{3} + 5.55111512312578 \\cdot 10^{-17} c_{3}^{\\dagger} c_{2} - 0.871779788708135 c_{3}^{\\dagger} c_{3} - 0.392300904918661 c_{1} c_{2}$"
      ],
      "text/plain": [
       "0.435889894354067 + 0.392300904918661*Dagger(c_1)*Dagger(c_2) + 5.55111512312578e-17*Dagger(c_1)*Dagger(c_2)*Dagger(c_3)*c_1 + 2.77555756156289e-17*Dagger(c_1)*Dagger(c_2)*Dagger(c_3)*c_1*c_2*c_3 + 1.11022302462516e-16*Dagger(c_1)*Dagger(c_2)*Dagger(c_3)*c_2 - 0.784601809837321*Dagger(c_1)*Dagger(c_2)*Dagger(c_3)*c_3 + 2.77555756156289e-17*Dagger(c_1)*Dagger(c_2)*c_1*c_2 + 5.55111512312578e-17*Dagger(c_1)*Dagger(c_3)*c_1*c_2 + 1.38777878078145e-17*Dagger(c_1)*Dagger(c_3)*c_1*c_3 + 0.784601809837321*Dagger(c_1)*Dagger(c_3)*c_2*c_3 - 2.77555756156289e-17*Dagger(c_1)*c_1*c_2*c_3 + 0.392300904918661*Dagger(c_1)*c_2 + 2.77555756156289e-17*Dagger(c_2)*Dagger(c_3) + 0.784601809837321*Dagger(c_2)*Dagger(c_3)*c_1*c_3 + 5.55111512312578e-17*Dagger(c_2)*Dagger(c_3)*c_2*c_3 + 0.392300904918661*Dagger(c_2)*c_1 + 5.55111512312578e-17*Dagger(c_2)*c_3 + 0.784601809837321*Dagger(c_3)*c_1*c_2*c_3 + 5.55111512312578e-17*Dagger(c_3)*c_2 - 0.871779788708135*Dagger(c_3)*c_3 - 0.392300904918661*c_1*c_2"
      ]
     },
     "execution_count": 312,
     "metadata": {},
     "output_type": "execute_result"
    }
   ],
   "source": [
    "recursiveapply((Dagger(Kn)*(I*g[3]*gb[3])*Kn).expand().subs(g2c).expand(),normalorder2_C)"
   ]
  },
  {
   "cell_type": "code",
   "execution_count": 106,
   "metadata": {},
   "outputs": [
    {
     "data": {
      "text/latex": [
       "$\\displaystyle 0.923879532511287 + 0.191341716182545 c_{1} c_{1}^{\\dagger}$"
      ],
      "text/plain": [
       "0.923879532511287 + 0.191341716182545*c_1*Dagger(c_1)"
      ]
     },
     "execution_count": 106,
     "metadata": {},
     "output_type": "execute_result"
    }
   ],
   "source": [
    "Kn.subs(g2c).expand().subs(squarezero).subs(normalorder2_C)"
   ]
  },
  {
   "cell_type": "code",
   "execution_count": 126,
   "metadata": {},
   "outputs": [
    {
     "data": {
      "text/latex": [
       "$\\displaystyle 0.426776695296637 i c_{1} c_{1}^{\\dagger}$"
      ],
      "text/plain": [
       "0.426776695296637*I*c_1*Dagger(c_1)"
      ]
     },
     "execution_count": 126,
     "metadata": {},
     "output_type": "execute_result"
    }
   ],
   "source": [
    "(Dagger(Kn)*(I*g[1]*gb[1])*Kn).expand().subs(g2c).expand().subs(normalorder2_C).subs(normalorder2_C)"
   ]
  },
  {
   "cell_type": "code",
   "execution_count": 118,
   "metadata": {},
   "outputs": [
    {
     "data": {
      "text/latex": [
       "$\\displaystyle 0.213388347648318 i c_{1}^{\\dagger} c_{2}^{\\dagger} + 0.213388347648318 i c_{1} c_{2}^{\\dagger} + 0.213388347648318 i c_{1} c_{2} - 0.213388347648318 i c_{2} c_{1}^{\\dagger}$"
      ],
      "text/plain": [
       "0.213388347648318*I*Dagger(c_1)*Dagger(c_2) + 0.213388347648318*I*c_1*Dagger(c_2) + 0.213388347648318*I*c_1*c_2 - 0.213388347648318*I*c_2*Dagger(c_1)"
      ]
     },
     "execution_count": 118,
     "metadata": {},
     "output_type": "execute_result"
    }
   ],
   "source": [
    "(Dagger(Kn)*(I*g[1]*g[2])*Kn).expand().subs(g2c).expand().subs(normalorder2_C).subs(normalorder2_C).subs(normalorder2_C)"
   ]
  },
  {
   "cell_type": "code",
   "execution_count": 119,
   "metadata": {},
   "outputs": [
    {
     "data": {
      "text/latex": [
       "$\\displaystyle 0.213388347648318 i c_{1}^{\\dagger} c_{2}^{\\dagger} + 0.213388347648318 i c_{1} c_{2}^{\\dagger} - 0.213388347648318 i c_{1} c_{2} + 0.0220970869120796 i c_{1}^{2} c_{2} c_{1}^{\\dagger} + 0.213388347648318 i c_{2} c_{1}^{\\dagger}$"
      ],
      "text/plain": [
       "0.213388347648318*I*Dagger(c_1)*Dagger(c_2) + 0.213388347648318*I*c_1*Dagger(c_2) - 0.213388347648318*I*c_1*c_2 + 0.0220970869120796*I*c_1**2*c_2*Dagger(c_1) + 0.213388347648318*I*c_2*Dagger(c_1)"
      ]
     },
     "execution_count": 119,
     "metadata": {},
     "output_type": "execute_result"
    }
   ],
   "source": [
    "(Dagger(Kn)*(I*g[1]*gb[2])*Kn).expand().subs(g2c).expand().subs(normalorder2_C).subs(normalorder2_C)"
   ]
  },
  {
   "cell_type": "code",
   "execution_count": 44,
   "metadata": {},
   "outputs": [
    {
     "data": {
      "text/latex": [
       "$\\displaystyle 1.09868411346781 + 0.455089860562227 i$"
      ],
      "text/plain": [
       "1.09868411346781 + 0.455089860562227*I"
      ]
     },
     "execution_count": 44,
     "metadata": {},
     "output_type": "execute_result"
    }
   ],
   "source": [
    "N((1+I)**(0.5))"
   ]
  },
  {
   "cell_type": "code",
   "execution_count": 24,
   "metadata": {},
   "outputs": [
    {
     "data": {
      "text/latex": [
       "$\\displaystyle 0.923879532511287 - 0.38268343236509 i$"
      ],
      "text/plain": [
       "0.923879532511287 - 0.38268343236509*I"
      ]
     },
     "execution_count": 24,
     "metadata": {},
     "output_type": "execute_result"
    }
   ],
   "source": [
    "N(ea(0,1/sqrt(2),1/sqrt(2)))"
   ]
  },
  {
   "cell_type": "code",
   "execution_count": 17,
   "metadata": {},
   "outputs": [
    {
     "data": {
      "text/latex": [
       "$\\displaystyle 0.923879532511287 + 0.38268343236509 i$"
      ],
      "text/plain": [
       "0.923879532511287 + 0.38268343236509*I"
      ]
     },
     "execution_count": 17,
     "metadata": {},
     "output_type": "execute_result"
    }
   ],
   "source": [
    "N(exp(I*pi/8))"
   ]
  },
  {
   "attachments": {},
   "cell_type": "markdown",
   "metadata": {},
   "source": [
    "# Initial"
   ]
  },
  {
   "cell_type": "code",
   "execution_count": 73,
   "metadata": {},
   "outputs": [],
   "source": [
    "# s=Dagger(c[1]-c[2])/sqrt(2)\n",
    "s=(1-Dagger(c[1])*Dagger(c[2]))/sqrt(2)"
   ]
  },
  {
   "cell_type": "code",
   "execution_count": 74,
   "metadata": {},
   "outputs": [
    {
     "data": {
      "text/latex": [
       "$\\displaystyle 1 - \\frac{c_{1}^{\\dagger} c_{2}^{\\dagger}}{2} - \\frac{c_{1}^{\\dagger} c_{2}^{\\dagger} c_{1} c_{2}}{2} - \\frac{c_{1}^{\\dagger} c_{1}}{2} - \\frac{c_{2}^{\\dagger} c_{2}}{2} + \\frac{c_{1} c_{2}}{2}$"
      ],
      "text/plain": [
       "1 - Dagger(c_1)*Dagger(c_2)/2 - Dagger(c_1)*Dagger(c_2)*c_1*c_2/2 - Dagger(c_1)*c_1/2 - Dagger(c_2)*c_2/2 + c_1*c_2/2"
      ]
     },
     "execution_count": 74,
     "metadata": {},
     "output_type": "execute_result"
    }
   ],
   "source": [
    "recursiveapply((Dagger(s)*s).expand().subs(g2c).expand(),normalorder2_C)"
   ]
  },
  {
   "cell_type": "code",
   "execution_count": 75,
   "metadata": {},
   "outputs": [
    {
     "data": {
      "text/latex": [
       "$\\displaystyle \\frac{c_{1}^{\\dagger} c_{2}^{\\dagger}}{2} + \\frac{c_{1}^{\\dagger} c_{2}^{\\dagger} c_{1} c_{2}}{2} - \\frac{c_{1}^{\\dagger} c_{1}}{2} + \\frac{c_{2}^{\\dagger} c_{2}}{2} - \\frac{c_{1} c_{2}}{2}$"
      ],
      "text/plain": [
       "Dagger(c_1)*Dagger(c_2)/2 + Dagger(c_1)*Dagger(c_2)*c_1*c_2/2 - Dagger(c_1)*c_1/2 + Dagger(c_2)*c_2/2 - c_1*c_2/2"
      ]
     },
     "execution_count": 75,
     "metadata": {},
     "output_type": "execute_result"
    }
   ],
   "source": [
    "recursiveapply((Dagger(s)*I*g[1]*gb[1]*s).expand().subs(g2c).expand(),normalorder2_C)"
   ]
  },
  {
   "cell_type": "code",
   "execution_count": 76,
   "metadata": {},
   "outputs": [
    {
     "data": {
      "text/latex": [
       "$\\displaystyle \\frac{i c_{1}^{\\dagger} c_{2}^{\\dagger}}{2} + \\frac{i c_{1}^{\\dagger} c_{2}}{2} - \\frac{i c_{2}^{\\dagger} c_{1}}{2} + \\frac{i c_{1} c_{2}}{2}$"
      ],
      "text/plain": [
       "I*Dagger(c_1)*Dagger(c_2)/2 + I*Dagger(c_1)*c_2/2 - I*Dagger(c_2)*c_1/2 + I*c_1*c_2/2"
      ]
     },
     "execution_count": 76,
     "metadata": {},
     "output_type": "execute_result"
    }
   ],
   "source": [
    "recursiveapply((Dagger(s)*I*g[1]*g[2]*s).expand().subs(g2c).expand(),normalorder2_C)"
   ]
  },
  {
   "cell_type": "code",
   "execution_count": 77,
   "metadata": {},
   "outputs": [
    {
     "data": {
      "text/latex": [
       "$\\displaystyle -1 + \\frac{c_{1}^{\\dagger} c_{2}^{\\dagger}}{2} + c_{1}^{\\dagger} c_{2}^{\\dagger} c_{1} c_{2} + c_{1}^{\\dagger} c_{1} - \\frac{c_{1}^{\\dagger} c_{2}}{2} - \\frac{c_{2}^{\\dagger} c_{1}}{2} + c_{2}^{\\dagger} c_{2} - \\frac{c_{1} c_{2}}{2}$"
      ],
      "text/plain": [
       "-1 + Dagger(c_1)*Dagger(c_2)/2 + Dagger(c_1)*Dagger(c_2)*c_1*c_2 + Dagger(c_1)*c_1 - Dagger(c_1)*c_2/2 - Dagger(c_2)*c_1/2 + Dagger(c_2)*c_2 - c_1*c_2/2"
      ]
     },
     "execution_count": 77,
     "metadata": {},
     "output_type": "execute_result"
    }
   ],
   "source": [
    "recursiveapply((Dagger(s)*I*g[1]*gb[2]*s).expand().subs(g2c).expand(),normalorder2_C)"
   ]
  },
  {
   "cell_type": "code",
   "execution_count": 78,
   "metadata": {},
   "outputs": [
    {
     "data": {
      "text/latex": [
       "$\\displaystyle -1 + \\frac{c_{1}^{\\dagger} c_{2}^{\\dagger}}{2} + c_{1}^{\\dagger} c_{2}^{\\dagger} c_{1} c_{2} + c_{1}^{\\dagger} c_{1} + \\frac{c_{1}^{\\dagger} c_{2}}{2} + \\frac{c_{2}^{\\dagger} c_{1}}{2} + c_{2}^{\\dagger} c_{2} - \\frac{c_{1} c_{2}}{2}$"
      ],
      "text/plain": [
       "-1 + Dagger(c_1)*Dagger(c_2)/2 + Dagger(c_1)*Dagger(c_2)*c_1*c_2 + Dagger(c_1)*c_1 + Dagger(c_1)*c_2/2 + Dagger(c_2)*c_1/2 + Dagger(c_2)*c_2 - c_1*c_2/2"
      ]
     },
     "execution_count": 78,
     "metadata": {},
     "output_type": "execute_result"
    }
   ],
   "source": [
    "recursiveapply((Dagger(s)*I*gb[1]*g[2]*s).expand().subs(g2c).expand(),normalorder2_C)"
   ]
  },
  {
   "cell_type": "code",
   "execution_count": 79,
   "metadata": {},
   "outputs": [
    {
     "data": {
      "text/latex": [
       "$\\displaystyle - \\frac{i c_{1}^{\\dagger} c_{2}^{\\dagger}}{2} + \\frac{i c_{1}^{\\dagger} c_{2}}{2} - \\frac{i c_{2}^{\\dagger} c_{1}}{2} - \\frac{i c_{1} c_{2}}{2}$"
      ],
      "text/plain": [
       "-I*Dagger(c_1)*Dagger(c_2)/2 + I*Dagger(c_1)*c_2/2 - I*Dagger(c_2)*c_1/2 - I*c_1*c_2/2"
      ]
     },
     "execution_count": 79,
     "metadata": {},
     "output_type": "execute_result"
    }
   ],
   "source": [
    "recursiveapply((Dagger(s)*I*gb[1]*gb[2]*s).expand().subs(g2c).expand(),normalorder2_C)"
   ]
  },
  {
   "cell_type": "code",
   "execution_count": 80,
   "metadata": {},
   "outputs": [
    {
     "data": {
      "text/latex": [
       "$\\displaystyle \\frac{c_{1}^{\\dagger} c_{2}^{\\dagger}}{2} + \\frac{c_{1}^{\\dagger} c_{2}^{\\dagger} c_{1} c_{2}}{2} + \\frac{c_{1}^{\\dagger} c_{1}}{2} - \\frac{c_{2}^{\\dagger} c_{2}}{2} - \\frac{c_{1} c_{2}}{2}$"
      ],
      "text/plain": [
       "Dagger(c_1)*Dagger(c_2)/2 + Dagger(c_1)*Dagger(c_2)*c_1*c_2/2 + Dagger(c_1)*c_1/2 - Dagger(c_2)*c_2/2 - c_1*c_2/2"
      ]
     },
     "execution_count": 80,
     "metadata": {},
     "output_type": "execute_result"
    }
   ],
   "source": [
    "recursiveapply((Dagger(s)*I*g[2]*gb[2]*s).expand().subs(g2c).expand(),normalorder2_C)"
   ]
  },
  {
   "cell_type": "code",
   "execution_count": 56,
   "metadata": {},
   "outputs": [],
   "source": [
    "s0=Dagger(c[1]-c[2])/sqrt(2)"
   ]
  },
  {
   "cell_type": "code",
   "execution_count": 57,
   "metadata": {},
   "outputs": [
    {
     "data": {
      "text/latex": [
       "$\\displaystyle 1 - \\frac{c_{1}^{\\dagger} c_{1}}{2} + \\frac{c_{1}^{\\dagger} c_{2}}{2} + \\frac{c_{2}^{\\dagger} c_{1}}{2} - \\frac{c_{2}^{\\dagger} c_{2}}{2}$"
      ],
      "text/plain": [
       "1 - Dagger(c_1)*c_1/2 + Dagger(c_1)*c_2/2 + Dagger(c_2)*c_1/2 - Dagger(c_2)*c_2/2"
      ]
     },
     "execution_count": 57,
     "metadata": {},
     "output_type": "execute_result"
    }
   ],
   "source": [
    "recursiveapply((Dagger(s0)*s0).expand().subs(g2c).expand(),normalorder2_C)"
   ]
  },
  {
   "cell_type": "code",
   "execution_count": 58,
   "metadata": {},
   "outputs": [
    {
     "data": {
      "text/latex": [
       "$\\displaystyle - c_{1}^{\\dagger} c_{2}^{\\dagger} c_{1} c_{2} - \\frac{c_{1}^{\\dagger} c_{1}}{2} - \\frac{c_{1}^{\\dagger} c_{2}}{2} - \\frac{c_{2}^{\\dagger} c_{1}}{2} - \\frac{c_{2}^{\\dagger} c_{2}}{2}$"
      ],
      "text/plain": [
       "-Dagger(c_1)*Dagger(c_2)*c_1*c_2 - Dagger(c_1)*c_1/2 - Dagger(c_1)*c_2/2 - Dagger(c_2)*c_1/2 - Dagger(c_2)*c_2/2"
      ]
     },
     "execution_count": 58,
     "metadata": {},
     "output_type": "execute_result"
    }
   ],
   "source": [
    "recursiveapply((Dagger(s0)*I*g[1]*gb[1]*s0).expand().subs(g2c).expand(),normalorder2_C)"
   ]
  },
  {
   "cell_type": "code",
   "execution_count": null,
   "metadata": {},
   "outputs": [
    {
     "data": {
      "text/latex": [
       "$\\displaystyle 0$"
      ],
      "text/plain": [
       "0"
      ]
     },
     "metadata": {},
     "output_type": "display_data"
    }
   ],
   "source": [
    "recursiveapply((Dagger(s0)*I*g[1]*g[2]*s0).expand().subs(g2c).expand(),normalorder2_C)"
   ]
  },
  {
   "cell_type": "code",
   "execution_count": 56,
   "metadata": {},
   "outputs": [
    {
     "data": {
      "text/latex": [
       "$\\displaystyle 1 - c_{1}^{\\dagger} c_{2}^{\\dagger} c_{1} c_{2} - c_{1}^{\\dagger} c_{1} - c_{2}^{\\dagger} c_{2}$"
      ],
      "text/plain": [
       "1 - Dagger(c_1)*Dagger(c_2)*c_1*c_2 - Dagger(c_1)*c_1 - Dagger(c_2)*c_2"
      ]
     },
     "execution_count": 56,
     "metadata": {},
     "output_type": "execute_result"
    }
   ],
   "source": [
    "recursiveapply((Dagger(s0)*I*g[1]*gb[2]*s0).expand().subs(g2c).expand(),normalorder2_C)"
   ]
  },
  {
   "cell_type": "code",
   "execution_count": 86,
   "metadata": {},
   "outputs": [
    {
     "data": {
      "text/latex": [
       "$\\displaystyle -1 + 4 c_{1}^{\\dagger} c_{2}^{\\dagger} c_{1} c_{2} + 2 c_{1}^{\\dagger} c_{1} + 2 c_{2}^{\\dagger} c_{2}$"
      ],
      "text/plain": [
       "-1 + 4*Dagger(c_1)*Dagger(c_2)*c_1*c_2 + 2*Dagger(c_1)*c_1 + 2*Dagger(c_2)*c_2"
      ]
     },
     "execution_count": 86,
     "metadata": {},
     "output_type": "execute_result"
    }
   ],
   "source": [
    "recursiveapply((g[1]*g[2]*(I*gb[1]*I*gb[2])).expand().subs(g2c).expand(),normalorder2_C)"
   ]
  },
  {
   "cell_type": "code",
   "execution_count": null,
   "metadata": {},
   "outputs": [],
   "source": []
  }
 ],
 "metadata": {
  "kernelspec": {
   "display_name": "base",
   "language": "python",
   "name": "python3"
  },
  "language_info": {
   "codemirror_mode": {
    "name": "ipython",
    "version": 3
   },
   "file_extension": ".py",
   "mimetype": "text/x-python",
   "name": "python",
   "nbconvert_exporter": "python",
   "pygments_lexer": "ipython3",
   "version": "3.8.11"
  },
  "orig_nbformat": 4,
  "vscode": {
   "interpreter": {
    "hash": "8763e5ea16b716ad1eeffeab5f34109bd722594d0305e114e3d37565ed57b2a4"
   }
  }
 },
 "nbformat": 4,
 "nbformat_minor": 2
}
