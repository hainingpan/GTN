{
 "cells": [
  {
   "cell_type": "code",
   "execution_count": 1,
   "metadata": {},
   "outputs": [],
   "source": [
    "from sympy import *\n",
    "from sympy.physics.quantum import *"
   ]
  },
  {
   "cell_type": "code",
   "execution_count": 19,
   "metadata": {},
   "outputs": [],
   "source": [
    "p=Symbol('p',real=True)"
   ]
  },
  {
   "cell_type": "code",
   "execution_count": 58,
   "metadata": {},
   "outputs": [],
   "source": [
    "alpha=Symbol('alpha',real=True)\n",
    "beta=Symbol('beta',real=True)"
   ]
  },
  {
   "cell_type": "code",
   "execution_count": 2,
   "metadata": {},
   "outputs": [],
   "source": [
    "g={i:Operator('\\gamma_{}'.format(i)) for i in range(1,5)}"
   ]
  },
  {
   "cell_type": "code",
   "execution_count": 3,
   "metadata": {},
   "outputs": [],
   "source": [
    "selfjoint=[(Dagger(gi),gi) for gi in g.values()]"
   ]
  },
  {
   "cell_type": "code",
   "execution_count": 5,
   "metadata": {},
   "outputs": [],
   "source": [
    "squareone=[(gi**2,1) for gi in g.values()]"
   ]
  },
  {
   "cell_type": "code",
   "execution_count": 8,
   "metadata": {},
   "outputs": [],
   "source": [
    "normalorder=[g[i] for i in range(1,len(g)+1)]"
   ]
  },
  {
   "cell_type": "code",
   "execution_count": 10,
   "metadata": {},
   "outputs": [],
   "source": [
    "normalorder2=[(normalorder[j]*normalorder[i],-normalorder[i]*normalorder[j]) for i in range(len(normalorder)) for j in range(i+1,len(normalorder))]"
   ]
  },
  {
   "cell_type": "code",
   "execution_count": 11,
   "metadata": {},
   "outputs": [
    {
     "data": {
      "text/plain": [
       "[(\\gamma_2*\\gamma_1, -\\gamma_1*\\gamma_2),\n",
       " (\\gamma_3*\\gamma_1, -\\gamma_1*\\gamma_3),\n",
       " (\\gamma_4*\\gamma_1, -\\gamma_1*\\gamma_4),\n",
       " (\\gamma_3*\\gamma_2, -\\gamma_2*\\gamma_3),\n",
       " (\\gamma_4*\\gamma_2, -\\gamma_2*\\gamma_4),\n",
       " (\\gamma_4*\\gamma_3, -\\gamma_3*\\gamma_4)]"
      ]
     },
     "execution_count": 11,
     "metadata": {},
     "output_type": "execute_result"
    }
   ],
   "source": [
    "normalorder2"
   ]
  },
  {
   "cell_type": "code",
   "execution_count": 20,
   "metadata": {},
   "outputs": [],
   "source": [
    "P=(1+p*I*g[2]*g[3])/2"
   ]
  },
  {
   "cell_type": "code",
   "execution_count": 32,
   "metadata": {},
   "outputs": [],
   "source": [
    "p2=[(p**2,1)]"
   ]
  },
  {
   "cell_type": "code",
   "execution_count": 21,
   "metadata": {},
   "outputs": [
    {
     "data": {
      "text/latex": [
       "$\\displaystyle \\frac{- i p \\gamma_{3}^{\\dagger} \\gamma_{2}^{\\dagger} + 1}{2}$"
      ],
      "text/plain": [
       "(-I*p*Dagger(\\gamma_3)*Dagger(\\gamma_2) + 1)/2"
      ]
     },
     "execution_count": 21,
     "metadata": {},
     "output_type": "execute_result"
    }
   ],
   "source": [
    "Dagger(P)"
   ]
  },
  {
   "cell_type": "code",
   "execution_count": 45,
   "metadata": {},
   "outputs": [],
   "source": [
    "def simp(expr,normalorder,squareone):\n",
    "    expr1=expr.subs(normalorder).subs(squareone)\n",
    "    while not expr1== expr:\n",
    "        expr=expr1\n",
    "        expr1=expr.subs(normalorder).subs(squareone)\n",
    "    return expr1"
   ]
  },
  {
   "cell_type": "code",
   "execution_count": 33,
   "metadata": {},
   "outputs": [
    {
     "data": {
      "text/latex": [
       "$\\displaystyle - \\frac{p \\gamma_{1} \\gamma_{2} \\gamma_{3} \\gamma_{4}}{2} + \\frac{i \\gamma_{1} \\gamma_{4}}{2}$"
      ],
      "text/plain": [
       "-p*\\gamma_1*\\gamma_2*\\gamma_3*\\gamma_4/2 + I*\\gamma_1*\\gamma_4/2"
      ]
     },
     "execution_count": 33,
     "metadata": {},
     "output_type": "execute_result"
    }
   ],
   "source": [
    "recursiveapply((Dagger(P)*(I*g[1]*g[4])*P).expand().subs(selfjoint),normalorder2).subs(squareone).subs(p2)"
   ]
  },
  {
   "cell_type": "code",
   "execution_count": 57,
   "metadata": {},
   "outputs": [],
   "source": [
    "U12=cos(alpha)+sin(alpha)*g[1]*g[2]"
   ]
  },
  {
   "cell_type": "code",
   "execution_count": 59,
   "metadata": {},
   "outputs": [],
   "source": [
    "U13=cos(beta)+sin(beta)*g[1]*g[3]"
   ]
  },
  {
   "cell_type": "code",
   "execution_count": null,
   "metadata": {},
   "outputs": [],
   "source": [
    "recursiveapply((Dagger(P)*(Dagger(U))*(I*g[1]*g[4])*(U)*P).expand().subs(selfjoint),normalorder2).subs(squareone).subs(p2)"
   ]
  },
  {
   "cell_type": "code",
   "execution_count": 56,
   "metadata": {},
   "outputs": [
    {
     "data": {
      "text/latex": [
       "$\\displaystyle \\frac{\\cos{\\left(2 \\alpha \\right)} \\left(- p \\gamma_{1} \\gamma_{2} \\gamma_{3} \\gamma_{4} + i \\gamma_{1} \\gamma_{4}\\right)}{2}$"
      ],
      "text/plain": [
       "cos(2*alpha)*(-p*\\gamma_1*\\gamma_2*\\gamma_3*\\gamma_4 + I*\\gamma_1*\\gamma_4)/2"
      ]
     },
     "execution_count": 56,
     "metadata": {},
     "output_type": "execute_result"
    }
   ],
   "source": [
    "simp((Dagger(P)*(Dagger(U))*(I*g[1]*g[4])*(U)*P).expand().subs(selfjoint).subs(squareone).subs(p2),normalorder2,squareone).trigsimp()"
   ]
  },
  {
   "cell_type": "code",
   "execution_count": 60,
   "metadata": {},
   "outputs": [
    {
     "data": {
      "text/latex": [
       "$\\displaystyle i \\left(\\sin{\\left(2 \\alpha \\right)} \\gamma_{2} \\gamma_{4} + \\cos{\\left(2 \\alpha \\right)} \\gamma_{1} \\gamma_{4}\\right)$"
      ],
      "text/plain": [
       "I*(sin(2*alpha)*\\gamma_2*\\gamma_4 + cos(2*alpha)*\\gamma_1*\\gamma_4)"
      ]
     },
     "execution_count": 60,
     "metadata": {},
     "output_type": "execute_result"
    }
   ],
   "source": [
    "simp(((Dagger(U12))*(I*g[1]*g[4])*(U12)).expand().subs(selfjoint).subs(squareone).subs(p2),normalorder2,squareone).trigsimp()"
   ]
  },
  {
   "cell_type": "code",
   "execution_count": 62,
   "metadata": {},
   "outputs": [],
   "source": [
    "orig=[(g[i[0]]*g[i[1]],0) for i in [(1,3),(1,4),(2,3),(2,4)]]"
   ]
  },
  {
   "cell_type": "code",
   "execution_count": 64,
   "metadata": {},
   "outputs": [
    {
     "data": {
      "text/latex": [
       "$\\displaystyle i \\left(4 \\sin^{2}{\\left(\\alpha \\right)} \\sin^{2}{\\left(\\beta \\right)} \\gamma_{1} \\gamma_{4} - 4 \\sin^{2}{\\left(\\alpha \\right)} \\sin{\\left(\\beta \\right)} \\cos{\\left(\\beta \\right)} \\gamma_{3} \\gamma_{4} - 2 \\sin^{2}{\\left(\\alpha \\right)} \\gamma_{1} \\gamma_{4} + 2 \\sin{\\left(\\alpha \\right)} \\cos{\\left(\\alpha \\right)} \\gamma_{2} \\gamma_{4} - 2 \\sin^{2}{\\left(\\beta \\right)} \\gamma_{1} \\gamma_{4} + 2 \\sin{\\left(\\beta \\right)} \\cos{\\left(\\beta \\right)} \\gamma_{3} \\gamma_{4} + \\gamma_{1} \\gamma_{4}\\right)$"
      ],
      "text/plain": [
       "I*(4*sin(alpha)**2*sin(beta)**2*\\gamma_1*\\gamma_4 - 4*sin(alpha)**2*sin(beta)*cos(beta)*\\gamma_3*\\gamma_4 - 2*sin(alpha)**2*\\gamma_1*\\gamma_4 + 2*sin(alpha)*cos(alpha)*\\gamma_2*\\gamma_4 - 2*sin(beta)**2*\\gamma_1*\\gamma_4 + 2*sin(beta)*cos(beta)*\\gamma_3*\\gamma_4 + \\gamma_1*\\gamma_4)"
      ]
     },
     "execution_count": 64,
     "metadata": {},
     "output_type": "execute_result"
    }
   ],
   "source": [
    "simp(((Dagger(U12*U13))*(I*g[1]*g[4])*(U12*U13)).expand().subs(selfjoint).subs(squareone).subs(p2),normalorder2,squareone).trigsimp()"
   ]
  },
  {
   "cell_type": "code",
   "execution_count": 54,
   "metadata": {},
   "outputs": [
    {
     "data": {
      "text/latex": [
       "$\\displaystyle - \\frac{p \\gamma_{1} \\gamma_{2} \\gamma_{3} \\gamma_{4}}{2} + \\frac{i \\gamma_{1} \\gamma_{4}}{2}$"
      ],
      "text/plain": [
       "-p*\\gamma_1*\\gamma_2*\\gamma_3*\\gamma_4/2 + I*\\gamma_1*\\gamma_4/2"
      ]
     },
     "execution_count": 54,
     "metadata": {},
     "output_type": "execute_result"
    }
   ],
   "source": [
    "simp((Dagger(P)*(I*g[1]*g[4])*P).expand().subs(selfjoint).subs(p2),normalorder2,squareone)"
   ]
  },
  {
   "cell_type": "code",
   "execution_count": 55,
   "metadata": {},
   "outputs": [
    {
     "data": {
      "text/latex": [
       "$\\displaystyle 0$"
      ],
      "text/plain": [
       "0"
      ]
     },
     "execution_count": 55,
     "metadata": {},
     "output_type": "execute_result"
    }
   ],
   "source": [
    "simp((Dagger(P)*(I*g[2]*g[4])*P).expand().subs(selfjoint).subs(p2),normalorder2,squareone)"
   ]
  },
  {
   "cell_type": "code",
   "execution_count": null,
   "metadata": {},
   "outputs": [],
   "source": []
  }
 ],
 "metadata": {
  "kernelspec": {
   "display_name": "base",
   "language": "python",
   "name": "python3"
  },
  "language_info": {
   "codemirror_mode": {
    "name": "ipython",
    "version": 3
   },
   "file_extension": ".py",
   "mimetype": "text/x-python",
   "name": "python",
   "nbconvert_exporter": "python",
   "pygments_lexer": "ipython3",
   "version": "3.10.9"
  },
  "orig_nbformat": 4
 },
 "nbformat": 4,
 "nbformat_minor": 2
}
