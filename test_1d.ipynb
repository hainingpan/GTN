{
 "cells": [
  {
   "cell_type": "code",
   "execution_count": 2,
   "metadata": {},
   "outputs": [],
   "source": [
    "import matplotlib.pyplot as plt\n",
    "import time\n",
    "import pickle\n",
    "import scipy.stats\n",
    "from scipy import interpolate\n",
    "from copy import copy\n",
    "import pandas as pd\n",
    "from matplotlib.animation import FuncAnimation\n",
    "from scipy.stats import rv_continuous\n",
    "from tqdm import tqdm\n",
    "from itertools import permutations\n",
    "\n",
    "import numpy as np\n",
    "import scipy.linalg as la\n",
    "import numpy.linalg as nla\n",
    "import numpy.matlib\n",
    "import itertools\n",
    "\n",
    "\n",
    "\n",
    "plt.rcParams['text.usetex']=True\n",
    "plt.rcParams['font.family']='serif'\n",
    "plt.rcParams['font.size']=9\n",
    "plt.rcParams['axes.titlesize']=plt.rcParams['font.size']\n",
    "plt.rcParams['figure.figsize']=(6.8,4)\n",
    "plt.rcParams['text.latex.preamble']=r'\\usepackage{amsmath,amssymb,physics,bm}'"
   ]
  },
  {
   "cell_type": "code",
   "execution_count": 187,
   "metadata": {},
   "outputs": [],
   "source": [
    "from importlib import reload\n",
    "\n",
    "import GTN\n",
    "reload(GTN)\n",
    "from GTN import *"
   ]
  },
  {
   "cell_type": "markdown",
   "metadata": {},
   "source": [
    "# Test"
   ]
  },
  {
   "cell_type": "code",
   "execution_count": 188,
   "metadata": {},
   "outputs": [],
   "source": [
    "gtn=GTN(L=16,seed=1,op=False,random_init=True)\n",
    "# gtn.set(ij_list=[[0,1]],n_list=[-1])"
   ]
  },
  {
   "cell_type": "code",
   "execution_count": 189,
   "metadata": {},
   "outputs": [],
   "source": [
    "def measure_feedback_layer():\n",
    "    for i in range(1,gtn.L//2,2):\n",
    "        # print([i,(i+1)%(gtn.L//2)])\n",
    "        gtn.measure_feedback_AIII([i,(i+1)%(gtn.L//2)],feedback=True)"
   ]
  },
  {
   "cell_type": "code",
   "execution_count": 190,
   "metadata": {},
   "outputs": [],
   "source": [
    "\n",
    "def randomize():\n",
    "    for i in range(gtn.L,2*gtn.L):\n",
    "        print([i, (i+1)%(2*gtn.L)])\n",
    "        gtn.randomize([i, (i+1)%(2*gtn.L)])\n"
   ]
  },
  {
   "cell_type": "code",
   "execution_count": 191,
   "metadata": {},
   "outputs": [
    {
     "name": "stdout",
     "output_type": "stream",
     "text": [
      "[18, 19] [20, 21]\n",
      "[22, 23] [24, 25]\n",
      "[26, 27] [28, 29]\n",
      "[30, 31] [16, 17]\n",
      "[16, 17]\n",
      "[17, 18]\n",
      "[18, 19]\n",
      "[19, 20]\n",
      "[20, 21]\n",
      "[21, 22]\n",
      "[22, 23]\n",
      "[23, 24]\n",
      "[24, 25]\n",
      "[25, 26]\n",
      "[26, 27]\n",
      "[27, 28]\n",
      "[28, 29]\n",
      "[29, 30]\n",
      "[30, 31]\n",
      "[31, 0]\n",
      "[18, 19] [20, 21]\n",
      "[22, 23] [24, 25]\n",
      "[26, 27] [28, 29]\n",
      "[30, 31] [16, 17]\n"
     ]
    }
   ],
   "source": [
    "measure_feedback_layer()\n",
    "randomize()\n",
    "measure_feedback_layer()"
   ]
  },
  {
   "cell_type": "code",
   "execution_count": 249,
   "metadata": {},
   "outputs": [
    {
     "data": {
      "image/png": "[encoded data removed]",
      "text/plain": [
       "<Figure size 680x400 with 2 Axes>"
      ]
     },
     "metadata": {},
     "output_type": "display_data"
    }
   ],
   "source": [
    "fig,ax=plt.subplots()\n",
    "i=0\n",
    "im=ax.imshow(gtn.C_m_history[i],cmap='bwr',vmin=-1,vmax=1,extent=[0,gtn.L-1,gtn.L-1,0])\n",
    "plt.colorbar(im)\n",
    "if i>0:\n",
    "    ax.set_title(parse_text(gtn.n_history[i-1], gtn.i_history[i-1]))\n",
    "else:\n",
    "    ax.set_title('Random initial state')"
   ]
  },
  {
   "cell_type": "markdown",
   "metadata": {},
   "source": [
    "## Create animation"
   ]
  },
  {
   "cell_type": "code",
   "execution_count": 250,
   "metadata": {},
   "outputs": [],
   "source": [
    "import matplotlib.animation as animation"
   ]
  },
  {
   "cell_type": "code",
   "execution_count": 251,
   "metadata": {},
   "outputs": [],
   "source": [
    "def update(frame):\n",
    "    im.set_data(gtn.C_m_history[frame])\n",
    "    if frame > 0:\n",
    "        ax.set_title(parse_text(gtn.n_history[frame-1], gtn.i_history[frame-1]))\n",
    "    else:\n",
    "        ax.set_title('Random initial state')\n",
    "    return im, ax"
   ]
  },
  {
   "cell_type": "code",
   "execution_count": 252,
   "metadata": {},
   "outputs": [],
   "source": [
    "ani = animation.FuncAnimation(\n",
    "    fig, \n",
    "    update, \n",
    "    frames=range(35),  # Generate frames from 0 to 40\n",
    "    blit=False    # Blit optimizes the rendering\n",
    ")"
   ]
  },
  {
   "cell_type": "code",
   "execution_count": 253,
   "metadata": {},
   "outputs": [],
   "source": [
    "ani.save('animation_1.mp4', writer='ffmpeg', fps=1,dpi=200)"
   ]
  },
  {
   "cell_type": "code",
   "execution_count": null,
   "metadata": {},
   "outputs": [],
   "source": []
  },
  {
   "cell_type": "code",
   "execution_count": null,
   "metadata": {},
   "outputs": [],
   "source": [
    "def parse_text(n_history,i_history):\n",
    "    "
   ]
  },
  {
   "cell_type": "code",
   "execution_count": 166,
   "metadata": {},
   "outputs": [],
   "source": [
    "# def parse_text(n_history,i_history):\n",
    "#     if len(i_history) ==4 and len(n_history)==4 and len(n_history[-1])==2:\n",
    "#         return parse_top(n_history,i_history)\n",
    "#     if len(i_history) ==2 and len(n_history)==3 and np.abs(n_history[0])==1:\n",
    "#         return parse_bottom(n_history,i_history)\n",
    "#     if len(i_history) ==6 and len(n_history)==2 and n_history[1] is None:\n",
    "#         return parse_top_to_bottom(n_history,i_history)\n",
    "#     if len(i_history) ==6 and len(n_history)==2 and n_history[0] is None:\n",
    "#         return parse_bottom_to_top(n_history,i_history)\n",
    "#     if len(i_history) ==4 and len(n_history)==2 and (n_history[0] is not None) and (n_history[1] is not None):\n",
    "#         return parse_top_flip(n_history,i_history)\n",
    "#     if len(i_history) ==2 and len(n_history)==3 and np.abs(n_history[0])<1:\n",
    "#         return parse_randominze(n_history,i_history)\n"
   ]
  },
  {
   "cell_type": "code",
   "execution_count": 94,
   "metadata": {},
   "outputs": [
    {
     "data": {
      "text/plain": [
       "1"
      ]
     },
     "execution_count": 94,
     "metadata": {},
     "output_type": "execute_result"
    }
   ],
   "source": [
    "len(gtn.n_history[2])"
   ]
  },
  {
   "cell_type": "code",
   "execution_count": 193,
   "metadata": {},
   "outputs": [
    {
     "data": {
      "text/plain": [
       "(([1, -1], 0), [2, 3, 4, 5])"
      ]
     },
     "execution_count": 193,
     "metadata": {},
     "output_type": "execute_result"
    }
   ],
   "source": [
    "gtn.n_history[0], gtn.i_history[0]"
   ]
  },
  {
   "cell_type": "code",
   "execution_count": 239,
   "metadata": {},
   "outputs": [
    {
     "data": {
      "text/plain": [
       "(array([ 0.       , -0.7714907, -0.6362406]), [16, 17])"
      ]
     },
     "execution_count": 239,
     "metadata": {},
     "output_type": "execute_result"
    }
   ],
   "source": [
    "gtn.n_history[23], gtn.i_history[23]"
   ]
  },
  {
   "cell_type": "code",
   "execution_count": 241,
   "metadata": {},
   "outputs": [
    {
     "data": {
      "text/plain": [
       "'Random unitary on ($\\\\gamma_0$,bottom) and ($\\\\bar{\\\\gamma}_0$,bottom)'"
      ]
     },
     "execution_count": 241,
     "metadata": {},
     "output_type": "execute_result"
    }
   ],
   "source": [
    "parse_text(gtn.n_history[23], gtn.i_history[23])"
   ]
  },
  {
   "cell_type": "code",
   "execution_count": 221,
   "metadata": {},
   "outputs": [
    {
     "data": {
      "text/plain": [
       "[[1, 1], [1]]"
      ]
     },
     "execution_count": 221,
     "metadata": {},
     "output_type": "execute_result"
    }
   ],
   "source": [
    "gtn.n_history[5]"
   ]
  },
  {
   "cell_type": "code",
   "execution_count": 220,
   "metadata": {},
   "outputs": [
    {
     "data": {
      "text/plain": [
       "[2, 3, 4, 5, 20, 21]"
      ]
     },
     "execution_count": 220,
     "metadata": {},
     "output_type": "execute_result"
    }
   ],
   "source": [
    "gtn.i_history[5]"
   ]
  },
  {
   "cell_type": "code",
   "execution_count": 240,
   "metadata": {},
   "outputs": [],
   "source": [
    "def parse_text(n_history,i_history):\n",
    "    if len(i_history) ==2 and len(n_history)==3 and np.abs(n_history[0])<1:\n",
    "        return parse_randominze(n_history,i_history)\n",
    "    if len(i_history)<=4:\n",
    "        return parse_single_mode(n_history,i_history)\n",
    "    if len(i_history)==6:\n",
    "        return parse_fSWAP(n_history,i_history)\n",
    "    \n"
   ]
  },
  {
   "cell_type": "code",
   "execution_count": 235,
   "metadata": {},
   "outputs": [],
   "source": [
    "def parse_single_mode(n_history,i_history):\n",
    "    mode, n = n_history\n",
    "    if mode == [1]:\n",
    "        idx=(i_history[0] - gtn.L)//2\n",
    "        return f'Measure ({idx},bottom) with charge {n}'\n",
    "    if mode == [1,1] or mode == [1,-1]:\n",
    "        idx = i_history\n",
    "        return f'Measure the mode ({idx[0]//2},top {\"+\" if mode[1]==1 else \"-\"} {idx[2]//2},top) with charge {n}'\n"
   ]
  },
  {
   "cell_type": "code",
   "execution_count": 248,
   "metadata": {},
   "outputs": [],
   "source": [
    "def parse_fSWAP(n_history,i_history):\n",
    "    mode , _ =n_history\n",
    "    idx = i_history\n",
    "    return f'Swap between ({idx[0]//2},top {\"+\" if mode[1]==1 else \"-\"} {idx[2]//2},top) and {(idx[4]-gtn.L)//2} bottom'"
   ]
  },
  {
   "cell_type": "code",
   "execution_count": 225,
   "metadata": {},
   "outputs": [
    {
     "data": {
      "text/plain": [
       "'Swap between (1,top + 2,top) and 2'"
      ]
     },
     "execution_count": 225,
     "metadata": {},
     "output_type": "execute_result"
    }
   ],
   "source": [
    "parse_fSWAP(gtn.n_history[5],gtn.i_history[5])"
   ]
  },
  {
   "cell_type": "code",
   "execution_count": null,
   "metadata": {},
   "outputs": [],
   "source": [
    "for i in range(len(gtn.n_history)):\n",
    "    parse_text(gtn.n_history[i],gtn.i_history[i]) "
   ]
  },
  {
   "cell_type": "code",
   "execution_count": null,
   "metadata": {},
   "outputs": [
    {
     "data": {
      "text/plain": [
       "'Measure (2,bottom) with charge 1'"
      ]
     },
     "metadata": {},
     "output_type": "display_data"
    }
   ],
   "source": [
    "parse_single_mode(gtn.n_history[1],gtn.i_history[1])"
   ]
  },
  {
   "cell_type": "code",
   "execution_count": 177,
   "metadata": {},
   "outputs": [],
   "source": [
    "def parse_top(n_history,i_history):\n",
    "    kind = n_history[-1]\n",
    "    idx = i_history\n",
    "    outcome={(-1,-1):'00',(-1,1):'-',(1,-1):'+',(1,1):'11'}\n",
    "    return f'Measure ({idx[0]//2},top and {idx[2]//2},top) with outcome $|{outcome[kind]}\\\\rangle$'\n",
    "\n",
    "def parse_bottom(n_history,i_history):\n",
    "    kind = n_history[0]\n",
    "    outcome = {1:1,-1:0}\n",
    "    idx=(i_history[0]-gtn.L)//2\n",
    "    return f'Measure ({idx},bottom) with outcome $|{outcome[kind]}\\\\rangle$'\n",
    "def parse_randominze(n_history,i_history):\n",
    "    idx=[(i-gtn.L)%gtn.L for i in i_history]\n",
    "    if i_history[0]%2==0:\n",
    "        return f'Random unitary on ($\\gamma_{idx[0]//2}$,bottom) and ($\\\\bar{{\\gamma}}_{idx[1]//2}$,bottom)'\n",
    "    else:\n",
    "        return f'Random unitary on ($\\\\bar{{\\gamma}}_{idx[0]//2}$,bottom) and ($\\gamma_{idx[1]//2}$,bottom)'\n",
    "\n",
    "def parse_top_flip(n_history,i_history):\n",
    "    source=[i_history[0]//2,i_history[2]//2]\n",
    "    return f'Flip from ({source[0]},top + {source[1]},top) to ({source[0]},top - {source[1]},top)'\n",
    "def parse_top_to_bottom(n_history,i_history):\n",
    "    target=(i_history[-2]-gtn.L)//2\n",
    "    source=[i_history[0]//2,i_history[2]//2]\n",
    "\n",
    "    return f'Deplete mode ({source[0]},top + {source[1]},top) to ({target},bottom) '\n",
    "\n",
    "def parse_bottom_to_top(n_history,i_history):\n",
    "    source=(i_history[-2]-gtn.L)//2\n",
    "    target=[i_history[0]//2,i_history[2]//2]\n",
    "    return f'Fill mode ({target[0]},top - {target[1]},top) from ({source},bottom) '\n"
   ]
  },
  {
   "cell_type": "code",
   "execution_count": 179,
   "metadata": {},
   "outputs": [
    {
     "ename": "TypeError",
     "evalue": "unhashable type: 'list'",
     "output_type": "error",
     "traceback": [
      "\u001b[0;31m---------------------------------------------------------------------------\u001b[0m",
      "\u001b[0;31mTypeError\u001b[0m                                 Traceback (most recent call last)",
      "Cell \u001b[0;32mIn[179], line 1\u001b[0m\n\u001b[0;32m----> 1\u001b[0m parse_top(gtn\u001b[38;5;241m.\u001b[39mn_history[\u001b[38;5;241m0\u001b[39m], gtn\u001b[38;5;241m.\u001b[39mi_history[\u001b[38;5;241m0\u001b[39m])\n",
      "Cell \u001b[0;32mIn[177], line 5\u001b[0m, in \u001b[0;36mparse_top\u001b[0;34m(n_history, i_history)\u001b[0m\n\u001b[1;32m      3\u001b[0m idx \u001b[38;5;241m=\u001b[39m i_history\n\u001b[1;32m      4\u001b[0m outcome\u001b[38;5;241m=\u001b[39m{(\u001b[38;5;241m-\u001b[39m\u001b[38;5;241m1\u001b[39m,\u001b[38;5;241m-\u001b[39m\u001b[38;5;241m1\u001b[39m):\u001b[38;5;124m'\u001b[39m\u001b[38;5;124m00\u001b[39m\u001b[38;5;124m'\u001b[39m,(\u001b[38;5;241m-\u001b[39m\u001b[38;5;241m1\u001b[39m,\u001b[38;5;241m1\u001b[39m):\u001b[38;5;124m'\u001b[39m\u001b[38;5;124m-\u001b[39m\u001b[38;5;124m'\u001b[39m,(\u001b[38;5;241m1\u001b[39m,\u001b[38;5;241m-\u001b[39m\u001b[38;5;241m1\u001b[39m):\u001b[38;5;124m'\u001b[39m\u001b[38;5;124m+\u001b[39m\u001b[38;5;124m'\u001b[39m,(\u001b[38;5;241m1\u001b[39m,\u001b[38;5;241m1\u001b[39m):\u001b[38;5;124m'\u001b[39m\u001b[38;5;124m11\u001b[39m\u001b[38;5;124m'\u001b[39m}\n\u001b[0;32m----> 5\u001b[0m \u001b[38;5;28;01mreturn\u001b[39;00m \u001b[38;5;124mf\u001b[39m\u001b[38;5;124m'\u001b[39m\u001b[38;5;124mMeasure (\u001b[39m\u001b[38;5;132;01m{\u001b[39;00midx[\u001b[38;5;241m0\u001b[39m]\u001b[38;5;241m/\u001b[39m\u001b[38;5;241m/\u001b[39m\u001b[38;5;241m2\u001b[39m\u001b[38;5;132;01m}\u001b[39;00m\u001b[38;5;124m,top and \u001b[39m\u001b[38;5;132;01m{\u001b[39;00midx[\u001b[38;5;241m2\u001b[39m]\u001b[38;5;241m/\u001b[39m\u001b[38;5;241m/\u001b[39m\u001b[38;5;241m2\u001b[39m\u001b[38;5;132;01m}\u001b[39;00m\u001b[38;5;124m,top) with outcome $|\u001b[39m\u001b[38;5;132;01m{\u001b[39;00moutcome[kind]\u001b[38;5;132;01m}\u001b[39;00m\u001b[38;5;130;01m\\\\\u001b[39;00m\u001b[38;5;124mrangle$\u001b[39m\u001b[38;5;124m'\u001b[39m\n",
      "\u001b[0;31mTypeError\u001b[0m: unhashable type: 'list'"
     ]
    }
   ],
   "source": [
    "parse_top(gtn.n_history[0], gtn.i_history[0])\n",
    "# (parse_text(gtn.n_history[32], gtn.i_history[32]))"
   ]
  },
  {
   "cell_type": "code",
   "execution_count": null,
   "metadata": {},
   "outputs": [],
   "source": [
    "'Transfer '"
   ]
  },
  {
   "cell_type": "code",
   "execution_count": 177,
   "metadata": {},
   "outputs": [
    {
     "data": {
      "text/plain": [
       "8"
      ]
     },
     "execution_count": 177,
     "metadata": {},
     "output_type": "execute_result"
    }
   ],
   "source": [
    "len(gtn.i_history)"
   ]
  },
  {
   "cell_type": "code",
   "execution_count": 139,
   "metadata": {},
   "outputs": [
    {
     "data": {
      "text/plain": [
       "<matplotlib.image.AxesImage at 0x7f60762c3210>"
      ]
     },
     "execution_count": 139,
     "metadata": {},
     "output_type": "execute_result"
    },
    {
     "data": {
      "image/png": "[encoded data removed]",
      "text/plain": [
       "<Figure size 680x400 with 1 Axes>"
      ]
     },
     "metadata": {},
     "output_type": "display_data"
    }
   ],
   "source": [
    "# plt.imshow(op_state_transfer(source=None,target='-t'))\n",
    "plt.imshow(op_state_transfer(source='+t',target=None))"
   ]
  },
  {
   "cell_type": "code",
   "execution_count": 131,
   "metadata": {},
   "outputs": [],
   "source": [
    "gtn.state_transfer([12,13,14,15],source='+t',target='-t')"
   ]
  },
  {
   "cell_type": "code",
   "execution_count": 125,
   "metadata": {},
   "outputs": [
    {
     "data": {
      "text/plain": [
       "<matplotlib.colorbar.Colorbar at 0x7f6076929b50>"
      ]
     },
     "execution_count": 125,
     "metadata": {},
     "output_type": "execute_result"
    },
    {
     "data": {
      "image/png": "[encoded data removed]",
      "text/plain": [
       "<Figure size 680x400 with 2 Axes>"
      ]
     },
     "metadata": {},
     "output_type": "display_data"
    }
   ],
   "source": [
    "plt.imshow(gtn.C_m)\n",
    "plt.colorbar()"
   ]
  },
  {
   "cell_type": "code",
   "execution_count": null,
   "metadata": {},
   "outputs": [],
   "source": []
  },
  {
   "cell_type": "markdown",
   "metadata": {},
   "source": [
    "# Draft"
   ]
  },
  {
   "cell_type": "code",
   "execution_count": 60,
   "metadata": {},
   "outputs": [
    {
     "data": {
      "text/plain": [
       "1.0"
      ]
     },
     "execution_count": 60,
     "metadata": {},
     "output_type": "execute_result"
    }
   ],
   "source": [
    "gtn.measure_charge(legs=[0,1])"
   ]
  },
  {
   "cell_type": "code",
   "execution_count": 197,
   "metadata": {},
   "outputs": [
    {
     "data": {
      "text/plain": [
       "<matplotlib.image.AxesImage at 0x7f60737e9e90>"
      ]
     },
     "execution_count": 197,
     "metadata": {},
     "output_type": "execute_result"
    },
    {
     "data": {
      "image/png": "[encoded data removed]",
      "text/plain": [
       "<Figure size 680x400 with 1 Axes>"
      ]
     },
     "metadata": {},
     "output_type": "display_data"
    }
   ],
   "source": [
    "plt.imshow(op_state_transfer(target='-t',source=None))"
   ]
  },
  {
   "cell_type": "code",
   "execution_count": 196,
   "metadata": {},
   "outputs": [
    {
     "data": {
      "text/plain": [
       "<matplotlib.image.AxesImage at 0x7f60737d51d0>"
      ]
     },
     "execution_count": 196,
     "metadata": {},
     "output_type": "execute_result"
    },
    {
     "data": {
      "image/png": "[encoded data removed]",
      "text/plain": [
       "<Figure size 680x400 with 1 Axes>"
      ]
     },
     "metadata": {},
     "output_type": "display_data"
    }
   ],
   "source": [
    "plt.imshow(op_state_transfer(source='+t',target=None))"
   ]
  },
  {
   "cell_type": "code",
   "execution_count": null,
   "metadata": {},
   "outputs": [],
   "source": []
  },
  {
   "cell_type": "code",
   "execution_count": null,
   "metadata": {},
   "outputs": [],
   "source": []
  },
  {
   "cell_type": "code",
   "execution_count": null,
   "metadata": {},
   "outputs": [],
   "source": []
  },
  {
   "cell_type": "code",
   "execution_count": null,
   "metadata": {},
   "outputs": [],
   "source": [
    "op=op_fSWAP(source=[1],target=[1])"
   ]
  },
  {
   "cell_type": "code",
   "execution_count": null,
   "metadata": {},
   "outputs": [
    {
     "data": {
      "text/plain": [
       "<matplotlib.image.AxesImage at 0x7f03f6f23e50>"
      ]
     },
     "metadata": {},
     "output_type": "display_data"
    },
    {
     "data": {
      "image/png": "[encoded data removed]",
      "text/plain": [
       "<Figure size 680x400 with 1 Axes>"
      ]
     },
     "metadata": {},
     "output_type": "display_data"
    }
   ],
   "source": [
    "plt.imshow(op)"
   ]
  },
  {
   "cell_type": "code",
   "execution_count": null,
   "metadata": {},
   "outputs": [
    {
     "data": {
      "text/plain": [
       "-1.0"
      ]
     },
     "metadata": {},
     "output_type": "display_data"
    }
   ],
   "source": [
    "gtn.measure_charge([0,1])"
   ]
  },
  {
   "cell_type": "code",
   "execution_count": null,
   "metadata": {},
   "outputs": [
    {
     "data": {
      "text/plain": [
       "(-1, 1)"
      ]
     },
     "metadata": {},
     "output_type": "display_data"
    }
   ],
   "source": [
    "gtn.measure_projection_AIII([2,3,4,5,])"
   ]
  },
  {
   "cell_type": "code",
   "execution_count": null,
   "metadata": {},
   "outputs": [
    {
     "data": {
      "text/plain": [
       "<matplotlib.image.AxesImage at 0x7f03f0e2add0>"
      ]
     },
     "metadata": {},
     "output_type": "display_data"
    },
    {
     "data": {
      "image/png": "[encoded data removed]",
      "text/plain": [
       "<Figure size 680x400 with 1 Axes>"
      ]
     },
     "metadata": {},
     "output_type": "display_data"
    }
   ],
   "source": [
    "plt.imshow(gtn.C_m)"
   ]
  },
  {
   "cell_type": "code",
   "execution_count": null,
   "metadata": {},
   "outputs": [],
   "source": [
    "|0> |+=0>|-=1>"
   ]
  },
  {
   "cell_type": "code",
   "execution_count": 59,
   "metadata": {},
   "outputs": [],
   "source": [
    "op=op_fSWAP(state1=[1,],state2=[1,1])\n",
    "# op=op_fSWAP(source=[1,-1],target=[1,])"
   ]
  },
  {
   "cell_type": "code",
   "execution_count": 60,
   "metadata": {},
   "outputs": [],
   "source": [
    "P_contraction_2(gtn.C_m,op,ix=range(6),ix_bar=range(6,gtn.C_m.shape[0]))"
   ]
  },
  {
   "cell_type": "code",
   "execution_count": null,
   "metadata": {},
   "outputs": [],
   "source": [
    "P_contraction_2(gtn.C_m,op,ix=[0,1,4,5],ix_bar=[2,3]+list(range(6,gtn.C_m.shape[0])))"
   ]
  },
  {
   "cell_type": "code",
   "execution_count": 61,
   "metadata": {},
   "outputs": [
    {
     "data": {
      "text/plain": [
       "<matplotlib.image.AxesImage at 0x7f5f41ecbe50>"
      ]
     },
     "execution_count": 61,
     "metadata": {},
     "output_type": "execute_result"
    },
    {
     "data": {
      "image/png": "[encoded data removed]",
      "text/plain": [
       "<Figure size 680x400 with 1 Axes>"
      ]
     },
     "metadata": {},
     "output_type": "display_data"
    }
   ],
   "source": [
    "plt.imshow(gtn.C_m)"
   ]
  },
  {
   "cell_type": "code",
   "execution_count": null,
   "metadata": {},
   "outputs": [],
   "source": []
  },
  {
   "cell_type": "code",
   "execution_count": null,
   "metadata": {},
   "outputs": [
    {
     "data": {
      "text/plain": [
       "array([[ 0.        , -0.15160414],\n",
       "       [ 0.15160414,  0.        ]])"
      ]
     },
     "metadata": {},
     "output_type": "display_data"
    }
   ],
   "source": [
    "gtn.C_m[:2,:2]"
   ]
  },
  {
   "cell_type": "code",
   "execution_count": null,
   "metadata": {},
   "outputs": [
    {
     "data": {
      "text/plain": [
       "(0.5758020706734386+0j)"
      ]
     },
     "metadata": {},
     "output_type": "display_data"
    }
   ],
   "source": [
    "get_Born(gtn.C_m[0:2,0:2],[1])"
   ]
  },
  {
   "cell_type": "code",
   "execution_count": null,
   "metadata": {},
   "outputs": [
    {
     "data": {
      "text/plain": [
       "<matplotlib.image.AxesImage at 0x7f5f38437ed0>"
      ]
     },
     "metadata": {},
     "output_type": "display_data"
    },
    {
     "data": {
      "image/png": "[encoded data removed]",
      "text/plain": [
       "<Figure size 680x400 with 1 Axes>"
      ]
     },
     "metadata": {},
     "output_type": "display_data"
    }
   ],
   "source": [
    "plt.imshow(gtn.C_m_history[-1])"
   ]
  },
  {
   "cell_type": "code",
   "execution_count": null,
   "metadata": {},
   "outputs": [],
   "source": [
    "get_Born()"
   ]
  },
  {
   "cell_type": "code",
   "execution_count": null,
   "metadata": {},
   "outputs": [],
   "source": [
    "S= np.kron(np.eye(gtn.C_m.shape[0]//2),np.array([[1,1j],[1,-1j]])/2)"
   ]
  },
  {
   "cell_type": "code",
   "execution_count": null,
   "metadata": {},
   "outputs": [],
   "source": [
    "cf=S @ (np.eye(gtn.C_m.shape[0])- 1j *gtn.C_m )@ S.conj().T"
   ]
  },
  {
   "cell_type": "code",
   "execution_count": null,
   "metadata": {},
   "outputs": [
    {
     "data": {
      "text/plain": [
       "<matplotlib.colorbar.Colorbar at 0x7f5f4369d650>"
      ]
     },
     "metadata": {},
     "output_type": "display_data"
    },
    {
     "data": {
      "image/png": "[encoded data removed]",
      "text/plain": [
       "<Figure size 680x400 with 2 Axes>"
      ]
     },
     "metadata": {},
     "output_type": "display_data"
    }
   ],
   "source": [
    "plt.imshow(cf.real)\n",
    "plt.colorbar()"
   ]
  },
  {
   "cell_type": "code",
   "execution_count": null,
   "metadata": {},
   "outputs": [
    {
     "data": {
      "text/plain": [
       "<matplotlib.colorbar.Colorbar at 0x7f5f43867dd0>"
      ]
     },
     "metadata": {},
     "output_type": "display_data"
    },
    {
     "data": {
      "image/png": "[encoded data removed]",
      "text/plain": [
       "<Figure size 680x400 with 2 Axes>"
      ]
     },
     "metadata": {},
     "output_type": "display_data"
    }
   ],
   "source": [
    "plt.imshow(cf.imag)\n",
    "plt.colorbar()"
   ]
  },
  {
   "cell_type": "code",
   "execution_count": null,
   "metadata": {},
   "outputs": [],
   "source": [
    "C_m=gtn.C_m.copy()"
   ]
  },
  {
   "cell_type": "code",
   "execution_count": null,
   "metadata": {},
   "outputs": [],
   "source": [
    "C_m_c= C_m.conj()"
   ]
  },
  {
   "cell_type": "code",
   "execution_count": null,
   "metadata": {},
   "outputs": [],
   "source": [
    "op_up=Gamma_othor(u=[1,1],epsilon11=np.array([[0,1],[-1,0]]),epsilon12=np.zeros((2,2)))"
   ]
  },
  {
   "cell_type": "code",
   "execution_count": null,
   "metadata": {},
   "outputs": [],
   "source": [
    "op_low=Gamma_othor(u=[1,-1],epsilon11=np.array([[0,-1],[1,0]]),epsilon12=np.zeros((2,2)))"
   ]
  },
  {
   "cell_type": "code",
   "execution_count": null,
   "metadata": {},
   "outputs": [],
   "source": [
    "op = op_single_mode(([1],0))"
   ]
  },
  {
   "cell_type": "code",
   "execution_count": null,
   "metadata": {},
   "outputs": [],
   "source": [
    "op_c=op.copy()"
   ]
  },
  {
   "cell_type": "code",
   "execution_count": null,
   "metadata": {},
   "outputs": [
    {
     "data": {
      "text/plain": [
       "(8, 8)"
      ]
     },
     "metadata": {},
     "output_type": "display_data"
    }
   ],
   "source": [
    "op.shape"
   ]
  },
  {
   "cell_type": "code",
   "execution_count": null,
   "metadata": {},
   "outputs": [],
   "source": [
    "P_contraction_2(op_c,op,ix=range(4,8),ix_bar = range(4))"
   ]
  },
  {
   "cell_type": "code",
   "execution_count": null,
   "metadata": {},
   "outputs": [
    {
     "data": {
      "text/plain": [
       "<matplotlib.image.AxesImage at 0x7f5f3e0d6b50>"
      ]
     },
     "metadata": {},
     "output_type": "display_data"
    },
    {
     "data": {
      "image/png": "[encoded data removed]",
      "text/plain": [
       "<Figure size 680x400 with 1 Axes>"
      ]
     },
     "metadata": {},
     "output_type": "display_data"
    }
   ],
   "source": [
    "plt.imshow(op)"
   ]
  },
  {
   "cell_type": "code",
   "execution_count": null,
   "metadata": {},
   "outputs": [
    {
     "data": {
      "text/plain": [
       "<matplotlib.image.AxesImage at 0x7f85f474ff10>"
      ]
     },
     "metadata": {},
     "output_type": "display_data"
    },
    {
     "data": {
      "image/png": "[encoded data removed]",
      "text/plain": [
       "<Figure size 680x400 with 1 Axes>"
      ]
     },
     "metadata": {},
     "output_type": "display_data"
    }
   ],
   "source": [
    "plt.imshow(op_c)"
   ]
  }
 ],
 "metadata": {
  "kernelspec": {
   "display_name": "base",
   "language": "python",
   "name": "python3"
  },
  "language_info": {
   "codemirror_mode": {
    "name": "ipython",
    "version": 3
   },
   "file_extension": ".py",
   "mimetype": "text/x-python",
   "name": "python",
   "nbconvert_exporter": "python",
   "pygments_lexer": "ipython3",
   "version": "3.11.4"
  }
 },
 "nbformat": 4,
 "nbformat_minor": 2
}
