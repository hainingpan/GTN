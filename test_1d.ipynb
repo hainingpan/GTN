{
 "cells": [
  {
   "cell_type": "code",
   "execution_count": 9,
   "metadata": {},
   "outputs": [],
   "source": [
    "import matplotlib.pyplot as plt\n",
    "import time\n",
    "import pickle\n",
    "import scipy.stats\n",
    "from scipy import interpolate\n",
    "from copy import copy\n",
    "import pandas as pd\n",
    "from matplotlib.animation import FuncAnimation\n",
    "from scipy.stats import rv_continuous\n",
    "from tqdm import tqdm\n",
    "from itertools import permutations\n",
    "\n",
    "import numpy as np\n",
    "import scipy.linalg as la\n",
    "import numpy.linalg as nla\n",
    "import numpy.matlib\n",
    "import itertools\n",
    "\n",
    "\n",
    "\n",
    "plt.rcParams['text.usetex']=True\n",
    "plt.rcParams['font.family']='serif'\n",
    "plt.rcParams['font.size']=9\n",
    "plt.rcParams['axes.titlesize']=plt.rcParams['font.size']\n",
    "plt.rcParams['figure.figsize']=(6.8,4)\n",
    "plt.rcParams['text.latex.preamble']=r'\\usepackage{amsmath,amssymb,physics,bm}'"
   ]
  },
  {
   "cell_type": "code",
   "execution_count": 128,
   "metadata": {},
   "outputs": [],
   "source": [
    "from importlib import reload\n",
    "\n",
    "import GTN\n",
    "reload(GTN)\n",
    "from GTN import *"
   ]
  },
  {
   "cell_type": "markdown",
   "metadata": {},
   "source": [
    "# Test"
   ]
  },
  {
   "cell_type": "code",
   "execution_count": null,
   "metadata": {},
   "outputs": [],
   "source": [
    "Hi guys, I create a minimal model in 1+1d class A circuit to test the proof of principle. I find the idea using the second layer as a \"bath\" can work, which can steer the top layer to the lower band ground state of the SSH chain model where intra-unit-cell coupling =0 but the inter-unit-cell coupling =1.\n",
    "The ultimate goal is to fill the lower band and empty the upper band in the top layer chain.\n",
    "\n",
    "Below is the `pseudocode` that I design:\n",
    "1. Measure each \"inter-unit-cell\" complex fermion pairs on the top layer. There could be four different outcomes:\n",
    "    1.a Outcome is \"c_B^dag-c_A^dag\", denoted as |->; this is the desired mode (lower band), and will be always fixed by the same projector, so nothing is needed, and continue to the next pair of sites.\n",
    "    1.b Outcome is \"c_B^dag+c_A^dag\", denoted as |+>; this is the undesired mode (upper band). So we directly flip the mode from upper band to the lower band within the top layer, by |-><+|.\n",
    "    1.c Outcome is vacuum, denoted as |00>; Fill the lower band in top layer from bottom layer. See 2 for details.\n",
    "    1.d Outcome is full, denoted as |11>; Deplete the upper band in top layer to bottom layer. See 3 for details.\n",
    "\n",
    "2. To fill the lower band in top layer, we first measure the charge in mirror site (i.e. same site index) at sublatice B in bottom layer.\n",
    "    2.a Outcome is 0. Then continue to measure the mirror site at sublattice A in the bottom layer.\n",
    "        2.a.i Outcome is 0. Fixed fails. Continue to the next site.\n",
    "        2.a.ii Outcome is 1. Transfer one mode from sublattice A in bottom layer to fill |-> in top layer.\n",
    "    2.b Outcome is 1. Transfer one mode from sublattice B in bottom layer to fill |-> in top layer.\n",
    "\n",
    "3. To deplete the upper band in top layer, we first measure the charge in mirror site (i.e. same site index) at sublatice A in bottom layer.\n",
    "    3.a Outcome is 0. Transfer one mode from |+> in top layer to sublattice A in bottom layer.\n",
    "    3.b Outcome is 1. Then continue to measure the mirror site at sublattice B in the bottom layer.\n",
    "      3.b.i Outcome is 0. Transfer one mode from |+> in top layer to sublattice B in bottom layer.\n",
    "      3.b.ii Outcome is 1. Fix fails. Continue to the next site.\n",
    "\n",
    "4. After sweep the entire top layer chain. We randomize the bottom layer chain by applying exp(i θ γi γj), where i, and j are NN Majorana sites. This is to ensure that it will not stuck at 2.a.i that nothing to suck from the bottom layer, or 3.b.ii that nothing to dump to the bottom layer.\n",
    "\n",
    "5. Go to 1, and repeat until target state is reached.\n",
    "\n",
    "\n",
    "\n",
    "I create an animation to demonstrate this dynamics, which is also a typical actual trajectory. The \"top\" layer is complex fermion sites from 0 to 7, and the \"bottom\" complex fermion sites is from 8 to 15. The false color is showing the covariance matrix in the Majorana basis. The operation at each step is shown on the top.\n",
    "\n",
    "With this exercise, now I have a solid understanding of how to use feedback to steer the dynamics to the target state. \n",
    "The only thing for 2+1d class AIII is to find a good real-space localized mode to measure. \n"
   ]
  },
  {
   "cell_type": "markdown",
   "metadata": {},
   "source": [
    "I also have two comments here:\n",
    "1. I feel that this is like the absorbing state transition, instead of targeting a topological class, we directly target a specific state. This is different from what the previous paper did, as essentially, we don't include any \"disorder\" here-- it is a pristine system.  \n",
    "2. This measurement with feedback can be done without postselection (previously we need postselection in 1+1d class A). Here, the state ensemble is only preserved when it reaches and stay in the target state; In the mid-circuit, the symmetry is actually not always there (namely, we can sometime fall into measurement outcome that does not respect symmetry)"
   ]
  },
  {
   "cell_type": "code",
   "execution_count": null,
   "metadata": {},
   "outputs": [],
   "source": [
    "namely, there is no disorder. "
   ]
  },
  {
   "cell_type": "code",
   "execution_count": 129,
   "metadata": {},
   "outputs": [],
   "source": [
    "gtn=GTN(L=16,seed=3,op=False,random_init=True)\n"
   ]
  },
  {
   "cell_type": "code",
   "execution_count": 130,
   "metadata": {},
   "outputs": [],
   "source": [
    "def measure_feedback_layer():\n",
    "    for i in range(1,gtn.L//2,2):\n",
    "        # print([i,(i+1)%(gtn.L//2)])\n",
    "        gtn.measure_feedback_AIII([i,(i+1)%(gtn.L//2)],feedback=True)"
   ]
  },
  {
   "cell_type": "code",
   "execution_count": 131,
   "metadata": {},
   "outputs": [],
   "source": [
    "\n",
    "def randomize():\n",
    "    for i in range(gtn.L,2*gtn.L):\n",
    "        print([i, (i+1)%(2*gtn.L)])\n",
    "        gtn.randomize([i, (i+1)%(2*gtn.L)])\n"
   ]
  },
  {
   "cell_type": "code",
   "execution_count": 132,
   "metadata": {},
   "outputs": [
    {
     "name": "stdout",
     "output_type": "stream",
     "text": [
      "[18, 19] [20, 21]\n",
      "[22, 23] [24, 25]\n",
      "[26, 27] [28, 29]\n",
      "[30, 31] [16, 17]\n",
      "[16, 17]\n",
      "[17, 18]\n",
      "[18, 19]\n",
      "[19, 20]\n",
      "[20, 21]\n",
      "[21, 22]\n",
      "[22, 23]\n",
      "[23, 24]\n",
      "[24, 25]\n",
      "[25, 26]\n",
      "[26, 27]\n",
      "[27, 28]\n",
      "[28, 29]\n",
      "[29, 30]\n",
      "[30, 31]\n",
      "[31, 0]\n",
      "[18, 19] [20, 21]\n",
      "[22, 23] [24, 25]\n",
      "[26, 27] [28, 29]\n",
      "[30, 31] [16, 17]\n"
     ]
    }
   ],
   "source": [
    "measure_feedback_layer()\n",
    "randomize()\n",
    "measure_feedback_layer()"
   ]
  },
  {
   "cell_type": "code",
   "execution_count": 232,
   "metadata": {},
   "outputs": [
    {
     "data": {
      "image/png": "[encoded data removed]",
      "text/plain": [
       "<Figure size 680x400 with 2 Axes>"
      ]
     },
     "metadata": {},
     "output_type": "display_data"
    }
   ],
   "source": [
    "fig,ax=plt.subplots()\n",
    "i=1\n",
    "im=ax.imshow(gtn.C_m_history[i],cmap='bwr',vmin=-1,vmax=1,extent=[0,gtn.L-1,gtn.L-1,0])\n",
    "plt.colorbar(im)\n",
    "if i>0:\n",
    "    ax.set_title(parse_text(gtn.n_history[i-1], gtn.i_history[i-1]))\n",
    "else:\n",
    "    ax.set_title('Random initial state')"
   ]
  },
  {
   "cell_type": "markdown",
   "metadata": {},
   "source": [
    "## Create animation"
   ]
  },
  {
   "cell_type": "code",
   "execution_count": 233,
   "metadata": {},
   "outputs": [],
   "source": [
    "import matplotlib.animation as animation"
   ]
  },
  {
   "cell_type": "code",
   "execution_count": 234,
   "metadata": {},
   "outputs": [],
   "source": [
    "def update(frame):\n",
    "    im.set_data(gtn.C_m_history[frame])\n",
    "    if frame > 0:\n",
    "        ax.set_title(parse_text(gtn.n_history[frame-1], gtn.i_history[frame-1]))\n",
    "    else:\n",
    "        ax.set_title('Random initial state')\n",
    "    return im, ax"
   ]
  },
  {
   "cell_type": "code",
   "execution_count": 235,
   "metadata": {},
   "outputs": [],
   "source": [
    "ani = animation.FuncAnimation(\n",
    "    fig, \n",
    "    update, \n",
    "    frames=range(35),  # Generate frames from 0 to 40\n",
    "    blit=False    # Blit optimizes the rendering\n",
    ")"
   ]
  },
  {
   "cell_type": "code",
   "execution_count": 236,
   "metadata": {},
   "outputs": [],
   "source": [
    "ani.save('animation.mp4', writer='ffmpeg', fps=1,dpi=200)"
   ]
  },
  {
   "cell_type": "code",
   "execution_count": null,
   "metadata": {},
   "outputs": [],
   "source": []
  },
  {
   "cell_type": "code",
   "execution_count": 186,
   "metadata": {},
   "outputs": [],
   "source": [
    "def parse_text(n_history,i_history):\n",
    "    if len(i_history) ==4 and len(n_history)==4 and len(n_history[-1])==2:\n",
    "        return parse_top(n_history,i_history)\n",
    "    if len(i_history) ==2 and len(n_history)==3 and np.abs(n_history[0])==1:\n",
    "        return parse_bottom(n_history,i_history)\n",
    "    if len(i_history) ==6 and len(n_history)==2 and n_history[1] is None:\n",
    "        return parse_top_to_bottom(n_history,i_history)\n",
    "    if len(i_history) ==6 and len(n_history)==2 and n_history[0] is None:\n",
    "        return parse_bottom_to_top(n_history,i_history)\n",
    "    if len(i_history) ==4 and len(n_history)==2 and (n_history[0] is not None) and (n_history[1] is not None):\n",
    "        return parse_top_flip(n_history,i_history)\n",
    "    if len(i_history) ==2 and len(n_history)==3 and np.abs(n_history[0])<1:\n",
    "        return parse_randominze(n_history,i_history)\n"
   ]
  },
  {
   "cell_type": "code",
   "execution_count": 94,
   "metadata": {},
   "outputs": [
    {
     "data": {
      "text/plain": [
       "1"
      ]
     },
     "execution_count": 94,
     "metadata": {},
     "output_type": "execute_result"
    }
   ],
   "source": [
    "len(gtn.n_history[2])"
   ]
  },
  {
   "cell_type": "code",
   "execution_count": 185,
   "metadata": {},
   "outputs": [
    {
     "data": {
      "text/plain": [
       "([None, '-t'], [10, 11, 12, 13, 28, 29])"
      ]
     },
     "execution_count": 185,
     "metadata": {},
     "output_type": "execute_result"
    }
   ],
   "source": [
    "gtn.n_history[32], gtn.i_history[32]"
   ]
  },
  {
   "cell_type": "code",
   "execution_count": 192,
   "metadata": {},
   "outputs": [],
   "source": [
    "def parse_top(n_history,i_history):\n",
    "    kind = n_history[-1]\n",
    "    idx = i_history\n",
    "    outcome={(-1,-1):'00',(-1,1):'-',(1,-1):'+',(1,1):'11'}\n",
    "    return f'Measure ({idx[0]//2},top and {idx[2]//2},top) with outcome $|{outcome[kind]}\\\\rangle$'\n",
    "\n",
    "def parse_bottom(n_history,i_history):\n",
    "    kind = n_history[0]\n",
    "    outcome = {1:1,-1:0}\n",
    "    idx=(i_history[0]-gtn.L)//2\n",
    "    return f'Measure ({idx},bottom) with outcome $|{outcome[kind]}\\\\rangle$'\n",
    "def parse_randominze(n_history,i_history):\n",
    "    idx=[(i-gtn.L)%gtn.L for i in i_history]\n",
    "    if i_history[0]%2==0:\n",
    "        return f'Random unitary on ($\\gamma_{idx[0]//2}$,bottom) and ($\\\\bar{{\\gamma}}_{idx[1]//2}$,bottom)'\n",
    "    else:\n",
    "        return f'Random unitary on ($\\\\bar{{\\gamma}}_{idx[0]//2}$,bottom) and ($\\gamma_{idx[1]//2}$,bottom)'\n",
    "\n",
    "def parse_top_flip(n_history,i_history):\n",
    "    source=[i_history[0]//2,i_history[2]//2]\n",
    "    return f'Flip from ({source[0]},top + {source[1]},top) to ({source[0]},top - {source[1]},top)'\n",
    "def parse_top_to_bottom(n_history,i_history):\n",
    "    target=(i_history[-2]-gtn.L)//2\n",
    "    source=[i_history[0]//2,i_history[2]//2]\n",
    "\n",
    "    return f'Deplete mode ({source[0]},top + {source[1]},top) to ({target},bottom) '\n",
    "\n",
    "def parse_bottom_to_top(n_history,i_history):\n",
    "    source=(i_history[-2]-gtn.L)//2\n",
    "    target=[i_history[0]//2,i_history[2]//2]\n",
    "    return f'Fill mode ({target[0]},top - {target[1]},top) from ({source},bottom) '\n"
   ]
  },
  {
   "cell_type": "code",
   "execution_count": 193,
   "metadata": {},
   "outputs": [
    {
     "data": {
      "text/plain": [
       "'Fill mode (5,top - 6,top) from (6,bottom) '"
      ]
     },
     "execution_count": 193,
     "metadata": {},
     "output_type": "execute_result"
    }
   ],
   "source": [
    "# parse_top(gtn.n_history[0], gtn.i_history[0])\n",
    "(parse_text(gtn.n_history[32], gtn.i_history[32]))"
   ]
  },
  {
   "cell_type": "code",
   "execution_count": null,
   "metadata": {},
   "outputs": [],
   "source": [
    "'Transfer '"
   ]
  },
  {
   "cell_type": "code",
   "execution_count": 177,
   "metadata": {},
   "outputs": [
    {
     "data": {
      "text/plain": [
       "8"
      ]
     },
     "execution_count": 177,
     "metadata": {},
     "output_type": "execute_result"
    }
   ],
   "source": [
    "len(gtn.i_history)"
   ]
  },
  {
   "cell_type": "code",
   "execution_count": 139,
   "metadata": {},
   "outputs": [
    {
     "data": {
      "text/plain": [
       "<matplotlib.image.AxesImage at 0x7f60762c3210>"
      ]
     },
     "execution_count": 139,
     "metadata": {},
     "output_type": "execute_result"
    },
    {
     "data": {
      "image/png": "[encoded data removed]",
      "text/plain": [
       "<Figure size 680x400 with 1 Axes>"
      ]
     },
     "metadata": {},
     "output_type": "display_data"
    }
   ],
   "source": [
    "# plt.imshow(op_state_transfer(source=None,target='-t'))\n",
    "plt.imshow(op_state_transfer(source='+t',target=None))"
   ]
  },
  {
   "cell_type": "code",
   "execution_count": 131,
   "metadata": {},
   "outputs": [],
   "source": [
    "gtn.state_transfer([12,13,14,15],source='+t',target='-t')"
   ]
  },
  {
   "cell_type": "code",
   "execution_count": 125,
   "metadata": {},
   "outputs": [
    {
     "data": {
      "text/plain": [
       "<matplotlib.colorbar.Colorbar at 0x7f6076929b50>"
      ]
     },
     "execution_count": 125,
     "metadata": {},
     "output_type": "execute_result"
    },
    {
     "data": {
      "image/png": "[encoded data removed]",
      "text/plain": [
       "<Figure size 680x400 with 2 Axes>"
      ]
     },
     "metadata": {},
     "output_type": "display_data"
    }
   ],
   "source": [
    "plt.imshow(gtn.C_m)\n",
    "plt.colorbar()"
   ]
  },
  {
   "cell_type": "code",
   "execution_count": null,
   "metadata": {},
   "outputs": [],
   "source": []
  },
  {
   "cell_type": "code",
   "execution_count": 60,
   "metadata": {},
   "outputs": [
    {
     "data": {
      "text/plain": [
       "1.0"
      ]
     },
     "execution_count": 60,
     "metadata": {},
     "output_type": "execute_result"
    }
   ],
   "source": [
    "gtn.measure_charge(legs=[0,1])"
   ]
  },
  {
   "cell_type": "code",
   "execution_count": 197,
   "metadata": {},
   "outputs": [
    {
     "data": {
      "text/plain": [
       "<matplotlib.image.AxesImage at 0x7f60737e9e90>"
      ]
     },
     "execution_count": 197,
     "metadata": {},
     "output_type": "execute_result"
    },
    {
     "data": {
      "image/png": "[encoded data removed]",
      "text/plain": [
       "<Figure size 680x400 with 1 Axes>"
      ]
     },
     "metadata": {},
     "output_type": "display_data"
    }
   ],
   "source": [
    "plt.imshow(op_state_transfer(target='-t',source=None))"
   ]
  },
  {
   "cell_type": "code",
   "execution_count": 196,
   "metadata": {},
   "outputs": [
    {
     "data": {
      "text/plain": [
       "<matplotlib.image.AxesImage at 0x7f60737d51d0>"
      ]
     },
     "execution_count": 196,
     "metadata": {},
     "output_type": "execute_result"
    },
    {
     "data": {
      "image/png": "[encoded data removed]",
      "text/plain": [
       "<Figure size 680x400 with 1 Axes>"
      ]
     },
     "metadata": {},
     "output_type": "display_data"
    }
   ],
   "source": [
    "plt.imshow(op_state_transfer(source='+t',target=None))"
   ]
  },
  {
   "cell_type": "code",
   "execution_count": null,
   "metadata": {},
   "outputs": [],
   "source": []
  }
 ],
 "metadata": {
  "kernelspec": {
   "display_name": "base",
   "language": "python",
   "name": "python3"
  },
  "language_info": {
   "codemirror_mode": {
    "name": "ipython",
    "version": 3
   },
   "file_extension": ".py",
   "mimetype": "text/x-python",
   "name": "python",
   "nbconvert_exporter": "python",
   "pygments_lexer": "ipython3",
   "version": "3.11.4"
  }
 },
 "nbformat": 4,
 "nbformat_minor": 2
}
