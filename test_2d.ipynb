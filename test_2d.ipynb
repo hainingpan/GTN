{
 "cells": [
  {
   "cell_type": "code",
   "execution_count": 1,
   "metadata": {},
   "outputs": [],
   "source": [
    "import matplotlib.pyplot as plt"
   ]
  },
  {
   "cell_type": "code",
   "execution_count": 2,
   "metadata": {},
   "outputs": [],
   "source": [
    "import numpy as np\n",
    "import numpy.linalg as nla\n",
    "import scipy.linalg as la\n",
    "from scipy.sparse import bsr_array\n",
    "from copy import copy\n",
    "from itertools import permutations"
   ]
  },
  {
   "cell_type": "code",
   "execution_count": 3,
   "metadata": {},
   "outputs": [],
   "source": [
    "class GTN2:\n",
    "    def __init__(self,Lx,Ly,history=True,seed=None,op=False,random_init=False,bcx=1,bcy=1,orbit=1):\n",
    "        self.Lx= Lx # complex fermion sites\n",
    "        self.Ly=Ly # complex fermion sites\n",
    "        self.L = Lx* Ly*orbit # (Lx,Ly) in complex fermion sites\n",
    "        self.orbit=orbit # number of orbitals\n",
    "        self.history = history\n",
    "        self.op = op\n",
    "        self.random_init = random_init\n",
    "        self.rng=np.random.default_rng(seed)\n",
    "        self.C_m=self.correlation_matrix()\n",
    "        self.Gamma_like=np.zeros_like(self.C_m)\n",
    "        self.C_m_history=[self.C_m.copy()]\n",
    "        self.n_history=[]\n",
    "        self.i_history=[]\n",
    "        self.p_history=[]\n",
    "        self.seed = seed\n",
    "        self.bcx = bcx # boundary condition in x direction, 0 for open, 1 for periodic, -1 for antiperiodic\n",
    "        self.bcy = bcy # boundary condition in y direction, 0 for open, 1 for periodic, -1 for antiperiodic\n",
    "        self.full_ix=set(range(self.C_m[-1].shape[0]))\n",
    "\n",
    "    def set(self,ij_list,n_list):\n",
    "        \"\"\"ij_list: [[i,j],...]\n",
    "        n_list: [1,-1,...]\n",
    "        simply set all Gamma[i,j]=n, Gamma[j,i]=-n\n",
    "        \"\"\"\n",
    "        Gamma=self.C_m\n",
    "        for ij,n in zip(ij_list,n_list):\n",
    "            i,j=ij\n",
    "            Gamma[i,j]=n\n",
    "            Gamma[j,i]=-n\n",
    "\n",
    "    def correlation_matrix(self):\n",
    "        if self.op:\n",
    "            pass\n",
    "        else:\n",
    "            Omega=np.array([[0,1.],[-1.,0]])\n",
    "            Omega_diag=np.kron(np.eye(self.L),Omega)\n",
    "            self.A_D=Omega_diag\n",
    "            O=get_O(self.rng,2*self.L) if self.random_init else np.eye(2*self.L)\n",
    "            Gamma=O@Omega_diag@O.T\n",
    "        return (Gamma-Gamma.T)/2\n",
    "    \n",
    "    def measure_tri_op(self,i,j,p,Born=True,):\n",
    "        '''measure the parity on i,j (Majorana sites) with probability p\n",
    "        '''\n",
    "        if Born:\n",
    "            Gamma=self.C_m[i,j]\n",
    "            n_list=get_Born_tri_op(p,Gamma,rng=self.rng)\n",
    "            self.measure(n_list[0],[i,j])\n",
    "        else:\n",
    "            pass\n",
    "    \n",
    "    def measure(self,n,ix):\n",
    "        ''' Majorana site index for ix, \n",
    "        n should be a scalar'''\n",
    "\n",
    "        Psi=self.C_m\n",
    "        proj=kraus(n)\n",
    "        # ix_bar=np.array([i for i in np.arange(self.L*2) if i not in ix]) if not self.op else np.array([i for i in np.arange(self.L*4) if i not in ix])\n",
    "        ix_bar=np.array([i for i in np.arange(self.C_m[-1].shape[0]) if i not in ix])\n",
    "        # Psi=P_contraction(m,proj,ix,ix_bar)\n",
    "        P_contraction_2(Psi,proj,ix,ix_bar,self.Gamma_like,reset_Gamma_like=False)\n",
    "\n",
    "        # assert np.abs(np.trace(Psi))<1e-5, \"Not trace zero {:e}\".format(np.trace(Psi))\n",
    "        if self.history:\n",
    "            self.C_m_history.append(Psi.copy())\n",
    "            self.n_history.append(n)\n",
    "            self.i_history.append(ix)\n",
    "            # self.MI_history.append(self.mutual_information_cross_ratio())\n",
    "        else:\n",
    "            self.C_m_history=[Psi]\n",
    "            self.n_history=[n]\n",
    "            self.i_history=[ix]\n",
    "            # self.MI_history=[self.mutual_information_cross_ratio()]\n",
    "\n",
    "\n",
    "\n",
    "    def measure_weak(self,A,ix,kind):\n",
    "        \"\"\"measure exp(-beta c^dag c), A = tanh(beta), sqrt(1-A^2) = 1/cosh(beta)\"\"\"\n",
    "        Psi=self.C_m\n",
    "        ix_bar=np.array(list(self.full_ix-set(ix)))\n",
    "        if kind == 'onsite':\n",
    "            proj=op_weak_onsite(A)\n",
    "        elif kind == 'nn_x':\n",
    "            proj=op_weak_nn_x(A)\n",
    "        elif kind == 'nn_y':\n",
    "            proj=op_weak_nn_y(A)\n",
    "        P_contraction_2(Psi,proj,ix,ix_bar,self.Gamma_like,reset_Gamma_like=False)\n",
    "        if self.history:\n",
    "            self.C_m_history.append(Psi.copy())\n",
    "            self.n_history.append([A])\n",
    "            self.i_history.append(ix)\n",
    "        else:\n",
    "            self.n_history=[A]\n",
    "            self.i_history=[ix]\n",
    "\n",
    "\n",
    "    \n",
    "    def measure_line_tri_op(self,p_list,pos,Born=True,even=True):\n",
    "        \"\"\" apply along a specific line, e.g., (0,-1), mean all first index being 0 will be applied. (-1,1) means all second index being 1 will be measured\n",
    "        even means it is \"intra-unit cell\" gamma\n",
    "        odd means it is \"inter-unit cell\" gamma\"\"\"\n",
    "        if pos[0]==-1 and pos[1]>-1:\n",
    "            ix=[(i,pos[1]) for i in range(self.Lx)]\n",
    "        elif pos[1]==-1 and pos[0]>-1:\n",
    "            ix=[(pos[0],i) for i in range(self.Ly)]\n",
    "        else:\n",
    "            raise ValueError(\"pos should have only one `-1` to indicate the direction\")\n",
    "        if even:\n",
    "            proj_range_1 = [self.linearize_idx(*idx,majorana=0) for idx in ix]\n",
    "            proj_range_2 = [self.linearize_idx(*idx,majorana=1) for idx in ix]\n",
    "        else:\n",
    "            ix_ = ix[1:]+[ix[0]]\n",
    "            if (pos[0]==-1 and pos[1]>-1 and self.bcy==0) or (pos[1]==-1 and pos[0]>-1 and self.bcx==0):\n",
    "                ix = ix[:-1]\n",
    "                ix_ = ix_[:-1]\n",
    "            proj_range_1 = [self.linearize_idx(*idx,majorana=1) for idx in ix]\n",
    "            proj_range_2 = [self.linearize_idx(*idx,majorana=0) for idx in ix_]\n",
    "        # return proj_range_1,proj_range_2\n",
    "        if isinstance(p_list,int) or isinstance(p_list,float):\n",
    "            p_list=np.array([p_list]*len(proj_range_1))\n",
    "        if self.history:\n",
    "            self.p_history.append(p_list)\n",
    "        else:\n",
    "            self.p_history=[p_list]\n",
    "\n",
    "        if Born:\n",
    "            for i,j,p in zip(proj_range_1,proj_range_2,p_list):\n",
    "                Gamma=self.C_m[i,j]\n",
    "                n_list=get_Born_tri_op(p,Gamma,rng=self.rng)\n",
    "                self.measure(n_list[0],[i,j])\n",
    "        else:\n",
    "            pass\n",
    "    \n",
    "    def measure_tri_sites(self,A,ij):\n",
    "        \"\"\"force measurement on a single \"tri-site\" (i,i+x,i+y)\"\"\"\n",
    "        i,j = ij\n",
    "        self.measure_weak(-A,ix=[self.linearize_idx(*ij,orbit_idx=0,majorana=idx) for idx in range(2)],kind='onsite')   # exp(-beta * c_iL^dag c_iL + h.c.)\n",
    "        self.measure_weak(A,ix=[self.linearize_idx(*ij,orbit_idx=1,majorana=idx) for idx in range(2)],kind='onsite')   # exp(beta * c_iR^dag c_iR + h.c.)\n",
    "\n",
    "        if self.bcx==1 or (i+1)<self.Lx:\n",
    "            ij_x = [(i+1)%self.Lx,j]\n",
    "            self.measure_weak(-A,ix=[self.linearize_idx(*ij,orbit_idx=0,majorana=idx) for idx in range(2)]+[self.linearize_idx(*ij_x,orbit_idx=0,majorana=idx) for idx in range(2)],kind='nn_x')    # exp(-beta * c_iL^dag c_i+x,L + h.c.)\n",
    "            self.measure_weak(A,ix=[self.linearize_idx(*ij,orbit_idx=1,majorana=idx) for idx in range(2)]+[self.linearize_idx(*ij_x,orbit_idx=1,majorana=idx) for idx in range(2)],kind='nn_x')   # exp(beta * c_iR^dag c_i+x,R + h.c.)\n",
    "            self.measure_weak(A,ix=[self.linearize_idx(*ij,orbit_idx=0,majorana=idx) for idx in range(2)]+[self.linearize_idx(*ij_x,orbit_idx=1,majorana=idx) for idx in range(2)],kind='nn_x')   # exp(beta * c_iL^dag c_i+x,R + h.c.)\n",
    "            self.measure_weak(-A,ix=[self.linearize_idx(*ij,orbit_idx=1,majorana=idx) for idx in range(2)]+[self.linearize_idx(*ij_x,orbit_idx=0,majorana=idx) for idx in range(2)],kind='nn_x')   # exp(-beta * c_iR^dag c_i+x,L + h.c.)\n",
    "\n",
    "        if self.bcy==1 or (j+1)<self.Ly:\n",
    "            ij_y = [i,(j+1)%self.Ly]\n",
    "            self.measure_weak(A,ix=[self.linearize_idx(*ij,orbit_idx=0,majorana=idx) for idx in range(2)]+[self.linearize_idx(*ij_y,orbit_idx=0,majorana=idx) for idx in range(2)],kind='nn_x')    # exp(beta * (-i*c_iL^dag c_i+y,L + h.c.)\n",
    "            self.measure_weak(-A,ix=[self.linearize_idx(*ij,orbit_idx=1,majorana=idx) for idx in range(2)]+[self.linearize_idx(*ij_y,orbit_idx=1,majorana=idx) for idx in range(2)],kind='nn_x')    # exp(-beta * (-i*c_iL^dag c_i+y,L + h.c.)\n",
    "\n",
    "            self.measure_weak(A,ix=[self.linearize_idx(*ij,orbit_idx=0,majorana=idx) for idx in range(2)]+[self.linearize_idx(*ij_y,orbit_idx=1,majorana=idx) for idx in range(2)],kind='nn_y')    # exp(beta * (-i*c_iL^dag c_i+y,L + h.c.)\n",
    "            self.measure_weak(A,ix=[self.linearize_idx(*ij,orbit_idx=1,majorana=idx) for idx in range(2)]+[self.linearize_idx(*ij_y,orbit_idx=0,majorana=idx) for idx in range(2)],kind='nn_y')    # exp(beta * (-i*c_iL^dag c_i+y,L + h.c.)\n",
    "\n",
    "\n",
    "\n",
    "    def linearize_idx(self,i,j,majorana=0,orbit_idx=0):\n",
    "        return np.ravel_multi_index((i,j,orbit_idx,majorana),(self.Lx,self.Ly,self.orbit,2))\n",
    "    def linearize_idx_span(self,ilist,jlist):\n",
    "        multi_index=np.array([(i,j,orbit,maj) for i in ilist for j in jlist for orbit in range(self.orbit) for maj in range(2)])\n",
    "        return np.ravel_multi_index(multi_index.T,(self.Lx,self.Ly,self.orbit,2))\n",
    "\n",
    "    def delinearize_idx(self,idx,majorana=0):\n",
    "        # return np.unravel_index(idx//2,(self.Lx,self.Ly)), idx%2\n",
    "        return np.unravel_index(idx,(self.Lx,self.Ly,self.orbit,2))\n",
    "\n",
    "\n",
    "    def von_Neumann_entropy_m(self,subregion,Gamma=None):\n",
    "        c_A=self.c_subregion_m(subregion,Gamma)\n",
    "        val=nla.eigvalsh(1j*c_A)\n",
    "        # self.val_sh=val\n",
    "        val=np.sort(val)\n",
    "        val=(1-val)/2+1e-18j   #\\lambda=(1-\\xi)/2\n",
    "        return np.real(-np.sum(val*np.log(val))-np.sum((1-val)*np.log(1-val)))/2\n",
    "\n",
    "    def c_subregion_m(self,subregion,Gamma=None):\n",
    "        if Gamma is None:\n",
    "            Gamma=self.C_m\n",
    "        subregion=self.linearize_index(subregion,2)\n",
    "        return Gamma[np.ix_(subregion,subregion)]\n",
    "    def linearize_index(self,subregion,n,k=2,proj=False):\n",
    "        \"\"\"convert fermion index to Majorana index, [needs to improve readability]\"\"\"\n",
    "        try:\n",
    "            subregion=np.array(subregion)\n",
    "        except:\n",
    "            raise ValueError(\"The subregion is ill-defined\"+subregion)\n",
    "        if proj:\n",
    "            return np.int_(sorted(np.concatenate([n*subregion+i for i in range(0,n,k)])))\n",
    "        else:\n",
    "            return np.int_(sorted(np.concatenate([n*subregion+i for i in range(n)])))\n",
    "\n",
    "def kraus(n):\n",
    "    return np.array([[0,n[0],n[1],n[2]],\n",
    "                    [-n[0],0,-n[2],n[1]],\n",
    "                    [-n[1],n[2],0,-n[0]],\n",
    "                    [-n[2],-n[1],n[0],0]])\n",
    "\n",
    "def get_Born_tri_op(p,Gamma,rng=None,sigma=1):\n",
    "    # num=Gamma.shape[0]\n",
    "    rng=np.random.default_rng(rng)\n",
    "    sign=rng.random(size=1)\n",
    "    n1= (sign<p*(1+Gamma)/2)*(-1)+(sign>p*(1+Gamma)/2+1-p)\n",
    "    n2,n3=get_inplane(n1, 1,rng=rng,sigma=sigma)\n",
    "    return np.c_[n1,n2,n3]\n",
    "\n",
    "def get_inplane(n1,num,rng=None,sigma=1):\n",
    "    r=np.sqrt(1-n1**2)\n",
    "    rng=np.random.default_rng(rng)\n",
    "    phi=rng.random(num)*2*np.pi*sigma\n",
    "    n2,n3=r*np.cos(phi),r*np.sin(phi)\n",
    "    return n2,n3\n",
    "def get_O(rng,n):\n",
    "    rng=np.random.default_rng(rng)\n",
    "    A=rng.normal(size=(n,n))\n",
    "    AA=(A-A.T)/2\n",
    "    return la.expm(AA)\n",
    "def P_contraction_2(Gamma,Upsilon,ix,ix_bar,Gamma_like=None,reset_Gamma_like=True):\n",
    "    \"\"\" same analytical expression for contraction as _contraction(), differences:\n",
    "    1. assume intput and output tensor have the same shape, thus, it should be Gamma(L,R) -- Upsilon (L,R), where Gamma_R = Upsilon_L =Upsilon_R, such that in-place operator is applied here.\n",
    "    2. manually compute the inverse of mat2 before\n",
    "    Here, Gamma is m, and proj is Upsilon\n",
    "    Assume Upsilon = [A,B;C,D], the logic is to first compute C= (1+ Gamma_RR @ Upsilon_LL)^{-1}, (where then B=-C.T) \n",
    "    then A= Upsilon_LL @C, D= Gamma_RR@ C.T\n",
    "    ---\n",
    "    reset_Gamma_like: in usual case, because each application of the gate will be like the brick layer, therefore, ix_bar will overwrite the previous. However, for the staircase pattern, one should reset it. \n",
    "    \"\"\"\n",
    "    Gamma_RR=Gamma[np.ix_(ix,ix)]\n",
    "    Gamma_LR=Gamma[np.ix_(ix_bar,ix)]\n",
    "    Upsilon_LL=Upsilon[:len(ix),:len(ix)]\n",
    "    Upsilon_RR=Upsilon[len(ix):,len(ix):]\n",
    "    Upsilon_RL=Upsilon[len(ix):,:len(ix)]\n",
    "    eye=np.eye(len(ix))\n",
    "    try: \n",
    "        C=nla.inv(Gamma_RR@Upsilon_LL+eye)\n",
    "    except:\n",
    "        raise ValueError(\"the contraction will lead to a vanishing state\")\n",
    "    A=Upsilon_LL@C\n",
    "    D=Gamma_RR@C.T\n",
    "    tmp=Gamma_LR@A@Gamma_LR.T\n",
    "    if Gamma_like is None:\n",
    "        Gamma_like=np.zeros_like(Gamma)\n",
    "    if reset_Gamma_like:\n",
    "        Gamma_like[:,:]=0\n",
    "    Gamma_like[np.ix_(ix_bar,ix_bar)]=tmp\n",
    "    Gamma+=Gamma_like\n",
    "    Gamma[np.ix_(ix,ix_bar)]=Upsilon_RL@C@Gamma_LR.T\n",
    "    Gamma[np.ix_(ix,ix)]=Upsilon_RR+Upsilon_RL@D@Upsilon_RL.T\n",
    "    Gamma[np.ix_(ix_bar,ix)]=-Gamma[np.ix_(ix,ix_bar)].T\n",
    "    # why is it neccessary?\n",
    "    # Gamma-=Gamma.T\n",
    "    # Gamma/=2\n",
    "\n",
    "    if np.abs(np.einsum(Gamma,[0,1],Gamma,[1,0],[0])+1).max()>1e-10:\n",
    "        Gamma[:,:]=purify(Gamma)\n",
    "        Gamma-=Gamma.T\n",
    "        Gamma/=2\n",
    "\n",
    "def purify(A):\n",
    "    # purify A, see App. B2 in PhysRevB.106.134206\n",
    "    val,vec=np.linalg.eigh(A/1j)\n",
    "    val[val<0]=-1\n",
    "    val[val>0]=1\n",
    "\n",
    "\n",
    "def block_diagonalize(A,thres=1e-10):\n",
    "    '''A is an anti symmetry matrix for covariance matrix\n",
    "    block diagonalize is to find a real othorgonal matrix such that OAO^T=A_D, where A_D=\\oplus a_k \\omega, where \\omega = [0,1;-1,0]\n",
    "\n",
    "    See : arxiv:0902.1502 App B for more details\n",
    "    '''\n",
    "    assert np.abs(A.imag).max()<1e-10, f'A is not a real matrix {np.abs(A.imag).max()}'\n",
    "    A=A.real\n",
    "    assert np.abs(A+A.T).max()<1e-10, f'A is not antisymmetric'\n",
    "\n",
    "    val,vec=np.linalg.eigh(A/1j)\n",
    "    val_arg=val.argsort()\n",
    "    val=val[val_arg[:A.shape[0]//2]]\n",
    "    vec=vec[:,val_arg[:A.shape[0]//2]]\n",
    "    perm_list=permutations(range(vec.shape[1]))\n",
    "    for perm in perm_list:\n",
    "        vec=vec[:,perm]\n",
    "        diag_element=np.array([vec[2*x,x] for x in range(vec.shape[1])])\n",
    "        if np.all(diag_element !=0):\n",
    "            break\n",
    "\n",
    "    # diag_element=np.array([vec[2*x,x] for x in range(vec.shape[1])])\n",
    "    phase_factor=diag_element.conj()/np.abs(diag_element)\n",
    "    # phase_factor[np.isinf(phase_factor)|np.isnan(phase_factor)]=1\n",
    "    vec=phase_factor.reshape((1,-1))*vec\n",
    "    vec_conj=vec.conj()\n",
    "    U=np.zeros(A.shape,dtype=complex)\n",
    "    U[:,1::2]=vec_conj\n",
    "    U[:,::2]=vec\n",
    "    G=lambda l:np.kron(np.eye(l),np.array([[1,1],[-1j,1j]])/np.sqrt(2))\n",
    "    O=G(A.shape[0]//2)@U.T.conj()\n",
    "    assert np.abs(O.imag).max()<1e-10, f'O is not a real matrix {np.abs(O.imag).max()}'\n",
    "    O=O.real\n",
    "    A_D=O@A@O.T\n",
    "    return O,U,A_D\n",
    "\n",
    "def op_weak_onsite(A):\n",
    "    assert -1<=A<=1, \"A should be within [0,1]\"\n",
    "    Gamma=np.zeros((4,4),dtype=float)\n",
    "    Gamma[0,1]=Gamma[3,2]=A\n",
    "    Gamma[0,2]=Gamma[1,3]=np.sqrt(1-A**2)\n",
    "    return (Gamma-Gamma.T)\n",
    "\n",
    "def op_weak_nn_x(A):\n",
    "    \"\"\"exp(beta* (c_i^dag c_j + c_j^dag c_i)), x stands for the Pauli x like nearest neighbor coupling\"\"\"\n",
    "    assert -1<=A<=1, \"A should be within [0,1]\"\n",
    "    Gamma=np.zeros((8,8),dtype=float)\n",
    "    Gamma[0,3]=Gamma[5,6]=A\n",
    "    Gamma[1,2]=Gamma[4,7]=-A\n",
    "    Gamma[0,4]=Gamma[1,5]=Gamma[2,6]=Gamma[3,7]=np.sqrt(1-A**2)\n",
    "    return (Gamma-Gamma.T)\n",
    "\n",
    "def op_weak_nn_y(A):\n",
    "    \"\"\"exp(beta* (-1j*c_i^dag c_j + 1j*c_j^dag c_i)), y stands for the Pauli y like nearest neighbor coupling\"\"\"\n",
    "    assert -1<=A<=1, \"A should be within [0,1]\"\n",
    "    Gamma=np.zeros((8,8),dtype=float)\n",
    "    Gamma[0,2]=Gamma[1,3]=A\n",
    "    Gamma[4,6]=Gamma[5,7]=-A\n",
    "    Gamma[0,4]=Gamma[1,5]=Gamma[2,6]=Gamma[3,7]=np.sqrt(1-A**2)\n",
    "    return (Gamma-Gamma.T)\n",
    "\n",
    "from opt_einsum import contract\n",
    "def chern_number(Gamma,A_idx,B_idx,C_idx):\n",
    "    P=(np.eye(Gamma.shape[0])-1j*Gamma)/2\n",
    "    h=12*np.pi*1j*(contract(\"jk,kl,lj->jkl\",P,P,P)-contract(\"jl,lk,kj->jkl\",P,P,P))\n",
    "    return h[np.ix_(A_idx,B_idx,C_idx)].sum()\n"
   ]
  },
  {
   "cell_type": "code",
   "execution_count": 7,
   "metadata": {},
   "outputs": [],
   "source": [
    "gtn2=GTN2(Lx=6,Ly=6,history=True,random_init=True,bcx=1,bcy=1,seed=0,orbit=2)\n",
    "# sites_flip=np.sort(gtn2.rng.choice(np.arange(gtn2.L),size=gtn2.L//2,replace=False))\n",
    "# gtn2.set(ij_list = ([[2*site,2*site+1] for site in sites_flip]),n_list=[-1]*gtn2.L)"
   ]
  },
  {
   "cell_type": "code",
   "execution_count": 8,
   "metadata": {},
   "outputs": [],
   "source": [
    "for _ in range(2*gtn2.Lx):\n",
    "    ij_list = [(i,j) for i in range(gtn2.Lx) for j in range(gtn2.Ly)]\n",
    "    for i,j in (ij_list):\n",
    "        gtn2.measure_tri_sites(0.6,[i,j])"
   ]
  },
  {
   "cell_type": "code",
   "execution_count": 13,
   "metadata": {},
   "outputs": [
    {
     "data": {
      "text/plain": [
       "<matplotlib.colorbar.Colorbar at 0x7f72ec374750>"
      ]
     },
     "execution_count": 13,
     "metadata": {},
     "output_type": "execute_result"
    },
    {
     "data": {
      "image/png": "[encoded data removed]",
      "text/plain": [
       "<Figure size 640x480 with 2 Axes>"
      ]
     },
     "metadata": {},
     "output_type": "display_data"
    }
   ],
   "source": [
    "plt.imshow(gtn2.C_m,vmin=-1,vmax=1,cmap='seismic')\n",
    "plt.colorbar()"
   ]
  },
  {
   "cell_type": "code",
   "execution_count": 503,
   "metadata": {},
   "outputs": [
    {
     "data": {
      "text/plain": [
       "<matplotlib.colorbar.Colorbar at 0x7fbd769b5010>"
      ]
     },
     "execution_count": 503,
     "metadata": {},
     "output_type": "execute_result"
    },
    {
     "data": {
      "image/png": "[encoded data removed]",
      "text/plain": [
       "<Figure size 640x480 with 2 Axes>"
      ]
     },
     "metadata": {},
     "output_type": "display_data"
    }
   ],
   "source": [
    "plt.imshow((1/2-np.diag(gtn2.C_m,k=1)[::2]/2).reshape((gtn2.Lx,gtn2.Ly,2))[:,:,1])\n",
    "plt.colorbar()"
   ]
  },
  {
   "cell_type": "code",
   "execution_count": 504,
   "metadata": {},
   "outputs": [
    {
     "data": {
      "text/plain": [
       "(2.8428110884936513+0j)"
      ]
     },
     "execution_count": 504,
     "metadata": {},
     "output_type": "execute_result"
    }
   ],
   "source": [
    "chern_number(gtn2.C_m,A_idx,B_idx,C_idx)"
   ]
  },
  {
   "cell_type": "code",
   "execution_count": 490,
   "metadata": {},
   "outputs": [],
   "source": [
    "A_idx=gtn2.linearize_idx_span(range(gtn2.Lx//2+1),range(gtn2.Ly//2+1))\n",
    "B_idx=gtn2.linearize_idx_span(range(gtn2.Lx//2,gtn2.Lx),range(gtn2.Ly//2+1))\n",
    "C_idx=gtn2.linearize_idx_span(range(gtn2.Lx),range(gtn2.Ly//2,gtn2.Ly))"
   ]
  },
  {
   "cell_type": "code",
   "execution_count": 474,
   "metadata": {},
   "outputs": [],
   "source": [
    "A_idx=gtn2.linearize_idx_span(range(gtn2.Lx//2),range(gtn2.Ly//2))"
   ]
  },
  {
   "cell_type": "code",
   "execution_count": 475,
   "metadata": {},
   "outputs": [],
   "source": [
    "B_idx=gtn2.linearize_idx_span(range(gtn2.Lx//2,gtn2.Lx),range(gtn2.Ly//2))"
   ]
  },
  {
   "cell_type": "code",
   "execution_count": 476,
   "metadata": {},
   "outputs": [],
   "source": [
    "C_idx=gtn2.linearize_idx_span(range(gtn2.Lx),range(gtn2.Ly//2,gtn2.Ly))"
   ]
  },
  {
   "cell_type": "code",
   "execution_count": null,
   "metadata": {},
   "outputs": [
    {
     "data": {
      "text/plain": [
       "array([ 0,  1,  2,  3,  4,  5,  6,  7, 20, 21, 22, 23, 24, 25, 26, 27])"
      ]
     },
     "metadata": {},
     "output_type": "display_data"
    }
   ],
   "source": [
    "gtn2.linearize_idx_span([0,1],[0,1])"
   ]
  },
  {
   "cell_type": "code",
   "execution_count": 481,
   "metadata": {},
   "outputs": [],
   "source": [
    "P=(np.eye(gtn2.C_m.shape[0])-1j*gtn2.C_m)/2"
   ]
  },
  {
   "cell_type": "code",
   "execution_count": 452,
   "metadata": {},
   "outputs": [],
   "source": [
    "from opt_einsum import contract"
   ]
  },
  {
   "cell_type": "code",
   "execution_count": 482,
   "metadata": {},
   "outputs": [],
   "source": [
    "h=12*np.pi*1j*(contract(\"jk,kl,lj->jkl\",P,P,P)-contract(\"jl,lk,kj->jkl\",P,P,P))"
   ]
  },
  {
   "cell_type": "code",
   "execution_count": 486,
   "metadata": {},
   "outputs": [
    {
     "data": {
      "text/plain": [
       "(-5.873079800267078e-14+0j)"
      ]
     },
     "execution_count": 486,
     "metadata": {},
     "output_type": "execute_result"
    }
   ],
   "source": [
    "h[np.ix_(A_idx,B_idx,C_idx)].sum()"
   ]
  },
  {
   "cell_type": "code",
   "execution_count": 488,
   "metadata": {},
   "outputs": [
    {
     "data": {
      "text/plain": [
       "(-5.873079800267078e-14+0j)"
      ]
     },
     "execution_count": 488,
     "metadata": {},
     "output_type": "execute_result"
    }
   ],
   "source": [
    "chern_number(gtn2.C_m,A_idx,B_idx,C_idx)"
   ]
  },
  {
   "cell_type": "code",
   "execution_count": 458,
   "metadata": {},
   "outputs": [
    {
     "data": {
      "text/plain": [
       "4"
      ]
     },
     "execution_count": 458,
     "metadata": {},
     "output_type": "execute_result"
    }
   ],
   "source": [
    "gtn2.linearize_idx(i=0,j=1,orbit_idx=0,majorana=0)  "
   ]
  },
  {
   "cell_type": "code",
   "execution_count": 462,
   "metadata": {},
   "outputs": [
    {
     "data": {
      "text/plain": [
       "array([0, 6])"
      ]
     },
     "execution_count": 462,
     "metadata": {},
     "output_type": "execute_result"
    }
   ],
   "source": [
    "np.ravel_multi_index([[0,1],[0,1]],[5,5])"
   ]
  },
  {
   "cell_type": "code",
   "execution_count": 441,
   "metadata": {},
   "outputs": [
    {
     "data": {
      "text/plain": [
       "1.249000902703301e-16"
      ]
     },
     "execution_count": 441,
     "metadata": {},
     "output_type": "execute_result"
    }
   ],
   "source": [
    "np.max(np.abs(P.T.conj()-P))"
   ]
  },
  {
   "cell_type": "code",
   "execution_count": 443,
   "metadata": {},
   "outputs": [
    {
     "data": {
      "text/plain": [
       "2.886579864025407e-14"
      ]
     },
     "execution_count": 443,
     "metadata": {},
     "output_type": "execute_result"
    }
   ],
   "source": [
    "np.max(np.abs(P@P-P))"
   ]
  },
  {
   "cell_type": "code",
   "execution_count": 450,
   "metadata": {},
   "outputs": [
    {
     "data": {
      "text/plain": [
       "2.886579872166139e-14"
      ]
     },
     "execution_count": 450,
     "metadata": {},
     "output_type": "execute_result"
    }
   ],
   "source": [
    "np.max(np.abs(P.T.conj()@P-P))"
   ]
  },
  {
   "cell_type": "code",
   "execution_count": 421,
   "metadata": {},
   "outputs": [
    {
     "data": {
      "text/plain": [
       "array([[ 1.02290150e-17,  2.12627086e-01,  9.59583208e-03, ...,\n",
       "        -2.39034291e-02,  4.23823023e-03, -3.98507131e-02],\n",
       "       [-2.12627086e-01, -6.90892406e-18, -1.03912934e-01, ...,\n",
       "         1.31669302e-02, -1.32222135e-02,  3.51792143e-03],\n",
       "       [-9.59583208e-03,  1.03912934e-01,  4.33579278e-18, ...,\n",
       "         3.15582823e-02, -1.39048758e-02,  3.85001289e-02],\n",
       "       ...,\n",
       "       [ 2.39034291e-02, -1.31669302e-02, -3.15582823e-02, ...,\n",
       "        -6.73966481e-18, -8.45147817e-04, -1.38972953e-03],\n",
       "       [-4.23823023e-03,  1.32222135e-02,  1.39048758e-02, ...,\n",
       "         8.45147817e-04, -4.75642556e-19, -6.59453835e-01],\n",
       "       [ 3.98507131e-02, -3.51792143e-03, -3.85001289e-02, ...,\n",
       "         1.38972953e-03,  6.59453835e-01,  4.76738986e-19]])"
      ]
     },
     "execution_count": 421,
     "metadata": {},
     "output_type": "execute_result"
    }
   ],
   "source": [
    "p=gtn2.C_m"
   ]
  },
  {
   "cell_type": "code",
   "execution_count": null,
   "metadata": {},
   "outputs": [],
   "source": [
    "even start from stead state?\n",
    "random start to project to avoid even-odd effect?\n",
    "Kitaev's topological invariant\n"
   ]
  },
  {
   "cell_type": "code",
   "execution_count": 156,
   "metadata": {},
   "outputs": [
    {
     "data": {
      "text/plain": [
       "<matplotlib.image.AxesImage at 0x7fbd848592d0>"
      ]
     },
     "execution_count": 156,
     "metadata": {},
     "output_type": "execute_result"
    },
    {
     "data": {
      "image/png": "[encoded data removed]",
      "text/plain": [
       "<Figure size 640x480 with 1 Axes>"
      ]
     },
     "metadata": {},
     "output_type": "display_data"
    }
   ],
   "source": [
    "plt.imshow(gtn2.C_m)"
   ]
  },
  {
   "cell_type": "code",
   "execution_count": 21,
   "metadata": {},
   "outputs": [],
   "source": [
    "gtn2.measure_weak(0.9,[0,1],'onsite')\n",
    "gtn2.measure_weak(-0.9,[2,3],'onsite')"
   ]
  },
  {
   "cell_type": "code",
   "execution_count": null,
   "metadata": {},
   "outputs": [],
   "source": []
  },
  {
   "cell_type": "code",
   "execution_count": 240,
   "metadata": {},
   "outputs": [],
   "source": [
    "for t in range(gtn2.Ly*gtn2.Lx):\n",
    "    for ly in range(gtn2.Ly):\n",
    "        gtn2.measure_line_tri_op(p_list=0.5,pos=(ly,-1),even=True)\n",
    "        gtn2.measure_line_tri_op(p_list=1-0.5,pos=(ly,-1),even=False)"
   ]
  },
  {
   "cell_type": "code",
   "execution_count": null,
   "metadata": {},
   "outputs": [],
   "source": [
    "gtn2.C_m"
   ]
  },
  {
   "cell_type": "code",
   "execution_count": 196,
   "metadata": {},
   "outputs": [
    {
     "data": {
      "text/plain": [
       "array([[ 0.        ,  0.9850454 ,  0.17229498,  0.        ],\n",
       "       [-0.9850454 ,  0.        ,  0.        ,  0.        ],\n",
       "       [-0.17229498,  0.        ,  0.        ,  0.        ],\n",
       "       [ 0.        ,  0.        ,  0.        ,  0.        ]])"
      ]
     },
     "execution_count": 196,
     "metadata": {},
     "output_type": "execute_result"
    }
   ],
   "source": [
    "gtn2.C_m[:4,:4]"
   ]
  },
  {
   "cell_type": "code",
   "execution_count": 190,
   "metadata": {},
   "outputs": [
    {
     "data": {
      "text/plain": [
       "2.1442952223724603e-15"
      ]
     },
     "execution_count": 190,
     "metadata": {},
     "output_type": "execute_result"
    }
   ],
   "source": [
    "gtn2.von_Neumann_entropy_m(np.arange(gtn2.L//2))"
   ]
  },
  {
   "cell_type": "code",
   "execution_count": 107,
   "metadata": {},
   "outputs": [
    {
     "data": {
      "text/plain": [
       "([3, 11, 19], [10, 18, 26])"
      ]
     },
     "execution_count": 107,
     "metadata": {},
     "output_type": "execute_result"
    }
   ],
   "source": [
    "gtn2.measure_line_tri_op(p_list=0.5,pos=(-1,1),even=False)"
   ]
  },
  {
   "cell_type": "code",
   "execution_count": 39,
   "metadata": {},
   "outputs": [
    {
     "data": {
      "text/plain": [
       "8"
      ]
     },
     "execution_count": 39,
     "metadata": {},
     "output_type": "execute_result"
    }
   ],
   "source": [
    "gtn2.linearize_idx(1,0,0)"
   ]
  },
  {
   "cell_type": "code",
   "execution_count": 42,
   "metadata": {},
   "outputs": [
    {
     "data": {
      "text/plain": [
       "((1, 1), 0)"
      ]
     },
     "execution_count": 42,
     "metadata": {},
     "output_type": "execute_result"
    }
   ],
   "source": [
    "gtn2.delinearize_idx(10)"
   ]
  },
  {
   "cell_type": "code",
   "execution_count": 6,
   "metadata": {},
   "outputs": [],
   "source": [
    "gtn2.measure_tri_op(0,1,p=1)"
   ]
  },
  {
   "cell_type": "code",
   "execution_count": 40,
   "metadata": {},
   "outputs": [
    {
     "data": {
      "text/plain": [
       "True"
      ]
     },
     "execution_count": 40,
     "metadata": {},
     "output_type": "execute_result"
    }
   ],
   "source": [
    "gtn2.history"
   ]
  },
  {
   "cell_type": "code",
   "execution_count": 48,
   "metadata": {},
   "outputs": [
    {
     "data": {
      "text/plain": [
       "[array([0.        , 0.98804366, 0.15417434])]"
      ]
     },
     "execution_count": 48,
     "metadata": {},
     "output_type": "execute_result"
    }
   ],
   "source": [
    "gtn2.n_history"
   ]
  },
  {
   "cell_type": "markdown",
   "metadata": {},
   "source": [
    "# ED of local Ham"
   ]
  },
  {
   "cell_type": "code",
   "execution_count": 6,
   "metadata": {},
   "outputs": [],
   "source": [
    "import numpy as np"
   ]
  },
  {
   "cell_type": "code",
   "execution_count": 7,
   "metadata": {},
   "outputs": [
    {
     "data": {
      "text/plain": [
       "'1.24.0'"
      ]
     },
     "execution_count": 7,
     "metadata": {},
     "output_type": "execute_result"
    }
   ],
   "source": [
    "numpy.__version__"
   ]
  },
  {
   "cell_type": "code",
   "execution_count": 8,
   "metadata": {},
   "outputs": [],
   "source": [
    "from quspin.basis import spin_basis_general"
   ]
  },
  {
   "cell_type": "code",
   "execution_count": 38,
   "metadata": {},
   "outputs": [],
   "source": [
    "L = 6\n",
    "sites = np.arange(L)"
   ]
  },
  {
   "cell_type": "code",
   "execution_count": 39,
   "metadata": {},
   "outputs": [],
   "source": [
    "basis = spin_basis_general(\n",
    "    L,\n",
    ")"
   ]
  },
  {
   "cell_type": "code",
   "execution_count": null,
   "metadata": {},
   "outputs": [],
   "source": [
    "print(basis)"
   ]
  },
  {
   "cell_type": "code",
   "execution_count": 1,
   "metadata": {},
   "outputs": [],
   "source": [
    "from quspin.basis import spinless_fermion_basis_1d"
   ]
  },
  {
   "cell_type": "code",
   "execution_count": 2,
   "metadata": {},
   "outputs": [],
   "source": [
    "from quspin.operators import hamiltonian, exp_op"
   ]
  },
  {
   "cell_type": "code",
   "execution_count": 45,
   "metadata": {},
   "outputs": [
    {
     "name": "stdout",
     "output_type": "stream",
     "text": [
      "Hermiticity check passed!\n",
      "Symmetry checks passed!\n",
      "Particle conservation check passed!\n"
     ]
    }
   ],
   "source": [
    "L = 10  # system size\n",
    "J = 1.0  # uniform hopping\n",
    "deltaJ = 0.1  # bond dimerisation\n",
    "Delta = 0.5  # staggered potential\n",
    "# beta = 100.0  # inverse temperature for Fermi-Dirac distribution\n",
    "##### construct single-particle Hamiltonian #####\n",
    "# define site-coupling lists\n",
    "hop_pm = [[-J - deltaJ * (-1) ** i, i, (i + 1) % L] for i in range(L)]  # PBC\n",
    "hop_mp = [[+J + deltaJ * (-1) ** i, i, (i + 1) % L] for i in range(L)]  # PBC\n",
    "stagg_pot = [[Delta * (-1) ** i, i] for i in range(L)]\n",
    "# define static and dynamic lists\n",
    "static = [[\"+-\", hop_pm], [\"-+\", hop_mp], [\"n\", stagg_pot]]\n",
    "dynamic = []\n",
    "# define basis\n",
    "basis = spinless_fermion_basis_1d(L, Nf=1)\n",
    "# build real-space Hamiltonian\n",
    "H = hamiltonian(static, dynamic, basis=basis, dtype=np.float64)\n",
    "# diagonalise real-space Hamiltonian\n",
    "E, V = H.eigh()"
   ]
  },
  {
   "cell_type": "code",
   "execution_count": 68,
   "metadata": {},
   "outputs": [],
   "source": [
    "import numpy as np"
   ]
  },
  {
   "cell_type": "code",
   "execution_count": 79,
   "metadata": {},
   "outputs": [],
   "source": [
    "L=6\n",
    "basis = spinless_fermion_basis_1d(L, Nf=4)\n"
   ]
  },
  {
   "cell_type": "code",
   "execution_count": 80,
   "metadata": {},
   "outputs": [
    {
     "data": {
      "text/plain": [
       "15"
      ]
     },
     "execution_count": 80,
     "metadata": {},
     "output_type": "execute_result"
    }
   ],
   "source": [
    "basis.Ns"
   ]
  },
  {
   "cell_type": "code",
   "execution_count": 18,
   "metadata": {},
   "outputs": [],
   "source": [
    "mu=1\n",
    "t=1\n",
    "Delta=1"
   ]
  },
  {
   "cell_type": "code",
   "execution_count": 19,
   "metadata": {},
   "outputs": [],
   "source": [
    "onsite = [[-mu,i] for i in range(0,6,2)] + [[mu,i] for i in range(1,6,2)]\n",
    "LL = [[-t,0,2],[-t,0,4],[-t,2,0],[-t,4,0]]\n",
    "RR = [[t,1,3],[t,1,5],[t,3,1],[t,5,1]]\n",
    "LR = [[Delta,0,3],[-Delta,1,2],[-1j*Delta,0,5],[-1j*Delta,1,4],[Delta,3,0],[-Delta,2,1],[1j*Delta,5,0],[1j*Delta,4,1]]\n",
    "# xR\n",
    "# xLR\n",
    "# xRL\n",
    "\n",
    "static=[[\"n\", onsite],[\"+-\",LL],[\"+-\",RR],[\"+-\",LR]]\n",
    "dynamic=[]"
   ]
  },
  {
   "cell_type": "code",
   "execution_count": 61,
   "metadata": {},
   "outputs": [],
   "source": [
    "basis=spinless_fermion_basis_1d(L, Nf=1)"
   ]
  },
  {
   "cell_type": "code",
   "execution_count": 62,
   "metadata": {},
   "outputs": [
    {
     "name": "stdout",
     "output_type": "stream",
     "text": [
      "Hermiticity check passed!\n",
      "Symmetry checks passed!\n",
      "Particle conservation check passed!\n"
     ]
    }
   ],
   "source": [
    "H=hamiltonian(static, dynamic, basis=basis, )"
   ]
  },
  {
   "cell_type": "code",
   "execution_count": 63,
   "metadata": {},
   "outputs": [
    {
     "data": {
      "text/plain": [
       "matrix([[-1.+0.j,  0.+0.j, -1.+0.j,  1.+0.j, -1.+0.j,  0.-1.j],\n",
       "        [ 0.+0.j,  1.+0.j, -1.+0.j,  1.+0.j,  0.-1.j,  1.+0.j],\n",
       "        [-1.+0.j, -1.+0.j, -1.+0.j,  0.+0.j,  0.+0.j,  0.+0.j],\n",
       "        [ 1.+0.j,  1.+0.j,  0.+0.j,  1.+0.j,  0.+0.j,  0.+0.j],\n",
       "        [-1.+0.j,  0.+1.j,  0.+0.j,  0.+0.j, -1.+0.j,  0.+0.j],\n",
       "        [ 0.+1.j,  1.+0.j,  0.+0.j,  0.+0.j,  0.+0.j,  1.+0.j]])"
      ]
     },
     "execution_count": 63,
     "metadata": {},
     "output_type": "execute_result"
    }
   ],
   "source": [
    "H.todense()"
   ]
  },
  {
   "cell_type": "code",
   "execution_count": 64,
   "metadata": {},
   "outputs": [],
   "source": [
    "E, V = H.eigh()"
   ]
  },
  {
   "cell_type": "code",
   "execution_count": 65,
   "metadata": {},
   "outputs": [
    {
     "data": {
      "text/plain": [
       "array([-2.97839968, -1.4404177 , -0.23309265,  0.23309265,  1.4404177 ,\n",
       "        2.97839968])"
      ]
     },
     "execution_count": 65,
     "metadata": {},
     "output_type": "execute_result"
    }
   ],
   "source": [
    "E"
   ]
  },
  {
   "cell_type": "code",
   "execution_count": 58,
   "metadata": {},
   "outputs": [
    {
     "data": {
      "text/plain": [
       "array([-2.97839968, -1.4404177 , -0.23309265,  0.23309265,  1.4404177 ,\n",
       "        2.97839968])"
      ]
     },
     "execution_count": 58,
     "metadata": {},
     "output_type": "execute_result"
    }
   ],
   "source": [
    "E"
   ]
  },
  {
   "cell_type": "code",
   "execution_count": 66,
   "metadata": {},
   "outputs": [
    {
     "data": {
      "text/plain": [
       "array([ 0.65407316-0.j        ,  0.20083574+0.20083574j,\n",
       "        0.43212143+0.10151424j, -0.21488764-0.05048154j,\n",
       "        0.43212143-0.10151424j, -0.05048154-0.21488764j])"
      ]
     },
     "execution_count": 66,
     "metadata": {},
     "output_type": "execute_result"
    }
   ],
   "source": [
    "V[:,0]"
   ]
  },
  {
   "cell_type": "code",
   "execution_count": 70,
   "metadata": {},
   "outputs": [
    {
     "data": {
      "text/plain": [
       "array([0.4278117 , 0.08066999, 0.19703407, 0.04872508, 0.19703407,\n",
       "       0.04872508])"
      ]
     },
     "execution_count": 70,
     "metadata": {},
     "output_type": "execute_result"
    }
   ],
   "source": [
    "np.abs(V[:,0])**2"
   ]
  },
  {
   "cell_type": "code",
   "execution_count": 71,
   "metadata": {},
   "outputs": [
    {
     "data": {
      "text/plain": [
       "array([0.08528068, 0.14368696, 0.37335642, 0.01215976, 0.37335642,\n",
       "       0.01215976])"
      ]
     },
     "execution_count": 71,
     "metadata": {},
     "output_type": "execute_result"
    }
   ],
   "source": [
    "np.abs(V[:,1])**2"
   ]
  },
  {
   "cell_type": "code",
   "execution_count": 72,
   "metadata": {},
   "outputs": [
    {
     "data": {
      "text/plain": [
       "array([0.23896356, 0.02358711, 0.26588029, 0.10284437, 0.26588029,\n",
       "       0.10284437])"
      ]
     },
     "execution_count": 72,
     "metadata": {},
     "output_type": "execute_result"
    }
   ],
   "source": [
    "np.abs(V[:,2])**2"
   ]
  },
  {
   "cell_type": "code",
   "execution_count": 73,
   "metadata": {},
   "outputs": [
    {
     "data": {
      "text/plain": [
       "array([0.02358711, 0.23896356, 0.10284437, 0.26588029, 0.10284437,\n",
       "       0.26588029])"
      ]
     },
     "execution_count": 73,
     "metadata": {},
     "output_type": "execute_result"
    }
   ],
   "source": [
    "np.abs(V[:,3])**2"
   ]
  },
  {
   "cell_type": "code",
   "execution_count": 60,
   "metadata": {},
   "outputs": [
    {
     "data": {
      "text/plain": [
       "array([62, 61, 59, 55, 47, 31], dtype=uint32)"
      ]
     },
     "execution_count": 60,
     "metadata": {},
     "output_type": "execute_result"
    }
   ],
   "source": [
    "basis.states"
   ]
  },
  {
   "cell_type": "code",
   "execution_count": 44,
   "metadata": {},
   "outputs": [
    {
     "data": {
      "text/plain": [
       "'|1 1 1 1 1 0>'"
      ]
     },
     "execution_count": 44,
     "metadata": {},
     "output_type": "execute_result"
    }
   ],
   "source": [
    "basis.int_to_state(62)"
   ]
  },
  {
   "cell_type": "code",
   "execution_count": null,
   "metadata": {},
   "outputs": [],
   "source": []
  },
  {
   "cell_type": "code",
   "execution_count": null,
   "metadata": {},
   "outputs": [],
   "source": [
    "basis."
   ]
  },
  {
   "cell_type": "code",
   "execution_count": 75,
   "metadata": {},
   "outputs": [
    {
     "data": {
      "text/plain": [
       "'|1 0 1 0 0 0>'"
      ]
     },
     "execution_count": 75,
     "metadata": {},
     "output_type": "execute_result"
    }
   ],
   "source": [
    "[basis.int_to_state(basis.states[1]) ]"
   ]
  },
  {
   "cell_type": "code",
   "execution_count": null,
   "metadata": {},
   "outputs": [],
   "source": []
  },
  {
   "cell_type": "code",
   "execution_count": 50,
   "metadata": {},
   "outputs": [],
   "source": [
    "import matplotlib.pyplot as plt"
   ]
  },
  {
   "cell_type": "code",
   "execution_count": 55,
   "metadata": {},
   "outputs": [
    {
     "data": {
      "text/plain": [
       "(10, 10)"
      ]
     },
     "execution_count": 55,
     "metadata": {},
     "output_type": "execute_result"
    }
   ],
   "source": [
    "(H.as_dense_format())"
   ]
  },
  {
   "cell_type": "code",
   "execution_count": 12,
   "metadata": {},
   "outputs": [],
   "source": [
    "states = (\n",
    "    basis.states\n",
    ")"
   ]
  },
  {
   "cell_type": "code",
   "execution_count": 17,
   "metadata": {},
   "outputs": [],
   "source": [
    "array_inds = np.arange(\n",
    "    basis.Ns\n",
    ")"
   ]
  },
  {
   "cell_type": "code",
   "execution_count": 18,
   "metadata": {},
   "outputs": [
    {
     "data": {
      "text/plain": [
       "array([0, 1, 2, 3])"
      ]
     },
     "execution_count": 18,
     "metadata": {},
     "output_type": "execute_result"
    }
   ],
   "source": [
    "array_inds"
   ]
  },
  {
   "cell_type": "code",
   "execution_count": 19,
   "metadata": {},
   "outputs": [
    {
     "name": "stdout",
     "output_type": "stream",
     "text": [
      "\n",
      "'array index' and 'states' columns when printing the basis:\n",
      "array indices: [0 1 2 3]\n",
      "states in int rep: [3 2 1 0]\n"
     ]
    }
   ],
   "source": [
    "print(\"\\n'array index' and 'states' columns when printing the basis:\")\n",
    "print(\"array indices:\", array_inds)\n",
    "print(\"states in int rep:\", states)"
   ]
  },
  {
   "cell_type": "code",
   "execution_count": 20,
   "metadata": {},
   "outputs": [],
   "source": [
    "s = basis.states[2]\n",
    "array_ind_s = basis.index(\n",
    "    s\n",
    ") "
   ]
  },
  {
   "cell_type": "code",
   "execution_count": 22,
   "metadata": {},
   "outputs": [
    {
     "name": "stdout",
     "output_type": "stream",
     "text": [
      "\n",
      "print array index of s, and s (in int rep); Note: the array index is crucial for reading-off matrix elements\n",
      "2 1\n"
     ]
    }
   ],
   "source": [
    "print(\n",
    "    \"\\nprint array index of s, and s (in int rep); Note: the array index is crucial for reading-off matrix elements\"\n",
    ")\n",
    "print(array_ind_s, s)\n"
   ]
  },
  {
   "cell_type": "code",
   "execution_count": 34,
   "metadata": {},
   "outputs": [
    {
     "name": "stdout",
     "output_type": "stream",
     "text": [
      "\n",
      "print Fock state string of s, and s (in int rep):\n",
      "|00> 0\n"
     ]
    }
   ],
   "source": [
    "fock_state_str_s = \"|00>\"  # works also if the ket-forming strings | > are omitted\n",
    "int_rep_s = basis.state_to_int(fock_state_str_s)\n",
    "print(\"\\nprint Fock state string of s, and s (in int rep):\")\n",
    "print(fock_state_str_s, int_rep_s)"
   ]
  },
  {
   "cell_type": "code",
   "execution_count": 35,
   "metadata": {},
   "outputs": [
    {
     "name": "stdout",
     "output_type": "stream",
     "text": [
      "\n",
      "print Fock state string of s, and s (in int rep):\n",
      "|0 0> 0\n"
     ]
    }
   ],
   "source": [
    "fock_s = basis.int_to_state(int_rep_s, bracket_notation=True)\n",
    "print(\"\\nprint Fock state string of s, and s (in int rep):\")\n",
    "print(fock_s, int_rep_s)"
   ]
  },
  {
   "cell_type": "code",
   "execution_count": 36,
   "metadata": {},
   "outputs": [
    {
     "name": "stdout",
     "output_type": "stream",
     "text": [
      "print Fock state string (without | and >) of s, and s (in int rep):\n",
      "00 0\n"
     ]
    }
   ],
   "source": [
    "fock_s = basis.int_to_state(int_rep_s, bracket_notation=False)\n",
    "print(\"print Fock state string (without | and >) of s, and s (in int rep):\")\n",
    "print(fock_s, int_rep_s)"
   ]
  },
  {
   "cell_type": "code",
   "execution_count": 37,
   "metadata": {},
   "outputs": [
    {
     "name": "stdout",
     "output_type": "stream",
     "text": [
      "\n",
      "print array index, int rep, and fock state rep of s:\n",
      "2 1 |0 1>\n"
     ]
    }
   ],
   "source": [
    "array_ind_s = 2\n",
    "int_rep_s = basis.states[array_ind_s]\n",
    "fock_s = basis.int_to_state(int_rep_s, bracket_notation=True)\n",
    "print(\"\\nprint array index, int rep, and fock state rep of s:\")\n",
    "print(array_ind_s, int_rep_s, fock_s)  # compare with print(basis) output\n",
    "# "
   ]
  },
  {
   "cell_type": "code",
   "execution_count": null,
   "metadata": {},
   "outputs": [],
   "source": []
  }
 ],
 "metadata": {
  "kernelspec": {
   "display_name": "base",
   "language": "python",
   "name": "python3"
  },
  "language_info": {
   "codemirror_mode": {
    "name": "ipython",
    "version": 3
   },
   "file_extension": ".py",
   "mimetype": "text/x-python",
   "name": "python",
   "nbconvert_exporter": "python",
   "pygments_lexer": "ipython3",
   "version": "3.11.4"
  }
 },
 "nbformat": 4,
 "nbformat_minor": 2
}
