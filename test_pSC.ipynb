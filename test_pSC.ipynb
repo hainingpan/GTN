{
 "cells": [
  {
   "cell_type": "markdown",
   "metadata": {},
   "source": [
    "# API"
   ]
  },
  {
   "cell_type": "code",
   "execution_count": 1,
   "metadata": {},
   "outputs": [],
   "source": [
    "import numpy as np\n",
    "import scipy.sparse as sp\n",
    "import scipy.sparse.linalg as sla\n",
    "import scipy.linalg as la\n",
    "import scipy.stats\n",
    "import matplotlib.pyplot as plt\n",
    "import time\n",
    "import pickle\n",
    "from copy import copy\n",
    "# %load_ext line_profiler"
   ]
  },
  {
   "cell_type": "code",
   "execution_count": 2,
   "metadata": {},
   "outputs": [],
   "source": [
    "plt.rcParams['text.usetex']=True\n",
    "plt.rcParams['font.family']='serif'\n",
    "plt.rcParams['font.size']=9\n",
    "plt.rcParams['axes.titlesize']=plt.rcParams['font.size']\n",
    "plt.rcParams['figure.figsize']=(6.8,4)"
   ]
  },
  {
   "cell_type": "code",
   "execution_count": 42,
   "metadata": {},
   "outputs": [
    {
     "data": {
      "text/plain": [
       "<AsyncResult: execute>"
      ]
     },
     "execution_count": 42,
     "metadata": {},
     "output_type": "execute_result"
    }
   ],
   "source": [
    "# ipcluster start --engines=MPI -n 4\n",
    "import ipyparallel as ipp\n",
    "rc = ipp.Client()\n",
    "rc[:].execute(\"from pSC import *\")\n",
    "rc[:].execute(\"import numpy as np\")"
   ]
  },
  {
   "cell_type": "code",
   "execution_count": 9,
   "metadata": {},
   "outputs": [],
   "source": [
    "# %%writefile pSC.py\n",
    "import numpy as np\n",
    "import scipy.linalg as la\n",
    "import numpy.linalg as nla\n",
    "import numpy.matlib\n",
    "\n",
    "class Params:\n",
    "    def __init__(self,\n",
    "            Lx=4,\n",
    "            Ly=16,\n",
    "            Delta=1,\n",
    "            t=1,\n",
    "            m=1,\n",
    "            bcx=-1,\n",
    "            bcy=1,\n",
    "            T=0,\n",
    "            dxmax=16,\n",
    "            dymax=16,\n",
    "            history=False,\n",
    "            ):\n",
    "        self.Lx = Lx\n",
    "        self.Ly = Ly\n",
    "        self.Delta = Delta\n",
    "        self.t = t\n",
    "        self.m = m\n",
    "        self.bcx = bcx\n",
    "        self.bcy = bcy\n",
    "        self.T = T\n",
    "        self.history = history\n",
    "        self.sigmax = np.array([[0, 1], [1, 0]])\n",
    "        self.sigmay = np.array([[0, -1j], [1j, 0]])\n",
    "        self.sigmaz = np.array([[1, 0], [0, -1]])\n",
    "        # check which one is faster, use sparse or dense?\n",
    "        if Lx<np.inf and Ly<np.inf:\n",
    "            hopx = np.diag(np.ones(Lx-1), -1)\n",
    "            hopx[0, -1] = bcx\n",
    "            hopy = np.diag(np.ones(Ly-1), -1)\n",
    "            hopy[0, -1] = bcy\n",
    "            hopxmat = np.kron( np.eye(Ly),hopx)\n",
    "            hopymat = np.kron(hopy,np.eye(Lx))\n",
    "            onsitemat = np.eye(Lx*Ly)\n",
    "            self.Hamiltonian = ((np.kron(hopxmat-hopxmat.T, self.sigmax)+np.kron(hopymat-hopymat.T, self.sigmay))* 1j*Delta-t*np.kron(hopxmat+hopxmat.T+hopymat+hopymat.T, self.sigmaz))/2+m*np.kron(onsitemat, self.sigmaz)\n",
    "        elif Lx==np.inf and Ly==np.inf:\n",
    "            self.dxmax=dxmax\n",
    "            self.dymax=dymax\n",
    "            self.dx=lambda kx: Delta*np.sin(kx)\n",
    "            self.dy=lambda ky: Delta*np.sin(ky)\n",
    "            self.dz=lambda kx,ky: m-t*np.cos(kx)-t*np.cos(ky)\n",
    "        else:\n",
    "            raise ValueError('The size of system {:d,:d} is not supported.'.format(Lx,Ly))\n",
    "\n",
    "    def bandstructure(self):\n",
    "        val, vec = nla.eigh(self.Hamiltonian)\n",
    "        sortindex = np.argsort(val)\n",
    "        self.val = val[sortindex]\n",
    "        self.vec = vec[:, sortindex]\n",
    "\n",
    "    def fermi_dist_k(self,kx,ky,branch,E_F=0):\n",
    "        if self.T==0:\n",
    "            return np.heaviside(E_F-self.E_k(kx,ky,branch),0)\n",
    "        else:\n",
    "            return 1/(1+np.exp((self.E_k(kx,ky,branch)-E_F)/self.T))\n",
    "\n",
    "    def fermi_dist(self, energy, E_F):\n",
    "        if self.T == 0:\n",
    "            return np.heaviside(E_F-energy, 0)\n",
    "        else:\n",
    "            return 1/(1+np.exp((energy-E_F)/self.T))\n",
    "\n",
    "    def correlation_matrix_inf_fft(self,threshold=[1024,512]):\n",
    "        '''\n",
    "        self.dxmax/self.dymax: the maximal distance in x/y direction (in terms of unit cell) \n",
    "        Directly call fft to evaluate the integral\n",
    "\n",
    "        !!! Failed to reproduce onsite\n",
    "        '''\n",
    "        assert self.Lx==np.inf and self.Ly==np.inf, \"Wire length should be inf\"\n",
    "        # cov_mat=[]\n",
    "        Nxmax=max(2*self.dxmax,threshold[0])\n",
    "        Nymax=max(2*self.dymax,threshold[1])\n",
    "        if self.T>0:\n",
    "            pass    #to be filled\n",
    "        else:\n",
    "            kxlist=np.arange(0,2*np.pi,2*np.pi/Nxmax)\n",
    "            kylist=np.arange(0,2*np.pi,2*np.pi/Nymax)\n",
    "            kxmap,kymap=np.meshgrid(kxlist,kylist)\n",
    "            dxmap=self.dx(kxmap)\n",
    "            dymap=self.dy(kymap)\n",
    "            dzmap=self.dz(kxmap,kymap)\n",
    "            Ekmap=np.sqrt(dxmap**2+dymap**2+dzmap**2)\n",
    "            Ekxymap=np.sqrt(dxmap**2+dymap**2)\n",
    "            costheta=dzmap/Ekmap\n",
    "            sintheta=Ekxymap/Ekmap\n",
    "            Ekxymap[0,0]=np.inf #to avoid 0/0 in cos(phi) & sin(phi); the order of this line matters\n",
    "            cosphi=dxmap/Ekxymap\n",
    "            sinphi=dymap/Ekxymap\n",
    "            fftcostheta=np.fft.ifft2(costheta)\n",
    "            constmap=np.zeros((Nymax,Nxmax))\n",
    "            constmap[0,0]=0.5\n",
    "            A_11=constmap-fftcostheta/2\n",
    "            A_22=constmap+fftcostheta/2\n",
    "            A_12=np.fft.ifft2(-(cosphi-1j*sinphi)/2*sintheta)\n",
    "            A_21=np.fft.ifft2(-(cosphi+1j*sinphi)/2*sintheta)\n",
    "            mat=np.stack([[A_11,A_12],[A_21,A_22]])\n",
    "            C_f=np.zeros((2*self.dxmax*self.dymax,2*self.dxmax*self.dymax))*1j\n",
    "            for i in range(self.dxmax*self.dymax):\n",
    "                for j in range(i):\n",
    "                    ix,iy=i%self.dxmax,i//self.dxmax\n",
    "                    jx,jy=j%self.dxmax,j//self.dxmax\n",
    "                    dx,dy=(ix-jx)%Nxmax,(iy-jy)%Nymax\n",
    "                    C_f[2*i:2*i+2,2*j:2*j+2]=mat[:,:,dy,dx]\n",
    "            C_f=C_f+C_f.T.conj()\n",
    "            for i in range(self.dxmax*self.dymax):\n",
    "                C_f[2*i:2*i+2,2*i:2*i+2]=mat[:,:,0,0]\n",
    "            self.C_f=C_f\n",
    "\n",
    "\n",
    "    def correlation_matrix(self, E_F=0):\n",
    "        '''\n",
    "        \n",
    "        '''\n",
    "        if not (hasattr(self, 'val') and hasattr(self, 'vec')):\n",
    "            self.bandstructure()\n",
    "        occupancy_mat = np.matlib.repmat(self.fermi_dist(self.val, E_F), self.vec.shape[0], 1)\n",
    "        self.C_f=((occupancy_mat*self.vec)@self.vec.T.conj())\n",
    "        \n",
    "    def covariance_matrix(self, E_F=0):\n",
    "        '''\n",
    "        c.f. notes\n",
    "        Maybe differs by a minus sign\n",
    "        '''\n",
    "        if not hasattr(self, 'C_f'):\n",
    "            if self.Lx < np.inf and self.Ly<np.inf:\n",
    "                self.correlation_matrix()\n",
    "            else:\n",
    "                self.correlation_matrix_inf_fft()\n",
    "        G=self.C_f[::2,::2]\n",
    "        F=self.C_f[::2,1::2]\n",
    "        # G=self.C_f[1::2,1::2]\n",
    "        # F=self.C_f[1::2,::2]\n",
    "        self.G,self.F=G,F\n",
    "        Gamma_11 = 1j*(F.conj().T+F+G-G.T)\n",
    "        Gamma_21 = -(np.eye(G.shape[0])+F.conj().T-F-G-G.T)\n",
    "        Gamma_12 = -Gamma_21.T\n",
    "        Gamma_22 = -1j*(F.conj().T+F+G.T-G)\n",
    "        Gamma = np.zeros((2*G.shape[0], 2*G.shape[0]), dtype=complex)\n",
    "        even = np.arange(2*G.shape[0])[::2]\n",
    "        odd = np.arange(2*G.shape[0])[1::2]\n",
    "        Gamma[np.ix_(even, even)] = Gamma_11\n",
    "        Gamma[np.ix_(even, odd)] = Gamma_12\n",
    "        Gamma[np.ix_(odd, even)] = Gamma_21\n",
    "        Gamma[np.ix_(odd, odd)] = Gamma_22\n",
    "        assert np.abs(np.imag(Gamma)).max() < 1e-10, \"Covariance matrix not real {:.5f}\".format(np.abs(np.imag(Gamma)).max())\n",
    "        self.C_m = np.real(Gamma-Gamma.T.conj())/2\n",
    "        self.C_m_history = [self.C_m]\n",
    "\n",
    "    def linearize_index(self, subregion, n, proj=False):\n",
    "        '''\n",
    "        If proj ==True, then the index used for projection operator will be returned\n",
    "        '''\n",
    "        subregion_x, subregion_y = (subregion)\n",
    "        subregion_x = np.array(subregion_x)\n",
    "        subregion_y = np.array(subregion_y)\n",
    "        X, Y = np.meshgrid(subregion_x, subregion_y)\n",
    "        if self.Ly<np.inf:\n",
    "            assert subregion_x.max()<self.Lx and subregion_y.max()<self.Ly, '({:d},{:d}) exceed ({:d},{:d})'.format(subregion_x.max(),self.Lx,subregion_y.max(),self.Ly)\n",
    "            linear_index = ((X+Y*self.Lx).flatten('F'))\n",
    "        else:\n",
    "            assert subregion_x.max()<self.dxmax and subregion_y.max()<self.dymax, '({:f},{:f}) exceed ({:f},{:f})'.format(subregion_x.max(),(self.dxmax),subregion_y.max(),(self.dymax))\n",
    "            linear_index = ((X+Y*self.dxmax).flatten('F'))\n",
    "        if proj:\n",
    "            return sorted(np.concatenate([n*linear_index+i for i in range(0, n, 2)]))\n",
    "        else:\n",
    "            return sorted(np.concatenate([n*linear_index+i for i in range(n)]))\n",
    "\n",
    "    def linearize_idx_span(self,ilist,jlist,n_orbits=2,shape_func=lambda i,j: True):\n",
    "        multi_index=np.array([(i%self.Lx,j%self.Ly,orbit,maj) for i in ilist for j in jlist for orbit in range(n_orbits) for maj in range(2) if shape_func(i%self.Lx,j%self.Ly)])\n",
    "        return np.ravel_multi_index(multi_index.T,(self.Lx,self.Ly,n_orbits,2))\n",
    "        \n",
    "    def square_index(self, subregion):\n",
    "        subregion=np.unique(np.array(subregion)//2)\n",
    "        if self.Lx<np.inf and self.Ly<np.inf:\n",
    "            return subregion%self.Lx,subregion//self.Lx\n",
    "        else:\n",
    "            return subregion%self.dxmax,subregion//self.dxmax\n",
    "            \n",
    "    def c_subregion_f(self, subregion, linear=True):\n",
    "        '''\n",
    "        subregion: [subregoin_x, subregion_y] index of unit cell\n",
    "        '''\n",
    "        if not hasattr(self, 'C_f'):\n",
    "            self.correlation_matrix()\n",
    "        try:\n",
    "            subregion = list(subregion)\n",
    "        except:\n",
    "            raise ValueError(\"The subregion is ill-defined\"+subregion)\n",
    "\n",
    "        if len(subregion) == 2:\n",
    "            if isinstance(subregion[0], int) and isinstance(subregion[1], int):\n",
    "                linear = True\n",
    "            elif (not isinstance(subregion[0], int)) and (not isinstance(subregion[1], int)):\n",
    "                linear = False\n",
    "            else:\n",
    "                raise ValueError('Illegal subregion')\n",
    "        else:\n",
    "            linear = True\n",
    "        if linear:\n",
    "            # linearized index\n",
    "            subregion_index = subregion\n",
    "        else:\n",
    "            # 2D index\n",
    "            subregion_index = self.linearize_index(subregion, 2)\n",
    "        # This is a dumb way...\n",
    "        return self.C_f[np.ix_(subregion_index, subregion_index)]\n",
    "\n",
    "    def von_Neumann_entropy_f(self, subregion):\n",
    "        c_A = self.c_subregion_f(subregion)\n",
    "        val = nla.eigvalsh(c_A)\n",
    "        self.val_sh = val\n",
    "        val = np.sort(val)\n",
    "        val=np.sort(val)[:val.shape[0]//2]\n",
    "        return np.real(-np.sum(val*np.log(val+1e-18j))-np.sum((1-val)*np.log(1-val+1e-18j)))\n",
    "\n",
    "    def c_subregion_m(self, subregion, Gamma=None):\n",
    "        '''\n",
    "        subregion: [subregoin_x, subregion_y] index of unit cell\n",
    "        '''\n",
    "        if not hasattr(self, 'C_m'):\n",
    "            self.covariance_matrix()\n",
    "        if Gamma is None:\n",
    "            Gamma = self.C_m_history[-1]\n",
    "        try:\n",
    "            subregion = list(subregion)\n",
    "        except:\n",
    "            raise ValueError(\"The subregion is ill-defined\"+subregion)\n",
    "\n",
    "        if len(subregion) == 2:\n",
    "            if isinstance(subregion[0], int) and isinstance(subregion[1], int):\n",
    "                linear = True\n",
    "            elif (not isinstance(subregion[0], int)) and (not isinstance(subregion[1], int)):\n",
    "                linear = False\n",
    "            else:\n",
    "                raise ValueError('Illegal subregion')\n",
    "        else:\n",
    "            linear = True\n",
    "        if linear:\n",
    "            # linearized index\n",
    "            subregion_index = subregion\n",
    "        else:\n",
    "            # 2D index\n",
    "            subregion_index = self.linearize_index(subregion, 2)\n",
    "\n",
    "        return Gamma[np.ix_(subregion_index, subregion_index)]\n",
    "\n",
    "    def von_Neumann_entropy_m(self, subregion):\n",
    "        c_A = self.c_subregion_m(subregion)\n",
    "        val = nla.eigvalsh(1j*c_A)\n",
    "        self.val_sh = val\n",
    "        val = np.sort(val)\n",
    "        val = (1-val)/2+1e-18j  # \\lambda=(1-\\xi)/2\n",
    "        return np.real(-np.sum(val*np.log(val))-np.sum((1-val)*np.log(1-val)))/2\n",
    "\n",
    "    def mutual_information_f(self, subregion_A, subregion_B):\n",
    "        subregion_A = self.linearize_index(subregion_A, 2)\n",
    "        subregion_B = self.linearize_index(subregion_B, 2)\n",
    "        s_A = self.von_Neumann_entropy_f(subregion_A)\n",
    "        s_B = self.von_Neumann_entropy_f(subregion_B)\n",
    "        assert np.intersect1d(\n",
    "            subregion_A, subregion_B).size == 0, \"Subregion A and B overlap\"\n",
    "        subregion_AB = np.concatenate([subregion_A, subregion_B])\n",
    "        s_AB = self.von_Neumann_entropy_f(subregion_AB)\n",
    "        return s_A+s_B-s_AB\n",
    "\n",
    "    def mutual_information_m(self, subregion_A, subregion_B,linear=False):\n",
    "        if not linear:\n",
    "            subregion_A = self.linearize_index(subregion_A, 2)\n",
    "            subregion_B = self.linearize_index(subregion_B, 2)\n",
    "        assert np.intersect1d(\n",
    "            subregion_A, subregion_B).size == 0, \"Subregion A and B overlap\"\n",
    "        s_A = self.von_Neumann_entropy_m(subregion_A)\n",
    "        s_B = self.von_Neumann_entropy_m(subregion_B)\n",
    "        subregion_AB = np.concatenate([subregion_A, subregion_B])\n",
    "        s_AB = self.von_Neumann_entropy_m(subregion_AB)\n",
    "        return s_A+s_B-s_AB  \n",
    "\n",
    "    def log_neg(self, subregion_A, subregion_B, Gamma=None,linear=False):\n",
    "        if not linear:\n",
    "            subregion_A = self.linearize_index(subregion_A, 2)\n",
    "            subregion_B = self.linearize_index(subregion_B, 2)\n",
    "        assert np.intersect1d(\n",
    "            subregion_A, subregion_B).size == 0, \"Subregion A and B overlap\"\n",
    "        if not hasattr(self, 'C_m'):\n",
    "            self.covariance_matrix()\n",
    "\n",
    "        if Gamma is None:\n",
    "            Gamma = self.C_m_history[-1]\n",
    "        subregion_A = np.array(subregion_A)\n",
    "        subregion_B = np.array(subregion_B)\n",
    "        Gm_p = np.block([\n",
    "            [-Gamma[np.ix_(subregion_A, subregion_A)], 1j *\n",
    "             Gamma[np.ix_(subregion_A, subregion_B)]],\n",
    "            [1j*Gamma[np.ix_(subregion_B, subregion_A)],\n",
    "             Gamma[np.ix_(subregion_B, subregion_B)]]\n",
    "        ])\n",
    "        Gm_n = np.block([\n",
    "            [-Gamma[np.ix_(subregion_A, subregion_A)], -1j *\n",
    "             Gamma[np.ix_(subregion_A, subregion_B)]],\n",
    "            [-1j*Gamma[np.ix_(subregion_B, subregion_A)],\n",
    "             Gamma[np.ix_(subregion_B, subregion_B)]]\n",
    "        ])\n",
    "        idm = np.eye(Gm_p.shape[0])\n",
    "        # Gm_x=idm-(idm+1j*Gm_p)@nla.inv(idm-Gm_n@Gm_p)@(idm+1j*Gm_n)\n",
    "        Gm_x = idm-(idm+1j*Gm_p)@(la.solve((idm-Gm_n@Gm_p), (idm+1j*Gm_n)))\n",
    "        Gm_x = (Gm_x+Gm_x.T.conj())/2\n",
    "        xi = nla.eigvalsh(Gm_x)\n",
    "        subregion_AB = np.concatenate([subregion_A, subregion_B])\n",
    "        eA = np.sum(np.log(((1+xi+0j)/2)**0.5+((1-xi+0j)/2)**0.5))/2\n",
    "        chi = nla.eigvalsh(1j*Gamma[np.ix_(subregion_AB, subregion_AB)])\n",
    "        sA = np.sum(np.log(((1+chi)/2)**2+((1-chi)/2)**2))/4\n",
    "        self.eA=eA\n",
    "        self.sA=sA\n",
    "        return np.real(eA+sA)\n",
    "\n",
    "    def projection(self, s):\n",
    "        '''\n",
    "        For type:'onsite'\n",
    "            occupancy number: s= 0,1 \n",
    "            (-1)^0 even parity, (-1)^1 odd parity\n",
    "        '''\n",
    "        assert (s == 0 or s == 1), \"s={} is either 0 or 1\".format(s)\n",
    "        blkmat = np.array([[0, -(-1)**s, 0, 0],\n",
    "                           [(-1)**s, 0, 0, 0],\n",
    "                           [0, 0, 0, (-1)**s],\n",
    "                           [0, 0, -(-1)**s, 0]])\n",
    "        return blkmat\n",
    "\n",
    "    def measure(self, s, ix):\n",
    "        if not hasattr(self, 'C_m'):\n",
    "            self.covariance_matrix()\n",
    "        if not hasattr(self, 's_history'):\n",
    "            self.s_history = []\n",
    "        if not hasattr(self, 'i_history'):\n",
    "            self.i_history = []\n",
    "\n",
    "        mat = self.C_m_history[-1].copy()\n",
    "\n",
    "        for i_ind, i in enumerate(ix):\n",
    "            mat[[i, -(len(ix)-i_ind)]] = mat[[-(len(ix)-i_ind), i]]\n",
    "            mat[:, [i, -(len(ix)-i_ind)]] = mat[:, [-(len(ix)-i_ind), i]]\n",
    "\n",
    "        self.mat = mat\n",
    "\n",
    "        Gamma_LL = mat[:-len(ix), :-len(ix)]\n",
    "        Gamma_LR = mat[:-len(ix), -len(ix):]\n",
    "        Gamma_RR = mat[-len(ix):, -len(ix):]\n",
    "\n",
    "        proj = self.projection(s)\n",
    "        Upsilon_LL = proj[:-len(ix), :-len(ix)]\n",
    "        Upsilon_RR = proj[-len(ix):, -len(ix):]\n",
    "        Upsilon_RL = proj[-len(ix):, :-len(ix)]\n",
    "        zero = np.zeros((mat.shape[0]-len(ix), len(ix)))\n",
    "        zero0 = np.zeros((len(ix), len(ix)))\n",
    "        mat1 = np.block([[Gamma_LL, zero], [zero.T, Upsilon_RR]])\n",
    "        mat2 = np.block([[Gamma_LR, zero], [zero0, Upsilon_RL]])\n",
    "        mat3 = np.block([[Gamma_RR, np.eye(len(ix))],\n",
    "                        [-np.eye(len(ix)), Upsilon_LL]])\n",
    "        self.mat2 = mat2\n",
    "        if np.count_nonzero(mat2):\n",
    "            Psi = mat1+mat2@(la.solve(mat3, mat2.T))\n",
    "            # Psi=mat1+mat2@(la.lstsq(mat3,mat2.T)[0])\n",
    "            assert np.abs(\n",
    "                np.trace(Psi)) < 1e-5, \"Not trace zero {:e}\".format(np.trace(Psi))\n",
    "        else:\n",
    "            Psi = mat1\n",
    "\n",
    "        for i_ind, i in enumerate(ix):\n",
    "            Psi[[i, -(len(ix)-i_ind)]] = Psi[[-(len(ix)-i_ind), i]]\n",
    "            Psi[:, [i, -(len(ix)-i_ind)]] = Psi[:, [-(len(ix)-i_ind), i]]\n",
    "        Psi = (Psi-Psi.T)/2   # Anti-symmetrize\n",
    "        if self.history:\n",
    "            self.C_m_history.append(Psi)\n",
    "            self.s_history.append(s)\n",
    "            self.i_history.append(ix[0])\n",
    "        else:\n",
    "            self.C_m_history = [Psi]\n",
    "            self.s_history = [s]\n",
    "            self.i_history = [ix[0]]\n",
    "\n",
    "    def measure_all_Born(self, proj_range,prob=None,linear=False):\n",
    "        if not linear:\n",
    "            proj_range = self.linearize_index(proj_range, 2, proj=True)\n",
    "        self.proj_range=proj_range\n",
    "        # print(proj_range)\n",
    "        self.P_0_list = []\n",
    "        self.f_parity= []\n",
    "        self.covariance_matrix()\n",
    "        for i in proj_range:\n",
    "            if prob is None:\n",
    "                P_0 = (self.C_m_history[-1][i, i+1]+1)/2    # Use Born rule\n",
    "            else:\n",
    "                P_0=prob\n",
    "            self.P_0_list.append(P_0)\n",
    "            if np.random.rand() < P_0:\n",
    "                self.measure(0, [i, i+1])\n",
    "                self.f_parity.append(0)\n",
    "            else:\n",
    "                self.measure(1, [i, i+1])\n",
    "                self.f_parity.append(1)\n",
    "        return self\n",
    "\n",
    "def cross_ratio(x,L):\n",
    "    if L<np.inf:\n",
    "        xx=lambda i,j: (np.sin(np.pi/(L)*np.abs(x[i]-x[j])))\n",
    "    else:\n",
    "        xx=lambda i,j: np.abs(x[i]-x[j])\n",
    "    eta=(xx(0,1)*xx(2,3))/(xx(0,2)*xx(1,3))\n",
    "    return eta\n",
    "\n",
    "\n",
    "from opt_einsum import contract\n",
    "def chern_number(Gamma,A_idx,B_idx,C_idx):\n",
    "    P=(np.eye(Gamma.shape[0])-1j*Gamma)/2\n",
    "    h=12*np.pi*1j*(contract(\"jk,kl,lj->jkl\",P,P,P)-contract(\"jl,lk,kj->jkl\",P,P,P))\n",
    "    assert np.abs(h.imag).max()<1e-10, \"Imaginary part of h is too large\"\n",
    "    h=h.real\n",
    "    # return h\n",
    "    return h[np.ix_(A_idx,B_idx,C_idx)].sum()\n",
    "\n",
    "def chern_number_quick(Gamma,A_idx,B_idx,C_idx):\n",
    "    P=(np.eye(Gamma.shape[0])-1j*Gamma)/2\n",
    "    P_AB=P[np.ix_(A_idx,B_idx)]\n",
    "    P_BC=P[np.ix_(B_idx,C_idx)]\n",
    "    P_CA=P[np.ix_(C_idx,A_idx)]\n",
    "    P_AC=P[np.ix_(A_idx,C_idx)]\n",
    "    P_CB=P[np.ix_(C_idx,B_idx)]\n",
    "    P_BA=P[np.ix_(B_idx,A_idx)]\n",
    "    h=12*np.pi*1j*(contract(\"jk,kl,lj->jkl\",P_AB,P_BC,P_CA)-contract(\"jl,lk,kj->jkl\",P_AC,P_CB,P_BA))\n",
    "    assert np.abs(h.imag).max()<1e-10, \"Imaginary part of h is too large\"\n",
    "    h=h.real\n",
    "    return h.sum()\n",
    "\n",
    "def circle(i,j,center,radius, angle):\n",
    "    i_c=i-center[0]\n",
    "    j_c=j-center[1]\n",
    "    return i_c**2/radius[0]**2+j_c**2/radius[1]**2<=1 and (angle[0]<=(np.angle(i_c+j_c*1j)%(2*np.pi))<angle[1])"
   ]
  },
  {
   "cell_type": "code",
   "execution_count": 12,
   "metadata": {},
   "outputs": [],
   "source": [
    "params=Params(m=1,t=1,Lx=20,Ly=20,bcx=1,bcy=1,history=False,Delta=1)\n",
    "# params=Params(m=1,t=0,Lx=4,Ly=4,bcx=0,bcy=0,history=False,Delta=0)"
   ]
  },
  {
   "cell_type": "code",
   "execution_count": 14,
   "metadata": {},
   "outputs": [],
   "source": [
    "params.covariance_matrix()\n",
    "# c_sub=params.c_subregion_m([np.arange(2)+4,np.arange(2)+4])"
   ]
  },
  {
   "cell_type": "code",
   "execution_count": 15,
   "metadata": {},
   "outputs": [
    {
     "data": {
      "image/png": "[encoded data removed]",
      "text/plain": [
       "<Figure size 680x400 with 1 Axes>"
      ]
     },
     "metadata": {},
     "output_type": "display_data"
    }
   ],
   "source": [
    "fig,ax=plt.subplots()\n",
    "ax.plot(params.val,'.')\n",
    "# ax.set_ylim([-1,1])\n",
    "ax.set_xlim([params.val.shape[0]//2-30,params.val.shape[0]//2+30])\n",
    "ax.grid('on')"
   ]
  },
  {
   "cell_type": "code",
   "execution_count": 18,
   "metadata": {},
   "outputs": [],
   "source": [
    "A_idx_0=params.linearize_idx_span(np.arange(params.Lx),np.arange(params.Ly),shape_func=lambda i,j: circle(i,j,[params.Lx/2,params.Ly/2],[params.Lx/3,params.Ly/3],angle=[0,np.pi/3*2]),n_orbits=1)\n",
    "B_idx_0=params.linearize_idx_span(np.arange(params.Lx),np.arange(params.Ly),shape_func=lambda i,j: circle(i,j,[params.Lx/2,params.Ly/2],[params.Lx/3,params.Ly/3],angle=[np.pi/3*2,np.pi/3*4]),n_orbits=1)\n",
    "C_idx_0=params.linearize_idx_span(np.arange(params.Lx),np.arange(params.Ly),shape_func=lambda i,j: circle(i,j,[params.Lx/2,params.Ly/2],[params.Lx/3,params.Ly/3],angle=[np.pi/3*4,np.pi/3*6]),n_orbits=1)"
   ]
  },
  {
   "cell_type": "code",
   "execution_count": 19,
   "metadata": {},
   "outputs": [
    {
     "data": {
      "text/plain": [
       "-0.9999856433387048"
      ]
     },
     "execution_count": 19,
     "metadata": {},
     "output_type": "execute_result"
    }
   ],
   "source": [
    "chern_number_quick(params.C_m,A_idx_0,B_idx_0,C_idx_0)"
   ]
  },
  {
   "cell_type": "code",
   "execution_count": 20,
   "metadata": {},
   "outputs": [],
   "source": [
    "def run(m):\n",
    "    params=Params(m=m,Delta=1,Lx=20,Ly=20,bcx=1,bcy=1)\n",
    "    params.covariance_matrix()\n",
    "    return chern_number_quick(params.C_m,A_idx_0,B_idx_0,C_idx_0)"
   ]
  },
  {
   "cell_type": "code",
   "execution_count": 21,
   "metadata": {},
   "outputs": [],
   "source": [
    "m_list=np.linspace(-4,4,31)\n",
    "nu=[run(m) for m in m_list]"
   ]
  },
  {
   "cell_type": "code",
   "execution_count": 23,
   "metadata": {},
   "outputs": [
    {
     "data": {
      "text/plain": [
       "Text(0.5, 0, '$\\\\mu$')"
      ]
     },
     "execution_count": 23,
     "metadata": {},
     "output_type": "execute_result"
    },
    {
     "data": {
      "image/png": "[encoded data removed]",
      "text/plain": [
       "<Figure size 680x400 with 1 Axes>"
      ]
     },
     "metadata": {},
     "output_type": "display_data"
    }
   ],
   "source": [
    "plt.plot(m_list,nu,'.-')\n",
    "plt.xlabel(r'$\\mu$')"
   ]
  },
  {
   "cell_type": "code",
   "execution_count": null,
   "metadata": {},
   "outputs": [],
   "source": [
    "two questions: common eigenstates for all? how to define measurement?"
   ]
  },
  {
   "cell_type": "code",
   "execution_count": 277,
   "metadata": {},
   "outputs": [
    {
     "data": {
      "text/plain": [
       "<matplotlib.colorbar.Colorbar at 0x7fba195358b0>"
      ]
     },
     "execution_count": 277,
     "metadata": {},
     "output_type": "execute_result"
    },
    {
     "data": {
      "image/png": "[encoded data removed]",
      "text/plain": [
       "<Figure size 680x400 with 2 Axes>"
      ]
     },
     "metadata": {},
     "output_type": "display_data"
    }
   ],
   "source": [
    "plt.imshow(np.sum(np.abs(params.vec[:,params.Lx*params.Ly].reshape(params.Lx,params.Ly,2))**2,axis=-1))\n",
    "plt.colorbar()"
   ]
  },
  {
   "cell_type": "code",
   "execution_count": 278,
   "metadata": {},
   "outputs": [
    {
     "data": {
      "text/plain": [
       "<matplotlib.colorbar.Colorbar at 0x7fba228738e0>"
      ]
     },
     "execution_count": 278,
     "metadata": {},
     "output_type": "execute_result"
    },
    {
     "data": {
      "image/png": "[encoded data removed]",
      "text/plain": [
       "<Figure size 680x400 with 2 Axes>"
      ]
     },
     "metadata": {},
     "output_type": "display_data"
    }
   ],
   "source": [
    "plt.imshow(np.sum(np.abs(params.vec[:,params.Lx*params.Ly-1].reshape(params.Lx,params.Ly,2))**2,axis=-1))\n",
    "plt.colorbar()"
   ]
  },
  {
   "cell_type": "code",
   "execution_count": 279,
   "metadata": {},
   "outputs": [
    {
     "data": {
      "text/plain": [
       "<matplotlib.image.AxesImage at 0x7fba22bf43d0>"
      ]
     },
     "execution_count": 279,
     "metadata": {},
     "output_type": "execute_result"
    },
    {
     "data": {
      "image/png": "[encoded data removed]",
      "text/plain": [
       "<Figure size 680x400 with 1 Axes>"
      ]
     },
     "metadata": {},
     "output_type": "display_data"
    }
   ],
   "source": [
    "plt.imshow(params.C_m)"
   ]
  },
  {
   "cell_type": "code",
   "execution_count": 280,
   "metadata": {},
   "outputs": [
    {
     "name": "stdout",
     "output_type": "stream",
     "text": [
      "[[ 0.   0.7 -0.5 -0.2 -0.3  0.1  0.1  0.2 -0.1 -0.  -0.1  0.1  0.1  0.2]\n",
      " [-0.7  0.   0.1  0.3 -0.1  0.1  0.6  0.1  0.2  0.1  0.   0.   0.1  0.1]\n",
      " [ 0.5 -0.1  0.   0.6 -0.5 -0.1  0.2  0.   0.   0.1 -0.2  0.   0.1  0.1]\n",
      " [ 0.2 -0.3 -0.6  0.   0.2  0.3  0.2 -0.   0.6  0.   0.2  0.   0.  -0. ]\n",
      " [ 0.3  0.1  0.5 -0.2  0.   0.7  0.1  0.1  0.1 -0.  -0.1  0.2  0.1  0.1]\n",
      " [-0.1 -0.1  0.1 -0.3 -0.7  0.   0.  -0.   0.2 -0.1  0.6 -0.1 -0.  -0.1]\n",
      " [-0.1 -0.6 -0.2 -0.2 -0.1 -0.   0.   0.6 -0.3 -0.2 -0.1  0.   0.1  0.2]\n",
      " [-0.2 -0.1 -0.   0.  -0.1  0.  -0.6  0.   0.2  0.3 -0.   0.1  0.6  0.1]\n",
      " [ 0.1 -0.2 -0.  -0.6 -0.1 -0.2  0.3 -0.2  0.   0.5 -0.3 -0.2  0.1 -0. ]\n",
      " [ 0.  -0.1 -0.1 -0.   0.   0.1  0.2 -0.3 -0.5  0.   0.2  0.3  0.2 -0.1]\n",
      " [ 0.1 -0.   0.2 -0.2  0.1 -0.6  0.1  0.   0.3 -0.2  0.   0.6  0.   0.1]\n",
      " [-0.1 -0.  -0.  -0.  -0.2  0.1 -0.  -0.1  0.2 -0.3 -0.6  0.   0.  -0.1]\n",
      " [-0.1 -0.1 -0.1 -0.  -0.1  0.  -0.1 -0.6 -0.1 -0.2 -0.  -0.   0.   0.7]\n",
      " [-0.2 -0.1 -0.1  0.  -0.1  0.1 -0.2 -0.1  0.   0.1 -0.1  0.1 -0.7  0. ]]\n"
     ]
    }
   ],
   "source": [
    "print(np.round(params.C_m[:14,:14],1))"
   ]
  },
  {
   "cell_type": "code",
   "execution_count": 166,
   "metadata": {},
   "outputs": [
    {
     "data": {
      "text/plain": [
       "array([[ 0.   ,  0.491, -0.333, -0.233,  0.   ,  0.099, -0.058, -0.059],\n",
       "       [-0.491,  0.   ,  0.233,  0.333,  0.566,  0.   ,  0.175,  0.058],\n",
       "       [ 0.333, -0.233,  0.   ,  0.491,  0.058, -0.059,  0.   ,  0.099],\n",
       "       [ 0.233, -0.333, -0.491,  0.   ,  0.175, -0.058,  0.566, -0.   ],\n",
       "       [-0.   , -0.566, -0.058, -0.175,  0.   ,  0.491, -0.333, -0.233],\n",
       "       [-0.099, -0.   ,  0.059,  0.058, -0.491,  0.   ,  0.233,  0.333],\n",
       "       [ 0.058, -0.175, -0.   , -0.566,  0.333, -0.233,  0.   ,  0.491],\n",
       "       [ 0.059, -0.058, -0.099,  0.   ,  0.233, -0.333, -0.491,  0.   ]])"
      ]
     },
     "execution_count": 166,
     "metadata": {},
     "output_type": "execute_result"
    }
   ],
   "source": [
    "np.round(c_sub,3)"
   ]
  },
  {
   "cell_type": "code",
   "execution_count": 158,
   "metadata": {},
   "outputs": [],
   "source": [
    "val_1,vec_1=nla.eigh(c_sub)"
   ]
  },
  {
   "cell_type": "code",
   "execution_count": 162,
   "metadata": {},
   "outputs": [
    {
     "data": {
      "text/plain": [
       "array([[-0.4911698],\n",
       "       [ 0.4911698]])"
      ]
     },
     "execution_count": 162,
     "metadata": {},
     "output_type": "execute_result"
    }
   ],
   "source": [
    "val_1[val_1.shape[0]//2-4:val_1.shape[0]//2+4].reshape((2,-1))"
   ]
  },
  {
   "cell_type": "code",
   "execution_count": 163,
   "metadata": {},
   "outputs": [
    {
     "data": {
      "text/plain": [
       "array([-0.4911698,  0.4911698])"
      ]
     },
     "execution_count": 163,
     "metadata": {},
     "output_type": "execute_result"
    }
   ],
   "source": [
    "val_1"
   ]
  },
  {
   "cell_type": "code",
   "execution_count": 160,
   "metadata": {},
   "outputs": [
    {
     "data": {
      "image/png": "[encoded data removed]",
      "text/plain": [
       "<Figure size 489.6x288 with 1 Axes>"
      ]
     },
     "metadata": {
      "needs_background": "light"
     },
     "output_type": "display_data"
    }
   ],
   "source": [
    "plt.plot(val_1,'.')\n",
    "plt.grid('on')"
   ]
  },
  {
   "cell_type": "code",
   "execution_count": 140,
   "metadata": {},
   "outputs": [],
   "source": [
    "params_obc=Params(m=3,Lx=8,Ly=8,bcx=0,bcy=0,history=True)\n",
    "params_pbc=Params(m=3,Lx=8,Ly=8,bcx=1,bcy=1,history=True)"
   ]
  },
  {
   "cell_type": "code",
   "execution_count": 141,
   "metadata": {},
   "outputs": [],
   "source": [
    "val_obc,vec_obc=nla.eigh(params_obc.Hamiltonian)\n",
    "val_pbc,vec_pbc=nla.eigh(params_pbc.Hamiltonian)"
   ]
  },
  {
   "cell_type": "code",
   "execution_count": 142,
   "metadata": {},
   "outputs": [],
   "source": [
    "params_obc.covariance_matrix()\n",
    "val_1,vec_1=nla.eigh(params_obc.C_m)"
   ]
  },
  {
   "cell_type": "code",
   "execution_count": 143,
   "metadata": {},
   "outputs": [
    {
     "data": {
      "image/png": "[encoded data removed]",
      "text/plain": [
       "<Figure size 489.6x288 with 1 Axes>"
      ]
     },
     "metadata": {
      "needs_background": "light"
     },
     "output_type": "display_data"
    }
   ],
   "source": [
    "plt.plot(val_obc,'.')\n",
    "plt.plot(val_pbc,'.')\n",
    "plt.grid('on')"
   ]
  },
  {
   "cell_type": "code",
   "execution_count": 124,
   "metadata": {},
   "outputs": [],
   "source": [
    "val_h,vec_h=nla.eigh(params_obc.Hamiltonian)"
   ]
  },
  {
   "cell_type": "code",
   "execution_count": 125,
   "metadata": {},
   "outputs": [
    {
     "data": {
      "image/png": "[encoded data removed]",
      "text/plain": [
       "<Figure size 489.6x288 with 1 Axes>"
      ]
     },
     "metadata": {
      "needs_background": "light"
     },
     "output_type": "display_data"
    }
   ],
   "source": [
    "plt.plot(val_h,'.')\n",
    "# [val_h.shape[0]//2-10:val_h.shape[0]//2+10]\n",
    "plt.grid('on')"
   ]
  },
  {
   "cell_type": "code",
   "execution_count": 101,
   "metadata": {},
   "outputs": [
    {
     "data": {
      "text/plain": [
       "array([-0.72264838, -0.71520117, -0.69786424, -0.69191089, -0.68969295,\n",
       "       -0.68298106, -0.67545676, -0.65823171, -0.64914622, -0.64109416,\n",
       "        0.64109416,  0.64914622,  0.65823171,  0.67545676,  0.68298106,\n",
       "        0.68969295,  0.69191089,  0.69786424,  0.71520117,  0.72264838])"
      ]
     },
     "execution_count": 101,
     "metadata": {},
     "output_type": "execute_result"
    }
   ],
   "source": [
    "val_1[val_1.shape[0]//2-10:val_1.shape[0]//2+10]"
   ]
  },
  {
   "cell_type": "code",
   "execution_count": null,
   "metadata": {},
   "outputs": [],
   "source": [
    "plt.pcolormesh(np.sum(np.abs(vec_1[:,val_1.shape[0]//2-2].reshape((8,8,2)))**2,axis=(2))+np.sum(np.abs(vec_1[:,val_1.shape[0]//2-1].reshape((8,8,2)))**2,axis=(2))+np.sum(np.abs(vec_1[:,val_1.shape[0]//2-0].reshape((8,8,2)))**2,axis=(2))+np.sum(np.abs(vec_1[:,val_1.shape[0]//2+1].reshape((8,8,2)))**2,axis=(2)))"
   ]
  },
  {
   "cell_type": "code",
   "execution_count": 102,
   "metadata": {},
   "outputs": [
    {
     "data": {
      "text/plain": [
       "<matplotlib.collections.QuadMesh at 0x7f03fd910970>"
      ]
     },
     "execution_count": 102,
     "metadata": {},
     "output_type": "execute_result"
    },
    {
     "data": {
      "image/png": "[encoded data removed]",
      "text/plain": [
       "<Figure size 489.6x288 with 1 Axes>"
      ]
     },
     "metadata": {
      "needs_background": "light"
     },
     "output_type": "display_data"
    }
   ],
   "source": [
    "plt.pcolormesh(np.sum(np.abs(vec_1[:,val_1.shape[0]//2-2].reshape((8,8,2)))**2,axis=(2))+np.sum(np.abs(vec_1[:,val_1.shape[0]//2-1].reshape((8,8,2)))**2,axis=(2))+np.sum(np.abs(vec_1[:,val_1.shape[0]//2-0].reshape((8,8,2)))**2,axis=(2))+np.sum(np.abs(vec_1[:,val_1.shape[0]//2+1].reshape((8,8,2)))**2,axis=(2)))"
   ]
  },
  {
   "cell_type": "code",
   "execution_count": 86,
   "metadata": {},
   "outputs": [
    {
     "data": {
      "text/plain": [
       "(512, 512)"
      ]
     },
     "execution_count": 86,
     "metadata": {},
     "output_type": "execute_result"
    }
   ],
   "source": [
    "params.C_m.shape"
   ]
  },
  {
   "cell_type": "code",
   "execution_count": null,
   "metadata": {},
   "outputs": [],
   "source": [
    "16*16"
   ]
  },
  {
   "cell_type": "code",
   "execution_count": 84,
   "metadata": {},
   "outputs": [
    {
     "data": {
      "text/plain": [
       "256"
      ]
     },
     "execution_count": 84,
     "metadata": {},
     "output_type": "execute_result"
    }
   ],
   "source": [
    "2*8*8*2"
   ]
  },
  {
   "cell_type": "code",
   "execution_count": 26,
   "metadata": {},
   "outputs": [
    {
     "data": {
      "text/plain": [
       "array([[ 0.   ,  0.938, -0.169, -0.015],\n",
       "       [-0.938,  0.   ,  0.015,  0.169],\n",
       "       [ 0.169, -0.015,  0.   ,  0.938],\n",
       "       [ 0.015, -0.169, -0.938,  0.   ]])"
      ]
     },
     "execution_count": 26,
     "metadata": {},
     "output_type": "execute_result"
    }
   ],
   "source": [
    "np.round(params.C_m[:4,:4],3)"
   ]
  },
  {
   "cell_type": "code",
   "execution_count": 27,
   "metadata": {},
   "outputs": [
    {
     "data": {
      "text/plain": [
       "array([0.03092707, 0.03092707, 0.03092707, 0.03092707, 0.03092707,\n",
       "       0.03092707, 0.03092707, 0.03092707, 0.03092707, 0.03092707,\n",
       "       0.03092707, 0.03092707, 0.03092707, 0.03092707, 0.03092707,\n",
       "       0.03092707, 0.03092707, 0.03092707, 0.03092707, 0.03092707,\n",
       "       0.03092707, 0.03092707, 0.03092707, 0.03092707, 0.03092707,\n",
       "       0.03092707, 0.03092707, 0.03092707, 0.03092707, 0.03092707,\n",
       "       0.03092707, 0.03092707, 0.03092707, 0.03092707, 0.03092707,\n",
       "       0.03092707, 0.03092707, 0.03092707, 0.03092707, 0.03092707,\n",
       "       0.03092707, 0.03092707, 0.03092707, 0.03092707, 0.03092707,\n",
       "       0.03092707, 0.03092707, 0.03092707, 0.03092707, 0.03092707,\n",
       "       0.03092707, 0.03092707, 0.03092707, 0.03092707, 0.03092707,\n",
       "       0.03092707, 0.03092707, 0.03092707, 0.03092707, 0.03092707,\n",
       "       0.03092707, 0.03092707, 0.03092707, 0.03092707, 0.03092707,\n",
       "       0.03092707, 0.03092707, 0.03092707, 0.03092707, 0.03092707,\n",
       "       0.03092707, 0.03092707, 0.03092707, 0.03092707, 0.03092707,\n",
       "       0.03092707, 0.03092707, 0.03092707, 0.03092707, 0.03092707,\n",
       "       0.03092707, 0.03092707, 0.03092707, 0.03092707, 0.03092707,\n",
       "       0.03092707, 0.03092707, 0.03092707, 0.03092707, 0.03092707,\n",
       "       0.03092707, 0.03092707, 0.03092707, 0.03092707, 0.03092707,\n",
       "       0.03092707, 0.03092707, 0.03092707, 0.03092707, 0.03092707,\n",
       "       0.03092707, 0.03092707, 0.03092707, 0.03092707, 0.03092707,\n",
       "       0.03092707, 0.03092707, 0.03092707, 0.03092707, 0.03092707,\n",
       "       0.03092707, 0.03092707, 0.03092707, 0.03092707, 0.03092707,\n",
       "       0.03092707, 0.03092707, 0.03092707, 0.03092707, 0.03092707,\n",
       "       0.03092707, 0.03092707, 0.03092707, 0.03092707, 0.03092707,\n",
       "       0.03092707, 0.03092707, 0.03092707])"
      ]
     },
     "execution_count": 27,
     "metadata": {},
     "output_type": "execute_result"
    }
   ],
   "source": [
    "(1-np.diag(params.C_m,1)[::2])/2"
   ]
  },
  {
   "cell_type": "code",
   "execution_count": 50,
   "metadata": {},
   "outputs": [],
   "source": [
    "params=Params(m=1,Lx=32,Ly=4,bcx=-1,bcy=1,history=True)\n",
    "params.covariance_matrix()\n",
    "zz1=params.C_f[0,params.linearize_index([np.arange(params.Lx),[0]],2)[::2]]"
   ]
  },
  {
   "cell_type": "code",
   "execution_count": 51,
   "metadata": {},
   "outputs": [],
   "source": [
    "params=Params(m=1,Lx=32,Ly=8,bcx=-1,bcy=1,history=True)\n",
    "params.covariance_matrix()\n",
    "zz2=params.C_f[0,params.linearize_index([np.arange(params.Lx),[0]],2)[::2]]"
   ]
  },
  {
   "cell_type": "code",
   "execution_count": 30,
   "metadata": {},
   "outputs": [],
   "source": [
    "params_inf=Params(m=1,dxmax=16,dymax=16,Lx=np.inf,Ly=np.inf,bcx=-1,bcy=1,history=True)\n",
    "params_inf.covariance_matrix()"
   ]
  },
  {
   "cell_type": "code",
   "execution_count": 52,
   "metadata": {},
   "outputs": [
    {
     "data": {
      "text/plain": [
       "[<matplotlib.lines.Line2D at 0x7f054faffd30>]"
      ]
     },
     "execution_count": 52,
     "metadata": {},
     "output_type": "execute_result"
    },
    {
     "data": {
      "image/png": "[encoded data removed]",
      "text/plain": [
       "<Figure size 489.6x288 with 1 Axes>"
      ]
     },
     "metadata": {
      "needs_background": "light"
     },
     "output_type": "display_data"
    }
   ],
   "source": [
    "plt.plot(np.abs(zz1),'.')\n",
    "plt.plot(np.abs(zz2),'.')"
   ]
  },
  {
   "cell_type": "code",
   "execution_count": 83,
   "metadata": {},
   "outputs": [
    {
     "data": {
      "text/plain": [
       "(512,)"
      ]
     },
     "execution_count": 83,
     "metadata": {},
     "output_type": "execute_result"
    }
   ],
   "source": [
    "params_inf.C_f[0,:].shape"
   ]
  },
  {
   "cell_type": "code",
   "execution_count": 73,
   "metadata": {},
   "outputs": [
    {
     "data": {
      "text/plain": [
       "array([[ 1.16747890e-01+3.24209454e-17j,  9.71445147e-17-1.66491187e-01j],\n",
       "       [-2.17744059e-17-1.66491187e-01j, -1.16747890e-01-1.41379963e-16j]])"
      ]
     },
     "execution_count": 73,
     "metadata": {},
     "output_type": "execute_result"
    }
   ],
   "source": [
    "params.C_f[2:4,:2]"
   ]
  },
  {
   "cell_type": "code",
   "execution_count": 102,
   "metadata": {},
   "outputs": [],
   "source": [
    "zz=params_inf.C_f[0,params_inf.linearize_index([np.arange(params_inf.dxmax),[0]],2)[1::2]]"
   ]
  },
  {
   "cell_type": "code",
   "execution_count": 103,
   "metadata": {},
   "outputs": [
    {
     "data": {
      "text/plain": [
       "array([-5.20434225e-19+1.71758160e-18j,  2.01973446e-17+1.66490915e-01j,\n",
       "        5.55987354e-18+2.29358053e-02j,  1.97159191e-18+6.58889661e-03j,\n",
       "        8.47161101e-19+2.30386878e-03j,  3.04500452e-19+8.84256162e-04j,\n",
       "       -7.46377962e-19+3.58455841e-04j,  1.48020639e-19+1.50631198e-04j,\n",
       "        2.35106837e-19+6.49317689e-05j, -2.63734320e-19+2.85262532e-05j,\n",
       "        4.58745006e-19+1.27178477e-05j,  2.95567587e-19+5.73676539e-06j,\n",
       "        7.77563278e-20+2.61256184e-06j,  4.26179263e-19+1.19925355e-06j,\n",
       "        7.76457392e-19+5.54195478e-07j, -1.34701264e-24+2.57573684e-07j,\n",
       "        5.80686508e-20+1.20306937e-07j,  3.46964613e-19+5.64362655e-08j,\n",
       "       -1.65883914e-19+2.65754464e-08j,  6.57167370e-20+1.25565840e-08j,\n",
       "        5.94789075e-20+5.95079086e-09j, -5.93012402e-19+2.82785664e-09j,\n",
       "       -4.44356535e-19+1.34711922e-09j, -3.12819200e-19+6.43165381e-10j,\n",
       "       -7.72568602e-20+3.07696258e-10j,  5.41529068e-20+1.47479058e-10j,\n",
       "       -1.14138994e-19+7.08079054e-11j,  3.66420427e-19+3.40501201e-11j,\n",
       "        2.03874006e-19+1.63979594e-11j, -1.39678061e-19+7.90768726e-12j,\n",
       "        4.94955044e-19+3.81818268e-12j,  1.23010043e-19+1.84575608e-12j])"
      ]
     },
     "execution_count": 103,
     "metadata": {},
     "output_type": "execute_result"
    }
   ],
   "source": [
    "zz"
   ]
  },
  {
   "cell_type": "code",
   "execution_count": 104,
   "metadata": {},
   "outputs": [
    {
     "data": {
      "text/plain": [
       "[<matplotlib.lines.Line2D at 0x7fec2dca0760>]"
      ]
     },
     "execution_count": 104,
     "metadata": {},
     "output_type": "execute_result"
    },
    {
     "data": {
      "image/png": "[encoded data removed]",
      "text/plain": [
       "<Figure size 489.6x288 with 1 Axes>"
      ]
     },
     "metadata": {
      "needs_background": "light"
     },
     "output_type": "display_data"
    }
   ],
   "source": [
    "plt.plot(np.abs(zz),'.')"
   ]
  },
  {
   "cell_type": "code",
   "execution_count": 141,
   "metadata": {},
   "outputs": [
    {
     "data": {
      "text/plain": [
       "array([[ 0.  , -0.49, -0.33, ..., -0.03, -0.06, -0.18],\n",
       "       [ 0.49,  0.  , -0.23, ..., -0.01,  0.06,  0.06],\n",
       "       [ 0.33,  0.23,  0.  , ..., -0.01,  0.01, -0.03],\n",
       "       ...,\n",
       "       [ 0.03,  0.01,  0.01, ...,  0.  , -0.23,  0.33],\n",
       "       [ 0.06, -0.06, -0.01, ...,  0.23,  0.  , -0.49],\n",
       "       [ 0.18, -0.06,  0.03, ..., -0.33,  0.49,  0.  ]])"
      ]
     },
     "execution_count": 141,
     "metadata": {},
     "output_type": "execute_result"
    }
   ],
   "source": [
    "np.round(np.real(params.C_m),2)"
   ]
  },
  {
   "cell_type": "code",
   "execution_count": 142,
   "metadata": {},
   "outputs": [],
   "source": [
    "Gmat_real=np.loadtxt('Gmat_real.txt')\n",
    "Gmat_imag=np.loadtxt('Gmat_imag.txt')"
   ]
  },
  {
   "cell_type": "code",
   "execution_count": 144,
   "metadata": {},
   "outputs": [
    {
     "data": {
      "text/plain": [
       "4.775174699842074e-15"
      ]
     },
     "execution_count": 144,
     "metadata": {},
     "output_type": "execute_result"
    }
   ],
   "source": [
    "np.abs(Gmat_real+1j*Gmat_imag-params.C_m).max()"
   ]
  },
  {
   "cell_type": "code",
   "execution_count": 53,
   "metadata": {},
   "outputs": [
    {
     "data": {
      "text/plain": [
       "array([[ 0.  , -0.93, -0.16,  0.02],\n",
       "       [ 0.93,  0.  , -0.02,  0.16],\n",
       "       [ 0.16,  0.02,  0.  , -0.93],\n",
       "       [-0.02, -0.16,  0.93,  0.  ]])"
      ]
     },
     "execution_count": 53,
     "metadata": {},
     "output_type": "execute_result"
    }
   ],
   "source": [
    "(np.round(np.real(params.C_m[:4,:4]),2))"
   ]
  },
  {
   "cell_type": "code",
   "execution_count": 42,
   "metadata": {},
   "outputs": [
    {
     "data": {
      "text/plain": [
       "array([[ 1.,  0., -1.,  0.,  0., -1.,  0.,  0.],\n",
       "       [ 0., -1.,  0.,  1.,  1.,  0.,  0.,  0.],\n",
       "       [-1.,  0.,  1.,  0.,  0.,  0.,  0., -1.],\n",
       "       [ 0.,  1.,  0., -1.,  0.,  0.,  1.,  0.],\n",
       "       [ 0.,  1.,  0.,  0.,  1.,  0., -1.,  0.],\n",
       "       [-1.,  0.,  0.,  0.,  0., -1.,  0.,  1.],\n",
       "       [ 0.,  0.,  0.,  1., -1.,  0.,  1.,  0.],\n",
       "       [ 0.,  0., -1.,  0.,  0.,  1.,  0., -1.]])"
      ]
     },
     "execution_count": 42,
     "metadata": {},
     "output_type": "execute_result"
    }
   ],
   "source": [
    "np.real(params.Hamiltonian)"
   ]
  },
  {
   "cell_type": "code",
   "execution_count": 8,
   "metadata": {},
   "outputs": [],
   "source": [
    "params=Params(m=1,Lx=128,Ly=8,bcx=-1,bcy=1)"
   ]
  },
  {
   "cell_type": "code",
   "execution_count": 33,
   "metadata": {},
   "outputs": [],
   "source": [
    "total=params.linearize_index([np.arange(params.Lx),np.arange(params.Ly)],2)\n",
    "subA=params.linearize_index([np.arange(params.Lx//4),np.arange(params.Ly)],2)\n",
    "proj_range=params.linearize_index([np.arange(params.Lx//4)+params.Lx//4,np.arange(params.Ly)],2,proj=True)\n",
    "subB=params.linearize_index([np.arange(params.Lx//4)+params.Lx//2,np.arange(params.Ly)],2)\n"
   ]
  },
  {
   "cell_type": "code",
   "execution_count": 34,
   "metadata": {},
   "outputs": [
    {
     "data": {
      "text/plain": [
       "<matplotlib.collections.PathCollection at 0x7f041089e820>"
      ]
     },
     "execution_count": 34,
     "metadata": {},
     "output_type": "execute_result"
    },
    {
     "data": {
      "image/png": "[encoded data removed]",
      "text/plain": [
       "<Figure size 489.6x288 with 1 Axes>"
      ]
     },
     "metadata": {
      "needs_background": "light"
     },
     "output_type": "display_data"
    }
   ],
   "source": [
    "plt.scatter(*params.square_index(total),color='k')\n",
    "plt.scatter(*params.square_index(subA),color='c')\n",
    "plt.scatter(*params.square_index(subB),color='r')\n",
    "plt.scatter(*params.square_index(proj_range),color='b')"
   ]
  },
  {
   "cell_type": "code",
   "execution_count": 151,
   "metadata": {},
   "outputs": [
    {
     "data": {
      "text/plain": [
       "<__main__.Params at 0x7fa47efd9610>"
      ]
     },
     "execution_count": 151,
     "metadata": {},
     "output_type": "execute_result"
    }
   ],
   "source": [
    "params.measure_all_Born(proj_range,linear=True)"
   ]
  },
  {
   "cell_type": "code",
   "execution_count": null,
   "metadata": {},
   "outputs": [],
   "source": [
    "params.i_history"
   ]
  },
  {
   "cell_type": "code",
   "execution_count": 153,
   "metadata": {},
   "outputs": [
    {
     "data": {
      "text/plain": [
       "0.9701903382986599"
      ]
     },
     "execution_count": 153,
     "metadata": {},
     "output_type": "execute_result"
    }
   ],
   "source": [
    "params.log_neg(subA,subB,linear=True)"
   ]
  },
  {
   "cell_type": "code",
   "execution_count": 154,
   "metadata": {},
   "outputs": [
    {
     "data": {
      "text/plain": [
       "array([[ 0.,  1.,  0.,  0.],\n",
       "       [-1.,  0.,  0.,  0.],\n",
       "       [ 0.,  0.,  0., -1.],\n",
       "       [ 0.,  0.,  1.,  0.]])"
      ]
     },
     "execution_count": 154,
     "metadata": {},
     "output_type": "execute_result"
    }
   ],
   "source": [
    "params.C_m_history[-1][proj_range[0]:proj_range[0]+4,proj_range[0]:proj_range[0]+4]"
   ]
  },
  {
   "cell_type": "code",
   "execution_count": null,
   "metadata": {},
   "outputs": [],
   "source": [
    "params.s_history"
   ]
  },
  {
   "cell_type": "code",
   "execution_count": null,
   "metadata": {},
   "outputs": [],
   "source": [
    "params.P_0_list"
   ]
  },
  {
   "cell_type": "markdown",
   "metadata": {},
   "source": [
    "# No measurement-finite"
   ]
  },
  {
   "cell_type": "code",
   "execution_count": 35,
   "metadata": {},
   "outputs": [],
   "source": [
    "m_list=(lambda x:(x-2)**3+2 )(np.linspace(1,3,40))\n",
    "# m_list=(np.linspace(1,3,10))\n",
    "Lx,Ly=32,8\n",
    "LN_no_list=[]\n",
    "MI_no_list=[]\n",
    "total=params.linearize_index([np.arange(params.Lx),np.arange(params.Ly)],2)\n",
    "subA=params.linearize_index([np.arange(params.Lx//4),np.arange(params.Ly)],2)\n",
    "proj_range=params.linearize_index([np.arange(params.Lx//4)+params.Lx//4,np.arange(params.Ly)],2,proj=True)\n",
    "subB=params.linearize_index([np.arange(params.Lx//4)+params.Lx//2,np.arange(params.Ly)],2)\n",
    "\n",
    "for m in m_list:\n",
    "    params=Params(m=m,Lx=Lx,Ly=Ly)\n",
    "    MI_no_list.append(params.mutual_information_m(subA,subB,linear=True))\n",
    "    LN_no_list.append(params.log_neg(subA,subB,linear=True))\n"
   ]
  },
  {
   "cell_type": "code",
   "execution_count": 36,
   "metadata": {},
   "outputs": [
    {
     "data": {
      "text/plain": [
       "Text(0.5, 1.0, 'Finite system, Lx=32, Ly=8')"
      ]
     },
     "execution_count": 36,
     "metadata": {},
     "output_type": "execute_result"
    },
    {
     "data": {
      "image/png": "[encoded data removed]",
      "text/plain": [
       "<Figure size 489.6x288 with 1 Axes>"
      ]
     },
     "metadata": {
      "needs_background": "light"
     },
     "output_type": "display_data"
    }
   ],
   "source": [
    "fig,ax=plt.subplots()\n",
    "ax.plot(m_list,LN_no_list/np.log(2),'.-',label='LN')\n",
    "ax.plot(m_list,MI_no_list/np.log(2),'.-',label='MI')\n",
    "ax.legend()\n",
    "ax.set_xlabel('m')\n",
    "ax.set_ylabel('log(2)')\n",
    "ax.set_title('Finite system, Lx={:d}, Ly={:d}'.format(Lx,Ly))\n",
    "\n",
    "# fig.savefig('/mnt/d/kitp/Rp_SPT/9/LN_pSC_no_Lx{:d}_Ly{:d}.pdf'.format(Lx,Ly),bbox_inches='tight')"
   ]
  },
  {
   "cell_type": "markdown",
   "metadata": {},
   "source": [
    "# No measurement-infinite"
   ]
  },
  {
   "cell_type": "code",
   "execution_count": 38,
   "metadata": {},
   "outputs": [],
   "source": [
    "m_list=(lambda x:(x-2)**3+2 )(np.linspace(1,3,40))\n",
    "# m_list=(np.linspace(1,3,10))\n",
    "Lx,Ly=32,8\n",
    "LN_no_inf_list=[]\n",
    "MI_no_inf_list=[]\n",
    "for m in m_list:\n",
    "    params=Params(m=m,dxmax=Lx,dymax=Ly,Lx=np.inf,Ly=np.inf)\n",
    "    MI_no_inf_list.append(params.mutual_information_m(subA,subB,linear=True))\n",
    "    LN_no_inf_list.append(params.log_neg(subA,subB,linear=True))\n"
   ]
  },
  {
   "cell_type": "code",
   "execution_count": 39,
   "metadata": {},
   "outputs": [
    {
     "data": {
      "text/plain": [
       "Text(0.5, 1.0, 'Infinite system, dx=32, dy=8')"
      ]
     },
     "execution_count": 39,
     "metadata": {},
     "output_type": "execute_result"
    },
    {
     "data": {
      "image/png": "[encoded data removed]",
      "text/plain": [
       "<Figure size 489.6x288 with 1 Axes>"
      ]
     },
     "metadata": {
      "needs_background": "light"
     },
     "output_type": "display_data"
    }
   ],
   "source": [
    "fig,ax=plt.subplots()\n",
    "ax.plot(m_list,LN_no_inf_list/np.log(2),'.-',label='LN')\n",
    "ax.plot(m_list,MI_no_inf_list/np.log(2),'.-',label='MI')\n",
    "ax.legend()\n",
    "ax.set_xlabel('m')\n",
    "ax.set_ylabel('log(2)')\n",
    "ax.set_title('Infinite system, dx={:d}, dy={:d}'.format(Lx,Ly))\n",
    "# fig.savefig('/mnt/d/kitp/Rp_SPT/9/LN_pSC_no_inf_Lx{:d}_Ly{:d}.pdf'.format(Lx,Ly),bbox_inches='tight')"
   ]
  },
  {
   "cell_type": "markdown",
   "metadata": {},
   "source": [
    "# Force to |0>\n"
   ]
  },
  {
   "cell_type": "code",
   "execution_count": 48,
   "metadata": {},
   "outputs": [],
   "source": [
    "m_list=(lambda x:(x-2)**3+2 )(np.linspace(1,3,40))\n",
    "# m_list=(np.linspace(1,3,10))\n",
    "Lx,Ly=32,8\n",
    "LN_empty_list=[]\n",
    "MI_empty_list=[]\n",
    "\n",
    "for m in m_list:\n",
    "    params=Params(m=m,Lx=Lx,Ly=Ly)\n",
    "    \n",
    "    total=params.linearize_index([np.arange(params.Lx),np.arange(params.Ly)],2)\n",
    "    subA=params.linearize_index([np.arange(params.Lx//4),np.arange(params.Ly)],2)\n",
    "    proj_range=params.linearize_index([np.arange(params.Lx//4)+params.Lx//4,np.arange(params.Ly)],2,proj=True)\n",
    "    subB=params.linearize_index([np.arange(params.Lx//4)+params.Lx//2,np.arange(params.Ly)],2)\n",
    "    \n",
    "    params.measure_all_Born(proj_range=proj_range,linear=True,prob=1)\n",
    "    MI_empty_list.append(params.mutual_information_m(subA,subB,linear=True))\n",
    "    LN_empty_list.append(params.log_neg(subA,subB,linear=True))\n"
   ]
  },
  {
   "cell_type": "code",
   "execution_count": 49,
   "metadata": {},
   "outputs": [
    {
     "data": {
      "text/plain": [
       "Text(0.5, 1.0, 'Finite system, Lx=32, Ly=8')"
      ]
     },
     "execution_count": 49,
     "metadata": {},
     "output_type": "execute_result"
    },
    {
     "data": {
      "image/png": "[encoded data removed]",
      "text/plain": [
       "<Figure size 489.6x288 with 1 Axes>"
      ]
     },
     "metadata": {
      "needs_background": "light"
     },
     "output_type": "display_data"
    }
   ],
   "source": [
    "fig,ax=plt.subplots()\n",
    "ax.plot(m_list,LN_empty_list/np.log(2),'.-',label='LN')\n",
    "ax.plot(m_list,MI_empty_list/np.log(2),'.-',label='MI')\n",
    "ax.legend()\n",
    "ax.set_xlabel('m')\n",
    "ax.set_ylabel('log(2)')\n",
    "ax.set_title('Finite system, Lx={:d}, Ly={:d}'.format(Lx,Ly))\n",
    "\n",
    "# fig.savefig('/mnt/d/kitp/Rp_SPT/9/LN_pSC_empty_Lx{:d}_Ly{:d}.pdf'.format(Lx,Ly),bbox_inches='tight')"
   ]
  },
  {
   "cell_type": "code",
   "execution_count": 59,
   "metadata": {},
   "outputs": [],
   "source": [
    "m_list=(lambda x:(x-2)**3+2 )(np.linspace(1,3,40))\n",
    "# m_list=(np.linspace(1,3,10))\n",
    "Lx,Ly=32,8\n",
    "LN_empty_list=[]\n",
    "MI_empty_list=[]\n",
    "\n",
    "for m in m_list:\n",
    "    params=Params(m=m,Lx=np.inf,Ly=np.inf,dxmax=Lx,dymax=Ly)\n",
    "    \n",
    "    total=params.linearize_index([np.arange(params.dxmax),np.arange(params.dymax)],2)\n",
    "    subA=params.linearize_index([np.arange(params.dxmax//4),np.arange(params.dymax)],2)\n",
    "    proj_range=params.linearize_index([np.arange(params.dxmax//4)+params.dxmax//4,np.arange(params.dymax)],2,proj=True)\n",
    "    subB=params.linearize_index([np.arange(params.dxmax//4)+params.dxmax//2,np.arange(params.dymax)],2)\n",
    "    \n",
    "    params.measure_all_Born(proj_range=proj_range,linear=True,prob=1)\n",
    "    MI_empty_list.append(params.mutual_information_m(subA,subB,linear=True))\n",
    "    LN_empty_list.append(params.log_neg(subA,subB,linear=True))\n"
   ]
  },
  {
   "cell_type": "code",
   "execution_count": 60,
   "metadata": {},
   "outputs": [
    {
     "data": {
      "text/plain": [
       "Text(0.5, 1.0, 'Infinite system, Lx=32, Ly=8')"
      ]
     },
     "execution_count": 60,
     "metadata": {},
     "output_type": "execute_result"
    },
    {
     "data": {
      "image/png": "[encoded data removed]",
      "text/plain": [
       "<Figure size 489.6x288 with 1 Axes>"
      ]
     },
     "metadata": {
      "needs_background": "light"
     },
     "output_type": "display_data"
    }
   ],
   "source": [
    "fig,ax=plt.subplots()\n",
    "ax.plot(m_list,LN_empty_list/np.log(2),'.-',label='LN')\n",
    "ax.plot(m_list,MI_empty_list/np.log(2),'.-',label='MI')\n",
    "ax.legend()\n",
    "ax.set_xlabel('m')\n",
    "ax.set_ylabel('log(2)')\n",
    "ax.set_title('Infinite system, Lx={:d}, Ly={:d}'.format(Lx,Ly))\n",
    "\n",
    "# fig.savefig('/mnt/d/kitp/Rp_SPT/9/LN_pSC_empty_Lx{:d}_Ly{:d}.pdf'.format(Lx,Ly),bbox_inches='tight')"
   ]
  },
  {
   "cell_type": "markdown",
   "metadata": {},
   "source": [
    "# Force to |1>"
   ]
  },
  {
   "cell_type": "code",
   "execution_count": 50,
   "metadata": {},
   "outputs": [],
   "source": [
    "m_list=(lambda x:(x-2)**3+2 )(np.linspace(1,3,40))\n",
    "# m_list=(np.linspace(1,3,10))\n",
    "Lx,Ly=32,8\n",
    "LN_occ_list=[]\n",
    "MI_occ_list=[]\n",
    "\n",
    "for m in m_list:\n",
    "    params=Params(m=m,Lx=Lx,Ly=Ly)\n",
    "    \n",
    "    total=params.linearize_index([np.arange(params.Lx),np.arange(params.Ly)],2)\n",
    "    subA=params.linearize_index([np.arange(params.Lx//4),np.arange(params.Ly)],2)\n",
    "    proj_range=params.linearize_index([np.arange(params.Lx//4)+params.Lx//4,np.arange(params.Ly)],2,proj=True)\n",
    "    subB=params.linearize_index([np.arange(params.Lx//4)+params.Lx//2,np.arange(params.Ly)],2)\n",
    "    \n",
    "    params.measure_all_Born(proj_range=proj_range,linear=True,prob=0)\n",
    "    MI_occ_list.append(params.mutual_information_m(subA,subB,linear=True))\n",
    "    LN_occ_list.append(params.log_neg(subA,subB,linear=True))\n"
   ]
  },
  {
   "cell_type": "code",
   "execution_count": 51,
   "metadata": {},
   "outputs": [
    {
     "data": {
      "text/plain": [
       "Text(0.5, 1.0, 'Finite system, Lx=32, Ly=8')"
      ]
     },
     "execution_count": 51,
     "metadata": {},
     "output_type": "execute_result"
    },
    {
     "data": {
      "image/png": "[encoded data removed]",
      "text/plain": [
       "<Figure size 489.6x288 with 1 Axes>"
      ]
     },
     "metadata": {
      "needs_background": "light"
     },
     "output_type": "display_data"
    }
   ],
   "source": [
    "fig,ax=plt.subplots()\n",
    "ax.plot(m_list,LN_occ_list/np.log(2),'.-',label='LN')\n",
    "ax.plot(m_list,MI_occ_list/np.log(2),'.-',label='MI')\n",
    "ax.legend()\n",
    "ax.set_xlabel('m')\n",
    "ax.set_ylabel('log(2)')\n",
    "ax.set_title('Finite system, Lx={:d}, Ly={:d}'.format(Lx,Ly))\n",
    "\n",
    "# fig.savefig('/mnt/d/kitp/Rp_SPT/9/LN_pSC_occ_Lx{:d}_Ly{:d}.pdf'.format(Lx,Ly),bbox_inches='tight')"
   ]
  },
  {
   "cell_type": "markdown",
   "metadata": {},
   "source": [
    "# Onsite measurement"
   ]
  },
  {
   "cell_type": "code",
   "execution_count": 62,
   "metadata": {},
   "outputs": [
    {
     "name": "stdout",
     "output_type": "stream",
     "text": [
      "0:12.6\n",
      "1:13.9\n",
      "2:12.7\n",
      "3:12.8\n",
      "4:13.0\n",
      "5:13.4\n",
      "6:12.6\n",
      "7:12.8\n",
      "8:13.2\n",
      "9:13.3\n",
      "10:14.2\n",
      "11:13.7\n",
      "12:13.4\n",
      "13:15.0\n",
      "14:14.3\n",
      "15:11.0\n",
      "16:13.8\n",
      "17:12.7\n",
      "18:12.3\n",
      "19:12.1\n",
      "20:13.8\n",
      "21:13.4\n",
      "22:13.1\n",
      "23:13.4\n",
      "24:12.6\n"
     ]
    }
   ],
   "source": [
    "m_list=(lambda x:(x-2)**3+2 )(np.linspace(1,3,25))\n",
    "# m_list=(np.linspace(1,3,10))\n",
    "es=50\n",
    "LN_Born_list=np.zeros((len(m_list),es))\n",
    "MI_Born_list=np.zeros((len(m_list),es))\n",
    "Lx,Ly=32,8\n",
    "\n",
    "def run(p):\n",
    "    m,Lx,Ly=p\n",
    "    params=Params(m=m,Lx=Lx,Ly=Ly,bcx=-1,bcy=1)\n",
    "    total=params.linearize_index([np.arange(params.Lx),np.arange(params.Ly)],2)\n",
    "    subA=params.linearize_index([np.arange(params.Lx//4),np.arange(params.Ly)],2)\n",
    "    proj_range=params.linearize_index([np.arange(params.Lx//4)+params.Lx//4,np.arange(params.Ly)],2,proj=True)\n",
    "    subB=params.linearize_index([np.arange(params.Lx//4)+params.Lx//2,np.arange(params.Ly)],2)\n",
    "\n",
    "    params.measure_all_Born(proj_range,linear=True)\n",
    "    LN=params.log_neg(subA,subB,linear=True)\n",
    "    MI=params.mutual_information_m(subA,subB,linear=True)\n",
    "    return MI,LN\n",
    "\n",
    "for m_i,m in enumerate(m_list):\n",
    "    st=time.time()\n",
    "    # # Serial\n",
    "    # params0=Params(m=m,Lx=Lx,Ly=Ly,bcx=-1,bcy=1)\n",
    "    # for es_i in range(es):\n",
    "    #     params=copy(params0)\n",
    "    #     params.measure_all_Born(proj_range,linear=True)\n",
    "    #     MI_Born_list[m_i,es_i]=params.mutual_information_m(subA,subB,linear=True)\n",
    "    #     LN_Born_list[m_i,es_i]=params.log_neg(subA,subB,linear=True)\n",
    "\n",
    "    # Parallel\n",
    "    inputs=[(m,Lx,Ly) for _ in range(es)]\n",
    "    async_result=rc[:].map_sync(run,inputs)\n",
    "    for index,results in enumerate(async_result):\n",
    "        MI_Born_list[m_i,index],LN_Born_list[m_i,index]=results\n",
    "\n",
    "    print('{:d}:{:.1f}'.format(m_i,time.time()-st))\n"
   ]
  },
  {
   "cell_type": "code",
   "execution_count": 17,
   "metadata": {},
   "outputs": [],
   "source": [
    "es,Lx,Ly=20,128,16\n",
    "with open('/mnt/d/KITP/Rp_SPT/9/MI_LN_pSC_Born_En{:d}_Lx{:d}_Ly{:d}.pickle'.format(es,Lx,Ly),'rb') as f:\n",
    "    [m_list,MI_Born_list,LN_Born_list]=pickle.load(f)"
   ]
  },
  {
   "cell_type": "code",
   "execution_count": 64,
   "metadata": {},
   "outputs": [
    {
     "data": {
      "image/png": "[encoded data removed]",
      "text/plain": [
       "<Figure size 489.6x288 with 1 Axes>"
      ]
     },
     "metadata": {
      "needs_background": "light"
     },
     "output_type": "display_data"
    }
   ],
   "source": [
    "fig,ax=plt.subplots()\n",
    "# ax.plot(m_list,LN_no_list,'.-',label='No measurement')\n",
    "\n",
    "ax.errorbar(m_list,LN_Born_list.mean(axis=1)/np.log(2),LN_Born_list.std(axis=1)/np.log(2)/np.sqrt(es-1),capsize=3,fmt='.-',label='Onsite measurement (LN)')\n",
    "ax.errorbar(m_list,MI_Born_list.mean(axis=1)/np.log(2),MI_Born_list.std(axis=1)/np.log(2)/np.sqrt(es-1),capsize=3,fmt='.-',label='Onsite measurement (MI)')\n",
    "\n",
    "ax.legend()\n",
    "ax.grid('on')\n",
    "ax.set_yticks([0,0.5,1])\n",
    "ax.set_xlabel(r'm')\n",
    "ax.set_ylabel(r'log neg [log(2)]')\n",
    "ax.margins(x=0)\n",
    "ax.set_title('Ensemble Size={:d}, Lx={:d}, Ly={:d}'.format(es,Lx,Ly))\n",
    "fig.savefig('/mnt/d/KITP/Rp_SPT/9/LN_pSC_Born_En{:d}_Lx{:d}_Ly{:d}.pdf'.format(es,Lx,Ly),bbox_inches='tight')"
   ]
  },
  {
   "cell_type": "code",
   "execution_count": 39,
   "metadata": {},
   "outputs": [
    {
     "data": {
      "text/plain": [
       "<__main__.Params at 0x7f924c7a6700>"
      ]
     },
     "execution_count": 39,
     "metadata": {},
     "output_type": "execute_result"
    }
   ],
   "source": [
    "Lx,Ly=64,4\n",
    "params=Params(m=1,dxmax=Lx,dymax=Ly,Lx=np.inf,Ly=np.inf,bcx=-1,bcy=1,history=True)\n",
    "total=params.linearize_index([np.arange(params.dxmax),np.arange(params.dymax)],2)\n",
    "subA=params.linearize_index([np.arange(params.dxmax//4),np.arange(params.dymax)],2)\n",
    "proj_range=params.linearize_index([np.arange(params.dxmax//4)+params.dxmax//4,np.arange(params.dymax)],2,proj=True)\n",
    "subB=params.linearize_index([np.arange(params.dxmax//4)+params.dxmax//2,np.arange(params.dymax)],2)\n",
    "params.measure_all_Born(proj_range,linear=True)\n"
   ]
  },
  {
   "cell_type": "code",
   "execution_count": 40,
   "metadata": {},
   "outputs": [
    {
     "data": {
      "text/plain": [
       "0.00031467986715849605"
      ]
     },
     "execution_count": 40,
     "metadata": {},
     "output_type": "execute_result"
    }
   ],
   "source": [
    "params.log_neg(subA,subB,linear=True)"
   ]
  },
  {
   "cell_type": "code",
   "execution_count": 41,
   "metadata": {},
   "outputs": [
    {
     "data": {
      "text/plain": [
       "<matplotlib.collections.PathCollection at 0x7f924c7c8af0>"
      ]
     },
     "execution_count": 41,
     "metadata": {},
     "output_type": "execute_result"
    },
    {
     "data": {
      "image/png": "[encoded data removed]",
      "text/plain": [
       "<Figure size 489.6x288 with 1 Axes>"
      ]
     },
     "metadata": {
      "needs_background": "light"
     },
     "output_type": "display_data"
    }
   ],
   "source": [
    "plt.scatter(*params.square_index(total),color='k')\n",
    "plt.scatter(*params.square_index(subA),color='c')\n",
    "plt.scatter(*params.square_index(subB),color='r')\n",
    "plt.scatter(*params.square_index(proj_range),color='b')"
   ]
  },
  {
   "cell_type": "code",
   "execution_count": 15,
   "metadata": {},
   "outputs": [
    {
     "data": {
      "text/plain": [
       "array([[ 0., -1.,  0.,  0.],\n",
       "       [ 1.,  0.,  0.,  0.],\n",
       "       [ 0.,  0.,  0., -1.],\n",
       "       [ 0.,  0.,  1.,  0.]])"
      ]
     },
     "execution_count": 15,
     "metadata": {},
     "output_type": "execute_result"
    }
   ],
   "source": [
    "params.C_m_history[-1][proj_range[0]:proj_range[0]+4,proj_range[0]:proj_range[0]+4]"
   ]
  },
  {
   "cell_type": "code",
   "execution_count": 49,
   "metadata": {},
   "outputs": [],
   "source": [
    "run((1,128,32))"
   ]
  },
  {
   "cell_type": "code",
   "execution_count": 42,
   "metadata": {},
   "outputs": [
    {
     "name": "stdout",
     "output_type": "stream",
     "text": [
      "0:26.1\n",
      "1:27.6\n",
      "2:26.8\n",
      "3:25.1\n",
      "4:24.6\n",
      "5:26.9\n",
      "6:25.7\n",
      "7:26.0\n",
      "8:26.4\n",
      "9:26.4\n"
     ]
    }
   ],
   "source": [
    "# m_list=(lambda x:(x-2)**3+2 )(np.linspace(1,3,25))\n",
    "m_list=(np.linspace(1,3,10))\n",
    "es=20\n",
    "LN_Born_inf_list=np.zeros((len(m_list),es))\n",
    "MI_Born_inf_list=np.zeros((len(m_list),es))\n",
    "Lx,Ly=64,8\n",
    "\n",
    "def run(p):\n",
    "    m,Lx,Ly=p\n",
    "    params=Params(m=m,dxmax=Lx,dymax=Ly,Lx=np.inf,Ly=np.inf,bcx=-1,bcy=1)\n",
    "    total=params.linearize_index([np.arange(params.dxmax),np.arange(params.dymax)],2)\n",
    "    subA=params.linearize_index([np.arange(params.dxmax//4),np.arange(params.dymax)],2)\n",
    "    proj_range=params.linearize_index([np.arange(params.dxmax//4)+params.dxmax//4,np.arange(params.dymax)],2,proj=True)\n",
    "    subB=params.linearize_index([np.arange(params.dxmax//4)+params.dxmax//2,np.arange(params.dymax)],2)\n",
    "\n",
    "    params.measure_all_Born(proj_range,linear=True)\n",
    "    LN=params.log_neg(subA,subB,linear=True)\n",
    "    MI=params.mutual_information_m(subA,subB,linear=True)\n",
    "    return MI,LN\n",
    "\n",
    "for m_i,m in enumerate(m_list):\n",
    "    st=time.time()\n",
    "    # # Serial\n",
    "    # params0=Params(m=m,Lx=Lx,Ly=Ly,bcx=-1,bcy=1)\n",
    "    # for es_i in range(es):\n",
    "    #     params=copy(params0)\n",
    "    #     params.measure_all_Born(proj_range,linear=True)\n",
    "    #     MI_Born_inf_list[m_i,es_i]=params.mutual_information_m(subA,subB,linear=True)\n",
    "    #     LN_Born_inf_list[m_i,es_i]=params.log_neg(subA,subB,linear=True)\n",
    "\n",
    "    # Parallel\n",
    "    inputs=[(m,Lx,Ly) for _ in range(es)]\n",
    "    async_result=rc[:].map_sync(run,inputs)\n",
    "    for index,results in enumerate(async_result):\n",
    "        MI_Born_inf_list[m_i,index],LN_Born_inf_list[m_i,index]=results\n",
    "\n",
    "    print('{:d}:{:.1f}'.format(m_i,time.time()-st))\n"
   ]
  },
  {
   "cell_type": "code",
   "execution_count": 45,
   "metadata": {},
   "outputs": [
    {
     "data": {
      "text/plain": [
       "Text(0.5, 1.0, 'Ensemble Size=20, dx=64, dy=8')"
      ]
     },
     "execution_count": 45,
     "metadata": {},
     "output_type": "execute_result"
    },
    {
     "data": {
      "image/png": "[encoded data removed]",
      "text/plain": [
       "<Figure size 489.6x288 with 1 Axes>"
      ]
     },
     "metadata": {
      "needs_background": "light"
     },
     "output_type": "display_data"
    }
   ],
   "source": [
    "fig,ax=plt.subplots()\n",
    "# ax.plot(m_list,LN_no_list,'.-',label='No measurement')\n",
    "\n",
    "ax.errorbar(m_list,LN_Born_inf_list.mean(axis=1)/np.log(2),LN_Born_inf_list.std(axis=1)/np.log(2)/np.sqrt(es-1),capsize=3,fmt='.-',label='Onsite measurement (LN)')\n",
    "ax.errorbar(m_list,MI_Born_inf_list.mean(axis=1)/np.log(2),MI_Born_inf_list.std(axis=1)/np.log(2)/np.sqrt(es-1),capsize=3,fmt='.-',label='Onsite measurement (MI)')\n",
    "\n",
    "ax.legend()\n",
    "ax.grid('on')\n",
    "ax.set_yticks([0,0.5,1])\n",
    "ax.set_xlabel(r'm')\n",
    "ax.set_ylabel(r'log neg [log(2)]')\n",
    "ax.margins(x=0)\n",
    "ax.set_title('Ensemble Size={:d}, dx={:d}, dy={:d}'.format(es,Lx,Ly))\n",
    "# fig.savefig('/mnt/d/KITP/Rp_SPT/9/LN_pSC_Born_inf_En{:d}_Lx{:d}_Ly{:d}.pdf'.format(es,Lx,Ly),bbox_inches='tight')"
   ]
  },
  {
   "cell_type": "markdown",
   "metadata": {},
   "source": [
    "# LN scaling behavior"
   ]
  },
  {
   "cell_type": "markdown",
   "metadata": {},
   "source": [
    "## fix dist, |A|_x, increase |A|_y"
   ]
  },
  {
   "cell_type": "code",
   "execution_count": 1,
   "metadata": {},
   "outputs": [],
   "source": [
    "LN_Ay={}"
   ]
  },
  {
   "cell_type": "code",
   "execution_count": 4,
   "metadata": {},
   "outputs": [],
   "source": [
    "Ly_list=np.arange(1,16)\n",
    "Lx=32\n",
    "LN_Ay=[Params(m=1,Lx=Lx,Ly=Ly).log_neg([np.arange(Lx//4),np.arange(Ly)],[np.arange(Lx//4)+Lx//2,np.arange(Ly)]) for Ly in Ly_list]\n"
   ]
  },
  {
   "cell_type": "code",
   "execution_count": 5,
   "metadata": {},
   "outputs": [
    {
     "data": {
      "text/plain": [
       "<matplotlib.legend.Legend at 0x7f79bb5c4e50>"
      ]
     },
     "execution_count": 5,
     "metadata": {},
     "output_type": "execute_result"
    },
    {
     "data": {
      "image/png": "[encoded data removed]",
      "text/plain": [
       "<Figure size 489.6x288 with 1 Axes>"
      ]
     },
     "metadata": {
      "needs_background": "light"
     },
     "output_type": "display_data"
    }
   ],
   "source": [
    "fig,ax=plt.subplots()\n",
    "ax.plot(Ly_list,LN_Ay/np.log(2),'.',label=r'$L_x={:d}$'.format(Lx),color='b')\n",
    "ax.set_xlabel(r'$L_y$')\n",
    "ax.set_ylabel(r'LN [log 2]')\n",
    "lr=scipy.stats.linregress(Ly_list,LN_Ay/np.log(2))\n",
    "xfit=Ly_list[[0,-1]]\n",
    "ax.plot(xfit,lr.slope*xfit+lr.intercept,'c',label=r'LN={:e}~$L_y$+ {:e}'.format(lr.slope,lr.intercept))\n",
    "\n",
    "ax.legend()\n",
    "\n",
    "# fig.savefig('//mnt/d/kitp/Rp_SPT/9/LN_Ay.pdf',bbox_inches='tight')"
   ]
  },
  {
   "cell_type": "markdown",
   "metadata": {},
   "source": [
    "# After measurement"
   ]
  },
  {
   "cell_type": "code",
   "execution_count": 14,
   "metadata": {},
   "outputs": [
    {
     "name": "stdout",
     "output_type": "stream",
     "text": [
      "2:0.3\n",
      "3:0.7\n",
      "4:1.4\n",
      "5:2.1\n",
      "6:4.2\n",
      "7:6.6\n",
      "8:9.3\n",
      "9:11.5\n",
      "10:15.8\n",
      "11:20.7\n",
      "12:28.7\n",
      "13:34.5\n",
      "14:44.6\n",
      "15:56.9\n"
     ]
    }
   ],
   "source": [
    "Ly_list=np.arange(2,16)\n",
    "es=50\n",
    "m=2\n",
    "Lx=32\n",
    "LN_Born_scaling_list=np.zeros((len(Ly_list),es))\n",
    "MI_Born_scaling_list=np.zeros((len(Ly_list),es))\n",
    "\n",
    "def run(p):\n",
    "    m,Lx,Ly=p\n",
    "    params=Params(m=m,Lx=Lx,Ly=Ly,bcx=-1,bcy=1)\n",
    "    total=params.linearize_index([np.arange(params.Lx),np.arange(params.Ly)],2)\n",
    "    subA=params.linearize_index([np.arange(params.Lx//4),np.arange(params.Ly)],2)\n",
    "    proj_range=params.linearize_index([np.arange(params.Lx//4)+params.Lx//4,np.arange(params.Ly)],2,proj=True)\n",
    "    subB=params.linearize_index([np.arange(params.Lx//4)+params.Lx//2,np.arange(params.Ly)],2)\n",
    "\n",
    "    params.measure_all_Born(proj_range,linear=True)\n",
    "    LN=params.log_neg(subA,subB,linear=True)\n",
    "    MI=params.mutual_information_m(subA,subB,linear=True)\n",
    "    return MI,LN\n",
    "\n",
    "for Ly_i,Ly in enumerate(Ly_list):\n",
    "    st=time.time()\n",
    "    inputs=[(m,Lx,Ly) for _ in range(es)]\n",
    "    async_result=rc[:].map_sync(run,inputs)\n",
    "    for index,results in enumerate(async_result):\n",
    "        MI_Born_scaling_list[Ly_i,index],LN_Born_scaling_list[Ly_i,index]=results\n",
    "\n",
    "    print('{:d}:{:.1f}'.format(Ly,time.time()-st))"
   ]
  },
  {
   "cell_type": "code",
   "execution_count": 55,
   "metadata": {},
   "outputs": [],
   "source": [
    "m,es,Lx=1,20,64\n",
    "# '/mnt/d/KITP/Rp_SPT/9/'\n",
    "with open('/mnt/d/KITP/Rp_SPT/9/scaling_m{:d}_En{:d}_Lx{:d}.pickle'.format(m,es,Lx),'rb') as f:\n",
    "    [Ly_list,MI_Born_scaling_list,LN_Born_scaling_list]=pickle.load(f)"
   ]
  },
  {
   "cell_type": "code",
   "execution_count": 56,
   "metadata": {},
   "outputs": [
    {
     "data": {
      "image/png": "[encoded data removed]",
      "text/plain": [
       "<Figure size 489.6x288 with 1 Axes>"
      ]
     },
     "metadata": {
      "needs_background": "light"
     },
     "output_type": "display_data"
    }
   ],
   "source": [
    "fig,ax=plt.subplots()\n",
    "ax.errorbar(Ly_list,LN_Born_scaling_list.mean(axis=1)/np.log(2),LN_Born_scaling_list.std(axis=1)/np.log(2)/np.sqrt(es-1),capsize=3,fmt='.-',label='Onsite measurement (LN)')\n",
    "ax.errorbar(Ly_list,MI_Born_scaling_list.mean(axis=1)/np.log(2),MI_Born_scaling_list.std(axis=1)/np.log(2)/np.sqrt(es-1),capsize=3,fmt='.-',label='Onsite measurement (MI)')\n",
    "\n",
    "ax.legend()\n",
    "ax.grid('on')\n",
    "# ax.set_yticks([0,0.5,1])\n",
    "ax.set_xlabel(r'$L_y$')\n",
    "ax.set_ylabel(r'log neg [log(2)]')\n",
    "ax.margins(x=0)\n",
    "ax.set_title('Ensemble Size={:d}, Lx={:d}, m={:d}'.format(es,Lx,m))\n",
    "fig.savefig('/mnt/d/KITP/Rp_SPT/9/scaling_m{:d}_En{:d}_Lx{:d}.pdf'.format(m,es,Lx),bbox_inches='tight')"
   ]
  },
  {
   "cell_type": "code",
   "execution_count": null,
   "metadata": {},
   "outputs": [],
   "source": []
  }
 ],
 "metadata": {
  "interpreter": {
   "hash": "8763e5ea16b716ad1eeffeab5f34109bd722594d0305e114e3d37565ed57b2a4"
  },
  "kernelspec": {
   "display_name": "Python 3.8.11 64-bit ('base': conda)",
   "name": "python3"
  },
  "language_info": {
   "codemirror_mode": {
    "name": "ipython",
    "version": 3
   },
   "file_extension": ".py",
   "mimetype": "text/x-python",
   "name": "python",
   "nbconvert_exporter": "python",
   "pygments_lexer": "ipython3",
   "version": "3.10.9"
  },
  "orig_nbformat": 4
 },
 "nbformat": 4,
 "nbformat_minor": 2
}
