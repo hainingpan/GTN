{
 "cells": [
  {
   "cell_type": "code",
   "execution_count": 2,
   "metadata": {},
   "outputs": [],
   "source": [
    "%load_ext line_profiler"
   ]
  },
  {
   "cell_type": "code",
   "execution_count": 1,
   "metadata": {},
   "outputs": [],
   "source": [
    "import torch\n",
    "import matplotlib.pyplot as plt\n",
    "import pickle\n",
    "from tqdm import tqdm\n",
    "from time import time"
   ]
  },
  {
   "cell_type": "code",
   "execution_count": 4,
   "metadata": {},
   "outputs": [],
   "source": [
    "from importlib import reload\n",
    "\n",
    "import GTN2\n",
    "reload(GTN2)\n",
    "from GTN2 import *"
   ]
  },
  {
   "cell_type": "code",
   "execution_count": 5,
   "metadata": {},
   "outputs": [],
   "source": [
    "from importlib import reload\n",
    "\n",
    "import utils\n",
    "reload(utils)\n",
    "from utils import *"
   ]
  },
  {
   "cell_type": "code",
   "execution_count": 26,
   "metadata": {},
   "outputs": [],
   "source": [
    "from importlib import reload\n",
    "\n",
    "import GTN2_torch\n",
    "reload(GTN2_torch)\n",
    "from GTN2_torch import *"
   ]
  },
  {
   "cell_type": "code",
   "execution_count": 31,
   "metadata": {},
   "outputs": [],
   "source": [
    "from importlib import reload\n",
    "\n",
    "import utils_torch\n",
    "reload(utils_torch)\n",
    "from utils_torch import *"
   ]
  },
  {
   "cell_type": "code",
   "execution_count": 5,
   "metadata": {},
   "outputs": [],
   "source": [
    "from importlib import reload\n",
    "\n",
    "import plot_utils\n",
    "reload(plot_utils)\n",
    "from plot_utils import *"
   ]
  },
  {
   "cell_type": "code",
   "execution_count": 9,
   "metadata": {},
   "outputs": [],
   "source": [
    "def measure_feedback_layer(gtn2,):\n",
    "    # margin_x=0 if gtn2.bcx==1 else gtn2.nshell\n",
    "    margin_x=0 \n",
    "    ilist = range(margin_x,gtn2.Lx-margin_x)\n",
    "    # margin_y=0 if gtn2.bcy==1 else gtn2.nshell\n",
    "    margin_y=0\n",
    "    jlist = range(margin_y,gtn2.Ly-margin_y)\n",
    "    ij_list = [(i,j) for i in (ilist) for j in (jlist)]\n",
    "    for i,j in (ij_list):\n",
    "        gtn2.measure_feedback(ij = [i,j])"
   ]
  },
  {
   "cell_type": "code",
   "execution_count": 10,
   "metadata": {},
   "outputs": [],
   "source": [
    "def randomize(gtn2,measure=True):\n",
    "    for i in tqdm(range(2*gtn2.L+1,4*gtn2.L,2),desc='randomize'):\n",
    "        # print([i, (i+1)%(2*gtn2.L)+2*gtn2.L])\n",
    "        gtn2.randomize([i, (i+1)%(2*gtn2.L)+2*gtn2.L])\n",
    "    if measure:\n",
    "        for i in tqdm(range(2*gtn2.L,4*gtn2.L,2),desc='measure'):\n",
    "            gtn2.measure_single_mode_Born([i,i+1],mode=[1])"
   ]
  },
  {
   "cell_type": "markdown",
   "metadata": {},
   "source": [
    "# Dense"
   ]
  },
  {
   "cell_type": "code",
   "execution_count": 9,
   "metadata": {},
   "outputs": [],
   "source": [
    "gtn2=GTN2(Lx=20,Ly=20,history=False,random_init=True,random_U1=True,bcx=1,bcy=1,seed=0,orbit=2,nshell=2,layer=2,sparse=False)\n",
    "\n",
    "# op=kraus([0,1/np.sqrt(2),1/np.sqrt(2)])\n",
    "# ix = np.arange(0,2).tolist()\n",
    "# ix_bar = np.arange(2,gtn2.C_m.shape[0]).tolist()\n",
    "op=(op_single_mode(((1,)*50,1)))\n",
    "ix = np.arange(0,100).tolist()\n",
    "ix_bar = np.arange(100,gtn2.C_m.shape[0]).tolist()"
   ]
  },
  {
   "cell_type": "code",
   "execution_count": 149,
   "metadata": {},
   "outputs": [],
   "source": [
    "Gamma=gtn2.C_m.copy()"
   ]
  },
  {
   "cell_type": "code",
   "execution_count": 153,
   "metadata": {},
   "outputs": [],
   "source": [
    "P_contraction_2(gtn2.C_m,op,ix,ix_bar,)"
   ]
  },
  {
   "cell_type": "code",
   "execution_count": 104,
   "metadata": {},
   "outputs": [
    {
     "name": "stdout",
     "output_type": "stream",
     "text": [
      "543 ms ± 847 µs per loop (mean ± std. dev. of 7 runs, 1 loop each)\n"
     ]
    }
   ],
   "source": [
    "%timeit P_contraction_2(gtn2.C_m,op,ix,ix_bar,)"
   ]
  },
  {
   "cell_type": "markdown",
   "metadata": {},
   "source": [
    "# Torch"
   ]
  },
  {
   "cell_type": "code",
   "execution_count": 191,
   "metadata": {},
   "outputs": [
    {
     "name": "stdout",
     "output_type": "stream",
     "text": [
      "Using cuda\n"
     ]
    }
   ],
   "source": [
    "gtn2_torch=GTN2_torch(Lx=15,Ly=15,history=False,random_init=False,random_U1=True,bcx=1,bcy=1,seed=1,orbit=2,nshell=2,layer=2,replica=2,complex128=True)\n",
    "\n",
    "mu_list=[1]\n",
    "gtn2_torch.a_i={}\n",
    "gtn2_torch.b_i={}\n",
    "gtn2_torch.A_i={}\n",
    "gtn2_torch.B_i={}\n",
    "for mu in mu_list:\n",
    "    gtn2_torch.a_i[mu],gtn2_torch.b_i[mu] = amplitude(gtn2_torch.nshell,tau=[0,1],geometry='square',lower=True,mu=mu,C=1)\n",
    "    gtn2_torch.A_i[mu],gtn2_torch.B_i[mu] = amplitude(gtn2_torch.nshell,tau=[1,0],geometry='square',lower=False,mu=mu,C=1)"
   ]
  },
  {
   "cell_type": "code",
   "execution_count": 192,
   "metadata": {},
   "outputs": [],
   "source": [
    "nu_list =[]\n",
    "A_idx_0,B_idx_0,C_idx_0 = gtn2_torch.generate_tripartite_circle()\n",
    "nu_list.append(chern_number_quick(gtn2_torch.C_m,A_idx_0,B_idx_0,C_idx_0,device=gtn2_torch.device,dtype=gtn2_torch.dtype_float))\n"
   ]
  },
  {
   "cell_type": "code",
   "execution_count": 193,
   "metadata": {},
   "outputs": [
    {
     "name": "stderr",
     "output_type": "stream",
     "text": [
      "100%|██████████| 5/5 [01:14<00:00, 14.81s/it]\n"
     ]
    }
   ],
   "source": [
    "for i in tqdm(range(5)):\n",
    "    randomize(gtn2_torch,measure=True)\n",
    "    measure_feedback_layer(gtn2_torch)\n",
    "    nu_list.append( chern_number_quick(gtn2_torch.C_m,A_idx_0,B_idx_0,C_idx_0,device=gtn2_torch.device,dtype=gtn2_torch.dtype_float))\n"
   ]
  },
  {
   "cell_type": "code",
   "execution_count": 194,
   "metadata": {},
   "outputs": [],
   "source": [
    "ilist=np.arange(0,gtn2_torch.Lx)\n",
    "jlist=np.arange(0,gtn2_torch.Ly)\n",
    "subregion_m = torch.hstack((\n",
    "    torch.from_numpy(gtn2_torch.linearize_idx_span(ilist = ilist,jlist=jlist,layer=0)).cuda(),\n",
    "    torch.from_numpy(gtn2_torch.linearize_idx_span(ilist = ilist,jlist=jlist,layer=1)).cuda())\n",
    ")\n",
    "\n",
    "EC=gtn2_torch.entanglement_contour(subregion_m,fermion_idx=False,Gamma=gtn2_torch.C_m)\n",
    "EC_grid=EC.reshape((2,ilist.shape[0],jlist.shape[0],2,2)).sum(axis=(-1,-2)).cpu().numpy()"
   ]
  },
  {
   "cell_type": "code",
   "execution_count": 208,
   "metadata": {},
   "outputs": [
    {
     "data": {
      "text/plain": [
       "(<matplotlib.image.AxesImage at 0x7fd83a9035e0>,\n",
       " <matplotlib.image.AxesImage at 0x7fd83a93a8c0>,\n",
       " <matplotlib.collections.PathCollection at 0x7fd83a9ade40>,\n",
       " <matplotlib.collections.PathCollection at 0x7fd83a9d93c0>)"
      ]
     },
     "execution_count": 208,
     "metadata": {},
     "output_type": "execute_result"
    },
    {
     "data": {
      "image/png": "[encoded data removed]",
      "text/plain": [
       "<Figure size 500x250 with 2 Axes>"
      ]
     },
     "metadata": {},
     "output_type": "display_data"
    }
   ],
   "source": [
    "fig,ax=plt.subplots(1,2,figsize=(5,2.5))\n",
    "plot_EC(EC_grid,ax=ax,vmax=None)"
   ]
  },
  {
   "cell_type": "code",
   "execution_count": 196,
   "metadata": {},
   "outputs": [],
   "source": [
    "C_r=gtn2_torch.local_Chern_marker(gtn2_torch.C_m,)"
   ]
  },
  {
   "cell_type": "code",
   "execution_count": 197,
   "metadata": {},
   "outputs": [
    {
     "data": {
      "text/plain": [
       "(<matplotlib.image.AxesImage at 0x7fd8421a5a80>,\n",
       " <matplotlib.image.AxesImage at 0x7fd83efc1b10>,\n",
       " <matplotlib.collections.PathCollection at 0x7fd83efc2410>,\n",
       " <matplotlib.collections.PathCollection at 0x7fd83efc1ab0>)"
      ]
     },
     "execution_count": 197,
     "metadata": {},
     "output_type": "execute_result"
    },
    {
     "data": {
      "image/png": "[encoded data removed]",
      "text/plain": [
       "<Figure size 500x250 with 2 Axes>"
      ]
     },
     "metadata": {},
     "output_type": "display_data"
    }
   ],
   "source": [
    "fig,ax=plt.subplots(1,2,figsize=(5,2.5))\n",
    "plot_C_r(C_r.cpu()[0],ax=ax,bottomcb=False,label_pos=[None,(0,0)])"
   ]
  },
  {
   "cell_type": "code",
   "execution_count": null,
   "metadata": {},
   "outputs": [],
   "source": []
  },
  {
   "cell_type": "markdown",
   "metadata": {},
   "source": [
    "# DW"
   ]
  },
  {
   "cell_type": "code",
   "execution_count": 56,
   "metadata": {},
   "outputs": [],
   "source": [
    "def measure_feedback_layer_dw_line(gtn2,overlap,geometry,truncate=False):\n",
    "    ilist = range(gtn2.Lx)\n",
    "    jlist = range(gtn2.Ly)\n",
    "    ij_list = [(i,j) for i in (ilist) for j in (jlist)]\n",
    "    margin=0 if overlap else gtn2.nshell\n",
    "    inner_list = range(gtn2.Lx//5+margin,gtn2.Lx//5*4-margin)\n",
    "    outer_list = range(gtn2.Lx//5-margin,gtn2.Lx//5*4+margin)\n",
    "    if geometry == 'square':\n",
    "        inner_region=set([(i,j) for i in inner_list for j in inner_list])\n",
    "        outer_region=set([(i,j) for i in ilist for j in jlist if i not in outer_list or j not in outer_list])\n",
    "    elif geometry == 'strip':\n",
    "        inner_region=set([(i,j) for i in inner_list for j in jlist])\n",
    "        outer_region=set([(i,j) for i in ilist for j in jlist if i not in outer_list])\n",
    "    region_inner=inner_region if truncate else None\n",
    "    region_outer=outer_region if truncate else None\n",
    "    for i,j in tqdm(ij_list,desc='measure with feedback'):\n",
    "        if (i,j) in inner_region:\n",
    "            gtn2.measure_feedback(ij = [i,j],mu=1,region=region_inner)\n",
    "        elif (i,j) in outer_region:\n",
    "            gtn2.measure_feedback(ij = [i,j],mu=3,region=region_outer)\n"
   ]
  },
  {
   "cell_type": "code",
   "execution_count": 75,
   "metadata": {},
   "outputs": [
    {
     "name": "stdout",
     "output_type": "stream",
     "text": [
      "Using cuda\n"
     ]
    }
   ],
   "source": [
    "gtn2=GTN2_torch(Lx=20,Ly=20,history=False,random_init=False,bcx=1,bcy=1,seed=0,orbit=2,nshell=2,layer=2,replica=2,)\n",
    "\n",
    "\n",
    "mu_list=[1,3]\n",
    "gtn2.a_i={}\n",
    "gtn2.b_i={}\n",
    "gtn2.A_i={}\n",
    "gtn2.B_i={}\n",
    "for mu in mu_list:\n",
    "    gtn2.a_i[mu],gtn2.b_i[mu] = amplitude(gtn2.nshell,tau=[0,1],geometry='square',lower=True,mu=mu)\n",
    "    gtn2.A_i[mu],gtn2.B_i[mu] = amplitude(gtn2.nshell,tau=[1,0],geometry='square',lower=False,mu=mu)\n"
   ]
  },
  {
   "cell_type": "code",
   "execution_count": 76,
   "metadata": {},
   "outputs": [],
   "source": [
    "# nu_list =[]\n",
    "# A_idx_0,B_idx_0,C_idx_0 = gtn2.generate_tripartite_circle()\n",
    "\n",
    "ilist=np.arange(0,gtn2.Lx)\n",
    "jlist=np.arange(0,gtn2.Ly)\n",
    "subregion_m = torch.hstack((\n",
    "    torch.from_numpy(gtn2.linearize_idx_span(ilist = ilist,jlist=jlist,layer=0)).cuda(),\n",
    "    torch.from_numpy(gtn2.linearize_idx_span(ilist = ilist,jlist=jlist,layer=1)).cuda())\n",
    ")\n",
    "EC_list=[]\n",
    "C_r_list=[]"
   ]
  },
  {
   "cell_type": "code",
   "execution_count": 77,
   "metadata": {},
   "outputs": [
    {
     "name": "stderr",
     "output_type": "stream",
     "text": [
      "measure with feedback: 100%|██████████| 400/400 [01:33<00:00,  4.27it/s]\n",
      "randomize: 100%|██████████| 800/800 [00:13<00:00, 60.64it/s]\n",
      "measure: 100%|██████████| 800/800 [00:13<00:00, 60.27it/s]\n"
     ]
    },
    {
     "name": "stdout",
     "output_type": "stream",
     "text": [
      "3.68\n"
     ]
    },
    {
     "name": "stderr",
     "output_type": "stream",
     "text": [
      "measure with feedback: 100%|██████████| 400/400 [01:18<00:00,  5.09it/s]\n",
      "randomize: 100%|██████████| 800/800 [00:13<00:00, 60.45it/s]\n",
      "measure: 100%|██████████| 800/800 [00:13<00:00, 60.25it/s]\n"
     ]
    },
    {
     "name": "stdout",
     "output_type": "stream",
     "text": [
      "3.68\n"
     ]
    },
    {
     "name": "stderr",
     "output_type": "stream",
     "text": [
      "measure with feedback: 100%|██████████| 400/400 [01:10<00:00,  5.65it/s]\n",
      "randomize: 100%|██████████| 800/800 [00:13<00:00, 60.55it/s]\n",
      "measure: 100%|██████████| 800/800 [00:13<00:00, 60.26it/s]\n"
     ]
    },
    {
     "name": "stdout",
     "output_type": "stream",
     "text": [
      "3.68\n"
     ]
    },
    {
     "name": "stderr",
     "output_type": "stream",
     "text": [
      "measure with feedback: 100%|██████████| 400/400 [01:07<00:00,  5.96it/s]\n",
      "randomize: 100%|██████████| 800/800 [00:13<00:00, 60.56it/s]\n",
      "measure: 100%|██████████| 800/800 [00:13<00:00, 60.26it/s]\n"
     ]
    },
    {
     "name": "stdout",
     "output_type": "stream",
     "text": [
      "3.68\n"
     ]
    },
    {
     "name": "stderr",
     "output_type": "stream",
     "text": [
      "measure with feedback: 100%|██████████| 400/400 [01:04<00:00,  6.19it/s]\n",
      "randomize: 100%|██████████| 800/800 [00:13<00:00, 60.57it/s]\n",
      "measure: 100%|██████████| 800/800 [00:13<00:00, 60.28it/s]\n"
     ]
    },
    {
     "name": "stdout",
     "output_type": "stream",
     "text": [
      "3.68\n"
     ]
    },
    {
     "name": "stderr",
     "output_type": "stream",
     "text": [
      "measure with feedback: 100%|██████████| 400/400 [01:03<00:00,  6.31it/s]\n",
      "randomize: 100%|██████████| 800/800 [00:13<00:00, 60.58it/s]\n",
      "measure: 100%|██████████| 800/800 [00:13<00:00, 60.30it/s]\n"
     ]
    },
    {
     "name": "stdout",
     "output_type": "stream",
     "text": [
      "3.67\n"
     ]
    },
    {
     "name": "stderr",
     "output_type": "stream",
     "text": [
      "measure with feedback: 100%|██████████| 400/400 [01:02<00:00,  6.43it/s]\n",
      "randomize: 100%|██████████| 800/800 [00:13<00:00, 60.57it/s]\n",
      "measure: 100%|██████████| 800/800 [00:13<00:00, 60.27it/s]\n"
     ]
    },
    {
     "name": "stdout",
     "output_type": "stream",
     "text": [
      "3.67\n"
     ]
    },
    {
     "name": "stderr",
     "output_type": "stream",
     "text": [
      "measure with feedback: 100%|██████████| 400/400 [01:02<00:00,  6.42it/s]\n",
      "randomize: 100%|██████████| 800/800 [00:13<00:00, 60.58it/s]\n",
      "measure: 100%|██████████| 800/800 [00:13<00:00, 60.28it/s]\n"
     ]
    },
    {
     "name": "stdout",
     "output_type": "stream",
     "text": [
      "3.68\n"
     ]
    },
    {
     "name": "stderr",
     "output_type": "stream",
     "text": [
      "measure with feedback: 100%|██████████| 400/400 [01:08<00:00,  5.85it/s]\n",
      "randomize: 100%|██████████| 800/800 [00:19<00:00, 40.33it/s]\n",
      "measure: 100%|██████████| 800/800 [00:18<00:00, 42.24it/s]\n"
     ]
    },
    {
     "name": "stdout",
     "output_type": "stream",
     "text": [
      "4.29\n"
     ]
    },
    {
     "name": "stderr",
     "output_type": "stream",
     "text": [
      "measure with feedback: 100%|██████████| 400/400 [01:16<00:00,  5.21it/s]\n",
      "randomize: 100%|██████████| 800/800 [00:13<00:00, 60.60it/s]\n",
      "measure: 100%|██████████| 800/800 [00:13<00:00, 60.31it/s]\n"
     ]
    },
    {
     "name": "stdout",
     "output_type": "stream",
     "text": [
      "3.67\n"
     ]
    }
   ],
   "source": [
    "# nu_list.append( chern_number_quick(gtn2.C_m,A_idx_0,B_idx_0,C_idx_0,device=gtn2.device,dtype=gtn2.dtype_float))\n",
    "EC_list.append( gtn2.entanglement_contour(subregion_m,fermion_idx=False,Gamma=gtn2.C_m).reshape((2,ilist.shape[0],jlist.shape[0],2,2)).sum(axis=(-1,-2))) \n",
    "C_r_list.append( gtn2.local_Chern_marker(gtn2.C_m,))\n",
    "\n",
    "for i in (range(10)):\n",
    "    measure_feedback_layer_dw_line(gtn2,overlap=True,geometry='strip',truncate=True)\n",
    "    randomize(gtn2,measure=True)\n",
    "    \n",
    "    # nu_list.append( chern_number_quick(gtn2.C_m,A_idx_0,B_idx_0,C_idx_0,device=gtn2.device,dtype=gtn2.dtype_float))\n",
    "    st=time()\n",
    "    EC_list.append( gtn2.entanglement_contour(subregion_m,fermion_idx=False,Gamma=gtn2.C_m).reshape((2,ilist.shape[0],jlist.shape[0],2,2)).sum(axis=(-1,-2))) \n",
    "    C_r_list.append( gtn2.local_Chern_marker(gtn2.C_m,))\n",
    "    print(f'{time()-st:.2f}')\n",
    "\n",
    "\n"
   ]
  },
  {
   "cell_type": "code",
   "execution_count": 16,
   "metadata": {},
   "outputs": [
    {
     "data": {
      "text/plain": [
       "0.0"
      ]
     },
     "execution_count": 16,
     "metadata": {},
     "output_type": "execute_result"
    }
   ],
   "source": [
    "chern_number_quick(gtn2.C_m,A_idx_0,B_idx_0,C_idx_0,device=gtn2.device,dtype=gtn2.dtype_float)"
   ]
  },
  {
   "cell_type": "code",
   "execution_count": 31,
   "metadata": {},
   "outputs": [
    {
     "name": "stdout",
     "output_type": "stream",
     "text": [
      "Timer unit: 1e-09 s\n",
      "\n",
      "Total time: 22.1754 s\n",
      "File: /home/hnpan/GTN/GTN2_torch.py\n",
      "Function: entanglement_contour at line 318\n",
      "\n",
      "Line #      Hits         Time  Per Hit   % Time  Line Contents\n",
      "==============================================================\n",
      "   318                                               def entanglement_contour(self,subregion,fermion=False, Gamma=None, fermion_idx=True,n=1):\n",
      "   319                                                   # c_A=self.c_subregion_m(subregion)\n",
      "   320         1     627703.0 627703.0      0.0          c_A=self.c_subregion_m(subregion,Gamma,fermion_idx=fermion_idx)\n",
      "   321         1     414231.0 414231.0      0.0          C_f=(torch.eye(c_A.shape[0],device=self.device)+1j*c_A)/2\n",
      "   322         1        872.0    872.0      0.0          if n==1:\n",
      "   323         1 22174311030.0 22174311030.0    100.0              f=self.xlogx(C_f,)\n",
      "   324                                                   # else:\n",
      "   325                                                   #     f=\n",
      "   326         1        591.0    591.0      0.0          if fermion:\n",
      "   327                                                       return torch.diag(f).real.reshape((-1,2)).sum(axis=1)\n",
      "   328                                                   else:\n",
      "   329         1      24267.0  24267.0      0.0              return torch.diag(f).real"
     ]
    }
   ],
   "source": [
    "%lprun -f gtn2.entanglement_contour EC=gtn2.entanglement_contour(subregion_m,fermion_idx=False,Gamma=gtn2.C_m).reshape((2,ilist.shape[0],jlist.shape[0],2,2)).sum(axis=(-1,-2))\n"
   ]
  },
  {
   "cell_type": "code",
   "execution_count": 41,
   "metadata": {},
   "outputs": [],
   "source": [
    "EC_list.append(gtn2.get_C_f(gtn2.C_m,))"
   ]
  },
  {
   "cell_type": "code",
   "execution_count": 46,
   "metadata": {},
   "outputs": [
    {
     "data": {
      "text/plain": [
       "6400"
      ]
     },
     "execution_count": 46,
     "metadata": {},
     "output_type": "execute_result"
    }
   ],
   "source": [
    "EC_list[-1].nelement()*EC_list[-1].element_size()"
   ]
  },
  {
   "cell_type": "code",
   "execution_count": 36,
   "metadata": {},
   "outputs": [
    {
     "name": "stdout",
     "output_type": "stream",
     "text": [
      "Timer unit: 1e-09 s\n",
      "\n",
      "Total time: 9.63202 s\n",
      "File: /home/hnpan/GTN/GTN2_torch.py\n",
      "Function: local_Chern_marker at line 304\n",
      "\n",
      "Line #      Hits         Time  Per Hit   % Time  Line Contents\n",
      "==============================================================\n",
      "   304                                               def local_Chern_marker(self,Gamma,shift=[0,0],n_maj=2,U1=True):\n",
      "   305         1     362611.0 362611.0      0.0          replica,layer,x,y,orbit,maj = np.unravel_index(np.arange(Gamma.shape[0]),(self.replica,self.layer,self.Lx,self.Ly,self.orbit,n_maj))\n",
      "   306         1 9629811156.0 9629811156.0    100.0          x = torch.tensor((x+shift[0])%self.Lx,device=self.device)\n",
      "   307         1     123819.0 123819.0      0.0          y = torch.tensor((y+shift[1])%self.Ly,device=self.device)\n",
      "   308         1     233441.0 233441.0      0.0          C_f = self.get_C_f(Gamma,normal=False)\n",
      "   309         1    1397462.0 1397462.0      0.0          xy_comm = torch.einsum(\"ij,j,jk,k,ki->i\",C_f,x,C_f,y,C_f) - torch.einsum(\"ij,j,jk,k,ki->i\",C_f,y,C_f,x,C_f)\n",
      "   310         1      23576.0  23576.0      0.0          C_r = (xy_comm * 2 * torch.pi* 1j)\n",
      "   311         1       9218.0   9218.0      0.0          C_r=C_r.reshape((self.replica,self.layer,self.Lx,self.Ly,self.orbit,n_maj))\n",
      "   312                                                   # assert np.abs(C_r.imag).max()<1e-10, f'imaginary part is {C_r.imag.max()}'\n",
      "   313         1        101.0    101.0      0.0          if U1:\n",
      "   314         1      55507.0  55507.0      0.0              return C_r.sum(axis=(-1,-2)).real/2\n",
      "   315                                                   else:\n",
      "   316                                                       return C_r.sum(axis=(-1,-2)).real"
     ]
    }
   ],
   "source": [
    "%lprun -f gtn2.local_Chern_marker gtn2.local_Chern_marker(gtn2.C_m,)"
   ]
  },
  {
   "cell_type": "code",
   "execution_count": 81,
   "metadata": {},
   "outputs": [
    {
     "data": {
      "image/png": "[encoded data removed]",
      "text/plain": [
       "<Figure size 680x400 with 2 Axes>"
      ]
     },
     "metadata": {},
     "output_type": "display_data"
    },
    {
     "data": {
      "image/png": "[encoded data removed]",
      "text/plain": [
       "<Figure size 680x400 with 2 Axes>"
      ]
     },
     "metadata": {},
     "output_type": "display_data"
    },
    {
     "data": {
      "image/png": "[encoded data removed]",
      "text/plain": [
       "<Figure size 680x400 with 2 Axes>"
      ]
     },
     "metadata": {},
     "output_type": "display_data"
    },
    {
     "data": {
      "image/png": "[encoded data removed]",
      "text/plain": [
       "<Figure size 680x400 with 2 Axes>"
      ]
     },
     "metadata": {},
     "output_type": "display_data"
    },
    {
     "data": {
      "image/png": "[encoded data removed]",
      "text/plain": [
       "<Figure size 680x400 with 2 Axes>"
      ]
     },
     "metadata": {},
     "output_type": "display_data"
    },
    {
     "data": {
      "image/png": "[encoded data removed]",
      "text/plain": [
       "<Figure size 680x400 with 2 Axes>"
      ]
     },
     "metadata": {},
     "output_type": "display_data"
    },
    {
     "data": {
      "image/png": "[encoded data removed]",
      "text/plain": [
       "<Figure size 680x400 with 2 Axes>"
      ]
     },
     "metadata": {},
     "output_type": "display_data"
    },
    {
     "data": {
      "image/png": "[encoded data removed]",
      "text/plain": [
       "<Figure size 680x400 with 2 Axes>"
      ]
     },
     "metadata": {},
     "output_type": "display_data"
    },
    {
     "data": {
      "image/png": "[encoded data removed]",
      "text/plain": [
       "<Figure size 680x400 with 2 Axes>"
      ]
     },
     "metadata": {},
     "output_type": "display_data"
    },
    {
     "data": {
      "image/png": "[encoded data removed]",
      "text/plain": [
       "<Figure size 680x400 with 2 Axes>"
      ]
     },
     "metadata": {},
     "output_type": "display_data"
    },
    {
     "data": {
      "image/png": "[encoded data removed]",
      "text/plain": [
       "<Figure size 680x400 with 2 Axes>"
      ]
     },
     "metadata": {},
     "output_type": "display_data"
    }
   ],
   "source": [
    "for idx in range(len(C_r_list)):\n",
    "    fig,ax=plt.subplots(2,1)\n",
    "    plot_C_r(C_r_list[idx][0].cpu(),ax,bottomcb=False)"
   ]
  },
  {
   "cell_type": "code",
   "execution_count": 82,
   "metadata": {},
   "outputs": [
    {
     "data": {
      "image/png": "[encoded data removed]",
      "text/plain": [
       "<Figure size 500x250 with 2 Axes>"
      ]
     },
     "metadata": {},
     "output_type": "display_data"
    },
    {
     "data": {
      "image/png": "[encoded data removed]",
      "text/plain": [
       "<Figure size 500x250 with 2 Axes>"
      ]
     },
     "metadata": {},
     "output_type": "display_data"
    },
    {
     "data": {
      "image/png": "[encoded data removed]",
      "text/plain": [
       "<Figure size 500x250 with 2 Axes>"
      ]
     },
     "metadata": {},
     "output_type": "display_data"
    },
    {
     "data": {
      "image/png": "[encoded data removed]",
      "text/plain": [
       "<Figure size 500x250 with 2 Axes>"
      ]
     },
     "metadata": {},
     "output_type": "display_data"
    },
    {
     "data": {
      "image/png": "[encoded data removed]",
      "text/plain": [
       "<Figure size 500x250 with 2 Axes>"
      ]
     },
     "metadata": {},
     "output_type": "display_data"
    },
    {
     "data": {
      "image/png": "[encoded data removed]",
      "text/plain": [
       "<Figure size 500x250 with 2 Axes>"
      ]
     },
     "metadata": {},
     "output_type": "display_data"
    },
    {
     "data": {
      "image/png": "[encoded data removed]",
      "text/plain": [
       "<Figure size 500x250 with 2 Axes>"
      ]
     },
     "metadata": {},
     "output_type": "display_data"
    },
    {
     "data": {
      "image/png": "[encoded data removed]",
      "text/plain": [
       "<Figure size 500x250 with 2 Axes>"
      ]
     },
     "metadata": {},
     "output_type": "display_data"
    },
    {
     "data": {
      "image/png": "[encoded data removed]",
      "text/plain": [
       "<Figure size 500x250 with 2 Axes>"
      ]
     },
     "metadata": {},
     "output_type": "display_data"
    },
    {
     "data": {
      "image/png": "[encoded data removed]",
      "text/plain": [
       "<Figure size 500x250 with 2 Axes>"
      ]
     },
     "metadata": {},
     "output_type": "display_data"
    },
    {
     "data": {
      "image/png": "[encoded data removed]",
      "text/plain": [
       "<Figure size 500x250 with 2 Axes>"
      ]
     },
     "metadata": {},
     "output_type": "display_data"
    }
   ],
   "source": [
    "for idx in range(len(EC_list)):\n",
    "    fig,ax=plt.subplots(1,2,figsize=(5,2.5))\n",
    "    plot_EC(EC_list[idx].cpu(),ax=ax,vmax=None)"
   ]
  },
  {
   "cell_type": "code",
   "execution_count": null,
   "metadata": {},
   "outputs": [],
   "source": [
    "fig,ax=plt.subplots(figsize=(4,4),)\n",
    "im=ax.imshow((EC_list[-1][0])/np.log(2),cmap='Blues',vmin=0,)\n",
    "axins=ax.inset_axes([0.,1.15,1,0.1])\n",
    "plt.colorbar(im,cax=axins,label='EC',orientation='horizontal')\n",
    "ax.set_xlabel('$j$')\n",
    "ax.set_ylabel('$i$')"
   ]
  },
  {
   "cell_type": "code",
   "execution_count": null,
   "metadata": {},
   "outputs": [],
   "source": []
  },
  {
   "cell_type": "code",
   "execution_count": null,
   "metadata": {},
   "outputs": [],
   "source": [
    "for i in tqdm(range(5)):\n",
    "    randomize(gtn2_torch,measure=True)\n",
    "    measure_feedback_layer(gtn2_torch)\n",
    "    nu_list.append( chern_number_quick(gtn2_torch.C_m,A_idx_0,B_idx_0,C_idx_0,device=gtn2_torch.device,dtype=gtn2_torch.dtype_float))\n"
   ]
  },
  {
   "cell_type": "code",
   "execution_count": null,
   "metadata": {},
   "outputs": [],
   "source": []
  },
  {
   "cell_type": "code",
   "execution_count": null,
   "metadata": {},
   "outputs": [],
   "source": []
  },
  {
   "cell_type": "code",
   "execution_count": null,
   "metadata": {},
   "outputs": [],
   "source": []
  },
  {
   "cell_type": "code",
   "execution_count": null,
   "metadata": {},
   "outputs": [],
   "source": []
  },
  {
   "cell_type": "code",
   "execution_count": null,
   "metadata": {},
   "outputs": [],
   "source": []
  },
  {
   "cell_type": "code",
   "execution_count": null,
   "metadata": {},
   "outputs": [],
   "source": []
  },
  {
   "cell_type": "code",
   "execution_count": null,
   "metadata": {},
   "outputs": [],
   "source": []
  },
  {
   "cell_type": "code",
   "execution_count": null,
   "metadata": {},
   "outputs": [],
   "source": []
  },
  {
   "cell_type": "code",
   "execution_count": 23,
   "metadata": {},
   "outputs": [],
   "source": [
    "def run(seed):\n",
    "    gtn2_torch=GTN2_torch(Lx=15,Ly=15,history=False,random_init=True,random_U1=True,bcx=1,bcy=1,seed=seed,orbit=2,nshell=2,layer=2,complex128=True)\n",
    "\n",
    "    mu_list=[1]\n",
    "    gtn2_torch.a_i={}\n",
    "    gtn2_torch.b_i={}\n",
    "    gtn2_torch.A_i={}\n",
    "    gtn2_torch.B_i={}\n",
    "    for mu in mu_list:\n",
    "        gtn2_torch.a_i[mu],gtn2_torch.b_i[mu] = amplitude(gtn2_torch.nshell,tau=[0,1],geometry='square',lower=True,mu=mu,C=1)\n",
    "        gtn2_torch.A_i[mu],gtn2_torch.B_i[mu] = amplitude(gtn2_torch.nshell,tau=[1,0],geometry='square',lower=False,mu=mu,C=1)\n",
    "\n",
    "    nu_list =[]\n",
    "    A_idx_0,B_idx_0,C_idx_0 = gtn2_torch.generate_tripartite_circle()\n",
    "    nu_list.append(chern_number_quick(gtn2_torch.C_m,A_idx_0,B_idx_0,C_idx_0,device=gtn2_torch.device,dtype=gtn2_torch.dtype_float))\n",
    "    for i in tqdm(range(15)):\n",
    "        randomize(gtn2_torch,measure=True)\n",
    "        measure_feedback_layer(gtn2_torch)\n",
    "        nu_list.append( chern_number_quick(gtn2_torch.C_m,A_idx_0,B_idx_0,C_idx_0,device=gtn2_torch.device,dtype=gtn2_torch.dtype_float))\n",
    "    return nu_list\n",
    "\n"
   ]
  },
  {
   "cell_type": "code",
   "execution_count": 30,
   "metadata": {},
   "outputs": [
    {
     "name": "stdout",
     "output_type": "stream",
     "text": [
      "Using cuda\n"
     ]
    },
    {
     "name": "stderr",
     "output_type": "stream",
     "text": [
      "100%|██████████| 15/15 [01:14<00:00,  4.95s/it]\n"
     ]
    },
    {
     "name": "stdout",
     "output_type": "stream",
     "text": [
      "Using cuda\n"
     ]
    },
    {
     "name": "stderr",
     "output_type": "stream",
     "text": [
      "100%|██████████| 15/15 [01:14<00:00,  4.98s/it]\n"
     ]
    },
    {
     "name": "stdout",
     "output_type": "stream",
     "text": [
      "Using cuda\n"
     ]
    },
    {
     "name": "stderr",
     "output_type": "stream",
     "text": [
      "100%|██████████| 15/15 [01:14<00:00,  4.95s/it]\n"
     ]
    },
    {
     "name": "stdout",
     "output_type": "stream",
     "text": [
      "Using cuda\n"
     ]
    },
    {
     "name": "stderr",
     "output_type": "stream",
     "text": [
      "100%|██████████| 15/15 [01:13<00:00,  4.92s/it]\n"
     ]
    },
    {
     "name": "stdout",
     "output_type": "stream",
     "text": [
      "Using cuda\n"
     ]
    },
    {
     "name": "stderr",
     "output_type": "stream",
     "text": [
      "100%|██████████| 15/15 [01:08<00:00,  4.60s/it]\n"
     ]
    },
    {
     "name": "stdout",
     "output_type": "stream",
     "text": [
      "Using cuda\n"
     ]
    },
    {
     "name": "stderr",
     "output_type": "stream",
     "text": [
      "100%|██████████| 15/15 [01:09<00:00,  4.62s/it]\n"
     ]
    },
    {
     "name": "stdout",
     "output_type": "stream",
     "text": [
      "Using cuda\n"
     ]
    },
    {
     "name": "stderr",
     "output_type": "stream",
     "text": [
      "100%|██████████| 15/15 [01:09<00:00,  4.63s/it]\n"
     ]
    },
    {
     "name": "stdout",
     "output_type": "stream",
     "text": [
      "Using cuda\n"
     ]
    },
    {
     "name": "stderr",
     "output_type": "stream",
     "text": [
      "100%|██████████| 15/15 [01:08<00:00,  4.59s/it]\n"
     ]
    },
    {
     "name": "stdout",
     "output_type": "stream",
     "text": [
      "Using cuda\n"
     ]
    },
    {
     "name": "stderr",
     "output_type": "stream",
     "text": [
      "100%|██████████| 15/15 [01:05<00:00,  4.35s/it]\n"
     ]
    },
    {
     "name": "stdout",
     "output_type": "stream",
     "text": [
      "Using cuda\n"
     ]
    },
    {
     "name": "stderr",
     "output_type": "stream",
     "text": [
      "100%|██████████| 15/15 [01:06<00:00,  4.41s/it]\n"
     ]
    }
   ],
   "source": [
    "nu_map=[run(seed) for seed in range(10)]"
   ]
  },
  {
   "cell_type": "code",
   "execution_count": 31,
   "metadata": {},
   "outputs": [
    {
     "data": {
      "text/plain": [
       "array([ 0.        , -0.04340977, -0.34118164, -0.58557048, -0.72809567,\n",
       "       -0.80178432, -0.9012831 , -0.89978565, -0.90688876, -0.93314187,\n",
       "       -0.95130403, -0.96899952, -0.96879417, -0.96250813, -0.96780333,\n",
       "       -0.96802397])"
      ]
     },
     "execution_count": 31,
     "metadata": {},
     "output_type": "execute_result"
    }
   ],
   "source": [
    "np.array(nu_map).mean(axis=0)"
   ]
  },
  {
   "cell_type": "code",
   "execution_count": 32,
   "metadata": {},
   "outputs": [
    {
     "data": {
      "text/plain": [
       "array([[ 0.        , -0.0470636 , -0.24713074, -0.65300245, -0.80022849,\n",
       "        -0.86543006, -0.99478705, -0.9880003 , -0.95746157, -0.97036542,\n",
       "        -0.97274476, -0.97279943, -0.97237429, -0.97170929, -1.01191812,\n",
       "        -1.00798895],\n",
       "       [ 0.        , -0.07574187, -0.36742756, -0.52419283, -0.67299597,\n",
       "        -0.73694809, -0.90405806, -0.86354636, -0.87415533, -0.88603411,\n",
       "        -0.92309873, -0.94471137, -0.95917501, -0.9776012 , -0.99098254,\n",
       "        -0.99973385],\n",
       "       [ 0.        , -0.03845409, -0.35252488, -0.77188625, -0.8059878 ,\n",
       "        -0.75162773, -0.69411202, -0.60134566, -0.62528195, -0.90762924,\n",
       "        -0.9140761 , -0.92024815, -0.92584076, -0.93066441, -0.93472988,\n",
       "        -0.93810808],\n",
       "       [ 0.        ,  0.00674072, -0.23442403, -0.30174371, -0.43350432,\n",
       "        -0.47409661, -1.04409315, -1.06590599, -0.93790064, -0.93760884,\n",
       "        -0.99827835, -0.98794229, -0.97993197, -0.9734858 , -0.9681501 ,\n",
       "        -0.96368206],\n",
       "       [ 0.        , -0.07197462, -0.33739608, -0.79594871, -0.82680896,\n",
       "        -0.87569984, -0.86949237, -0.88297507, -0.89575166, -0.91078715,\n",
       "        -0.92355014, -0.93480283, -0.94389918, -0.95104931, -0.9565742 ,\n",
       "        -0.96080152],\n",
       "       [ 0.        , -0.01102266, -0.31470265, -0.60518396, -0.72472598,\n",
       "        -0.83761843, -0.85788074, -0.86859008, -0.9595191 , -0.9205309 ,\n",
       "        -0.92923712, -0.96418443, -0.96211251, -0.9604745 , -0.95919428,\n",
       "        -0.95820849],\n",
       "       [ 0.        , -0.01510658, -0.27575232, -0.39361937, -0.69344353,\n",
       "        -0.90458318, -0.86792788, -0.95730827, -0.97335771, -0.98152716,\n",
       "        -1.00672051, -1.01143904, -1.01225723, -1.01021974, -1.00640381,\n",
       "        -1.00167325],\n",
       "       [ 0.        , -0.04381357, -0.48136444, -0.50839105, -0.74381505,\n",
       "        -0.92631702, -0.93925574, -0.96637658, -0.96610277, -0.95900551,\n",
       "        -0.95238081, -0.97809035, -0.9755077 , -0.97272882, -0.96999572,\n",
       "        -0.96746291],\n",
       "       [ 0.        , -0.08579268, -0.47880683, -0.81308873, -0.89195207,\n",
       "        -0.96749483, -0.9848796 , -0.90000152, -0.97084467, -0.93760565,\n",
       "        -0.97274589, -0.9976467 , -0.95949163, -0.96084478, -0.96152574,\n",
       "        -0.96176152],\n",
       "       [ 0.        , -0.05186878, -0.32228689, -0.48864774, -0.68749453,\n",
       "        -0.67802743, -0.85634435, -0.90380664, -0.90851222, -0.92032472,\n",
       "        -0.92020786, -0.97813057, -0.9973514 , -0.91630347, -0.91855892,\n",
       "        -0.92081907]])"
      ]
     },
     "execution_count": 32,
     "metadata": {},
     "output_type": "execute_result"
    }
   ],
   "source": [
    "np.array(nu_map)"
   ]
  },
  {
   "cell_type": "code",
   "execution_count": 33,
   "metadata": {},
   "outputs": [
    {
     "data": {
      "image/png": "[encoded data removed]",
      "text/plain": [
       "<Figure size 680x400 with 1 Axes>"
      ]
     },
     "metadata": {},
     "output_type": "display_data"
    }
   ],
   "source": [
    "plot_chern(np.array(nu_map).mean(axis=0))"
   ]
  },
  {
   "cell_type": "code",
   "execution_count": 34,
   "metadata": {},
   "outputs": [
    {
     "data": {
      "image/png": "[encoded data removed]",
      "text/plain": [
       "<Figure size 340x200 with 1 Axes>"
      ]
     },
     "metadata": {},
     "output_type": "display_data"
    }
   ],
   "source": [
    "fig,ax=plt.subplots(figsize=(3.4,2))\n",
    "plot_chern(nu_list,log=True,C=1,ax=ax)\n",
    "# fig.savefig('C0C1_log.pdf',bbox_inches='tight')"
   ]
  },
  {
   "cell_type": "code",
   "execution_count": 24,
   "metadata": {},
   "outputs": [],
   "source": [
    "z1=purify(z1)"
   ]
  },
  {
   "cell_type": "code",
   "execution_count": 25,
   "metadata": {},
   "outputs": [
    {
     "data": {
      "text/plain": [
       "tensor([1.0015, 1.0015, 1.0015,  ..., 1.0000, 1.0000, 1.0000], device='cuda:0')"
      ]
     },
     "execution_count": 25,
     "metadata": {},
     "output_type": "execute_result"
    }
   ],
   "source": [
    "torch.linalg.svdvals(z1)"
   ]
  },
  {
   "cell_type": "code",
   "execution_count": null,
   "metadata": {},
   "outputs": [],
   "source": []
  },
  {
   "cell_type": "markdown",
   "metadata": {},
   "source": [
    "# Load"
   ]
  },
  {
   "cell_type": "code",
   "execution_count": null,
   "metadata": {},
   "outputs": [],
   "source": []
  },
  {
   "cell_type": "code",
   "execution_count": 2,
   "metadata": {},
   "outputs": [],
   "source": [
    "# rs = torch.load('class_A_2D_L10_nshell2_tf10.pt', map_location='cpu')\n",
    "# rs = torch.load('class_A_2D_L20_nshell2_tf30.pt', map_location='cpu')\n",
    "# rs = torch.load('class_A_2D_L20_nshell2_tf50_truncate.pt', map_location='cpu')\n",
    "\n",
    "# rs = torch.load('class_A_2D_L30_nshell2_tf40_truncate.pt', map_location='cpu')\n",
    "# rs = torch.load('class_A_2D_L30_nshell2_tf30.pt', map_location='cpu')\n",
    "\n",
    "rs = torch.load('class_A_2D_L35_nshell2_tf50_truncate.pt', map_location='cpu')"
   ]
  },
  {
   "cell_type": "code",
   "execution_count": null,
   "metadata": {},
   "outputs": [],
   "source": [
    "for idx in range(len(rs['C_r'])):\n",
    "    fig,ax=plt.subplots(2,1)\n",
    "    plot_C_r(rs['C_r'][idx][0],ax,bottomcb=False)"
   ]
  },
  {
   "cell_type": "code",
   "execution_count": null,
   "metadata": {},
   "outputs": [],
   "source": [
    "for idx in range(len(rs['EC'])):\n",
    "    fig,ax=plt.subplots(1,2,figsize=(5,2.5))\n",
    "    plot_EC(rs['EC'][idx],ax=ax,vmax=None)"
   ]
  },
  {
   "cell_type": "code",
   "execution_count": 6,
   "metadata": {},
   "outputs": [
    {
     "data": {
      "image/png": "[encoded data removed]",
      "text/plain": [
       "<Figure size 600x600 with 4 Axes>"
      ]
     },
     "metadata": {},
     "output_type": "display_data"
    }
   ],
   "source": [
    "fig,ax=plt.subplots(2,2,figsize=(6,6),)\n",
    "i=0\n",
    "\n",
    "epoch=ax[1,0].text(1,-0.18,f'Epoch: {i}',transform=ax[1,0].transAxes,ha='center',fontsize=12)\n",
    "ax_C=ax[:,1]\n",
    "im0,im1,cross0,cross1=plot_C_r(rs['C_r'][i][0],ax=ax_C,bottomcb=False,)\n",
    "\n",
    "ax_EC=ax[:,0]\n",
    "EC_im0,EC_im1,EC_cross0,EC_cross1,EC_cb0,EC_cb1=plot_EC(rs['EC'][i],ax=ax_EC,bottomcb=False,vmax=1)\n",
    "\n",
    "\n",
    "\n",
    "\n",
    "# fig.savefig('C_m_history.png')"
   ]
  },
  {
   "cell_type": "code",
   "execution_count": 7,
   "metadata": {},
   "outputs": [],
   "source": [
    "def update(frame):\n",
    "    print(frame)\n",
    "    im0.set_data(np.tanh(rs['C_r'][frame][0,0]))\n",
    "    im1.set_data(np.tanh(rs['C_r'][frame][0,1]))\n",
    "    EC_im0.set_data(rs['EC'][frame][0]/np.log(2))\n",
    "    EC_im1.set_data(rs['EC'][frame][1]/np.log(2))\n",
    "    epoch.set_text(f'Epoch: {frame}')\n",
    "    if frame>8:\n",
    "        EC_im0.set_clim(vmin=0,vmax=0.03)\n",
    "        EC_im1.set_clim(vmin=0,vmax=0.03)\n",
    "        EC_cb0.update_normal(EC_im0)\n",
    "        EC_cb0.set_ticks([0,0.03])\n",
    "        EC_cb0.ax.xaxis.set_ticks_position('top')\n",
    "        \n",
    "        \n"
   ]
  },
  {
   "cell_type": "code",
   "execution_count": 8,
   "metadata": {},
   "outputs": [],
   "source": [
    "import matplotlib.animation as animation"
   ]
  },
  {
   "cell_type": "code",
   "execution_count": 9,
   "metadata": {},
   "outputs": [],
   "source": [
    "ani = animation.FuncAnimation(\n",
    "    fig, \n",
    "    update, \n",
    "    frames=range(len(rs['C_r'])),  # Generate frames from 0 to 40\n",
    "    # frames=range(i,i+10),  # Generate frames from 0 to 40\n",
    "    blit=False    # Blit optimizes the rendering\n",
    ")"
   ]
  },
  {
   "cell_type": "code",
   "execution_count": 10,
   "metadata": {},
   "outputs": [
    {
     "name": "stdout",
     "output_type": "stream",
     "text": [
      "0\n",
      "0\n",
      "1\n",
      "2\n",
      "3\n",
      "4\n",
      "5\n",
      "6\n",
      "7\n",
      "8\n",
      "9\n",
      "10\n",
      "11\n",
      "12\n",
      "13\n",
      "14\n",
      "15\n",
      "16\n",
      "17\n",
      "18\n",
      "19\n",
      "20\n",
      "21\n",
      "22\n",
      "23\n",
      "24\n",
      "25\n",
      "26\n",
      "27\n",
      "28\n",
      "29\n",
      "30\n",
      "31\n",
      "32\n",
      "33\n",
      "34\n",
      "35\n",
      "36\n",
      "37\n",
      "38\n",
      "39\n",
      "40\n",
      "41\n",
      "42\n",
      "43\n",
      "44\n",
      "45\n",
      "46\n",
      "47\n",
      "48\n",
      "49\n",
      "50\n"
     ]
    }
   ],
   "source": [
    "ani.save('L35_truncate_50.mp4', writer='ffmpeg', fps=3,dpi=200)\n",
    "# ani.save('L30_overlap.mp4', writer='ffmpeg', fps=3,dpi=200)"
   ]
  },
  {
   "cell_type": "code",
   "execution_count": null,
   "metadata": {},
   "outputs": [],
   "source": []
  },
  {
   "cell_type": "code",
   "execution_count": null,
   "metadata": {},
   "outputs": [],
   "source": []
  },
  {
   "cell_type": "code",
   "execution_count": 150,
   "metadata": {},
   "outputs": [],
   "source": [
    "z0=gtn2_torch.C_m.cpu().clone()"
   ]
  },
  {
   "cell_type": "code",
   "execution_count": 153,
   "metadata": {},
   "outputs": [
    {
     "name": "stderr",
     "output_type": "stream",
     "text": [
      "100%|██████████| 400/400 [00:04<00:00, 98.43it/s] \n"
     ]
    }
   ],
   "source": [
    "measure_feedback_layer(gtn2_torch)"
   ]
  },
  {
   "cell_type": "code",
   "execution_count": 159,
   "metadata": {},
   "outputs": [
    {
     "name": "stderr",
     "output_type": "stream",
     "text": [
      "100%|██████████| 400/400 [00:04<00:00, 94.24it/s] \n",
      "100%|██████████| 400/400 [00:03<00:00, 118.77it/s]\n",
      "100%|██████████| 400/400 [00:02<00:00, 138.35it/s]\n",
      "100%|██████████| 400/400 [00:02<00:00, 145.24it/s]\n",
      "100%|██████████| 400/400 [00:02<00:00, 152.79it/s]\n",
      "100%|██████████| 400/400 [00:02<00:00, 157.97it/s]\n",
      "100%|██████████| 400/400 [00:02<00:00, 161.23it/s]\n",
      "100%|██████████| 400/400 [00:02<00:00, 163.19it/s]"
     ]
    },
    {
     "name": "stdout",
     "output_type": "stream",
     "text": [
      "2.73 s ± 299 ms per loop (mean ± std. dev. of 7 runs, 1 loop each)\n"
     ]
    },
    {
     "name": "stderr",
     "output_type": "stream",
     "text": [
      "\n"
     ]
    }
   ],
   "source": [
    "%timeit measure_feedback_layer(gtn2_torch)"
   ]
  },
  {
   "cell_type": "code",
   "execution_count": null,
   "metadata": {},
   "outputs": [
    {
     "name": "stderr",
     "output_type": "stream",
     "text": [
      "100%|██████████| 400/400 [00:03<00:00, 125.00it/s]\n",
      "100%|██████████| 400/400 [00:02<00:00, 150.27it/s]\n",
      "100%|██████████| 400/400 [00:02<00:00, 158.24it/s]\n",
      "100%|██████████| 400/400 [00:02<00:00, 166.22it/s]\n",
      "100%|██████████| 400/400 [00:02<00:00, 172.57it/s]\n",
      "100%|██████████| 400/400 [00:02<00:00, 176.49it/s]\n",
      "100%|██████████| 400/400 [00:02<00:00, 178.82it/s]\n",
      "100%|██████████| 400/400 [00:02<00:00, 180.89it/s]"
     ]
    },
    {
     "name": "stdout",
     "output_type": "stream",
     "text": [
      "2.38 s ± 155 ms per loop (mean ± std. dev. of 7 runs, 1 loop each)\n"
     ]
    },
    {
     "name": "stderr",
     "output_type": "stream",
     "text": [
      "\n"
     ]
    }
   ],
   "source": [
    "%timeit measure_feedback_layer(gtn2_torch)"
   ]
  },
  {
   "cell_type": "code",
   "execution_count": 154,
   "metadata": {},
   "outputs": [],
   "source": [
    "z1=gtn2_torch.C_m.cpu().clone()"
   ]
  },
  {
   "cell_type": "code",
   "execution_count": 155,
   "metadata": {},
   "outputs": [
    {
     "data": {
      "text/plain": [
       "True"
      ]
     },
     "execution_count": 155,
     "metadata": {},
     "output_type": "execute_result"
    }
   ],
   "source": [
    "torch.allclose(z0,z1)"
   ]
  },
  {
   "cell_type": "code",
   "execution_count": 68,
   "metadata": {},
   "outputs": [
    {
     "data": {
      "text/plain": [
       "True"
      ]
     },
     "execution_count": 68,
     "metadata": {},
     "output_type": "execute_result"
    }
   ],
   "source": [
    "torch.allclose(z0,gtn2_torch.C_m.cpu())"
   ]
  },
  {
   "cell_type": "code",
   "execution_count": 16,
   "metadata": {},
   "outputs": [
    {
     "data": {
      "text/plain": [
       "tensor(2.3452e-06, device='cuda:0', dtype=torch.float64)"
      ]
     },
     "execution_count": 16,
     "metadata": {},
     "output_type": "execute_result"
    }
   ],
   "source": [
    "torch.abs(torch.einsum(gtn2_torch.C_m,[0,1],gtn2_torch.C_m,[1,0],[0])+1).max()"
   ]
  },
  {
   "cell_type": "code",
   "execution_count": 18,
   "metadata": {},
   "outputs": [],
   "source": [
    "def purify(A):\n",
    "    # purify A, see App. B2 in PhysRevB.106.134206\n",
    "    U, _, Vh=torch.linalg.svd(A)\n",
    "    return U@Vh"
   ]
  },
  {
   "cell_type": "code",
   "execution_count": 19,
   "metadata": {},
   "outputs": [],
   "source": [
    "z=purify(gtn2_torch.C_m)"
   ]
  },
  {
   "cell_type": "code",
   "execution_count": 23,
   "metadata": {},
   "outputs": [
    {
     "data": {
      "text/plain": [
       "tensor(2.6246e-13, device='cuda:0', dtype=torch.float64)"
      ]
     },
     "execution_count": 23,
     "metadata": {},
     "output_type": "execute_result"
    }
   ],
   "source": [
    "torch.abs(torch.einsum(z,[0,1],z,[1,0],[0])+1).max()"
   ]
  },
  {
   "cell_type": "code",
   "execution_count": 24,
   "metadata": {},
   "outputs": [
    {
     "data": {
      "text/plain": [
       "tensor([[-1.0000e+00, -6.9959e-16, -2.4727e-09,  ...,  0.0000e+00,\n",
       "          0.0000e+00,  0.0000e+00],\n",
       "        [ 6.4417e-16, -1.0000e+00,  3.8323e-09,  ...,  0.0000e+00,\n",
       "          0.0000e+00,  0.0000e+00],\n",
       "        [-2.4727e-09,  3.8323e-09, -1.0000e+00,  ...,  0.0000e+00,\n",
       "          0.0000e+00,  0.0000e+00],\n",
       "        ...,\n",
       "        [ 0.0000e+00,  0.0000e+00,  0.0000e+00,  ..., -1.0000e+00,\n",
       "          0.0000e+00,  0.0000e+00],\n",
       "        [ 0.0000e+00,  0.0000e+00,  0.0000e+00,  ...,  0.0000e+00,\n",
       "         -1.0000e+00,  0.0000e+00],\n",
       "        [ 0.0000e+00,  0.0000e+00,  0.0000e+00,  ...,  0.0000e+00,\n",
       "          0.0000e+00, -1.0000e+00]], device='cuda:0', dtype=torch.float64)"
      ]
     },
     "execution_count": 24,
     "metadata": {},
     "output_type": "execute_result"
    }
   ],
   "source": [
    "gtn2_torch.C_m@gtn2_torch.C_m"
   ]
  },
  {
   "cell_type": "code",
   "execution_count": 34,
   "metadata": {},
   "outputs": [
    {
     "data": {
      "text/plain": [
       "tensor(2.6201e-13, device='cuda:0', dtype=torch.float64)"
      ]
     },
     "execution_count": 34,
     "metadata": {},
     "output_type": "execute_result"
    }
   ],
   "source": [
    "torch.abs((z@z)+torch.eye(z.shape[0],device='cuda',dtype=torch.float64)).max()"
   ]
  },
  {
   "cell_type": "code",
   "execution_count": 35,
   "metadata": {},
   "outputs": [
    {
     "data": {
      "text/plain": [
       "True"
      ]
     },
     "execution_count": 35,
     "metadata": {},
     "output_type": "execute_result"
    }
   ],
   "source": [
    "torch.allclose((z@z),-torch.eye(z.shape[0],device='cuda',dtype=torch.float64))"
   ]
  },
  {
   "cell_type": "code",
   "execution_count": 97,
   "metadata": {},
   "outputs": [
    {
     "name": "stderr",
     "output_type": "stream",
     "text": [
      "100%|██████████| 400/400 [00:04<00:00, 87.59it/s]\n",
      "100%|██████████| 400/400 [00:03<00:00, 108.47it/s]\n",
      "100%|██████████| 400/400 [00:03<00:00, 124.89it/s]\n",
      "100%|██████████| 400/400 [00:03<00:00, 130.51it/s]\n",
      "100%|██████████| 400/400 [00:02<00:00, 135.56it/s]\n",
      "100%|██████████| 400/400 [00:02<00:00, 139.63it/s]\n",
      "100%|██████████| 400/400 [00:02<00:00, 142.28it/s]\n",
      "100%|██████████| 400/400 [00:02<00:00, 143.36it/s]"
     ]
    },
    {
     "name": "stdout",
     "output_type": "stream",
     "text": [
      "3.05 s ± 293 ms per loop (mean ± std. dev. of 7 runs, 1 loop each)\n"
     ]
    },
    {
     "name": "stderr",
     "output_type": "stream",
     "text": [
      "\n"
     ]
    }
   ],
   "source": [
    "%timeit measure_feedback_layer(gtn2_torch,)"
   ]
  },
  {
   "cell_type": "code",
   "execution_count": 143,
   "metadata": {},
   "outputs": [
    {
     "name": "stderr",
     "output_type": "stream",
     "text": [
      "100%|██████████| 400/400 [00:01<00:00, 230.15it/s]\n",
      "100%|██████████| 400/400 [00:01<00:00, 263.96it/s]\n",
      "100%|██████████| 400/400 [00:01<00:00, 277.56it/s]\n",
      "100%|██████████| 400/400 [00:01<00:00, 288.05it/s]\n",
      "100%|██████████| 400/400 [00:01<00:00, 293.48it/s]\n",
      "100%|██████████| 400/400 [00:01<00:00, 297.19it/s]\n",
      "100%|██████████| 400/400 [00:01<00:00, 301.47it/s]\n",
      "100%|██████████| 400/400 [00:01<00:00, 301.92it/s]"
     ]
    },
    {
     "name": "stdout",
     "output_type": "stream",
     "text": [
      "1.39 s ± 64.5 ms per loop (mean ± std. dev. of 7 runs, 1 loop each)\n"
     ]
    },
    {
     "name": "stderr",
     "output_type": "stream",
     "text": [
      "\n"
     ]
    }
   ],
   "source": [
    "%timeit measure_feedback_layer(gtn2_torch,)"
   ]
  },
  {
   "cell_type": "code",
   "execution_count": 171,
   "metadata": {},
   "outputs": [],
   "source": [
    "z=torch.tensor([1,2,4])"
   ]
  },
  {
   "cell_type": "code",
   "execution_count": 98,
   "metadata": {},
   "outputs": [
    {
     "name": "stderr",
     "output_type": "stream",
     "text": [
      "100%|██████████| 400/400 [00:02<00:00, 142.55it/s]\n"
     ]
    },
    {
     "name": "stdout",
     "output_type": "stream",
     "text": [
      "Timer unit: 1e-09 s\n",
      "\n",
      "Total time: 2.23365 s\n",
      "File: /home/hnpan/GTN/GTN2_torch.py\n",
      "Function: measure_single_mode_Born at line 130\n",
      "\n",
      "Line #      Hits         Time  Per Hit   % Time  Line Contents\n",
      "==============================================================\n",
      "   130                                               def measure_single_mode_Born(self,legs,mode):\n",
      "   131                                                   \"\"\"measure the single mode with mode = (wf, n), wavefunction and occupation number \n",
      "   132                                                   \"\"\"\n",
      "   133       800  806149221.0 1007686.5     36.1          legs=torch.tensor(legs,device=self.device)\n",
      "   134       800   39828639.0  49785.8      1.8          Gamma = self.C_m[legs[:,None],legs[None,:]]\n",
      "   135       800  219266636.0 274083.3      9.8          n = self.get_Born_single_mode(Gamma=Gamma,mode=mode,rng=self.rng)\n",
      "   136       800 1168126765.0 1460158.5     52.3          self.measure_single_mode_force(kind=(mode,n),ix=legs)\n",
      "   137       800     276761.0    346.0      0.0          return (mode,n)"
     ]
    }
   ],
   "source": [
    "%lprun -f gtn2_torch.measure_single_mode_Born measure_feedback_layer(gtn2_torch,)"
   ]
  },
  {
   "cell_type": "code",
   "execution_count": 20,
   "metadata": {},
   "outputs": [
    {
     "name": "stderr",
     "output_type": "stream",
     "text": [
      "100%|██████████| 100/100 [00:26<00:00,  3.83it/s]\n"
     ]
    },
    {
     "name": "stdout",
     "output_type": "stream",
     "text": [
      "Timer unit: 1e-09 s\n",
      "\n",
      "Total time: 25.594 s\n",
      "File: /home/hnpan/GTN/utils_torch.py\n",
      "Function: purify at line 48\n",
      "\n",
      "Line #      Hits         Time  Per Hit   % Time  Line Contents\n",
      "==============================================================\n",
      "    48                                           def purify(A):\n",
      "    49       230 25588765805.0 111255503.5    100.0      U, _, Vh=torch.linalg.svd(A)\n",
      "    50       230    5228016.0  22730.5      0.0      return U@Vh"
     ]
    }
   ],
   "source": [
    "%lprun -f purify measure_feedback_layer(gtn2_torch,)"
   ]
  },
  {
   "cell_type": "code",
   "execution_count": 21,
   "metadata": {},
   "outputs": [
    {
     "data": {
      "text/plain": [
       "111.2555035"
      ]
     },
     "execution_count": 21,
     "metadata": {},
     "output_type": "execute_result"
    }
   ],
   "source": [
    "111255503.5/1e6"
   ]
  },
  {
   "cell_type": "code",
   "execution_count": null,
   "metadata": {},
   "outputs": [],
   "source": [
    "%lprun -f purify measure_feedback_layer(gtn2_torch,)"
   ]
  },
  {
   "cell_type": "code",
   "execution_count": 18,
   "metadata": {},
   "outputs": [
    {
     "name": "stdout",
     "output_type": "stream",
     "text": [
      "74.5 ms ± 8.44 µs per loop (mean ± std. dev. of 7 runs, 10 loops each)\n"
     ]
    }
   ],
   "source": [
    "%timeit torch.linalg.svd(gtn2_torch.C_m,driver='gesvd')"
   ]
  },
  {
   "cell_type": "code",
   "execution_count": null,
   "metadata": {},
   "outputs": [],
   "source": [
    "%timeit torch.linalg.eigh(gtn2_torch.C_m/1j)"
   ]
  },
  {
   "cell_type": "code",
   "execution_count": 23,
   "metadata": {},
   "outputs": [
    {
     "data": {
      "text/plain": [
       "torch.return_types.linalg_svd(\n",
       "U=tensor([[-2.5537e-04,  4.4020e-02, -5.4253e-03,  ...,  1.8833e-05,\n",
       "         -5.1753e-02,  2.7000e-04],\n",
       "        [ 7.7587e-03, -5.6294e-02, -7.2406e-02,  ...,  8.5907e-03,\n",
       "         -4.6422e-02, -9.9476e-03],\n",
       "        [-1.7822e-02,  1.4610e-03,  2.3213e-02,  ...,  4.8628e-02,\n",
       "         -5.2428e-02, -8.7792e-03],\n",
       "        ...,\n",
       "        [-2.2226e-02,  5.6293e-02, -2.2022e-02,  ..., -4.8094e-02,\n",
       "         -3.8499e-03, -4.5338e-03],\n",
       "        [ 5.1551e-02,  2.3581e-02, -1.5027e-02,  ..., -5.0315e-03,\n",
       "          1.4565e-02, -3.5377e-02],\n",
       "        [ 2.4744e-02, -3.5089e-02, -1.8049e-02,  ..., -3.0509e-02,\n",
       "         -8.0133e-02, -1.4957e-03]], device='cuda:0', dtype=torch.float64),\n",
       "S=tensor([1.0000, 1.0000, 1.0000, 1.0000, 1.0000, 1.0000, 1.0000, 1.0000, 1.0000,\n",
       "        1.0000, 1.0000, 1.0000, 1.0000, 1.0000, 1.0000, 1.0000, 1.0000, 1.0000,\n",
       "        1.0000, 1.0000, 1.0000, 1.0000, 1.0000, 1.0000, 1.0000, 1.0000, 1.0000,\n",
       "        1.0000, 1.0000, 1.0000, 1.0000, 1.0000, 1.0000, 1.0000, 1.0000, 1.0000,\n",
       "        1.0000, 1.0000, 1.0000, 1.0000, 1.0000, 1.0000, 1.0000, 1.0000, 1.0000,\n",
       "        1.0000, 1.0000, 1.0000, 1.0000, 1.0000, 1.0000, 1.0000, 1.0000, 1.0000,\n",
       "        1.0000, 1.0000, 1.0000, 1.0000, 1.0000, 1.0000, 1.0000, 1.0000, 1.0000,\n",
       "        1.0000, 1.0000, 1.0000, 1.0000, 1.0000, 1.0000, 1.0000, 1.0000, 1.0000,\n",
       "        1.0000, 1.0000, 1.0000, 1.0000, 1.0000, 1.0000, 1.0000, 1.0000, 1.0000,\n",
       "        1.0000, 1.0000, 1.0000, 1.0000, 1.0000, 1.0000, 1.0000, 1.0000, 1.0000,\n",
       "        1.0000, 1.0000, 1.0000, 1.0000, 1.0000, 1.0000, 1.0000, 1.0000, 1.0000,\n",
       "        1.0000, 1.0000, 1.0000, 1.0000, 1.0000, 1.0000, 1.0000, 1.0000, 1.0000,\n",
       "        1.0000, 1.0000, 1.0000, 1.0000, 1.0000, 1.0000, 1.0000, 1.0000, 1.0000,\n",
       "        1.0000, 1.0000, 1.0000, 1.0000, 1.0000, 1.0000, 1.0000, 1.0000, 1.0000,\n",
       "        1.0000, 1.0000, 1.0000, 1.0000, 1.0000, 1.0000, 1.0000, 1.0000, 1.0000,\n",
       "        1.0000, 1.0000, 1.0000, 1.0000, 1.0000, 1.0000, 1.0000, 1.0000, 1.0000,\n",
       "        1.0000, 1.0000, 1.0000, 1.0000, 1.0000, 1.0000, 1.0000, 1.0000, 1.0000,\n",
       "        1.0000, 1.0000, 1.0000, 1.0000, 1.0000, 1.0000, 1.0000, 1.0000, 1.0000,\n",
       "        1.0000, 1.0000, 1.0000, 1.0000, 1.0000, 1.0000, 1.0000, 1.0000, 1.0000,\n",
       "        1.0000, 1.0000, 1.0000, 1.0000, 1.0000, 1.0000, 1.0000, 1.0000, 1.0000,\n",
       "        1.0000, 1.0000, 1.0000, 1.0000, 1.0000, 1.0000, 1.0000, 1.0000, 1.0000,\n",
       "        1.0000, 1.0000, 1.0000, 1.0000, 1.0000, 1.0000, 1.0000, 1.0000, 1.0000,\n",
       "        1.0000, 1.0000, 1.0000, 1.0000, 1.0000, 1.0000, 1.0000, 1.0000, 1.0000,\n",
       "        1.0000, 1.0000, 1.0000, 1.0000, 1.0000, 1.0000, 1.0000, 1.0000, 1.0000,\n",
       "        1.0000, 1.0000, 1.0000, 1.0000, 1.0000, 1.0000, 1.0000, 1.0000, 1.0000,\n",
       "        1.0000, 1.0000, 1.0000, 1.0000, 1.0000, 1.0000, 1.0000, 1.0000, 1.0000,\n",
       "        1.0000, 1.0000, 1.0000, 1.0000, 1.0000, 1.0000, 1.0000, 1.0000, 1.0000,\n",
       "        1.0000, 1.0000, 1.0000, 1.0000, 1.0000, 1.0000, 1.0000, 1.0000, 1.0000,\n",
       "        1.0000, 1.0000, 1.0000, 1.0000, 1.0000, 1.0000, 1.0000, 1.0000, 1.0000,\n",
       "        1.0000, 1.0000, 1.0000, 1.0000, 1.0000, 1.0000, 1.0000, 1.0000, 1.0000,\n",
       "        1.0000, 1.0000, 1.0000, 1.0000, 1.0000, 1.0000, 1.0000, 1.0000, 1.0000,\n",
       "        1.0000, 1.0000, 1.0000, 1.0000, 1.0000, 1.0000, 1.0000, 1.0000, 1.0000,\n",
       "        1.0000, 1.0000, 1.0000, 1.0000, 1.0000, 1.0000, 1.0000, 1.0000, 1.0000,\n",
       "        1.0000, 1.0000, 1.0000, 1.0000, 1.0000, 1.0000, 1.0000, 1.0000, 1.0000,\n",
       "        1.0000, 1.0000, 1.0000, 1.0000, 1.0000, 1.0000, 1.0000, 1.0000, 1.0000,\n",
       "        1.0000, 1.0000, 1.0000, 1.0000, 1.0000, 1.0000, 1.0000, 1.0000, 1.0000,\n",
       "        1.0000, 1.0000, 1.0000, 1.0000, 1.0000, 1.0000, 1.0000, 1.0000, 1.0000,\n",
       "        1.0000, 1.0000, 1.0000, 1.0000, 1.0000, 1.0000, 1.0000, 1.0000, 1.0000,\n",
       "        1.0000, 1.0000, 1.0000, 1.0000, 1.0000, 1.0000, 1.0000, 1.0000, 1.0000,\n",
       "        1.0000, 1.0000, 1.0000, 1.0000, 1.0000, 1.0000, 1.0000, 1.0000, 1.0000,\n",
       "        1.0000, 1.0000, 1.0000, 1.0000, 1.0000, 1.0000, 1.0000, 1.0000, 1.0000,\n",
       "        1.0000, 1.0000, 1.0000, 1.0000, 1.0000, 1.0000, 1.0000, 1.0000, 1.0000,\n",
       "        1.0000, 1.0000, 1.0000, 1.0000, 1.0000, 1.0000, 1.0000, 1.0000, 1.0000,\n",
       "        1.0000, 1.0000, 1.0000, 1.0000, 1.0000, 1.0000, 1.0000, 1.0000, 1.0000,\n",
       "        1.0000, 1.0000, 1.0000, 1.0000, 1.0000, 1.0000, 1.0000, 1.0000, 1.0000,\n",
       "        1.0000, 1.0000, 1.0000, 1.0000, 1.0000, 1.0000, 1.0000, 1.0000, 1.0000,\n",
       "        1.0000, 1.0000, 1.0000, 1.0000, 1.0000, 1.0000, 1.0000, 1.0000, 1.0000,\n",
       "        1.0000, 1.0000, 1.0000, 1.0000, 1.0000, 1.0000, 1.0000, 1.0000, 1.0000,\n",
       "        1.0000, 1.0000, 1.0000, 1.0000, 1.0000, 1.0000, 1.0000, 1.0000, 1.0000,\n",
       "        1.0000, 1.0000, 1.0000, 1.0000, 1.0000, 1.0000, 1.0000, 1.0000, 1.0000,\n",
       "        1.0000, 1.0000, 1.0000, 1.0000, 1.0000, 1.0000, 1.0000, 1.0000, 1.0000,\n",
       "        1.0000, 1.0000, 1.0000, 1.0000, 1.0000, 1.0000, 1.0000, 1.0000, 1.0000,\n",
       "        1.0000, 1.0000, 1.0000, 1.0000, 1.0000, 1.0000, 1.0000, 1.0000, 1.0000,\n",
       "        1.0000, 1.0000, 1.0000, 1.0000, 1.0000, 1.0000, 1.0000, 1.0000, 1.0000,\n",
       "        1.0000, 1.0000, 1.0000, 1.0000, 1.0000, 1.0000, 1.0000, 1.0000, 1.0000,\n",
       "        1.0000, 1.0000, 1.0000, 1.0000, 1.0000, 1.0000, 1.0000, 1.0000, 1.0000,\n",
       "        1.0000, 1.0000, 1.0000, 1.0000, 1.0000, 1.0000, 1.0000, 1.0000, 1.0000,\n",
       "        1.0000, 1.0000, 1.0000, 1.0000, 1.0000, 1.0000, 1.0000, 1.0000, 1.0000,\n",
       "        1.0000, 1.0000, 1.0000, 1.0000, 1.0000, 1.0000, 1.0000, 1.0000, 1.0000,\n",
       "        1.0000, 1.0000, 1.0000, 1.0000, 1.0000, 1.0000, 1.0000, 1.0000, 1.0000,\n",
       "        1.0000, 1.0000, 1.0000, 1.0000, 1.0000, 1.0000, 1.0000, 1.0000, 1.0000,\n",
       "        1.0000, 1.0000, 1.0000, 1.0000, 1.0000, 1.0000, 1.0000, 1.0000, 1.0000,\n",
       "        1.0000, 1.0000, 1.0000, 1.0000, 1.0000, 1.0000, 1.0000, 1.0000, 1.0000,\n",
       "        1.0000, 1.0000, 1.0000, 1.0000, 1.0000, 1.0000, 1.0000, 1.0000, 1.0000,\n",
       "        1.0000, 1.0000, 1.0000, 1.0000, 1.0000, 1.0000, 1.0000, 1.0000, 1.0000,\n",
       "        1.0000, 1.0000, 1.0000, 1.0000, 1.0000, 1.0000, 1.0000, 1.0000, 1.0000,\n",
       "        1.0000, 1.0000, 1.0000, 1.0000, 1.0000, 1.0000, 1.0000, 1.0000, 1.0000,\n",
       "        1.0000, 1.0000, 1.0000, 1.0000, 1.0000, 1.0000, 1.0000, 1.0000, 1.0000,\n",
       "        1.0000, 1.0000, 1.0000, 1.0000, 1.0000, 1.0000, 1.0000, 1.0000, 1.0000,\n",
       "        1.0000, 1.0000, 1.0000, 1.0000, 1.0000, 1.0000, 1.0000, 1.0000, 1.0000,\n",
       "        1.0000, 1.0000, 1.0000, 1.0000, 1.0000, 1.0000, 1.0000, 1.0000, 1.0000,\n",
       "        1.0000, 1.0000, 1.0000, 1.0000, 1.0000, 1.0000, 1.0000, 1.0000, 1.0000,\n",
       "        1.0000, 1.0000, 1.0000, 1.0000, 1.0000, 1.0000, 1.0000, 1.0000, 1.0000,\n",
       "        1.0000, 1.0000, 1.0000, 1.0000, 1.0000, 1.0000, 1.0000, 1.0000, 1.0000,\n",
       "        1.0000, 1.0000, 1.0000, 1.0000, 1.0000, 1.0000, 1.0000, 1.0000, 1.0000,\n",
       "        1.0000, 1.0000, 1.0000, 1.0000, 1.0000, 1.0000, 1.0000, 1.0000, 1.0000,\n",
       "        1.0000, 1.0000, 1.0000, 1.0000, 1.0000, 1.0000, 1.0000, 1.0000, 1.0000,\n",
       "        1.0000, 1.0000, 1.0000, 1.0000, 1.0000, 1.0000, 1.0000, 1.0000, 1.0000,\n",
       "        1.0000, 1.0000, 1.0000, 1.0000, 1.0000, 1.0000, 1.0000, 1.0000, 1.0000,\n",
       "        1.0000, 1.0000, 1.0000, 1.0000, 1.0000, 1.0000, 1.0000, 1.0000, 1.0000,\n",
       "        1.0000, 1.0000, 1.0000, 1.0000, 1.0000, 1.0000, 1.0000, 1.0000, 1.0000,\n",
       "        1.0000, 1.0000, 1.0000, 1.0000, 1.0000, 1.0000, 1.0000, 1.0000, 1.0000,\n",
       "        1.0000, 1.0000, 1.0000, 1.0000, 1.0000, 1.0000, 1.0000, 1.0000, 1.0000,\n",
       "        1.0000, 1.0000, 1.0000, 1.0000, 1.0000, 1.0000, 1.0000, 1.0000, 1.0000,\n",
       "        1.0000, 1.0000, 1.0000, 1.0000, 1.0000, 1.0000, 1.0000, 1.0000, 1.0000,\n",
       "        1.0000, 1.0000, 1.0000, 1.0000, 1.0000, 1.0000, 1.0000, 1.0000, 1.0000,\n",
       "        1.0000, 1.0000, 1.0000, 1.0000, 1.0000, 1.0000, 1.0000, 1.0000, 1.0000,\n",
       "        1.0000, 1.0000, 1.0000, 1.0000, 1.0000, 1.0000, 1.0000, 1.0000, 1.0000,\n",
       "        1.0000, 1.0000, 1.0000, 1.0000, 1.0000, 1.0000, 1.0000, 1.0000],\n",
       "       device='cuda:0', dtype=torch.float64),\n",
       "Vh=tensor([[ 0.0437, -0.0562, -0.0001,  ...,  0.0578,  0.0228, -0.0354],\n",
       "        [-0.0009, -0.0080,  0.0185,  ...,  0.0230, -0.0506, -0.0248],\n",
       "        [-0.0364,  0.0519,  0.0249,  ..., -0.0516, -0.0251, -0.0351],\n",
       "        ...,\n",
       "        [ 0.0006,  0.0038,  0.0204,  ..., -0.0254,  0.0325, -0.0222],\n",
       "        [-0.0006, -0.0097, -0.0045,  ..., -0.0042, -0.0319, -0.0128],\n",
       "        [ 0.0600,  0.0527,  0.0516,  ...,  0.0017, -0.0117,  0.0772]],\n",
       "       device='cuda:0', dtype=torch.float64))"
      ]
     },
     "execution_count": 23,
     "metadata": {},
     "output_type": "execute_result"
    }
   ],
   "source": [
    "torch.linalg.svd(gtn2_torch.C_m,driver='gesvd')"
   ]
  },
  {
   "cell_type": "code",
   "execution_count": 28,
   "metadata": {},
   "outputs": [],
   "source": [
    "z=gtn2_torch.C_m.cpu().numpy()"
   ]
  },
  {
   "cell_type": "code",
   "execution_count": 30,
   "metadata": {},
   "outputs": [
    {
     "name": "stdout",
     "output_type": "stream",
     "text": [
      "124 ms ± 813 µs per loop (mean ± std. dev. of 7 runs, 10 loops each)\n"
     ]
    }
   ],
   "source": [
    "%timeit np.linalg.svd(z)"
   ]
  },
  {
   "cell_type": "code",
   "execution_count": 31,
   "metadata": {},
   "outputs": [
    {
     "name": "stdout",
     "output_type": "stream",
     "text": [
      "126 ms ± 775 µs per loop (mean ± std. dev. of 7 runs, 10 loops each)\n"
     ]
    }
   ],
   "source": [
    "%timeit np.linalg.eigh(z/1j)"
   ]
  },
  {
   "cell_type": "code",
   "execution_count": null,
   "metadata": {},
   "outputs": [],
   "source": []
  },
  {
   "cell_type": "code",
   "execution_count": null,
   "metadata": {},
   "outputs": [],
   "source": [
    "%lprun -f gtn2_torch.measure_single_mode_force measure_feedback_layer(gtn2_torch,)"
   ]
  },
  {
   "cell_type": "code",
   "execution_count": 14,
   "metadata": {},
   "outputs": [
    {
     "name": "stdout",
     "output_type": "stream",
     "text": [
      "tensor(1.7881e-06, device='cuda:0')\n",
      "tensor(2.0266e-06, device='cuda:0')\n",
      "tensor(2.1458e-06, device='cuda:0')\n",
      "tensor(2.4438e-06, device='cuda:0')\n"
     ]
    },
    {
     "name": "stdout",
     "output_type": "stream",
     "text": [
      "Timer unit: 1e-09 s\n",
      "\n",
      "Total time: 0.527896 s\n",
      "File: /home/hnpan/GTN/utils_torch.py\n",
      "Function: P_contraction_torch at line 2\n",
      "\n",
      "Line #      Hits         Time  Per Hit   % Time  Line Contents\n",
      "==============================================================\n",
      "     2                                           def P_contraction_torch(Gamma,Upsilon,ix,ix_bar,device,err,Gamma_like=None,reset_Gamma_like=True,):\n",
      "     3                                               \"\"\" same analytical expression for contraction as _contraction(), differences:\n",
      "     4                                               1. assume intput and output tensor have the same shape, thus, it should be Gamma(L,R) -- Upsilon (L,R), where Gamma_R = Upsilon_L =Upsilon_R, such that in-place operator is applied here.\n",
      "     5                                               2. manually compute the inverse of mat2 before\n",
      "     6                                               Here, Gamma is m, and proj is Upsilon\n",
      "     7                                               Assume Upsilon = [A,B;C,D], the logic is to first compute C= (1+ Gamma_RR @ Upsilon_LL)^{-1}, (where then B=-C.T) \n",
      "     8                                               then A= Upsilon_LL @C, D= Gamma_RR@ C.T\n",
      "     9                                               ---\n",
      "    10                                               reset_Gamma_like: in usual case, because each application of the gate will be like the brick layer, therefore, ix_bar will overwrite the previous. However, for the staircase pattern, one should reset it. \n",
      "    11                                               \"\"\"\n",
      "    12         4     277917.0  69479.2      0.1      Gamma_RR=Gamma[ix[:,None],ix[None,:]]\n",
      "    13         4     194486.0  48621.5      0.0      Gamma_LR=Gamma[ix_bar[:,None],ix[None,:]]\n",
      "    14         4      67609.0  16902.2      0.0      Upsilon_LL=Upsilon[:len(ix),:len(ix)]\n",
      "    15         4      33815.0   8453.8      0.0      Upsilon_RR=Upsilon[len(ix):,len(ix):]\n",
      "    16         4      32242.0   8060.5      0.0      Upsilon_RL=Upsilon[len(ix):,:len(ix)]\n",
      "    17         4     107287.0  26821.8      0.0      eye=torch.eye(len(ix),device=device)\n",
      "    18         4       1072.0    268.0      0.0      try: \n",
      "    19         4    1446734.0 361683.5      0.3          C=torch.linalg.inv(Gamma_RR@Upsilon_LL+eye)\n",
      "    20                                                   # lu,pivots=torch.linalg.lu_factor(Gamma_RR@Upsilon_LL+eye)\n",
      "    21                                               except:\n",
      "    22                                                   raise ValueError(\"the contraction will lead to a vanishing state\")\n",
      "    23         4      88021.0  22005.2      0.0      A=Upsilon_LL@C\n",
      "    24         4      77849.0  19462.2      0.0      D=Gamma_RR@C.T\n",
      "    25                                               # A= torch.linalg.lu_solve(lu,pivots,Upsilon_LL,left=False)\n",
      "    26                                               # D= torch.linalg.lu_solve(lu,pivots,Gamma_RR.T).T\n",
      "    27         4     191770.0  47942.5      0.0      tmp=Gamma_LR@A@Gamma_LR.T\n",
      "    28         4       1743.0    435.8      0.0      if Gamma_like is None:\n",
      "    29                                                   Gamma_like=torch.zeros_like(Gamma)\n",
      "    30         4        850.0    212.5      0.0      if reset_Gamma_like:\n",
      "    31         4      60917.0  15229.2      0.0          Gamma_like.fill_(0)\n",
      "    32         4     249041.0  62260.2      0.0      Gamma_like[ix_bar[:,None],ix_bar[None,:]]=tmp\n",
      "    33         4      46589.0  11647.2      0.0      Gamma+=Gamma_like\n",
      "    34         4     397186.0  99296.5      0.1      Gamma[ix[:,None],ix_bar[None,:]]=Upsilon_RL@C@Gamma_LR.T\n",
      "    35                                               # Gamma[ix[:,None],ix_bar[None,:]]=torch.linalg.lu_solve(lu,pivots,Upsilon_RL,left=False)@Gamma_LR.T\n",
      "    36         4     412648.0 103162.0      0.1      Gamma[ix[:,None],ix[None,:]]=Upsilon_RR+Upsilon_RL@D@Upsilon_RL.T\n",
      "    37         4     469357.0 117339.2      0.1      Gamma[ix_bar[:,None],ix[None,:]]=-Gamma[ix[:,None],ix_bar[None,:]].T\n",
      "    38                                               # why is it neccessary?\n",
      "    39                                               # Gamma-=Gamma.T\n",
      "    40                                               # Gamma/=2\n",
      "    41         4    9616629.0 2404157.2      1.8      print(torch.abs(torch.einsum(Gamma,[0,1],Gamma,[1,0],[0])+1).max())\n",
      "    42         4    2824875.0 706218.8      0.5      if torch.abs(torch.einsum(Gamma,[0,1],Gamma,[1,0],[0])+1).max() > err:\n",
      "    43         4  511186035.0 127796508.8     96.8          Gamma=purify(Gamma)\n",
      "    44         4      65557.0  16389.2      0.0          Gamma=Gamma-Gamma.T\n",
      "    45         4      45979.0  11494.8      0.0          Gamma/=2"
     ]
    }
   ],
   "source": [
    "%lprun -f P_contraction_torch gtn2_torch.measure_feedback([0,1])"
   ]
  },
  {
   "cell_type": "code",
   "execution_count": 11,
   "metadata": {},
   "outputs": [
    {
     "name": "stdout",
     "output_type": "stream",
     "text": [
      "24.4 ms ± 29.8 µs per loop (mean ± std. dev. of 7 runs, 10 loops each)\n"
     ]
    }
   ],
   "source": [
    "%timeit gtn2_torch.measure_feedback([0,1])"
   ]
  },
  {
   "cell_type": "code",
   "execution_count": 42,
   "metadata": {},
   "outputs": [
    {
     "name": "stdout",
     "output_type": "stream",
     "text": [
      "74.2 ms ± 207 µs per loop (mean ± std. dev. of 7 runs, 10 loops each)\n"
     ]
    }
   ],
   "source": [
    "%timeit gtn2_torch.randomize([0,1])"
   ]
  },
  {
   "cell_type": "code",
   "execution_count": 136,
   "metadata": {},
   "outputs": [
    {
     "name": "stdout",
     "output_type": "stream",
     "text": [
      "Timer unit: 1e-09 s\n",
      "\n",
      "Total time: 0.00127411 s\n",
      "File: /home/hnpan/GTN/GTN2_torch.py\n",
      "Function: measure at line 181\n",
      "\n",
      "Line #      Hits         Time  Per Hit   % Time  Line Contents\n",
      "==============================================================\n",
      "   181                                           \n",
      "   182                                               def measure(self,n,ix):\n",
      "   183                                                   ''' Majorana site index for ix, \n",
      "   184         1     315800.0 315800.0     24.8          n should be a scalar'''\n",
      "   185         1      13756.0  13756.0      1.1          # ix_bar=torch.tensor(list(self.full_ix-set(ix)),device=self.device)\n",
      "   186         1        361.0    361.0      0.0          self.ix_bool[ix]=True\n",
      "   187         1     183645.0 183645.0     14.4          ix_bar = torch.nonzero(~self.ix_bool,as_tuple=True)[0]\n",
      "   188         1     756443.0 756443.0     59.4          Psi=self.C_m\n",
      "   189                                                   proj=self.kraus(n)\n",
      "   190         1        852.0    852.0      0.1          P_contraction_torch(Psi,proj,ix,ix_bar,device=self.device,err=self.err,Gamma_like=self.Gamma_like,reset_Gamma_like=True)\n",
      "   191                                           \n",
      "   192                                                   if self.history:\n",
      "   193                                                       self.C_m_history.append(Psi.cpu().clone())\n",
      "   194                                                       self.n_history.append(n)\n",
      "   195                                                       self.i_history.append(ix)\n",
      "   196                                                       # self.MI_history.append(self.mutual_information_cross_ratio())\n",
      "   197         1       1613.0   1613.0      0.1          else:\n",
      "   198         1       1643.0   1643.0      0.1              # self.C_m_history=[Psi]\n",
      "   199                                                       self.n_history=[n]\n",
      "   200                                                       self.i_history=[ix]\n",
      "   201                                                       # self.MI_history=[self.mutual_information_cross_ratio()]"
     ]
    }
   ],
   "source": [
    "%lprun -f gtn2_torch.measure gtn2_torch.randomize([0,1])"
   ]
  },
  {
   "cell_type": "code",
   "execution_count": 39,
   "metadata": {},
   "outputs": [
    {
     "data": {
      "text/plain": [
       "<matplotlib.image.AxesImage at 0x7ef5531238e0>"
      ]
     },
     "execution_count": 39,
     "metadata": {},
     "output_type": "execute_result"
    },
    {
     "data": {
      "image/png": "[encoded data removed]",
      "text/plain": [
       "<Figure size 640x480 with 1 Axes>"
      ]
     },
     "metadata": {},
     "output_type": "display_data"
    }
   ],
   "source": [
    "plt.imshow(gtn2_torch.C_m.cpu()[:10,:10])"
   ]
  },
  {
   "cell_type": "code",
   "execution_count": 8,
   "metadata": {},
   "outputs": [],
   "source": [
    "device = torch.device(\"cuda\")"
   ]
  },
  {
   "cell_type": "code",
   "execution_count": 10,
   "metadata": {},
   "outputs": [],
   "source": [
    "# Ggpu=torch.from_numpy(Gamma).cuda()\n",
    "op_gpu= torch.from_numpy(op).cuda()\n",
    "ix_gpu = torch.from_numpy(np.array(ix)).cuda()\n",
    "ix_bar_gpu = torch.from_numpy(np.array(ix_bar)).cuda()\n",
    "err = torch.tensor(1e-10,device=device)"
   ]
  },
  {
   "cell_type": "code",
   "execution_count": 43,
   "metadata": {},
   "outputs": [
    {
     "ename": "NameError",
     "evalue": "name 'op' is not defined",
     "output_type": "error",
     "traceback": [
      "\u001b[0;31m---------------------------------------------------------------------------\u001b[0m",
      "\u001b[0;31mNameError\u001b[0m                                 Traceback (most recent call last)",
      "Cell \u001b[0;32mIn[43], line 1\u001b[0m\n\u001b[0;32m----> 1\u001b[0m \u001b[43mop\u001b[49m\n",
      "\u001b[0;31mNameError\u001b[0m: name 'op' is not defined"
     ]
    }
   ],
   "source": [
    "op"
   ]
  },
  {
   "cell_type": "code",
   "execution_count": 12,
   "metadata": {},
   "outputs": [],
   "source": [
    "P_contraction_torch(gtn2_torch.C_m,op_gpu,ix_gpu,ix_bar_gpu,device=device,err=err)"
   ]
  },
  {
   "cell_type": "code",
   "execution_count": null,
   "metadata": {},
   "outputs": [],
   "source": [
    "%lprun -f P_contraction_torch P_contraction_torch(Ggpu,op_gpu,ix_gpu,ix_bar_gpu,device=device,err=err)"
   ]
  },
  {
   "cell_type": "code",
   "execution_count": 17,
   "metadata": {},
   "outputs": [
    {
     "name": "stdout",
     "output_type": "stream",
     "text": [
      "42.2 ms ± 5.03 µs per loop (mean ± std. dev. of 7 runs, 10 loops each)\n"
     ]
    }
   ],
   "source": [
    "%timeit P_contraction_torch(Ggpu,op_gpu,ix_gpu,ix_bar_gpu,device=device)"
   ]
  },
  {
   "cell_type": "code",
   "execution_count": 143,
   "metadata": {},
   "outputs": [
    {
     "name": "stdout",
     "output_type": "stream",
     "text": [
      "50.9 ms ± 111 µs per loop (mean ± std. dev. of 7 runs, 10 loops each)\n"
     ]
    }
   ],
   "source": [
    "%timeit P_contraction_torch(Ggpu,op_gpu,ix_gpu,ix_bar_gpu,device=device,err=err)"
   ]
  },
  {
   "cell_type": "code",
   "execution_count": 155,
   "metadata": {},
   "outputs": [
    {
     "name": "stdout",
     "output_type": "stream",
     "text": [
      "12.4 ms ± 22.8 µs per loop (mean ± std. dev. of 7 runs, 100 loops each)\n"
     ]
    }
   ],
   "source": [
    "%timeit P_contraction_torch(Ggpu,op_gpu,ix_gpu,ix_bar_gpu,device=device,err=err)"
   ]
  },
  {
   "cell_type": "code",
   "execution_count": 137,
   "metadata": {},
   "outputs": [
    {
     "name": "stdout",
     "output_type": "stream",
     "text": [
      "51.3 ms ± 119 µs per loop (mean ± std. dev. of 7 runs, 10 loops each)\n"
     ]
    }
   ],
   "source": [
    "%timeit P_contraction_torch(Ggpu,op_gpu,ix_gpu,ix_bar_gpu,device=device,err=err)"
   ]
  },
  {
   "cell_type": "code",
   "execution_count": 156,
   "metadata": {},
   "outputs": [
    {
     "data": {
      "text/plain": [
       "tensor([[ 0.0000,  0.9600,  0.0000,  ...,  0.0000,  0.0000,  0.0000],\n",
       "        [-0.9600,  0.0000,  0.0400,  ...,  0.0000,  0.0000,  0.0000],\n",
       "        [ 0.0000, -0.0400,  0.0000,  ...,  0.0000,  0.0000,  0.0000],\n",
       "        ...,\n",
       "        [-0.0000, -0.0000, -0.0000,  ...,  0.0000,  0.0000,  0.0000],\n",
       "        [-0.0000, -0.0000, -0.0000,  ...,  0.0000,  0.0000, -1.0000],\n",
       "        [-0.0000, -0.0000, -0.0000,  ...,  0.0000,  1.0000,  0.0000]],\n",
       "       device='cuda:0', dtype=torch.float64)"
      ]
     },
     "execution_count": 156,
     "metadata": {},
     "output_type": "execute_result"
    }
   ],
   "source": [
    "Ggpu"
   ]
  },
  {
   "cell_type": "code",
   "execution_count": 188,
   "metadata": {},
   "outputs": [],
   "source": [
    "Gz=purify(Ggpu)"
   ]
  },
  {
   "cell_type": "code",
   "execution_count": 190,
   "metadata": {},
   "outputs": [
    {
     "data": {
      "text/plain": [
       "True"
      ]
     },
     "execution_count": 190,
     "metadata": {},
     "output_type": "execute_result"
    }
   ],
   "source": [
    "torch.allclose(Gz,Ggpu)"
   ]
  },
  {
   "cell_type": "code",
   "execution_count": 187,
   "metadata": {},
   "outputs": [
    {
     "name": "stdout",
     "output_type": "stream",
     "text": [
      "1.38 s ± 2.5 ms per loop (mean ± std. dev. of 7 runs, 1 loop each)\n"
     ]
    }
   ],
   "source": [
    "%timeit purify(Ggpu)"
   ]
  },
  {
   "cell_type": "code",
   "execution_count": 160,
   "metadata": {},
   "outputs": [],
   "source": [
    "val,vec=torch.linalg.eigh(Ggpu/1j)"
   ]
  },
  {
   "cell_type": "code",
   "execution_count": 177,
   "metadata": {},
   "outputs": [],
   "source": [
    "U, S, Vh =torch.linalg.svd(Ggpu)"
   ]
  },
  {
   "cell_type": "code",
   "execution_count": 180,
   "metadata": {},
   "outputs": [
    {
     "data": {
      "text/plain": [
       "(array([[ 0., -1.],\n",
       "        [-1.,  0.]]),\n",
       " array([1., 1.]),\n",
       " array([[-1., -0.],\n",
       "        [ 0.,  1.]]))"
      ]
     },
     "execution_count": 180,
     "metadata": {},
     "output_type": "execute_result"
    }
   ],
   "source": [
    "np.linalg.svd(np.array([[0,-1],[1,0]]))"
   ]
  },
  {
   "cell_type": "code",
   "execution_count": 178,
   "metadata": {},
   "outputs": [
    {
     "data": {
      "text/plain": [
       "tensor([1.0000, 1.0000, 1.0000,  ..., 1.0000, 1.0000, 1.0000], device='cuda:0',\n",
       "       dtype=torch.float64)"
      ]
     },
     "execution_count": 178,
     "metadata": {},
     "output_type": "execute_result"
    }
   ],
   "source": [
    "S"
   ]
  },
  {
   "cell_type": "code",
   "execution_count": 185,
   "metadata": {},
   "outputs": [
    {
     "data": {
      "text/plain": [
       "True"
      ]
     },
     "execution_count": 185,
     "metadata": {},
     "output_type": "execute_result"
    }
   ],
   "source": [
    "torch.allclose(U@Vh,Ggpu)"
   ]
  },
  {
   "cell_type": "code",
   "execution_count": 176,
   "metadata": {},
   "outputs": [
    {
     "data": {
      "text/plain": [
       "tensor([[ 8.8166e-03-0.0000j,  0.0000e+00-0.0170j, -2.5560e-01-0.0000j,\n",
       "          ...,  0.0000e+00-0.0000j,  0.0000e+00-0.0000j,\n",
       "          0.0000e+00-0.0000j],\n",
       "        [ 1.7594e-02-0.0000j,  0.0000e+00+0.0041j, -9.5215e-01-0.0000j,\n",
       "          ...,  0.0000e+00-0.0000j,  0.0000e+00-0.0000j,\n",
       "          0.0000e+00-0.0000j],\n",
       "        [-1.3285e-01-0.0000j,  0.0000e+00-0.0639j, -1.2723e-01-0.0000j,\n",
       "          ...,  0.0000e+00-0.0000j,  0.0000e+00-0.0000j,\n",
       "          0.0000e+00-0.0000j],\n",
       "        ...,\n",
       "        [-8.6209e-03-0.0000j,  0.0000e+00-0.0356j, -6.8445e-04-0.0000j,\n",
       "          ...,  0.0000e+00-0.0000j,  0.0000e+00-0.0000j,\n",
       "          0.0000e+00-0.0000j],\n",
       "        [ 1.4508e-02-0.0000j,  0.0000e+00-0.0070j,  7.6398e-03-0.0000j,\n",
       "          ...,  0.0000e+00-0.0000j,  0.0000e+00-0.0000j,\n",
       "          0.0000e+00-0.0000j],\n",
       "        [ 1.5218e-02-0.0000j,  0.0000e+00+0.0120j,  4.6112e-03-0.0000j,\n",
       "          ...,  0.0000e+00-0.0000j,  0.0000e+00-0.0000j,\n",
       "          0.0000e+00-0.0000j]], device='cuda:0', dtype=torch.complex128)"
      ]
     },
     "execution_count": 176,
     "metadata": {},
     "output_type": "execute_result"
    }
   ],
   "source": [
    "Vh"
   ]
  },
  {
   "cell_type": "code",
   "execution_count": 168,
   "metadata": {},
   "outputs": [
    {
     "data": {
      "text/plain": [
       "tensor([[ 1.0000e+00+0.0000e+00j, -1.0971e-16+4.8945e-17j,\n",
       "          3.7673e-17-6.0546e-19j,  ...,\n",
       "          0.0000e+00+0.0000e+00j,  0.0000e+00+0.0000e+00j,\n",
       "          0.0000e+00+0.0000e+00j],\n",
       "        [-1.0971e-16-4.8945e-17j,  1.0000e+00+1.8705e-21j,\n",
       "          7.1700e-19-5.6463e-17j,  ...,\n",
       "          0.0000e+00+0.0000e+00j,  0.0000e+00+0.0000e+00j,\n",
       "          0.0000e+00+0.0000e+00j],\n",
       "        [ 3.7673e-17+6.0546e-19j,  7.1700e-19+4.9596e-17j,\n",
       "          1.0000e+00-1.1297e-18j,  ...,\n",
       "          0.0000e+00+0.0000e+00j,  0.0000e+00+0.0000e+00j,\n",
       "          0.0000e+00+0.0000e+00j],\n",
       "        ...,\n",
       "        [ 0.0000e+00+0.0000e+00j,  0.0000e+00+0.0000e+00j,\n",
       "          0.0000e+00+0.0000e+00j,  ...,\n",
       "          1.0000e+00+0.0000e+00j,  0.0000e+00+0.0000e+00j,\n",
       "          0.0000e+00+0.0000e+00j],\n",
       "        [ 0.0000e+00+0.0000e+00j,  0.0000e+00+0.0000e+00j,\n",
       "          0.0000e+00+0.0000e+00j,  ...,\n",
       "          0.0000e+00+0.0000e+00j,  1.0000e+00+0.0000e+00j,\n",
       "          0.0000e+00+2.2371e-17j],\n",
       "        [ 0.0000e+00+0.0000e+00j,  0.0000e+00+0.0000e+00j,\n",
       "          0.0000e+00+0.0000e+00j,  ...,\n",
       "          0.0000e+00+0.0000e+00j,  0.0000e+00-2.2371e-17j,\n",
       "          1.0000e+00+0.0000e+00j]], device='cuda:0', dtype=torch.complex128)"
      ]
     },
     "execution_count": 168,
     "metadata": {},
     "output_type": "execute_result"
    }
   ],
   "source": [
    "vec@vec.T.conj()"
   ]
  },
  {
   "cell_type": "code",
   "execution_count": 167,
   "metadata": {},
   "outputs": [
    {
     "ename": "RuntimeError",
     "evalue": "expected scalar type ComplexDouble but found Double",
     "output_type": "error",
     "traceback": [
      "\u001b[0;31m---------------------------------------------------------------------------\u001b[0m",
      "\u001b[0;31mRuntimeError\u001b[0m                              Traceback (most recent call last)",
      "Cell \u001b[0;32mIn[167], line 1\u001b[0m\n\u001b[0;32m----> 1\u001b[0m \u001b[43mvec\u001b[49m\u001b[38;5;129;43m@torch\u001b[39;49m\u001b[38;5;241;43m.\u001b[39;49m\u001b[43mdiag\u001b[49m\u001b[43m(\u001b[49m\u001b[43mval\u001b[49m\u001b[43m)\u001b[49m\n",
      "\u001b[0;31mRuntimeError\u001b[0m: expected scalar type ComplexDouble but found Double"
     ]
    }
   ],
   "source": [
    "vec@torch.diag(val)"
   ]
  },
  {
   "cell_type": "code",
   "execution_count": 165,
   "metadata": {},
   "outputs": [
    {
     "ename": "RuntimeError",
     "evalue": "expected scalar type ComplexDouble but found Double",
     "output_type": "error",
     "traceback": [
      "\u001b[0;31m---------------------------------------------------------------------------\u001b[0m",
      "\u001b[0;31mRuntimeError\u001b[0m                              Traceback (most recent call last)",
      "Cell \u001b[0;32mIn[165], line 1\u001b[0m\n\u001b[0;32m----> 1\u001b[0m \u001b[43mvec\u001b[49m\u001b[38;5;129;43m@torch\u001b[39;49m\u001b[38;5;241;43m.\u001b[39;49m\u001b[43mdiag\u001b[49m\u001b[43m(\u001b[49m\u001b[43mval\u001b[49m\u001b[43m)\u001b[49m\n",
      "\u001b[0;31mRuntimeError\u001b[0m: expected scalar type ComplexDouble but found Double"
     ]
    }
   ],
   "source": [
    "vec@torch.diag(val)\n",
    "# @vec.conj().T"
   ]
  },
  {
   "cell_type": "code",
   "execution_count": 97,
   "metadata": {},
   "outputs": [
    {
     "data": {
      "text/plain": [
       "array([[-1.41370405e-19,  9.14121153e-03,  8.43629885e-04, ...,\n",
       "         5.45335233e-03,  9.16385308e-03, -4.98478879e-03],\n",
       "       [-9.14121153e-03,  1.41370405e-19,  1.08348735e-02, ...,\n",
       "        -8.01868528e-03,  9.43240753e-03, -2.38126923e-02],\n",
       "       [-8.43629885e-04, -1.08348735e-02,  0.00000000e+00, ...,\n",
       "         7.01912681e-04,  1.27848725e-02,  2.29915716e-04],\n",
       "       ...,\n",
       "       [-5.45335233e-03,  8.01868528e-03, -7.01912681e-04, ...,\n",
       "         0.00000000e+00,  2.33343122e-02,  1.55717965e-02],\n",
       "       [-9.16385308e-03, -9.43240753e-03, -1.27848725e-02, ...,\n",
       "        -2.33343122e-02,  0.00000000e+00,  1.46735660e-02],\n",
       "       [ 4.98478879e-03,  2.38126923e-02, -2.29915716e-04, ...,\n",
       "        -1.55717965e-02, -1.46735660e-02,  0.00000000e+00]])"
      ]
     },
     "execution_count": 97,
     "metadata": {},
     "output_type": "execute_result"
    }
   ],
   "source": [
    "gtn2.C_m"
   ]
  },
  {
   "cell_type": "code",
   "execution_count": 127,
   "metadata": {},
   "outputs": [
    {
     "data": {
      "text/plain": [
       "True"
      ]
     },
     "execution_count": 127,
     "metadata": {},
     "output_type": "execute_result"
    }
   ],
   "source": [
    "np.allclose(gtn2.C_m,Ggpu.cpu())"
   ]
  },
  {
   "cell_type": "code",
   "execution_count": 192,
   "metadata": {},
   "outputs": [
    {
     "data": {
      "text/plain": [
       "tensor([[ 0.,  1.],\n",
       "        [-1.,  0.]], device='cuda:0')"
      ]
     },
     "execution_count": 192,
     "metadata": {},
     "output_type": "execute_result"
    }
   ],
   "source": [
    "torch.tensor([[0,1.],[-1.,0]],device=device)"
   ]
  },
  {
   "cell_type": "code",
   "execution_count": 197,
   "metadata": {},
   "outputs": [
    {
     "data": {
      "text/plain": [
       "device(type='cuda')"
      ]
     },
     "execution_count": 197,
     "metadata": {},
     "output_type": "execute_result"
    }
   ],
   "source": [
    "device"
   ]
  },
  {
   "cell_type": "code",
   "execution_count": 14,
   "metadata": {},
   "outputs": [],
   "source": [
    "rng=torch.Generator(device=device)"
   ]
  },
  {
   "cell_type": "code",
   "execution_count": 207,
   "metadata": {},
   "outputs": [
    {
     "data": {
      "text/plain": [
       "<torch._C.Generator at 0x72d33eb14110>"
      ]
     },
     "execution_count": 207,
     "metadata": {},
     "output_type": "execute_result"
    }
   ],
   "source": [
    "rng.manual_seed(0)"
   ]
  },
  {
   "cell_type": "code",
   "execution_count": 16,
   "metadata": {},
   "outputs": [
    {
     "data": {
      "text/plain": [
       "tensor([0.1452, 0.5480, 0.7146, 0.9941, 0.6706, 0.4023, 0.4849, 0.4496, 0.3975,\n",
       "        0.3477], device='cuda:0')"
      ]
     },
     "execution_count": 16,
     "metadata": {},
     "output_type": "execute_result"
    }
   ],
   "source": [
    "# torch.normal(0,1,(10,10),generator=rng,device=device)\n",
    "torch.rand(size=(10, ), generator=rng, device='cuda', dtype=torch.float32)"
   ]
  },
  {
   "cell_type": "code",
   "execution_count": 223,
   "metadata": {},
   "outputs": [
    {
     "data": {
      "text/plain": [
       "tensor([[0, 0],\n",
       "        [1, 1],\n",
       "        [2, 2],\n",
       "        [3, 3],\n",
       "        [4, 4],\n",
       "        [5, 5],\n",
       "        [6, 6],\n",
       "        [7, 7],\n",
       "        [8, 8],\n",
       "        [9, 9]])"
      ]
     },
     "execution_count": 223,
     "metadata": {},
     "output_type": "execute_result"
    }
   ],
   "source": [
    "torch.vstack([torch.arange(10),torch.arange(10)]).T"
   ]
  },
  {
   "cell_type": "code",
   "execution_count": 184,
   "metadata": {},
   "outputs": [],
   "source": [
    "def P_contraction_torch(Gamma,Upsilon,ix,ix_bar,device,err,Gamma_like=None,reset_Gamma_like=True,):\n",
    "    \"\"\" same analytical expression for contraction as _contraction(), differences:\n",
    "    1. assume intput and output tensor have the same shape, thus, it should be Gamma(L,R) -- Upsilon (L,R), where Gamma_R = Upsilon_L =Upsilon_R, such that in-place operator is applied here.\n",
    "    2. manually compute the inverse of mat2 before\n",
    "    Here, Gamma is m, and proj is Upsilon\n",
    "    Assume Upsilon = [A,B;C,D], the logic is to first compute C= (1+ Gamma_RR @ Upsilon_LL)^{-1}, (where then B=-C.T) \n",
    "    then A= Upsilon_LL @C, D= Gamma_RR@ C.T\n",
    "    ---\n",
    "    reset_Gamma_like: in usual case, because each application of the gate will be like the brick layer, therefore, ix_bar will overwrite the previous. However, for the staircase pattern, one should reset it. \n",
    "    \"\"\"\n",
    "    Gamma_RR=Gamma[ix[:,None],ix[None,:]]\n",
    "    Gamma_LR=Gamma[ix_bar[:,None],ix[None,:]]\n",
    "    Upsilon_LL=Upsilon[:len(ix),:len(ix)]\n",
    "    Upsilon_RR=Upsilon[len(ix):,len(ix):]\n",
    "    Upsilon_RL=Upsilon[len(ix):,:len(ix)]\n",
    "    eye=torch.eye(len(ix),device=device)\n",
    "    try: \n",
    "        C=torch.linalg.inv(Gamma_RR@Upsilon_LL+eye)\n",
    "        # lu,pivots=torch.linalg.lu_factor(Gamma_RR@Upsilon_LL+eye)\n",
    "    except:\n",
    "        raise ValueError(\"the contraction will lead to a vanishing state\")\n",
    "    A=Upsilon_LL@C\n",
    "    D=Gamma_RR@C.T\n",
    "    # A= torch.linalg.lu_solve(lu,pivots,Upsilon_LL,left=False)\n",
    "    # D= torch.linalg.lu_solve(lu,pivots,Gamma_RR.T).T\n",
    "    tmp=Gamma_LR@A@Gamma_LR.T\n",
    "    if Gamma_like is None:\n",
    "        Gamma_like=torch.zeros_like(Gamma)\n",
    "    if reset_Gamma_like:\n",
    "        Gamma_like.fill_(0)\n",
    "    Gamma_like[ix_bar[:,None],ix_bar[None,:]]=tmp\n",
    "    Gamma+=Gamma_like\n",
    "    Gamma[ix[:,None],ix_bar[None,:]]=Upsilon_RL@C@Gamma_LR.T\n",
    "    # Gamma[ix[:,None],ix_bar[None,:]]=torch.linalg.lu_solve(lu,pivots,Upsilon_RL,left=False)@Gamma_LR.T\n",
    "    Gamma[ix[:,None],ix[None,:]]=Upsilon_RR+Upsilon_RL@D@Upsilon_RL.T\n",
    "    Gamma[ix_bar[:,None],ix[None,:]]=-Gamma[ix[:,None],ix_bar[None,:]].T\n",
    "    # why is it neccessary?\n",
    "    # Gamma-=Gamma.T\n",
    "    # Gamma/=2\n",
    "\n",
    "    if torch.abs(torch.einsum(Gamma,[0,1],Gamma,[1,0],[0])+1).max() > err:\n",
    "        Gamma=purify(Gamma)\n",
    "        Gamma-=Gamma.T\n",
    "        Gamma/=2\n",
    "\n",
    "\n",
    "def purify(A):\n",
    "    # purify A, see App. B2 in PhysRevB.106.134206\n",
    "    U, _, Vh=torch.linalg.svd(A)\n",
    "    return U@Vh"
   ]
  },
  {
   "cell_type": "code",
   "execution_count": 145,
   "metadata": {},
   "outputs": [
    {
     "data": {
      "text/plain": [
       "tensor([[ 0.0000,  0.9600,  0.0000,  ...,  0.0000,  0.0000,  0.0000],\n",
       "        [-0.9600,  0.0000,  0.0400,  ...,  0.0000,  0.0000,  0.0000],\n",
       "        [ 0.0000, -0.0400,  0.0000,  ...,  0.0000,  0.0000,  0.0000],\n",
       "        ...,\n",
       "        [-0.0000, -0.0000, -0.0000,  ...,  0.0000,  0.0000,  0.0000],\n",
       "        [-0.0000, -0.0000, -0.0000,  ...,  0.0000,  0.0000, -1.0000],\n",
       "        [-0.0000, -0.0000, -0.0000,  ...,  0.0000,  1.0000,  0.0000]],\n",
       "       device='cuda:0', dtype=torch.float64)"
      ]
     },
     "execution_count": 145,
     "metadata": {},
     "output_type": "execute_result"
    }
   ],
   "source": [
    "Ggpu"
   ]
  },
  {
   "cell_type": "code",
   "execution_count": 147,
   "metadata": {},
   "outputs": [
    {
     "data": {
      "text/plain": [
       "torch.Size([7200, 7200])"
      ]
     },
     "execution_count": 147,
     "metadata": {},
     "output_type": "execute_result"
    }
   ],
   "source": [
    "Ggpu.shape"
   ]
  },
  {
   "cell_type": "code",
   "execution_count": null,
   "metadata": {},
   "outputs": [],
   "source": []
  }
 ],
 "metadata": {
  "kernelspec": {
   "display_name": "base",
   "language": "python",
   "name": "python3"
  },
  "language_info": {
   "codemirror_mode": {
    "name": "ipython",
    "version": 3
   },
   "file_extension": ".py",
   "mimetype": "text/x-python",
   "name": "python",
   "nbconvert_exporter": "python",
   "pygments_lexer": "ipython3",
   "version": "3.11.4"
  }
 },
 "nbformat": 4,
 "nbformat_minor": 2
}
