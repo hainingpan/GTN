{
 "cells": [
  {
   "cell_type": "code",
   "execution_count": 1,
   "metadata": {},
   "outputs": [],
   "source": [
    "%load_ext line_profiler"
   ]
  },
  {
   "cell_type": "code",
   "execution_count": 2,
   "metadata": {},
   "outputs": [],
   "source": [
    "import matplotlib.pyplot as plt\n",
    "import pickle\n",
    "from tqdm import tqdm\n"
   ]
  },
  {
   "cell_type": "code",
   "execution_count": 74,
   "metadata": {},
   "outputs": [],
   "source": [
    "from importlib import reload\n",
    "\n",
    "import GTN2\n",
    "reload(GTN2)\n",
    "from GTN2 import *"
   ]
  },
  {
   "cell_type": "code",
   "execution_count": 4,
   "metadata": {},
   "outputs": [],
   "source": [
    "from importlib import reload\n",
    "\n",
    "import utils\n",
    "reload(utils)\n",
    "from utils import *"
   ]
  },
  {
   "cell_type": "code",
   "execution_count": 5,
   "metadata": {},
   "outputs": [],
   "source": [
    "from importlib import reload\n",
    "\n",
    "import GTN2_sp\n",
    "reload(GTN2_sp)\n",
    "from GTN2_sp import *"
   ]
  },
  {
   "cell_type": "code",
   "execution_count": 6,
   "metadata": {},
   "outputs": [],
   "source": [
    "def measure_feedback_layer(gtn2,):\n",
    "    # margin_x=0 if gtn2.bcx==1 else gtn2.nshell\n",
    "    margin_x=0 \n",
    "    ilist = range(margin_x,gtn2.Lx-margin_x)\n",
    "    # margin_y=0 if gtn2.bcy==1 else gtn2.nshell\n",
    "    margin_y=0\n",
    "    jlist = range(margin_y,gtn2.Ly-margin_y)\n",
    "    ij_list = [(i,j) for i in (ilist) for j in (jlist)]\n",
    "    for i,j in tqdm(ij_list):\n",
    "        gtn2.measure_feedback(ij = [i,j])"
   ]
  },
  {
   "cell_type": "code",
   "execution_count": 7,
   "metadata": {},
   "outputs": [],
   "source": [
    "def randomize(gtn2,measure=True):\n",
    "    for i in tqdm(range(2*gtn2.L+1,4*gtn2.L,2)):\n",
    "        # print([i, (i+1)%(2*gtn2.L)+2*gtn2.L])\n",
    "        gtn2.randomize([i, (i+1)%(2*gtn2.L)+2*gtn2.L])\n",
    "    if measure:\n",
    "        for i in tqdm(range(2*gtn2.L,4*gtn2.L,2)):\n",
    "            gtn2.measure_single_mode_Born([i,i+1],mode=[1])"
   ]
  },
  {
   "cell_type": "markdown",
   "metadata": {},
   "source": [
    "# Dense"
   ]
  },
  {
   "cell_type": "code",
   "execution_count": 341,
   "metadata": {},
   "outputs": [],
   "source": [
    "gtn2=GTN2(Lx=20,Ly=20,history=False,random_init=True,random_U1=False,bcx=1,bcy=1,seed=0,orbit=2,nshell=2,layer=2,sparse=False)\n"
   ]
  },
  {
   "cell_type": "code",
   "execution_count": 342,
   "metadata": {},
   "outputs": [
    {
     "data": {
      "text/plain": [
       "array([[ 0.        , -0.01007223,  0.01806261, -0.02036222],\n",
       "       [ 0.01007223,  0.        ,  0.00511817,  0.00798076],\n",
       "       [-0.01806261, -0.00511817,  0.        , -0.00738873],\n",
       "       [ 0.02036222, -0.00798076,  0.00738873,  0.        ]])"
      ]
     },
     "execution_count": 342,
     "metadata": {},
     "output_type": "execute_result"
    }
   ],
   "source": [
    "(gtn2.C_m)[:4,:4]"
   ]
  },
  {
   "cell_type": "code",
   "execution_count": 343,
   "metadata": {},
   "outputs": [],
   "source": [
    "op=kraus([0,1/np.sqrt(2),1/np.sqrt(2)])\n",
    "ix = np.arange(0,2).tolist()\n",
    "ix_bar = np.arange(2,gtn2_sp.C_m.shape[0]).tolist()\n",
    "# op=(op_single_mode(((1,)*50,1)))\n",
    "# ix = np.arange(0,100).tolist()\n",
    "# ix_bar = np.arange(100,gtn2_sp.C_m.shape[0]).tolist()"
   ]
  },
  {
   "cell_type": "code",
   "execution_count": 344,
   "metadata": {},
   "outputs": [],
   "source": [
    "P_contraction_2(gtn2.C_m,op,ix,ix_bar,)"
   ]
  },
  {
   "cell_type": "code",
   "execution_count": 345,
   "metadata": {},
   "outputs": [
    {
     "data": {
      "text/plain": [
       "array([[ 1.06978882e-19, -1.00722339e-02,  9.15309869e-03,\n",
       "        -2.00415135e-02, -1.34793410e-02, -3.28612276e-04],\n",
       "       [ 1.00722339e-02, -1.06978882e-19,  1.63912835e-02,\n",
       "        -8.75501073e-03,  6.99351700e-03, -2.86698504e-02],\n",
       "       [-9.15309869e-03, -1.63912835e-02,  0.00000000e+00,\n",
       "        -7.38872543e-03, -4.14314017e-03,  2.99796839e-02],\n",
       "       [ 2.00415135e-02,  8.75501073e-03,  7.38872543e-03,\n",
       "         0.00000000e+00,  9.23696498e-03, -6.41524189e-04],\n",
       "       [ 1.34793410e-02, -6.99351700e-03,  4.14314017e-03,\n",
       "        -9.23696498e-03,  0.00000000e+00, -1.85330613e-02],\n",
       "       [ 3.28612276e-04,  2.86698504e-02, -2.99796839e-02,\n",
       "         6.41524189e-04,  1.85330613e-02,  0.00000000e+00]])"
      ]
     },
     "execution_count": 345,
     "metadata": {},
     "output_type": "execute_result"
    }
   ],
   "source": [
    "gtn2.C_m[:6,:6]"
   ]
  },
  {
   "cell_type": "code",
   "execution_count": 133,
   "metadata": {},
   "outputs": [
    {
     "name": "stdout",
     "output_type": "stream",
     "text": [
      "117 ms ± 1.04 ms per loop (mean ± std. dev. of 7 runs, 10 loops each)\n"
     ]
    }
   ],
   "source": [
    "%timeit P_contraction_2(gtn2.C_m,op,[0,1],np.arange(2,gtn2.C_m.shape[0]),)"
   ]
  },
  {
   "cell_type": "code",
   "execution_count": 262,
   "metadata": {},
   "outputs": [
    {
     "name": "stdout",
     "output_type": "stream",
     "text": [
      "Timer unit: 1e-09 s\n",
      "\n",
      "Total time: 0.122 s\n",
      "File: /home/hnpan/GTN/utils.py\n",
      "Function: P_contraction_2 at line 38\n",
      "\n",
      "Line #      Hits         Time  Per Hit   % Time  Line Contents\n",
      "==============================================================\n",
      "    38                                           def P_contraction_2(Gamma,Upsilon,ix,ix_bar,Gamma_like=None,reset_Gamma_like=True):\n",
      "    39                                               \"\"\" same analytical expression for contraction as _contraction(), differences:\n",
      "    40                                               1. assume intput and output tensor have the same shape, thus, it should be Gamma(L,R) -- Upsilon (L,R), where Gamma_R = Upsilon_L =Upsilon_R, such that in-place operator is applied here.\n",
      "    41                                               2. manually compute the inverse of mat2 before\n",
      "    42                                               Here, Gamma is m, and proj is Upsilon\n",
      "    43                                               Assume Upsilon = [A,B;C,D], the logic is to first compute C= (1+ Gamma_RR @ Upsilon_LL)^{-1}, (where then B=-C.T) \n",
      "    44                                               then A= Upsilon_LL @C, D= Gamma_RR@ C.T\n",
      "    45                                               ---\n",
      "    46                                               reset_Gamma_like: in usual case, because each application of the gate will be like the brick layer, therefore, ix_bar will overwrite the previous. However, for the staircase pattern, one should reset it. \n",
      "    47                                               \"\"\"\n",
      "    48         1     485076.0 485076.0      0.4      Gamma_RR=Gamma[np.ix_(ix,ix)]\n",
      "    49         1    2552319.0 2552319.0      2.1      Gamma_LR=Gamma[np.ix_(ix_bar,ix)]\n",
      "    50         1       3627.0   3627.0      0.0      Upsilon_LL=Upsilon[:len(ix),:len(ix)]\n",
      "    51         1       1453.0   1453.0      0.0      Upsilon_RR=Upsilon[len(ix):,len(ix):]\n",
      "    52         1       1123.0   1123.0      0.0      Upsilon_RL=Upsilon[len(ix):,:len(ix)]\n",
      "    53         1      26171.0  26171.0      0.0      eye=np.eye(len(ix))\n",
      "    54         1        220.0    220.0      0.0      try: \n",
      "    55         1     793522.0 793522.0      0.7          C=nla.inv(Gamma_RR@Upsilon_LL+eye)\n",
      "    56                                               except:\n",
      "    57                                                   raise ValueError(\"the contraction will lead to a vanishing state\")\n",
      "    58         1     166451.0 166451.0      0.1      A=Upsilon_LL@C\n",
      "    59         1     168675.0 168675.0      0.1      D=Gamma_RR@C.T\n",
      "    60         1   15181906.0 15181906.0     12.4      tmp=Gamma_LR@A@Gamma_LR.T\n",
      "    61         1       1062.0   1062.0      0.0      if Gamma_like is None:\n",
      "    62         1    9727193.0 9727193.0      8.0          Gamma_like=np.zeros_like(Gamma)\n",
      "    63         1       1032.0   1032.0      0.0      if reset_Gamma_like:\n",
      "    64         1    3575464.0 3575464.0      2.9          Gamma_like.fill(0)\n",
      "    65         1   56243323.0 56243323.0     46.1      Gamma_like[np.ix_(ix_bar,ix_bar)]=tmp\n",
      "    66         1    4020994.0 4020994.0      3.3      Gamma+=Gamma_like\n",
      "    67         1    2507642.0 2507642.0      2.1      Gamma[np.ix_(ix,ix_bar)]=Upsilon_RL@C@Gamma_LR.T\n",
      "    68         1     354124.0 354124.0      0.3      Gamma[np.ix_(ix,ix)]=Upsilon_RR+Upsilon_RL@D@Upsilon_RL.T\n",
      "    69         1    4854554.0 4854554.0      4.0      Gamma[np.ix_(ix_bar,ix)]=-Gamma[np.ix_(ix,ix_bar)].T\n",
      "    70                                               # why is it neccessary?\n",
      "    71                                               # Gamma-=Gamma.T\n",
      "    72                                               # Gamma/=2\n",
      "    73                                           \n",
      "    74         1   21334276.0 21334276.0     17.5      if np.abs(contract(Gamma,[0,1],Gamma,[1,0],[0])+1).max()>1e-10:\n",
      "    75                                                   Gamma[:,:]=purify(Gamma)\n",
      "    76                                                   Gamma-=Gamma.T\n",
      "    77                                                   Gamma/=2"
     ]
    }
   ],
   "source": [
    "%lprun -f P_contraction_2 P_contraction_2(gtn2.C_m,op,ix,ix_bar,)"
   ]
  },
  {
   "cell_type": "markdown",
   "metadata": {},
   "source": [
    "# Sparse"
   ]
  },
  {
   "cell_type": "code",
   "execution_count": 337,
   "metadata": {},
   "outputs": [],
   "source": [
    "gtn2_sp=GTN2_sp(Lx=20,Ly=20,history=False,random_init=True,random_U1=False,bcx=1,bcy=1,seed=0,orbit=2,nshell=2,layer=2,)\n"
   ]
  },
  {
   "cell_type": "code",
   "execution_count": 338,
   "metadata": {},
   "outputs": [
    {
     "data": {
      "text/plain": [
       "matrix([[ 0.        , -0.01007223,  0.01806261, -0.02036222, -0.00458617,\n",
       "         -0.02050501],\n",
       "        [ 0.01007223,  0.        ,  0.00511817,  0.00798076,  0.0144765 ,\n",
       "         -0.02004028],\n",
       "        [-0.01806261, -0.00511817,  0.        , -0.00738873, -0.00414314,\n",
       "          0.02997968],\n",
       "        [ 0.02036222, -0.00798076,  0.00738873,  0.        ,  0.00923696,\n",
       "         -0.00064152],\n",
       "        [ 0.00458617, -0.0144765 ,  0.00414314, -0.00923696,  0.        ,\n",
       "         -0.01853306],\n",
       "        [ 0.02050501,  0.02004028, -0.02997968,  0.00064152,  0.01853306,\n",
       "          0.        ]])"
      ]
     },
     "execution_count": 338,
     "metadata": {},
     "output_type": "execute_result"
    }
   ],
   "source": [
    "(gtn2_sp.C_m)[:6,:6].todense()"
   ]
  },
  {
   "cell_type": "code",
   "execution_count": 339,
   "metadata": {},
   "outputs": [],
   "source": [
    "op_csr=sp.csr_matrix(kraus([0,1/np.sqrt(2),1/np.sqrt(2)]))\n",
    "ix = np.arange(0,2).tolist()\n",
    "ix_bar = np.arange(2,gtn2_sp.C_m.shape[0]).tolist()\n",
    "\n",
    "\n",
    "# op_csr=sp.csr_matrix(op_single_mode(((1,)*50,1)))\n",
    "# ix = np.arange(0,100).tolist()\n",
    "# ix_bar = np.arange(100,gtn2_sp.C_m.shape[0]).tolist()"
   ]
  },
  {
   "cell_type": "code",
   "execution_count": 340,
   "metadata": {},
   "outputs": [],
   "source": [
    "zz=P_contraction_sp(gtn2_sp.C_m,op_csr,ix,ix_bar,)"
   ]
  },
  {
   "cell_type": "code",
   "execution_count": null,
   "metadata": {},
   "outputs": [],
   "source": [
    "np.allclose(gtn2_sp.C_m,gtn2.C_m)"
   ]
  },
  {
   "cell_type": "code",
   "execution_count": 346,
   "metadata": {},
   "outputs": [
    {
     "data": {
      "text/plain": [
       "True"
      ]
     },
     "execution_count": 346,
     "metadata": {},
     "output_type": "execute_result"
    }
   ],
   "source": [
    "np.allclose(zz.todense(),gtn2.C_m)"
   ]
  },
  {
   "cell_type": "code",
   "execution_count": 298,
   "metadata": {},
   "outputs": [
    {
     "name": "stdout",
     "output_type": "stream",
     "text": [
      "5.14 ms ± 31.2 µs per loop (mean ± std. dev. of 7 runs, 100 loops each)\n"
     ]
    }
   ],
   "source": [
    "%timeit P_contraction_sp(gtn2_sp.C_m,op_csr,ix,ix_bar,)"
   ]
  },
  {
   "cell_type": "code",
   "execution_count": 336,
   "metadata": {},
   "outputs": [
    {
     "name": "stdout",
     "output_type": "stream",
     "text": [
      "Timer unit: 1e-09 s\n",
      "\n",
      "Total time: 1.81744 s\n",
      "File: /tmp/ipykernel_1522621/4221207934.py\n",
      "Function: P_contraction_sp at line 23\n",
      "\n",
      "Line #      Hits         Time  Per Hit   % Time  Line Contents\n",
      "==============================================================\n",
      "    23                                           def P_contraction_sp(Gamma,Upsilon,ix,ix_bar,Gamma_like=None,reset_Gamma_like=True):\n",
      "    24                                               \"\"\" same analytical expression for contraction as _contraction(), differences:\n",
      "    25                                               1. assume intput and output tensor have the same shape, thus, it should be Gamma(L,R) -- Upsilon (L,R), where Gamma_R = Upsilon_L =Upsilon_R, such that in-place operator is applied here.\n",
      "    26                                               2. manually compute the inverse of mat2 before\n",
      "    27                                               Here, Gamma is m, and proj is Upsilon\n",
      "    28                                               Assume Upsilon = [A,B;C,D], the logic is to first compute C= (1+ Gamma_RR @ Upsilon_LL)^{-1}, (where then B=-C.T) \n",
      "    29                                               then A= Upsilon_LL @C, D= Gamma_RR@ C.T\n",
      "    30                                               ---\n",
      "    31                                               reset_Gamma_like: in usual case, because each application of the gate will be like the brick layer, therefore, ix_bar will overwrite the previous. However, for the staircase pattern, one should reset it. \n",
      "    32                                               \"\"\"\n",
      "    33         1    2435801.0 2435801.0      0.1      Gamma_RR=Gamma[np.ix_(ix,ix)]\n",
      "    34         1   41975503.0 41975503.0      2.3      Gamma_LR=Gamma[np.ix_(ix_bar,ix)]\n",
      "    35         1   58080902.0 58080902.0      3.2      Gamma_LL=Gamma[np.ix_(ix_bar,ix_bar)]\n",
      "    36         1     145051.0 145051.0      0.0      Upsilon_LL=Upsilon[:len(ix),:len(ix)]\n",
      "    37         1      71729.0  71729.0      0.0      Upsilon_RR=Upsilon[len(ix):,len(ix):]\n",
      "    38         1      66789.0  66789.0      0.0      Upsilon_RL=Upsilon[len(ix):,:len(ix)]\n",
      "    39         1     144740.0 144740.0      0.0      eye=sp.eye(len(ix))\n",
      "    40         1        111.0    111.0      0.0      try: \n",
      "    41         1    1065972.0 1065972.0      0.1          core=(Gamma_RR@Upsilon_LL+eye).todense()\n",
      "    42         1    1627247.0 1627247.0      0.1          C=sp.csr_matrix(nla.inv(core))\n",
      "    43                                               except:\n",
      "    44                                                   raise ValueError(\"the contraction will lead to a vanishing state\")\n",
      "    45         1    1534187.0 1534187.0      0.1      A=Upsilon_LL@C\n",
      "    46         1    3054527.0 3054527.0      0.2      D=Gamma_RR@C.T\n",
      "    47         1 1261638592.0 1261638592.0     69.4      tmp_bb=Gamma_LR@A@Gamma_LR.T + Gamma_LL\n",
      "    48         1   42146704.0 42146704.0      2.3      tmp_b=Upsilon_RL@C@Gamma_LR.T\n",
      "    49         1    1812095.0 1812095.0      0.1      tmp=Upsilon_RR+Upsilon_RL@D@Upsilon_RL.T\n",
      "    50         1  401636848.0 401636848.0     22.1      return sparse_ix_bar_ix_set(ix,ix_bar,tmp_bb,tmp_b,tmp,Gamma.shape)\n",
      "    51                                           \n",
      "    52                                           \n",
      "    53                                           \n",
      "    54                                           \n",
      "    55                                               # Psi_LL=sparse_ix_set(Gamma,ix_bar,ix_bar,tmp_bb )\n",
      "    56                                               # Psi_RL=sparse_ix_set(Gamma,ix,ix_bar,tmp_b)\n",
      "    57                                               # Psi_RR=sparse_ix_set(Gamma,ix,ix,tmp)\n",
      "    58                                               # Psi_LR=-Psi_RL.T\n",
      "    59                                               # return Psi_LL+Psi_LR+Psi_RL+Psi_RR"
     ]
    }
   ],
   "source": [
    "%lprun -f P_contraction_sp P_contraction_sp(gtn2_sp.C_m,op_csr,ix,ix_bar,)"
   ]
  },
  {
   "cell_type": "code",
   "execution_count": 190,
   "metadata": {},
   "outputs": [
    {
     "data": {
      "text/plain": [
       "<Compressed Sparse Row sparse matrix of dtype 'float64'\n",
       "\twith 1800 stored elements and shape (1800, 1800)>"
      ]
     },
     "execution_count": 190,
     "metadata": {},
     "output_type": "execute_result"
    }
   ],
   "source": [
    "gtn2_sp.C_m"
   ]
  },
  {
   "cell_type": "code",
   "execution_count": 193,
   "metadata": {},
   "outputs": [
    {
     "data": {
      "text/plain": [
       "True"
      ]
     },
     "execution_count": 193,
     "metadata": {},
     "output_type": "execute_result"
    }
   ],
   "source": [
    "np.allclose(gtn2.C_m,gtn2_sp.C_m.todense())"
   ]
  },
  {
   "cell_type": "code",
   "execution_count": 213,
   "metadata": {},
   "outputs": [],
   "source": [
    "r,c=sparse_ix_set(gtn2_sp.C_m,[0,1],[1,2],None)"
   ]
  },
  {
   "cell_type": "code",
   "execution_count": 214,
   "metadata": {},
   "outputs": [
    {
     "data": {
      "text/plain": [
       "(array([[0],\n",
       "        [1]]),\n",
       " array([[1, 2]]))"
      ]
     },
     "execution_count": 214,
     "metadata": {},
     "output_type": "execute_result"
    }
   ],
   "source": [
    "r,c"
   ]
  },
  {
   "cell_type": "code",
   "execution_count": 53,
   "metadata": {},
   "outputs": [],
   "source": [
    "zz=sp.csr_matrix([[1,0,3],[0,4,5],[7,8,0]])"
   ]
  },
  {
   "cell_type": "code",
   "execution_count": 54,
   "metadata": {},
   "outputs": [
    {
     "name": "stdout",
     "output_type": "stream",
     "text": [
      "<Compressed Sparse Row sparse matrix of dtype 'int64'\n",
      "\twith 6 stored elements and shape (3, 3)>\n",
      "  Coords\tValues\n",
      "  (0, 0)\t1\n",
      "  (0, 2)\t3\n",
      "  (1, 1)\t4\n",
      "  (1, 2)\t5\n",
      "  (2, 0)\t7\n",
      "  (2, 1)\t8\n"
     ]
    }
   ],
   "source": [
    "print(zz)"
   ]
  },
  {
   "cell_type": "code",
   "execution_count": 37,
   "metadata": {},
   "outputs": [
    {
     "data": {
      "text/plain": [
       "(array([[0],\n",
       "        [2]]),\n",
       " array([[0, 2]]))"
      ]
     },
     "execution_count": 37,
     "metadata": {},
     "output_type": "execute_result"
    }
   ],
   "source": [
    "np.ix_([0,2],[0,2])"
   ]
  },
  {
   "cell_type": "code",
   "execution_count": 57,
   "metadata": {},
   "outputs": [],
   "source": [
    "ix1,ix2=[0,2],[0,2]"
   ]
  },
  {
   "cell_type": "code",
   "execution_count": 26,
   "metadata": {},
   "outputs": [
    {
     "name": "stdout",
     "output_type": "stream",
     "text": [
      "<Compressed Sparse Row sparse matrix of dtype 'int64'\n",
      "\twith 3 stored elements and shape (2, 2)>\n",
      "  Coords\tValues\n",
      "  (0, 0)\t1\n",
      "  (0, 1)\t3\n",
      "  (1, 0)\t7\n"
     ]
    }
   ],
   "source": [
    "print(zz[[[0],[2]],[0,2]])"
   ]
  },
  {
   "cell_type": "code",
   "execution_count": 55,
   "metadata": {},
   "outputs": [],
   "source": [
    "newz=zz[[[0],[2]],[0,2]]*2"
   ]
  },
  {
   "cell_type": "code",
   "execution_count": 64,
   "metadata": {},
   "outputs": [],
   "source": [
    "newz_coo=newz.tocoo()"
   ]
  },
  {
   "cell_type": "code",
   "execution_count": 65,
   "metadata": {},
   "outputs": [
    {
     "name": "stdout",
     "output_type": "stream",
     "text": [
      "<COOrdinate sparse matrix of dtype 'int64'\n",
      "\twith 3 stored elements and shape (2, 2)>\n",
      "  Coords\tValues\n",
      "  (0, 0)\t2\n",
      "  (0, 1)\t6\n",
      "  (1, 0)\t14\n"
     ]
    }
   ],
   "source": [
    "print(newz_coo)"
   ]
  },
  {
   "cell_type": "code",
   "execution_count": 68,
   "metadata": {},
   "outputs": [
    {
     "data": {
      "text/plain": [
       "[0, 2]"
      ]
     },
     "execution_count": 68,
     "metadata": {},
     "output_type": "execute_result"
    }
   ],
   "source": [
    "(ix1)"
   ]
  },
  {
   "cell_type": "code",
   "execution_count": 74,
   "metadata": {},
   "outputs": [
    {
     "data": {
      "text/plain": [
       "array([ 2,  6, 14])"
      ]
     },
     "execution_count": 74,
     "metadata": {},
     "output_type": "execute_result"
    }
   ],
   "source": [
    "newz_coo.data"
   ]
  },
  {
   "cell_type": "code",
   "execution_count": 73,
   "metadata": {},
   "outputs": [
    {
     "data": {
      "text/plain": [
       "array([0, 0, 2])"
      ]
     },
     "execution_count": 73,
     "metadata": {},
     "output_type": "execute_result"
    }
   ],
   "source": [
    "np.array(ix1)[newz_coo.row]"
   ]
  },
  {
   "cell_type": "code",
   "execution_count": 35,
   "metadata": {},
   "outputs": [],
   "source": [
    "zz[[[0],[2]],[0,2]] =newz"
   ]
  },
  {
   "cell_type": "code",
   "execution_count": 39,
   "metadata": {},
   "outputs": [
    {
     "ename": "SyntaxError",
     "evalue": "invalid syntax (103160482.py, line 1)",
     "output_type": "error",
     "traceback": [
      "\u001b[0;36m  Cell \u001b[0;32mIn[39], line 1\u001b[0;36m\u001b[0m\n\u001b[0;31m    zz[*np.ix_([0,2],[0,2])]\u001b[0m\n\u001b[0m       ^\u001b[0m\n\u001b[0;31mSyntaxError\u001b[0m\u001b[0;31m:\u001b[0m invalid syntax\n"
     ]
    }
   ],
   "source": [
    "zz[*np.ix_([0,2],[0,2])]"
   ]
  },
  {
   "cell_type": "code",
   "execution_count": 79,
   "metadata": {},
   "outputs": [
    {
     "name": "stdout",
     "output_type": "stream",
     "text": [
      "<COOrdinate sparse matrix of dtype 'int64'\n",
      "\twith 3 stored elements and shape (3, 3)>\n",
      "  Coords\tValues\n",
      "  (0, 0)\t2\n",
      "  (0, 2)\t6\n",
      "  (2, 0)\t14\n"
     ]
    }
   ],
   "source": [
    "print(sparse_ix_set(zz,[0,2],[0,2],newz))"
   ]
  },
  {
   "cell_type": "markdown",
   "metadata": {},
   "source": [
    "# Code"
   ]
  },
  {
   "cell_type": "code",
   "execution_count": 272,
   "metadata": {},
   "outputs": [
    {
     "data": {
      "text/plain": [
       "<COOrdinate sparse matrix of dtype 'float64'\n",
       "\twith 3200 stored elements and shape (3200, 3200)>"
      ]
     },
     "execution_count": 272,
     "metadata": {},
     "output_type": "execute_result"
    }
   ],
   "source": [
    "zz.tocoo().T"
   ]
  },
  {
   "cell_type": "code",
   "execution_count": 326,
   "metadata": {},
   "outputs": [],
   "source": []
  },
  {
   "cell_type": "code",
   "execution_count": 161,
   "metadata": {},
   "outputs": [
    {
     "data": {
      "text/plain": [
       "<Compressed Sparse Row sparse matrix of dtype 'float64'\n",
       "\twith 1 stored elements and shape (1, 1)>"
      ]
     },
     "execution_count": 161,
     "metadata": {},
     "output_type": "execute_result"
    }
   ],
   "source": [
    "sp.csr_matrix(gtn2_sp.C_m.shape[0],dtype=float)"
   ]
  },
  {
   "cell_type": "markdown",
   "metadata": {},
   "source": [
    "# Run"
   ]
  },
  {
   "cell_type": "code",
   "execution_count": 67,
   "metadata": {},
   "outputs": [],
   "source": [
    "gtn2_sp=GTN2_sp(Lx=20,Ly=20,history=False,random_init=True,random_U1=True,bcx=1,bcy=1,seed=0,orbit=2,nshell=2,layer=2,)\n",
    "\n",
    "mu_list=[1]\n",
    "gtn2_sp.a_i={}\n",
    "gtn2_sp.b_i={}\n",
    "gtn2_sp.A_i={}\n",
    "gtn2_sp.B_i={}\n",
    "for mu in mu_list:\n",
    "    gtn2_sp.a_i[mu],gtn2_sp.b_i[mu] = amplitude(gtn2_sp.nshell,tau=[0,1],geometry='square',lower=True,mu=mu,C=2)\n",
    "    gtn2_sp.A_i[mu],gtn2_sp.B_i[mu] = amplitude(gtn2_sp.nshell,tau=[1,0],geometry='square',lower=False,mu=mu,C=2)"
   ]
  },
  {
   "cell_type": "code",
   "execution_count": 68,
   "metadata": {},
   "outputs": [
    {
     "name": "stderr",
     "output_type": "stream",
     "text": [
      "100%|██████████| 400/400 [08:17<00:00,  1.24s/it]\n"
     ]
    }
   ],
   "source": [
    "measure_feedback_layer(gtn2_sp)"
   ]
  },
  {
   "cell_type": "code",
   "execution_count": 21,
   "metadata": {},
   "outputs": [
    {
     "data": {
      "text/plain": [
       "array([[ 0.  ,  0.47,  0.02, ...,  0.  , -0.  , -0.  ],\n",
       "       [-0.47,  0.  , -0.02, ..., -0.  ,  0.  ,  0.  ],\n",
       "       [-0.02,  0.02,  0.  , ..., -0.  , -0.  ,  0.  ],\n",
       "       ...,\n",
       "       [-0.  ,  0.  ,  0.  , ...,  0.  ,  0.  ,  0.  ],\n",
       "       [ 0.  , -0.  ,  0.  , ..., -0.  ,  0.  , -1.  ],\n",
       "       [ 0.  , -0.  , -0.  , ..., -0.  ,  1.  , -0.  ]])"
      ]
     },
     "execution_count": 21,
     "metadata": {},
     "output_type": "execute_result"
    }
   ],
   "source": [
    "np.round(gtn2_sp.C_m,2)"
   ]
  },
  {
   "cell_type": "code",
   "execution_count": 61,
   "metadata": {},
   "outputs": [
    {
     "name": "stdout",
     "output_type": "stream",
     "text": [
      "Timer unit: 1e-09 s\n",
      "\n",
      "Total time: 0.022451 s\n",
      "File: /home/hnpan/GTN/utils_sp.py\n",
      "Function: P_contraction_sp at line 34\n",
      "\n",
      "Line #      Hits         Time  Per Hit   % Time  Line Contents\n",
      "==============================================================\n",
      "    34                                           def P_contraction_sp(Gamma,Upsilon,ix,ix_bar,Gamma_like=None,reset_Gamma_like=True):\n",
      "    35                                               \"\"\" same analytical expression for contraction as _contraction(), differences:\n",
      "    36                                               1. assume intput and output tensor have the same shape, thus, it should be Gamma(L,R) -- Upsilon (L,R), where Gamma_R = Upsilon_L =Upsilon_R, such that in-place operator is applied here.\n",
      "    37                                               2. manually compute the inverse of mat2 before\n",
      "    38                                               Here, Gamma is m, and proj is Upsilon\n",
      "    39                                               Assume Upsilon = [A,B;C,D], the logic is to first compute C= (1+ Gamma_RR @ Upsilon_LL)^{-1}, (where then B=-C.T) \n",
      "    40                                               then A= Upsilon_LL @C, D= Gamma_RR@ C.T\n",
      "    41                                               ---\n",
      "    42                                               reset_Gamma_like: in usual case, because each application of the gate will be like the brick layer, therefore, ix_bar will overwrite the previous. However, for the staircase pattern, one should reset it. \n",
      "    43                                               \"\"\"\n",
      "    44         2     449049.0 224524.5      2.0      Gamma_RR=Gamma[np.ix_(ix,ix)]\n",
      "    45         2     431855.0 215927.5      1.9      Gamma_LR=Gamma[np.ix_(ix_bar,ix)]\n",
      "    46         2     439079.0 219539.5      2.0      Gamma_LL=Gamma[np.ix_(ix_bar,ix_bar)]\n",
      "    47         2     228442.0 114221.0      1.0      Upsilon_LL=Upsilon[:len(ix),:len(ix)]\n",
      "    48         2     211519.0 105759.5      0.9      Upsilon_RR=Upsilon[len(ix):,len(ix):]\n",
      "    49         2     196590.0  98295.0      0.9      Upsilon_RL=Upsilon[len(ix):,:len(ix)]\n",
      "    50         2     202732.0 101366.0      0.9      eye=sp.eye(len(ix))\n",
      "    51         2        231.0    115.5      0.0      try: \n",
      "    52         2    2402788.0 1201394.0     10.7          core=(Gamma_RR@Upsilon_LL+eye).todense()\n",
      "    53         2    1229778.0 614889.0      5.5          C=sp.csr_matrix(nla.inv(core))\n",
      "    54                                               except:\n",
      "    55                                                   raise ValueError(\"the contraction will lead to a vanishing state\")\n",
      "    56         2    2858167.0 1429083.5     12.7      A=Upsilon_LL@C\n",
      "    57         2    1902970.0 951485.0      8.5      D=Gamma_RR@C.T\n",
      "    58         2     672380.0 336190.0      3.0      tmp_bb=Gamma_LR@A@Gamma_LR.T + Gamma_LL\n",
      "    59         2    3192495.0 1596247.5     14.2      tmp_b=Upsilon_RL@C@Gamma_LR.T\n",
      "    60         2    6536351.0 3268175.5     29.1      tmp=Upsilon_RR+Upsilon_RL@D@Upsilon_RL.T\n",
      "    61         2    1496565.0 748282.5      6.7      return sparse_ix_bar_ix_set(ix,ix_bar,tmp_bb,tmp_b,tmp,Gamma.shape)\n",
      "    62                                           \n",
      "    63                                           \n",
      "    64                                           \n",
      "    65                                           \n",
      "    66                                               # Psi_LL=sparse_ix_set(Gamma,ix_bar,ix_bar,tmp_bb )\n",
      "    67                                               # Psi_RL=sparse_ix_set(Gamma,ix,ix_bar,tmp_b)\n",
      "    68                                               # Psi_RR=sparse_ix_set(Gamma,ix,ix,tmp)\n",
      "    69                                               # Psi_LR=-Psi_RL.T\n",
      "    70                                               # return Psi_LL+Psi_LR+Psi_RL+Psi_RR"
     ]
    }
   ],
   "source": [
    "%lprun -f P_contraction_sp (gtn2_sp.measure_feedback(ij = [0,0]))"
   ]
  },
  {
   "cell_type": "code",
   "execution_count": 26,
   "metadata": {},
   "outputs": [
    {
     "data": {
      "text/plain": [
       "matrix([[ 0.  ,  0.47,  0.02, ...,  0.  ,  0.  ,  0.  ],\n",
       "        [-0.47,  0.  , -0.02, ...,  0.  ,  0.  ,  0.  ],\n",
       "        [-0.02,  0.02,  0.  , ...,  0.  ,  0.  ,  0.  ],\n",
       "        ...,\n",
       "        [ 0.  ,  0.  ,  0.  , ...,  0.  ,  0.  ,  0.  ],\n",
       "        [ 0.  ,  0.  ,  0.  , ...,  0.  ,  0.  , -1.  ],\n",
       "        [ 0.  ,  0.  ,  0.  , ...,  0.  ,  1.  ,  0.  ]])"
      ]
     },
     "execution_count": 26,
     "metadata": {},
     "output_type": "execute_result"
    }
   ],
   "source": [
    "np.round(gtn2_sp.C_m,2).todense()"
   ]
  },
  {
   "cell_type": "code",
   "execution_count": 77,
   "metadata": {},
   "outputs": [],
   "source": [
    "gtn2=GTN2(Lx=20,Ly=20,history=False,random_init=True,random_U1=True,bcx=1,bcy=1,seed=0,orbit=2,nshell=2,layer=2,)\n",
    "mu_list=[1]\n",
    "gtn2.a_i={}\n",
    "gtn2.b_i={}\n",
    "gtn2.A_i={}\n",
    "gtn2.B_i={}\n",
    "for mu in mu_list:\n",
    "    gtn2.a_i[mu],gtn2.b_i[mu] = amplitude(gtn2.nshell,tau=[0,1],geometry='square',lower=True,mu=mu,C=2)\n",
    "    gtn2.A_i[mu],gtn2.B_i[mu] = amplitude(gtn2.nshell,tau=[1,0],geometry='square',lower=False,mu=mu,C=2)"
   ]
  },
  {
   "cell_type": "code",
   "execution_count": null,
   "metadata": {},
   "outputs": [],
   "source": [
    "randomize(gtn2)"
   ]
  },
  {
   "cell_type": "code",
   "execution_count": null,
   "metadata": {},
   "outputs": [],
   "source": [
    "measure_feedback_layer(gtn2)"
   ]
  },
  {
   "cell_type": "code",
   "execution_count": 79,
   "metadata": {},
   "outputs": [
    {
     "name": "stdout",
     "output_type": "stream",
     "text": [
      "Timer unit: 1e-09 s\n",
      "\n",
      "Total time: 0.106975 s\n",
      "File: /home/hnpan/GTN/GTN2.py\n",
      "Function: measure at line 99\n",
      "\n",
      "Line #      Hits         Time  Per Hit   % Time  Line Contents\n",
      "==============================================================\n",
      "    99                                               def measure(self,n,ix):\n",
      "   100                                                   ''' Majorana site index for ix, \n",
      "   101                                                   n should be a scalar'''\n",
      "   102                                           \n",
      "   103         1       2044.0   2044.0      0.0          Psi=self.C_m\n",
      "   104         1      17674.0  17674.0      0.0          proj=kraus(n)\n",
      "   105         1     384443.0 384443.0      0.4          ix_bar=np.array(list(self.full_ix-set(ix)))\n",
      "   106                                           \n",
      "   107                                                   # Psi=P_contraction(m,proj,ix,ix_bar)\n",
      "   108         1  106563847.0 106563847.0     99.6          P_contraction_2(Psi,proj,ix,ix_bar,self.Gamma_like,reset_Gamma_like=False)\n",
      "   109                                           \n",
      "   110                                                   # assert np.abs(np.trace(Psi))<1e-5, \"Not trace zero {:e}\".format(np.trace(Psi))\n",
      "   111         1       2795.0   2795.0      0.0          if self.history:\n",
      "   112                                                       self.C_m_history.append(Psi.copy())\n",
      "   113                                                       self.n_history.append(n)\n",
      "   114                                                       self.i_history.append(ix)\n",
      "   115                                                       # self.MI_history.append(self.mutual_information_cross_ratio())\n",
      "   116                                                   else:\n",
      "   117         1       2265.0   2265.0      0.0              self.C_m_history=[Psi]\n",
      "   118         1       1173.0   1173.0      0.0              self.n_history=[n]\n",
      "   119         1       1142.0   1142.0      0.0              self.i_history=[ix]\n",
      "   120                                                       # self.MI_history=[self.mutual_information_cross_ratio()]"
     ]
    }
   ],
   "source": [
    "%lprun -f gtn2.measure (gtn2.randomize([0,1]))"
   ]
  },
  {
   "cell_type": "code",
   "execution_count": 107,
   "metadata": {},
   "outputs": [
    {
     "name": "stderr",
     "output_type": "stream",
     "text": [
      "100%|██████████| 288/288 [00:02<00:00, 106.61it/s]\n"
     ]
    }
   ],
   "source": [
    "randomize(gtn2,measure=False)\n",
    "# randomize(gtn2,measure=False)"
   ]
  },
  {
   "cell_type": "code",
   "execution_count": 71,
   "metadata": {},
   "outputs": [
    {
     "data": {
      "text/plain": [
       "True"
      ]
     },
     "execution_count": 71,
     "metadata": {},
     "output_type": "execute_result"
    }
   ],
   "source": [
    "np.allclose(gtn2.C_m,gtn2_sp.C_m.todense())"
   ]
  },
  {
   "cell_type": "code",
   "execution_count": null,
   "metadata": {},
   "outputs": [],
   "source": []
  },
  {
   "cell_type": "code",
   "execution_count": null,
   "metadata": {},
   "outputs": [],
   "source": []
  },
  {
   "cell_type": "code",
   "execution_count": 108,
   "metadata": {},
   "outputs": [
    {
     "data": {
      "text/plain": [
       "<matplotlib.image.AxesImage at 0x7dc323f528f0>"
      ]
     },
     "execution_count": 108,
     "metadata": {},
     "output_type": "execute_result"
    },
    {
     "data": {
      "image/png": "[encoded data removed]",
      "text/plain": [
       "<Figure size 640x480 with 1 Axes>"
      ]
     },
     "metadata": {},
     "output_type": "display_data"
    }
   ],
   "source": [
    "plt.imshow(gtn2.C_m[gtn2.L*2:gtn2.L*2+10,gtn2.L*2:gtn2.L*2+10])"
   ]
  },
  {
   "cell_type": "code",
   "execution_count": 16,
   "metadata": {},
   "outputs": [
    {
     "name": "stderr",
     "output_type": "stream",
     "text": [
      "100%|██████████| 225/225 [00:25<00:00,  8.97it/s]\n"
     ]
    }
   ],
   "source": [
    "measure_feedback_layer(gtn2)"
   ]
  },
  {
   "cell_type": "code",
   "execution_count": 109,
   "metadata": {},
   "outputs": [],
   "source": [
    "val,vec=np.linalg.eigh(gtn2.C_m/1j)"
   ]
  },
  {
   "cell_type": "code",
   "execution_count": 20,
   "metadata": {},
   "outputs": [],
   "source": [
    "from opt_einsum import contract"
   ]
  },
  {
   "cell_type": "code",
   "execution_count": 116,
   "metadata": {},
   "outputs": [
    {
     "data": {
      "text/plain": [
       "6.217248937900877e-15"
      ]
     },
     "execution_count": 116,
     "metadata": {},
     "output_type": "execute_result"
    }
   ],
   "source": [
    "np.abs(contract(gtn2.C_m,[0,1],gtn2.C_m,[1,0],[0])+1).max()"
   ]
  },
  {
   "cell_type": "code",
   "execution_count": 111,
   "metadata": {},
   "outputs": [
    {
     "data": {
      "text/plain": [
       "array([-1., -1., -1., ...,  1.,  1.,  1.])"
      ]
     },
     "execution_count": 111,
     "metadata": {},
     "output_type": "execute_result"
    }
   ],
   "source": [
    "val"
   ]
  },
  {
   "cell_type": "code",
   "execution_count": null,
   "metadata": {},
   "outputs": [],
   "source": []
  }
 ],
 "metadata": {
  "kernelspec": {
   "display_name": "base",
   "language": "python",
   "name": "python3"
  },
  "language_info": {
   "codemirror_mode": {
    "name": "ipython",
    "version": 3
   },
   "file_extension": ".py",
   "mimetype": "text/x-python",
   "name": "python",
   "nbconvert_exporter": "python",
   "pygments_lexer": "ipython3",
   "version": "3.10.9"
  }
 },
 "nbformat": 4,
 "nbformat_minor": 2
}
